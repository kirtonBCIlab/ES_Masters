{
 "cells": [
  {
   "cell_type": "markdown",
   "metadata": {},
   "source": [
    "# This is a place to hold visualization code to decrease clutter in other scripts"
   ]
  },
  {
   "cell_type": "markdown",
   "metadata": {},
   "source": [
    "# 1. Visualize PSD for \"On\" Epochs\n",
    "- this should be placed after the \"Compute PSD for all epochs\" cell in zscore.ipynb"
   ]
  },
  {
   "cell_type": "code",
   "execution_count": null,
   "metadata": {},
   "outputs": [],
   "source": [
    "# Plot settings\n",
    "plot_psd = True   # Enable to see plots\n",
    "f_limits = [4, 35]  # Frequency limits for the plots [min, max][Hz]\n",
    "file_to_plot = 0    # Select index of file to be plotted \n",
    "stimulus_index = 2  # Select index of stimulus to be plotted\n",
    "\n",
    "if plot_psd:\n",
    "    # Get the stimulus label by index\n",
    "    stim_label = list(eeg_f[file_to_plot].keys())[stimulus_index]\n",
    "    \n",
    "    # Mask for frequency limits\n",
    "    fmask = (eeg_f[file_to_plot][stim_label][0] >= f_limits[0]) & (eeg_f[file_to_plot][stim_label][0] <= f_limits[1])\n",
    "    temp_freq = eeg_f[file_to_plot][stim_label][0][fmask]\n",
    "\n",
    "    # Number of epochs\n",
    "    num_epochs = len(eeg_pxx[file_to_plot][stim_label])\n",
    "\n",
    "    # Create subplots dynamically based on the number of epochs plus one for the average\n",
    "    fig, ax = plt.subplots(num_epochs + 1, 1, figsize=(10, 3 * (num_epochs + 1)))\n",
    "    fig.suptitle(f'PSD for Stimulus: {stim_label} in File: {files[file_to_plot]}')\n",
    "\n",
    "    # Plot PSD for each epoch\n",
    "    for epoch_idx in range(num_epochs):\n",
    "        temp_mean = np.mean(eeg_pxx[file_to_plot][stim_label][epoch_idx], axis=0)[fmask]\n",
    "        temp_sd = np.std(eeg_pxx[file_to_plot][stim_label][epoch_idx], axis=0)[fmask]\n",
    "\n",
    "        ax[epoch_idx].plot(temp_freq, temp_mean, '-')\n",
    "        #ax[epoch_idx].fill_between(temp_freq, temp_mean - temp_sd, temp_mean + temp_sd, alpha=0.3)\n",
    "        ax[epoch_idx].set_title(f'Epoch {epoch_idx + 1}')\n",
    "        ax[epoch_idx].set_xlim(f_limits)\n",
    "        ax[epoch_idx].set_ylabel(\"PXX [$\\mu$V$^2$/Hz]\")\n",
    "        if epoch_idx == num_epochs - 1:\n",
    "            ax[epoch_idx].set_xlabel(\"Frequency [Hz]\")\n",
    "        # Add vertical lines\n",
    "        for x in [5, 10, 20, 30]:\n",
    "            ax[epoch_idx].axvline(x=x, color='r', linestyle='--')\n",
    "        ax[epoch_idx].axvline(x=12, color='g', linestyle='--')\n",
    "        ax[epoch_idx].axvline(x=11, color='pink', linestyle='--')\n",
    "        ax[epoch_idx].axvline(x=11.5, color='orange', linestyle='--')\n",
    "\n",
    "\n",
    "    # Plot average PSD across all epochs\n",
    "    avg_pxx = np.mean(eeg_pxx[file_to_plot][stim_label], axis=0)\n",
    "    avg_mean = np.mean(avg_pxx, axis=0)[fmask]\n",
    "    avg_sd = np.std(avg_pxx, axis=0)[fmask]\n",
    "\n",
    "    ax[num_epochs].plot(temp_freq, avg_mean, '-')\n",
    "    ax[num_epochs].set_title('Average PSD across all epochs')\n",
    "    ax[num_epochs].set_xlim(f_limits)\n",
    "    ax[num_epochs].set_ylabel(\"PXX [$\\mu$V$^2$/Hz]\")\n",
    "    ax[num_epochs].set_xlabel(\"Frequency [Hz]\")\n",
    "\n",
    "    # Add vertical lines\n",
    "    for x in [5, 10, 20, 30]:\n",
    "        ax[num_epochs].axvline(x=x, color='r', linestyle='--')\n",
    "    ax[num_epochs].axvline(x=12, color='g', linestyle='--')\n",
    "    ax[num_epochs].axvline(x=11, color='pink', linestyle='--')\n",
    "    ax[num_epochs].axvline(x=11.5, color='orange', linestyle='--')\n",
    "\n",
    "    plt.tight_layout(rect=[0, 0, 1, 0.96])\n",
    "    plt.show()"
   ]
  },
  {
   "cell_type": "markdown",
   "metadata": {},
   "source": [
    "# 2. Visualize PSD for RS Data\n",
    "- this should be placed after the 'Compute PSD for Resting State' cell in zscore.ipynb"
   ]
  },
  {
   "cell_type": "code",
   "execution_count": null,
   "metadata": {},
   "outputs": [],
   "source": [
    "# Visualization settings\n",
    "plot_psd = True   # Enable to see plots\n",
    "f_limits = [4, 35]  # Frequency limits for the plots [min, max][Hz]\n",
    "file_to_plot = 0    # Select index of file to be plotted \n",
    "\n",
    "if plot_psd:\n",
    "    # Create subplots for resting state eyes open and eyes closed data\n",
    "    fig, ax = plt.subplots(2, 1, figsize=(10, 6))\n",
    "    fig.suptitle(f'PSD for Resting State Data in File: {files[file_to_plot]}')\n",
    "\n",
    "    # Plot Resting State Eyes Open Data PSD\n",
    "    fmask_open = (rs_open_f[file_to_plot][0] >= f_limits[0]) & (rs_open_f[file_to_plot][0] <= f_limits[1])\n",
    "    temp_freq_open = rs_open_f[file_to_plot][0][fmask_open]\n",
    "\n",
    "    temp_mean_open = np.mean(rs_open_pxx[file_to_plot][0][0], axis=0)[fmask_open]\n",
    "    temp_sd_open = np.std(rs_open_pxx[file_to_plot][0][0], axis=0)[fmask_open]\n",
    "\n",
    "    ax[0].plot(temp_freq_open, temp_mean_open, '-')\n",
    "    ax[0].set_title('Resting State Eyes Open PSD')\n",
    "    ax[0].set_xlim(f_limits)\n",
    "    ax[0].set_ylabel(\"PXX [$\\mu$V$^2$/Hz]\")\n",
    "\n",
    "    #fmask_closed = (rs_closed_f[file_to_plot][0] >= f_limits[0]) & (rs_closed_f[file_to_plot][0] <= f_limits[1])\n",
    "    #temp_freq_closed = rs_closed_f[file_to_plot][0][fmask_closed]\n",
    "\n",
    "    # Plot Resting State Eyes Closed Data PSD\n",
    "    #temp_mean_closed = np.mean(rs_closed_pxx[file_to_plot][0][0], axis=0)[fmask_closed]\n",
    "    #temp_sd_closed = np.std(rs_closed_pxx[file_to_plot][0][0], axis=0)[fmask_closed]\n",
    "\n",
    "    #ax[1].plot(temp_freq_closed, temp_mean_closed, '-')\n",
    "    #ax[1].set_title('Resting State Eyes Closed PSD')\n",
    "    #ax[1].set_xlim(f_limits)\n",
    "    #ax[1].set_ylabel(\"PXX [$\\mu$V$^2$/Hz]\")\n",
    "    ax[0].set_xlabel(\"Frequency [Hz]\")\n",
    "\n",
    "    plt.tight_layout(rect=[0, 0, 1, 0.96])\n",
    "    plt.show()"
   ]
  },
  {
   "cell_type": "markdown",
   "metadata": {},
   "source": [
    "# 3. Visualize Z-scores\n",
    "- this should be placed after the \"Compute Z-score for all epochs\" cell in zscore.ipynb"
   ]
  },
  {
   "cell_type": "code",
   "execution_count": null,
   "metadata": {},
   "outputs": [],
   "source": [
    "# Plot settings\n",
    "plot_zscore = True  # Enable to see plots\n",
    "f_limits = [4, 35]  # Frequency limits for the plots [min, max][Hz]\n",
    "file_to_plot = 0    # Select index of file to be plotted\n",
    "stimulus_index = 10  # Select index of stimulus to be plotted\n",
    "\n",
    "if plot_zscore:\n",
    "    # Get the stimulus label to plot\n",
    "    stim_labels = list(eeg_zscore_pxx[file_to_plot].keys())\n",
    "    stim_label_to_plot = stim_labels[stimulus_index]\n",
    "\n",
    "    # Get the frequency values and Z-score values\n",
    "    freqs = eeg_f[file_to_plot][stim_label_to_plot][0]  # Assuming all epochs have the same frequency values\n",
    "    zscore_values = eeg_zscore_pxx[file_to_plot][stim_label_to_plot]\n",
    "\n",
    "    # Plot the Z-score as a line graph\n",
    "    plt.figure(figsize=(10, 6))\n",
    "    plt.plot(freqs, zscore_values, label=f'Stimulus: {stim_label_to_plot}')\n",
    "    plt.xlim(f_limits)\n",
    "    plt.ylim(-100, 150)\n",
    "    plt.xlabel('Frequency (Hz)')\n",
    "    plt.ylabel('Z-score')\n",
    "    plt.title(f'Z-score of PSD for {stim_label_to_plot}')\n",
    "    plt.legend()\n",
    "    plt.grid(True)\n",
    "    plt.show()"
   ]
  }
 ],
 "metadata": {
  "kernelspec": {
   "display_name": "bci",
   "language": "python",
   "name": "python3"
  },
  "language_info": {
   "name": "python",
   "version": "3.10.14"
  }
 },
 "nbformat": 4,
 "nbformat_minor": 2
}

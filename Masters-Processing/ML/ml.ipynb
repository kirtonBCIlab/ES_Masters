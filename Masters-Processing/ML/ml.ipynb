{
 "cells": [
  {
   "cell_type": "markdown",
   "metadata": {},
   "source": [
    "# Import Libraries"
   ]
  },
  {
   "cell_type": "code",
   "execution_count": null,
   "metadata": {},
   "outputs": [],
   "source": [
    "import numpy as np\n",
    "import json\n",
    "import pandas as pd\n",
    "from catboost import CatBoostRegressor, Pool, cv\n",
    "import matplotlib.pyplot as plt\n",
    "from sklearn.metrics import mean_squared_error, r2_score"
   ]
  },
  {
   "cell_type": "markdown",
   "metadata": {},
   "source": [
    "# Import Data"
   ]
  },
  {
   "cell_type": "code",
   "execution_count": 2,
   "metadata": {},
   "outputs": [
    {
     "data": {
      "application/vnd.microsoft.datawrangler.viewer.v0+json": {
       "columns": [
        {
         "name": "index",
         "rawType": "int64",
         "type": "integer"
        },
        {
         "name": "Participant",
         "rawType": "object",
         "type": "string"
        },
        {
         "name": "Stimulus",
         "rawType": "object",
         "type": "string"
        },
        {
         "name": "Epoch",
         "rawType": "int64",
         "type": "integer"
        },
        {
         "name": "Comfort Score",
         "rawType": "int64",
         "type": "integer"
        },
        {
         "name": "Fz_delta",
         "rawType": "float64",
         "type": "float"
        },
        {
         "name": "F4_delta",
         "rawType": "float64",
         "type": "float"
        },
        {
         "name": "F8_delta",
         "rawType": "float64",
         "type": "float"
        },
        {
         "name": "C3_delta",
         "rawType": "float64",
         "type": "float"
        },
        {
         "name": "Cz_delta",
         "rawType": "float64",
         "type": "float"
        },
        {
         "name": "C4_delta",
         "rawType": "float64",
         "type": "float"
        },
        {
         "name": "T8_delta",
         "rawType": "float64",
         "type": "float"
        },
        {
         "name": "P7_delta",
         "rawType": "float64",
         "type": "float"
        },
        {
         "name": "P3_delta",
         "rawType": "float64",
         "type": "float"
        },
        {
         "name": "P4_delta",
         "rawType": "float64",
         "type": "float"
        },
        {
         "name": "P8_delta",
         "rawType": "float64",
         "type": "float"
        },
        {
         "name": "PO7_delta",
         "rawType": "float64",
         "type": "float"
        },
        {
         "name": "PO8_delta",
         "rawType": "float64",
         "type": "float"
        },
        {
         "name": "O1_delta",
         "rawType": "float64",
         "type": "float"
        },
        {
         "name": "Oz_delta",
         "rawType": "float64",
         "type": "float"
        },
        {
         "name": "O2_delta",
         "rawType": "float64",
         "type": "float"
        },
        {
         "name": "Fz_theta",
         "rawType": "float64",
         "type": "float"
        },
        {
         "name": "F4_theta",
         "rawType": "float64",
         "type": "float"
        },
        {
         "name": "F8_theta",
         "rawType": "float64",
         "type": "float"
        },
        {
         "name": "C3_theta",
         "rawType": "float64",
         "type": "float"
        },
        {
         "name": "Cz_theta",
         "rawType": "float64",
         "type": "float"
        },
        {
         "name": "C4_theta",
         "rawType": "float64",
         "type": "float"
        },
        {
         "name": "T8_theta",
         "rawType": "float64",
         "type": "float"
        },
        {
         "name": "P7_theta",
         "rawType": "float64",
         "type": "float"
        },
        {
         "name": "P3_theta",
         "rawType": "float64",
         "type": "float"
        },
        {
         "name": "P4_theta",
         "rawType": "float64",
         "type": "float"
        },
        {
         "name": "P8_theta",
         "rawType": "float64",
         "type": "float"
        },
        {
         "name": "PO7_theta",
         "rawType": "float64",
         "type": "float"
        },
        {
         "name": "PO8_theta",
         "rawType": "float64",
         "type": "float"
        },
        {
         "name": "O1_theta",
         "rawType": "float64",
         "type": "float"
        },
        {
         "name": "Oz_theta",
         "rawType": "float64",
         "type": "float"
        },
        {
         "name": "O2_theta",
         "rawType": "float64",
         "type": "float"
        },
        {
         "name": "Fz_alpha",
         "rawType": "float64",
         "type": "float"
        },
        {
         "name": "F4_alpha",
         "rawType": "float64",
         "type": "float"
        },
        {
         "name": "F8_alpha",
         "rawType": "float64",
         "type": "float"
        },
        {
         "name": "C3_alpha",
         "rawType": "float64",
         "type": "float"
        },
        {
         "name": "Cz_alpha",
         "rawType": "float64",
         "type": "float"
        },
        {
         "name": "C4_alpha",
         "rawType": "float64",
         "type": "float"
        },
        {
         "name": "T8_alpha",
         "rawType": "float64",
         "type": "float"
        },
        {
         "name": "P7_alpha",
         "rawType": "float64",
         "type": "float"
        },
        {
         "name": "P3_alpha",
         "rawType": "float64",
         "type": "float"
        },
        {
         "name": "P4_alpha",
         "rawType": "float64",
         "type": "float"
        },
        {
         "name": "P8_alpha",
         "rawType": "float64",
         "type": "float"
        },
        {
         "name": "PO7_alpha",
         "rawType": "float64",
         "type": "float"
        },
        {
         "name": "PO8_alpha",
         "rawType": "float64",
         "type": "float"
        },
        {
         "name": "O1_alpha",
         "rawType": "float64",
         "type": "float"
        },
        {
         "name": "Oz_alpha",
         "rawType": "float64",
         "type": "float"
        },
        {
         "name": "O2_alpha",
         "rawType": "float64",
         "type": "float"
        },
        {
         "name": "Fz_beta",
         "rawType": "float64",
         "type": "float"
        },
        {
         "name": "F4_beta",
         "rawType": "float64",
         "type": "float"
        },
        {
         "name": "F8_beta",
         "rawType": "float64",
         "type": "float"
        },
        {
         "name": "C3_beta",
         "rawType": "float64",
         "type": "float"
        },
        {
         "name": "Cz_beta",
         "rawType": "float64",
         "type": "float"
        },
        {
         "name": "C4_beta",
         "rawType": "float64",
         "type": "float"
        },
        {
         "name": "T8_beta",
         "rawType": "float64",
         "type": "float"
        },
        {
         "name": "P7_beta",
         "rawType": "float64",
         "type": "float"
        },
        {
         "name": "P3_beta",
         "rawType": "float64",
         "type": "float"
        },
        {
         "name": "P4_beta",
         "rawType": "float64",
         "type": "float"
        },
        {
         "name": "P8_beta",
         "rawType": "float64",
         "type": "float"
        },
        {
         "name": "PO7_beta",
         "rawType": "float64",
         "type": "float"
        },
        {
         "name": "PO8_beta",
         "rawType": "float64",
         "type": "float"
        },
        {
         "name": "O1_beta",
         "rawType": "float64",
         "type": "float"
        },
        {
         "name": "Oz_beta",
         "rawType": "float64",
         "type": "float"
        },
        {
         "name": "O2_beta",
         "rawType": "float64",
         "type": "float"
        },
        {
         "name": "Fz_alpha/beta",
         "rawType": "float64",
         "type": "float"
        },
        {
         "name": "F4_alpha/beta",
         "rawType": "float64",
         "type": "float"
        },
        {
         "name": "F8_alpha/beta",
         "rawType": "float64",
         "type": "float"
        },
        {
         "name": "C3_alpha/beta",
         "rawType": "float64",
         "type": "float"
        },
        {
         "name": "Cz_alpha/beta",
         "rawType": "float64",
         "type": "float"
        },
        {
         "name": "C4_alpha/beta",
         "rawType": "float64",
         "type": "float"
        },
        {
         "name": "T8_alpha/beta",
         "rawType": "float64",
         "type": "float"
        },
        {
         "name": "P7_alpha/beta",
         "rawType": "float64",
         "type": "float"
        },
        {
         "name": "P3_alpha/beta",
         "rawType": "float64",
         "type": "float"
        },
        {
         "name": "P4_alpha/beta",
         "rawType": "float64",
         "type": "float"
        },
        {
         "name": "P8_alpha/beta",
         "rawType": "float64",
         "type": "float"
        },
        {
         "name": "PO7_alpha/beta",
         "rawType": "float64",
         "type": "float"
        },
        {
         "name": "PO8_alpha/beta",
         "rawType": "float64",
         "type": "float"
        },
        {
         "name": "O1_alpha/beta",
         "rawType": "float64",
         "type": "float"
        },
        {
         "name": "Oz_alpha/beta",
         "rawType": "float64",
         "type": "float"
        },
        {
         "name": "O2_alpha/beta",
         "rawType": "float64",
         "type": "float"
        },
        {
         "name": "Fz_theta/alpha",
         "rawType": "float64",
         "type": "float"
        },
        {
         "name": "F4_theta/alpha",
         "rawType": "float64",
         "type": "float"
        },
        {
         "name": "F8_theta/alpha",
         "rawType": "float64",
         "type": "float"
        },
        {
         "name": "C3_theta/alpha",
         "rawType": "float64",
         "type": "float"
        },
        {
         "name": "Cz_theta/alpha",
         "rawType": "float64",
         "type": "float"
        },
        {
         "name": "C4_theta/alpha",
         "rawType": "float64",
         "type": "float"
        },
        {
         "name": "T8_theta/alpha",
         "rawType": "float64",
         "type": "float"
        },
        {
         "name": "P7_theta/alpha",
         "rawType": "float64",
         "type": "float"
        },
        {
         "name": "P3_theta/alpha",
         "rawType": "float64",
         "type": "float"
        },
        {
         "name": "P4_theta/alpha",
         "rawType": "float64",
         "type": "float"
        },
        {
         "name": "P8_theta/alpha",
         "rawType": "float64",
         "type": "float"
        },
        {
         "name": "PO7_theta/alpha",
         "rawType": "float64",
         "type": "float"
        },
        {
         "name": "PO8_theta/alpha",
         "rawType": "float64",
         "type": "float"
        },
        {
         "name": "O1_theta/alpha",
         "rawType": "float64",
         "type": "float"
        },
        {
         "name": "Oz_theta/alpha",
         "rawType": "float64",
         "type": "float"
        },
        {
         "name": "O2_theta/alpha",
         "rawType": "float64",
         "type": "float"
        },
        {
         "name": "Fz_theta/beta",
         "rawType": "float64",
         "type": "float"
        },
        {
         "name": "F4_theta/beta",
         "rawType": "float64",
         "type": "float"
        },
        {
         "name": "F8_theta/beta",
         "rawType": "float64",
         "type": "float"
        },
        {
         "name": "C3_theta/beta",
         "rawType": "float64",
         "type": "float"
        },
        {
         "name": "Cz_theta/beta",
         "rawType": "float64",
         "type": "float"
        },
        {
         "name": "C4_theta/beta",
         "rawType": "float64",
         "type": "float"
        },
        {
         "name": "T8_theta/beta",
         "rawType": "float64",
         "type": "float"
        },
        {
         "name": "P7_theta/beta",
         "rawType": "float64",
         "type": "float"
        },
        {
         "name": "P3_theta/beta",
         "rawType": "float64",
         "type": "float"
        },
        {
         "name": "P4_theta/beta",
         "rawType": "float64",
         "type": "float"
        },
        {
         "name": "P8_theta/beta",
         "rawType": "float64",
         "type": "float"
        },
        {
         "name": "PO7_theta/beta",
         "rawType": "float64",
         "type": "float"
        },
        {
         "name": "PO8_theta/beta",
         "rawType": "float64",
         "type": "float"
        },
        {
         "name": "O1_theta/beta",
         "rawType": "float64",
         "type": "float"
        },
        {
         "name": "Oz_theta/beta",
         "rawType": "float64",
         "type": "float"
        },
        {
         "name": "O2_theta/beta",
         "rawType": "float64",
         "type": "float"
        },
        {
         "name": "Fz_theta_+_alpha",
         "rawType": "float64",
         "type": "float"
        },
        {
         "name": "F4_theta_+_alpha",
         "rawType": "float64",
         "type": "float"
        },
        {
         "name": "F8_theta_+_alpha",
         "rawType": "float64",
         "type": "float"
        },
        {
         "name": "C3_theta_+_alpha",
         "rawType": "float64",
         "type": "float"
        },
        {
         "name": "Cz_theta_+_alpha",
         "rawType": "float64",
         "type": "float"
        },
        {
         "name": "C4_theta_+_alpha",
         "rawType": "float64",
         "type": "float"
        },
        {
         "name": "T8_theta_+_alpha",
         "rawType": "float64",
         "type": "float"
        },
        {
         "name": "P7_theta_+_alpha",
         "rawType": "float64",
         "type": "float"
        },
        {
         "name": "P3_theta_+_alpha",
         "rawType": "float64",
         "type": "float"
        },
        {
         "name": "P4_theta_+_alpha",
         "rawType": "float64",
         "type": "float"
        },
        {
         "name": "P8_theta_+_alpha",
         "rawType": "float64",
         "type": "float"
        },
        {
         "name": "PO7_theta_+_alpha",
         "rawType": "float64",
         "type": "float"
        },
        {
         "name": "PO8_theta_+_alpha",
         "rawType": "float64",
         "type": "float"
        },
        {
         "name": "O1_theta_+_alpha",
         "rawType": "float64",
         "type": "float"
        },
        {
         "name": "Oz_theta_+_alpha",
         "rawType": "float64",
         "type": "float"
        },
        {
         "name": "O2_theta_+_alpha",
         "rawType": "float64",
         "type": "float"
        },
        {
         "name": "Fz_theta_+_alpha/beta",
         "rawType": "float64",
         "type": "float"
        },
        {
         "name": "F4_theta_+_alpha/beta",
         "rawType": "float64",
         "type": "float"
        },
        {
         "name": "F8_theta_+_alpha/beta",
         "rawType": "float64",
         "type": "float"
        },
        {
         "name": "C3_theta_+_alpha/beta",
         "rawType": "float64",
         "type": "float"
        },
        {
         "name": "Cz_theta_+_alpha/beta",
         "rawType": "float64",
         "type": "float"
        },
        {
         "name": "C4_theta_+_alpha/beta",
         "rawType": "float64",
         "type": "float"
        },
        {
         "name": "T8_theta_+_alpha/beta",
         "rawType": "float64",
         "type": "float"
        },
        {
         "name": "P7_theta_+_alpha/beta",
         "rawType": "float64",
         "type": "float"
        },
        {
         "name": "P3_theta_+_alpha/beta",
         "rawType": "float64",
         "type": "float"
        },
        {
         "name": "P4_theta_+_alpha/beta",
         "rawType": "float64",
         "type": "float"
        },
        {
         "name": "P8_theta_+_alpha/beta",
         "rawType": "float64",
         "type": "float"
        },
        {
         "name": "PO7_theta_+_alpha/beta",
         "rawType": "float64",
         "type": "float"
        },
        {
         "name": "PO8_theta_+_alpha/beta",
         "rawType": "float64",
         "type": "float"
        },
        {
         "name": "O1_theta_+_alpha/beta",
         "rawType": "float64",
         "type": "float"
        },
        {
         "name": "Oz_theta_+_alpha/beta",
         "rawType": "float64",
         "type": "float"
        },
        {
         "name": "O2_theta_+_alpha/beta",
         "rawType": "float64",
         "type": "float"
        },
        {
         "name": "Fz_theta_+_alpha_+_beta",
         "rawType": "float64",
         "type": "float"
        },
        {
         "name": "F4_theta_+_alpha_+_beta",
         "rawType": "float64",
         "type": "float"
        },
        {
         "name": "F8_theta_+_alpha_+_beta",
         "rawType": "float64",
         "type": "float"
        },
        {
         "name": "C3_theta_+_alpha_+_beta",
         "rawType": "float64",
         "type": "float"
        },
        {
         "name": "Cz_theta_+_alpha_+_beta",
         "rawType": "float64",
         "type": "float"
        },
        {
         "name": "C4_theta_+_alpha_+_beta",
         "rawType": "float64",
         "type": "float"
        },
        {
         "name": "T8_theta_+_alpha_+_beta",
         "rawType": "float64",
         "type": "float"
        },
        {
         "name": "P7_theta_+_alpha_+_beta",
         "rawType": "float64",
         "type": "float"
        },
        {
         "name": "P3_theta_+_alpha_+_beta",
         "rawType": "float64",
         "type": "float"
        },
        {
         "name": "P4_theta_+_alpha_+_beta",
         "rawType": "float64",
         "type": "float"
        },
        {
         "name": "P8_theta_+_alpha_+_beta",
         "rawType": "float64",
         "type": "float"
        },
        {
         "name": "PO7_theta_+_alpha_+_beta",
         "rawType": "float64",
         "type": "float"
        },
        {
         "name": "PO8_theta_+_alpha_+_beta",
         "rawType": "float64",
         "type": "float"
        },
        {
         "name": "O1_theta_+_alpha_+_beta",
         "rawType": "float64",
         "type": "float"
        },
        {
         "name": "Oz_theta_+_alpha_+_beta",
         "rawType": "float64",
         "type": "float"
        },
        {
         "name": "O2_theta_+_alpha_+_beta",
         "rawType": "float64",
         "type": "float"
        },
        {
         "name": "Fz_alpha_+_theta/alpha_+_beta",
         "rawType": "float64",
         "type": "float"
        },
        {
         "name": "F4_alpha_+_theta/alpha_+_beta",
         "rawType": "float64",
         "type": "float"
        },
        {
         "name": "F8_alpha_+_theta/alpha_+_beta",
         "rawType": "float64",
         "type": "float"
        },
        {
         "name": "C3_alpha_+_theta/alpha_+_beta",
         "rawType": "float64",
         "type": "float"
        },
        {
         "name": "Cz_alpha_+_theta/alpha_+_beta",
         "rawType": "float64",
         "type": "float"
        },
        {
         "name": "C4_alpha_+_theta/alpha_+_beta",
         "rawType": "float64",
         "type": "float"
        },
        {
         "name": "T8_alpha_+_theta/alpha_+_beta",
         "rawType": "float64",
         "type": "float"
        },
        {
         "name": "P7_alpha_+_theta/alpha_+_beta",
         "rawType": "float64",
         "type": "float"
        },
        {
         "name": "P3_alpha_+_theta/alpha_+_beta",
         "rawType": "float64",
         "type": "float"
        },
        {
         "name": "P4_alpha_+_theta/alpha_+_beta",
         "rawType": "float64",
         "type": "float"
        },
        {
         "name": "P8_alpha_+_theta/alpha_+_beta",
         "rawType": "float64",
         "type": "float"
        },
        {
         "name": "PO7_alpha_+_theta/alpha_+_beta",
         "rawType": "float64",
         "type": "float"
        },
        {
         "name": "PO8_alpha_+_theta/alpha_+_beta",
         "rawType": "float64",
         "type": "float"
        },
        {
         "name": "O1_alpha_+_theta/alpha_+_beta",
         "rawType": "float64",
         "type": "float"
        },
        {
         "name": "Oz_alpha_+_theta/alpha_+_beta",
         "rawType": "float64",
         "type": "float"
        },
        {
         "name": "O2_alpha_+_theta/alpha_+_beta",
         "rawType": "float64",
         "type": "float"
        },
        {
         "name": "Fz_theta/alpha_+_beta",
         "rawType": "float64",
         "type": "float"
        },
        {
         "name": "F4_theta/alpha_+_beta",
         "rawType": "float64",
         "type": "float"
        },
        {
         "name": "F8_theta/alpha_+_beta",
         "rawType": "float64",
         "type": "float"
        },
        {
         "name": "C3_theta/alpha_+_beta",
         "rawType": "float64",
         "type": "float"
        },
        {
         "name": "Cz_theta/alpha_+_beta",
         "rawType": "float64",
         "type": "float"
        },
        {
         "name": "C4_theta/alpha_+_beta",
         "rawType": "float64",
         "type": "float"
        },
        {
         "name": "T8_theta/alpha_+_beta",
         "rawType": "float64",
         "type": "float"
        },
        {
         "name": "P7_theta/alpha_+_beta",
         "rawType": "float64",
         "type": "float"
        },
        {
         "name": "P3_theta/alpha_+_beta",
         "rawType": "float64",
         "type": "float"
        },
        {
         "name": "P4_theta/alpha_+_beta",
         "rawType": "float64",
         "type": "float"
        },
        {
         "name": "P8_theta/alpha_+_beta",
         "rawType": "float64",
         "type": "float"
        },
        {
         "name": "PO7_theta/alpha_+_beta",
         "rawType": "float64",
         "type": "float"
        },
        {
         "name": "PO8_theta/alpha_+_beta",
         "rawType": "float64",
         "type": "float"
        },
        {
         "name": "O1_theta/alpha_+_beta",
         "rawType": "float64",
         "type": "float"
        },
        {
         "name": "Oz_theta/alpha_+_beta",
         "rawType": "float64",
         "type": "float"
        },
        {
         "name": "O2_theta/alpha_+_beta",
         "rawType": "float64",
         "type": "float"
        },
        {
         "name": "Fz_abs_fft_5",
         "rawType": "float64",
         "type": "float"
        },
        {
         "name": "F4_abs_fft_5",
         "rawType": "float64",
         "type": "float"
        },
        {
         "name": "F8_abs_fft_5",
         "rawType": "float64",
         "type": "float"
        },
        {
         "name": "C3_abs_fft_5",
         "rawType": "float64",
         "type": "float"
        },
        {
         "name": "Cz_abs_fft_5",
         "rawType": "float64",
         "type": "float"
        },
        {
         "name": "C4_abs_fft_5",
         "rawType": "float64",
         "type": "float"
        },
        {
         "name": "T8_abs_fft_5",
         "rawType": "float64",
         "type": "float"
        },
        {
         "name": "P7_abs_fft_5",
         "rawType": "float64",
         "type": "float"
        },
        {
         "name": "P3_abs_fft_5",
         "rawType": "float64",
         "type": "float"
        },
        {
         "name": "P4_abs_fft_5",
         "rawType": "float64",
         "type": "float"
        },
        {
         "name": "P8_abs_fft_5",
         "rawType": "float64",
         "type": "float"
        },
        {
         "name": "PO7_abs_fft_5",
         "rawType": "float64",
         "type": "float"
        },
        {
         "name": "PO8_abs_fft_5",
         "rawType": "float64",
         "type": "float"
        },
        {
         "name": "O1_abs_fft_5",
         "rawType": "float64",
         "type": "float"
        },
        {
         "name": "Oz_abs_fft_5",
         "rawType": "float64",
         "type": "float"
        },
        {
         "name": "O2_abs_fft_5",
         "rawType": "float64",
         "type": "float"
        },
        {
         "name": "Fz_abs_fft_10",
         "rawType": "float64",
         "type": "float"
        },
        {
         "name": "F4_abs_fft_10",
         "rawType": "float64",
         "type": "float"
        },
        {
         "name": "F8_abs_fft_10",
         "rawType": "float64",
         "type": "float"
        },
        {
         "name": "C3_abs_fft_10",
         "rawType": "float64",
         "type": "float"
        },
        {
         "name": "Cz_abs_fft_10",
         "rawType": "float64",
         "type": "float"
        },
        {
         "name": "C4_abs_fft_10",
         "rawType": "float64",
         "type": "float"
        },
        {
         "name": "T8_abs_fft_10",
         "rawType": "float64",
         "type": "float"
        },
        {
         "name": "P7_abs_fft_10",
         "rawType": "float64",
         "type": "float"
        },
        {
         "name": "P3_abs_fft_10",
         "rawType": "float64",
         "type": "float"
        },
        {
         "name": "P4_abs_fft_10",
         "rawType": "float64",
         "type": "float"
        },
        {
         "name": "P8_abs_fft_10",
         "rawType": "float64",
         "type": "float"
        },
        {
         "name": "PO7_abs_fft_10",
         "rawType": "float64",
         "type": "float"
        },
        {
         "name": "PO8_abs_fft_10",
         "rawType": "float64",
         "type": "float"
        },
        {
         "name": "O1_abs_fft_10",
         "rawType": "float64",
         "type": "float"
        },
        {
         "name": "Oz_abs_fft_10",
         "rawType": "float64",
         "type": "float"
        },
        {
         "name": "O2_abs_fft_10",
         "rawType": "float64",
         "type": "float"
        },
        {
         "name": "Fz_abs_fft_20",
         "rawType": "float64",
         "type": "float"
        },
        {
         "name": "F4_abs_fft_20",
         "rawType": "float64",
         "type": "float"
        },
        {
         "name": "F8_abs_fft_20",
         "rawType": "float64",
         "type": "float"
        },
        {
         "name": "C3_abs_fft_20",
         "rawType": "float64",
         "type": "float"
        },
        {
         "name": "Cz_abs_fft_20",
         "rawType": "float64",
         "type": "float"
        },
        {
         "name": "C4_abs_fft_20",
         "rawType": "float64",
         "type": "float"
        },
        {
         "name": "T8_abs_fft_20",
         "rawType": "float64",
         "type": "float"
        },
        {
         "name": "P7_abs_fft_20",
         "rawType": "float64",
         "type": "float"
        },
        {
         "name": "P3_abs_fft_20",
         "rawType": "float64",
         "type": "float"
        },
        {
         "name": "P4_abs_fft_20",
         "rawType": "float64",
         "type": "float"
        },
        {
         "name": "P8_abs_fft_20",
         "rawType": "float64",
         "type": "float"
        },
        {
         "name": "PO7_abs_fft_20",
         "rawType": "float64",
         "type": "float"
        },
        {
         "name": "PO8_abs_fft_20",
         "rawType": "float64",
         "type": "float"
        },
        {
         "name": "O1_abs_fft_20",
         "rawType": "float64",
         "type": "float"
        },
        {
         "name": "Oz_abs_fft_20",
         "rawType": "float64",
         "type": "float"
        },
        {
         "name": "O2_abs_fft_20",
         "rawType": "float64",
         "type": "float"
        },
        {
         "name": "Fz_abs_fft_30",
         "rawType": "float64",
         "type": "float"
        },
        {
         "name": "F4_abs_fft_30",
         "rawType": "float64",
         "type": "float"
        },
        {
         "name": "F8_abs_fft_30",
         "rawType": "float64",
         "type": "float"
        },
        {
         "name": "C3_abs_fft_30",
         "rawType": "float64",
         "type": "float"
        },
        {
         "name": "Cz_abs_fft_30",
         "rawType": "float64",
         "type": "float"
        },
        {
         "name": "C4_abs_fft_30",
         "rawType": "float64",
         "type": "float"
        },
        {
         "name": "T8_abs_fft_30",
         "rawType": "float64",
         "type": "float"
        },
        {
         "name": "P7_abs_fft_30",
         "rawType": "float64",
         "type": "float"
        },
        {
         "name": "P3_abs_fft_30",
         "rawType": "float64",
         "type": "float"
        },
        {
         "name": "P4_abs_fft_30",
         "rawType": "float64",
         "type": "float"
        },
        {
         "name": "P8_abs_fft_30",
         "rawType": "float64",
         "type": "float"
        },
        {
         "name": "PO7_abs_fft_30",
         "rawType": "float64",
         "type": "float"
        },
        {
         "name": "PO8_abs_fft_30",
         "rawType": "float64",
         "type": "float"
        },
        {
         "name": "O1_abs_fft_30",
         "rawType": "float64",
         "type": "float"
        },
        {
         "name": "Oz_abs_fft_30",
         "rawType": "float64",
         "type": "float"
        },
        {
         "name": "O2_abs_fft_30",
         "rawType": "float64",
         "type": "float"
        },
        {
         "name": "Fz_norm_fft_5",
         "rawType": "float64",
         "type": "float"
        },
        {
         "name": "F4_norm_fft_5",
         "rawType": "float64",
         "type": "float"
        },
        {
         "name": "F8_norm_fft_5",
         "rawType": "float64",
         "type": "float"
        },
        {
         "name": "C3_norm_fft_5",
         "rawType": "float64",
         "type": "float"
        },
        {
         "name": "Cz_norm_fft_5",
         "rawType": "float64",
         "type": "float"
        },
        {
         "name": "C4_norm_fft_5",
         "rawType": "float64",
         "type": "float"
        },
        {
         "name": "T8_norm_fft_5",
         "rawType": "float64",
         "type": "float"
        },
        {
         "name": "P7_norm_fft_5",
         "rawType": "float64",
         "type": "float"
        },
        {
         "name": "P3_norm_fft_5",
         "rawType": "float64",
         "type": "float"
        },
        {
         "name": "P4_norm_fft_5",
         "rawType": "float64",
         "type": "float"
        },
        {
         "name": "P8_norm_fft_5",
         "rawType": "float64",
         "type": "float"
        },
        {
         "name": "PO7_norm_fft_5",
         "rawType": "float64",
         "type": "float"
        },
        {
         "name": "PO8_norm_fft_5",
         "rawType": "float64",
         "type": "float"
        },
        {
         "name": "O1_norm_fft_5",
         "rawType": "float64",
         "type": "float"
        },
        {
         "name": "Oz_norm_fft_5",
         "rawType": "float64",
         "type": "float"
        },
        {
         "name": "O2_norm_fft_5",
         "rawType": "float64",
         "type": "float"
        },
        {
         "name": "Fz_norm_fft_10",
         "rawType": "float64",
         "type": "float"
        },
        {
         "name": "F4_norm_fft_10",
         "rawType": "float64",
         "type": "float"
        },
        {
         "name": "F8_norm_fft_10",
         "rawType": "float64",
         "type": "float"
        },
        {
         "name": "C3_norm_fft_10",
         "rawType": "float64",
         "type": "float"
        },
        {
         "name": "Cz_norm_fft_10",
         "rawType": "float64",
         "type": "float"
        },
        {
         "name": "C4_norm_fft_10",
         "rawType": "float64",
         "type": "float"
        },
        {
         "name": "T8_norm_fft_10",
         "rawType": "float64",
         "type": "float"
        },
        {
         "name": "P7_norm_fft_10",
         "rawType": "float64",
         "type": "float"
        },
        {
         "name": "P3_norm_fft_10",
         "rawType": "float64",
         "type": "float"
        },
        {
         "name": "P4_norm_fft_10",
         "rawType": "float64",
         "type": "float"
        },
        {
         "name": "P8_norm_fft_10",
         "rawType": "float64",
         "type": "float"
        },
        {
         "name": "PO7_norm_fft_10",
         "rawType": "float64",
         "type": "float"
        },
        {
         "name": "PO8_norm_fft_10",
         "rawType": "float64",
         "type": "float"
        },
        {
         "name": "O1_norm_fft_10",
         "rawType": "float64",
         "type": "float"
        },
        {
         "name": "Oz_norm_fft_10",
         "rawType": "float64",
         "type": "float"
        },
        {
         "name": "O2_norm_fft_10",
         "rawType": "float64",
         "type": "float"
        },
        {
         "name": "Fz_norm_fft_20",
         "rawType": "float64",
         "type": "float"
        },
        {
         "name": "F4_norm_fft_20",
         "rawType": "float64",
         "type": "float"
        },
        {
         "name": "F8_norm_fft_20",
         "rawType": "float64",
         "type": "float"
        },
        {
         "name": "C3_norm_fft_20",
         "rawType": "float64",
         "type": "float"
        },
        {
         "name": "Cz_norm_fft_20",
         "rawType": "float64",
         "type": "float"
        },
        {
         "name": "C4_norm_fft_20",
         "rawType": "float64",
         "type": "float"
        },
        {
         "name": "T8_norm_fft_20",
         "rawType": "float64",
         "type": "float"
        },
        {
         "name": "P7_norm_fft_20",
         "rawType": "float64",
         "type": "float"
        },
        {
         "name": "P3_norm_fft_20",
         "rawType": "float64",
         "type": "float"
        },
        {
         "name": "P4_norm_fft_20",
         "rawType": "float64",
         "type": "float"
        },
        {
         "name": "P8_norm_fft_20",
         "rawType": "float64",
         "type": "float"
        },
        {
         "name": "PO7_norm_fft_20",
         "rawType": "float64",
         "type": "float"
        },
        {
         "name": "PO8_norm_fft_20",
         "rawType": "float64",
         "type": "float"
        },
        {
         "name": "O1_norm_fft_20",
         "rawType": "float64",
         "type": "float"
        },
        {
         "name": "Oz_norm_fft_20",
         "rawType": "float64",
         "type": "float"
        },
        {
         "name": "O2_norm_fft_20",
         "rawType": "float64",
         "type": "float"
        },
        {
         "name": "Fz_norm_fft_30",
         "rawType": "float64",
         "type": "float"
        },
        {
         "name": "F4_norm_fft_30",
         "rawType": "float64",
         "type": "float"
        },
        {
         "name": "F8_norm_fft_30",
         "rawType": "float64",
         "type": "float"
        },
        {
         "name": "C3_norm_fft_30",
         "rawType": "float64",
         "type": "float"
        },
        {
         "name": "Cz_norm_fft_30",
         "rawType": "float64",
         "type": "float"
        },
        {
         "name": "C4_norm_fft_30",
         "rawType": "float64",
         "type": "float"
        },
        {
         "name": "T8_norm_fft_30",
         "rawType": "float64",
         "type": "float"
        },
        {
         "name": "P7_norm_fft_30",
         "rawType": "float64",
         "type": "float"
        },
        {
         "name": "P3_norm_fft_30",
         "rawType": "float64",
         "type": "float"
        },
        {
         "name": "P4_norm_fft_30",
         "rawType": "float64",
         "type": "float"
        },
        {
         "name": "P8_norm_fft_30",
         "rawType": "float64",
         "type": "float"
        },
        {
         "name": "PO7_norm_fft_30",
         "rawType": "float64",
         "type": "float"
        },
        {
         "name": "PO8_norm_fft_30",
         "rawType": "float64",
         "type": "float"
        },
        {
         "name": "O1_norm_fft_30",
         "rawType": "float64",
         "type": "float"
        },
        {
         "name": "Oz_norm_fft_30",
         "rawType": "float64",
         "type": "float"
        },
        {
         "name": "O2_norm_fft_30",
         "rawType": "float64",
         "type": "float"
        },
        {
         "name": "Fz_SNR",
         "rawType": "float64",
         "type": "float"
        },
        {
         "name": "F4_SNR",
         "rawType": "float64",
         "type": "float"
        },
        {
         "name": "F8_SNR",
         "rawType": "float64",
         "type": "float"
        },
        {
         "name": "C3_SNR",
         "rawType": "float64",
         "type": "float"
        },
        {
         "name": "Cz_SNR",
         "rawType": "float64",
         "type": "float"
        },
        {
         "name": "C4_SNR",
         "rawType": "float64",
         "type": "float"
        },
        {
         "name": "T8_SNR",
         "rawType": "float64",
         "type": "float"
        },
        {
         "name": "P7_SNR",
         "rawType": "float64",
         "type": "float"
        },
        {
         "name": "P3_SNR",
         "rawType": "float64",
         "type": "float"
        },
        {
         "name": "P4_SNR",
         "rawType": "float64",
         "type": "float"
        },
        {
         "name": "P8_SNR",
         "rawType": "float64",
         "type": "float"
        },
        {
         "name": "PO7_SNR",
         "rawType": "float64",
         "type": "float"
        },
        {
         "name": "PO8_SNR",
         "rawType": "float64",
         "type": "float"
        },
        {
         "name": "O1_SNR",
         "rawType": "float64",
         "type": "float"
        },
        {
         "name": "Oz_SNR",
         "rawType": "float64",
         "type": "float"
        },
        {
         "name": "O2_SNR",
         "rawType": "float64",
         "type": "float"
        }
       ],
       "ref": "a0160877-6ce8-416e-9c4f-9e881c0ae32c",
       "rows": [
        [
         "0",
         "sub-P001",
         "Contrast1Size1",
         "0",
         "2",
         "2.448823627",
         "2.735208461",
         "2.625825373",
         "0.667754451",
         "0.630365762",
         "0.600550875",
         "0.356736038",
         "0.211379075",
         "0.259421744",
         "0.231065641",
         "0.179524882",
         "0.416054121",
         "0.234647601",
         "0.676416368",
         "0.226602578",
         "0.357353907",
         "0.787349763",
         "0.877322867",
         "0.574268599",
         "0.361246561",
         "0.355334324",
         "0.273213777",
         "0.137073214",
         "0.145711603",
         "0.175637582",
         "0.162536168",
         "0.086598463",
         "0.136901291",
         "0.132636476",
         "0.140176793",
         "0.205878889",
         "0.136779129",
         "0.141517605",
         "0.123579242",
         "0.044509714",
         "0.148275223",
         "0.090650988",
         "0.077107511",
         "0.041468294",
         "0.111445271",
         "0.097838735",
         "0.075721835",
         "0.061920119",
         "0.07635926",
         "0.127425992",
         "0.082005769",
         "0.204154264",
         "0.167061322",
         "0.087497567",
         "0.076755067",
         "0.054808881",
         "0.111272212",
         "0.103605697",
         "0.134371588",
         "0.078363172",
         "0.134406858",
         "0.118142743",
         "0.107376128",
         "0.079190808",
         "0.149341729",
         "0.151855523",
         "0.148729414",
         "0.20219184",
         "0.161887178",
         "1.617389032",
         "1.610046681",
         "0.812089448",
         "1.332544945",
         "0.874961421",
         "0.573837906",
         "0.529180907",
         "0.829163578",
         "0.828140032",
         "0.705201767",
         "0.781910433",
         "0.511305586",
         "0.839126492",
         "0.551375593",
         "1.009705754",
         "1.031961422",
         "5.563617087",
         "7.099273759",
         "12.90209596",
         "2.436324514",
         "3.919806401",
         "3.543283577",
         "3.3054944",
         "1.307472283",
         "1.795174294",
         "2.146490078",
         "1.3985513",
         "1.792857739",
         "1.040890272",
         "1.70935283",
         "1.008447656",
         "0.818736063",
         "8.998533254",
         "11.43016215",
         "10.47765599",
         "3.246511916",
         "3.429679379",
         "2.033270429",
         "1.749204526",
         "1.084108397",
         "1.486655698",
         "1.513708597",
         "1.093541852",
         "0.916698178",
         "0.873438603",
         "0.942495431",
         "1.018235401",
         "0.844904032",
         "0.928867368",
         "1.000902109",
         "0.618778313",
         "0.509521784",
         "0.445985312",
         "0.350321287",
         "0.178541509",
         "0.257156874",
         "0.273476317",
         "0.238258003",
         "0.148518582",
         "0.213260551",
         "0.260062468",
         "0.222182562",
         "0.410033153",
         "0.303840451",
         "10.61592229",
         "13.04020883",
         "11.28974543",
         "4.579056862",
         "4.3046408",
         "2.607108336",
         "2.278385433",
         "1.913271975",
         "2.31479573",
         "2.218910364",
         "1.875452285",
         "1.428003764",
         "1.712565095",
         "1.493871024",
         "2.027941154",
         "1.876865455",
         "1.016364934",
         "1.077657176",
         "0.673587194",
         "0.620793996",
         "0.549591009",
         "0.484692875",
         "0.25690468",
         "0.391563732",
         "0.391619059",
         "0.34563413",
         "0.22770939",
         "0.362602281",
         "0.411917991",
         "0.370911976",
         "0.612224993",
         "0.465727629",
         "4.055920674",
         "4.996159237",
         "6.230236288",
         "1.96311624",
         "2.295855665",
         "1.656529129",
         "1.489938451",
         "1.045981889",
         "1.266202637",
         "1.301259714",
         "1.052495261",
         "0.944880888",
         "0.931183963",
         "0.962933174",
         "1.009073667",
         "0.923671795",
         "3.437980806",
         "4.379294147",
         "5.782085426",
         "1.391832523",
         "1.829199972",
         "1.291918578",
         "1.143883315",
         "0.592679851",
         "0.813206686",
         "0.887700579",
         "0.613690695",
         "0.606560438",
         "0.474920353",
         "0.607522404",
         "0.506658947",
         "0.415807123",
         "943.0020013",
         "1022.251831",
         "684.3623654",
         "1709.775358",
         "1470.373901",
         "751.7043224",
         "278.189637",
         "1156.836715",
         "1374.474175",
         "729.4121805",
         "532.1800389",
         "723.8661905",
         "524.2432047",
         "516.5075331",
         "339.8777524",
         "714.9441223",
         "1560.491441",
         "1234.052147",
         "705.2975574",
         "4416.93775",
         "1856.139183",
         "2921.614334",
         "1889.699483",
         "3078.692694",
         "3666.530272",
         "1352.467404",
         "1480.927751",
         "2585.3886",
         "2008.162358",
         "3305.073667",
         "3228.422323",
         "3676.321837",
         "429.4877762",
         "610.208742",
         "239.1438445",
         "386.7486839",
         "413.0222724",
         "755.3443728",
         "171.9198269",
         "68.93593571",
         "104.7773344",
         "451.3460999",
         "389.9031881",
         "342.4719425",
         "839.3746361",
         "554.6536792",
         "843.3873891",
         "1012.130669",
         "132.5454338",
         "27.73957253",
         "90.71074105",
         "128.8944731",
         "215.3974629",
         "162.7392307",
         "160.631388",
         "326.903632",
         "163.7265337",
         "116.860766",
         "161.2114679",
         "440.0938342",
         "540.4202916",
         "570.5787734",
         "656.8521082",
         "611.0927334",
         "0.006026112",
         "0.006760311",
         "0.005531302",
         "0.013609966",
         "0.013233569",
         "0.006229101",
         "0.003547567",
         "0.011668101",
         "0.013073226",
         "0.0076798",
         "0.006756396",
         "0.007258809",
         "0.005157987",
         "0.004953709",
         "0.002869834",
         "0.006696376",
         "0.009972086",
         "0.008160979",
         "0.005700509",
         "0.035159223",
         "0.01670551",
         "0.024210357",
         "0.024098075",
         "0.03105235",
         "0.034873974",
         "0.014239794",
         "0.018801408",
         "0.025925843",
         "0.019758148",
         "0.031698229",
         "0.027259907",
         "0.034433504",
         "0.002744577",
         "0.004035406",
         "0.00193286",
         "0.003078554",
         "0.003717258",
         "0.006259265",
         "0.002192379",
         "0.000695303",
         "0.000996583",
         "0.004752111",
         "0.004950092",
         "0.003434251",
         "0.00825854",
         "0.00531956",
         "0.00712133",
         "0.009479912",
         "0.000847012",
         "0.000183446",
         "0.000733162",
         "0.001026012",
         "0.001938607",
         "0.001348561",
         "0.002048425",
         "0.00329722",
         "0.001557275",
         "0.001230398",
         "0.002046692",
         "0.004413187",
         "0.005317152",
         "0.005472294",
         "0.005546278",
         "0.005723673",
         "5.596275963",
         "4.859271939",
         "1.183050304",
         "8.302988835",
         "9.244887947",
         "6.622724286",
         "5.579796739",
         "4.563784031",
         "6.715667961",
         "1.686805124",
         "2.526394185",
         "6.401941438",
         "3.93084116",
         "9.300906297",
         "6.110192338",
         "7.194651574"
        ],
        [
         "1",
         "sub-P001",
         "Contrast1Size1",
         "1",
         "1",
         "2.723199548",
         "2.861303178",
         "2.246634335",
         "0.733555856",
         "0.685685626",
         "0.493758486",
         "0.229888644",
         "0.21207097",
         "0.31946152",
         "0.189556164",
         "0.209125001",
         "0.464908613",
         "0.25540331",
         "0.231789215",
         "0.325414513",
         "0.224817582",
         "0.441079907",
         "0.422053132",
         "0.249218396",
         "0.240517078",
         "0.271710512",
         "0.216434795",
         "0.110744314",
         "0.08551599",
         "0.158567756",
         "0.157566474",
         "0.11532115",
         "0.136714825",
         "0.231135629",
         "0.164330826",
         "0.316639977",
         "0.17791869",
         "0.05548021",
         "0.051282291",
         "0.031418065",
         "0.050394242",
         "0.049141316",
         "0.066254257",
         "0.040691558",
         "0.050876162",
         "0.050846309",
         "0.060693443",
         "0.091460331",
         "0.10559963",
         "0.190039993",
         "0.152916568",
         "0.238861525",
         "0.192026311",
         "0.069568734",
         "0.059353682",
         "0.042598413",
         "0.075520041",
         "0.082453232",
         "0.081469042",
         "0.038675392",
         "0.102078879",
         "0.081909279",
         "0.067462435",
         "0.081337146",
         "0.144136569",
         "0.203146637",
         "0.189816273",
         "0.313281494",
         "0.235765944",
         "0.797487703",
         "0.864011952",
         "0.737540736",
         "0.667296273",
         "0.595990168",
         "0.813244581",
         "1.052130469",
         "0.498400478",
         "0.620763719",
         "0.899662798",
         "1.124459553",
         "0.732635941",
         "0.935481853",
         "0.805603049",
         "0.762450159",
         "0.814478581",
         "7.950220595",
         "8.229997645",
         "7.932327977",
         "4.772709501",
         "5.529166429",
         "3.266730409",
         "2.721554986",
         "1.680865587",
         "3.118569671",
         "2.596103736",
         "1.260887084",
         "1.294652491",
         "1.216247306",
         "1.074643698",
         "1.325621517",
         "0.926532874",
         "6.340203157",
         "7.110816328",
         "5.850415018",
         "3.184811261",
         "3.295328828",
         "2.656650804",
         "2.863430923",
         "0.837744212",
         "1.935894908",
         "2.335617951",
         "1.417816527",
         "0.948508945",
         "1.137777283",
         "0.865736239",
         "1.010720336",
         "0.75464118",
         "0.496560117",
         "0.473335423",
         "0.280636461",
         "0.29091132",
         "0.320851828",
         "0.282689052",
         "0.151435872",
         "0.136392152",
         "0.209414065",
         "0.218259917",
         "0.206781481",
         "0.242314455",
         "0.421175622",
         "0.317247395",
         "0.555501501",
         "0.369945001",
         "7.13769086",
         "7.97482828",
         "6.587955754",
         "3.852107533",
         "3.891318996",
         "3.469895386",
         "3.915561392",
         "1.33614469",
         "2.556658627",
         "3.235280749",
         "2.54227608",
         "1.681144886",
         "2.073259137",
         "1.671339288",
         "1.773170494",
         "1.569119761",
         "0.566128851",
         "0.532689105",
         "0.323234874",
         "0.366431361",
         "0.40330506",
         "0.364158093",
         "0.190111264",
         "0.238471031",
         "0.291323344",
         "0.285722352",
         "0.288118626",
         "0.386451024",
         "0.624322259",
         "0.507063668",
         "0.868782995",
         "0.605710945",
         "3.970926115",
         "4.27831392",
         "3.791540317",
         "2.310391738",
         "2.438184818",
         "1.913638911",
         "1.908047004",
         "0.891714004",
         "1.577440682",
         "1.703081596",
         "1.196669561",
         "0.970281665",
         "1.071185004",
         "0.925640488",
         "1.006082632",
         "0.86477723",
         "3.527258155",
         "3.814791167",
         "3.367066392",
         "1.910165166",
         "2.064755094",
         "1.465136492",
         "1.395345455",
         "0.559092328",
         "1.194433763",
         "1.22949081",
         "0.66737751",
         "0.547436956",
         "0.587852209",
         "0.479472074",
         "0.573474564",
         "0.415899745",
         "2131.19635",
         "2190.947065",
         "1809.042551",
         "1524.30929",
         "1425.091348",
         "982.9020949",
         "1079.014591",
         "264.9192437",
         "1046.47978",
         "659.5373851",
         "48.76941467",
         "481.5167041",
         "444.5787621",
         "462.8795087",
         "621.7618068",
         "401.3166638",
         "128.8200336",
         "510.8593562",
         "700.3753596",
         "387.0360121",
         "494.8346083",
         "1682.490057",
         "1512.657073",
         "1450.306582",
         "959.8697958",
         "1031.993935",
         "338.9351829",
         "2126.241533",
         "1709.001885",
         "3694.186375",
         "2929.937207",
         "3995.225978",
         "55.17002412",
         "133.9536106",
         "237.3347376",
         "19.23751008",
         "76.7328721",
         "128.1200255",
         "194.8803142",
         "152.7752737",
         "220.5188195",
         "384.5962614",
         "413.215507",
         "302.9384464",
         "1057.691287",
         "540.1944354",
         "1534.802239",
         "1310.890998",
         "293.8206287",
         "295.3406404",
         "197.7143284",
         "182.229648",
         "238.9456351",
         "178.2841311",
         "124.1673767",
         "220.0276259",
         "140.8958178",
         "165.1020076",
         "93.16511404",
         "296.8572071",
         "352.9353314",
         "413.3256339",
         "633.2535414",
         "619.6825366",
         "0.015699235",
         "0.015925875",
         "0.014934502",
         "0.017041773",
         "0.015098197",
         "0.010255589",
         "0.015622083",
         "0.003513236",
         "0.013145631",
         "0.008543695",
         "0.000657845",
         "0.005341553",
         "0.004371982",
         "0.004952191",
         "0.005286363",
         "0.004181081",
         "0.000948939",
         "0.003713409",
         "0.00578193",
         "0.004327061",
         "0.005242548",
         "0.017555082",
         "0.021900403",
         "0.019233292",
         "0.012057657",
         "0.013368524",
         "0.004571855",
         "0.023586785",
         "0.016806302",
         "0.039522849",
         "0.024911006",
         "0.041623894",
         "0.000406404",
         "0.000973702",
         "0.00195931",
         "0.000215075",
         "0.00081295",
         "0.001336803",
         "0.002821497",
         "0.002026035",
         "0.002770105",
         "0.004982088",
         "0.005573813",
         "0.003360551",
         "0.010401322",
         "0.005779357",
         "0.013049245",
         "0.013657397",
         "0.002164399",
         "0.002146815",
         "0.001632225",
         "0.002037327",
         "0.002531521",
         "0.001860215",
         "0.001797708",
         "0.002917904",
         "0.0017699",
         "0.002138743",
         "0.001256693",
         "0.003293091",
         "0.003470761",
         "0.004422031",
         "0.005384068",
         "0.006456105",
         "3.806363275",
         "5.747025694",
         "6.833896513",
         "2.344777403",
         "7.3937526",
         "8.831360027",
         "8.894523589",
         "5.245285564",
         "2.709850383",
         "3.210985811",
         "-3.791831966",
         "6.823958272",
         "1.436615384",
         "10.2528116",
         "6.636662928",
         "10.00200224"
        ],
        [
         "2",
         "sub-P001",
         "Contrast1Size1",
         "2",
         "1",
         "0.840657479",
         "0.951814754",
         "0.736841039",
         "0.271586733",
         "0.350219154",
         "0.467871176",
         "0.176641681",
         "0.259410005",
         "0.219765265",
         "0.157766023",
         "0.219353887",
         "0.430824701",
         "0.364542476",
         "0.410675038",
         "0.497542949",
         "0.367064202",
         "0.217476336",
         "0.177633438",
         "0.100599759",
         "0.162596791",
         "0.15769989",
         "0.133531919",
         "0.064593932",
         "0.172764731",
         "0.169683867",
         "0.146110606",
         "0.068317949",
         "0.15546786",
         "0.123634152",
         "0.158659485",
         "0.100809242",
         "0.137228286",
         "0.079870335",
         "0.06229692",
         "0.028901533",
         "0.085130862",
         "0.083049367",
         "0.047300321",
         "0.028608524",
         "0.064906158",
         "0.063782118",
         "0.053698386",
         "0.052946026",
         "0.051951641",
         "0.11000253",
         "0.07439434",
         "0.151371853",
         "0.137804692",
         "0.071183392",
         "0.058431358",
         "0.038713485",
         "0.07128935",
         "0.081200445",
         "0.072727592",
         "0.043466477",
         "0.113486619",
         "0.083204003",
         "0.104929752",
         "0.108996652",
         "0.116379197",
         "0.237480791",
         "0.170827069",
         "0.305932703",
         "0.252391724",
         "1.122036097",
         "1.0661556",
         "0.746549511",
         "1.194159612",
         "1.022769856",
         "0.650376551",
         "0.658174449",
         "0.571927847",
         "0.766575107",
         "0.511755582",
         "0.485758276",
         "0.446399721",
         "0.463206011",
         "0.435495032",
         "0.494788074",
         "0.545995287",
         "2.722867448",
         "2.851400007",
         "3.48077583",
         "1.909962941",
         "1.898869265",
         "2.82306583",
         "2.257856111",
         "2.66176179",
         "2.660367406",
         "2.720949655",
         "1.290331953",
         "2.99254953",
         "1.123920987",
         "2.132682212",
         "0.665970852",
         "0.995817227",
         "3.055155564",
         "3.040036086",
         "2.598571492",
         "2.280800604",
         "1.942106244",
         "1.836055819",
         "1.486063201",
         "1.522335689",
         "2.03937143",
         "1.392461175",
         "0.626789425",
         "1.335873277",
         "0.520606957",
         "0.928772509",
         "0.329514435",
         "0.543711513",
         "0.297346671",
         "0.239930357",
         "0.129501292",
         "0.247727653",
         "0.240749257",
         "0.18083224",
         "0.093202456",
         "0.237670889",
         "0.233465984",
         "0.199808993",
         "0.121263975",
         "0.207419501",
         "0.233636682",
         "0.233053825",
         "0.252181095",
         "0.275032978",
         "4.177191662",
         "4.106191686",
         "3.345121003",
         "3.474960215",
         "2.9648761",
         "2.486432371",
         "2.14423765",
         "2.094263536",
         "2.805946537",
         "1.904216757",
         "1.112547701",
         "1.782272998",
         "0.983812967",
         "1.364267541",
         "0.824302509",
         "1.0897068",
         "0.368530063",
         "0.298361716",
         "0.168214777",
         "0.319017003",
         "0.321949702",
         "0.253559832",
         "0.136668933",
         "0.351157509",
         "0.316669987",
         "0.304738745",
         "0.230260627",
         "0.323798699",
         "0.471117473",
         "0.403880893",
         "0.558113798",
         "0.527424703",
         "1.968482849",
         "1.987358399",
         "1.915274077",
         "1.583731738",
         "1.465750585",
         "1.506584887",
         "1.293131523",
         "1.332289863",
         "1.588353943",
         "1.259606235",
         "0.748808012",
         "1.232213317",
         "0.672368047",
         "0.950381234",
         "0.551451088",
         "0.704857776",
         "1.439728367",
         "1.471349053",
         "1.487831565",
         "1.039487096",
         "0.9601222",
         "1.112507214",
         "0.896204378",
         "0.968451378",
         "1.154421016",
         "0.921088826",
         "0.421865007",
         "0.923585131",
         "0.355798809",
         "0.647005032",
         "0.220442243",
         "0.351690278",
         "1425.557725",
         "1000.426421",
         "475.9979778",
         "1743.281632",
         "1553.279128",
         "1017.713819",
         "581.4301702",
         "1894.79031",
         "1635.979368",
         "1089.674523",
         "225.8404676",
         "1228.795495",
         "449.7716239",
         "679.7480008",
         "372.5274579",
         "626.3767766",
         "643.255988",
         "575.1535277",
         "720.5279871",
         "391.4412287",
         "866.8691197",
         "904.0935188",
         "1173.131905",
         "1764.823301",
         "852.3094446",
         "338.4305643",
         "707.2060026",
         "2975.295299",
         "2059.240739",
         "4295.171517",
         "4183.943136",
         "4965.489332",
         "163.7789523",
         "133.3654401",
         "94.30706734",
         "369.1741752",
         "282.7035924",
         "197.7943975",
         "220.7369543",
         "589.3974314",
         "569.6682347",
         "630.5024431",
         "391.8213167",
         "518.3009218",
         "1064.631573",
         "735.3924337",
         "1429.745733",
         "1484.069257",
         "31.08285691",
         "68.88086393",
         "98.988544",
         "114.0801031",
         "74.65382462",
         "188.9797587",
         "123.6171883",
         "220.5430467",
         "216.9010394",
         "141.0506822",
         "227.723592",
         "414.2551181",
         "608.774136",
         "598.0417456",
         "1112.539502",
         "940.8203796",
         "0.012780731",
         "0.008957427",
         "0.005001473",
         "0.018917233",
         "0.016251139",
         "0.010495691",
         "0.008772165",
         "0.021341839",
         "0.017609141",
         "0.012966181",
         "0.00291817",
         "0.011679068",
         "0.004231483",
         "0.005894258",
         "0.003231909",
         "0.005657722",
         "0.005767063",
         "0.0051497",
         "0.007570833",
         "0.004247727",
         "0.009069594",
         "0.009323924",
         "0.017699299",
         "0.019877964",
         "0.009173977",
         "0.00402703",
         "0.009138077",
         "0.028278649",
         "0.019373482",
         "0.03724446",
         "0.036298331",
         "0.044850572",
         "0.001468348",
         "0.001194102",
         "0.000990916",
         "0.004006096",
         "0.002957778",
         "0.002039855",
         "0.003330307",
         "0.006638637",
         "0.006131721",
         "0.007502432",
         "0.005062872",
         "0.004926183",
         "0.010016129",
         "0.006376764",
         "0.012403941",
         "0.013404793",
         "0.000278671",
         "0.000616732",
         "0.001040106",
         "0.001237941",
         "0.000781064",
         "0.00194895",
         "0.00186504",
         "0.002484071",
         "0.002334651",
         "0.001678381",
         "0.002942503",
         "0.003937282",
         "0.00572739",
         "0.005185763",
         "0.009651978",
         "0.00849792",
         "0.055768986",
         "1.032698993",
         "6.339184322",
         "0.077490907",
         "1.743327323",
         "4.330409001",
         "8.939924456",
         "8.248852569",
         "1.931214494",
         "2.975159463",
         "3.053013961",
         "11.51524717",
         "5.612836254",
         "12.98564265",
         "10.43993387",
         "11.51792368"
        ],
        [
         "3",
         "sub-P001",
         "Contrast1Size2",
         "0",
         "1",
         "5.868284557",
         "6.187137946",
         "5.014753493",
         "1.567451451",
         "1.414177665",
         "1.212041497",
         "0.56790867",
         "0.357591156",
         "0.605172833",
         "0.496795741",
         "0.290576965",
         "0.399252201",
         "0.3496673",
         "0.542977788",
         "0.243652778",
         "0.254153645",
         "0.962409494",
         "0.9184311",
         "0.654573797",
         "0.371389258",
         "0.356257768",
         "0.302825068",
         "0.086966904",
         "0.144176831",
         "0.188642629",
         "0.163775719",
         "0.079485951",
         "0.137270743",
         "0.116899702",
         "0.171652325",
         "0.151663734",
         "0.119993033",
         "0.097123093",
         "0.07699509",
         "0.05230323",
         "0.088824372",
         "0.061947424",
         "0.059902729",
         "0.027862299",
         "0.105467544",
         "0.088770723",
         "0.049111427",
         "0.042697915",
         "0.120132313",
         "0.095211374",
         "0.172224236",
         "0.163168784",
         "0.2017654",
         "0.096651932",
         "0.081664613",
         "0.056242671",
         "0.105138715",
         "0.11146035",
         "0.104989436",
         "0.045815571",
         "0.181494743",
         "0.123202145",
         "0.103851902",
         "0.085025164",
         "0.217609637",
         "0.216448525",
         "0.281679812",
         "0.298408512",
         "0.310054945",
         "1.004874822",
         "0.942820728",
         "0.929956369",
         "0.844830294",
         "0.555779918",
         "0.570559582",
         "0.60814039",
         "0.581105227",
         "0.720529035",
         "0.472898674",
         "0.502179744",
         "0.552054197",
         "0.439879985",
         "0.611418456",
         "0.546796681",
         "0.65074079",
         "9.90917265",
         "11.92843721",
         "12.5149785",
         "4.181163921",
         "5.750969857",
         "5.055280014",
         "3.121311089",
         "1.367025586",
         "2.125054559",
         "3.334778278",
         "1.861588589",
         "1.142662943",
         "1.227791362",
         "0.996679265",
         "0.929489882",
         "0.59471561",
         "9.957478106",
         "11.24637786",
         "11.63838396",
         "3.532373943",
         "3.196273557",
         "2.884338452",
         "1.898195343",
         "0.794385714",
         "1.531163512",
         "1.577012227",
         "0.934852081",
         "0.630811874",
         "0.540080846",
         "0.609388097",
         "0.508241982",
         "0.387005706",
         "1.059532587",
         "0.99542619",
         "0.706877027",
         "0.460213629",
         "0.418205192",
         "0.362727797",
         "0.114829203",
         "0.249644375",
         "0.277413352",
         "0.212887145",
         "0.122183866",
         "0.257403056",
         "0.212111076",
         "0.343876561",
         "0.314832518",
         "0.321758433",
         "10.96235293",
         "12.18919859",
         "12.56834033",
         "4.377204237",
         "3.752053475",
         "3.454898034",
         "2.506335734",
         "1.375490942",
         "2.251692547",
         "2.049910902",
         "1.437031825",
         "1.182866071",
         "0.979960831",
         "1.220806554",
         "1.055038663",
         "1.037746496",
         "1.156184519",
         "1.077090803",
         "0.763119697",
         "0.565352344",
         "0.529665542",
         "0.467717233",
         "0.160644774",
         "0.431139118",
         "0.400615497",
         "0.316739047",
         "0.20720903",
         "0.475012692",
         "0.428559601",
         "0.625556373",
         "0.61324103",
         "0.631813379",
         "5.467849068",
         "6.273969807",
         "6.512240655",
         "2.372686665",
         "2.411686532",
         "2.199787944",
         "1.55853043",
         "0.869955344",
         "1.308721039",
         "1.391752832",
         "0.956631076",
         "0.762129359",
         "0.680585077",
         "0.757597475",
         "0.68207973",
         "0.628655027",
         "4.966633325",
         "5.788685336",
         "6.030387084",
         "1.914741944",
         "2.054450967",
         "1.83650368",
         "1.180366686",
         "0.502424317",
         "0.889937618",
         "1.070686161",
         "0.622330373",
         "0.406436756",
         "0.375087404",
         "0.378168746",
         "0.328577109",
         "0.234443656",
         "2329.138871",
         "2583.548372",
         "2372.314676",
         "1001.985766",
         "723.1368652",
         "1313.876694",
         "964.1850739",
         "818.7857292",
         "762.7445487",
         "787.5669883",
         "784.7000477",
         "853.8379798",
         "809.391016",
         "945.749476",
         "1218.871296",
         "952.2765885",
         "1054.209781",
         "919.929701",
         "522.0656972",
         "1688.76328",
         "1046.613825",
         "1240.14109",
         "1025.650422",
         "1415.982829",
         "1618.645666",
         "1259.93392",
         "1460.078653",
         "2443.473075",
         "1284.821124",
         "3531.4342",
         "2585.866086",
         "4116.600022",
         "224.7890415",
         "313.7579902",
         "243.0526992",
         "153.1400081",
         "125.2380701",
         "221.3548924",
         "253.9734681",
         "438.5279034",
         "108.3681217",
         "105.1508605",
         "146.7430487",
         "239.1574942",
         "140.6595907",
         "353.9691376",
         "454.9567928",
         "562.1259134",
         "81.28184402",
         "50.61966927",
         "248.0985761",
         "51.91852122",
         "115.3183246",
         "101.8292769",
         "31.21120214",
         "48.87525369",
         "129.3316832",
         "108.5105924",
         "164.0721376",
         "187.0828645",
         "517.3319382",
         "532.4091",
         "872.7963951",
         "804.1533327",
         "0.013634408",
         "0.015285403",
         "0.016063899",
         "0.008749098",
         "0.006388693",
         "0.011985794",
         "0.013466115",
         "0.008731636",
         "0.008325446",
         "0.008842378",
         "0.009910297",
         "0.009184904",
         "0.007988592",
         "0.0083291",
         "0.010847408",
         "0.009091808",
         "0.006171176",
         "0.005442707",
         "0.003535117",
         "0.014745874",
         "0.009246513",
         "0.011313144",
         "0.014324559",
         "0.015100223",
         "0.017667706",
         "0.01414586",
         "0.018439928",
         "0.026284924",
         "0.01268103",
         "0.031100909",
         "0.023013049",
         "0.039303011",
         "0.001315879",
         "0.00185633",
         "0.001645808",
         "0.001337182",
         "0.00110644",
         "0.002019302",
         "0.003547074",
         "0.004676518",
         "0.001182851",
         "0.001180577",
         "0.001853278",
         "0.002572665",
         "0.001388293",
         "0.003117363",
         "0.004048912",
         "0.005366866",
         "0.000475811",
         "0.000299488",
         "0.001679975",
         "0.00045334",
         "0.001018802",
         "0.000928934",
         "0.000435906",
         "0.000521212",
         "0.00141167",
         "0.001218299",
         "0.002072134",
         "0.002012487",
         "0.005106004",
         "0.004688862",
         "0.007767497",
         "0.007677609",
         "3.42105576",
         "2.887985819",
         "1.161589013",
         "5.631358661",
         "4.484646911",
         "3.980952272",
         "7.054706754",
         "4.390395368",
         "5.668877384",
         "4.628687839",
         "7.891782976",
         "8.157198928",
         "6.132167333",
         "9.166935661",
         "8.423541154",
         "10.03786467"
        ],
        [
         "4",
         "sub-P001",
         "Contrast1Size2",
         "1",
         "1",
         "2.086934962",
         "2.286883596",
         "2.068593883",
         "0.854915136",
         "0.736912644",
         "0.635945733",
         "0.278267929",
         "0.425510899",
         "0.45405718",
         "0.439567245",
         "0.343457855",
         "0.484461042",
         "0.544782205",
         "0.524717187",
         "0.434527459",
         "0.413489355",
         "0.335924142",
         "0.309366674",
         "0.202128623",
         "0.237508666",
         "0.187978252",
         "0.15309831",
         "0.05836491",
         "0.177898471",
         "0.179161177",
         "0.117662162",
         "0.076991022",
         "0.241114904",
         "0.101840731",
         "0.235700863",
         "0.189159619",
         "0.162415923",
         "0.127024574",
         "0.133267771",
         "0.051809357",
         "0.112418229",
         "0.115499749",
         "0.099548016",
         "0.033916987",
         "0.15525833",
         "0.133597888",
         "0.072195048",
         "0.059734025",
         "0.237452998",
         "0.084174812",
         "0.261089745",
         "0.18040901",
         "0.261180531",
         "0.098573209",
         "0.089839827",
         "0.046071444",
         "0.107489457",
         "0.110045142",
         "0.104210326",
         "0.061347373",
         "0.11650753",
         "0.1093198",
         "0.093566334",
         "0.102616894",
         "0.15470624",
         "0.172520176",
         "0.174657622",
         "0.232477029",
         "0.225957723",
         "1.288631826",
         "1.483393001",
         "1.124543824",
         "1.045853539",
         "1.049566992",
         "0.955260574",
         "0.552867801",
         "1.332603386",
         "1.222083176",
         "0.771592136",
         "0.582107127",
         "1.534863745",
         "0.487912858",
         "1.494866026",
         "0.776029403",
         "1.155882294",
         "2.644560259",
         "2.321391529",
         "3.901392204",
         "2.112723783",
         "1.627520873",
         "1.537934319",
         "1.720816458",
         "1.145822394",
         "1.341047974",
         "1.629781622",
         "1.288897258",
         "1.0154216",
         "1.209871792",
         "0.902758028",
         "1.048504278",
         "0.621853101",
         "3.407864517",
         "3.443535945",
         "4.387286508",
         "2.209599646",
         "1.708192188",
         "1.469128021",
         "0.95138401",
         "1.526926802",
         "1.638872167",
         "1.257526682",
         "0.750276279",
         "1.558533801",
         "0.590312003",
         "1.349502305",
         "0.813670149",
         "0.718788989",
         "0.462948716",
         "0.442634444",
         "0.25393798",
         "0.349926895",
         "0.303478001",
         "0.252646325",
         "0.092281897",
         "0.333156801",
         "0.312759065",
         "0.189857209",
         "0.136725047",
         "0.478567902",
         "0.186015543",
         "0.496790608",
         "0.369568629",
         "0.423596454",
         "4.696496343",
         "4.926928946",
         "5.511830332",
         "3.255453185",
         "2.75775918",
         "2.424388595",
         "1.504251811",
         "2.859530188",
         "2.860955343",
         "2.029118818",
         "1.332383406",
         "3.093397546",
         "1.078224861",
         "2.844368331",
         "1.589699552",
         "1.874671283",
         "0.561521925",
         "0.532474271",
         "0.300009423",
         "0.457416351",
         "0.413523144",
         "0.356856651",
         "0.15362927",
         "0.449664331",
         "0.422078865",
         "0.283423543",
         "0.239341941",
         "0.633274141",
         "0.358535718",
         "0.67144823",
         "0.602045658",
         "0.649554176",
         "2.052097803",
         "1.983950565",
         "2.594359443",
         "1.591244497",
         "1.345532588",
         "1.239931202",
         "0.96869277",
         "1.22589644",
         "1.287510465",
         "1.145364544",
         "0.842157515",
         "1.220340759",
         "0.72465592",
         "1.140088607",
         "0.89508628",
         "0.869561056",
         "1.48904008",
         "1.386625453",
         "2.065048722",
         "1.08003804",
         "0.833440524",
         "0.751371986",
         "0.612662591",
         "0.654601983",
         "0.737538624",
         "0.709828553",
         "0.474225965",
         "0.61483928",
         "0.39673829",
         "0.540911733",
         "0.458140022",
         "0.333408272",
         "2003.586297",
         "1765.655543",
         "1213.233101",
         "1362.614359",
         "1541.257848",
         "1210.516656",
         "810.7602678",
         "420.2677366",
         "960.3184398",
         "1050.023929",
         "980.8722304",
         "464.829092",
         "748.7757096",
         "539.1758673",
         "638.4937755",
         "421.0677263",
         "922.6957725",
         "955.7938759",
         "777.7412858",
         "440.6394346",
         "402.6277102",
         "501.827198",
         "346.8543188",
         "1176.961606",
         "570.546777",
         "568.1585492",
         "393.0415371",
         "1860.172379",
         "1019.542366",
         "3119.082309",
         "3371.696831",
         "4115.367683",
         "278.8051039",
         "263.0618692",
         "228.1249154",
         "294.912614",
         "361.8075858",
         "293.4244768",
         "153.3063859",
         "315.6387904",
         "342.9159179",
         "427.8556898",
         "352.2929314",
         "189.5202817",
         "673.9304525",
         "246.6080115",
         "358.7626443",
         "308.4470982",
         "107.5976667",
         "185.6683009",
         "118.0829732",
         "131.7856549",
         "193.1462783",
         "346.4483974",
         "270.887009",
         "88.15945999",
         "77.52409542",
         "176.0885276",
         "189.7632279",
         "151.1712109",
         "363.8074539",
         "337.5245916",
         "586.1305827",
         "536.0870614",
         "0.015468142",
         "0.01332956",
         "0.011176215",
         "0.013920675",
         "0.01516162",
         "0.011870937",
         "0.011735996",
         "0.004360867",
         "0.009944616",
         "0.011882575",
         "0.012471782",
         "0.004475737",
         "0.005677386",
         "0.004654556",
         "0.005861405",
         "0.004055665",
         "0.007123421",
         "0.007215627",
         "0.007164496",
         "0.004501639",
         "0.003960718",
         "0.004921171",
         "0.005020819",
         "0.012212627",
         "0.00590832",
         "0.006429555",
         "0.00499752",
         "0.017911189",
         "0.0077304",
         "0.026926174",
         "0.030952348",
         "0.039638637",
         "0.002152439",
         "0.001985947",
         "0.00210147",
         "0.003012872",
         "0.003559164",
         "0.002877469",
         "0.002219156",
         "0.003275195",
         "0.00355108",
         "0.00484182",
         "0.004479402",
         "0.001824849",
         "0.005109893",
         "0.002128899",
         "0.003293459",
         "0.002970919",
         "0.000830678",
         "0.001401676",
         "0.001087772",
         "0.001346342",
         "0.001900013",
         "0.003397448",
         "0.00392117",
         "0.000914778",
         "0.000802804",
         "0.001992702",
         "0.002412838",
         "0.001455594",
         "0.00275847",
         "0.002913756",
         "0.005380708",
         "0.005163514",
         "1.554954106",
         "2.934250211",
         "5.444342607",
         "-3.295225835",
         "-2.112488952",
         "1.598578679",
         "3.732883908",
         "0.967963899",
         "-2.265709519",
         "-0.184491375",
         "-2.654641249",
         "2.717985527",
         "1.452652752",
         "5.397260209",
         "6.099018641",
         "6.456627795"
        ]
       ],
       "shape": {
        "columns": 340,
        "rows": 5
       }
      },
      "text/html": [
       "<div>\n",
       "<style scoped>\n",
       "    .dataframe tbody tr th:only-of-type {\n",
       "        vertical-align: middle;\n",
       "    }\n",
       "\n",
       "    .dataframe tbody tr th {\n",
       "        vertical-align: top;\n",
       "    }\n",
       "\n",
       "    .dataframe thead th {\n",
       "        text-align: right;\n",
       "    }\n",
       "</style>\n",
       "<table border=\"1\" class=\"dataframe\">\n",
       "  <thead>\n",
       "    <tr style=\"text-align: right;\">\n",
       "      <th></th>\n",
       "      <th>Participant</th>\n",
       "      <th>Stimulus</th>\n",
       "      <th>Epoch</th>\n",
       "      <th>Comfort Score</th>\n",
       "      <th>Fz_delta</th>\n",
       "      <th>F4_delta</th>\n",
       "      <th>F8_delta</th>\n",
       "      <th>C3_delta</th>\n",
       "      <th>Cz_delta</th>\n",
       "      <th>C4_delta</th>\n",
       "      <th>...</th>\n",
       "      <th>T8_SNR</th>\n",
       "      <th>P7_SNR</th>\n",
       "      <th>P3_SNR</th>\n",
       "      <th>P4_SNR</th>\n",
       "      <th>P8_SNR</th>\n",
       "      <th>PO7_SNR</th>\n",
       "      <th>PO8_SNR</th>\n",
       "      <th>O1_SNR</th>\n",
       "      <th>Oz_SNR</th>\n",
       "      <th>O2_SNR</th>\n",
       "    </tr>\n",
       "  </thead>\n",
       "  <tbody>\n",
       "    <tr>\n",
       "      <th>0</th>\n",
       "      <td>sub-P001</td>\n",
       "      <td>Contrast1Size1</td>\n",
       "      <td>0</td>\n",
       "      <td>2</td>\n",
       "      <td>2.448824</td>\n",
       "      <td>2.735208</td>\n",
       "      <td>2.625825</td>\n",
       "      <td>0.667754</td>\n",
       "      <td>0.630366</td>\n",
       "      <td>0.600551</td>\n",
       "      <td>...</td>\n",
       "      <td>5.579797</td>\n",
       "      <td>4.563784</td>\n",
       "      <td>6.715668</td>\n",
       "      <td>1.686805</td>\n",
       "      <td>2.526394</td>\n",
       "      <td>6.401941</td>\n",
       "      <td>3.930841</td>\n",
       "      <td>9.300906</td>\n",
       "      <td>6.110192</td>\n",
       "      <td>7.194652</td>\n",
       "    </tr>\n",
       "    <tr>\n",
       "      <th>1</th>\n",
       "      <td>sub-P001</td>\n",
       "      <td>Contrast1Size1</td>\n",
       "      <td>1</td>\n",
       "      <td>1</td>\n",
       "      <td>2.723200</td>\n",
       "      <td>2.861303</td>\n",
       "      <td>2.246634</td>\n",
       "      <td>0.733556</td>\n",
       "      <td>0.685686</td>\n",
       "      <td>0.493758</td>\n",
       "      <td>...</td>\n",
       "      <td>8.894524</td>\n",
       "      <td>5.245286</td>\n",
       "      <td>2.709850</td>\n",
       "      <td>3.210986</td>\n",
       "      <td>-3.791832</td>\n",
       "      <td>6.823958</td>\n",
       "      <td>1.436615</td>\n",
       "      <td>10.252812</td>\n",
       "      <td>6.636663</td>\n",
       "      <td>10.002002</td>\n",
       "    </tr>\n",
       "    <tr>\n",
       "      <th>2</th>\n",
       "      <td>sub-P001</td>\n",
       "      <td>Contrast1Size1</td>\n",
       "      <td>2</td>\n",
       "      <td>1</td>\n",
       "      <td>0.840657</td>\n",
       "      <td>0.951815</td>\n",
       "      <td>0.736841</td>\n",
       "      <td>0.271587</td>\n",
       "      <td>0.350219</td>\n",
       "      <td>0.467871</td>\n",
       "      <td>...</td>\n",
       "      <td>8.939924</td>\n",
       "      <td>8.248853</td>\n",
       "      <td>1.931214</td>\n",
       "      <td>2.975159</td>\n",
       "      <td>3.053014</td>\n",
       "      <td>11.515247</td>\n",
       "      <td>5.612836</td>\n",
       "      <td>12.985643</td>\n",
       "      <td>10.439934</td>\n",
       "      <td>11.517924</td>\n",
       "    </tr>\n",
       "    <tr>\n",
       "      <th>3</th>\n",
       "      <td>sub-P001</td>\n",
       "      <td>Contrast1Size2</td>\n",
       "      <td>0</td>\n",
       "      <td>1</td>\n",
       "      <td>5.868285</td>\n",
       "      <td>6.187138</td>\n",
       "      <td>5.014753</td>\n",
       "      <td>1.567451</td>\n",
       "      <td>1.414178</td>\n",
       "      <td>1.212041</td>\n",
       "      <td>...</td>\n",
       "      <td>7.054707</td>\n",
       "      <td>4.390395</td>\n",
       "      <td>5.668877</td>\n",
       "      <td>4.628688</td>\n",
       "      <td>7.891783</td>\n",
       "      <td>8.157199</td>\n",
       "      <td>6.132167</td>\n",
       "      <td>9.166936</td>\n",
       "      <td>8.423541</td>\n",
       "      <td>10.037865</td>\n",
       "    </tr>\n",
       "    <tr>\n",
       "      <th>4</th>\n",
       "      <td>sub-P001</td>\n",
       "      <td>Contrast1Size2</td>\n",
       "      <td>1</td>\n",
       "      <td>1</td>\n",
       "      <td>2.086935</td>\n",
       "      <td>2.286884</td>\n",
       "      <td>2.068594</td>\n",
       "      <td>0.854915</td>\n",
       "      <td>0.736913</td>\n",
       "      <td>0.635946</td>\n",
       "      <td>...</td>\n",
       "      <td>3.732884</td>\n",
       "      <td>0.967964</td>\n",
       "      <td>-2.265710</td>\n",
       "      <td>-0.184491</td>\n",
       "      <td>-2.654641</td>\n",
       "      <td>2.717986</td>\n",
       "      <td>1.452653</td>\n",
       "      <td>5.397260</td>\n",
       "      <td>6.099019</td>\n",
       "      <td>6.456628</td>\n",
       "    </tr>\n",
       "  </tbody>\n",
       "</table>\n",
       "<p>5 rows × 340 columns</p>\n",
       "</div>"
      ],
      "text/plain": [
       "  Participant        Stimulus  Epoch  Comfort Score  Fz_delta  F4_delta  \\\n",
       "0    sub-P001  Contrast1Size1      0              2  2.448824  2.735208   \n",
       "1    sub-P001  Contrast1Size1      1              1  2.723200  2.861303   \n",
       "2    sub-P001  Contrast1Size1      2              1  0.840657  0.951815   \n",
       "3    sub-P001  Contrast1Size2      0              1  5.868285  6.187138   \n",
       "4    sub-P001  Contrast1Size2      1              1  2.086935  2.286884   \n",
       "\n",
       "   F8_delta  C3_delta  Cz_delta  C4_delta  ...    T8_SNR    P7_SNR    P3_SNR  \\\n",
       "0  2.625825  0.667754  0.630366  0.600551  ...  5.579797  4.563784  6.715668   \n",
       "1  2.246634  0.733556  0.685686  0.493758  ...  8.894524  5.245286  2.709850   \n",
       "2  0.736841  0.271587  0.350219  0.467871  ...  8.939924  8.248853  1.931214   \n",
       "3  5.014753  1.567451  1.414178  1.212041  ...  7.054707  4.390395  5.668877   \n",
       "4  2.068594  0.854915  0.736913  0.635946  ...  3.732884  0.967964 -2.265710   \n",
       "\n",
       "     P4_SNR    P8_SNR    PO7_SNR   PO8_SNR     O1_SNR     Oz_SNR     O2_SNR  \n",
       "0  1.686805  2.526394   6.401941  3.930841   9.300906   6.110192   7.194652  \n",
       "1  3.210986 -3.791832   6.823958  1.436615  10.252812   6.636663  10.002002  \n",
       "2  2.975159  3.053014  11.515247  5.612836  12.985643  10.439934  11.517924  \n",
       "3  4.628688  7.891783   8.157199  6.132167   9.166936   8.423541  10.037865  \n",
       "4 -0.184491 -2.654641   2.717986  1.452653   5.397260   6.099019   6.456628  \n",
       "\n",
       "[5 rows x 340 columns]"
      ]
     },
     "execution_count": 2,
     "metadata": {},
     "output_type": "execute_result"
    }
   ],
   "source": [
    "file_path = \"features-Master.csv\"\n",
    "\n",
    "# Load the data\n",
    "data = pd.read_csv(file_path)\n",
    "data.head()"
   ]
  },
  {
   "cell_type": "markdown",
   "metadata": {},
   "source": [
    "# Define Features and Labels"
   ]
  },
  {
   "cell_type": "code",
   "execution_count": 3,
   "metadata": {},
   "outputs": [],
   "source": [
    "# Shuffle the data before splitting or training, keeping features and labels aligned\n",
    "shuffled = data.sample(frac=1, random_state=42).reset_index(drop=True)\n",
    "data_shuffled = shuffled.iloc[:, 4:]\n",
    "labels_shuffled = shuffled[\"Comfort Score\"]"
   ]
  },
  {
   "cell_type": "markdown",
   "metadata": {},
   "source": [
    "# Break into train/split \n",
    "- hardcode 80/20 for now\n",
    "    * 400 total rows of data, use first 320 for training, last 80 for testing"
   ]
  },
  {
   "cell_type": "code",
   "execution_count": null,
   "metadata": {},
   "outputs": [],
   "source": [
    "data_train = data_shuffled[:320]\n",
    "data_test = data_shuffled[320:]\n",
    "labels_train = labels_shuffled[:320]\n",
    "labels_test = labels_shuffled[320:]"
   ]
  },
  {
   "cell_type": "markdown",
   "metadata": {},
   "source": [
    "# Check distribution of labels"
   ]
  },
  {
   "cell_type": "code",
   "execution_count": null,
   "metadata": {},
   "outputs": [
    {
     "data": {
      "image/png": "[encoded data removed]",
      "text/plain": [
       "<Figure size 640x480 with 1 Axes>"
      ]
     },
     "metadata": {},
     "output_type": "display_data"
    }
   ],
   "source": [
    "# Plot histogram\n",
    "plt.hist(labels_test, bins=range(min(labels_test), max(labels_test)+2), edgecolor='black', align='left')\n",
    "plt.title('Histogram of labels_train')\n",
    "plt.xlabel('Label')\n",
    "plt.ylabel('Frequency')\n",
    "plt.xticks(range(min(labels_test), max(labels_test)+1))\n",
    "plt.grid(axis='y', linestyle='--', alpha=0.7)\n",
    "plt.show()"
   ]
  },
  {
   "cell_type": "markdown",
   "metadata": {},
   "source": [
    "# Run Feature Selection\n",
    "- https://github.com/smazzanti/mrmr "
   ]
  },
  {
   "cell_type": "code",
   "execution_count": null,
   "metadata": {},
   "outputs": [],
   "source": []
  },
  {
   "cell_type": "markdown",
   "metadata": {},
   "source": [
    "## Compile data with only best N features\n",
    "- Use or Not (don't throw away features)\n",
    "- Make 'use_mrmr' a hyperparameter"
   ]
  },
  {
   "cell_type": "code",
   "execution_count": null,
   "metadata": {},
   "outputs": [],
   "source": []
  },
  {
   "cell_type": "markdown",
   "metadata": {},
   "source": [
    "# Seaborn Pair Plot\n",
    "- Visual how comfort scores (y_values) vary with different feature values\n",
    "- If a particular feature is highly correlated with the y_values, that is a good feature"
   ]
  },
  {
   "cell_type": "code",
   "execution_count": null,
   "metadata": {},
   "outputs": [],
   "source": []
  },
  {
   "cell_type": "markdown",
   "metadata": {},
   "source": [
    "# Optimize hyperparameters\n",
    "- Use CV hyperparameters\n",
    "- Preprocessing steps\n",
    "- Feature selection"
   ]
  },
  {
   "cell_type": "markdown",
   "metadata": {},
   "source": [
    "## CV Hyperparameters"
   ]
  },
  {
   "cell_type": "code",
   "execution_count": null,
   "metadata": {},
   "outputs": [],
   "source": [
    "# Set parameters for Cross validation\n",
    "params = {\n",
    "    'iterations': 350, # trial.suggest(5, 500) [example, not real values]\n",
    "    'learning_rate': 0.03,\n",
    "    'depth': 4,\n",
    "    'l2_leaf_reg': 10,\n",
    "    'loss_function': 'RMSE',\n",
    "    'verbose': False,\n",
    "    'random_seed': 42\n",
    "}\n",
    "\n",
    "# Run Cross-Validation \n",
    "train_pool = Pool(data_train, labels_train)\n",
    "cv_results = cv(train_pool, params, fold_count=5, early_stopping_rounds=10, plot=True)\n",
    "\n",
    "## PUT ABOVE CODE inside optuna objective object\n",
    "# Output = optimize the mean CV accuracy, r2, RMSE\n",
    "\n",
    "# Print final test RMSE\n",
    "print(f\"CV RMSE: {cv_results['test-RMSE-mean'].values[-1]:.4f}\")"
   ]
  },
  {
   "cell_type": "markdown",
   "metadata": {},
   "source": [
    "## Feature Selection"
   ]
  },
  {
   "cell_type": "code",
   "execution_count": null,
   "metadata": {},
   "outputs": [],
   "source": []
  },
  {
   "cell_type": "markdown",
   "metadata": {},
   "source": [
    "## Preproccesing (Options at this point)"
   ]
  },
  {
   "cell_type": "markdown",
   "metadata": {},
   "source": [
    "# Regression Model"
   ]
  },
  {
   "cell_type": "code",
   "execution_count": null,
   "metadata": {},
   "outputs": [
    {
     "data": {
      "application/vnd.jupyter.widget-view+json": {
       "model_id": "f0f45ec316dc4fcbaf00eb3f02a02dc5",
       "version_major": 2,
       "version_minor": 0
      },
      "text/plain": [
       "MetricVisualizer(layout=Layout(align_self='stretch', height='500px'))"
      ]
     },
     "metadata": {},
     "output_type": "display_data"
    },
    {
     "name": "stdout",
     "output_type": "stream",
     "text": [
      "Training on fold [0/5]\n",
      "\n",
      "bestTest = 1.066543981\n",
      "bestIteration = 228\n",
      "\n",
      "Training on fold [1/5]\n",
      "\n",
      "bestTest = 1.235814985\n",
      "bestIteration = 134\n",
      "\n",
      "Training on fold [2/5]\n",
      "\n",
      "bestTest = 1.117110723\n",
      "bestIteration = 189\n",
      "\n",
      "Training on fold [3/5]\n",
      "\n",
      "bestTest = 1.133937041\n",
      "bestIteration = 199\n",
      "\n",
      "Training on fold [4/5]\n",
      "\n",
      "bestTest = 1.182290848\n",
      "bestIteration = 324\n",
      "\n",
      "CV RMSE: 1.1480\n",
      "\n",
      "Top 10 Important Features:\n",
      "            feature  importance\n",
      "223   O2_abs_fft_10    8.813083\n",
      "221   O1_abs_fft_10    5.376800\n",
      "325          C4_SNR    4.041389\n",
      "326          T8_SNR    2.317003\n",
      "285  O1_norm_fft_10    2.202012\n",
      "238   Oz_abs_fft_20    1.872423\n",
      "12        PO8_delta    1.848295\n",
      "233   P4_abs_fft_20    1.763739\n",
      "303  O2_norm_fft_20    1.495873\n",
      "297  P4_norm_fft_20    1.476914\n",
      "Reduced Model Test RMSE: 1.3643\n",
      "Reduced Model Test R²: 0.2033\n"
     ]
    }
   ],
   "source": [
    "# Train final model on full dataset \n",
    "model = CatBoostRegressor(**params)\n",
    "model.fit(data_train, labels_train)\n",
    "\n",
    "# Run Regression model\n",
    "y_pred = model.predict(data_test)\n",
    "\n",
    "# Calculate RMSE\n",
    "rmse = mean_squared_error(labels_test, y_pred)\n",
    "r2 = r2_score(labels_test, y_pred)\n",
    "\n",
    "print(f\"Reduced Model Test RMSE: {rmse:.4f}\")\n",
    "print(f\"Reduced Model Test R²: {r2:.4f}\")"
   ]
  },
  {
   "cell_type": "markdown",
   "metadata": {},
   "source": [
    "# To know whether this actually works\n",
    "- feature selection \n",
    "    - https://github.com/smazzanti/mrmr \n",
    "    - or also use optuna \"use this feature yes or no\", filter out features that return No\n",
    "- hyperparameter optimization\n",
    "    - https://optuna.org/\n",
    "        - for all of the points in the model where I am not sure what to do, call this\n",
    "        - make sure to know the variable you are optimizing\n",
    "            - here, want to optimize the mean CV accuracy, r2, RMSE\n",
    "        - do a CV inside of this\n",
    "\n",
    "- check distribution of y values"
   ]
  },
  {
   "cell_type": "markdown",
   "metadata": {},
   "source": [
    "- reduce feature count\n",
    "    - BEFORE CV\n",
    "    - https://github.com/smazzanti/mrmr \n",
    "    - start w 5 and increase\n",
    "- run again, if it needs 300+ features to get to this point, something is wrong\n",
    "\n",
    "\n",
    "- classification \n",
    "    - distribution of y values [class imbalance]\n",
    "    - stratified k-fold CV (sci-kit) \n",
    "        - makes it so there is an equal distribution of all classes\n",
    "\n",
    "- visualize data\n",
    "    - features\n",
    "    - y values (seaborn- pair plot)\n",
    "        - how do features vary with the y values"
   ]
  }
 ],
 "metadata": {
  "kernelspec": {
   "display_name": "bessy",
   "language": "python",
   "name": "python3"
  },
  "language_info": {
   "codemirror_mode": {
    "name": "ipython",
    "version": 3
   },
   "file_extension": ".py",
   "mimetype": "text/x-python",
   "name": "python",
   "nbconvert_exporter": "python",
   "pygments_lexer": "ipython3",
   "version": "3.13.2"
  }
 },
 "nbformat": 4,
 "nbformat_minor": 2
}

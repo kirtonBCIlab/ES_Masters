{
 "cells": [
  {
   "cell_type": "code",
   "execution_count": 1,
   "id": "308100a6",
   "metadata": {},
   "outputs": [],
   "source": [
    "# Import libraries\n",
    "import mne\n",
    "import json\n",
    "import numpy as np\n",
    "import pandas as pd\n",
    "import scipy.signal as signal\n",
    "from scipy.signal import butter, filtfilt, find_peaks\n",
    "from scipy.stats import zscore\n",
    "import matplotlib.pyplot as plt\n",
    "import sys\n",
    "import os\n",
    "\n",
    "sys.path.append(os.path.abspath(\"../Functions\"))\n",
    "\n",
    "# Import custom scripts\n",
    "import import_data\n",
    "import data_tools\n",
    "import processing\n",
    "\n",
    "# Enable interactive plots\n",
    "%matplotlib qt"
   ]
  },
  {
   "cell_type": "code",
   "execution_count": 2,
   "id": "32fe730c",
   "metadata": {},
   "outputs": [
    {
     "name": "stdout",
     "output_type": "stream",
     "text": [
      "Creating RawArray with float64 data, n_channels=16, n_times=8080\n",
      "    Range : 0 ... 8079 =      0.000 ...    31.559 secs\n",
      "Ready.\n"
     ]
    }
   ],
   "source": [
    "# Load list of files to import\n",
    "files = [  \n",
    "\"sub-Ashley_ses-1_task-T1_run-001_eeg\"\n",
    "]\n",
    "\n",
    "# Get unique subject IDs\n",
    "subject_ids = [file.split('_')[0] for file in files]\n",
    "\n",
    "# Preallocate eeg_ts, eeg_data, eeg_fs\n",
    "eeg_ts =   [None] * len(files)\n",
    "eeg_data = [None] * len(files)\n",
    "raw_eeg =  [None] * len(files)\n",
    "\n",
    "ch_names = [\"Fz\", \"F4\", \"F8\", \"C3\", \"Cz\", \"C4\", \"T8\", \"P7\", \"P3\", \"P4\", \"P8\", \"PO7\", \"PO8\", \"O1\", \"Oz\", \"O2\"]\n",
    "\n",
    "for f, file in enumerate(files):\n",
    "    for sub in subject_ids:\n",
    "        if sub == file.split('_')[0]:\n",
    "            [eeg_ts[f], eeg_data[f], eeg_fs] = import_data.read_xdf(f\"..\\\\Data\\\\{file}.xdf\", picks=ch_names)\n",
    "\n",
    "            # Create MNE array\n",
    "            info = mne.create_info(ch_names, eeg_fs, ch_types = 'eeg')  # Create info properties\n",
    "            raw_eeg[f] = mne.io.RawArray(eeg_data[f], info = info)            \n",
    "\n",
    "            # Set standard channel montage\n",
    "            raw_eeg[f].set_montage('standard_1020')"
   ]
  },
  {
   "cell_type": "code",
   "execution_count": 22,
   "id": "71e13fe2",
   "metadata": {},
   "outputs": [
    {
     "name": "stdout",
     "output_type": "stream",
     "text": [
      "Filtering raw data in 1 contiguous segment\n",
      "Setting up band-pass filter from 0.5 - 8 Hz\n",
      "\n",
      "FIR filter parameters\n",
      "---------------------\n",
      "Designing a one-pass, zero-phase, non-causal bandpass filter:\n",
      "- Windowed time-domain design (firwin) method\n",
      "- Hamming window with 0.0194 passband ripple and 53 dB stopband attenuation\n",
      "- Lower passband edge: 0.50\n",
      "- Lower transition bandwidth: 0.50 Hz (-6 dB cutoff frequency: 0.25 Hz)\n",
      "- Upper passband edge: 8.00 Hz\n",
      "- Upper transition bandwidth: 2.00 Hz (-6 dB cutoff frequency: 9.00 Hz)\n",
      "- Filter length: 1691 samples (6.605 s)\n",
      "\n"
     ]
    },
    {
     "data": {
      "image/png": "[encoded data removed]",
      "text/plain": [
       "<MNEBrowseFigure size 800x877 with 4 Axes>"
      ]
     },
     "execution_count": 22,
     "metadata": {},
     "output_type": "execute_result"
    }
   ],
   "source": [
    "# Preallocate lists for filtered data\n",
    "filt_raw = [None] * len(files)\n",
    "\n",
    "# Loop through each file and corresponding raw EEG\n",
    "for f, file in enumerate(files):\n",
    "    raw = raw_eeg[f]\n",
    "    filt_raw[f] = raw.copy().filter(l_freq=0.5, h_freq=8, picks=ch_names)\n",
    "\n",
    "filt_raw[0].plot(picks = ['Fz', 'F4'])"
   ]
  },
  {
   "cell_type": "markdown",
   "id": "fa5ef047",
   "metadata": {},
   "source": [
    "## Compute Z-scores for raw time-series (before epoching)"
   ]
  },
  {
   "cell_type": "code",
   "execution_count": 4,
   "id": "abc8bb1b",
   "metadata": {},
   "outputs": [],
   "source": [
    "epoch_length = 1280\n",
    "\n",
    "filtered = filt_raw[0].get_data(picks = ['Fz', 'F4'])\n",
    "\n",
    "z_scored_data = zscore(filtered, axis=1)\n",
    "\n",
    "n_epochs = z_scored_data.shape[1] // epoch_length\n",
    "\n",
    "z_scored_epochs = [z_scored_data[:, i*epoch_length : (i + 1)*epoch_length] for i in range(n_epochs)]\n",
    "\n",
    "if z_scored_data.shape[1] % epoch_length != 0:\n",
    "    z_scored_epochs.append(z_scored_data[:, n_epochs * epoch_length:])"
   ]
  },
  {
   "cell_type": "code",
   "execution_count": 16,
   "id": "423e12a5",
   "metadata": {},
   "outputs": [],
   "source": [
    "def count_eye_blinks_v2(eeg_epochs, sfreq, channel_names, frontal_channels=['Fz', 'F4'], min_dist_ms=100):\n",
    "    frontal_idxs = [i for i, ch in enumerate(channel_names) if ch in frontal_channels]\n",
    "    if not frontal_idxs:\n",
    "        raise ValueError(\"No frontal channels found in data.\")\n",
    "\n",
    "    blink_counts = []\n",
    "    min_dist_samples = int(sfreq * (min_dist_ms / 1000))\n",
    "\n",
    "    for epoch in eeg_epochs:\n",
    "        # Average signal from frontal channels\n",
    "        frontal_avg = np.mean(epoch[frontal_idxs, :], axis=0)\n",
    "\n",
    "        # Find both positive and negative peaks above threshold\n",
    "        pos_peaks, _ = signal.find_peaks(frontal_avg, height=2)\n",
    "        neg_peaks, _ = signal.find_peaks(-frontal_avg, height=2)\n",
    "\n",
    "        # Combine and sort peaks\n",
    "        all_peaks = np.sort(np.concatenate((pos_peaks, neg_peaks)))\n",
    "\n",
    "        # Apply minimum distance filtering\n",
    "        filtered_peaks = []\n",
    "        last_peak = -np.inf\n",
    "\n",
    "        for peak in all_peaks:\n",
    "            if peak - last_peak >= min_dist_samples:\n",
    "                filtered_peaks.append(peak)\n",
    "                last_peak = peak\n",
    "\n",
    "        blink_counts.append(len(filtered_peaks))\n",
    "\n",
    "    return blink_counts\n"
   ]
  },
  {
   "cell_type": "code",
   "execution_count": null,
   "id": "fd762661",
   "metadata": {},
   "outputs": [
    {
     "name": "stdout",
     "output_type": "stream",
     "text": [
      "[0, 6, 4, 4, 5, 5, 5]\n"
     ]
    }
   ],
   "source": [
    "blink_count_z = []  # Final list of blink counts per epoch\n",
    "\n",
    "for epoch in z_scored_epochs:\n",
    "    result = count_eye_blinks_v2(\n",
    "        eeg_epochs=[epoch],  # one epoch at a time\n",
    "        sfreq=eeg_fs,\n",
    "        channel_names=ch_names,\n",
    "        frontal_channels=['Fz', 'F4'],\n",
    "    )\n",
    "    blink_count_z.extend(result)  # result is a list with 1 item per epoch\n",
    "\n",
    "print(blink_count_z)"
   ]
  },
  {
   "cell_type": "code",
   "execution_count": 21,
   "id": "b297c1ac",
   "metadata": {},
   "outputs": [],
   "source": [
    "# Loop through all epochs\n",
    "for i, epoch in enumerate(z_scored_epochs):\n",
    "    plt.figure(figsize=(10, 4))\n",
    "    \n",
    "    # Plot only the first two channels\n",
    "    for ch in range(2):\n",
    "        plt.plot(epoch[ch], label=f\"Channel {ch}\")\n",
    "    \n",
    "    plt.title(f\"Epoch {i + 1} - Channels 0 and 1\")\n",
    "    plt.xlabel(\"Time (samples)\")\n",
    "    plt.ylabel(\"Amplitude (µV)\")\n",
    "    plt.legend()\n",
    "    plt.grid(True)\n",
    "    plt.tight_layout()\n",
    "    plt.show()"
   ]
  }
 ],
 "metadata": {
  "kernelspec": {
   "display_name": "bessy",
   "language": "python",
   "name": "python3"
  },
  "language_info": {
   "codemirror_mode": {
    "name": "ipython",
    "version": 3
   },
   "file_extension": ".py",
   "mimetype": "text/x-python",
   "name": "python",
   "nbconvert_exporter": "python",
   "pygments_lexer": "ipython3",
   "version": "3.13.2"
  }
 },
 "nbformat": 4,
 "nbformat_minor": 5
}

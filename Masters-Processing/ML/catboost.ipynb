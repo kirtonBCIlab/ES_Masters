{
 "cells": [
  {
   "cell_type": "code",
   "execution_count": null,
   "id": "adb0855e",
   "metadata": {},
   "outputs": [],
   "source": [
    "import numpy as np\n",
    "import pandas as pd\n",
    "import matplotlib.pyplot as plt\n",
    "import seaborn as sns\n",
    "from sklearn.model_selection import train_test_split, KFold, cross_val_score\n",
    "from sklearn.feature_selection import SelectKBest, f_regression, mutual_info_regression, RFE\n",
    "from sklearn.metrics import mean_squared_error, r2_score, accuracy_score, confusion_matrix\n",
    "from sklearn.ensemble import RandomForestRegressor\n",
    "from catboost import CatBoostRegressor, Pool, cv\n",
    "import optuna\n",
    "from sklearn.linear_model import LogisticRegression\n",
    "from sklearn.multioutput import MultiOutputClassifier\n",
    "from sklearn.pipeline import Pipeline\n",
    "import mrmr\n",
    "from mrmr import mrmr_regression\n",
    "import warnings\n",
    "\n",
    "# Set random seed for reproducibility\n",
    "np.random.seed(42)"
   ]
  },
  {
   "cell_type": "markdown",
   "id": "7bd70c89",
   "metadata": {},
   "source": [
    "# Import and Prepare Data"
   ]
  },
  {
   "cell_type": "code",
   "execution_count": 2,
   "id": "9ca7485b",
   "metadata": {},
   "outputs": [],
   "source": [
    "# Load the data\n",
    "file_path = \"features-Master.csv\"\n",
    "data = pd.read_csv(file_path)\n",
    "\n",
    "# Shuffle the data\n",
    "shuffled = data.sample(frac=1, random_state=42).reset_index(drop=True)\n",
    "data_shuffled = shuffled.iloc[:, 4:]\n",
    "labels_shuffled = shuffled[\"Comfort Score\"]"
   ]
  },
  {
   "cell_type": "markdown",
   "id": "fd3af852",
   "metadata": {},
   "source": [
    "# Class to Accomodate MRMR Feature Selection Structure"
   ]
  },
  {
   "cell_type": "code",
   "execution_count": 3,
   "id": "6032c6ff",
   "metadata": {},
   "outputs": [],
   "source": [
    "class MRMRTransformer:\n",
    "    def __init__(self, k_features):\n",
    "        self.k_features = k_features\n",
    "        self.selected_features = None\n",
    "        self.column_names = None\n",
    "    \n",
    "    def fit(self, X, y):\n",
    "        # Convert to DataFrame if not already\n",
    "        if not isinstance(X, pd.DataFrame):\n",
    "            X = pd.DataFrame(X)\n",
    "        \n",
    "        # Reset indices to avoid alignment issues\n",
    "        X = X.reset_index(drop=True)\n",
    "        y = pd.Series(y).reset_index(drop=True)\n",
    "        \n",
    "        self.column_names = X.columns.tolist()\n",
    "        try:\n",
    "            self.selected_features = mrmr_regression(X, y, K=self.k_features)\n",
    "        except:\n",
    "            # Fallback to random features if MRMR fails\n",
    "            self.selected_features = np.random.choice(X.columns, size=min(self.k_features, len(X.columns)), replace=False)\n",
    "        return self\n",
    "    \n",
    "    def transform(self, X):\n",
    "        if not isinstance(X, pd.DataFrame):\n",
    "            X = pd.DataFrame(X, columns=self.column_names)\n",
    "        return X[self.selected_features]"
   ]
  },
  {
   "cell_type": "markdown",
   "id": "6a5eacf1",
   "metadata": {},
   "source": [
    "# Train/Test Split"
   ]
  },
  {
   "cell_type": "code",
   "execution_count": 4,
   "id": "fddd4383",
   "metadata": {},
   "outputs": [],
   "source": [
    "# For regression (using stratified split based on binned target)\n",
    "X_train, X_test, y_train, y_test = train_test_split(\n",
    "    data_shuffled, \n",
    "    labels_shuffled, \n",
    "    test_size=0.2, \n",
    "    stratify=labels_shuffled,\n",
    "    random_state=42\n",
    ")"
   ]
  },
  {
   "cell_type": "markdown",
   "id": "9a999dce",
   "metadata": {},
   "source": [
    "# Optimize Feature Selection and Catboost Parameters"
   ]
  },
  {
   "cell_type": "code",
   "execution_count": 7,
   "id": "5c44c1b8",
   "metadata": {},
   "outputs": [
    {
     "name": "stderr",
     "output_type": "stream",
     "text": [
      "[I 2025-08-27 06:39:44,848] A new study created in memory with name: no-name-8c3ca54c-6c71-4980-ac16-da17aa4fe18e\n"
     ]
    },
    {
     "data": {
      "application/vnd.jupyter.widget-view+json": {
       "model_id": "f6367adea9c942c2bfd69a735abff7ef",
       "version_major": 2,
       "version_minor": 0
      },
      "text/plain": [
       "  0%|          | 0/50 [00:00<?, ?it/s]"
      ]
     },
     "metadata": {},
     "output_type": "display_data"
    },
    {
     "name": "stderr",
     "output_type": "stream",
     "text": [
      "100%|██████████| 37/37 [00:01<00:00, 28.48it/s]\n",
      "100%|██████████| 37/37 [00:01<00:00, 28.38it/s]\n",
      "100%|██████████| 37/37 [00:01<00:00, 29.15it/s]\n",
      "100%|██████████| 37/37 [00:01<00:00, 27.69it/s]\n",
      "100%|██████████| 37/37 [00:01<00:00, 25.86it/s]\n"
     ]
    },
    {
     "name": "stdout",
     "output_type": "stream",
     "text": [
      "[I 2025-08-27 06:41:23,367] Trial 0 finished with value: 0.166257073214946 and parameters: {'feature_selection': 'MRMR', 'k_features': 37, 'iterations': 662, 'depth': 9, 'learning_rate': 0.012741369316909492, 'l2_leaf_reg': 0.0009376800610053393}. Best is trial 0 with value: 0.166257073214946.\n",
      "[I 2025-08-27 06:41:45,312] Trial 1 finished with value: 0.16959335540277212 and parameters: {'feature_selection': 'None', 'iterations': 796, 'depth': 4, 'learning_rate': 0.05286056372230047, 'l2_leaf_reg': 0.02002204986961919}. Best is trial 1 with value: 0.16959335540277212.\n"
     ]
    },
    {
     "name": "stderr",
     "output_type": "stream",
     "text": [
      "100%|██████████| 48/48 [00:01<00:00, 28.60it/s]\n",
      "100%|██████████| 48/48 [00:01<00:00, 28.65it/s]\n",
      "100%|██████████| 48/48 [00:01<00:00, 27.99it/s]\n",
      "100%|██████████| 48/48 [00:01<00:00, 28.24it/s]\n",
      "100%|██████████| 48/48 [00:01<00:00, 28.25it/s]\n"
     ]
    },
    {
     "name": "stdout",
     "output_type": "stream",
     "text": [
      "[I 2025-08-27 06:41:56,444] Trial 2 finished with value: 0.15663795505932424 and parameters: {'feature_selection': 'MRMR', 'k_features': 48, 'iterations': 571, 'depth': 3, 'learning_rate': 0.003616228299359011, 'l2_leaf_reg': 0.0002322906254235888}. Best is trial 1 with value: 0.16959335540277212.\n",
      "[I 2025-08-27 06:41:56,483] Trial 3 finished with value: -inf and parameters: {'feature_selection': 'ANOVA', 'k_features': 20, 'iterations': 305, 'depth': 8, 'learning_rate': 0.0585111850331171, 'l2_leaf_reg': 0.0006404721393250113}. Best is trial 1 with value: 0.16959335540277212.\n",
      "[I 2025-08-27 06:44:43,737] Trial 4 finished with value: 0.2369166860218595 and parameters: {'feature_selection': 'RFE', 'k_features': 20, 'rfe_step': 0.1909690415019311, 'rfe_n_estimators': 183, 'rfe_max_depth': 10, 'iterations': 485, 'depth': 10, 'learning_rate': 0.092922719517782, 'l2_leaf_reg': 0.00025924433123780075}. Best is trial 4 with value: 0.2369166860218595.\n"
     ]
    },
    {
     "name": "stderr",
     "output_type": "stream",
     "text": [
      "100%|██████████| 20/20 [00:00<00:00, 26.50it/s]\n",
      "100%|██████████| 20/20 [00:00<00:00, 27.49it/s]\n",
      "100%|██████████| 20/20 [00:00<00:00, 27.36it/s]\n",
      "100%|██████████| 20/20 [00:00<00:00, 28.79it/s]\n",
      "100%|██████████| 20/20 [00:00<00:00, 27.93it/s]\n"
     ]
    },
    {
     "name": "stdout",
     "output_type": "stream",
     "text": [
      "[I 2025-08-27 06:45:14,811] Trial 5 finished with value: 0.10068666678605413 and parameters: {'feature_selection': 'MRMR', 'k_features': 20, 'iterations': 363, 'depth': 9, 'learning_rate': 0.1954865577186104, 'l2_leaf_reg': 0.0011133438083864502}. Best is trial 4 with value: 0.2369166860218595.\n",
      "[I 2025-08-27 06:45:14,842] Trial 6 finished with value: -inf and parameters: {'feature_selection': 'MutualInfo', 'k_features': 14, 'iterations': 516, 'depth': 9, 'learning_rate': 0.140544617334415, 'l2_leaf_reg': 2.265783261538871e-08}. Best is trial 4 with value: 0.2369166860218595.\n",
      "[I 2025-08-27 06:45:14,872] Trial 7 finished with value: -inf and parameters: {'feature_selection': 'ANOVA', 'k_features': 43, 'iterations': 529, 'depth': 3, 'learning_rate': 0.14143526330159298, 'l2_leaf_reg': 1.6842797257783797}. Best is trial 4 with value: 0.2369166860218595.\n",
      "[I 2025-08-27 06:45:14,900] Trial 8 finished with value: -inf and parameters: {'feature_selection': 'MutualInfo', 'k_features': 46, 'iterations': 492, 'depth': 6, 'learning_rate': 0.0012199350893308388, 'l2_leaf_reg': 0.00020164184906789132}. Best is trial 4 with value: 0.2369166860218595.\n",
      "[I 2025-08-27 06:45:34,870] Trial 9 finished with value: 0.17671211140849374 and parameters: {'feature_selection': 'RFE', 'k_features': 22, 'rfe_step': 0.651041833131046, 'rfe_n_estimators': 68, 'rfe_max_depth': 9, 'iterations': 872, 'depth': 6, 'learning_rate': 0.030741237105374596, 'l2_leaf_reg': 6.883869866749182e-05}. Best is trial 4 with value: 0.2369166860218595.\n",
      "[I 2025-08-27 06:47:36,435] Trial 10 finished with value: 0.18099773208192615 and parameters: {'feature_selection': 'RFE', 'k_features': 29, 'rfe_step': 0.1115644091779458, 'rfe_n_estimators': 198, 'rfe_max_depth': 3, 'iterations': 184, 'depth': 10, 'learning_rate': 0.012740866854125926, 'l2_leaf_reg': 5.918556158962891e-07}. Best is trial 4 with value: 0.2369166860218595.\n",
      "[I 2025-08-27 06:50:04,451] Trial 11 finished with value: 0.17608233151209352 and parameters: {'feature_selection': 'RFE', 'k_features': 31, 'rfe_step': 0.10922138634748702, 'rfe_n_estimators': 198, 'rfe_max_depth': 4, 'iterations': 199, 'depth': 10, 'learning_rate': 0.009871291748030368, 'l2_leaf_reg': 4.661256147605646e-07}. Best is trial 4 with value: 0.2369166860218595.\n",
      "[I 2025-08-27 06:51:45,157] Trial 12 finished with value: 0.12020580214086188 and parameters: {'feature_selection': 'RFE', 'k_features': 29, 'rfe_step': 0.11874884861279661, 'rfe_n_estimators': 200, 'rfe_max_depth': 3, 'iterations': 126, 'depth': 10, 'learning_rate': 0.005396319699326082, 'l2_leaf_reg': 4.387920161527904e-06}. Best is trial 4 with value: 0.2369166860218595.\n",
      "[I 2025-08-27 06:52:32,825] Trial 13 finished with value: 0.19627101067408187 and parameters: {'feature_selection': 'RFE', 'k_features': 28, 'rfe_step': 0.33838376296250783, 'rfe_n_estimators': 156, 'rfe_max_depth': 10, 'iterations': 306, 'depth': 7, 'learning_rate': 0.03070915238526956, 'l2_leaf_reg': 1.4320176642043517e-06}. Best is trial 4 with value: 0.2369166860218595.\n",
      "[I 2025-08-27 06:53:08,359] Trial 14 finished with value: 0.12842818089798508 and parameters: {'feature_selection': 'RFE', 'k_features': 11, 'rfe_step': 0.43116411695431645, 'rfe_n_estimators': 141, 'rfe_max_depth': 10, 'iterations': 350, 'depth': 7, 'learning_rate': 0.06081767945126525, 'l2_leaf_reg': 0.03065516241265861}. Best is trial 4 with value: 0.2369166860218595.\n",
      "[I 2025-08-27 06:54:05,818] Trial 15 finished with value: 0.19658768861349704 and parameters: {'feature_selection': 'None', 'iterations': 994, 'depth': 5, 'learning_rate': 0.02881244249178272, 'l2_leaf_reg': 1.1055364864990473e-05}. Best is trial 4 with value: 0.2369166860218595.\n",
      "[I 2025-08-27 06:55:02,448] Trial 16 finished with value: 0.14395276145308028 and parameters: {'feature_selection': 'None', 'iterations': 955, 'depth': 5, 'learning_rate': 0.28719606873426484, 'l2_leaf_reg': 1.617158160581556e-05}. Best is trial 4 with value: 0.2369166860218595.\n",
      "[I 2025-08-27 06:55:42,233] Trial 17 finished with value: 0.18679024527412685 and parameters: {'feature_selection': 'None', 'iterations': 680, 'depth': 5, 'learning_rate': 0.08758721703591828, 'l2_leaf_reg': 0.032247347472156414}. Best is trial 4 with value: 0.2369166860218595.\n",
      "[I 2025-08-27 06:56:41,740] Trial 18 finished with value: 0.20281734810127974 and parameters: {'feature_selection': 'None', 'iterations': 993, 'depth': 5, 'learning_rate': 0.02622063026337253, 'l2_leaf_reg': 2.2991972771323517e-08}. Best is trial 4 with value: 0.2369166860218595.\n",
      "[I 2025-08-27 07:03:17,327] Trial 19 finished with value: 0.19430694153153655 and parameters: {'feature_selection': 'None', 'iterations': 751, 'depth': 8, 'learning_rate': 0.02128625028437135, 'l2_leaf_reg': 6.093333206334657e-08}. Best is trial 4 with value: 0.2369166860218595.\n",
      "[I 2025-08-27 07:03:17,376] Trial 20 finished with value: -inf and parameters: {'feature_selection': 'MutualInfo', 'k_features': 38, 'iterations': 420, 'depth': 4, 'learning_rate': 0.005077023717950903, 'l2_leaf_reg': 1.5426427020596518}. Best is trial 4 with value: 0.2369166860218595.\n",
      "[I 2025-08-27 07:04:13,551] Trial 21 finished with value: 0.21202145204240913 and parameters: {'feature_selection': 'None', 'iterations': 983, 'depth': 5, 'learning_rate': 0.025778659728748002, 'l2_leaf_reg': 1.4351362198553563e-05}. Best is trial 4 with value: 0.2369166860218595.\n",
      "[I 2025-08-27 07:04:40,050] Trial 22 finished with value: 0.16021387985722454 and parameters: {'feature_selection': 'None', 'iterations': 894, 'depth': 4, 'learning_rate': 0.08345538519180841, 'l2_leaf_reg': 1.0633352949010715e-07}. Best is trial 4 with value: 0.2369166860218595.\n",
      "[I 2025-08-27 07:06:27,160] Trial 23 finished with value: 0.2134599259512945 and parameters: {'feature_selection': 'None', 'iterations': 859, 'depth': 6, 'learning_rate': 0.04510479698205997, 'l2_leaf_reg': 1.351155669386456e-08}. Best is trial 4 with value: 0.2369166860218595.\n",
      "[I 2025-08-27 07:08:12,100] Trial 24 finished with value: 0.22543788306253426 and parameters: {'feature_selection': 'None', 'iterations': 844, 'depth': 6, 'learning_rate': 0.037780899770732616, 'l2_leaf_reg': 0.003980905095376864}. Best is trial 4 with value: 0.2369166860218595.\n",
      "[I 2025-08-27 07:08:12,164] Trial 25 finished with value: -inf and parameters: {'feature_selection': 'ANOVA', 'k_features': 16, 'iterations': 623, 'depth': 7, 'learning_rate': 0.10035985085496378, 'l2_leaf_reg': 0.004457893078801676}. Best is trial 4 with value: 0.2369166860218595.\n",
      "[I 2025-08-27 07:09:47,573] Trial 26 finished with value: 0.21626679195863963 and parameters: {'feature_selection': 'None', 'iterations': 770, 'depth': 6, 'learning_rate': 0.04805456604793258, 'l2_leaf_reg': 0.24145763728366998}. Best is trial 4 with value: 0.2369166860218595.\n",
      "[I 2025-08-27 07:16:01,885] Trial 27 finished with value: 0.19248940277163554 and parameters: {'feature_selection': 'None', 'iterations': 709, 'depth': 8, 'learning_rate': 0.03837143270120509, 'l2_leaf_reg': 0.15891145670623216}. Best is trial 4 with value: 0.2369166860218595.\n",
      "[I 2025-08-27 07:16:20,887] Trial 28 finished with value: 0.113305845447362 and parameters: {'feature_selection': 'RFE', 'k_features': 25, 'rfe_step': 0.9817355115948398, 'rfe_n_estimators': 95, 'rfe_max_depth': 7, 'iterations': 819, 'depth': 6, 'learning_rate': 0.28195230119582204, 'l2_leaf_reg': 0.2067547861630577}. Best is trial 4 with value: 0.2369166860218595.\n"
     ]
    },
    {
     "name": "stderr",
     "output_type": "stream",
     "text": [
      "100%|██████████| 35/35 [00:01<00:00, 28.38it/s]\n",
      "100%|██████████| 35/35 [00:01<00:00, 29.17it/s]\n",
      "100%|██████████| 35/35 [00:01<00:00, 29.00it/s]\n",
      "100%|██████████| 35/35 [00:01<00:00, 29.20it/s]\n",
      "100%|██████████| 35/35 [00:01<00:00, 29.41it/s]\n"
     ]
    },
    {
     "name": "stdout",
     "output_type": "stream",
     "text": [
      "[I 2025-08-27 07:16:46,037] Trial 29 finished with value: 0.16375616835337925 and parameters: {'feature_selection': 'MRMR', 'k_features': 35, 'iterations': 636, 'depth': 7, 'learning_rate': 0.015304763362418181, 'l2_leaf_reg': 9.04309736465959}. Best is trial 4 with value: 0.2369166860218595.\n",
      "[I 2025-08-27 07:16:46,086] Trial 30 finished with value: -inf and parameters: {'feature_selection': 'MutualInfo', 'k_features': 10, 'iterations': 729, 'depth': 9, 'learning_rate': 0.13025825982356032, 'l2_leaf_reg': 0.0030597135875064635}. Best is trial 4 with value: 0.2369166860218595.\n",
      "[I 2025-08-27 07:18:34,208] Trial 31 finished with value: 0.20751854765321456 and parameters: {'feature_selection': 'None', 'iterations': 871, 'depth': 6, 'learning_rate': 0.05217142352135921, 'l2_leaf_reg': 0.2412979112890647}. Best is trial 4 with value: 0.2369166860218595.\n",
      "[I 2025-08-27 07:20:13,855] Trial 32 finished with value: 0.20429987477629177 and parameters: {'feature_selection': 'None', 'iterations': 798, 'depth': 6, 'learning_rate': 0.04481108363765389, 'l2_leaf_reg': 0.0039047701718314207}. Best is trial 4 with value: 0.2369166860218595.\n",
      "[I 2025-08-27 07:24:07,551] Trial 33 finished with value: 0.23012223202483822 and parameters: {'feature_selection': 'None', 'iterations': 922, 'depth': 7, 'learning_rate': 0.08021034851313522, 'l2_leaf_reg': 8.380792871589499e-05}. Best is trial 4 with value: 0.2369166860218595.\n",
      "[I 2025-08-27 07:32:12,193] Trial 34 finished with value: 0.2117595195927322 and parameters: {'feature_selection': 'None', 'iterations': 916, 'depth': 8, 'learning_rate': 0.06998128668908282, 'l2_leaf_reg': 6.121875243872283e-05}. Best is trial 4 with value: 0.2369166860218595.\n"
     ]
    },
    {
     "name": "stderr",
     "output_type": "stream",
     "text": [
      "100%|██████████| 16/16 [00:00<00:00, 25.85it/s]\n",
      "100%|██████████| 16/16 [00:00<00:00, 29.54it/s]\n",
      "100%|██████████| 16/16 [00:00<00:00, 29.28it/s]\n",
      "100%|██████████| 16/16 [00:00<00:00, 29.58it/s]\n",
      "100%|██████████| 16/16 [00:00<00:00, 29.50it/s]\n"
     ]
    },
    {
     "name": "stdout",
     "output_type": "stream",
     "text": [
      "[I 2025-08-27 07:32:26,047] Trial 35 finished with value: 0.022521962940110486 and parameters: {'feature_selection': 'MRMR', 'k_features': 16, 'iterations': 452, 'depth': 7, 'learning_rate': 0.1923766857405144, 'l2_leaf_reg': 0.0007999791763830159}. Best is trial 4 with value: 0.2369166860218595.\n",
      "[I 2025-08-27 07:32:26,100] Trial 36 finished with value: -inf and parameters: {'feature_selection': 'ANOVA', 'k_features': 24, 'iterations': 813, 'depth': 8, 'learning_rate': 0.10186965078685659, 'l2_leaf_reg': 0.012213903532044481}. Best is trial 4 with value: 0.2369166860218595.\n",
      "[I 2025-08-27 07:32:36,964] Trial 37 finished with value: 0.06901681347386786 and parameters: {'feature_selection': 'None', 'iterations': 598, 'depth': 3, 'learning_rate': 0.18690480748454155, 'l2_leaf_reg': 0.0002359607945439222}. Best is trial 4 with value: 0.2369166860218595.\n"
     ]
    },
    {
     "name": "stderr",
     "output_type": "stream",
     "text": [
      "100%|██████████| 41/41 [00:01<00:00, 28.33it/s]\n",
      "100%|██████████| 41/41 [00:01<00:00, 28.19it/s]\n",
      "100%|██████████| 41/41 [00:01<00:00, 28.53it/s]\n",
      "100%|██████████| 41/41 [00:01<00:00, 28.46it/s]\n",
      "100%|██████████| 41/41 [00:01<00:00, 28.45it/s]\n"
     ]
    },
    {
     "name": "stdout",
     "output_type": "stream",
     "text": [
      "[I 2025-08-27 07:34:10,478] Trial 38 finished with value: 0.17869987261640902 and parameters: {'feature_selection': 'MRMR', 'k_features': 41, 'iterations': 569, 'depth': 9, 'learning_rate': 0.019123822080914028, 'l2_leaf_reg': 5.46765280004366e-05}. Best is trial 4 with value: 0.2369166860218595.\n",
      "[I 2025-08-27 07:34:32,686] Trial 39 finished with value: 0.19521356577981025 and parameters: {'feature_selection': 'None', 'iterations': 754, 'depth': 4, 'learning_rate': 0.07017674845905293, 'l2_leaf_reg': 0.07701507116440906}. Best is trial 4 with value: 0.2369166860218595.\n",
      "[I 2025-08-27 07:34:32,739] Trial 40 finished with value: -inf and parameters: {'feature_selection': 'ANOVA', 'k_features': 50, 'iterations': 486, 'depth': 7, 'learning_rate': 0.1340289717299031, 'l2_leaf_reg': 0.0018599443529891742}. Best is trial 4 with value: 0.2369166860218595.\n",
      "[I 2025-08-27 07:36:17,844] Trial 41 finished with value: 0.23173990701219518 and parameters: {'feature_selection': 'None', 'iterations': 840, 'depth': 6, 'learning_rate': 0.040373439969562164, 'l2_leaf_reg': 0.00047202693935548636}. Best is trial 4 with value: 0.2369166860218595.\n",
      "[I 2025-08-27 07:38:14,006] Trial 42 finished with value: 0.21643308497689473 and parameters: {'feature_selection': 'None', 'iterations': 934, 'depth': 6, 'learning_rate': 0.034426817221728266, 'l2_leaf_reg': 0.0003461528565202768}. Best is trial 4 with value: 0.2369166860218595.\n",
      "[I 2025-08-27 07:39:09,547] Trial 43 finished with value: 0.21134625315868288 and parameters: {'feature_selection': 'None', 'iterations': 946, 'depth': 5, 'learning_rate': 0.03703098890707206, 'l2_leaf_reg': 0.00031462343756854253}. Best is trial 4 with value: 0.2369166860218595.\n",
      "[I 2025-08-27 07:39:47,255] Trial 44 finished with value: 0.16264089208621174 and parameters: {'feature_selection': 'RFE', 'k_features': 35, 'rfe_step': 0.6728972275539506, 'rfe_n_estimators': 160, 'rfe_max_depth': 7, 'iterations': 935, 'depth': 6, 'learning_rate': 0.0011580285144773843, 'l2_leaf_reg': 0.00013163972398549516}. Best is trial 4 with value: 0.2369166860218595.\n",
      "[I 2025-08-27 07:39:47,305] Trial 45 finished with value: -inf and parameters: {'feature_selection': 'MutualInfo', 'k_features': 32, 'iterations': 866, 'depth': 9, 'learning_rate': 0.011074598639129123, 'l2_leaf_reg': 0.008654056651750024}. Best is trial 4 with value: 0.2369166860218595.\n",
      "[I 2025-08-27 07:41:31,099] Trial 46 finished with value: 0.22221057075900688 and parameters: {'feature_selection': 'None', 'iterations': 831, 'depth': 6, 'learning_rate': 0.00818483478940852, 'l2_leaf_reg': 0.0006488407271534237}. Best is trial 4 with value: 0.2369166860218595.\n",
      "[I 2025-08-27 07:42:10,250] Trial 47 finished with value: 0.19782960419900314 and parameters: {'feature_selection': 'RFE', 'k_features': 19, 'rfe_step': 0.3598729769424556, 'rfe_n_estimators': 114, 'rfe_max_depth': 8, 'iterations': 838, 'depth': 7, 'learning_rate': 0.007351512701367969, 'l2_leaf_reg': 0.0009674781387157483}. Best is trial 4 with value: 0.2369166860218595.\n",
      "[I 2025-08-27 08:14:50,046] Trial 48 finished with value: 0.15733827961915497 and parameters: {'feature_selection': 'None', 'iterations': 698, 'depth': 10, 'learning_rate': 0.0029670438875091494, 'l2_leaf_reg': 4.5406068025317074e-05}. Best is trial 4 with value: 0.2369166860218595.\n",
      "[I 2025-08-27 08:15:13,155] Trial 49 finished with value: 0.2025005820008099 and parameters: {'feature_selection': 'RFE', 'k_features': 26, 'rfe_step': 0.9002070705682632, 'rfe_n_estimators': 169, 'rfe_max_depth': 5, 'iterations': 408, 'depth': 5, 'learning_rate': 0.0081000907924057, 'l2_leaf_reg': 0.0006859240366218467}. Best is trial 4 with value: 0.2369166860218595.\n",
      "Best trial:\n",
      "R²: 0.2369\n",
      "Params: \n",
      "  feature_selection: RFE\n",
      "  k_features: 20\n",
      "  rfe_step: 0.1909690415019311\n",
      "  rfe_n_estimators: 183\n",
      "  rfe_max_depth: 10\n",
      "  iterations: 485\n",
      "  depth: 10\n",
      "  learning_rate: 0.092922719517782\n",
      "  l2_leaf_reg: 0.00025924433123780075\n"
     ]
    }
   ],
   "source": [
    "X = X_train.copy()\n",
    "y = y_train.copy().values\n",
    "\n",
    "def objective(trial):\n",
    "    # 1. Feature Selection\n",
    "    fs_method = trial.suggest_categorical('feature_selection', ['ANOVA', 'MutualInfo', 'RFE', 'MRMR', 'None'])\n",
    "    if fs_method != 'None':\n",
    "        k_features = trial.suggest_int('k_features', 10, min(50, X.shape[1]))\n",
    "        if fs_method == 'ANOVA':\n",
    "            selector = SelectKBest(f_regression, k=k_features)\n",
    "        elif fs_method == 'MutualInfo':\n",
    "            selector = SelectKBest(mutual_info_regression, k=k_features)\n",
    "        elif fs_method == 'RFE':\n",
    "            rfe_step = trial.suggest_float('rfe_step', 0.1, 1.0)\n",
    "            estimator = RandomForestRegressor(\n",
    "                n_estimators=trial.suggest_int('rfe_n_estimators', 50, 200),\n",
    "                max_depth=trial.suggest_int('rfe_max_depth', 3, 10),\n",
    "                random_state=42\n",
    "            )\n",
    "            selector = RFE(estimator, n_features_to_select=k_features, step=rfe_step)\n",
    "        elif fs_method == 'MRMR':\n",
    "            selector = MRMRTransformer(k_features=k_features)\n",
    "    else:\n",
    "        selector = 'passthrough'\n",
    "\n",
    "    # 2. CatBoost Parameters\n",
    "    params = {\n",
    "        'iterations': trial.suggest_int('iterations', 100, 1000),\n",
    "        'depth': trial.suggest_int('depth', 3, 10),\n",
    "        'learning_rate': trial.suggest_float('learning_rate', 1e-3, 0.3, log=True),\n",
    "        'l2_leaf_reg': trial.suggest_float('l2_leaf_reg', 1e-8, 10.0, log=True),\n",
    "        'random_state': 42,\n",
    "        'verbose': False\n",
    "    }\n",
    "    model = CatBoostRegressor(**params)\n",
    "\n",
    "    # 3. Pipeline \n",
    "    pipeline = Pipeline([\n",
    "       # ('imputer', imputer),\n",
    "        ('feature_selection', selector),\n",
    "        ('model', model)\n",
    "    ])\n",
    "\n",
    "    #4. Cross-validation\n",
    "    cv = KFold(n_splits=5, shuffle=True, random_state=42)\n",
    "    try:\n",
    "        scores = cross_val_score(pipeline, X, y, cv=cv, scoring='r2', n_jobs=1)\n",
    "        return np.mean(scores)\n",
    "    except Exception:\n",
    "        return -np.inf\n",
    "\n",
    "# Run Optuna Study\n",
    "study = optuna.create_study(direction='maximize')\n",
    "study.optimize(objective, n_trials=50, show_progress_bar=True)\n",
    "\n",
    "# Best result\n",
    "print(\"Best trial:\")\n",
    "trial = study.best_trial\n",
    "print(f\"R²: {trial.value:.4f}\")\n",
    "print(\"Params: \")\n",
    "for key, value in trial.params.items():\n",
    "    print(f\"  {key}: {value}\")"
   ]
  },
  {
   "cell_type": "code",
   "execution_count": null,
   "id": "b03fe63b",
   "metadata": {},
   "outputs": [],
   "source": [
    "# Ensure X_train, y_train are defined beforehand\n",
    " X = X_train.copy()\n",
    " y = y_train.copy().values\n",
    "\n",
    "def objective(trial):\n",
    "    # Feature Selection only (CatBoost handles the rest)    \n",
    "    fs_method = trial.suggest_categorical('feature_selection', ['ANOVA', 'MutualInfo', 'RFE', 'MRMR', 'None'])\n",
    "    if fs_method != 'None':\n",
    "        k_features = trial.suggest_int('k_features', 10, min(50, X.shape[1]))\n",
    "        if fs_method == 'ANOVA':\n",
    "            selector = SelectKBest(f_regression, k=k_features)\n",
    "        elif fs_method == 'MutualInfo':\n",
    "            selector = SelectKBest(mutual_info_regression, k=k_features)\n",
    "        elif fs_method == 'RFE':\n",
    "            rfe_step = trial.suggest_float('rfe_step', 0.1, 1.0)\n",
    "            estimator = RandomForestRegressor(\n",
    "                n_estimators=trial.suggest_int('rfe_n_estimators', 50, 200),\n",
    "                max_depth=trial.suggest_int('rfe_max_depth', 3, 10),\n",
    "                random_state=42\n",
    "            )\n",
    "            selector = RFE(estimator, n_features_to_select=k_features, step=rfe_step)\n",
    "        elif fs_method == 'MRMR':\n",
    "            selector = MRMRTransformer(k_features=k_features)\n",
    "    else:\n",
    "        selector = 'passthrough'\n",
    "\n",
    "    # Comprehensive CatBoost parameter tuning\n",
    "    params = {\n",
    "        'iterations': trial.suggest_int('iterations', 100, 2000),\n",
    "        'depth': trial.suggest_int('depth', 2, 12),\n",
    "        'learning_rate': trial.suggest_float('learning_rate', 1e-4, 0.5, log=True),\n",
    "        'l2_leaf_reg': trial.suggest_float('l2_leaf_reg', 1e-8, 100.0, log=True),\n",
    "        'random_strength': trial.suggest_float('random_strength', 1e-8, 10.0, log=True),\n",
    "        'bagging_temperature': trial.suggest_float('bagging_temperature', 0.0, 10.0),\n",
    "        'border_count': trial.suggest_int('border_count', 32, 255),\n",
    "        'random_state': 42,\n",
    "        'verbose': False,\n",
    "        'thread_count': -1\n",
    "    }\n",
    "\n",
    "    # Add early stopping and grow policy options\n",
    "    grow_policy = trial.suggest_categorical('grow_policy', ['SymmetricTree', 'Depthwise', 'Lossguide'])\n",
    "    params['grow_policy'] = grow_policy\n",
    "    \n",
    "    if grow_policy == 'Lossguide':\n",
    "        params['max_leaves'] = trial.suggest_int('max_leaves', 16, 256)\n",
    "    else:\n",
    "        params['min_data_in_leaf'] = trial.suggest_int('min_data_in_leaf', 1, 100)\n",
    "\n",
    "    model = CatBoostRegressor(**params)\n",
    "\n",
    "    # Simplified pipeline - just feature selection\n",
    "    pipeline = Pipeline([\n",
    "        ('feature_selection', selector),\n",
    "        ('model', model)\n",
    "    ])\n",
    "\n",
    "    # Cross-validation\n",
    "    cv = KFold(n_splits=5, shuffle=True, random_state=42)\n",
    "    \n",
    "    try:\n",
    "        scores = cross_val_score(\n",
    "            pipeline, X, y, \n",
    "            cv=cv, \n",
    "            scoring='r2', \n",
    "            n_jobs=1  # Keep as 1 for Optuna compatibility\n",
    "        )\n",
    "        \n",
    "        # Calculate mean and std for better evaluation\n",
    "        mean_score = np.mean(scores)\n",
    "        std_score = np.std(scores)\n",
    "        \n",
    "        # Small penalty for high variance to favor stable models\n",
    "        penalty = std_score * 0.1\n",
    "        return mean_score - penalty\n",
    "        \n",
    "    except Exception as e:\n",
    "        trial.set_user_attr('error', str(e))\n",
    "        return -np.inf\n",
    "\n",
    "# Enhanced study configuration\n",
    "study = optuna.create_study(\n",
    "    direction='maximize',\n",
    "    sampler=optuna.samplers.TPESampler(seed=42),\n",
    "    pruner=optuna.pruners.MedianPruner(n_warmup_steps=10)\n",
    ")\n",
    "\n",
    "# Progress callback\n",
    "def progress_callback(study, trial):\n",
    "    if trial.number % 10 == 0:\n",
    "        print(f\"Trial {trial.number}: Best R² = {study.best_value:.4f}\")\n",
    "\n",
    "# Run optimization\n",
    "study.optimize(\n",
    "    objective, \n",
    "    n_trials=100,  # Increased trials for better exploration\n",
    "    timeout=3600,  # 1 hour timeout\n",
    "    show_progress_bar=True,\n",
    "    callbacks=[progress_callback]\n",
    ")\n",
    "\n",
    "# Results reporting\n",
    "print(\"\\n\" + \"=\"*50)\n",
    "print(\"OPTIMIZATION RESULTS\")\n",
    "print(\"=\"*50)\n",
    "print(f\"Best R²: {study.best_value:.4f}\")\n",
    "print(f\"Number of trials: {len(study.trials)}\")\n",
    "print(f\"Best parameters:\")\n",
    "\n",
    "best_params = study.best_params\n",
    "for key, value in best_params.items():\n",
    "    print(f\"  {key}: {value}\")\n",
    "\n",
    "# Additional analysis\n",
    "print(f\"\\nBest trial details:\")\n",
    "best_trial = study.best_trial\n",
    "print(f\"  Trial number: {best_trial.number}\")\n",
    "print(f\"  Duration: {best_trial.duration:.2f} seconds\")\n",
    "\n",
    "# Save study for later analysis\n",
    "import joblib\n",
    "joblib.dump(study, 'optuna_study.pkl')\n",
    "print(\"\\nStudy saved as 'optuna_study.pkl'\")"
   ]
  },
  {
   "cell_type": "code",
   "execution_count": 13,
   "id": "23d5743b",
   "metadata": {},
   "outputs": [
    {
     "name": "stderr",
     "output_type": "stream",
     "text": [
      "[W 2025-08-27 08:54:59,871] Trial 3 is omitted in visualization because its objective value is inf or nan.\n",
      "[W 2025-08-27 08:54:59,872] Trial 6 is omitted in visualization because its objective value is inf or nan.\n",
      "[W 2025-08-27 08:54:59,873] Trial 7 is omitted in visualization because its objective value is inf or nan.\n",
      "[W 2025-08-27 08:54:59,873] Trial 8 is omitted in visualization because its objective value is inf or nan.\n",
      "[W 2025-08-27 08:54:59,874] Trial 20 is omitted in visualization because its objective value is inf or nan.\n",
      "[W 2025-08-27 08:54:59,874] Trial 25 is omitted in visualization because its objective value is inf or nan.\n",
      "[W 2025-08-27 08:54:59,874] Trial 30 is omitted in visualization because its objective value is inf or nan.\n",
      "[W 2025-08-27 08:54:59,875] Trial 36 is omitted in visualization because its objective value is inf or nan.\n",
      "[W 2025-08-27 08:54:59,875] Trial 40 is omitted in visualization because its objective value is inf or nan.\n",
      "[W 2025-08-27 08:54:59,875] Trial 45 is omitted in visualization because its objective value is inf or nan.\n"
     ]
    },
    {
     "data": {
      "application/vnd.plotly.v1+json": {
       "config": {
        "plotlyServerURL": "https://plot.ly"
       },
       "data": [
        {
         "dimensions": [
          {
           "label": "R² Score",
           "range": [
            0.022521962940110486,
            0.2369166860218595
           ],
           "values": [
            0.166257073214946,
            0.15663795505932424,
            0.2369166860218595,
            0.10068666678605413,
            0.17671211140849374,
            0.18099773208192615,
            0.17608233151209352,
            0.12020580214086188,
            0.19627101067408187,
            0.12842818089798508,
            0.113305845447362,
            0.16375616835337925,
            0.022521962940110486,
            0.17869987261640902,
            0.16264089208621174,
            0.19782960419900314,
            0.2025005820008099
           ]
          },
          {
           "label": "depth",
           "range": [
            3,
            10
           ],
           "values": [
            9,
            3,
            10,
            9,
            6,
            10,
            10,
            10,
            7,
            7,
            6,
            7,
            7,
            9,
            6,
            7,
            5
           ]
          },
          {
           "label": "feature_selection",
           "range": [
            0,
            1
           ],
           "ticktext": [
            "MRMR",
            "RFE"
           ],
           "tickvals": [
            0,
            1
           ],
           "values": [
            0,
            0,
            1,
            0,
            1,
            1,
            1,
            1,
            1,
            1,
            1,
            0,
            0,
            0,
            1,
            1,
            1
           ]
          },
          {
           "label": "k_features",
           "range": [
            11,
            48
           ],
           "values": [
            37,
            48,
            20,
            20,
            22,
            29,
            31,
            29,
            28,
            11,
            25,
            35,
            16,
            41,
            35,
            19,
            26
           ]
          },
          {
           "label": "learning_rate",
           "range": [
            -2.9362807467159078,
            -0.5498243565018777
           ],
           "ticktext": [
            "0.00116",
            "0.01",
            "0.1",
            "0.282"
           ],
           "tickvals": [
            -2.9362807467159078,
            -2,
            -1,
            -0.5498243565018777
           ],
           "values": [
            -1.8947838957980714,
            -2.4417441594958897,
            -1.0318780884296679,
            -0.7088831007200005,
            -1.512278659372804,
            -1.8948010227733358,
            -2.0056260122407896,
            -2.267902328914833,
            -1.5127321705149381,
            -1.2159701547400121,
            -0.5498243565018777,
            -1.8151733809435164,
            -0.7158475615485315,
            -1.7184253054299556,
            -2.9362807467159078,
            -2.1336232880910435,
            -2.0915101131682876
           ]
          }
         ],
         "labelangle": 30,
         "labelside": "bottom",
         "line": {
          "color": [
           0.166257073214946,
           0.15663795505932424,
           0.2369166860218595,
           0.10068666678605413,
           0.17671211140849374,
           0.18099773208192615,
           0.17608233151209352,
           0.12020580214086188,
           0.19627101067408187,
           0.12842818089798508,
           0.113305845447362,
           0.16375616835337925,
           0.022521962940110486,
           0.17869987261640902,
           0.16264089208621174,
           0.19782960419900314,
           0.2025005820008099
          ],
          "colorbar": {
           "title": {
            "text": "R² Score"
           }
          },
          "colorscale": [
           [
            0,
            "rgb(247,251,255)"
           ],
           [
            0.125,
            "rgb(222,235,247)"
           ],
           [
            0.25,
            "rgb(198,219,239)"
           ],
           [
            0.375,
            "rgb(158,202,225)"
           ],
           [
            0.5,
            "rgb(107,174,214)"
           ],
           [
            0.625,
            "rgb(66,146,198)"
           ],
           [
            0.75,
            "rgb(33,113,181)"
           ],
           [
            0.875,
            "rgb(8,81,156)"
           ],
           [
            1,
            "rgb(8,48,107)"
           ]
          ],
          "reversescale": false,
          "showscale": true
         },
         "type": "parcoords"
        }
       ],
       "layout": {
        "template": {
         "data": {
          "bar": [
           {
            "error_x": {
             "color": "#2a3f5f"
            },
            "error_y": {
             "color": "#2a3f5f"
            },
            "marker": {
             "line": {
              "color": "#E5ECF6",
              "width": 0.5
             },
             "pattern": {
              "fillmode": "overlay",
              "size": 10,
              "solidity": 0.2
             }
            },
            "type": "bar"
           }
          ],
          "barpolar": [
           {
            "marker": {
             "line": {
              "color": "#E5ECF6",
              "width": 0.5
             },
             "pattern": {
              "fillmode": "overlay",
              "size": 10,
              "solidity": 0.2
             }
            },
            "type": "barpolar"
           }
          ],
          "carpet": [
           {
            "aaxis": {
             "endlinecolor": "#2a3f5f",
             "gridcolor": "white",
             "linecolor": "white",
             "minorgridcolor": "white",
             "startlinecolor": "#2a3f5f"
            },
            "baxis": {
             "endlinecolor": "#2a3f5f",
             "gridcolor": "white",
             "linecolor": "white",
             "minorgridcolor": "white",
             "startlinecolor": "#2a3f5f"
            },
            "type": "carpet"
           }
          ],
          "choropleth": [
           {
            "colorbar": {
             "outlinewidth": 0,
             "ticks": ""
            },
            "type": "choropleth"
           }
          ],
          "contour": [
           {
            "colorbar": {
             "outlinewidth": 0,
             "ticks": ""
            },
            "colorscale": [
             [
              0,
              "#0d0887"
             ],
             [
              0.1111111111111111,
              "#46039f"
             ],
             [
              0.2222222222222222,
              "#7201a8"
             ],
             [
              0.3333333333333333,
              "#9c179e"
             ],
             [
              0.4444444444444444,
              "#bd3786"
             ],
             [
              0.5555555555555556,
              "#d8576b"
             ],
             [
              0.6666666666666666,
              "#ed7953"
             ],
             [
              0.7777777777777778,
              "#fb9f3a"
             ],
             [
              0.8888888888888888,
              "#fdca26"
             ],
             [
              1,
              "#f0f921"
             ]
            ],
            "type": "contour"
           }
          ],
          "contourcarpet": [
           {
            "colorbar": {
             "outlinewidth": 0,
             "ticks": ""
            },
            "type": "contourcarpet"
           }
          ],
          "heatmap": [
           {
            "colorbar": {
             "outlinewidth": 0,
             "ticks": ""
            },
            "colorscale": [
             [
              0,
              "#0d0887"
             ],
             [
              0.1111111111111111,
              "#46039f"
             ],
             [
              0.2222222222222222,
              "#7201a8"
             ],
             [
              0.3333333333333333,
              "#9c179e"
             ],
             [
              0.4444444444444444,
              "#bd3786"
             ],
             [
              0.5555555555555556,
              "#d8576b"
             ],
             [
              0.6666666666666666,
              "#ed7953"
             ],
             [
              0.7777777777777778,
              "#fb9f3a"
             ],
             [
              0.8888888888888888,
              "#fdca26"
             ],
             [
              1,
              "#f0f921"
             ]
            ],
            "type": "heatmap"
           }
          ],
          "histogram": [
           {
            "marker": {
             "pattern": {
              "fillmode": "overlay",
              "size": 10,
              "solidity": 0.2
             }
            },
            "type": "histogram"
           }
          ],
          "histogram2d": [
           {
            "colorbar": {
             "outlinewidth": 0,
             "ticks": ""
            },
            "colorscale": [
             [
              0,
              "#0d0887"
             ],
             [
              0.1111111111111111,
              "#46039f"
             ],
             [
              0.2222222222222222,
              "#7201a8"
             ],
             [
              0.3333333333333333,
              "#9c179e"
             ],
             [
              0.4444444444444444,
              "#bd3786"
             ],
             [
              0.5555555555555556,
              "#d8576b"
             ],
             [
              0.6666666666666666,
              "#ed7953"
             ],
             [
              0.7777777777777778,
              "#fb9f3a"
             ],
             [
              0.8888888888888888,
              "#fdca26"
             ],
             [
              1,
              "#f0f921"
             ]
            ],
            "type": "histogram2d"
           }
          ],
          "histogram2dcontour": [
           {
            "colorbar": {
             "outlinewidth": 0,
             "ticks": ""
            },
            "colorscale": [
             [
              0,
              "#0d0887"
             ],
             [
              0.1111111111111111,
              "#46039f"
             ],
             [
              0.2222222222222222,
              "#7201a8"
             ],
             [
              0.3333333333333333,
              "#9c179e"
             ],
             [
              0.4444444444444444,
              "#bd3786"
             ],
             [
              0.5555555555555556,
              "#d8576b"
             ],
             [
              0.6666666666666666,
              "#ed7953"
             ],
             [
              0.7777777777777778,
              "#fb9f3a"
             ],
             [
              0.8888888888888888,
              "#fdca26"
             ],
             [
              1,
              "#f0f921"
             ]
            ],
            "type": "histogram2dcontour"
           }
          ],
          "mesh3d": [
           {
            "colorbar": {
             "outlinewidth": 0,
             "ticks": ""
            },
            "type": "mesh3d"
           }
          ],
          "parcoords": [
           {
            "line": {
             "colorbar": {
              "outlinewidth": 0,
              "ticks": ""
             }
            },
            "type": "parcoords"
           }
          ],
          "pie": [
           {
            "automargin": true,
            "type": "pie"
           }
          ],
          "scatter": [
           {
            "fillpattern": {
             "fillmode": "overlay",
             "size": 10,
             "solidity": 0.2
            },
            "type": "scatter"
           }
          ],
          "scatter3d": [
           {
            "line": {
             "colorbar": {
              "outlinewidth": 0,
              "ticks": ""
             }
            },
            "marker": {
             "colorbar": {
              "outlinewidth": 0,
              "ticks": ""
             }
            },
            "type": "scatter3d"
           }
          ],
          "scattercarpet": [
           {
            "marker": {
             "colorbar": {
              "outlinewidth": 0,
              "ticks": ""
             }
            },
            "type": "scattercarpet"
           }
          ],
          "scattergeo": [
           {
            "marker": {
             "colorbar": {
              "outlinewidth": 0,
              "ticks": ""
             }
            },
            "type": "scattergeo"
           }
          ],
          "scattergl": [
           {
            "marker": {
             "colorbar": {
              "outlinewidth": 0,
              "ticks": ""
             }
            },
            "type": "scattergl"
           }
          ],
          "scattermap": [
           {
            "marker": {
             "colorbar": {
              "outlinewidth": 0,
              "ticks": ""
             }
            },
            "type": "scattermap"
           }
          ],
          "scattermapbox": [
           {
            "marker": {
             "colorbar": {
              "outlinewidth": 0,
              "ticks": ""
             }
            },
            "type": "scattermapbox"
           }
          ],
          "scatterpolar": [
           {
            "marker": {
             "colorbar": {
              "outlinewidth": 0,
              "ticks": ""
             }
            },
            "type": "scatterpolar"
           }
          ],
          "scatterpolargl": [
           {
            "marker": {
             "colorbar": {
              "outlinewidth": 0,
              "ticks": ""
             }
            },
            "type": "scatterpolargl"
           }
          ],
          "scatterternary": [
           {
            "marker": {
             "colorbar": {
              "outlinewidth": 0,
              "ticks": ""
             }
            },
            "type": "scatterternary"
           }
          ],
          "surface": [
           {
            "colorbar": {
             "outlinewidth": 0,
             "ticks": ""
            },
            "colorscale": [
             [
              0,
              "#0d0887"
             ],
             [
              0.1111111111111111,
              "#46039f"
             ],
             [
              0.2222222222222222,
              "#7201a8"
             ],
             [
              0.3333333333333333,
              "#9c179e"
             ],
             [
              0.4444444444444444,
              "#bd3786"
             ],
             [
              0.5555555555555556,
              "#d8576b"
             ],
             [
              0.6666666666666666,
              "#ed7953"
             ],
             [
              0.7777777777777778,
              "#fb9f3a"
             ],
             [
              0.8888888888888888,
              "#fdca26"
             ],
             [
              1,
              "#f0f921"
             ]
            ],
            "type": "surface"
           }
          ],
          "table": [
           {
            "cells": {
             "fill": {
              "color": "#EBF0F8"
             },
             "line": {
              "color": "white"
             }
            },
            "header": {
             "fill": {
              "color": "#C8D4E3"
             },
             "line": {
              "color": "white"
             }
            },
            "type": "table"
           }
          ]
         },
         "layout": {
          "annotationdefaults": {
           "arrowcolor": "#2a3f5f",
           "arrowhead": 0,
           "arrowwidth": 1
          },
          "autotypenumbers": "strict",
          "coloraxis": {
           "colorbar": {
            "outlinewidth": 0,
            "ticks": ""
           }
          },
          "colorscale": {
           "diverging": [
            [
             0,
             "#8e0152"
            ],
            [
             0.1,
             "#c51b7d"
            ],
            [
             0.2,
             "#de77ae"
            ],
            [
             0.3,
             "#f1b6da"
            ],
            [
             0.4,
             "#fde0ef"
            ],
            [
             0.5,
             "#f7f7f7"
            ],
            [
             0.6,
             "#e6f5d0"
            ],
            [
             0.7,
             "#b8e186"
            ],
            [
             0.8,
             "#7fbc41"
            ],
            [
             0.9,
             "#4d9221"
            ],
            [
             1,
             "#276419"
            ]
           ],
           "sequential": [
            [
             0,
             "#0d0887"
            ],
            [
             0.1111111111111111,
             "#46039f"
            ],
            [
             0.2222222222222222,
             "#7201a8"
            ],
            [
             0.3333333333333333,
             "#9c179e"
            ],
            [
             0.4444444444444444,
             "#bd3786"
            ],
            [
             0.5555555555555556,
             "#d8576b"
            ],
            [
             0.6666666666666666,
             "#ed7953"
            ],
            [
             0.7777777777777778,
             "#fb9f3a"
            ],
            [
             0.8888888888888888,
             "#fdca26"
            ],
            [
             1,
             "#f0f921"
            ]
           ],
           "sequentialminus": [
            [
             0,
             "#0d0887"
            ],
            [
             0.1111111111111111,
             "#46039f"
            ],
            [
             0.2222222222222222,
             "#7201a8"
            ],
            [
             0.3333333333333333,
             "#9c179e"
            ],
            [
             0.4444444444444444,
             "#bd3786"
            ],
            [
             0.5555555555555556,
             "#d8576b"
            ],
            [
             0.6666666666666666,
             "#ed7953"
            ],
            [
             0.7777777777777778,
             "#fb9f3a"
            ],
            [
             0.8888888888888888,
             "#fdca26"
            ],
            [
             1,
             "#f0f921"
            ]
           ]
          },
          "colorway": [
           "#636efa",
           "#EF553B",
           "#00cc96",
           "#ab63fa",
           "#FFA15A",
           "#19d3f3",
           "#FF6692",
           "#B6E880",
           "#FF97FF",
           "#FECB52"
          ],
          "font": {
           "color": "#2a3f5f"
          },
          "geo": {
           "bgcolor": "white",
           "lakecolor": "white",
           "landcolor": "#E5ECF6",
           "showlakes": true,
           "showland": true,
           "subunitcolor": "white"
          },
          "hoverlabel": {
           "align": "left"
          },
          "hovermode": "closest",
          "mapbox": {
           "style": "light"
          },
          "paper_bgcolor": "white",
          "plot_bgcolor": "#E5ECF6",
          "polar": {
           "angularaxis": {
            "gridcolor": "white",
            "linecolor": "white",
            "ticks": ""
           },
           "bgcolor": "#E5ECF6",
           "radialaxis": {
            "gridcolor": "white",
            "linecolor": "white",
            "ticks": ""
           }
          },
          "scene": {
           "xaxis": {
            "backgroundcolor": "#E5ECF6",
            "gridcolor": "white",
            "gridwidth": 2,
            "linecolor": "white",
            "showbackground": true,
            "ticks": "",
            "zerolinecolor": "white"
           },
           "yaxis": {
            "backgroundcolor": "#E5ECF6",
            "gridcolor": "white",
            "gridwidth": 2,
            "linecolor": "white",
            "showbackground": true,
            "ticks": "",
            "zerolinecolor": "white"
           },
           "zaxis": {
            "backgroundcolor": "#E5ECF6",
            "gridcolor": "white",
            "gridwidth": 2,
            "linecolor": "white",
            "showbackground": true,
            "ticks": "",
            "zerolinecolor": "white"
           }
          },
          "shapedefaults": {
           "line": {
            "color": "#2a3f5f"
           }
          },
          "ternary": {
           "aaxis": {
            "gridcolor": "white",
            "linecolor": "white",
            "ticks": ""
           },
           "baxis": {
            "gridcolor": "white",
            "linecolor": "white",
            "ticks": ""
           },
           "bgcolor": "#E5ECF6",
           "caxis": {
            "gridcolor": "white",
            "linecolor": "white",
            "ticks": ""
           }
          },
          "title": {
           "x": 0.05
          },
          "xaxis": {
           "automargin": true,
           "gridcolor": "white",
           "linecolor": "white",
           "ticks": "",
           "title": {
            "standoff": 15
           },
           "zerolinecolor": "white",
           "zerolinewidth": 2
          },
          "yaxis": {
           "automargin": true,
           "gridcolor": "white",
           "linecolor": "white",
           "ticks": "",
           "title": {
            "standoff": 15
           },
           "zerolinecolor": "white",
           "zerolinewidth": 2
          }
         }
        },
        "title": {
         "text": "Parallel Coordinate Plot"
        }
       }
      }
     },
     "metadata": {},
     "output_type": "display_data"
    },
    {
     "name": "stderr",
     "output_type": "stream",
     "text": [
      "[W 2025-08-27 08:54:59,888] Trial 3 is omitted in visualization because its objective value is inf or nan.\n",
      "[W 2025-08-27 08:54:59,889] Trial 6 is omitted in visualization because its objective value is inf or nan.\n",
      "[W 2025-08-27 08:54:59,889] Trial 7 is omitted in visualization because its objective value is inf or nan.\n",
      "[W 2025-08-27 08:54:59,889] Trial 8 is omitted in visualization because its objective value is inf or nan.\n",
      "[W 2025-08-27 08:54:59,890] Trial 20 is omitted in visualization because its objective value is inf or nan.\n",
      "[W 2025-08-27 08:54:59,891] Trial 25 is omitted in visualization because its objective value is inf or nan.\n",
      "[W 2025-08-27 08:54:59,891] Trial 30 is omitted in visualization because its objective value is inf or nan.\n",
      "[W 2025-08-27 08:54:59,891] Trial 36 is omitted in visualization because its objective value is inf or nan.\n",
      "[W 2025-08-27 08:54:59,892] Trial 40 is omitted in visualization because its objective value is inf or nan.\n",
      "[W 2025-08-27 08:54:59,892] Trial 45 is omitted in visualization because its objective value is inf or nan.\n"
     ]
    },
    {
     "data": {
      "application/vnd.plotly.v1+json": {
       "config": {
        "plotlyServerURL": "https://plot.ly"
       },
       "data": [
        {
         "cliponaxis": false,
         "hovertemplate": [
          "l2_leaf_reg (FloatDistribution): 0.0030713034106901703<extra></extra>",
          "depth (IntDistribution): 0.018132259576610466<extra></extra>",
          "feature_selection (CategoricalDistribution): 0.029687435652238664<extra></extra>",
          "iterations (IntDistribution): 0.10972359059630787<extra></extra>",
          "learning_rate (FloatDistribution): 0.8393854107641529<extra></extra>"
         ],
         "name": "R² Score",
         "orientation": "h",
         "text": [
          "<0.01",
          "0.02",
          "0.03",
          "0.11",
          "0.84"
         ],
         "textposition": "outside",
         "type": "bar",
         "x": [
          0.0030713034106901703,
          0.018132259576610466,
          0.029687435652238664,
          0.10972359059630787,
          0.8393854107641529
         ],
         "y": [
          "l2_leaf_reg",
          "depth",
          "feature_selection",
          "iterations",
          "learning_rate"
         ]
        }
       ],
       "layout": {
        "template": {
         "data": {
          "bar": [
           {
            "error_x": {
             "color": "#2a3f5f"
            },
            "error_y": {
             "color": "#2a3f5f"
            },
            "marker": {
             "line": {
              "color": "#E5ECF6",
              "width": 0.5
             },
             "pattern": {
              "fillmode": "overlay",
              "size": 10,
              "solidity": 0.2
             }
            },
            "type": "bar"
           }
          ],
          "barpolar": [
           {
            "marker": {
             "line": {
              "color": "#E5ECF6",
              "width": 0.5
             },
             "pattern": {
              "fillmode": "overlay",
              "size": 10,
              "solidity": 0.2
             }
            },
            "type": "barpolar"
           }
          ],
          "carpet": [
           {
            "aaxis": {
             "endlinecolor": "#2a3f5f",
             "gridcolor": "white",
             "linecolor": "white",
             "minorgridcolor": "white",
             "startlinecolor": "#2a3f5f"
            },
            "baxis": {
             "endlinecolor": "#2a3f5f",
             "gridcolor": "white",
             "linecolor": "white",
             "minorgridcolor": "white",
             "startlinecolor": "#2a3f5f"
            },
            "type": "carpet"
           }
          ],
          "choropleth": [
           {
            "colorbar": {
             "outlinewidth": 0,
             "ticks": ""
            },
            "type": "choropleth"
           }
          ],
          "contour": [
           {
            "colorbar": {
             "outlinewidth": 0,
             "ticks": ""
            },
            "colorscale": [
             [
              0,
              "#0d0887"
             ],
             [
              0.1111111111111111,
              "#46039f"
             ],
             [
              0.2222222222222222,
              "#7201a8"
             ],
             [
              0.3333333333333333,
              "#9c179e"
             ],
             [
              0.4444444444444444,
              "#bd3786"
             ],
             [
              0.5555555555555556,
              "#d8576b"
             ],
             [
              0.6666666666666666,
              "#ed7953"
             ],
             [
              0.7777777777777778,
              "#fb9f3a"
             ],
             [
              0.8888888888888888,
              "#fdca26"
             ],
             [
              1,
              "#f0f921"
             ]
            ],
            "type": "contour"
           }
          ],
          "contourcarpet": [
           {
            "colorbar": {
             "outlinewidth": 0,
             "ticks": ""
            },
            "type": "contourcarpet"
           }
          ],
          "heatmap": [
           {
            "colorbar": {
             "outlinewidth": 0,
             "ticks": ""
            },
            "colorscale": [
             [
              0,
              "#0d0887"
             ],
             [
              0.1111111111111111,
              "#46039f"
             ],
             [
              0.2222222222222222,
              "#7201a8"
             ],
             [
              0.3333333333333333,
              "#9c179e"
             ],
             [
              0.4444444444444444,
              "#bd3786"
             ],
             [
              0.5555555555555556,
              "#d8576b"
             ],
             [
              0.6666666666666666,
              "#ed7953"
             ],
             [
              0.7777777777777778,
              "#fb9f3a"
             ],
             [
              0.8888888888888888,
              "#fdca26"
             ],
             [
              1,
              "#f0f921"
             ]
            ],
            "type": "heatmap"
           }
          ],
          "histogram": [
           {
            "marker": {
             "pattern": {
              "fillmode": "overlay",
              "size": 10,
              "solidity": 0.2
             }
            },
            "type": "histogram"
           }
          ],
          "histogram2d": [
           {
            "colorbar": {
             "outlinewidth": 0,
             "ticks": ""
            },
            "colorscale": [
             [
              0,
              "#0d0887"
             ],
             [
              0.1111111111111111,
              "#46039f"
             ],
             [
              0.2222222222222222,
              "#7201a8"
             ],
             [
              0.3333333333333333,
              "#9c179e"
             ],
             [
              0.4444444444444444,
              "#bd3786"
             ],
             [
              0.5555555555555556,
              "#d8576b"
             ],
             [
              0.6666666666666666,
              "#ed7953"
             ],
             [
              0.7777777777777778,
              "#fb9f3a"
             ],
             [
              0.8888888888888888,
              "#fdca26"
             ],
             [
              1,
              "#f0f921"
             ]
            ],
            "type": "histogram2d"
           }
          ],
          "histogram2dcontour": [
           {
            "colorbar": {
             "outlinewidth": 0,
             "ticks": ""
            },
            "colorscale": [
             [
              0,
              "#0d0887"
             ],
             [
              0.1111111111111111,
              "#46039f"
             ],
             [
              0.2222222222222222,
              "#7201a8"
             ],
             [
              0.3333333333333333,
              "#9c179e"
             ],
             [
              0.4444444444444444,
              "#bd3786"
             ],
             [
              0.5555555555555556,
              "#d8576b"
             ],
             [
              0.6666666666666666,
              "#ed7953"
             ],
             [
              0.7777777777777778,
              "#fb9f3a"
             ],
             [
              0.8888888888888888,
              "#fdca26"
             ],
             [
              1,
              "#f0f921"
             ]
            ],
            "type": "histogram2dcontour"
           }
          ],
          "mesh3d": [
           {
            "colorbar": {
             "outlinewidth": 0,
             "ticks": ""
            },
            "type": "mesh3d"
           }
          ],
          "parcoords": [
           {
            "line": {
             "colorbar": {
              "outlinewidth": 0,
              "ticks": ""
             }
            },
            "type": "parcoords"
           }
          ],
          "pie": [
           {
            "automargin": true,
            "type": "pie"
           }
          ],
          "scatter": [
           {
            "fillpattern": {
             "fillmode": "overlay",
             "size": 10,
             "solidity": 0.2
            },
            "type": "scatter"
           }
          ],
          "scatter3d": [
           {
            "line": {
             "colorbar": {
              "outlinewidth": 0,
              "ticks": ""
             }
            },
            "marker": {
             "colorbar": {
              "outlinewidth": 0,
              "ticks": ""
             }
            },
            "type": "scatter3d"
           }
          ],
          "scattercarpet": [
           {
            "marker": {
             "colorbar": {
              "outlinewidth": 0,
              "ticks": ""
             }
            },
            "type": "scattercarpet"
           }
          ],
          "scattergeo": [
           {
            "marker": {
             "colorbar": {
              "outlinewidth": 0,
              "ticks": ""
             }
            },
            "type": "scattergeo"
           }
          ],
          "scattergl": [
           {
            "marker": {
             "colorbar": {
              "outlinewidth": 0,
              "ticks": ""
             }
            },
            "type": "scattergl"
           }
          ],
          "scattermap": [
           {
            "marker": {
             "colorbar": {
              "outlinewidth": 0,
              "ticks": ""
             }
            },
            "type": "scattermap"
           }
          ],
          "scattermapbox": [
           {
            "marker": {
             "colorbar": {
              "outlinewidth": 0,
              "ticks": ""
             }
            },
            "type": "scattermapbox"
           }
          ],
          "scatterpolar": [
           {
            "marker": {
             "colorbar": {
              "outlinewidth": 0,
              "ticks": ""
             }
            },
            "type": "scatterpolar"
           }
          ],
          "scatterpolargl": [
           {
            "marker": {
             "colorbar": {
              "outlinewidth": 0,
              "ticks": ""
             }
            },
            "type": "scatterpolargl"
           }
          ],
          "scatterternary": [
           {
            "marker": {
             "colorbar": {
              "outlinewidth": 0,
              "ticks": ""
             }
            },
            "type": "scatterternary"
           }
          ],
          "surface": [
           {
            "colorbar": {
             "outlinewidth": 0,
             "ticks": ""
            },
            "colorscale": [
             [
              0,
              "#0d0887"
             ],
             [
              0.1111111111111111,
              "#46039f"
             ],
             [
              0.2222222222222222,
              "#7201a8"
             ],
             [
              0.3333333333333333,
              "#9c179e"
             ],
             [
              0.4444444444444444,
              "#bd3786"
             ],
             [
              0.5555555555555556,
              "#d8576b"
             ],
             [
              0.6666666666666666,
              "#ed7953"
             ],
             [
              0.7777777777777778,
              "#fb9f3a"
             ],
             [
              0.8888888888888888,
              "#fdca26"
             ],
             [
              1,
              "#f0f921"
             ]
            ],
            "type": "surface"
           }
          ],
          "table": [
           {
            "cells": {
             "fill": {
              "color": "#EBF0F8"
             },
             "line": {
              "color": "white"
             }
            },
            "header": {
             "fill": {
              "color": "#C8D4E3"
             },
             "line": {
              "color": "white"
             }
            },
            "type": "table"
           }
          ]
         },
         "layout": {
          "annotationdefaults": {
           "arrowcolor": "#2a3f5f",
           "arrowhead": 0,
           "arrowwidth": 1
          },
          "autotypenumbers": "strict",
          "coloraxis": {
           "colorbar": {
            "outlinewidth": 0,
            "ticks": ""
           }
          },
          "colorscale": {
           "diverging": [
            [
             0,
             "#8e0152"
            ],
            [
             0.1,
             "#c51b7d"
            ],
            [
             0.2,
             "#de77ae"
            ],
            [
             0.3,
             "#f1b6da"
            ],
            [
             0.4,
             "#fde0ef"
            ],
            [
             0.5,
             "#f7f7f7"
            ],
            [
             0.6,
             "#e6f5d0"
            ],
            [
             0.7,
             "#b8e186"
            ],
            [
             0.8,
             "#7fbc41"
            ],
            [
             0.9,
             "#4d9221"
            ],
            [
             1,
             "#276419"
            ]
           ],
           "sequential": [
            [
             0,
             "#0d0887"
            ],
            [
             0.1111111111111111,
             "#46039f"
            ],
            [
             0.2222222222222222,
             "#7201a8"
            ],
            [
             0.3333333333333333,
             "#9c179e"
            ],
            [
             0.4444444444444444,
             "#bd3786"
            ],
            [
             0.5555555555555556,
             "#d8576b"
            ],
            [
             0.6666666666666666,
             "#ed7953"
            ],
            [
             0.7777777777777778,
             "#fb9f3a"
            ],
            [
             0.8888888888888888,
             "#fdca26"
            ],
            [
             1,
             "#f0f921"
            ]
           ],
           "sequentialminus": [
            [
             0,
             "#0d0887"
            ],
            [
             0.1111111111111111,
             "#46039f"
            ],
            [
             0.2222222222222222,
             "#7201a8"
            ],
            [
             0.3333333333333333,
             "#9c179e"
            ],
            [
             0.4444444444444444,
             "#bd3786"
            ],
            [
             0.5555555555555556,
             "#d8576b"
            ],
            [
             0.6666666666666666,
             "#ed7953"
            ],
            [
             0.7777777777777778,
             "#fb9f3a"
            ],
            [
             0.8888888888888888,
             "#fdca26"
            ],
            [
             1,
             "#f0f921"
            ]
           ]
          },
          "colorway": [
           "#636efa",
           "#EF553B",
           "#00cc96",
           "#ab63fa",
           "#FFA15A",
           "#19d3f3",
           "#FF6692",
           "#B6E880",
           "#FF97FF",
           "#FECB52"
          ],
          "font": {
           "color": "#2a3f5f"
          },
          "geo": {
           "bgcolor": "white",
           "lakecolor": "white",
           "landcolor": "#E5ECF6",
           "showlakes": true,
           "showland": true,
           "subunitcolor": "white"
          },
          "hoverlabel": {
           "align": "left"
          },
          "hovermode": "closest",
          "mapbox": {
           "style": "light"
          },
          "paper_bgcolor": "white",
          "plot_bgcolor": "#E5ECF6",
          "polar": {
           "angularaxis": {
            "gridcolor": "white",
            "linecolor": "white",
            "ticks": ""
           },
           "bgcolor": "#E5ECF6",
           "radialaxis": {
            "gridcolor": "white",
            "linecolor": "white",
            "ticks": ""
           }
          },
          "scene": {
           "xaxis": {
            "backgroundcolor": "#E5ECF6",
            "gridcolor": "white",
            "gridwidth": 2,
            "linecolor": "white",
            "showbackground": true,
            "ticks": "",
            "zerolinecolor": "white"
           },
           "yaxis": {
            "backgroundcolor": "#E5ECF6",
            "gridcolor": "white",
            "gridwidth": 2,
            "linecolor": "white",
            "showbackground": true,
            "ticks": "",
            "zerolinecolor": "white"
           },
           "zaxis": {
            "backgroundcolor": "#E5ECF6",
            "gridcolor": "white",
            "gridwidth": 2,
            "linecolor": "white",
            "showbackground": true,
            "ticks": "",
            "zerolinecolor": "white"
           }
          },
          "shapedefaults": {
           "line": {
            "color": "#2a3f5f"
           }
          },
          "ternary": {
           "aaxis": {
            "gridcolor": "white",
            "linecolor": "white",
            "ticks": ""
           },
           "baxis": {
            "gridcolor": "white",
            "linecolor": "white",
            "ticks": ""
           },
           "bgcolor": "#E5ECF6",
           "caxis": {
            "gridcolor": "white",
            "linecolor": "white",
            "ticks": ""
           }
          },
          "title": {
           "x": 0.05
          },
          "xaxis": {
           "automargin": true,
           "gridcolor": "white",
           "linecolor": "white",
           "ticks": "",
           "title": {
            "standoff": 15
           },
           "zerolinecolor": "white",
           "zerolinewidth": 2
          },
          "yaxis": {
           "automargin": true,
           "gridcolor": "white",
           "linecolor": "white",
           "ticks": "",
           "title": {
            "standoff": 15
           },
           "zerolinecolor": "white",
           "zerolinewidth": 2
          }
         }
        },
        "title": {
         "text": "Hyperparameter Importances"
        },
        "xaxis": {
         "title": {
          "text": "Hyperparameter Importance"
         }
        },
        "yaxis": {
         "title": {
          "text": "Hyperparameter"
         }
        }
       }
      }
     },
     "metadata": {},
     "output_type": "display_data"
    },
    {
     "name": "stderr",
     "output_type": "stream",
     "text": [
      "[W 2025-08-27 08:55:00,241] Trial 3 is omitted in visualization because its objective value is inf or nan.\n",
      "[W 2025-08-27 08:55:00,242] Trial 6 is omitted in visualization because its objective value is inf or nan.\n",
      "[W 2025-08-27 08:55:00,242] Trial 7 is omitted in visualization because its objective value is inf or nan.\n",
      "[W 2025-08-27 08:55:00,242] Trial 8 is omitted in visualization because its objective value is inf or nan.\n",
      "[W 2025-08-27 08:55:00,242] Trial 20 is omitted in visualization because its objective value is inf or nan.\n",
      "[W 2025-08-27 08:55:00,243] Trial 25 is omitted in visualization because its objective value is inf or nan.\n",
      "[W 2025-08-27 08:55:00,243] Trial 30 is omitted in visualization because its objective value is inf or nan.\n",
      "[W 2025-08-27 08:55:00,243] Trial 36 is omitted in visualization because its objective value is inf or nan.\n",
      "[W 2025-08-27 08:55:00,244] Trial 40 is omitted in visualization because its objective value is inf or nan.\n",
      "[W 2025-08-27 08:55:00,244] Trial 45 is omitted in visualization because its objective value is inf or nan.\n"
     ]
    },
    {
     "data": {
      "application/vnd.plotly.v1+json": {
       "config": {
        "plotlyServerURL": "https://plot.ly"
       },
       "data": [
        {
         "marker": {
          "color": [
           0,
           1,
           2,
           4,
           5,
           9,
           10,
           11,
           12,
           13,
           14,
           15,
           16,
           17,
           18,
           19,
           21,
           22,
           23,
           24,
           26,
           27,
           28,
           29,
           31,
           32,
           33,
           34,
           35,
           37,
           38,
           39,
           41,
           42,
           43,
           44,
           46,
           47,
           48,
           49
          ],
          "colorbar": {
           "title": {
            "text": "Trial"
           },
           "x": 1,
           "xpad": 40
          },
          "colorscale": [
           [
            0,
            "rgb(247,251,255)"
           ],
           [
            0.125,
            "rgb(222,235,247)"
           ],
           [
            0.25,
            "rgb(198,219,239)"
           ],
           [
            0.375,
            "rgb(158,202,225)"
           ],
           [
            0.5,
            "rgb(107,174,214)"
           ],
           [
            0.625,
            "rgb(66,146,198)"
           ],
           [
            0.75,
            "rgb(33,113,181)"
           ],
           [
            0.875,
            "rgb(8,81,156)"
           ],
           [
            1,
            "rgb(8,48,107)"
           ]
          ],
          "line": {
           "color": "Grey",
           "width": 0.5
          },
          "showscale": true
         },
         "mode": "markers",
         "name": "Feasible Trial",
         "showlegend": false,
         "type": "scatter",
         "x": [
          9,
          4,
          3,
          10,
          9,
          6,
          10,
          10,
          10,
          7,
          7,
          5,
          5,
          5,
          5,
          8,
          5,
          4,
          6,
          6,
          6,
          8,
          6,
          7,
          6,
          6,
          7,
          8,
          7,
          3,
          9,
          4,
          6,
          6,
          5,
          6,
          6,
          7,
          10,
          5
         ],
         "xaxis": "x",
         "y": [
          0.166257073214946,
          0.16959335540277212,
          0.15663795505932424,
          0.2369166860218595,
          0.10068666678605413,
          0.17671211140849374,
          0.18099773208192615,
          0.17608233151209352,
          0.12020580214086188,
          0.19627101067408187,
          0.12842818089798508,
          0.19658768861349704,
          0.14395276145308028,
          0.18679024527412685,
          0.20281734810127974,
          0.19430694153153655,
          0.21202145204240913,
          0.16021387985722454,
          0.2134599259512945,
          0.22543788306253426,
          0.21626679195863963,
          0.19248940277163554,
          0.113305845447362,
          0.16375616835337925,
          0.20751854765321456,
          0.20429987477629177,
          0.23012223202483822,
          0.2117595195927322,
          0.022521962940110486,
          0.06901681347386786,
          0.17869987261640902,
          0.19521356577981025,
          0.23173990701219518,
          0.21643308497689473,
          0.21134625315868288,
          0.16264089208621174,
          0.22221057075900688,
          0.19782960419900314,
          0.15733827961915497,
          0.2025005820008099
         ],
         "yaxis": "y"
        },
        {
         "marker": {
          "color": [
           0,
           2,
           4,
           5,
           9,
           10,
           11,
           12,
           13,
           14,
           28,
           29,
           35,
           38,
           44,
           47,
           49
          ],
          "colorbar": {
           "title": {
            "text": "Trial"
           },
           "x": 1,
           "xpad": 40
          },
          "colorscale": [
           [
            0,
            "rgb(247,251,255)"
           ],
           [
            0.125,
            "rgb(222,235,247)"
           ],
           [
            0.25,
            "rgb(198,219,239)"
           ],
           [
            0.375,
            "rgb(158,202,225)"
           ],
           [
            0.5,
            "rgb(107,174,214)"
           ],
           [
            0.625,
            "rgb(66,146,198)"
           ],
           [
            0.75,
            "rgb(33,113,181)"
           ],
           [
            0.875,
            "rgb(8,81,156)"
           ],
           [
            1,
            "rgb(8,48,107)"
           ]
          ],
          "line": {
           "color": "Grey",
           "width": 0.5
          },
          "showscale": false
         },
         "mode": "markers",
         "name": "Feasible Trial",
         "showlegend": false,
         "type": "scatter",
         "x": [
          37,
          48,
          20,
          20,
          22,
          29,
          31,
          29,
          28,
          11,
          25,
          35,
          16,
          41,
          35,
          19,
          26
         ],
         "xaxis": "x2",
         "y": [
          0.166257073214946,
          0.15663795505932424,
          0.2369166860218595,
          0.10068666678605413,
          0.17671211140849374,
          0.18099773208192615,
          0.17608233151209352,
          0.12020580214086188,
          0.19627101067408187,
          0.12842818089798508,
          0.113305845447362,
          0.16375616835337925,
          0.022521962940110486,
          0.17869987261640902,
          0.16264089208621174,
          0.19782960419900314,
          0.2025005820008099
         ],
         "yaxis": "y2"
        },
        {
         "marker": {
          "color": [
           0,
           1,
           2,
           4,
           5,
           9,
           10,
           11,
           12,
           13,
           14,
           15,
           16,
           17,
           18,
           19,
           21,
           22,
           23,
           24,
           26,
           27,
           28,
           29,
           31,
           32,
           33,
           34,
           35,
           37,
           38,
           39,
           41,
           42,
           43,
           44,
           46,
           47,
           48,
           49
          ],
          "colorbar": {
           "title": {
            "text": "Trial"
           },
           "x": 1,
           "xpad": 40
          },
          "colorscale": [
           [
            0,
            "rgb(247,251,255)"
           ],
           [
            0.125,
            "rgb(222,235,247)"
           ],
           [
            0.25,
            "rgb(198,219,239)"
           ],
           [
            0.375,
            "rgb(158,202,225)"
           ],
           [
            0.5,
            "rgb(107,174,214)"
           ],
           [
            0.625,
            "rgb(66,146,198)"
           ],
           [
            0.75,
            "rgb(33,113,181)"
           ],
           [
            0.875,
            "rgb(8,81,156)"
           ],
           [
            1,
            "rgb(8,48,107)"
           ]
          ],
          "line": {
           "color": "Grey",
           "width": 0.5
          },
          "showscale": false
         },
         "mode": "markers",
         "name": "Feasible Trial",
         "showlegend": false,
         "type": "scatter",
         "x": [
          0.012741369316909492,
          0.05286056372230047,
          0.003616228299359011,
          0.092922719517782,
          0.1954865577186104,
          0.030741237105374596,
          0.012740866854125926,
          0.009871291748030368,
          0.005396319699326082,
          0.03070915238526956,
          0.06081767945126525,
          0.02881244249178272,
          0.28719606873426484,
          0.08758721703591828,
          0.02622063026337253,
          0.02128625028437135,
          0.025778659728748002,
          0.08345538519180841,
          0.04510479698205997,
          0.037780899770732616,
          0.04805456604793258,
          0.03837143270120509,
          0.28195230119582204,
          0.015304763362418181,
          0.05217142352135921,
          0.04481108363765389,
          0.08021034851313522,
          0.06998128668908282,
          0.1923766857405144,
          0.18690480748454155,
          0.019123822080914028,
          0.07017674845905293,
          0.040373439969562164,
          0.034426817221728266,
          0.03703098890707206,
          0.0011580285144773843,
          0.00818483478940852,
          0.007351512701367969,
          0.0029670438875091494,
          0.0081000907924057
         ],
         "xaxis": "x3",
         "y": [
          0.166257073214946,
          0.16959335540277212,
          0.15663795505932424,
          0.2369166860218595,
          0.10068666678605413,
          0.17671211140849374,
          0.18099773208192615,
          0.17608233151209352,
          0.12020580214086188,
          0.19627101067408187,
          0.12842818089798508,
          0.19658768861349704,
          0.14395276145308028,
          0.18679024527412685,
          0.20281734810127974,
          0.19430694153153655,
          0.21202145204240913,
          0.16021387985722454,
          0.2134599259512945,
          0.22543788306253426,
          0.21626679195863963,
          0.19248940277163554,
          0.113305845447362,
          0.16375616835337925,
          0.20751854765321456,
          0.20429987477629177,
          0.23012223202483822,
          0.2117595195927322,
          0.022521962940110486,
          0.06901681347386786,
          0.17869987261640902,
          0.19521356577981025,
          0.23173990701219518,
          0.21643308497689473,
          0.21134625315868288,
          0.16264089208621174,
          0.22221057075900688,
          0.19782960419900314,
          0.15733827961915497,
          0.2025005820008099
         ],
         "yaxis": "y3"
        }
       ],
       "layout": {
        "template": {
         "data": {
          "bar": [
           {
            "error_x": {
             "color": "#2a3f5f"
            },
            "error_y": {
             "color": "#2a3f5f"
            },
            "marker": {
             "line": {
              "color": "#E5ECF6",
              "width": 0.5
             },
             "pattern": {
              "fillmode": "overlay",
              "size": 10,
              "solidity": 0.2
             }
            },
            "type": "bar"
           }
          ],
          "barpolar": [
           {
            "marker": {
             "line": {
              "color": "#E5ECF6",
              "width": 0.5
             },
             "pattern": {
              "fillmode": "overlay",
              "size": 10,
              "solidity": 0.2
             }
            },
            "type": "barpolar"
           }
          ],
          "carpet": [
           {
            "aaxis": {
             "endlinecolor": "#2a3f5f",
             "gridcolor": "white",
             "linecolor": "white",
             "minorgridcolor": "white",
             "startlinecolor": "#2a3f5f"
            },
            "baxis": {
             "endlinecolor": "#2a3f5f",
             "gridcolor": "white",
             "linecolor": "white",
             "minorgridcolor": "white",
             "startlinecolor": "#2a3f5f"
            },
            "type": "carpet"
           }
          ],
          "choropleth": [
           {
            "colorbar": {
             "outlinewidth": 0,
             "ticks": ""
            },
            "type": "choropleth"
           }
          ],
          "contour": [
           {
            "colorbar": {
             "outlinewidth": 0,
             "ticks": ""
            },
            "colorscale": [
             [
              0,
              "#0d0887"
             ],
             [
              0.1111111111111111,
              "#46039f"
             ],
             [
              0.2222222222222222,
              "#7201a8"
             ],
             [
              0.3333333333333333,
              "#9c179e"
             ],
             [
              0.4444444444444444,
              "#bd3786"
             ],
             [
              0.5555555555555556,
              "#d8576b"
             ],
             [
              0.6666666666666666,
              "#ed7953"
             ],
             [
              0.7777777777777778,
              "#fb9f3a"
             ],
             [
              0.8888888888888888,
              "#fdca26"
             ],
             [
              1,
              "#f0f921"
             ]
            ],
            "type": "contour"
           }
          ],
          "contourcarpet": [
           {
            "colorbar": {
             "outlinewidth": 0,
             "ticks": ""
            },
            "type": "contourcarpet"
           }
          ],
          "heatmap": [
           {
            "colorbar": {
             "outlinewidth": 0,
             "ticks": ""
            },
            "colorscale": [
             [
              0,
              "#0d0887"
             ],
             [
              0.1111111111111111,
              "#46039f"
             ],
             [
              0.2222222222222222,
              "#7201a8"
             ],
             [
              0.3333333333333333,
              "#9c179e"
             ],
             [
              0.4444444444444444,
              "#bd3786"
             ],
             [
              0.5555555555555556,
              "#d8576b"
             ],
             [
              0.6666666666666666,
              "#ed7953"
             ],
             [
              0.7777777777777778,
              "#fb9f3a"
             ],
             [
              0.8888888888888888,
              "#fdca26"
             ],
             [
              1,
              "#f0f921"
             ]
            ],
            "type": "heatmap"
           }
          ],
          "histogram": [
           {
            "marker": {
             "pattern": {
              "fillmode": "overlay",
              "size": 10,
              "solidity": 0.2
             }
            },
            "type": "histogram"
           }
          ],
          "histogram2d": [
           {
            "colorbar": {
             "outlinewidth": 0,
             "ticks": ""
            },
            "colorscale": [
             [
              0,
              "#0d0887"
             ],
             [
              0.1111111111111111,
              "#46039f"
             ],
             [
              0.2222222222222222,
              "#7201a8"
             ],
             [
              0.3333333333333333,
              "#9c179e"
             ],
             [
              0.4444444444444444,
              "#bd3786"
             ],
             [
              0.5555555555555556,
              "#d8576b"
             ],
             [
              0.6666666666666666,
              "#ed7953"
             ],
             [
              0.7777777777777778,
              "#fb9f3a"
             ],
             [
              0.8888888888888888,
              "#fdca26"
             ],
             [
              1,
              "#f0f921"
             ]
            ],
            "type": "histogram2d"
           }
          ],
          "histogram2dcontour": [
           {
            "colorbar": {
             "outlinewidth": 0,
             "ticks": ""
            },
            "colorscale": [
             [
              0,
              "#0d0887"
             ],
             [
              0.1111111111111111,
              "#46039f"
             ],
             [
              0.2222222222222222,
              "#7201a8"
             ],
             [
              0.3333333333333333,
              "#9c179e"
             ],
             [
              0.4444444444444444,
              "#bd3786"
             ],
             [
              0.5555555555555556,
              "#d8576b"
             ],
             [
              0.6666666666666666,
              "#ed7953"
             ],
             [
              0.7777777777777778,
              "#fb9f3a"
             ],
             [
              0.8888888888888888,
              "#fdca26"
             ],
             [
              1,
              "#f0f921"
             ]
            ],
            "type": "histogram2dcontour"
           }
          ],
          "mesh3d": [
           {
            "colorbar": {
             "outlinewidth": 0,
             "ticks": ""
            },
            "type": "mesh3d"
           }
          ],
          "parcoords": [
           {
            "line": {
             "colorbar": {
              "outlinewidth": 0,
              "ticks": ""
             }
            },
            "type": "parcoords"
           }
          ],
          "pie": [
           {
            "automargin": true,
            "type": "pie"
           }
          ],
          "scatter": [
           {
            "fillpattern": {
             "fillmode": "overlay",
             "size": 10,
             "solidity": 0.2
            },
            "type": "scatter"
           }
          ],
          "scatter3d": [
           {
            "line": {
             "colorbar": {
              "outlinewidth": 0,
              "ticks": ""
             }
            },
            "marker": {
             "colorbar": {
              "outlinewidth": 0,
              "ticks": ""
             }
            },
            "type": "scatter3d"
           }
          ],
          "scattercarpet": [
           {
            "marker": {
             "colorbar": {
              "outlinewidth": 0,
              "ticks": ""
             }
            },
            "type": "scattercarpet"
           }
          ],
          "scattergeo": [
           {
            "marker": {
             "colorbar": {
              "outlinewidth": 0,
              "ticks": ""
             }
            },
            "type": "scattergeo"
           }
          ],
          "scattergl": [
           {
            "marker": {
             "colorbar": {
              "outlinewidth": 0,
              "ticks": ""
             }
            },
            "type": "scattergl"
           }
          ],
          "scattermap": [
           {
            "marker": {
             "colorbar": {
              "outlinewidth": 0,
              "ticks": ""
             }
            },
            "type": "scattermap"
           }
          ],
          "scattermapbox": [
           {
            "marker": {
             "colorbar": {
              "outlinewidth": 0,
              "ticks": ""
             }
            },
            "type": "scattermapbox"
           }
          ],
          "scatterpolar": [
           {
            "marker": {
             "colorbar": {
              "outlinewidth": 0,
              "ticks": ""
             }
            },
            "type": "scatterpolar"
           }
          ],
          "scatterpolargl": [
           {
            "marker": {
             "colorbar": {
              "outlinewidth": 0,
              "ticks": ""
             }
            },
            "type": "scatterpolargl"
           }
          ],
          "scatterternary": [
           {
            "marker": {
             "colorbar": {
              "outlinewidth": 0,
              "ticks": ""
             }
            },
            "type": "scatterternary"
           }
          ],
          "surface": [
           {
            "colorbar": {
             "outlinewidth": 0,
             "ticks": ""
            },
            "colorscale": [
             [
              0,
              "#0d0887"
             ],
             [
              0.1111111111111111,
              "#46039f"
             ],
             [
              0.2222222222222222,
              "#7201a8"
             ],
             [
              0.3333333333333333,
              "#9c179e"
             ],
             [
              0.4444444444444444,
              "#bd3786"
             ],
             [
              0.5555555555555556,
              "#d8576b"
             ],
             [
              0.6666666666666666,
              "#ed7953"
             ],
             [
              0.7777777777777778,
              "#fb9f3a"
             ],
             [
              0.8888888888888888,
              "#fdca26"
             ],
             [
              1,
              "#f0f921"
             ]
            ],
            "type": "surface"
           }
          ],
          "table": [
           {
            "cells": {
             "fill": {
              "color": "#EBF0F8"
             },
             "line": {
              "color": "white"
             }
            },
            "header": {
             "fill": {
              "color": "#C8D4E3"
             },
             "line": {
              "color": "white"
             }
            },
            "type": "table"
           }
          ]
         },
         "layout": {
          "annotationdefaults": {
           "arrowcolor": "#2a3f5f",
           "arrowhead": 0,
           "arrowwidth": 1
          },
          "autotypenumbers": "strict",
          "coloraxis": {
           "colorbar": {
            "outlinewidth": 0,
            "ticks": ""
           }
          },
          "colorscale": {
           "diverging": [
            [
             0,
             "#8e0152"
            ],
            [
             0.1,
             "#c51b7d"
            ],
            [
             0.2,
             "#de77ae"
            ],
            [
             0.3,
             "#f1b6da"
            ],
            [
             0.4,
             "#fde0ef"
            ],
            [
             0.5,
             "#f7f7f7"
            ],
            [
             0.6,
             "#e6f5d0"
            ],
            [
             0.7,
             "#b8e186"
            ],
            [
             0.8,
             "#7fbc41"
            ],
            [
             0.9,
             "#4d9221"
            ],
            [
             1,
             "#276419"
            ]
           ],
           "sequential": [
            [
             0,
             "#0d0887"
            ],
            [
             0.1111111111111111,
             "#46039f"
            ],
            [
             0.2222222222222222,
             "#7201a8"
            ],
            [
             0.3333333333333333,
             "#9c179e"
            ],
            [
             0.4444444444444444,
             "#bd3786"
            ],
            [
             0.5555555555555556,
             "#d8576b"
            ],
            [
             0.6666666666666666,
             "#ed7953"
            ],
            [
             0.7777777777777778,
             "#fb9f3a"
            ],
            [
             0.8888888888888888,
             "#fdca26"
            ],
            [
             1,
             "#f0f921"
            ]
           ],
           "sequentialminus": [
            [
             0,
             "#0d0887"
            ],
            [
             0.1111111111111111,
             "#46039f"
            ],
            [
             0.2222222222222222,
             "#7201a8"
            ],
            [
             0.3333333333333333,
             "#9c179e"
            ],
            [
             0.4444444444444444,
             "#bd3786"
            ],
            [
             0.5555555555555556,
             "#d8576b"
            ],
            [
             0.6666666666666666,
             "#ed7953"
            ],
            [
             0.7777777777777778,
             "#fb9f3a"
            ],
            [
             0.8888888888888888,
             "#fdca26"
            ],
            [
             1,
             "#f0f921"
            ]
           ]
          },
          "colorway": [
           "#636efa",
           "#EF553B",
           "#00cc96",
           "#ab63fa",
           "#FFA15A",
           "#19d3f3",
           "#FF6692",
           "#B6E880",
           "#FF97FF",
           "#FECB52"
          ],
          "font": {
           "color": "#2a3f5f"
          },
          "geo": {
           "bgcolor": "white",
           "lakecolor": "white",
           "landcolor": "#E5ECF6",
           "showlakes": true,
           "showland": true,
           "subunitcolor": "white"
          },
          "hoverlabel": {
           "align": "left"
          },
          "hovermode": "closest",
          "mapbox": {
           "style": "light"
          },
          "paper_bgcolor": "white",
          "plot_bgcolor": "#E5ECF6",
          "polar": {
           "angularaxis": {
            "gridcolor": "white",
            "linecolor": "white",
            "ticks": ""
           },
           "bgcolor": "#E5ECF6",
           "radialaxis": {
            "gridcolor": "white",
            "linecolor": "white",
            "ticks": ""
           }
          },
          "scene": {
           "xaxis": {
            "backgroundcolor": "#E5ECF6",
            "gridcolor": "white",
            "gridwidth": 2,
            "linecolor": "white",
            "showbackground": true,
            "ticks": "",
            "zerolinecolor": "white"
           },
           "yaxis": {
            "backgroundcolor": "#E5ECF6",
            "gridcolor": "white",
            "gridwidth": 2,
            "linecolor": "white",
            "showbackground": true,
            "ticks": "",
            "zerolinecolor": "white"
           },
           "zaxis": {
            "backgroundcolor": "#E5ECF6",
            "gridcolor": "white",
            "gridwidth": 2,
            "linecolor": "white",
            "showbackground": true,
            "ticks": "",
            "zerolinecolor": "white"
           }
          },
          "shapedefaults": {
           "line": {
            "color": "#2a3f5f"
           }
          },
          "ternary": {
           "aaxis": {
            "gridcolor": "white",
            "linecolor": "white",
            "ticks": ""
           },
           "baxis": {
            "gridcolor": "white",
            "linecolor": "white",
            "ticks": ""
           },
           "bgcolor": "#E5ECF6",
           "caxis": {
            "gridcolor": "white",
            "linecolor": "white",
            "ticks": ""
           }
          },
          "title": {
           "x": 0.05
          },
          "xaxis": {
           "automargin": true,
           "gridcolor": "white",
           "linecolor": "white",
           "ticks": "",
           "title": {
            "standoff": 15
           },
           "zerolinecolor": "white",
           "zerolinewidth": 2
          },
          "yaxis": {
           "automargin": true,
           "gridcolor": "white",
           "linecolor": "white",
           "ticks": "",
           "title": {
            "standoff": 15
           },
           "zerolinecolor": "white",
           "zerolinewidth": 2
          }
         }
        },
        "title": {
         "text": "Slice Plot"
        },
        "xaxis": {
         "anchor": "y",
         "domain": [
          0,
          0.2888888888888889
         ],
         "title": {
          "text": "depth"
         }
        },
        "xaxis2": {
         "anchor": "y2",
         "domain": [
          0.35555555555555557,
          0.6444444444444445
         ],
         "title": {
          "text": "k_features"
         }
        },
        "xaxis3": {
         "anchor": "y3",
         "domain": [
          0.7111111111111111,
          1
         ],
         "title": {
          "text": "learning_rate"
         },
         "type": "log"
        },
        "yaxis": {
         "anchor": "x",
         "domain": [
          0,
          1
         ],
         "title": {
          "text": "R² Score"
         }
        },
        "yaxis2": {
         "anchor": "x2",
         "domain": [
          0,
          1
         ],
         "matches": "y",
         "showticklabels": false
        },
        "yaxis3": {
         "anchor": "x3",
         "domain": [
          0,
          1
         ],
         "matches": "y",
         "showticklabels": false
        }
       }
      }
     },
     "metadata": {},
     "output_type": "display_data"
    }
   ],
   "source": [
    "import optuna.visualization as vis\n",
    "\n",
    "# 1. Parallel Coordinate Plot (Best for seeing parameter relationships)\n",
    "fig = vis.plot_parallel_coordinate(\n",
    "    study,\n",
    "    params=[\n",
    "        'feature_selection',\n",
    "        'k_features',\n",
    "        'depth',\n",
    "        'learning_rate'\n",
    "    ],\n",
    "    target_name=\"R² Score\"\n",
    ")\n",
    "fig.show()\n",
    "\n",
    "# 2. Parameter Importance Plot\n",
    "fig = vis.plot_param_importances(study, target_name=\"R² Score\")\n",
    "fig.show()\n",
    "\n",
    "# 3. Slice Plot (Best for seeing individual parameter effects)\n",
    "fig = vis.plot_slice(\n",
    "    study,\n",
    "    params=[\n",
    "        'depth',\n",
    "        'learning_rate',\n",
    "        'k_features'\n",
    "    ],\n",
    "    target_name=\"R² Score\"\n",
    ")\n",
    "fig.show()"
   ]
  },
  {
   "cell_type": "markdown",
   "id": "47cb4526",
   "metadata": {},
   "source": [
    "# Apply Feature Selection to Training & Test Data"
   ]
  },
  {
   "cell_type": "code",
   "execution_count": 8,
   "id": "193973de",
   "metadata": {},
   "outputs": [],
   "source": [
    "# apply your feature selection code from before\n",
    "best_fs_method = study.best_params.get('feature_selection', 'None')\n",
    "\n",
    "if best_fs_method != 'None':\n",
    "    k_features = study.best_params['k_features']\n",
    "    \n",
    "    if best_fs_method == 'ANOVA':\n",
    "        selector = SelectKBest(f_regression, k=k_features)\n",
    "    elif best_fs_method == 'MutualInfo':\n",
    "        selector = SelectKBest(mutual_info_regression, k=k_features)\n",
    "    elif best_fs_method == 'RFE':\n",
    "        estimator = RandomForestRegressor(\n",
    "            n_estimators=study.best_params.get('rfe_n_estimators', 100),\n",
    "            max_depth=study.best_params.get('rfe_max_depth', 5),\n",
    "            random_state=42\n",
    "        )\n",
    "        selector = RFE(\n",
    "            estimator, \n",
    "            n_features_to_select=k_features,\n",
    "            step=study.best_params.get('rfe_step', 1)\n",
    "        )\n",
    "    elif best_fs_method == 'MRMR':\n",
    "        selector = MRMRTransformer(k_features=k_features)\n",
    "    \n",
    "    selector.fit(X, y)\n",
    "    if hasattr(selector, 'get_support'):  # For SelectKBest/RFE\n",
    "        selected_features = X.columns[selector.get_support()]\n",
    "    else:  # For MRMRTransformer\n",
    "        selected_features = selector.selected_features\n",
    "    X_best = X[selected_features]\n",
    "else:\n",
    "    X_best = X\n",
    "    selected_features = X.columns\n",
    "\n",
    "# Apply the same feature selection to test data\n",
    "if best_fs_method != 'None':\n",
    "    if best_fs_method == 'MRMR':\n",
    "        X_test_final = X_test[selected_features]\n",
    "    else:\n",
    "        X_test_final = selector.transform(X_test)  # Use the already fitted selector\n",
    "        if isinstance(X_test, pd.DataFrame):\n",
    "            X_test_final = pd.DataFrame(X_test_final, columns=selected_features)\n",
    "else:\n",
    "    X_test_final = X_test"
   ]
  },
  {
   "cell_type": "markdown",
   "id": "23e0cd50",
   "metadata": {},
   "source": [
    "# Create Catboost Model with Optimized Parameters and Fit Model"
   ]
  },
  {
   "cell_type": "code",
   "execution_count": 9,
   "id": "29ff4ef2",
   "metadata": {},
   "outputs": [
    {
     "data": {
      "text/plain": [
       "<catboost.core.CatBoostRegressor at 0x27d73850d40>"
      ]
     },
     "execution_count": 9,
     "metadata": {},
     "output_type": "execute_result"
    }
   ],
   "source": [
    "best_model = CatBoostRegressor(\n",
    "    iterations=study.best_params['iterations'],\n",
    "    depth=study.best_params['depth'],\n",
    "    learning_rate=study.best_params['learning_rate'],\n",
    "    l2_leaf_reg=study.best_params['l2_leaf_reg'],\n",
    "    random_state=42,\n",
    "    verbose=False\n",
    ")\n",
    "\n",
    "# Train on full imputed data\n",
    "best_model.fit(X_best, y)"
   ]
  },
  {
   "cell_type": "markdown",
   "id": "7a891d95",
   "metadata": {},
   "source": [
    "# Run Model and Get Outcomes"
   ]
  },
  {
   "cell_type": "code",
   "execution_count": 10,
   "id": "3dca9c80",
   "metadata": {},
   "outputs": [
    {
     "name": "stdout",
     "output_type": "stream",
     "text": [
      "\n",
      "Final Model Evaluation on Test Set:\n",
      "RMSE: 1.1496\n",
      "R²: 0.1765\n",
      "Accuracy within ±1 point: 0.6250\n"
     ]
    }
   ],
   "source": [
    "# Make predictions\n",
    "y_pred = best_model.predict(X_test_final)\n",
    "\n",
    "# Calculate metrics\n",
    "rmse = np.sqrt(mean_squared_error(y_test, y_pred))\n",
    "r2 = r2_score(y_test, y_pred)\n",
    "\n",
    "print(\"\\nFinal Model Evaluation on Test Set:\")\n",
    "print(f\"RMSE: {rmse:.4f}\")\n",
    "print(f\"R²: {r2:.4f}\")\n",
    "\n",
    "# Calculate accuracy within ±1 point\n",
    "correct = np.sum(np.abs(y_test - y_pred) <= 1)\n",
    "accuracy = correct / len(y_test)\n",
    "print(f\"Accuracy within ±1 point: {accuracy:.4f}\")"
   ]
  }
 ],
 "metadata": {
  "kernelspec": {
   "display_name": "bessy",
   "language": "python",
   "name": "python3"
  },
  "language_info": {
   "codemirror_mode": {
    "name": "ipython",
    "version": 3
   },
   "file_extension": ".py",
   "mimetype": "text/x-python",
   "name": "python",
   "nbconvert_exporter": "python",
   "pygments_lexer": "ipython3",
   "version": "3.13.2"
  }
 },
 "nbformat": 4,
 "nbformat_minor": 5
}

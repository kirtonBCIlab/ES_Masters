{
 "cells": [
  {
   "cell_type": "code",
   "execution_count": 1,
   "id": "adb0855e",
   "metadata": {},
   "outputs": [],
   "source": [
    "import numpy as np\n",
    "import pandas as pd\n",
    "import matplotlib.pyplot as plt\n",
    "import seaborn as sns\n",
    "from sklearn.model_selection import train_test_split, KFold, cross_val_score\n",
    "from sklearn.feature_selection import RFE\n",
    "from sklearn.metrics import mean_squared_error, r2_score\n",
    "from sklearn.ensemble import RandomForestRegressor\n",
    "from catboost import CatBoostRegressor\n",
    "import optuna\n",
    "import optuna.visualization as vis\n",
    "from sklearn.pipeline import Pipeline\n",
    "from mrmr import mrmr_regression\n",
    "\n",
    "# Set random seed for reproducibility\n",
    "np.random.seed(42)"
   ]
  },
  {
   "cell_type": "markdown",
   "id": "7bd70c89",
   "metadata": {},
   "source": [
    "# Import and Prepare Data"
   ]
  },
  {
   "cell_type": "code",
   "execution_count": 2,
   "id": "9ca7485b",
   "metadata": {},
   "outputs": [],
   "source": [
    "# Load the data\n",
    "file_path = \"features-Master.csv\"\n",
    "data = pd.read_csv(file_path)\n",
    "\n",
    "# Shuffle the data\n",
    "shuffled = data.sample(frac=1, random_state=42).reset_index(drop=True)\n",
    "data_shuffled = shuffled.iloc[:, 4:]\n",
    "labels_shuffled = shuffled[\"Comfort Score\"]"
   ]
  },
  {
   "cell_type": "markdown",
   "id": "fd3af852",
   "metadata": {},
   "source": [
    "# Class to Accomodate MRMR Feature Selection Structure"
   ]
  },
  {
   "cell_type": "code",
   "execution_count": 3,
   "id": "6032c6ff",
   "metadata": {},
   "outputs": [],
   "source": [
    "class MRMRTransformer:\n",
    "    def __init__(self, k_features):\n",
    "        self.k_features = k_features\n",
    "        self.selected_features = None\n",
    "        self.column_names = None\n",
    "    \n",
    "    def fit(self, X, y):\n",
    "        # Convert to DataFrame if not already\n",
    "        if not isinstance(X, pd.DataFrame):\n",
    "            X = pd.DataFrame(X)\n",
    "        \n",
    "        # Reset indices to avoid alignment issues\n",
    "        X = X.reset_index(drop=True)\n",
    "        y = pd.Series(y).reset_index(drop=True)\n",
    "        \n",
    "        self.column_names = X.columns.tolist()\n",
    "        try:\n",
    "            self.selected_features = mrmr_regression(X, y, K=self.k_features)\n",
    "            print(\"Got MRMR features\")\n",
    "        except:\n",
    "            # Fallback to random features if MRMR fails\n",
    "            self.selected_features = np.random.choice(X.columns, size=min(self.k_features, len(X.columns)), replace=False)\n",
    "            print(\"MRMR failed, selected random features instead.\")\n",
    "        return self\n",
    "    \n",
    "    def transform(self, X):\n",
    "        if not isinstance(X, pd.DataFrame):\n",
    "            X = pd.DataFrame(X, columns=self.column_names)\n",
    "        return X[self.selected_features]"
   ]
  },
  {
   "cell_type": "markdown",
   "id": "6a5eacf1",
   "metadata": {},
   "source": [
    "# Train/Test Split"
   ]
  },
  {
   "cell_type": "code",
   "execution_count": 4,
   "id": "fddd4383",
   "metadata": {},
   "outputs": [],
   "source": [
    "# For regression (using stratified split based on binned target)\n",
    "X_train, X_test, y_train, y_test = train_test_split(\n",
    "    data_shuffled, \n",
    "    labels_shuffled, \n",
    "    test_size=0.2, \n",
    "    stratify=labels_shuffled,\n",
    "    random_state=42\n",
    ")"
   ]
  },
  {
   "cell_type": "markdown",
   "id": "9a999dce",
   "metadata": {},
   "source": [
    "# Optimize Feature Selection and Catboost Parameters"
   ]
  },
  {
   "cell_type": "code",
   "execution_count": null,
   "id": "5c44c1b8",
   "metadata": {},
   "outputs": [
    {
     "name": "stderr",
     "output_type": "stream",
     "text": [
      "[I 2025-08-28 15:04:33,777] A new study created in memory with name: no-name-3c1cf9b7-d2a5-4141-9d74-761989dad2a8\n"
     ]
    },
    {
     "data": {
      "application/vnd.jupyter.widget-view+json": {
       "model_id": "34d2ed4504e749f783d66d510caab0e9",
       "version_major": 2,
       "version_minor": 0
      },
      "text/plain": [
       "  0%|          | 0/200 [00:00<?, ?it/s]"
      ]
     },
     "metadata": {},
     "output_type": "display_data"
    },
    {
     "name": "stderr",
     "output_type": "stream",
     "text": [
      "100%|██████████| 35/35 [00:05<00:00,  5.88it/s]\n"
     ]
    },
    {
     "name": "stdout",
     "output_type": "stream",
     "text": [
      "Got MRMR features\n"
     ]
    },
    {
     "name": "stderr",
     "output_type": "stream",
     "text": [
      "100%|██████████| 35/35 [00:05<00:00,  6.15it/s]\n"
     ]
    },
    {
     "name": "stdout",
     "output_type": "stream",
     "text": [
      "Got MRMR features\n"
     ]
    },
    {
     "name": "stderr",
     "output_type": "stream",
     "text": [
      "100%|██████████| 35/35 [00:05<00:00,  6.01it/s]\n"
     ]
    },
    {
     "name": "stdout",
     "output_type": "stream",
     "text": [
      "Got MRMR features\n"
     ]
    },
    {
     "name": "stderr",
     "output_type": "stream",
     "text": [
      "100%|██████████| 35/35 [00:05<00:00,  6.37it/s]\n"
     ]
    },
    {
     "name": "stdout",
     "output_type": "stream",
     "text": [
      "Got MRMR features\n",
      "[I 2025-08-28 15:06:36,178] Trial 5 finished with value: 0.05712638439725637 and parameters: {'feature_selection': 'None', 'iterations': 300, 'depth': 8, 'learning_rate': 0.004370024779229983, 'l2_leaf_reg': 6.884294468911514, 'random_strength': 4.751476377625162, 'bagging_temperature': 0.5545587057783081, 'border_count': 55}. Best is trial 5 with value: 0.05712638439725637.\n"
     ]
    },
    {
     "name": "stderr",
     "output_type": "stream",
     "text": [
      "\n",
      "\u001b[A\n",
      "\u001b[A\n",
      "\u001b[A\n",
      "\u001b[A\n",
      "\u001b[A\n",
      "\u001b[A\n",
      "\u001b[A\n",
      "\u001b[A\n",
      "\u001b[A\n",
      "\u001b[A\n",
      "\u001b[A\n",
      "\u001b[A\n",
      "\u001b[A\n",
      "\u001b[A\n",
      "\u001b[A\n",
      "\u001b[A\n",
      "\u001b[A\n",
      "\u001b[A\n",
      "\u001b[A\n",
      "\u001b[A\n",
      "\u001b[A\n",
      "\u001b[A\n",
      "\u001b[A\n",
      "\u001b[A\n",
      "\u001b[A\n",
      "\u001b[A\n",
      "\u001b[A\n",
      "\u001b[A\n",
      "\u001b[A\n",
      "\u001b[A\n",
      "\u001b[A\n",
      "\u001b[A\n",
      "\u001b[A\n",
      "\u001b[A\n",
      "100%|██████████| 35/35 [00:07<00:00,  4.50it/s]\n"
     ]
    },
    {
     "name": "stdout",
     "output_type": "stream",
     "text": [
      "Got MRMR features\n"
     ]
    },
    {
     "name": "stderr",
     "output_type": "stream",
     "text": [
      "100%|██████████| 75/75 [00:13<00:00,  5.49it/s]\n"
     ]
    },
    {
     "name": "stdout",
     "output_type": "stream",
     "text": [
      "Got MRMR features\n",
      "[I 2025-08-28 15:06:56,727] Trial 3 finished with value: 0.1327032225890585 and parameters: {'feature_selection': 'MRMR', 'k_features': 35, 'iterations': 400, 'depth': 8, 'learning_rate': 0.005879940007129575, 'l2_leaf_reg': 4.7361946572641264e-07, 'random_strength': 9.271456571428316e-05, 'bagging_temperature': 0.2575896142905243, 'border_count': 44}. Best is trial 3 with value: 0.1327032225890585.\n"
     ]
    },
    {
     "name": "stderr",
     "output_type": "stream",
     "text": [
      "100%|██████████| 55/55 [00:08<00:00,  6.20it/s]\n"
     ]
    },
    {
     "name": "stdout",
     "output_type": "stream",
     "text": [
      "Got MRMR features\n"
     ]
    },
    {
     "name": "stderr",
     "output_type": "stream",
     "text": [
      "100%|██████████| 75/75 [00:11<00:00,  6.40it/s]\n"
     ]
    },
    {
     "name": "stdout",
     "output_type": "stream",
     "text": [
      "Got MRMR features\n"
     ]
    },
    {
     "name": "stderr",
     "output_type": "stream",
     "text": [
      "100%|██████████| 55/55 [00:08<00:00,  6.11it/s]\n"
     ]
    },
    {
     "name": "stdout",
     "output_type": "stream",
     "text": [
      "Got MRMR features\n"
     ]
    },
    {
     "name": "stderr",
     "output_type": "stream",
     "text": [
      "\n",
      "\u001b[A\n",
      "\u001b[A\n",
      "\u001b[A\n",
      "\u001b[A\n",
      "\u001b[A\n",
      "\u001b[A\n",
      "\u001b[A\n",
      "\u001b[A\n",
      "\n",
      "\u001b[A\u001b[A                                        \n",
      "\u001b[A                                            \n",
      "\u001b[A\n",
      "\u001b[A\n",
      " 45%|████▌     | 34/75 [00:06<00:11,  3.62it/s]"
     ]
    },
    {
     "name": "stdout",
     "output_type": "stream",
     "text": [
      "[I 2025-08-28 15:08:25,076] Trial 0 finished with value: 0.1862114783217204 and parameters: {'feature_selection': 'None', 'iterations': 825, 'depth': 7, 'learning_rate': 0.003428982345374868, 'l2_leaf_reg': 3.316086722637091, 'random_strength': 5.017939551564244e-08, 'bagging_temperature': 0.3003132503131485, 'border_count': 47}. Best is trial 0 with value: 0.1862114783217204.\n"
     ]
    },
    {
     "name": "stderr",
     "output_type": "stream",
     "text": [
      "\u001b[A\n",
      "\u001b[A\n",
      "\u001b[A\n",
      "\u001b[A\n",
      "\u001b[A\n",
      "\u001b[A\n",
      "\u001b[A\n",
      "\u001b[A\n",
      "\u001b[A\n",
      "\u001b[A\n",
      "\u001b[A\n",
      "\u001b[A\n",
      "\u001b[A\n",
      "\u001b[A\n",
      "\u001b[A\n",
      "\u001b[A\n",
      "\u001b[A\n",
      "\u001b[A\n",
      "\u001b[A\n",
      "\u001b[A\n",
      "\u001b[A\n",
      "\u001b[A\n",
      "\u001b[A\n",
      "\u001b[A\n",
      "\u001b[A\n",
      "\u001b[A\n",
      "\u001b[A\n",
      "\u001b[A\n",
      "\u001b[A\n",
      "\u001b[A\n",
      "\u001b[A\n",
      "\u001b[A\n",
      "\u001b[A\n",
      "\u001b[A\n",
      "\u001b[A\n",
      "\u001b[A\n",
      "\u001b[A\n",
      "\u001b[A\n",
      "\u001b[A\n",
      "\u001b[A\n",
      "\u001b[A\n",
      "\u001b[A\n",
      "100%|██████████| 75/75 [00:16<00:00,  4.65it/s]\n",
      "\n",
      "\u001b[A\n",
      "\n",
      " 96%|█████████▋| 53/55 [00:12<00:00,  4.98it/s]"
     ]
    },
    {
     "name": "stdout",
     "output_type": "stream",
     "text": [
      "Got MRMR features\n"
     ]
    },
    {
     "name": "stderr",
     "output_type": "stream",
     "text": [
      "\u001b[A\u001b[A\n",
      "\u001b[A\n",
      "100%|██████████| 55/55 [00:12<00:00,  4.33it/s]\n"
     ]
    },
    {
     "name": "stdout",
     "output_type": "stream",
     "text": [
      "Got MRMR features\n"
     ]
    },
    {
     "name": "stderr",
     "output_type": "stream",
     "text": [
      "\n",
      "\u001b[A\n",
      "\u001b[A\n",
      "\u001b[A\n",
      "\u001b[A\n",
      "\u001b[A\n",
      "\u001b[A\n",
      "\u001b[A\n",
      "\u001b[A\n",
      "\u001b[A\n",
      "\u001b[A\n",
      "\u001b[A\n",
      "\u001b[A\n",
      "\u001b[A\n",
      "\u001b[A\n",
      "\u001b[A\n",
      "\u001b[A\n",
      "\u001b[A\n",
      "\u001b[A\n",
      "\u001b[A\n",
      "\u001b[A\n",
      "\u001b[A\n",
      "\u001b[A\n",
      "\u001b[A\n",
      "\u001b[A\n",
      "\u001b[A\n",
      "\u001b[A\n",
      "\u001b[A\n",
      "\u001b[A\n",
      "\u001b[A\n",
      "\u001b[A\n",
      "\u001b[A\n",
      "\u001b[A\n",
      "\u001b[A\n",
      "\u001b[A\n",
      "\u001b[A\n",
      "\u001b[A\n",
      "\u001b[A\n",
      "\u001b[A\n",
      "\u001b[A\n",
      "\u001b[A\n",
      "\u001b[A\n",
      "\u001b[A\n",
      "100%|██████████| 55/55 [00:12<00:00,  4.41it/s]\n",
      "\n",
      "\u001b[A"
     ]
    },
    {
     "name": "stdout",
     "output_type": "stream",
     "text": [
      "Got MRMR features\n"
     ]
    },
    {
     "name": "stderr",
     "output_type": "stream",
     "text": [
      "\n",
      "\u001b[A\n",
      "\u001b[A\n",
      "\u001b[A\n",
      "\u001b[A\n",
      "\u001b[A\n",
      "\u001b[A\n",
      "\u001b[A\n",
      "\u001b[A\n",
      "\u001b[A\n",
      "\u001b[A\n",
      "\u001b[A\n",
      "\u001b[A\n",
      "\u001b[A\n",
      "\u001b[A\n",
      "\u001b[A\n",
      "\u001b[A\n",
      "\u001b[A\n",
      "\u001b[A\n",
      "\u001b[A\n",
      "\u001b[A\n",
      "\u001b[A\n",
      "\u001b[A\n",
      "\u001b[A\n",
      "\u001b[A\n",
      "\u001b[A\n",
      "\u001b[A\n",
      "100%|██████████| 75/75 [00:14<00:00,  5.05it/s]\n"
     ]
    },
    {
     "name": "stdout",
     "output_type": "stream",
     "text": [
      "Got MRMR features\n"
     ]
    },
    {
     "name": "stderr",
     "output_type": "stream",
     "text": [
      "\n",
      "\u001b[A\n",
      "\u001b[A\n",
      "\u001b[A\n",
      "\u001b[A\n",
      "\u001b[A\n",
      "\u001b[A\n",
      "\u001b[A\n",
      "\u001b[A\n",
      "\u001b[A\n",
      "\u001b[A\n",
      "\u001b[A\n",
      "\u001b[A\n",
      "\u001b[A\n",
      "\u001b[A\n",
      "\u001b[A\n",
      "\u001b[A\n",
      "\u001b[A\n",
      "\u001b[A\n",
      "\u001b[A\n",
      "\u001b[A\n",
      "\u001b[A\n",
      "\u001b[A\n",
      "\u001b[A\n",
      "\u001b[A\n",
      "\u001b[A\n",
      "\u001b[A\n",
      "\u001b[A\n",
      "\u001b[A\n",
      "\u001b[A\n",
      "\u001b[A\n",
      "\u001b[A\n",
      "\u001b[A\n",
      "100%|██████████| 55/55 [00:11<00:00,  4.64it/s]\n",
      "\n",
      "\u001b[A"
     ]
    },
    {
     "name": "stdout",
     "output_type": "stream",
     "text": [
      "Got MRMR features\n"
     ]
    },
    {
     "name": "stderr",
     "output_type": "stream",
     "text": [
      "\n",
      "\u001b[A\n",
      "\u001b[A\n",
      "\u001b[A\n",
      "\u001b[A\n",
      "\u001b[A\n",
      "\u001b[A\n",
      "\u001b[A\n",
      "\u001b[A\n",
      "\u001b[A\n",
      "\u001b[A\n",
      "\u001b[A\n",
      "\u001b[A\n",
      "\u001b[A\n",
      "\u001b[A\n",
      "\u001b[A\n",
      "\u001b[A\n",
      "\u001b[A\n",
      "\u001b[A\n",
      "\u001b[A\n",
      "\u001b[A\n",
      "\u001b[A\n",
      "\u001b[A\n",
      "\u001b[A\n",
      "\u001b[A\n",
      "\u001b[A\n",
      "\u001b[A\n",
      "\u001b[A\n",
      "\u001b[A\n",
      "\u001b[A\n",
      "\u001b[A\n",
      "\u001b[A\n",
      "\u001b[A\n",
      "100%|██████████| 75/75 [00:13<00:00,  5.37it/s]\n"
     ]
    },
    {
     "name": "stdout",
     "output_type": "stream",
     "text": [
      "Got MRMR features\n",
      "[I 2025-08-28 15:10:49,597] Trial 7 finished with value: 0.15417260494917132 and parameters: {'feature_selection': 'MRMR', 'k_features': 55, 'iterations': 975, 'depth': 7, 'learning_rate': 0.06559561706729869, 'l2_leaf_reg': 1.0093249823831954e-07, 'random_strength': 0.06211184276769817, 'bagging_temperature': 0.3258785361271972, 'border_count': 135}. Best is trial 0 with value: 0.1862114783217204.\n",
      "[I 2025-08-28 15:11:00,712] Trial 6 finished with value: 0.20063172131907664 and parameters: {'feature_selection': 'MRMR', 'k_features': 75, 'iterations': 575, 'depth': 8, 'learning_rate': 0.006894760874655682, 'l2_leaf_reg': 2.5180128763821754e-07, 'random_strength': 0.011452549723626729, 'bagging_temperature': 0.2668457061863564, 'border_count': 169}. Best is trial 6 with value: 0.20063172131907664.\n",
      "[I 2025-08-28 15:23:46,546] Trial 9 finished with value: 0.19417362148187864 and parameters: {'feature_selection': 'None', 'iterations': 400, 'depth': 9, 'learning_rate': 0.01179017565436331, 'l2_leaf_reg': 3.263463732525848e-08, 'random_strength': 0.00032058612099943203, 'bagging_temperature': 0.864971223573146, 'border_count': 214}. Best is trial 6 with value: 0.20063172131907664.\n",
      "[I 2025-08-28 15:31:02,440] Trial 11 finished with value: 0.20185336852887686 and parameters: {'feature_selection': 'None', 'iterations': 750, 'depth': 7, 'learning_rate': 0.00786145458238006, 'l2_leaf_reg': 5.161772226892045e-06, 'random_strength': 0.00019157098009128895, 'bagging_temperature': 0.19043406886638414, 'border_count': 136}. Best is trial 11 with value: 0.20185336852887686.\n",
      "[I 2025-08-28 15:45:03,800] Trial 2 finished with value: 0.18504340950435766 and parameters: {'feature_selection': 'None', 'iterations': 875, 'depth': 10, 'learning_rate': 0.014621409222181565, 'l2_leaf_reg': 2.989574254850792, 'random_strength': 0.026506977728130505, 'bagging_temperature': 0.9030375613371097, 'border_count': 174}. Best is trial 11 with value: 0.20185336852887686.\n"
     ]
    },
    {
     "name": "stderr",
     "output_type": "stream",
     "text": [
      "100%|██████████| 95/95 [00:04<00:00, 19.83it/s]\n"
     ]
    },
    {
     "name": "stdout",
     "output_type": "stream",
     "text": [
      "Got MRMR features\n"
     ]
    },
    {
     "name": "stderr",
     "output_type": "stream",
     "text": [
      "100%|██████████| 95/95 [00:05<00:00, 18.70it/s]\n"
     ]
    },
    {
     "name": "stdout",
     "output_type": "stream",
     "text": [
      "Got MRMR features\n"
     ]
    },
    {
     "name": "stderr",
     "output_type": "stream",
     "text": [
      "100%|██████████| 95/95 [00:05<00:00, 17.97it/s]\n"
     ]
    },
    {
     "name": "stdout",
     "output_type": "stream",
     "text": [
      "Got MRMR features\n"
     ]
    },
    {
     "name": "stderr",
     "output_type": "stream",
     "text": [
      "100%|██████████| 95/95 [00:05<00:00, 17.26it/s]\n"
     ]
    },
    {
     "name": "stdout",
     "output_type": "stream",
     "text": [
      "Got MRMR features\n"
     ]
    },
    {
     "name": "stderr",
     "output_type": "stream",
     "text": [
      "100%|██████████| 95/95 [00:06<00:00, 15.80it/s]\n"
     ]
    },
    {
     "name": "stdout",
     "output_type": "stream",
     "text": [
      "Got MRMR features\n",
      "[I 2025-08-28 15:47:22,330] Trial 13 finished with value: 0.17168524673237634 and parameters: {'feature_selection': 'MRMR', 'k_features': 95, 'iterations': 425, 'depth': 10, 'learning_rate': 0.02486077452025475, 'l2_leaf_reg': 1.7699380223559938e-07, 'random_strength': 0.02604162810808403, 'bagging_temperature': 0.07898636710184137, 'border_count': 76}. Best is trial 11 with value: 0.20185336852887686.\n",
      "[I 2025-08-28 16:18:15,186] Trial 8 finished with value: 0.155408355394164 and parameters: {'feature_selection': 'RFE', 'k_features': 105, 'iterations': 425, 'depth': 10, 'learning_rate': 0.021793662373950973, 'l2_leaf_reg': 0.00038523995747921625, 'random_strength': 5.909156962064537, 'bagging_temperature': 0.6550553470590299, 'border_count': 169}. Best is trial 11 with value: 0.20185336852887686.\n",
      "[I 2025-08-28 16:20:06,224] Trial 4 finished with value: -0.08531121972769093 and parameters: {'feature_selection': 'RFE', 'k_features': 5, 'iterations': 625, 'depth': 7, 'learning_rate': 0.04802037769283175, 'l2_leaf_reg': 0.00676303068531271, 'random_strength': 1.7628209435167215e-05, 'bagging_temperature': 0.5265890339585246, 'border_count': 113}. Best is trial 11 with value: 0.20185336852887686.\n"
     ]
    },
    {
     "name": "stderr",
     "output_type": "stream",
     "text": [
      "100%|██████████| 75/75 [00:12<00:00,  5.99it/s]\n"
     ]
    },
    {
     "name": "stdout",
     "output_type": "stream",
     "text": [
      "Got MRMR features\n"
     ]
    },
    {
     "name": "stderr",
     "output_type": "stream",
     "text": [
      "\n",
      "\u001b[A                                            "
     ]
    },
    {
     "name": "stdout",
     "output_type": "stream",
     "text": [
      "[I 2025-08-28 16:21:00,890] Trial 10 finished with value: 0.16864222990090755 and parameters: {'feature_selection': 'RFE', 'k_features': 75, 'iterations': 325, 'depth': 10, 'learning_rate': 0.06766272334785786, 'l2_leaf_reg': 0.04616596975467312, 'random_strength': 0.009223024608250786, 'bagging_temperature': 0.22005341852531335, 'border_count': 246}. Best is trial 11 with value: 0.20185336852887686.\n"
     ]
    },
    {
     "name": "stderr",
     "output_type": "stream",
     "text": [
      "\n",
      "\u001b[A\n",
      "\u001b[A\n",
      "\u001b[A\n",
      "\u001b[A\n",
      "\u001b[A\n",
      "\u001b[A\n",
      "\u001b[A\n",
      "\u001b[A\n",
      "\u001b[A\n",
      "\u001b[A\n",
      "\u001b[A\n",
      "\u001b[A\n",
      "\u001b[A\n",
      "\u001b[A\n",
      "\u001b[A\n",
      "\u001b[A\n",
      "\u001b[A\n",
      "\u001b[A\n",
      "\u001b[A\n",
      "\u001b[A\n",
      "\u001b[A\n",
      "\u001b[A\n",
      "\u001b[A\n",
      "\u001b[A\n",
      "\u001b[A\n",
      "\u001b[A\n",
      "100%|██████████| 75/75 [00:11<00:00,  6.38it/s]\n",
      "\n",
      "\u001b[A"
     ]
    },
    {
     "name": "stdout",
     "output_type": "stream",
     "text": [
      "Got MRMR features\n"
     ]
    },
    {
     "name": "stderr",
     "output_type": "stream",
     "text": [
      "\n",
      "\u001b[A\n",
      "\u001b[A\n",
      "\u001b[A\n",
      "\u001b[A\n",
      "\u001b[A\n",
      "\u001b[A\n",
      "\u001b[A\n",
      "\u001b[A\n",
      "\u001b[A\n",
      "100%|██████████| 65/65 [00:06<00:00, 10.34it/s]\n"
     ]
    },
    {
     "name": "stdout",
     "output_type": "stream",
     "text": [
      "Got MRMR features\n"
     ]
    },
    {
     "name": "stderr",
     "output_type": "stream",
     "text": [
      "\n",
      "\u001b[A\n",
      "\u001b[A\n",
      "\u001b[A\n",
      "\u001b[A\n",
      "\u001b[A\n",
      "\u001b[A\n",
      "\u001b[A\n",
      "\u001b[A\n",
      "\u001b[A\n",
      "\u001b[A\n",
      "\u001b[A\n",
      "\u001b[A\n",
      "\u001b[A\n",
      "\u001b[A\n",
      "\u001b[A\n",
      "\u001b[A\n",
      "\u001b[A\n",
      "\u001b[A\n",
      "\u001b[A\n",
      "\u001b[A\n",
      "\u001b[A\n",
      "\u001b[A\n",
      "\u001b[A\n",
      "\u001b[A\n",
      "\u001b[A\n",
      "\u001b[A\n",
      "\u001b[A\n",
      "\u001b[A\n",
      "\u001b[A\n",
      "\u001b[A\n",
      "\u001b[A\n",
      "\u001b[A\n",
      "\u001b[A\n",
      "\u001b[A\n",
      "\u001b[A\n",
      "\u001b[A\n",
      "\u001b[A\n",
      "\u001b[A\n",
      "\u001b[A\n",
      "\u001b[A\n",
      "\u001b[A\n",
      "\u001b[A\n",
      "\u001b[A\n",
      "\u001b[A\n",
      "\u001b[A\n",
      "100%|██████████| 65/65 [00:07<00:00,  8.25it/s]\n",
      "\n",
      "\u001b[A\n",
      "\u001b[A"
     ]
    },
    {
     "name": "stdout",
     "output_type": "stream",
     "text": [
      "Got MRMR features\n"
     ]
    },
    {
     "name": "stderr",
     "output_type": "stream",
     "text": [
      "\n",
      "\u001b[A\n",
      "\u001b[A\n",
      "\u001b[A\n",
      "100%|██████████| 75/75 [00:08<00:00,  8.75it/s]\n"
     ]
    },
    {
     "name": "stdout",
     "output_type": "stream",
     "text": [
      "Got MRMR features\n"
     ]
    },
    {
     "name": "stderr",
     "output_type": "stream",
     "text": [
      "\n",
      "\u001b[A\n",
      "\u001b[A\n",
      "\u001b[A\n",
      "\u001b[A\n",
      "\u001b[A\n",
      "\u001b[A\n",
      "\u001b[A\n",
      "\u001b[A\n",
      "\u001b[A\n",
      "\u001b[A\n",
      "\u001b[A\n",
      "\u001b[A\n",
      "\u001b[A\n",
      "\u001b[A\n",
      "\u001b[A\n",
      "\u001b[A\n",
      "\u001b[A\n",
      "\u001b[A\n",
      "\u001b[A\n",
      "\u001b[A\n",
      "\u001b[A\n",
      "\u001b[A\n",
      "\u001b[A\n",
      "\u001b[A\n",
      "\u001b[A\n",
      "\u001b[A\n",
      "100%|██████████| 65/65 [00:06<00:00, 10.63it/s]\n",
      "\n",
      "\u001b[A"
     ]
    },
    {
     "name": "stdout",
     "output_type": "stream",
     "text": [
      "Got MRMR features\n"
     ]
    },
    {
     "name": "stderr",
     "output_type": "stream",
     "text": [
      "\n",
      "\u001b[A\n",
      "\u001b[A\n",
      "\u001b[A\n",
      "\u001b[A\n",
      "\u001b[A\n",
      "\u001b[A\n",
      "\u001b[A\n",
      "\u001b[A\n",
      "\u001b[A\n",
      "100%|██████████| 75/75 [00:06<00:00, 12.01it/s]\n"
     ]
    },
    {
     "name": "stdout",
     "output_type": "stream",
     "text": [
      "Got MRMR features\n"
     ]
    },
    {
     "name": "stderr",
     "output_type": "stream",
     "text": [
      "\n",
      "\u001b[A\n",
      "\u001b[A\n",
      "\u001b[A\n",
      "\u001b[A\n",
      "\u001b[A\n",
      "\u001b[A\n",
      "\u001b[A\n",
      "\u001b[A\n",
      "\u001b[A\n",
      "\u001b[A\n",
      "\u001b[A\n",
      "\u001b[A\n",
      "\u001b[A\n",
      "\u001b[A\n",
      "\u001b[A\n",
      "\u001b[A\n",
      "\u001b[A\n",
      "\u001b[A\n",
      "\u001b[A\n",
      "\u001b[A\n",
      "\u001b[A\n",
      "\u001b[A\n",
      "100%|██████████| 65/65 [00:05<00:00, 10.84it/s]\n",
      "\n",
      "\u001b[A\n",
      "\u001b[A"
     ]
    },
    {
     "name": "stdout",
     "output_type": "stream",
     "text": [
      "Got MRMR features\n"
     ]
    },
    {
     "name": "stderr",
     "output_type": "stream",
     "text": [
      "\n",
      "\u001b[A\n",
      "\u001b[A\n",
      "\u001b[A\n",
      "\u001b[A\n",
      "\u001b[A\n",
      "\u001b[A\n",
      "\u001b[A\n",
      "\u001b[A\n",
      "\u001b[A\n",
      "\u001b[A\n",
      "\u001b[A\n",
      "\u001b[A\n",
      "100%|██████████| 75/75 [00:06<00:00, 11.67it/s]\n"
     ]
    },
    {
     "name": "stdout",
     "output_type": "stream",
     "text": [
      "Got MRMR features\n"
     ]
    },
    {
     "name": "stderr",
     "output_type": "stream",
     "text": [
      "\n",
      "\u001b[A                                            "
     ]
    },
    {
     "name": "stdout",
     "output_type": "stream",
     "text": [
      "[I 2025-08-28 16:21:51,313] Trial 16 finished with value: 0.1506850968695995 and parameters: {'feature_selection': 'MRMR', 'k_features': 75, 'iterations': 650, 'depth': 6, 'learning_rate': 0.001390399651528827, 'l2_leaf_reg': 1.0962131513982021e-05, 'random_strength': 2.019506207046737e-06, 'bagging_temperature': 0.011866723342403573, 'border_count': 213}. Best is trial 11 with value: 0.20185336852887686.\n"
     ]
    },
    {
     "name": "stderr",
     "output_type": "stream",
     "text": [
      "100%|██████████| 65/65 [00:05<00:00, 11.06it/s]\n"
     ]
    },
    {
     "name": "stdout",
     "output_type": "stream",
     "text": [
      "Got MRMR features\n",
      "[I 2025-08-28 16:22:00,805] Trial 17 finished with value: 0.12640784601275457 and parameters: {'feature_selection': 'MRMR', 'k_features': 65, 'iterations': 675, 'depth': 6, 'learning_rate': 0.0010499031919548353, 'l2_leaf_reg': 6.452207256172463e-06, 'random_strength': 7.748260784464418e-07, 'bagging_temperature': 0.01650212799971862, 'border_count': 110}. Best is trial 11 with value: 0.20185336852887686.\n",
      "[I 2025-08-28 16:22:12,361] Trial 18 finished with value: 0.0776966113723672 and parameters: {'feature_selection': 'None', 'iterations': 125, 'depth': 6, 'learning_rate': 0.0021061475866996165, 'l2_leaf_reg': 1.9707345694928476e-05, 'random_strength': 3.3367425038937552e-09, 'bagging_temperature': 0.14842553889778498, 'border_count': 106}. Best is trial 11 with value: 0.20185336852887686.\n",
      "[I 2025-08-28 16:26:17,732] Trial 19 finished with value: 0.09460174892720412 and parameters: {'feature_selection': 'None', 'iterations': 175, 'depth': 9, 'learning_rate': 0.0024203232529559117, 'l2_leaf_reg': 9.504917016394623e-06, 'random_strength': 0.0008574479499169392, 'bagging_temperature': 0.4062778379216896, 'border_count': 162}. Best is trial 11 with value: 0.20185336852887686.\n"
     ]
    },
    {
     "name": "stderr",
     "output_type": "stream",
     "text": [
      "100%|██████████| 35/35 [00:07<00:00,  4.48it/s]\n"
     ]
    },
    {
     "name": "stdout",
     "output_type": "stream",
     "text": [
      "Got MRMR features\n"
     ]
    },
    {
     "name": "stderr",
     "output_type": "stream",
     "text": [
      "100%|██████████| 35/35 [00:07<00:00,  4.49it/s]\n"
     ]
    },
    {
     "name": "stdout",
     "output_type": "stream",
     "text": [
      "Got MRMR features\n"
     ]
    },
    {
     "name": "stderr",
     "output_type": "stream",
     "text": [
      "\n",
      "\u001b[A                                            "
     ]
    },
    {
     "name": "stdout",
     "output_type": "stream",
     "text": [
      "[I 2025-08-28 16:28:07,649] Trial 1 finished with value: 0.07023836213568639 and parameters: {'feature_selection': 'RFE', 'k_features': 5, 'iterations': 725, 'depth': 6, 'learning_rate': 0.0057271555210616654, 'l2_leaf_reg': 6.8003016225519064e-06, 'random_strength': 8.137161676616211e-08, 'bagging_temperature': 0.7863596550083249, 'border_count': 234}. Best is trial 11 with value: 0.20185336852887686.\n"
     ]
    },
    {
     "name": "stderr",
     "output_type": "stream",
     "text": [
      "\n",
      "\u001b[A\n",
      "\u001b[A\n",
      "\u001b[A\n",
      "\u001b[A\n",
      "\u001b[A\n",
      "\u001b[A\n",
      "\u001b[A\n",
      "\u001b[A\n",
      "\u001b[A\n",
      "\u001b[A\n",
      "\u001b[A\n",
      "100%|██████████| 35/35 [00:08<00:00,  3.97it/s]\n",
      "\n",
      "\u001b[A"
     ]
    },
    {
     "name": "stdout",
     "output_type": "stream",
     "text": [
      "Got MRMR features\n"
     ]
    },
    {
     "name": "stderr",
     "output_type": "stream",
     "text": [
      "\n",
      "\u001b[A\n",
      "\u001b[A\n",
      "\u001b[A\n",
      "\u001b[A\n",
      "\u001b[A\n",
      "\u001b[A\n",
      "\u001b[A\n",
      "\u001b[A\n",
      "\u001b[A\n",
      "\u001b[A\n",
      "\u001b[A\n",
      "\u001b[A\n",
      "\u001b[A\n",
      "\u001b[A\n",
      "\u001b[A\n",
      "\u001b[A\n",
      "\u001b[A\n",
      "\u001b[A\n",
      "\u001b[A\n",
      "\u001b[A\n",
      "\u001b[A\n",
      "100%|██████████| 35/35 [00:09<00:00,  3.73it/s]\n"
     ]
    },
    {
     "name": "stdout",
     "output_type": "stream",
     "text": [
      "Got MRMR features\n"
     ]
    },
    {
     "name": "stderr",
     "output_type": "stream",
     "text": [
      "\n",
      "\u001b[A\n",
      "\u001b[A\n",
      "\u001b[A\n",
      "\u001b[A\n",
      "\u001b[A\n",
      "\u001b[A\n",
      "\u001b[A\n",
      "\u001b[A\n",
      "\u001b[A\n",
      "\u001b[A\n",
      "\u001b[A\n",
      "\u001b[A\n",
      "\u001b[A\n",
      "\u001b[A\n",
      "100%|██████████| 35/35 [00:09<00:00,  3.83it/s]\n",
      "\n",
      "\u001b[A"
     ]
    },
    {
     "name": "stdout",
     "output_type": "stream",
     "text": [
      "Got MRMR features\n"
     ]
    },
    {
     "name": "stderr",
     "output_type": "stream",
     "text": [
      "\n",
      "\u001b[A\n",
      "\u001b[A\n",
      "\u001b[A\n",
      "\u001b[A\n",
      "\u001b[A\n",
      "\u001b[A\n",
      "\u001b[A\n",
      "\u001b[A\n",
      "\u001b[A\n",
      "\u001b[A\n",
      "\u001b[A\n",
      "\u001b[A\n",
      "\u001b[A\n",
      "\u001b[A\n",
      "\u001b[A\n",
      "\u001b[A\n",
      "\u001b[A\n",
      "\u001b[A\n",
      "100%|██████████| 35/35 [00:10<00:00,  3.37it/s]\n"
     ]
    },
    {
     "name": "stdout",
     "output_type": "stream",
     "text": [
      "Got MRMR features\n"
     ]
    },
    {
     "name": "stderr",
     "output_type": "stream",
     "text": [
      "\n",
      "\u001b[A\n",
      "\u001b[A\n",
      "\u001b[A\n",
      "\u001b[A\n",
      "\u001b[A\n",
      "\u001b[A\n",
      "\u001b[A\n",
      "\u001b[A\n",
      "\u001b[A\n",
      "\u001b[A\n",
      "100%|██████████| 35/35 [00:09<00:00,  3.88it/s]\n",
      "\n",
      "\u001b[A"
     ]
    },
    {
     "name": "stdout",
     "output_type": "stream",
     "text": [
      "Got MRMR features\n"
     ]
    },
    {
     "name": "stderr",
     "output_type": "stream",
     "text": [
      "\n",
      "\u001b[A\n",
      "\u001b[A\n",
      "\u001b[A\n",
      "\u001b[A\n",
      "\u001b[A\n",
      "\u001b[A\n",
      "\u001b[A\n",
      "\u001b[A\n",
      "\u001b[A\n",
      "\u001b[A\n",
      "\u001b[A\n",
      "\u001b[A\n",
      "\u001b[A\n",
      "\u001b[A\n",
      "\u001b[A\n",
      "\u001b[A\n",
      "\u001b[A\n",
      "\u001b[A\n",
      "\u001b[A\n",
      "\u001b[A\n",
      "\u001b[A\n",
      "\u001b[A\n",
      "100%|██████████| 35/35 [00:10<00:00,  3.29it/s]\n"
     ]
    },
    {
     "name": "stdout",
     "output_type": "stream",
     "text": [
      "Got MRMR features\n",
      "[I 2025-08-28 16:30:30,448] Trial 21 finished with value: 0.16143759822235865 and parameters: {'feature_selection': 'MRMR', 'k_features': 35, 'iterations': 800, 'depth': 8, 'learning_rate': 0.007874561254582548, 'l2_leaf_reg': 0.0004345838570521158, 'random_strength': 0.7550134745819501, 'bagging_temperature': 0.40381436736063325, 'border_count': 193}. Best is trial 11 with value: 0.20185336852887686.\n"
     ]
    },
    {
     "name": "stderr",
     "output_type": "stream",
     "text": [
      "100%|██████████| 35/35 [00:09<00:00,  3.81it/s]\n"
     ]
    },
    {
     "name": "stdout",
     "output_type": "stream",
     "text": [
      "Got MRMR features\n"
     ]
    },
    {
     "name": "stderr",
     "output_type": "stream",
     "text": [
      "100%|██████████| 35/35 [00:09<00:00,  3.51it/s]\n"
     ]
    },
    {
     "name": "stdout",
     "output_type": "stream",
     "text": [
      "Got MRMR features\n",
      "[I 2025-08-28 16:32:52,082] Trial 22 finished with value: 0.15231214878081503 and parameters: {'feature_selection': 'MRMR', 'k_features': 35, 'iterations': 550, 'depth': 8, 'learning_rate': 0.007294267269739802, 'l2_leaf_reg': 0.00022158354608989224, 'random_strength': 0.3824039728057108, 'bagging_temperature': 0.426993247298479, 'border_count': 200}. Best is trial 11 with value: 0.20185336852887686.\n",
      "[I 2025-08-28 16:40:58,928] Trial 20 finished with value: 0.19552911478657936 and parameters: {'feature_selection': 'None', 'iterations': 775, 'depth': 9, 'learning_rate': 0.007130129700394242, 'l2_leaf_reg': 1.9243836893944384e-06, 'random_strength': 0.0005932645623587903, 'bagging_temperature': 0.3808593520309267, 'border_count': 170}. Best is trial 11 with value: 0.20185336852887686.\n",
      "[I 2025-08-28 16:41:21,699] Trial 24 finished with value: 0.2045683421504556 and parameters: {'feature_selection': 'None', 'iterations': 550, 'depth': 7, 'learning_rate': 0.017922848929618797, 'l2_leaf_reg': 1.0501274300305715e-08, 'random_strength': 0.0010842945556598712, 'bagging_temperature': 0.1372604601960875, 'border_count': 140}. Best is trial 24 with value: 0.2045683421504556.\n",
      "[I 2025-08-28 16:44:10,576] Trial 23 finished with value: 0.16142526312390762 and parameters: {'feature_selection': 'None', 'iterations': 575, 'depth': 9, 'learning_rate': 0.03157300400595908, 'l2_leaf_reg': 1.0325271633188434e-08, 'random_strength': 0.00197175440827159, 'bagging_temperature': 0.15897079514735868, 'border_count': 141}. Best is trial 24 with value: 0.2045683421504556.\n",
      "[I 2025-08-28 16:45:42,855] Trial 25 finished with value: 0.1963608860567219 and parameters: {'feature_selection': 'None', 'iterations': 550, 'depth': 7, 'learning_rate': 0.019253513331815218, 'l2_leaf_reg': 2.3288962610804444e-08, 'random_strength': 0.0032713877853582304, 'bagging_temperature': 0.14235455877994757, 'border_count': 141}. Best is trial 24 with value: 0.2045683421504556.\n",
      "[I 2025-08-28 16:45:52,267] Trial 12 finished with value: 0.16962480240058403 and parameters: {'feature_selection': 'RFE', 'k_features': 15, 'iterations': 400, 'depth': 6, 'learning_rate': 0.005455612738379321, 'l2_leaf_reg': 0.29108689967905343, 'random_strength': 0.004740403628247156, 'bagging_temperature': 0.37736065219981607, 'border_count': 108}. Best is trial 24 with value: 0.2045683421504556.\n",
      "[I 2025-08-28 16:46:58,080] Trial 26 finished with value: 0.20146061559848588 and parameters: {'feature_selection': 'None', 'iterations': 550, 'depth': 7, 'learning_rate': 0.02009773882035302, 'l2_leaf_reg': 1.0637401882924124e-08, 'random_strength': 0.002570131952014963, 'bagging_temperature': 0.17424489748580357, 'border_count': 136}. Best is trial 24 with value: 0.2045683421504556.\n",
      "[I 2025-08-28 16:47:42,624] Trial 27 finished with value: 0.20410887623041654 and parameters: {'feature_selection': 'None', 'iterations': 500, 'depth': 7, 'learning_rate': 0.012959254372405183, 'l2_leaf_reg': 6.679912892363011e-07, 'random_strength': 4.10099724623412e-05, 'bagging_temperature': 0.14550801800189606, 'border_count': 129}. Best is trial 24 with value: 0.2045683421504556.\n",
      "[I 2025-08-28 16:48:39,302] Trial 28 finished with value: 0.1943593816009012 and parameters: {'feature_selection': 'None', 'iterations': 500, 'depth': 7, 'learning_rate': 0.012473554962165831, 'l2_leaf_reg': 1.2866374378868452e-06, 'random_strength': 3.831214843433946e-05, 'bagging_temperature': 0.2093466239429379, 'border_count': 82}. Best is trial 24 with value: 0.2045683421504556.\n",
      "[I 2025-08-28 16:48:56,129] Trial 29 finished with value: 0.20566097195123847 and parameters: {'feature_selection': 'None', 'iterations': 500, 'depth': 7, 'learning_rate': 0.010840660842219442, 'l2_leaf_reg': 8.959486525605148e-07, 'random_strength': 3.489233597608473e-05, 'bagging_temperature': 0.1932963769404346, 'border_count': 85}. Best is trial 29 with value: 0.20566097195123847.\n",
      "[I 2025-08-28 16:50:14,956] Trial 31 finished with value: 0.20880564151918404 and parameters: {'feature_selection': 'None', 'iterations': 475, 'depth': 7, 'learning_rate': 0.011083719951152492, 'l2_leaf_reg': 1.2570733394196093e-06, 'random_strength': 2.7910631683809778e-05, 'bagging_temperature': 0.0653893739504865, 'border_count': 76}. Best is trial 31 with value: 0.20880564151918404.\n",
      "[I 2025-08-28 16:50:29,796] Trial 33 finished with value: 0.20359194493457505 and parameters: {'feature_selection': 'None', 'iterations': 275, 'depth': 7, 'learning_rate': 0.03846726817036972, 'l2_leaf_reg': 6.965773448784038e-05, 'random_strength': 3.2590676018320743e-06, 'bagging_temperature': 0.08103075536247606, 'border_count': 76}. Best is trial 31 with value: 0.20880564151918404.\n",
      "[I 2025-08-28 16:51:49,234] Trial 34 finished with value: 0.19358385667744393 and parameters: {'feature_selection': 'None', 'iterations': 275, 'depth': 7, 'learning_rate': 0.03799702746776727, 'l2_leaf_reg': 9.137030943811391e-05, 'random_strength': 3.495889030067063e-06, 'bagging_temperature': 0.07110769031210643, 'border_count': 72}. Best is trial 31 with value: 0.20880564151918404.\n",
      "[I 2025-08-28 16:53:54,786] Trial 30 finished with value: 0.19884182499902345 and parameters: {'feature_selection': 'None', 'iterations': 950, 'depth': 7, 'learning_rate': 0.03770281058769153, 'l2_leaf_reg': 1.4682256094161867e-06, 'random_strength': 2.122688053996572e-05, 'bagging_temperature': 0.1911933008038251, 'border_count': 75}. Best is trial 31 with value: 0.20880564151918404.\n",
      "[I 2025-08-28 16:53:56,729] Trial 35 finished with value: 0.17526684863962236 and parameters: {'feature_selection': 'None', 'iterations': 475, 'depth': 8, 'learning_rate': 0.0031328710578377226, 'l2_leaf_reg': 5.2172760795838994e-08, 'random_strength': 3.905562660442885e-07, 'bagging_temperature': 0.30968612634840115, 'border_count': 55}. Best is trial 31 with value: 0.20880564151918404.\n",
      "[I 2025-08-28 16:54:37,184] Trial 36 finished with value: 0.20189073800932916 and parameters: {'feature_selection': 'None', 'iterations': 450, 'depth': 7, 'learning_rate': 0.01581884909597877, 'l2_leaf_reg': 9.739404446749464e-07, 'random_strength': 1.9806881928968473e-05, 'bagging_temperature': 0.30284101724198903, 'border_count': 91}. Best is trial 31 with value: 0.20880564151918404.\n",
      "[I 2025-08-28 16:55:11,102] Trial 32 finished with value: 0.1864425637808687 and parameters: {'feature_selection': 'None', 'iterations': 950, 'depth': 7, 'learning_rate': 0.033773750228349074, 'l2_leaf_reg': 5.29230465505563e-05, 'random_strength': 5.872689372827061e-06, 'bagging_temperature': 0.10737154198419563, 'border_count': 122}. Best is trial 31 with value: 0.20880564151918404.\n",
      "[I 2025-08-28 16:55:24,144] Trial 39 finished with value: 0.1879420839491181 and parameters: {'feature_selection': 'None', 'iterations': 350, 'depth': 6, 'learning_rate': 0.0097247843525805, 'l2_leaf_reg': 3.2845273569444475e-07, 'random_strength': 8.654634979647662e-08, 'bagging_temperature': 0.08828298674440867, 'border_count': 34}. Best is trial 31 with value: 0.20880564151918404.\n",
      "[I 2025-08-28 16:55:42,772] Trial 38 finished with value: 0.20958917155256057 and parameters: {'feature_selection': 'None', 'iterations': 500, 'depth': 6, 'learning_rate': 0.015251585245100622, 'l2_leaf_reg': 6.613704986601016e-07, 'random_strength': 4.71328603743731e-08, 'bagging_temperature': 0.10602685820989721, 'border_count': 97}. Best is trial 38 with value: 0.20958917155256057.\n",
      "[I 2025-08-28 16:55:56,820] Trial 37 finished with value: 0.1956330730214984 and parameters: {'feature_selection': 'None', 'iterations': 475, 'depth': 6, 'learning_rate': 0.011335589107122254, 'l2_leaf_reg': 8.027181914213279e-08, 'random_strength': 7.637403348164501e-07, 'bagging_temperature': 0.3211597300928654, 'border_count': 92}. Best is trial 38 with value: 0.20958917155256057.\n",
      "[I 2025-08-28 16:56:11,132] Trial 40 finished with value: 0.20421469196311418 and parameters: {'feature_selection': 'None', 'iterations': 350, 'depth': 6, 'learning_rate': 0.011085129953627246, 'l2_leaf_reg': 4.0637712444446303e-07, 'random_strength': 7.390540094327526e-05, 'bagging_temperature': 0.014426137373382941, 'border_count': 93}. Best is trial 38 with value: 0.20958917155256057.\n",
      "[I 2025-08-28 16:56:56,044] Trial 41 finished with value: 0.19852006905900685 and parameters: {'feature_selection': 'None', 'iterations': 700, 'depth': 6, 'learning_rate': 0.010092705919725851, 'l2_leaf_reg': 0.0024245762238055703, 'random_strength': 8.569076477523091e-05, 'bagging_temperature': 0.24779123702374473, 'border_count': 93}. Best is trial 38 with value: 0.20958917155256057.\n",
      "[I 2025-08-28 16:57:02,862] Trial 42 finished with value: 0.20271907788503718 and parameters: {'feature_selection': 'None', 'iterations': 700, 'depth': 6, 'learning_rate': 0.010198123139778456, 'l2_leaf_reg': 0.0027802375078439905, 'random_strength': 3.1097673964637418e-09, 'bagging_temperature': 0.029617636617811693, 'border_count': 97}. Best is trial 38 with value: 0.20958917155256057.\n",
      "[I 2025-08-28 17:05:20,515] Trial 14 finished with value: 0.1137528071258312 and parameters: {'feature_selection': 'RFE', 'k_features': 5, 'iterations': 850, 'depth': 7, 'learning_rate': 0.001976168686842465, 'l2_leaf_reg': 0.02427940159625767, 'random_strength': 5.538863571410212e-07, 'bagging_temperature': 0.9506068164446857, 'border_count': 135}. Best is trial 38 with value: 0.20958917155256057.\n",
      "[I 2025-08-28 17:05:43,666] Trial 47 finished with value: 0.19798186083741237 and parameters: {'feature_selection': 'None', 'iterations': 350, 'depth': 6, 'learning_rate': 0.015888132276959593, 'l2_leaf_reg': 1.7683072298551121e-07, 'random_strength': 1.5980146088652293e-08, 'bagging_temperature': 0.6712005466086977, 'border_count': 60}. Best is trial 38 with value: 0.20958917155256057.\n",
      "[I 2025-08-28 17:06:50,227] Trial 48 finished with value: 0.20062094260850677 and parameters: {'feature_selection': 'None', 'iterations': 600, 'depth': 6, 'learning_rate': 0.025322109317324832, 'l2_leaf_reg': 2.6202592451959174e-06, 'random_strength': 0.0001477025135364898, 'bagging_temperature': 0.05625932884044167, 'border_count': 156}. Best is trial 38 with value: 0.20958917155256057.\n",
      "[I 2025-08-28 17:07:01,380] Trial 49 finished with value: 0.1639048876415045 and parameters: {'feature_selection': 'None', 'iterations': 225, 'depth': 6, 'learning_rate': 0.004752392765832099, 'l2_leaf_reg': 3.968708809616223e-07, 'random_strength': 9.00854681841921e-06, 'bagging_temperature': 0.1134004452812124, 'border_count': 62}. Best is trial 38 with value: 0.20958917155256057.\n",
      "[I 2025-08-28 17:25:48,325] Trial 15 finished with value: 0.11216684267270698 and parameters: {'feature_selection': 'RFE', 'k_features': 5, 'iterations': 675, 'depth': 6, 'learning_rate': 0.0011206842760328197, 'l2_leaf_reg': 6.505210518502439e-05, 'random_strength': 1.2029929443731416e-07, 'bagging_temperature': 0.001098534087199482, 'border_count': 110}. Best is trial 38 with value: 0.20958917155256057.\n",
      "[I 2025-08-28 17:26:30,770] Trial 51 finished with value: 0.17641838650252326 and parameters: {'feature_selection': 'None', 'iterations': 375, 'depth': 8, 'learning_rate': 0.087391008769976, 'l2_leaf_reg': 2.712182068201154e-08, 'random_strength': 0.00037332902534698725, 'bagging_temperature': 0.24361277033929127, 'border_count': 44}. Best is trial 38 with value: 0.20958917155256057.\n",
      "[I 2025-08-28 17:40:28,109] Trial 44 finished with value: 0.18795967296031604 and parameters: {'feature_selection': 'RFE', 'k_features': 105, 'iterations': 650, 'depth': 8, 'learning_rate': 0.01658897341027264, 'l2_leaf_reg': 0.0009160418534194689, 'random_strength': 1.0739446277815496e-09, 'bagging_temperature': 0.6287161823050813, 'border_count': 57}. Best is trial 38 with value: 0.20958917155256057.\n",
      "[I 2025-08-28 17:42:02,052] Trial 53 finished with value: 0.21050298478709478 and parameters: {'feature_selection': 'None', 'iterations': 600, 'depth': 7, 'learning_rate': 0.008611630145791452, 'l2_leaf_reg': 1.0963970575916999e-07, 'random_strength': 0.11249440961638231, 'bagging_temperature': 0.11856336201616074, 'border_count': 121}. Best is trial 53 with value: 0.21050298478709478.\n",
      "[I 2025-08-28 17:42:46,022] Trial 46 finished with value: 0.1704436872781266 and parameters: {'feature_selection': 'RFE', 'k_features': 95, 'iterations': 600, 'depth': 6, 'learning_rate': 0.01635286092424601, 'l2_leaf_reg': 1.7496496370240597e-07, 'random_strength': 1.3940102471592553e-07, 'bagging_temperature': 0.004204200682791441, 'border_count': 63}. Best is trial 53 with value: 0.21050298478709478.\n",
      "[I 2025-08-28 17:43:17,082] Trial 45 finished with value: 0.18226730295512697 and parameters: {'feature_selection': 'RFE', 'k_features': 95, 'iterations': 625, 'depth': 8, 'learning_rate': 0.0928459422969425, 'l2_leaf_reg': 1.0977306070461061e-07, 'random_strength': 1.1402703355413576e-09, 'bagging_temperature': 0.6687259216129089, 'border_count': 64}. Best is trial 53 with value: 0.21050298478709478.\n",
      "[I 2025-08-28 17:44:16,454] Trial 43 finished with value: 0.18523118550489076 and parameters: {'feature_selection': 'RFE', 'k_features': 95, 'iterations': 625, 'depth': 6, 'learning_rate': 0.017517925916017554, 'l2_leaf_reg': 0.001246091237584923, 'random_strength': 1.5036616920433438e-09, 'bagging_temperature': 0.004467766022731995, 'border_count': 154}. Best is trial 53 with value: 0.21050298478709478.\n",
      "[I 2025-08-28 17:45:19,249] Trial 54 finished with value: 0.20222962944474282 and parameters: {'feature_selection': 'None', 'iterations': 525, 'depth': 7, 'learning_rate': 0.0085404631771359, 'l2_leaf_reg': 1.2056136068334812e-07, 'random_strength': 0.16667985543349162, 'bagging_temperature': 0.10971864884825856, 'border_count': 152}. Best is trial 53 with value: 0.21050298478709478.\n",
      "[I 2025-08-28 17:47:24,706] Trial 56 finished with value: 0.20063611449998303 and parameters: {'feature_selection': 'None', 'iterations': 500, 'depth': 7, 'learning_rate': 0.00846674908763922, 'l2_leaf_reg': 5.464155508560843e-08, 'random_strength': 0.13721146998675576, 'bagging_temperature': 0.053101986893109715, 'border_count': 120}. Best is trial 53 with value: 0.21050298478709478.\n",
      "[I 2025-08-28 17:47:31,509] Trial 55 finished with value: 0.20586312459351813 and parameters: {'feature_selection': 'None', 'iterations': 525, 'depth': 7, 'learning_rate': 0.005822721325332723, 'l2_leaf_reg': 6.306453741364083e-08, 'random_strength': 0.11868559599667815, 'bagging_temperature': 0.4666566538644421, 'border_count': 151}. Best is trial 53 with value: 0.21050298478709478.\n",
      "[I 2025-08-28 17:48:58,791] Trial 58 finished with value: 0.19943503086746045 and parameters: {'feature_selection': 'None', 'iterations': 425, 'depth': 7, 'learning_rate': 0.005817445378188928, 'l2_leaf_reg': 3.133046102808619e-06, 'random_strength': 0.023282416003438965, 'bagging_temperature': 0.04616581977053588, 'border_count': 123}. Best is trial 53 with value: 0.21050298478709478.\n",
      "[I 2025-08-28 17:49:41,658] Trial 57 finished with value: 0.1980771557186825 and parameters: {'feature_selection': 'None', 'iterations': 500, 'depth': 7, 'learning_rate': 0.005839809594206656, 'l2_leaf_reg': 4.643930459465912e-08, 'random_strength': 0.09707142337793456, 'bagging_temperature': 0.050285097936521264, 'border_count': 124}. Best is trial 53 with value: 0.21050298478709478.\n",
      "[I 2025-08-28 17:50:43,896] Trial 59 finished with value: 0.18432921851695144 and parameters: {'feature_selection': 'None', 'iterations': 425, 'depth': 7, 'learning_rate': 0.025979042965524668, 'l2_leaf_reg': 3.9429897050812326e-07, 'random_strength': 0.017070121867672115, 'bagging_temperature': 0.47821046345158924, 'border_count': 104}. Best is trial 53 with value: 0.21050298478709478.\n",
      "[I 2025-08-28 17:51:05,717] Trial 60 finished with value: 0.19549080171987782 and parameters: {'feature_selection': 'None', 'iterations': 425, 'depth': 7, 'learning_rate': 0.005827869710350431, 'l2_leaf_reg': 4.384343575857525e-06, 'random_strength': 1.1583917674885138, 'bagging_temperature': 0.8186453711528076, 'border_count': 123}. Best is trial 53 with value: 0.21050298478709478.\n"
     ]
    },
    {
     "name": "stderr",
     "output_type": "stream",
     "text": [
      "\n",
      "\u001b[A\n",
      "\u001b[A\n",
      "\u001b[A\n",
      "\u001b[A\n",
      "\u001b[A\n",
      "\u001b[A\n",
      "\u001b[A\n",
      "\u001b[A\n",
      "\u001b[A\n",
      "\u001b[A\n",
      "\u001b[A\n",
      "\u001b[A\n",
      "\u001b[A\n",
      "\u001b[A\n",
      "\u001b[A\n",
      "\u001b[A\n",
      "\u001b[A\n",
      "\u001b[A\n",
      "\u001b[A\n",
      "\u001b[A\n",
      "\u001b[A\n",
      "\u001b[A\n",
      "\u001b[A\n",
      "\u001b[A\n",
      "\u001b[A\n",
      "\u001b[A\n",
      "\u001b[A\n",
      "\u001b[A\n",
      "\u001b[A\n",
      "\u001b[A\n",
      "100%|██████████| 45/45 [00:08<00:00,  5.35it/s]\n",
      "\n",
      "\u001b[A\n",
      "\u001b[A"
     ]
    },
    {
     "name": "stdout",
     "output_type": "stream",
     "text": [
      "Got MRMR features\n"
     ]
    },
    {
     "name": "stderr",
     "output_type": "stream",
     "text": [
      "\n",
      "\u001b[A\n",
      "\u001b[A\n",
      "\u001b[A\n",
      "\u001b[A\n",
      "\u001b[A\n",
      "\u001b[A\n",
      "\u001b[A\n",
      "\u001b[A\n",
      "\u001b[A\n",
      "\u001b[A\n",
      "100%|██████████| 45/45 [00:07<00:00,  5.72it/s]\n"
     ]
    },
    {
     "name": "stdout",
     "output_type": "stream",
     "text": [
      "Got MRMR features\n"
     ]
    },
    {
     "name": "stderr",
     "output_type": "stream",
     "text": [
      "\n",
      "\u001b[A\n",
      "\u001b[A\n",
      "\u001b[A\n",
      "\u001b[A\n",
      "\u001b[A\n",
      "\u001b[A\n",
      "\u001b[A\n",
      "\u001b[A\n",
      "\u001b[A\n",
      "\u001b[A\n",
      "\u001b[A\n",
      "\u001b[A\n",
      "\u001b[A\n",
      "\u001b[A\n",
      "\u001b[A\n",
      "\u001b[A\n",
      "\u001b[A\n",
      "\u001b[A\n",
      "\u001b[A\n",
      "\u001b[A\n",
      "\u001b[A\n",
      "\u001b[A\n",
      "\u001b[A\n",
      "\u001b[A\n",
      "\u001b[A\n",
      "\u001b[A\n",
      "\u001b[A\n",
      "\u001b[A\n",
      "\u001b[A\n",
      "\u001b[A\n",
      "\n",
      "\u001b[A\u001b[A                                         \n",
      "\u001b[A                                            \n",
      "\u001b[A\n",
      "\u001b[A"
     ]
    },
    {
     "name": "stdout",
     "output_type": "stream",
     "text": [
      "[I 2025-08-28 17:52:51,943] Trial 61 finished with value: 0.15343632370290494 and parameters: {'feature_selection': 'None', 'iterations': 450, 'depth': 7, 'learning_rate': 0.003713402512000652, 'l2_leaf_reg': 4.1570321686954805e-08, 'random_strength': 2.0736945710648835, 'bagging_temperature': 0.7327296297516499, 'border_count': 183}. Best is trial 53 with value: 0.21050298478709478.\n"
     ]
    },
    {
     "name": "stderr",
     "output_type": "stream",
     "text": [
      "\n",
      "\u001b[A\n",
      "\u001b[A\n",
      "\n",
      "\u001b[A\u001b[A\n",
      "\u001b[A\n",
      "\n",
      "\u001b[A\u001b[A\n",
      "\u001b[A\n",
      "\n",
      "\u001b[A\u001b[A\n",
      "\u001b[A\n",
      "\n",
      "\u001b[A\u001b[A\n",
      "\u001b[A\n",
      "\n",
      "\u001b[A\u001b[A\n",
      "\u001b[A\n",
      "\n",
      "\u001b[A\u001b[A\n",
      "\u001b[A\n",
      "\n",
      "\u001b[A\u001b[A\n",
      "\u001b[A\n",
      "\n",
      "\u001b[A\u001b[A\n",
      "\u001b[A\n",
      "\n",
      "\u001b[A\u001b[A\n",
      "100%|██████████| 45/45 [00:12<00:00,  3.73it/s]\n",
      "\n",
      "\n",
      "\u001b[A\u001b[A\n",
      "\u001b[A\n",
      "\n",
      "\u001b[A\u001b[A"
     ]
    },
    {
     "name": "stdout",
     "output_type": "stream",
     "text": [
      "Got MRMR features\n"
     ]
    },
    {
     "name": "stderr",
     "output_type": "stream",
     "text": [
      "\n",
      "\u001b[A\n",
      "\n",
      "\u001b[A\u001b[A\n",
      "100%|██████████| 45/45 [00:11<00:00,  3.85it/s]\n",
      "\n",
      "\n",
      "\u001b[A\u001b[A\n",
      "\n",
      "\n"
     ]
    },
    {
     "name": "stdout",
     "output_type": "stream",
     "text": [
      "Got MRMR features\n"
     ]
    },
    {
     "name": "stderr",
     "output_type": "stream",
     "text": [
      " 31%|███       | 14/45 [00:03<00:05,  5.44it/s]\u001b[A\u001b[A\u001b[A\n",
      "\n",
      "\u001b[A\u001b[A\n",
      "\n",
      "\u001b[A\u001b[A\n",
      "\n",
      "\u001b[A\u001b[A\n",
      "\n",
      "\u001b[A\u001b[A\n",
      "\n",
      "\u001b[A\u001b[A\n",
      "\n",
      "\u001b[A\u001b[A\n",
      "\n",
      "\u001b[A\u001b[A\n",
      "\n",
      "\u001b[A\u001b[A\n",
      "\n",
      "\u001b[A\u001b[A\n",
      "\n",
      "\u001b[A\u001b[A\n",
      "\n",
      "\u001b[A\u001b[A\n",
      "\n",
      "\u001b[A\u001b[A\n",
      "\n",
      "\u001b[A\u001b[A\n",
      "\n",
      "\u001b[A\u001b[A\n",
      "\n",
      "\u001b[A\u001b[A\n",
      "\n",
      "\u001b[A\u001b[A\n",
      "\n",
      "\u001b[A\u001b[A\n",
      "\n",
      "\u001b[A\u001b[A\n",
      "\n",
      "\u001b[A\u001b[A\n",
      "\n",
      "\u001b[A\u001b[A\n",
      "\n",
      "\u001b[A\u001b[A\n",
      "\n",
      "\u001b[A\u001b[A\n",
      "\n",
      "\u001b[A\u001b[A\n",
      "\n",
      "\u001b[A\u001b[A\n",
      "\n",
      "\u001b[A\u001b[A\n",
      "\n",
      "\u001b[A\u001b[A\n",
      "\n",
      "\u001b[A\u001b[A\n",
      "\n",
      "\u001b[A\u001b[A\n",
      "\n",
      "\u001b[A\u001b[A\n",
      "\n",
      "\u001b[A\u001b[A\n",
      "\n",
      "100%|██████████| 45/45 [00:08<00:00,  5.49it/s]\n"
     ]
    },
    {
     "name": "stdout",
     "output_type": "stream",
     "text": [
      "Got MRMR features\n"
     ]
    },
    {
     "name": "stderr",
     "output_type": "stream",
     "text": [
      "\n",
      "\u001b[A\n",
      "\n",
      "\u001b[A\u001b[A\n",
      "\u001b[A\n",
      "\n",
      "\u001b[A\u001b[A\n",
      "\u001b[A\n",
      "\n",
      "\u001b[A\u001b[A\n",
      "\u001b[A\n",
      "\n",
      "\u001b[A\u001b[A\n",
      "\u001b[A\n",
      "\n",
      "\u001b[A\u001b[A\n",
      "\u001b[A\n",
      "\n",
      "\u001b[A\u001b[A\n",
      "\u001b[A\n",
      "\n",
      "\u001b[A\u001b[A\n",
      "\u001b[A\n",
      "\n",
      "\u001b[A\u001b[A\n",
      "\u001b[A\n",
      "\n",
      "\u001b[A\u001b[A\n",
      "\u001b[A\n",
      "\n",
      "\u001b[A\u001b[A\n",
      "\u001b[A\n",
      "\n",
      "\u001b[A\u001b[A\n",
      "\u001b[A\n",
      "\n",
      "\u001b[A\u001b[A\n",
      "\u001b[A\n",
      "\n",
      "\u001b[A\u001b[A\n",
      "\u001b[A\n",
      "\n",
      "\u001b[A\u001b[A\n",
      "\u001b[A\n",
      "\n",
      "\u001b[A\u001b[A\n",
      "\u001b[A\n",
      "\n",
      "\u001b[A\u001b[A\n",
      "\u001b[A\n",
      "\n",
      "\u001b[A\u001b[A\n",
      "\u001b[A\n",
      "\n",
      "\u001b[A\u001b[A\n",
      "\u001b[A\n",
      "\n",
      "\u001b[A\u001b[A\n",
      "\u001b[A\n",
      "\n",
      "\u001b[A\u001b[A\n",
      "\u001b[A\n",
      "\n",
      "\u001b[A\u001b[A\n",
      "\u001b[A\n",
      "\n",
      "\u001b[A\u001b[A\n",
      "\u001b[A\n",
      "\n",
      "\u001b[A\u001b[A\n",
      "\u001b[A\n",
      "\n",
      "\u001b[A\u001b[A\n",
      "\u001b[A\n",
      "\n",
      "\u001b[A\u001b[A\n",
      "\u001b[A\n",
      "\n",
      "\u001b[A\u001b[A\n",
      "\u001b[A\n",
      "\n",
      "\u001b[A\u001b[A\n",
      "\u001b[A\n",
      "\n",
      "\u001b[A\u001b[A\n",
      "\u001b[A\n",
      "\n",
      "\u001b[A\u001b[A\n",
      "\u001b[A\n",
      "\n",
      "\u001b[A\u001b[A\n",
      "\u001b[A\n",
      "\n",
      "\u001b[A\u001b[A\n",
      "\u001b[A\n",
      "\n",
      "\u001b[A\u001b[A\n",
      "\u001b[A\n",
      "\n",
      "\u001b[A\u001b[A\n",
      "\u001b[A\n",
      "\n",
      "\u001b[A\u001b[A\n",
      "\u001b[A\n",
      "\n",
      "\u001b[A\u001b[A\n",
      "\u001b[A\n",
      "\n",
      "\u001b[A\u001b[A\n",
      "\u001b[A\n",
      "\n",
      "\u001b[A\u001b[A\n",
      "\u001b[A\n",
      "\n",
      "\u001b[A\u001b[A\n",
      "\u001b[A\n",
      "\n",
      "\u001b[A\u001b[A\n",
      "\u001b[A\n",
      "\n",
      "\u001b[A\u001b[A\n",
      "\u001b[A\n",
      "\n",
      "\u001b[A\u001b[A\n",
      "\u001b[A\n",
      "\n",
      "\u001b[A\u001b[A\n",
      "\u001b[A\n",
      "\n",
      "100%|██████████| 45/45 [00:15<00:00,  2.89it/s]\n",
      "\n",
      "\u001b[A\n",
      "\n",
      "\u001b[A\u001b[A\n",
      "\n",
      "100%|██████████| 45/45 [00:15<00:00,  3.66it/s]"
     ]
    },
    {
     "name": "stdout",
     "output_type": "stream",
     "text": [
      "Got MRMR features\n"
     ]
    },
    {
     "name": "stderr",
     "output_type": "stream",
     "text": [
      "100%|██████████| 45/45 [00:15<00:00,  2.92it/s]\n",
      "\n",
      "\n",
      "100%|██████████| 45/45 [00:15<00:00,  2.95it/s]\n"
     ]
    },
    {
     "name": "stdout",
     "output_type": "stream",
     "text": [
      "Got MRMR features\n",
      "Got MRMR features\n"
     ]
    },
    {
     "name": "stderr",
     "output_type": "stream",
     "text": [
      "\n",
      "\u001b[A\n",
      "\u001b[A\n",
      "\u001b[A\n",
      "\u001b[A\n",
      "\u001b[A\n",
      "\u001b[A\n",
      "\n",
      "\u001b[A\u001b[A\n",
      "\n",
      "\u001b[A\u001b[A\n",
      "\u001b[A\n",
      "\n",
      "\u001b[A\u001b[A\n",
      "\u001b[A\n",
      "\n",
      "\u001b[A\u001b[A\n",
      "\u001b[A\n",
      "\n",
      "\u001b[A\u001b[A\n",
      "\u001b[A\n",
      "\n",
      "\u001b[A\u001b[A\n",
      "\u001b[A\n",
      "\n",
      "\u001b[A\u001b[A\n",
      "\u001b[A\n",
      "\n",
      "\u001b[A\u001b[A\n",
      "\u001b[A\n",
      "\n",
      "\u001b[A\u001b[A\n",
      "\u001b[A\n",
      "\n",
      "\u001b[A\u001b[A\n",
      "\u001b[A\n",
      "\n",
      "\u001b[A\u001b[A\n",
      "\u001b[A\n",
      "\n",
      "100%|██████████| 45/45 [00:09<00:00,  4.55it/s]\n",
      "\n",
      "\n",
      "\u001b[A\u001b[A"
     ]
    },
    {
     "name": "stdout",
     "output_type": "stream",
     "text": [
      "Got MRMR features\n"
     ]
    },
    {
     "name": "stderr",
     "output_type": "stream",
     "text": [
      "\n",
      "\u001b[A\n",
      "\n",
      "\u001b[A\u001b[A\n",
      "\u001b[A\n",
      "\n",
      "\u001b[A\u001b[A\n",
      "\u001b[A\n",
      "\n",
      "\u001b[A\u001b[A\n",
      "\u001b[A\n",
      "\n",
      "\u001b[A\u001b[A\n",
      "\u001b[A\n",
      "\n",
      "\u001b[A\u001b[A\n",
      "\u001b[A\n",
      "\n",
      "\u001b[A\u001b[A\n",
      "\u001b[A\n",
      "\n",
      "\u001b[A\u001b[A\n",
      "\u001b[A\n",
      "\n",
      "\u001b[A\u001b[A\n",
      "\u001b[A\n",
      "\n",
      "\u001b[A\u001b[A\n",
      "\u001b[A\n",
      "\n",
      "\u001b[A\u001b[A\n",
      "\u001b[A\n",
      "\n",
      "\u001b[A\u001b[A\n",
      "\u001b[A\n",
      "\n",
      "\u001b[A\u001b[A\n",
      "\u001b[A\n",
      "\n",
      "\u001b[A\u001b[A\n",
      "\u001b[A\n",
      "\n",
      "\u001b[A\u001b[A\n",
      "\u001b[A\n",
      "\n",
      "\u001b[A\u001b[A\n",
      "\u001b[A\n",
      "\n",
      "\u001b[A\u001b[A\n",
      "\u001b[A\n",
      "\n",
      "\u001b[A\u001b[A\n",
      "\u001b[A\n",
      "\n",
      "\u001b[A\u001b[A\n",
      "\u001b[A\n",
      "\n",
      "\u001b[A\u001b[A\n",
      "\u001b[A\n",
      "\n",
      "\u001b[A\u001b[A\n",
      "\u001b[A\n",
      "\n",
      "\u001b[A\u001b[A\n",
      "\u001b[A\n",
      "\n",
      "\u001b[A\u001b[A\n",
      "\u001b[A\n",
      "\n",
      "\u001b[A\u001b[A\n",
      "\u001b[A\n",
      "\n",
      "\u001b[A\u001b[A\n",
      "\u001b[A\n",
      "\n",
      "\u001b[A\u001b[A\n",
      "\u001b[A\n",
      "\n",
      "\u001b[A\u001b[A\n",
      "\u001b[A\n",
      "\n",
      "\u001b[A\u001b[A\n",
      "\u001b[A\n",
      "\n",
      "\u001b[A\u001b[A\n",
      "100%|██████████| 45/45 [00:09<00:00,  4.95it/s]\n",
      "\n",
      "\n",
      "\u001b[A\u001b[A"
     ]
    },
    {
     "name": "stdout",
     "output_type": "stream",
     "text": [
      "Got MRMR features\n"
     ]
    },
    {
     "name": "stderr",
     "output_type": "stream",
     "text": [
      "\n",
      "\n",
      "\u001b[A\u001b[A\n",
      "\n",
      "\u001b[A\u001b[A\n",
      "\n",
      "100%|██████████| 45/45 [00:08<00:00,  5.53it/s]\n"
     ]
    },
    {
     "name": "stdout",
     "output_type": "stream",
     "text": [
      "Got MRMR features\n"
     ]
    },
    {
     "name": "stderr",
     "output_type": "stream",
     "text": [
      "100%|██████████| 45/45 [00:07<00:00,  6.03it/s]\n"
     ]
    },
    {
     "name": "stdout",
     "output_type": "stream",
     "text": [
      "Got MRMR features\n"
     ]
    },
    {
     "name": "stderr",
     "output_type": "stream",
     "text": [
      "\n",
      "\u001b[A\n",
      "\u001b[A\n",
      "\u001b[A\n",
      "\u001b[A\n",
      "\u001b[A\n",
      "\u001b[A\n",
      "\u001b[A\n",
      "\u001b[A\n",
      "\u001b[A\n",
      "\u001b[A\n",
      "\u001b[A\n",
      "\u001b[A\n",
      "\u001b[A\n",
      "\u001b[A\n",
      "\u001b[A\n",
      "\u001b[A\n",
      "\u001b[A\n",
      "\u001b[A\n",
      "\u001b[A\n",
      "\u001b[A\n",
      "\u001b[A\n",
      "\u001b[A\n",
      "\u001b[A\n",
      "\u001b[A\n",
      "\u001b[A\n",
      "\u001b[A\n",
      "\n",
      "\u001b[A\u001b[A\n",
      "\u001b[A\n",
      "\n",
      "\u001b[A\u001b[A\n",
      "\u001b[A\n",
      "\n",
      "\u001b[A\u001b[A\n",
      "\u001b[A\n",
      "\n",
      "\u001b[A\u001b[A\n",
      "\u001b[A\n",
      "\n",
      "\u001b[A\u001b[A\n",
      "\u001b[A\n",
      "\n",
      "\u001b[A\u001b[A\n",
      "\u001b[A\n",
      "\n",
      "\u001b[A\u001b[A\n",
      "\u001b[A\n",
      "\n",
      "\u001b[A\u001b[A\n",
      "\u001b[A\n",
      "\n",
      "\u001b[A\u001b[A\n",
      "\u001b[A\n",
      "\n",
      "\u001b[A\u001b[A\n",
      "\u001b[A\n",
      "\n",
      "\u001b[A\u001b[A\n",
      "\u001b[A\n",
      "\n",
      "\u001b[A\u001b[A\n",
      "\u001b[A\n",
      "\n",
      "\u001b[A\u001b[A\n",
      "\u001b[A\n",
      "\n",
      "\u001b[A\u001b[A\n",
      "\u001b[A\n",
      "\n",
      "\u001b[A\u001b[A\n",
      "\u001b[A\n",
      "\n",
      "\u001b[A\u001b[A\n",
      "\u001b[A\n",
      "\n",
      "100%|██████████| 45/45 [00:11<00:00,  3.85it/s]\n",
      "\n",
      "\u001b[A\n",
      "\n",
      "\u001b[A\u001b[A\n",
      "\u001b[A"
     ]
    },
    {
     "name": "stdout",
     "output_type": "stream",
     "text": [
      "Got MRMR features\n"
     ]
    },
    {
     "name": "stderr",
     "output_type": "stream",
     "text": [
      "\n",
      "\n",
      "\u001b[A\u001b[A\n",
      "100%|██████████| 45/45 [00:11<00:00,  3.85it/s]\n",
      "\n",
      "\n",
      "\u001b[A\u001b[A\n",
      "\n",
      "\u001b[A\u001b[A"
     ]
    },
    {
     "name": "stdout",
     "output_type": "stream",
     "text": [
      "Got MRMR features\n"
     ]
    },
    {
     "name": "stderr",
     "output_type": "stream",
     "text": [
      "\n",
      "\n",
      "\u001b[A\u001b[A\n",
      "\n",
      "\u001b[A\u001b[A\n",
      "\n",
      "\u001b[A\u001b[A\n",
      "\n",
      "\u001b[A\u001b[A\n",
      "\n",
      "\u001b[A\u001b[A\n",
      "\n",
      "\u001b[A\u001b[A\n",
      "\n",
      "\u001b[A\u001b[A\n",
      "\n",
      "\u001b[A\u001b[A\n",
      "\n",
      "\u001b[A\u001b[A\n",
      "\n",
      "\u001b[A\u001b[A\n",
      "\n",
      "\u001b[A\u001b[A\n",
      "\n",
      "\u001b[A\u001b[A\n",
      "\n",
      "\u001b[A\u001b[A\n",
      "\n",
      "\u001b[A\u001b[A\n",
      "\n",
      "\u001b[A\u001b[A\n",
      "\n",
      "\u001b[A\u001b[A\n",
      "\n",
      "\u001b[A\u001b[A\n",
      "\n",
      "\u001b[A\u001b[A\n",
      "\n",
      "\u001b[A\u001b[A\n",
      "\n",
      "\u001b[A\u001b[A\n",
      "\n",
      "\u001b[A\u001b[A\n",
      "\n",
      "\u001b[A\u001b[A\n",
      "\n",
      "\u001b[A\u001b[A\n",
      "\n",
      "100%|██████████| 45/45 [00:09<00:00,  4.54it/s]\n"
     ]
    },
    {
     "name": "stdout",
     "output_type": "stream",
     "text": [
      "Got MRMR features\n",
      "[I 2025-08-28 17:55:07,465] Trial 65 finished with value: 0.16026042875214241 and parameters: {'feature_selection': 'MRMR', 'k_features': 45, 'iterations': 575, 'depth': 8, 'learning_rate': 0.01410588617282486, 'l2_leaf_reg': 2.2414145602807066e-05, 'random_strength': 0.009693252435730588, 'bagging_temperature': 0.3500393032837754, 'border_count': 83}. Best is trial 53 with value: 0.21050298478709478.\n",
      "[I 2025-08-28 17:55:10,510] Trial 63 finished with value: 0.16088316154092228 and parameters: {'feature_selection': 'MRMR', 'k_features': 45, 'iterations': 575, 'depth': 8, 'learning_rate': 0.0037815614941346613, 'l2_leaf_reg': 1.5799745892110102e-08, 'random_strength': 2.8199311690872935, 'bagging_temperature': 0.7691346689313228, 'border_count': 179}. Best is trial 53 with value: 0.21050298478709478.\n",
      "[I 2025-08-28 17:55:12,023] Trial 64 finished with value: 0.16405859369002548 and parameters: {'feature_selection': 'MRMR', 'k_features': 45, 'iterations': 575, 'depth': 8, 'learning_rate': 0.004526675341543499, 'l2_leaf_reg': 1.7798381112787057e-08, 'random_strength': 2.064000386997807, 'bagging_temperature': 0.728929762320345, 'border_count': 183}. Best is trial 53 with value: 0.21050298478709478.\n",
      "[I 2025-08-28 17:56:43,154] Trial 62 finished with value: 0.18231424136302593 and parameters: {'feature_selection': 'None', 'iterations': 450, 'depth': 8, 'learning_rate': 0.0039162319381590765, 'l2_leaf_reg': 1.7990306506930428e-08, 'random_strength': 0.9521992319321257, 'bagging_temperature': 0.7842847935466587, 'border_count': 176}. Best is trial 53 with value: 0.21050298478709478.\n",
      "[I 2025-08-28 17:57:05,894] Trial 67 finished with value: 0.1729621414041936 and parameters: {'feature_selection': 'None', 'iterations': 475, 'depth': 6, 'learning_rate': 0.011597088238628673, 'l2_leaf_reg': 7.159041203344762e-07, 'random_strength': 8.99971291789719, 'bagging_temperature': 0.27491279144451364, 'border_count': 98}. Best is trial 53 with value: 0.21050298478709478.\n",
      "[I 2025-08-28 17:57:18,557] Trial 66 finished with value: 0.20724154196605254 and parameters: {'feature_selection': 'None', 'iterations': 525, 'depth': 6, 'learning_rate': 0.0047865444049622775, 'l2_leaf_reg': 1.4841443451117311e-08, 'random_strength': 0.001316755442525478, 'bagging_temperature': 0.5746977633329134, 'border_count': 101}. Best is trial 53 with value: 0.21050298478709478.\n",
      "[I 2025-08-28 17:57:24,517] Trial 68 finished with value: 0.21201482565938087 and parameters: {'feature_selection': 'None', 'iterations': 525, 'depth': 6, 'learning_rate': 0.006720326588279613, 'l2_leaf_reg': 7.684258309492461e-07, 'random_strength': 0.0010496256737055826, 'bagging_temperature': 0.2798088601622538, 'border_count': 100}. Best is trial 68 with value: 0.21201482565938087.\n",
      "[I 2025-08-28 17:59:33,932] Trial 69 finished with value: 0.1988551539233176 and parameters: {'feature_selection': 'None', 'iterations': 525, 'depth': 6, 'learning_rate': 0.01308450908716311, 'l2_leaf_reg': 6.194788841692567e-07, 'random_strength': 0.0009371100079189312, 'bagging_temperature': 0.5588092986145021, 'border_count': 101}. Best is trial 68 with value: 0.21201482565938087.\n",
      "[I 2025-08-28 17:59:35,388] Trial 72 finished with value: 0.18853712118036048 and parameters: {'feature_selection': 'None', 'iterations': 525, 'depth': 6, 'learning_rate': 0.00272865336904407, 'l2_leaf_reg': 1.982162804504746e-07, 'random_strength': 0.001323524396005063, 'bagging_temperature': 0.5761083160473455, 'border_count': 85}. Best is trial 68 with value: 0.21201482565938087.\n",
      "[I 2025-08-28 17:59:41,829] Trial 70 finished with value: 0.2049142991507698 and parameters: {'feature_selection': 'None', 'iterations': 400, 'depth': 7, 'learning_rate': 0.013533105587472703, 'l2_leaf_reg': 2.401484149575451e-07, 'random_strength': 0.0010719640416541629, 'bagging_temperature': 0.13137816769541458, 'border_count': 116}. Best is trial 68 with value: 0.21201482565938087.\n",
      "[I 2025-08-28 18:01:09,434] Trial 71 finished with value: 0.19587283811081294 and parameters: {'feature_selection': 'None', 'iterations': 525, 'depth': 7, 'learning_rate': 0.00645191694142393, 'l2_leaf_reg': 8.229690963168753e-08, 'random_strength': 0.0009081894549644143, 'bagging_temperature': 0.22448565486188346, 'border_count': 145}. Best is trial 68 with value: 0.21201482565938087.\n",
      "[I 2025-08-28 18:02:13,167] Trial 75 finished with value: 0.2088544529623631 and parameters: {'feature_selection': 'None', 'iterations': 600, 'depth': 6, 'learning_rate': 0.006792185183011745, 'l2_leaf_reg': 1.7579219995423326e-05, 'random_strength': 0.005325347998718249, 'bagging_temperature': 0.5164218109027097, 'border_count': 112}. Best is trial 68 with value: 0.21201482565938087.\n",
      "[I 2025-08-28 18:02:13,822] Trial 74 finished with value: 0.20881540177585928 and parameters: {'feature_selection': 'None', 'iterations': 625, 'depth': 6, 'learning_rate': 0.0067024581948301664, 'l2_leaf_reg': 1.4220741176242623e-05, 'random_strength': 0.04197291360295716, 'bagging_temperature': 0.46707364571688026, 'border_count': 111}. Best is trial 68 with value: 0.21201482565938087.\n",
      "[I 2025-08-28 18:02:31,389] Trial 73 finished with value: 0.20349628590771135 and parameters: {'feature_selection': 'None', 'iterations': 525, 'depth': 6, 'learning_rate': 0.0065967089881079025, 'l2_leaf_reg': 8.752643155540876e-08, 'random_strength': 0.007228520785691226, 'bagging_temperature': 0.4831804571444262, 'border_count': 112}. Best is trial 68 with value: 0.21201482565938087.\n",
      "[I 2025-08-28 18:03:35,963] Trial 76 finished with value: 0.19846995901899417 and parameters: {'feature_selection': 'None', 'iterations': 400, 'depth': 7, 'learning_rate': 0.004975185691025945, 'l2_leaf_reg': 1.514766500949219e-06, 'random_strength': 0.004739611242468144, 'bagging_temperature': 0.4714779528369444, 'border_count': 111}. Best is trial 68 with value: 0.21201482565938087.\n",
      "[I 2025-08-28 18:04:38,196] Trial 77 finished with value: 0.2009068106214527 and parameters: {'feature_selection': 'None', 'iterations': 600, 'depth': 6, 'learning_rate': 0.004763682042390782, 'l2_leaf_reg': 1.4752739910506029e-05, 'random_strength': 0.0053914519088604125, 'bagging_temperature': 0.49494974934860314, 'border_count': 111}. Best is trial 68 with value: 0.21201482565938087.\n",
      "[I 2025-08-28 18:05:19,009] Trial 78 finished with value: 0.20828172706987483 and parameters: {'feature_selection': 'None', 'iterations': 750, 'depth': 6, 'learning_rate': 0.006752414097579332, 'l2_leaf_reg': 8.192538302836038e-06, 'random_strength': 0.03797142951012257, 'bagging_temperature': 0.4800379704377769, 'border_count': 112}. Best is trial 68 with value: 0.21201482565938087.\n",
      "[I 2025-08-28 18:06:05,083] Trial 79 finished with value: 0.1952159554392377 and parameters: {'feature_selection': 'None', 'iterations': 650, 'depth': 6, 'learning_rate': 0.005305127519425727, 'l2_leaf_reg': 1.780089323700776e-05, 'random_strength': 0.07662431027197605, 'bagging_temperature': 0.5175947812137921, 'border_count': 130}. Best is trial 68 with value: 0.21201482565938087.\n",
      "[I 2025-08-28 18:06:49,233] Trial 80 finished with value: 0.2037509155911108 and parameters: {'feature_selection': 'None', 'iterations': 750, 'depth': 6, 'learning_rate': 0.00891768979827036, 'l2_leaf_reg': 1.6534646437025224e-05, 'random_strength': 0.047693012263728574, 'bagging_temperature': 0.45110742825947814, 'border_count': 133}. Best is trial 68 with value: 0.21201482565938087.\n",
      "[I 2025-08-28 18:07:20,476] Trial 81 finished with value: 0.199883971495252 and parameters: {'feature_selection': 'None', 'iterations': 650, 'depth': 6, 'learning_rate': 0.007584142251617281, 'l2_leaf_reg': 2.6524333218110696e-05, 'random_strength': 0.048010258252626406, 'bagging_temperature': 0.4366563585562833, 'border_count': 131}. Best is trial 68 with value: 0.21201482565938087.\n",
      "[I 2025-08-28 18:08:43,647] Trial 82 finished with value: 0.20650521695912633 and parameters: {'feature_selection': 'None', 'iterations': 850, 'depth': 6, 'learning_rate': 0.009305428681685332, 'l2_leaf_reg': 3.452298886999766e-05, 'random_strength': 0.0476380929331558, 'bagging_temperature': 0.43667450895769333, 'border_count': 131}. Best is trial 68 with value: 0.21201482565938087.\n",
      "[I 2025-08-28 18:09:21,359] Trial 83 finished with value: 0.20188061068520838 and parameters: {'feature_selection': 'None', 'iterations': 750, 'depth': 6, 'learning_rate': 0.008599348644919319, 'l2_leaf_reg': 6.521786276350217e-06, 'random_strength': 0.04469940372669922, 'bagging_temperature': 0.44895164233292045, 'border_count': 106}. Best is trial 68 with value: 0.21201482565938087.\n",
      "[I 2025-08-28 18:09:42,915] Trial 85 finished with value: 0.21502362377306525 and parameters: {'feature_selection': 'None', 'iterations': 850, 'depth': 6, 'learning_rate': 0.006609072863837408, 'l2_leaf_reg': 4.993178908834021e-06, 'random_strength': 0.30128992028916074, 'bagging_temperature': 0.5965995479086159, 'border_count': 69}. Best is trial 85 with value: 0.21502362377306525.\n",
      "[I 2025-08-28 18:09:50,846] Trial 84 finished with value: 0.20608488893190263 and parameters: {'feature_selection': 'None', 'iterations': 875, 'depth': 6, 'learning_rate': 0.007953707344609741, 'l2_leaf_reg': 3.7750334765284466e-05, 'random_strength': 0.03549114851512844, 'bagging_temperature': 0.6038676316975016, 'border_count': 105}. Best is trial 85 with value: 0.21502362377306525.\n",
      "[I 2025-08-28 18:11:06,100] Trial 50 finished with value: 0.15056974317845778 and parameters: {'feature_selection': 'RFE', 'k_features': 95, 'iterations': 625, 'depth': 8, 'learning_rate': 0.09800971997240904, 'l2_leaf_reg': 2.685839828248565e-08, 'random_strength': 9.707771807487914e-08, 'bagging_temperature': 0.0030232909159587495, 'border_count': 43}. Best is trial 85 with value: 0.21502362377306525.\n",
      "[I 2025-08-28 18:11:45,604] Trial 86 finished with value: 0.20989812127199992 and parameters: {'feature_selection': 'None', 'iterations': 900, 'depth': 6, 'learning_rate': 0.006768213978910798, 'l2_leaf_reg': 8.051244348543713e-06, 'random_strength': 0.25091435890226754, 'bagging_temperature': 0.5833181838162746, 'border_count': 104}. Best is trial 85 with value: 0.21502362377306525.\n",
      "[I 2025-08-28 18:12:06,775] Trial 89 finished with value: 0.20428097632696654 and parameters: {'feature_selection': 'None', 'iterations': 800, 'depth': 6, 'learning_rate': 0.006708844975845069, 'l2_leaf_reg': 0.0001255375122645236, 'random_strength': 0.017173532510594, 'bagging_temperature': 0.5256477552378762, 'border_count': 69}. Best is trial 85 with value: 0.21502362377306525.\n",
      "[I 2025-08-28 18:12:14,378] Trial 88 finished with value: 0.20986873396879116 and parameters: {'feature_selection': 'None', 'iterations': 900, 'depth': 6, 'learning_rate': 0.006938712476905376, 'l2_leaf_reg': 0.00020235591939129455, 'random_strength': 0.34055002916595684, 'bagging_temperature': 0.6245537576217787, 'border_count': 70}. Best is trial 85 with value: 0.21502362377306525.\n",
      "[I 2025-08-28 18:13:34,410] Trial 87 finished with value: 0.203574014828427 and parameters: {'feature_selection': 'None', 'iterations': 875, 'depth': 6, 'learning_rate': 0.006805296900121493, 'l2_leaf_reg': 3.355344942432715e-05, 'random_strength': 0.21855952321785052, 'bagging_temperature': 0.6064425948158311, 'border_count': 117}. Best is trial 85 with value: 0.21502362377306525.\n",
      "[I 2025-08-28 18:14:24,689] Trial 90 finished with value: 0.20535586496793234 and parameters: {'feature_selection': 'None', 'iterations': 800, 'depth': 6, 'learning_rate': 0.006852804036213149, 'l2_leaf_reg': 0.00015708576695445373, 'random_strength': 0.22239991432223621, 'bagging_temperature': 0.6010808919648466, 'border_count': 71}. Best is trial 85 with value: 0.21502362377306525.\n",
      "[I 2025-08-28 18:15:09,895] Trial 93 finished with value: 0.20586994695880206 and parameters: {'feature_selection': 'None', 'iterations': 900, 'depth': 6, 'learning_rate': 0.004195712599845528, 'l2_leaf_reg': 2.615119343691225e-06, 'random_strength': 0.34672728321885293, 'bagging_temperature': 0.6445944793523596, 'border_count': 79}. Best is trial 85 with value: 0.21502362377306525.\n",
      "[I 2025-08-28 18:15:30,392] Trial 91 finished with value: 0.21061626419299295 and parameters: {'feature_selection': 'None', 'iterations': 925, 'depth': 6, 'learning_rate': 0.006656003050074093, 'l2_leaf_reg': 3.6693905403626296e-06, 'random_strength': 0.30577908434537965, 'bagging_temperature': 0.5435955891719384, 'border_count': 116}. Best is trial 85 with value: 0.21502362377306525.\n",
      "[I 2025-08-28 18:16:03,389] Trial 92 finished with value: 0.22206174374997997 and parameters: {'feature_selection': 'None', 'iterations': 1000, 'depth': 6, 'learning_rate': 0.007248838524107211, 'l2_leaf_reg': 1.0107986273102835e-05, 'random_strength': 0.37691428103534386, 'bagging_temperature': 0.6403340768029067, 'border_count': 115}. Best is trial 92 with value: 0.22206174374997997.\n",
      "[I 2025-08-28 18:17:02,264] Trial 94 finished with value: 0.20539056209575457 and parameters: {'feature_selection': 'None', 'iterations': 1000, 'depth': 6, 'learning_rate': 0.0075502185784985945, 'l2_leaf_reg': 3.570363522149353e-06, 'random_strength': 0.28209038642190537, 'bagging_temperature': 0.7001888455838232, 'border_count': 51}. Best is trial 92 with value: 0.22206174374997997.\n",
      "[I 2025-08-28 18:17:32,865] Trial 96 finished with value: 0.195977127520531 and parameters: {'feature_selection': 'None', 'iterations': 1000, 'depth': 6, 'learning_rate': 0.007494894074484729, 'l2_leaf_reg': 1.035439573265144e-05, 'random_strength': 2.68230640769139e-08, 'bagging_temperature': 0.5458301265830766, 'border_count': 49}. Best is trial 92 with value: 0.22206174374997997.\n",
      "[I 2025-08-28 18:18:11,405] Trial 95 finished with value: 0.2173638589614578 and parameters: {'feature_selection': 'None', 'iterations': 925, 'depth': 6, 'learning_rate': 0.004197207618697591, 'l2_leaf_reg': 2.7398428732002047e-06, 'random_strength': 0.46618779174579705, 'bagging_temperature': 0.6528121032586359, 'border_count': 80}. Best is trial 92 with value: 0.22206174374997997.\n",
      "[I 2025-08-28 18:18:42,633] Trial 97 finished with value: 0.21241986356171094 and parameters: {'feature_selection': 'None', 'iterations': 975, 'depth': 6, 'learning_rate': 0.010088924017289901, 'l2_leaf_reg': 4.847592546641084e-06, 'random_strength': 0.45210789857447586, 'bagging_temperature': 0.5442678577906122, 'border_count': 88}. Best is trial 92 with value: 0.22206174374997997.\n",
      "[I 2025-08-28 18:19:20,992] Trial 98 finished with value: 0.2145658485260041 and parameters: {'feature_selection': 'None', 'iterations': 1000, 'depth': 6, 'learning_rate': 0.007593768536262041, 'l2_leaf_reg': 6.142918233056029e-06, 'random_strength': 0.46601745464994804, 'bagging_temperature': 0.5450414284021629, 'border_count': 88}. Best is trial 92 with value: 0.22206174374997997.\n",
      "[I 2025-08-28 18:20:43,297] Trial 100 finished with value: 0.206004197970406 and parameters: {'feature_selection': 'None', 'iterations': 925, 'depth': 6, 'learning_rate': 0.003193523882913081, 'l2_leaf_reg': 5.43585246593082e-06, 'random_strength': 0.5736993388780834, 'bagging_temperature': 0.6182411776966021, 'border_count': 92}. Best is trial 92 with value: 0.22206174374997997.\n",
      "[I 2025-08-28 18:21:00,472] Trial 99 finished with value: 0.21725714559773524 and parameters: {'feature_selection': 'None', 'iterations': 925, 'depth': 6, 'learning_rate': 0.009384594759879327, 'l2_leaf_reg': 1.439386783715126, 'random_strength': 0.5280110853506002, 'bagging_temperature': 0.5388983168575805, 'border_count': 88}. Best is trial 92 with value: 0.22206174374997997.\n",
      "[I 2025-08-28 18:21:30,734] Trial 102 finished with value: 0.20432266697761747 and parameters: {'feature_selection': 'None', 'iterations': 950, 'depth': 6, 'learning_rate': 0.010242396733545033, 'l2_leaf_reg': 1.943972076745641e-06, 'random_strength': 0.45617177073366655, 'bagging_temperature': 0.7011779779183629, 'border_count': 90}. Best is trial 92 with value: 0.22206174374997997.\n"
     ]
    },
    {
     "name": "stderr",
     "output_type": "stream",
     "text": [
      "\n",
      "\u001b[A\n",
      "\u001b[A\n",
      "\u001b[A\n",
      "\u001b[A\n",
      "\u001b[A\n",
      "\u001b[A\n",
      "\u001b[A\n",
      "\u001b[A\n",
      "\u001b[A\n",
      "\u001b[A\n",
      "\u001b[A\n",
      "\u001b[A\n",
      "\u001b[A\n",
      "\u001b[A\n",
      "\u001b[A\n",
      "\u001b[A\n",
      "\u001b[A\n",
      "100%|██████████| 25/25 [00:04<00:00,  5.26it/s]\n",
      "\n",
      "\u001b[A\n",
      "\u001b[A"
     ]
    },
    {
     "name": "stdout",
     "output_type": "stream",
     "text": [
      "Got MRMR features\n"
     ]
    },
    {
     "name": "stderr",
     "output_type": "stream",
     "text": [
      "\n",
      "\u001b[A\n",
      "\u001b[A\n",
      "\u001b[A\n",
      "100%|██████████| 25/25 [00:03<00:00,  7.12it/s]\n"
     ]
    },
    {
     "name": "stdout",
     "output_type": "stream",
     "text": [
      "Got MRMR features\n"
     ]
    },
    {
     "name": "stderr",
     "output_type": "stream",
     "text": [
      "100%|██████████| 25/25 [00:03<00:00,  8.02it/s]\n"
     ]
    },
    {
     "name": "stdout",
     "output_type": "stream",
     "text": [
      "Got MRMR features\n"
     ]
    },
    {
     "name": "stderr",
     "output_type": "stream",
     "text": [
      "\n",
      "\u001b[A                                   "
     ]
    },
    {
     "name": "stdout",
     "output_type": "stream",
     "text": [
      "[I 2025-08-28 18:21:51,669] Trial 103 finished with value: 0.20673254955443365 and parameters: {'feature_selection': 'None', 'iterations': 925, 'depth': 6, 'learning_rate': 0.00341114016307249, 'l2_leaf_reg': 5.5666826593038785e-06, 'random_strength': 0.5590438745662799, 'bagging_temperature': 0.6443786644212375, 'border_count': 89}. Best is trial 92 with value: 0.22206174374997997.\n"
     ]
    },
    {
     "name": "stderr",
     "output_type": "stream",
     "text": [
      "100%|██████████| 25/25 [00:03<00:00,  8.01it/s]\n"
     ]
    },
    {
     "name": "stdout",
     "output_type": "stream",
     "text": [
      "Got MRMR features\n"
     ]
    },
    {
     "name": "stderr",
     "output_type": "stream",
     "text": [
      "100%|██████████| 25/25 [00:03<00:00,  7.66it/s]\n"
     ]
    },
    {
     "name": "stdout",
     "output_type": "stream",
     "text": [
      "Got MRMR features\n"
     ]
    },
    {
     "name": "stderr",
     "output_type": "stream",
     "text": [
      "100%|██████████| 25/25 [00:03<00:00,  7.53it/s]\n"
     ]
    },
    {
     "name": "stdout",
     "output_type": "stream",
     "text": [
      "Got MRMR features\n"
     ]
    },
    {
     "name": "stderr",
     "output_type": "stream",
     "text": [
      "100%|██████████| 25/25 [00:02<00:00,  8.99it/s]\n"
     ]
    },
    {
     "name": "stdout",
     "output_type": "stream",
     "text": [
      "Got MRMR features\n"
     ]
    },
    {
     "name": "stderr",
     "output_type": "stream",
     "text": [
      "\n",
      "\u001b[A                                            \n"
     ]
    },
    {
     "name": "stdout",
     "output_type": "stream",
     "text": [
      "[I 2025-08-28 18:22:14,558] Trial 101 finished with value: 0.2198013536105612 and parameters: {'feature_selection': 'None', 'iterations': 925, 'depth': 6, 'learning_rate': 0.005374539212483786, 'l2_leaf_reg': 5.602114370435353e-06, 'random_strength': 0.5537965464114197, 'bagging_temperature': 0.6911498786642323, 'border_count': 88}. Best is trial 92 with value: 0.22206174374997997.\n"
     ]
    },
    {
     "name": "stderr",
     "output_type": "stream",
     "text": [
      " 48%|████▊     | 12/25 [00:01<00:02,  5.85it/s]\u001b[A\n",
      "\u001b[A\n",
      "\u001b[A\n",
      "\u001b[A\n",
      "\u001b[A\n",
      "100%|██████████| 25/25 [00:04<00:00,  6.10it/s]\n",
      "\n",
      "\u001b[A"
     ]
    },
    {
     "name": "stdout",
     "output_type": "stream",
     "text": [
      "Got MRMR features\n"
     ]
    },
    {
     "name": "stderr",
     "output_type": "stream",
     "text": [
      "\n",
      "\u001b[A\n",
      "\u001b[A\n",
      "\u001b[A\n",
      "\u001b[A\n",
      "\u001b[A\n",
      "\u001b[A\n",
      "\u001b[A\n",
      "\u001b[A\n",
      "\u001b[A\n",
      "\u001b[A\n",
      "\u001b[A\n",
      "\u001b[A\n",
      "\u001b[A\n",
      "100%|██████████| 25/25 [00:03<00:00,  6.73it/s]\n"
     ]
    },
    {
     "name": "stdout",
     "output_type": "stream",
     "text": [
      "Got MRMR features\n"
     ]
    },
    {
     "name": "stderr",
     "output_type": "stream",
     "text": [
      "\n",
      "\u001b[A                                           "
     ]
    },
    {
     "name": "stdout",
     "output_type": "stream",
     "text": [
      "[I 2025-08-28 18:22:21,937] Trial 104 finished with value: 0.15842022485436907 and parameters: {'feature_selection': 'MRMR', 'k_features': 25, 'iterations': 950, 'depth': 6, 'learning_rate': 0.005206454174431762, 'l2_leaf_reg': 0.030842011579301602, 'random_strength': 0.5468539076493864, 'bagging_temperature': 0.6931596423695494, 'border_count': 85}. Best is trial 92 with value: 0.22206174374997997.\n"
     ]
    },
    {
     "name": "stderr",
     "output_type": "stream",
     "text": [
      "100%|██████████| 25/25 [00:03<00:00,  6.72it/s]\n"
     ]
    },
    {
     "name": "stdout",
     "output_type": "stream",
     "text": [
      "Got MRMR features\n"
     ]
    },
    {
     "name": "stderr",
     "output_type": "stream",
     "text": [
      "100%|██████████| 25/25 [00:03<00:00,  6.93it/s]\n"
     ]
    },
    {
     "name": "stdout",
     "output_type": "stream",
     "text": [
      "Got MRMR features\n"
     ]
    },
    {
     "name": "stderr",
     "output_type": "stream",
     "text": [
      "100%|██████████| 25/25 [00:03<00:00,  7.10it/s]\n"
     ]
    },
    {
     "name": "stdout",
     "output_type": "stream",
     "text": [
      "Got MRMR features\n"
     ]
    },
    {
     "name": "stderr",
     "output_type": "stream",
     "text": [
      "100%|██████████| 25/25 [00:02<00:00, 10.19it/s]\n"
     ]
    },
    {
     "name": "stdout",
     "output_type": "stream",
     "text": [
      "Got MRMR features\n",
      "[I 2025-08-28 18:22:45,245] Trial 105 finished with value: 0.13459556196095335 and parameters: {'feature_selection': 'MRMR', 'k_features': 25, 'iterations': 975, 'depth': 6, 'learning_rate': 0.00956213988641734, 'l2_leaf_reg': 0.011980833813686972, 'random_strength': 0.5418556318098178, 'bagging_temperature': 0.579840351132918, 'border_count': 88}. Best is trial 92 with value: 0.22206174374997997.\n"
     ]
    },
    {
     "name": "stderr",
     "output_type": "stream",
     "text": [
      "100%|██████████| 25/25 [00:02<00:00,  9.82it/s]\n"
     ]
    },
    {
     "name": "stdout",
     "output_type": "stream",
     "text": [
      "Got MRMR features\n"
     ]
    },
    {
     "name": "stderr",
     "output_type": "stream",
     "text": [
      "100%|██████████| 25/25 [00:03<00:00,  7.02it/s]\n"
     ]
    },
    {
     "name": "stdout",
     "output_type": "stream",
     "text": [
      "Got MRMR features\n",
      "[I 2025-08-28 18:23:05,756] Trial 108 finished with value: 0.16347262185858438 and parameters: {'feature_selection': 'MRMR', 'k_features': 25, 'iterations': 975, 'depth': 6, 'learning_rate': 0.005280959261784961, 'l2_leaf_reg': 0.27218418303186226, 'random_strength': 1.4305714614040994, 'bagging_temperature': 0.5490166945086675, 'border_count': 80}. Best is trial 92 with value: 0.22206174374997997.\n",
      "[I 2025-08-28 18:23:26,580] Trial 106 finished with value: 0.2166500159317417 and parameters: {'feature_selection': 'None', 'iterations': 975, 'depth': 6, 'learning_rate': 0.005451507268392511, 'l2_leaf_reg': 0.7606335369202869, 'random_strength': 1.2845516428449548, 'bagging_temperature': 0.6417819235402482, 'border_count': 87}. Best is trial 92 with value: 0.22206174374997997.\n",
      "[I 2025-08-28 18:23:31,906] Trial 107 finished with value: 0.22488702866879687 and parameters: {'feature_selection': 'None', 'iterations': 975, 'depth': 6, 'learning_rate': 0.009537369994101248, 'l2_leaf_reg': 0.021630401363964234, 'random_strength': 1.3771289583534754, 'bagging_temperature': 0.5762275089148767, 'border_count': 81}. Best is trial 107 with value: 0.22488702866879687.\n",
      "[I 2025-08-28 18:27:34,005] Trial 52 finished with value: 0.18997260650160327 and parameters: {'feature_selection': 'RFE', 'k_features': 95, 'iterations': 625, 'depth': 7, 'learning_rate': 0.017171942802134944, 'l2_leaf_reg': 1.5359406744230281e-07, 'random_strength': 1.6148076186538676e-08, 'bagging_temperature': 0.6169106100034744, 'border_count': 118}. Best is trial 107 with value: 0.22488702866879687.\n",
      "[I 2025-08-28 18:40:41,391] Trial 114 finished with value: 0.1569201568167213 and parameters: {'feature_selection': 'None', 'iterations': 1000, 'depth': 10, 'learning_rate': 0.006060258691609635, 'l2_leaf_reg': 1.532777941752964, 'random_strength': 3.3593633891473886, 'bagging_temperature': 0.670313521156906, 'border_count': 77}. Best is trial 107 with value: 0.22488702866879687.\n",
      "[I 2025-08-28 18:41:27,503] Trial 115 finished with value: 0.14054191481400996 and parameters: {'feature_selection': 'None', 'iterations': 925, 'depth': 6, 'learning_rate': 0.004228439429696186, 'l2_leaf_reg': 6.104576946844285, 'random_strength': 3.9380072031457383, 'bagging_temperature': 0.5347606583397209, 'border_count': 67}. Best is trial 107 with value: 0.22488702866879687.\n",
      "[I 2025-08-28 18:42:31,833] Trial 116 finished with value: 0.22322879511622595 and parameters: {'feature_selection': 'None', 'iterations': 975, 'depth': 6, 'learning_rate': 0.008180926508929822, 'l2_leaf_reg': 0.7600257390787865, 'random_strength': 1.4636847627910083, 'bagging_temperature': 0.5627695288569527, 'border_count': 96}. Best is trial 107 with value: 0.22488702866879687.\n",
      "[I 2025-08-28 18:43:36,293] Trial 117 finished with value: 0.20412346210282814 and parameters: {'feature_selection': 'None', 'iterations': 975, 'depth': 6, 'learning_rate': 0.008451011978821523, 'l2_leaf_reg': 0.5533772656344957, 'random_strength': 8.031598875367102, 'bagging_temperature': 0.6514588629238358, 'border_count': 96}. Best is trial 107 with value: 0.22488702866879687.\n",
      "[I 2025-08-28 18:44:27,814] Trial 118 finished with value: 0.20701560291783597 and parameters: {'feature_selection': 'None', 'iterations': 950, 'depth': 6, 'learning_rate': 0.006125780382086206, 'l2_leaf_reg': 0.13308603555687318, 'random_strength': 1.5162622937774253, 'bagging_temperature': 0.5107694520648788, 'border_count': 75}. Best is trial 107 with value: 0.22488702866879687.\n",
      "[I 2025-08-28 18:45:26,392] Trial 119 finished with value: 0.20130014770355942 and parameters: {'feature_selection': 'None', 'iterations': 1000, 'depth': 6, 'learning_rate': 0.012360784991817926, 'l2_leaf_reg': 0.9087878249714557, 'random_strength': 0.716269784353731, 'bagging_temperature': 0.56749002829954, 'border_count': 82}. Best is trial 107 with value: 0.22488702866879687.\n",
      "[I 2025-08-28 18:52:35,803] Trial 120 finished with value: 0.20189285224822306 and parameters: {'feature_selection': 'None', 'iterations': 925, 'depth': 9, 'learning_rate': 0.008026165394279056, 'l2_leaf_reg': 1.7415669924974753, 'random_strength': 0.9824908119789493, 'bagging_temperature': 0.7392120371862296, 'border_count': 96}. Best is trial 107 with value: 0.22488702866879687.\n",
      "[I 2025-08-28 18:53:52,421] Trial 121 finished with value: 0.21455195221710702 and parameters: {'feature_selection': 'None', 'iterations': 975, 'depth': 6, 'learning_rate': 0.010211041050401003, 'l2_leaf_reg': 0.08871546453603074, 'random_strength': 5.700703701761071, 'bagging_temperature': 0.6000775230174695, 'border_count': 100}. Best is trial 107 with value: 0.22488702866879687.\n",
      "[I 2025-08-28 19:21:20,538] Trial 112 finished with value: 0.20771991527035275 and parameters: {'feature_selection': 'RFE', 'k_features': 85, 'iterations': 1000, 'depth': 6, 'learning_rate': 0.004322551963005431, 'l2_leaf_reg': 1.0614172226503046e-06, 'random_strength': 3.564096515727835, 'bagging_temperature': 0.6633013442747057, 'border_count': 251}. Best is trial 107 with value: 0.22488702866879687.\n",
      "[I 2025-08-28 19:22:35,161] Trial 113 finished with value: 0.19214728289467523 and parameters: {'feature_selection': 'RFE', 'k_features': 65, 'iterations': 1000, 'depth': 6, 'learning_rate': 0.00608071620575913, 'l2_leaf_reg': 9.728169440475694, 'random_strength': 5.520280159177871, 'bagging_temperature': 0.6684530942523087, 'border_count': 75}. Best is trial 107 with value: 0.22488702866879687.\n",
      "[I 2025-08-28 19:22:36,313] Trial 123 finished with value: 0.20918655942731085 and parameters: {'feature_selection': 'None', 'iterations': 975, 'depth': 6, 'learning_rate': 0.010138626130581627, 'l2_leaf_reg': 0.09538370767516356, 'random_strength': 5.147121276333257, 'bagging_temperature': 0.593707526824193, 'border_count': 100}. Best is trial 107 with value: 0.22488702866879687.\n",
      "[I 2025-08-28 19:24:19,283] Trial 124 finished with value: 0.22192456329120852 and parameters: {'feature_selection': 'None', 'iterations': 975, 'depth': 6, 'learning_rate': 0.010900580644321126, 'l2_leaf_reg': 0.18060593477729597, 'random_strength': 1.7781005805374737, 'bagging_temperature': 0.6322599308441449, 'border_count': 87}. Best is trial 107 with value: 0.22488702866879687.\n",
      "[I 2025-08-28 19:24:19,335] Trial 125 finished with value: 0.21494041661278285 and parameters: {'feature_selection': 'None', 'iterations': 950, 'depth': 6, 'learning_rate': 0.01069580192501462, 'l2_leaf_reg': 0.2856091377810485, 'random_strength': 1.8831691952722869, 'bagging_temperature': 0.6351808646790648, 'border_count': 87}. Best is trial 107 with value: 0.22488702866879687.\n",
      "[I 2025-08-28 19:24:31,399] Trial 109 finished with value: 0.1964899716140613 and parameters: {'feature_selection': 'RFE', 'k_features': 25, 'iterations': 975, 'depth': 6, 'learning_rate': 0.006102705206538562, 'l2_leaf_reg': 4.075764440402241, 'random_strength': 1.3776429395337433, 'bagging_temperature': 0.5496074032256931, 'border_count': 81}. Best is trial 107 with value: 0.22488702866879687.\n",
      "[I 2025-08-28 19:24:50,229] Trial 110 finished with value: 0.21459072893869488 and parameters: {'feature_selection': 'RFE', 'k_features': 65, 'iterations': 975, 'depth': 6, 'learning_rate': 0.008297317977323556, 'l2_leaf_reg': 0.16035521465582858, 'random_strength': 1.3283745949276358, 'bagging_temperature': 0.5658651986223058, 'border_count': 81}. Best is trial 107 with value: 0.22488702866879687.\n",
      "[I 2025-08-28 19:26:29,766] Trial 126 finished with value: 0.21602032893446665 and parameters: {'feature_selection': 'None', 'iterations': 950, 'depth': 6, 'learning_rate': 0.011699855260477626, 'l2_leaf_reg': 0.38563808312041925, 'random_strength': 1.9607674555586132, 'bagging_temperature': 0.6315771882843754, 'border_count': 87}. Best is trial 107 with value: 0.22488702866879687.\n",
      "[I 2025-08-28 19:26:30,677] Trial 127 finished with value: 0.21999589924347837 and parameters: {'feature_selection': 'None', 'iterations': 950, 'depth': 6, 'learning_rate': 0.010991660853798898, 'l2_leaf_reg': 0.3203727299685104, 'random_strength': 2.0044115507425095, 'bagging_temperature': 0.6905051276263128, 'border_count': 87}. Best is trial 107 with value: 0.22488702866879687.\n",
      "[I 2025-08-28 19:26:35,244] Trial 128 finished with value: 0.2199311879790234 and parameters: {'feature_selection': 'None', 'iterations': 950, 'depth': 6, 'learning_rate': 0.011210303086270046, 'l2_leaf_reg': 0.39529125902973483, 'random_strength': 2.0510122374425435, 'bagging_temperature': 0.6367551446565742, 'border_count': 86}. Best is trial 107 with value: 0.22488702866879687.\n",
      "[I 2025-08-28 19:27:18,035] Trial 132 finished with value: 0.20117429555010052 and parameters: {'feature_selection': 'None', 'iterations': 850, 'depth': 6, 'learning_rate': 0.011606007951150427, 'l2_leaf_reg': 0.46617965163905134, 'random_strength': 2.2064242163864245, 'bagging_temperature': 0.754964128829144, 'border_count': 64}. Best is trial 107 with value: 0.22488702866879687.\n",
      "[I 2025-08-28 19:28:21,385] Trial 111 finished with value: 0.15478812974039707 and parameters: {'feature_selection': 'RFE', 'k_features': 65, 'iterations': 925, 'depth': 10, 'learning_rate': 0.004222845063844527, 'l2_leaf_reg': 3.3252533148152397, 'random_strength': 2.7928530207585047, 'bagging_temperature': 0.6667291922551097, 'border_count': 95}. Best is trial 107 with value: 0.22488702866879687.\n",
      "[I 2025-08-28 19:28:55,476] Trial 133 finished with value: 0.2180657289168356 and parameters: {'feature_selection': 'None', 'iterations': 900, 'depth': 6, 'learning_rate': 0.01469143550192336, 'l2_leaf_reg': 0.2975229748468977, 'random_strength': 2.3720642340405758, 'bagging_temperature': 0.6385210972525566, 'border_count': 94}. Best is trial 107 with value: 0.22488702866879687.\n",
      "[I 2025-08-28 19:29:52,528] Trial 134 finished with value: 0.22934083701366897 and parameters: {'feature_selection': 'None', 'iterations': 950, 'depth': 6, 'learning_rate': 0.013739695912579904, 'l2_leaf_reg': 0.37876105540163807, 'random_strength': 0.8189465207496944, 'bagging_temperature': 0.6355730275250125, 'border_count': 73}. Best is trial 134 with value: 0.22934083701366897.\n",
      "[I 2025-08-28 19:30:09,938] Trial 135 finished with value: 0.20747461233787995 and parameters: {'feature_selection': 'None', 'iterations': 900, 'depth': 6, 'learning_rate': 0.018353699721940855, 'l2_leaf_reg': 0.6349435741032937, 'random_strength': 0.8408571991209871, 'bagging_temperature': 0.7199196438289954, 'border_count': 75}. Best is trial 134 with value: 0.22934083701366897.\n",
      "[I 2025-08-28 19:31:14,853] Trial 136 finished with value: 0.21156486461117022 and parameters: {'feature_selection': 'None', 'iterations': 900, 'depth': 6, 'learning_rate': 0.01424223540132294, 'l2_leaf_reg': 0.8200686774103257, 'random_strength': 0.9309816846737613, 'bagging_temperature': 0.6886933772992815, 'border_count': 74}. Best is trial 134 with value: 0.22934083701366897.\n",
      "[I 2025-08-28 19:31:18,160] Trial 137 finished with value: 0.20002487415407205 and parameters: {'feature_selection': 'None', 'iterations': 875, 'depth': 6, 'learning_rate': 0.020075147081204996, 'l2_leaf_reg': 1.4512275080703188, 'random_strength': 9.841506808210038, 'bagging_temperature': 0.689101796499432, 'border_count': 68}. Best is trial 134 with value: 0.22934083701366897.\n",
      "[I 2025-08-28 19:32:42,182] Trial 138 finished with value: 0.19851626559530475 and parameters: {'feature_selection': 'None', 'iterations': 950, 'depth': 6, 'learning_rate': 0.02205402516219694, 'l2_leaf_reg': 1.426760112381088, 'random_strength': 0.1614615122205253, 'bagging_temperature': 0.6249477620021803, 'border_count': 68}. Best is trial 134 with value: 0.22934083701366897.\n",
      "[I 2025-08-28 19:32:42,403] Trial 139 finished with value: 0.21691819364670803 and parameters: {'feature_selection': 'None', 'iterations': 950, 'depth': 6, 'learning_rate': 0.014944069762927491, 'l2_leaf_reg': 0.3310809692539023, 'random_strength': 2.0459444676495937, 'bagging_temperature': 0.6220706607601738, 'border_count': 84}. Best is trial 134 with value: 0.22934083701366897.\n",
      "[I 2025-08-28 19:34:16,409] Trial 141 finished with value: 0.22569200296966252 and parameters: {'feature_selection': 'None', 'iterations': 950, 'depth': 6, 'learning_rate': 0.015045267072295802, 'l2_leaf_reg': 0.3870753241433426, 'random_strength': 2.332353985920534, 'bagging_temperature': 0.7157169722601614, 'border_count': 92}. Best is trial 134 with value: 0.22934083701366897.\n",
      "[I 2025-08-28 19:34:28,460] Trial 140 finished with value: 0.21457486256120095 and parameters: {'feature_selection': 'None', 'iterations': 950, 'depth': 6, 'learning_rate': 0.012442491569771594, 'l2_leaf_reg': 0.38621019907314325, 'random_strength': 2.203184037780879, 'bagging_temperature': 0.7153540337537291, 'border_count': 84}. Best is trial 134 with value: 0.22934083701366897.\n",
      "[I 2025-08-28 19:35:48,811] Trial 142 finished with value: 0.20710288698265672 and parameters: {'feature_selection': 'None', 'iterations': 875, 'depth': 6, 'learning_rate': 0.014977297138591921, 'l2_leaf_reg': 0.06580316955947843, 'random_strength': 3.427775603182692, 'bagging_temperature': 0.6479884590299235, 'border_count': 94}. Best is trial 134 with value: 0.22934083701366897.\n",
      "[I 2025-08-28 19:36:11,897] Trial 143 finished with value: 0.2116651092167446 and parameters: {'feature_selection': 'None', 'iterations': 875, 'depth': 6, 'learning_rate': 0.014951223708588599, 'l2_leaf_reg': 0.19665140258007804, 'random_strength': 3.8490840963241753, 'bagging_temperature': 0.6496761873277703, 'border_count': 93}. Best is trial 134 with value: 0.22934083701366897.\n",
      "[I 2025-08-28 19:37:23,503] Trial 144 finished with value: 0.20962119946485913 and parameters: {'feature_selection': 'None', 'iterations': 925, 'depth': 6, 'learning_rate': 0.01322687267729288, 'l2_leaf_reg': 0.1687092362851705, 'random_strength': 0.9042013316199004, 'bagging_temperature': 0.7100752006702726, 'border_count': 91}. Best is trial 134 with value: 0.22934083701366897.\n",
      "[I 2025-08-28 19:37:52,700] Trial 145 finished with value: 0.20785014400930377 and parameters: {'feature_selection': 'None', 'iterations': 925, 'depth': 6, 'learning_rate': 0.01278793298938848, 'l2_leaf_reg': 2.148146943063818, 'random_strength': 0.88832481269031, 'bagging_temperature': 0.8017398076982997, 'border_count': 79}. Best is trial 134 with value: 0.22934083701366897.\n",
      "[I 2025-08-28 19:38:54,708] Trial 146 finished with value: 0.21452129518975385 and parameters: {'feature_selection': 'None', 'iterations': 950, 'depth': 6, 'learning_rate': 0.011553898093500312, 'l2_leaf_reg': 0.9497724401754386, 'random_strength': 1.7467968914957217, 'bagging_temperature': 0.8077991386418039, 'border_count': 84}. Best is trial 134 with value: 0.22934083701366897.\n",
      "[I 2025-08-28 19:39:33,138] Trial 147 finished with value: 0.21426771661694666 and parameters: {'feature_selection': 'None', 'iterations': 950, 'depth': 6, 'learning_rate': 0.011266872733821582, 'l2_leaf_reg': 0.9924893597499154, 'random_strength': 2.2584997317165683, 'bagging_temperature': 0.618301429191715, 'border_count': 84}. Best is trial 134 with value: 0.22934083701366897.\n",
      "[I 2025-08-28 19:40:06,610] Trial 148 finished with value: 0.2075531865882672 and parameters: {'feature_selection': 'None', 'iterations': 950, 'depth': 6, 'learning_rate': 0.015897969620653495, 'l2_leaf_reg': 0.35697123381825485, 'random_strength': 2.4480026784767475, 'bagging_temperature': 0.6807831991916717, 'border_count': 58}. Best is trial 134 with value: 0.22934083701366897.\n",
      "[I 2025-08-28 19:41:13,037] Trial 149 finished with value: 0.2041227750917672 and parameters: {'feature_selection': 'None', 'iterations': 900, 'depth': 6, 'learning_rate': 0.016470424887284785, 'l2_leaf_reg': 0.3451440806189919, 'random_strength': 7.099686234500669, 'bagging_temperature': 0.6290389912687244, 'border_count': 57}. Best is trial 134 with value: 0.22934083701366897.\n",
      "[I 2025-08-28 19:42:59,466] Trial 150 finished with value: 0.19709895552198659 and parameters: {'feature_selection': 'None', 'iterations': 900, 'depth': 6, 'learning_rate': 0.009247685735012664, 'l2_leaf_reg': 0.6505492132966474, 'random_strength': 6.8493807432477105, 'bagging_temperature': 0.6309666833125316, 'border_count': 225}. Best is trial 134 with value: 0.22934083701366897.\n",
      "[I 2025-08-28 19:43:32,250] Trial 151 finished with value: 0.20453735542356197 and parameters: {'feature_selection': 'None', 'iterations': 975, 'depth': 6, 'learning_rate': 0.014580014565108754, 'l2_leaf_reg': 0.2290329966341661, 'random_strength': 0.7350761735783733, 'bagging_temperature': 0.7444207029878872, 'border_count': 89}. Best is trial 134 with value: 0.22934083701366897.\n",
      "[I 2025-08-28 19:44:37,565] Trial 152 finished with value: 0.21655295974407932 and parameters: {'feature_selection': 'None', 'iterations': 975, 'depth': 6, 'learning_rate': 0.022240734552126454, 'l2_leaf_reg': 0.049712008038023024, 'random_strength': 1.3698817039838236, 'bagging_temperature': 0.7487982783581518, 'border_count': 89}. Best is trial 134 with value: 0.22934083701366897.\n",
      "[I 2025-08-28 19:45:37,504] Trial 153 finished with value: 0.21782546844570846 and parameters: {'feature_selection': 'None', 'iterations': 1000, 'depth': 6, 'learning_rate': 0.009333442655788109, 'l2_leaf_reg': 0.11306178855285669, 'random_strength': 1.2781650567123553, 'bagging_temperature': 0.6811758388267577, 'border_count': 106}. Best is trial 134 with value: 0.22934083701366897.\n",
      "[I 2025-08-28 19:46:32,507] Trial 154 finished with value: 0.2065566010859455 and parameters: {'feature_selection': 'None', 'iterations': 1000, 'depth': 6, 'learning_rate': 0.02656743416446684, 'l2_leaf_reg': 0.02401480325872623, 'random_strength': 1.1847555434639212, 'bagging_temperature': 0.7711414312707399, 'border_count': 106}. Best is trial 134 with value: 0.22934083701366897.\n",
      "[I 2025-08-28 19:47:49,421] Trial 155 finished with value: 0.20129402121383108 and parameters: {'feature_selection': 'None', 'iterations': 1000, 'depth': 6, 'learning_rate': 0.009279718496012892, 'l2_leaf_reg': 0.021890233163597714, 'random_strength': 0.18097062238902065, 'bagging_temperature': 0.9682626026994723, 'border_count': 107}. Best is trial 134 with value: 0.22934083701366897.\n",
      "[I 2025-08-28 19:48:24,913] Trial 156 finished with value: 0.22310723124054505 and parameters: {'feature_selection': 'None', 'iterations': 1000, 'depth': 6, 'learning_rate': 0.009277757968292735, 'l2_leaf_reg': 0.03607949335371507, 'random_strength': 1.2399382952166402, 'bagging_temperature': 0.6856911883587572, 'border_count': 102}. Best is trial 134 with value: 0.22934083701366897.\n",
      "[I 2025-08-28 19:49:55,170] Trial 157 finished with value: 0.20686569520482925 and parameters: {'feature_selection': 'None', 'iterations': 975, 'depth': 6, 'learning_rate': 0.018406351913118835, 'l2_leaf_reg': 0.05024287193985161, 'random_strength': 1.3127850028091381, 'bagging_temperature': 0.6862264621668611, 'border_count': 102}. Best is trial 134 with value: 0.22934083701366897.\n",
      "[I 2025-08-28 19:50:09,291] Trial 158 finished with value: 0.20719030749970524 and parameters: {'feature_selection': 'None', 'iterations': 925, 'depth': 6, 'learning_rate': 0.010742613822612044, 'l2_leaf_reg': 0.12443828370701572, 'random_strength': 4.175427597043164, 'bagging_temperature': 0.688356334603528, 'border_count': 102}. Best is trial 134 with value: 0.22934083701366897.\n",
      "[I 2025-08-28 19:50:47,177] Trial 122 finished with value: 0.20767127395919163 and parameters: {'feature_selection': 'RFE', 'k_features': 65, 'iterations': 975, 'depth': 6, 'learning_rate': 0.01049155941930793, 'l2_leaf_reg': 0.09761383109528327, 'random_strength': 5.827817657629633, 'bagging_temperature': 0.5945088759366888, 'border_count': 101}. Best is trial 134 with value: 0.22934083701366897.\n",
      "[I 2025-08-28 19:52:21,477] Trial 159 finished with value: 0.21575375568746785 and parameters: {'feature_selection': 'None', 'iterations': 925, 'depth': 6, 'learning_rate': 0.009482827575799688, 'l2_leaf_reg': 0.11405181026794867, 'random_strength': 4.187019754796866, 'bagging_temperature': 0.661135267876478, 'border_count': 97}. Best is trial 134 with value: 0.22934083701366897.\n",
      "[I 2025-08-28 19:52:24,358] Trial 160 finished with value: 0.21989693268063865 and parameters: {'feature_selection': 'None', 'iterations': 1000, 'depth': 6, 'learning_rate': 0.0091190754729209, 'l2_leaf_reg': 0.07966760569747253, 'random_strength': 0.645308342363197, 'bagging_temperature': 0.6666104950881007, 'border_count': 95}. Best is trial 134 with value: 0.22934083701366897.\n",
      "[I 2025-08-28 19:53:12,447] Trial 161 finished with value: 0.21618316055146142 and parameters: {'feature_selection': 'None', 'iterations': 1000, 'depth': 6, 'learning_rate': 0.013748142913017146, 'l2_leaf_reg': 0.23740938159485, 'random_strength': 0.5858417747020901, 'bagging_temperature': 0.6581784561695686, 'border_count': 94}. Best is trial 134 with value: 0.22934083701366897.\n",
      "[I 2025-08-28 19:54:44,328] Trial 163 finished with value: 0.21556428533836725 and parameters: {'feature_selection': 'None', 'iterations': 1000, 'depth': 6, 'learning_rate': 0.01414489400504923, 'l2_leaf_reg': 0.014439976426311275, 'random_strength': 0.41536237685142235, 'bagging_temperature': 0.7307403138004337, 'border_count': 93}. Best is trial 134 with value: 0.22934083701366897.\n",
      "[I 2025-08-28 19:54:59,129] Trial 162 finished with value: 0.20239300997521692 and parameters: {'feature_selection': 'None', 'iterations': 1000, 'depth': 6, 'learning_rate': 0.012800209987332497, 'l2_leaf_reg': 0.009717340506789105, 'random_strength': 0.5936541100352151, 'bagging_temperature': 0.7175616882112191, 'border_count': 78}. Best is trial 134 with value: 0.22934083701366897.\n",
      "[I 2025-08-28 19:55:12,282] Trial 164 finished with value: 0.21341069034349971 and parameters: {'feature_selection': 'None', 'iterations': 925, 'depth': 6, 'learning_rate': 0.008712090264545266, 'l2_leaf_reg': 0.008602004041041958, 'random_strength': 0.3887091657395265, 'bagging_temperature': 0.7174193320808581, 'border_count': 78}. Best is trial 134 with value: 0.22934083701366897.\n",
      "[I 2025-08-28 19:56:40,111] Trial 165 finished with value: 0.2128995718316946 and parameters: {'feature_selection': 'None', 'iterations': 950, 'depth': 6, 'learning_rate': 0.008918867519899986, 'l2_leaf_reg': 0.514339391169062, 'random_strength': 0.6601275638693679, 'bagging_temperature': 0.7148213378768257, 'border_count': 79}. Best is trial 134 with value: 0.22934083701366897.\n",
      "[I 2025-08-28 19:57:11,948] Trial 167 finished with value: 0.21883808393772936 and parameters: {'feature_selection': 'None', 'iterations': 950, 'depth': 6, 'learning_rate': 0.008984412934651452, 'l2_leaf_reg': 0.5737484888492758, 'random_strength': 1.1416944191355884, 'bagging_temperature': 0.6135572149793413, 'border_count': 82}. Best is trial 134 with value: 0.22934083701366897.\n",
      "[I 2025-08-28 19:57:23,104] Trial 166 finished with value: 0.20503817204366262 and parameters: {'feature_selection': 'None', 'iterations': 950, 'depth': 6, 'learning_rate': 0.008976706706563326, 'l2_leaf_reg': 0.07386542686562657, 'random_strength': 1.2776243698996554, 'bagging_temperature': 0.6065652215136744, 'border_count': 83}. Best is trial 134 with value: 0.22934083701366897.\n",
      "[I 2025-08-28 19:58:50,517] Trial 168 finished with value: 0.2098858941186347 and parameters: {'feature_selection': 'None', 'iterations': 975, 'depth': 6, 'learning_rate': 0.007928870022576879, 'l2_leaf_reg': 0.06954231430770616, 'random_strength': 1.12024626930907, 'bagging_temperature': 0.6145242067854655, 'border_count': 85}. Best is trial 134 with value: 0.22934083701366897.\n",
      "[I 2025-08-28 19:59:32,121] Trial 169 finished with value: 0.20762511879538764 and parameters: {'feature_selection': 'None', 'iterations': 950, 'depth': 6, 'learning_rate': 0.007800242846584646, 'l2_leaf_reg': 0.1632065055874899, 'random_strength': 2.6204711016090516, 'bagging_temperature': 0.617480859498567, 'border_count': 97}. Best is trial 134 with value: 0.22934083701366897.\n",
      "[I 2025-08-28 20:00:13,613] Trial 170 finished with value: 0.21413718605198442 and parameters: {'feature_selection': 'None', 'iterations': 975, 'depth': 6, 'learning_rate': 0.008040187007140868, 'l2_leaf_reg': 2.550044050540785, 'random_strength': 2.4296592649216784, 'bagging_temperature': 0.5748499812904359, 'border_count': 96}. Best is trial 134 with value: 0.22934083701366897.\n",
      "[I 2025-08-28 20:01:00,605] Trial 171 finished with value: 0.12180677585384914 and parameters: {'feature_selection': 'None', 'iterations': 900, 'depth': 6, 'learning_rate': 0.0014488793630158885, 'l2_leaf_reg': 0.03489104080928093, 'random_strength': 2.7075893780190223, 'bagging_temperature': 0.581982445940826, 'border_count': 98}. Best is trial 134 with value: 0.22934083701366897.\n",
      "[I 2025-08-28 20:01:23,651] Trial 172 finished with value: 0.2149301533010756 and parameters: {'feature_selection': 'None', 'iterations': 900, 'depth': 6, 'learning_rate': 0.012215453224422062, 'l2_leaf_reg': 0.03882311961690895, 'random_strength': 0.24473391331327182, 'bagging_temperature': 0.5767084506382057, 'border_count': 73}. Best is trial 134 with value: 0.22934083701366897.\n",
      "[I 2025-08-28 20:02:41,610] Trial 173 finished with value: 0.21361546153829142 and parameters: {'feature_selection': 'None', 'iterations': 900, 'depth': 6, 'learning_rate': 0.01209812106140981, 'l2_leaf_reg': 0.22175521294246014, 'random_strength': 0.2512708151708472, 'bagging_temperature': 0.6741993037123233, 'border_count': 93}. Best is trial 134 with value: 0.22934083701366897.\n",
      "[I 2025-08-28 20:02:54,318] Trial 174 finished with value: 0.20026986146791687 and parameters: {'feature_selection': 'None', 'iterations': 925, 'depth': 6, 'learning_rate': 0.012024341024566572, 'l2_leaf_reg': 0.21680320326706476, 'random_strength': 0.0877694306441433, 'bagging_temperature': 0.6724196448709381, 'border_count': 72}. Best is trial 134 with value: 0.22934083701366897.\n",
      "[I 2025-08-28 20:03:54,527] Trial 175 finished with value: 0.1974214216962273 and parameters: {'feature_selection': 'None', 'iterations': 1000, 'depth': 6, 'learning_rate': 0.009840613212435472, 'l2_leaf_reg': 0.20904722734985456, 'random_strength': 0.10761250618749989, 'bagging_temperature': 0.6769637505493452, 'border_count': 108}. Best is trial 134 with value: 0.22934083701366897.\n",
      "[I 2025-08-28 20:05:10,350] Trial 177 finished with value: 0.22191937134472228 and parameters: {'feature_selection': 'None', 'iterations': 1000, 'depth': 6, 'learning_rate': 0.009824258637982667, 'l2_leaf_reg': 0.3482621028093162, 'random_strength': 0.8922816957617044, 'bagging_temperature': 0.6451032486987012, 'border_count': 87}. Best is trial 134 with value: 0.22934083701366897.\n",
      "[I 2025-08-28 20:05:25,221] Trial 176 finished with value: 0.21456122728668214 and parameters: {'feature_selection': 'None', 'iterations': 1000, 'depth': 6, 'learning_rate': 0.009874210539285921, 'l2_leaf_reg': 1.0141423497871254, 'random_strength': 0.816165590432716, 'bagging_temperature': 0.6438433432754557, 'border_count': 88}. Best is trial 134 with value: 0.22934083701366897.\n",
      "[I 2025-08-28 20:06:08,829] Trial 178 finished with value: 0.2096000696543167 and parameters: {'feature_selection': 'None', 'iterations': 975, 'depth': 6, 'learning_rate': 0.010787318603420774, 'l2_leaf_reg': 0.0044066159905853395, 'random_strength': 0.8389593762158293, 'bagging_temperature': 0.6398394930064263, 'border_count': 90}. Best is trial 134 with value: 0.22934083701366897.\n"
     ]
    },
    {
     "name": "stderr",
     "output_type": "stream",
     "text": [
      "100%|██████████| 55/55 [00:05<00:00, 10.70it/s]\n"
     ]
    },
    {
     "name": "stdout",
     "output_type": "stream",
     "text": [
      "Got MRMR features\n"
     ]
    },
    {
     "name": "stderr",
     "output_type": "stream",
     "text": [
      "\n",
      "\u001b[A                                            "
     ]
    },
    {
     "name": "stdout",
     "output_type": "stream",
     "text": [
      "[I 2025-08-28 20:06:58,256] Trial 179 finished with value: 0.21932119001350628 and parameters: {'feature_selection': 'None', 'iterations': 975, 'depth': 6, 'learning_rate': 0.01056963255460568, 'l2_leaf_reg': 0.5388502204794894, 'random_strength': 1.680916905910565, 'bagging_temperature': 0.6470408811379972, 'border_count': 90}. Best is trial 134 with value: 0.22934083701366897.\n"
     ]
    },
    {
     "name": "stderr",
     "output_type": "stream",
     "text": [
      "\n",
      "\u001b[A\n",
      "\u001b[A\n",
      "\u001b[A\n",
      "\u001b[A\n",
      "100%|██████████| 55/55 [00:07<00:00,  7.68it/s]\n",
      "\n",
      "\u001b[A"
     ]
    },
    {
     "name": "stdout",
     "output_type": "stream",
     "text": [
      "Got MRMR features\n"
     ]
    },
    {
     "name": "stderr",
     "output_type": "stream",
     "text": [
      "\n",
      "\u001b[A\n",
      "\u001b[A\n",
      "\u001b[A\n",
      "\u001b[A\n",
      "\u001b[A\n",
      "\u001b[A\n",
      "\u001b[A\n",
      "\u001b[A\n",
      "\u001b[A\n",
      "\u001b[A\n",
      "\u001b[A\n",
      "\u001b[A\n",
      "\u001b[A\n",
      "\u001b[A\n",
      "\u001b[A\n",
      "\u001b[A\n",
      "\u001b[A\n",
      "\u001b[A\n",
      "\u001b[A\n",
      "\u001b[A\n",
      "\u001b[A\n",
      "100%|██████████| 55/55 [00:04<00:00, 11.83it/s]\n"
     ]
    },
    {
     "name": "stdout",
     "output_type": "stream",
     "text": [
      "Got MRMR features\n"
     ]
    },
    {
     "name": "stderr",
     "output_type": "stream",
     "text": [
      "\n",
      "\u001b[A\n",
      "\u001b[A\n",
      "\u001b[A\n",
      "\u001b[A\n",
      "\u001b[A\n",
      "\u001b[A\n",
      "\u001b[A\n",
      "\u001b[A\n",
      "\u001b[A\n",
      "\u001b[A\n",
      "\u001b[A\n",
      "\u001b[A\n",
      "\u001b[A\n",
      "\u001b[A\n",
      "\u001b[A\n",
      "\u001b[A\n",
      "\u001b[A\n",
      "\u001b[A\n",
      "\u001b[A\n",
      "\u001b[A\n",
      "\u001b[A\n",
      "\u001b[A\n",
      "\u001b[A\n",
      "\u001b[A\n",
      "\u001b[A\n",
      "\u001b[A\n",
      "\u001b[A\n",
      "\u001b[A\n",
      "\u001b[A\n",
      "\u001b[A\n",
      "\u001b[A\n",
      "\u001b[A\n",
      "\u001b[A\n",
      "\u001b[A\n",
      "\u001b[A\n",
      "\u001b[A\n",
      "\u001b[A\n",
      "\u001b[A\n",
      "\u001b[A\n",
      "\u001b[A\n",
      "100%|██████████| 55/55 [00:08<00:00,  6.40it/s]\n",
      "\n",
      "\u001b[A"
     ]
    },
    {
     "name": "stdout",
     "output_type": "stream",
     "text": [
      "Got MRMR features\n"
     ]
    },
    {
     "name": "stderr",
     "output_type": "stream",
     "text": [
      "\n",
      "\u001b[A\n",
      "\u001b[A\n",
      "\u001b[A\n",
      "\u001b[A\n",
      "\u001b[A\n",
      "100%|██████████| 55/55 [00:08<00:00,  6.60it/s]\n"
     ]
    },
    {
     "name": "stdout",
     "output_type": "stream",
     "text": [
      "Got MRMR features\n"
     ]
    },
    {
     "name": "stderr",
     "output_type": "stream",
     "text": [
      "100%|██████████| 55/55 [00:04<00:00, 12.52it/s]\n"
     ]
    },
    {
     "name": "stdout",
     "output_type": "stream",
     "text": [
      "Got MRMR features\n"
     ]
    },
    {
     "name": "stderr",
     "output_type": "stream",
     "text": [
      "\n",
      "\u001b[A\n",
      "\u001b[A\n",
      "\u001b[A\n",
      "\u001b[A\n",
      "\u001b[A\n",
      "\u001b[A\n",
      "\u001b[A\n",
      "\u001b[A\n",
      "\u001b[A\n",
      "\u001b[A\n",
      "\u001b[A\n",
      "\u001b[A\n",
      "\u001b[A\n",
      "\u001b[A\n",
      "\u001b[A\n",
      "\u001b[A\n",
      "\u001b[A\n",
      "\u001b[A\n",
      "\u001b[A\n",
      "\u001b[A\n",
      "\u001b[A\n",
      "\u001b[A\n",
      "\u001b[A\n",
      "\u001b[A\n",
      "\u001b[A\n",
      "\u001b[A\n",
      "\u001b[A\n",
      "\u001b[A\n",
      "\u001b[A\n",
      "\u001b[A\n",
      "\u001b[A\n",
      "\u001b[A\n",
      "\u001b[A\n",
      "\u001b[A\n",
      "\u001b[A\n",
      "\u001b[A\n",
      "\u001b[A\n",
      "\u001b[A\n",
      "\u001b[A\n",
      "\u001b[A\n",
      "\u001b[A\n",
      "\u001b[A\n",
      "\u001b[A\n",
      "\u001b[A\n",
      "\u001b[A\n",
      "\u001b[A\n",
      "\u001b[A\n",
      "100%|██████████| 55/55 [00:09<00:00,  5.88it/s]\n",
      "\n",
      "\u001b[A\n",
      "\u001b[A"
     ]
    },
    {
     "name": "stdout",
     "output_type": "stream",
     "text": [
      "Got MRMR features\n"
     ]
    },
    {
     "name": "stderr",
     "output_type": "stream",
     "text": [
      "\n",
      "\u001b[A\n",
      "100%|██████████| 55/55 [00:08<00:00,  6.16it/s]\n"
     ]
    },
    {
     "name": "stdout",
     "output_type": "stream",
     "text": [
      "Got MRMR features\n",
      "[I 2025-08-28 20:07:29,618] Trial 180 finished with value: 0.2147871209899767 and parameters: {'feature_selection': 'None', 'iterations': 950, 'depth': 6, 'learning_rate': 0.010602994536297804, 'l2_leaf_reg': 0.3177061555461964, 'random_strength': 1.7691889785031314, 'bagging_temperature': 0.642389405625389, 'border_count': 82}. Best is trial 134 with value: 0.22934083701366897.\n"
     ]
    },
    {
     "name": "stderr",
     "output_type": "stream",
     "text": [
      "\n",
      "\u001b[A\n",
      "\u001b[A\n",
      "\u001b[A\n",
      "\u001b[A\n",
      "\u001b[A\n",
      "\u001b[A\n",
      "\u001b[A\n",
      "\n",
      "\u001b[A\u001b[A\n",
      "\u001b[A\n",
      "\n",
      "\u001b[A\u001b[A\n",
      "\u001b[A\n",
      "\u001b[A\n",
      "\n",
      "\u001b[A\u001b[A\n",
      "\u001b[A\n",
      "\u001b[A\n",
      "\n",
      "\u001b[A\u001b[A\n",
      "\u001b[A\n",
      "\n",
      "\u001b[A\u001b[A\n",
      "\u001b[A\n",
      "\n",
      "\u001b[A\u001b[A\n",
      "\u001b[A\n",
      "\n",
      "\u001b[A\u001b[A\n",
      "\u001b[A\n",
      "\n",
      "\u001b[A\u001b[A\n",
      "\u001b[A\n",
      "\n",
      "\u001b[A\u001b[A\n",
      "\u001b[A\n",
      "\n",
      "\u001b[A\u001b[A\n",
      "\u001b[A\n",
      "\n",
      "\u001b[A\u001b[A\n",
      "\u001b[A\n",
      "\n",
      "\u001b[A\u001b[A\n",
      "\u001b[A\n",
      "\n",
      "\u001b[A\u001b[A\n",
      "\u001b[A\n",
      "\n",
      "\u001b[A\u001b[A\n",
      "\u001b[A\n",
      "\n",
      "\u001b[A\u001b[A\n",
      "\u001b[A\n",
      "\n",
      "\u001b[A\u001b[A\n",
      "\u001b[A\n",
      "\n",
      "\u001b[A\u001b[A\n",
      "\u001b[A\n",
      "\n",
      "\u001b[A\u001b[A\n",
      "\u001b[A\n",
      "\n",
      "\u001b[A\u001b[A\n",
      "\u001b[A\n",
      "\n",
      "\u001b[A\u001b[A\n",
      "\u001b[A\n",
      "\n",
      "\u001b[A\u001b[A\n",
      "\u001b[A\n",
      "\n",
      "\u001b[A\u001b[A\n",
      "\u001b[A\n",
      "\n",
      "\u001b[A\u001b[A\n",
      "\u001b[A\n",
      "\n",
      "\u001b[A\u001b[A\n",
      "\u001b[A\n",
      "\n",
      "\u001b[A\u001b[A\n",
      "\u001b[A\n",
      "\n",
      "\u001b[A\u001b[A\n",
      "\u001b[A\n",
      "\n",
      "\u001b[A\u001b[A\n",
      "\u001b[A\n",
      "\n",
      "\u001b[A\u001b[A\n",
      "\u001b[A\n",
      "\n",
      "\u001b[A\u001b[A\n",
      "\u001b[A\n",
      "\n",
      "\u001b[A\u001b[A\n",
      "\u001b[A\n",
      "\n",
      "\u001b[A\u001b[A\n",
      "\u001b[A\n",
      "\n",
      "\u001b[A\u001b[A\n",
      "\u001b[A\n",
      "\n",
      "\u001b[A\u001b[A\n",
      "\u001b[A\n",
      "\n",
      "\u001b[A\u001b[A\n",
      "\u001b[A\n",
      "\n",
      "\u001b[A\u001b[A\n",
      "\u001b[A\n",
      "\n",
      "\u001b[A\u001b[A\n",
      "\u001b[A\n",
      "\n",
      "\u001b[A\u001b[A\n",
      "\u001b[A\n",
      "\n",
      "\u001b[A\u001b[A\n",
      "\u001b[A\n",
      "\n",
      "\u001b[A\u001b[A\n",
      "\u001b[A\n",
      "\n",
      "\u001b[A\u001b[A\n",
      "100%|██████████| 55/55 [00:07<00:00,  7.09it/s]\n",
      "\n",
      "\n",
      "\u001b[A\u001b[A\n",
      "\u001b[A\n",
      "\u001b[A\n",
      "\n",
      "\n"
     ]
    },
    {
     "name": "stdout",
     "output_type": "stream",
     "text": [
      "Got MRMR features\n"
     ]
    },
    {
     "name": "stderr",
     "output_type": "stream",
     "text": [
      " 82%|████████▏ | 45/55 [00:06<00:01,  8.07it/s]\u001b[A\u001b[A\u001b[A\n",
      "\u001b[A\n",
      "\n",
      "\u001b[A\u001b[A\n",
      "\u001b[A\n",
      "\n",
      "\u001b[A\u001b[A\n",
      "100%|██████████| 55/55 [00:08<00:00,  6.85it/s]\n",
      "\n",
      "\n",
      "\u001b[A\u001b[A\n",
      "\n",
      "\u001b[A\u001b[A"
     ]
    },
    {
     "name": "stdout",
     "output_type": "stream",
     "text": [
      "Got MRMR features\n"
     ]
    },
    {
     "name": "stderr",
     "output_type": "stream",
     "text": [
      "\n",
      "\n",
      "\u001b[A\u001b[A\n",
      "\n",
      "\n",
      "\u001b[A\u001b[A\u001b[A                                      \n",
      "\n",
      "\u001b[A\u001b[A\n",
      "\n",
      "\u001b[A\u001b[A"
     ]
    },
    {
     "name": "stdout",
     "output_type": "stream",
     "text": [
      "[I 2025-08-28 20:07:38,713] Trial 182 finished with value: 0.13183711435716028 and parameters: {'feature_selection': 'MRMR', 'k_features': 55, 'iterations': 100, 'depth': 6, 'learning_rate': 0.011063990199721358, 'l2_leaf_reg': 0.5511069743674882, 'random_strength': 1.4850376407405597, 'bagging_temperature': 0.6947351206359892, 'border_count': 81}. Best is trial 134 with value: 0.22934083701366897.\n"
     ]
    },
    {
     "name": "stderr",
     "output_type": "stream",
     "text": [
      "100%|██████████| 55/55 [00:07<00:00,  7.54it/s]\n"
     ]
    },
    {
     "name": "stdout",
     "output_type": "stream",
     "text": [
      "Got MRMR features\n",
      "[I 2025-08-28 20:07:44,877] Trial 181 finished with value: 0.17981094971841677 and parameters: {'feature_selection': 'MRMR', 'k_features': 55, 'iterations': 950, 'depth': 6, 'learning_rate': 0.011030021604636089, 'l2_leaf_reg': 0.5005131488393559, 'random_strength': 1.645026275921185, 'bagging_temperature': 0.6949125147414609, 'border_count': 81}. Best is trial 134 with value: 0.22934083701366897.\n"
     ]
    },
    {
     "name": "stderr",
     "output_type": "stream",
     "text": [
      "100%|██████████| 55/55 [00:09<00:00,  5.55it/s]\n"
     ]
    },
    {
     "name": "stdout",
     "output_type": "stream",
     "text": [
      "Got MRMR features\n"
     ]
    },
    {
     "name": "stderr",
     "output_type": "stream",
     "text": [
      "100%|██████████| 55/55 [00:10<00:00,  5.31it/s]\n"
     ]
    },
    {
     "name": "stdout",
     "output_type": "stream",
     "text": [
      "Got MRMR features\n"
     ]
    },
    {
     "name": "stderr",
     "output_type": "stream",
     "text": [
      "100%|██████████| 55/55 [00:10<00:00,  5.28it/s]\n"
     ]
    },
    {
     "name": "stdout",
     "output_type": "stream",
     "text": [
      "Got MRMR features\n"
     ]
    },
    {
     "name": "stderr",
     "output_type": "stream",
     "text": [
      "100%|██████████| 55/55 [00:07<00:00,  7.62it/s]\n"
     ]
    },
    {
     "name": "stdout",
     "output_type": "stream",
     "text": [
      "Got MRMR features\n",
      "[I 2025-08-28 20:09:13,877] Trial 183 finished with value: 0.16906825178607904 and parameters: {'feature_selection': 'MRMR', 'k_features': 55, 'iterations': 975, 'depth': 6, 'learning_rate': 0.009273118253597043, 'l2_leaf_reg': 0.44800102988516816, 'random_strength': 0.38275407462480954, 'bagging_temperature': 0.7010781403671486, 'border_count': 92}. Best is trial 134 with value: 0.22934083701366897.\n",
      "[I 2025-08-28 20:09:38,183] Trial 184 finished with value: 0.21019089195186744 and parameters: {'feature_selection': 'None', 'iterations': 1000, 'depth': 6, 'learning_rate': 0.009086948236989592, 'l2_leaf_reg': 0.49010138200191244, 'random_strength': 0.37067244282148293, 'bagging_temperature': 0.6542601879868845, 'border_count': 92}. Best is trial 134 with value: 0.22934083701366897.\n",
      "[I 2025-08-28 20:09:42,958] Trial 185 finished with value: 0.21083288459645128 and parameters: {'feature_selection': 'None', 'iterations': 975, 'depth': 6, 'learning_rate': 0.009329829237476727, 'l2_leaf_reg': 1.301259403355514, 'random_strength': 0.5210364581536951, 'bagging_temperature': 0.652644746014565, 'border_count': 91}. Best is trial 134 with value: 0.22934083701366897.\n",
      "[I 2025-08-28 20:13:11,767] Trial 187 finished with value: 0.2080982147056508 and parameters: {'feature_selection': 'None', 'iterations': 950, 'depth': 6, 'learning_rate': 0.012960777934844016, 'l2_leaf_reg': 0.9845062785993777, 'random_strength': 0.8018176520445879, 'bagging_temperature': 0.6057931943975308, 'border_count': 86}. Best is trial 134 with value: 0.22934083701366897.\n",
      "[I 2025-08-28 20:13:53,476] Trial 186 finished with value: 0.22192821837599636 and parameters: {'feature_selection': 'None', 'iterations': 1000, 'depth': 6, 'learning_rate': 0.049143106740805874, 'l2_leaf_reg': 1.191170987296912, 'random_strength': 0.8023255560985607, 'bagging_temperature': 0.659072474524324, 'border_count': 86}. Best is trial 134 with value: 0.22934083701366897.\n",
      "[I 2025-08-28 20:17:09,303] Trial 189 finished with value: 0.2080473342641947 and parameters: {'feature_selection': 'None', 'iterations': 925, 'depth': 6, 'learning_rate': 0.015561610859404546, 'l2_leaf_reg': 0.13212105052042494, 'random_strength': 3.357435408120149, 'bagging_temperature': 0.6153090341463715, 'border_count': 103}. Best is trial 134 with value: 0.22934083701366897.\n",
      "[I 2025-08-28 20:19:37,899] Trial 190 finished with value: 0.21555458825543233 and parameters: {'feature_selection': 'None', 'iterations': 1000, 'depth': 6, 'learning_rate': 0.05288230997550324, 'l2_leaf_reg': 0.13267205447947772, 'random_strength': 1.0386008913996214, 'bagging_temperature': 0.6700213024286159, 'border_count': 104}. Best is trial 134 with value: 0.22934083701366897.\n",
      "[I 2025-08-28 20:21:12,662] Trial 188 finished with value: 0.19695397683579224 and parameters: {'feature_selection': 'None', 'iterations': 950, 'depth': 9, 'learning_rate': 0.013499119501399391, 'l2_leaf_reg': 0.00036148255345841266, 'random_strength': 0.893763239917719, 'bagging_temperature': 0.6184671125714819, 'border_count': 103}. Best is trial 134 with value: 0.22934083701366897.\n",
      "[I 2025-08-28 20:21:19,498] Trial 191 finished with value: 0.20964797121361115 and parameters: {'feature_selection': 'None', 'iterations': 1000, 'depth': 6, 'learning_rate': 0.007479688019844518, 'l2_leaf_reg': 0.7368564667899012, 'random_strength': 1.0091466388354202, 'bagging_temperature': 0.6664003619590315, 'border_count': 98}. Best is trial 134 with value: 0.22934083701366897.\n",
      "[I 2025-08-28 20:23:14,193] Trial 192 finished with value: 0.19865249160189066 and parameters: {'feature_selection': 'None', 'iterations': 975, 'depth': 6, 'learning_rate': 0.04854875076598811, 'l2_leaf_reg': 0.0003961797659869432, 'random_strength': 0.6769711634421217, 'bagging_temperature': 0.5900517588473049, 'border_count': 98}. Best is trial 134 with value: 0.22934083701366897.\n",
      "[I 2025-08-28 20:23:21,374] Trial 193 finished with value: 0.18480931813385285 and parameters: {'feature_selection': 'None', 'iterations': 1000, 'depth': 6, 'learning_rate': 0.08413558833216893, 'l2_leaf_reg': 4.054467617653578, 'random_strength': 0.6475367113619132, 'bagging_temperature': 0.588469331902111, 'border_count': 76}. Best is trial 134 with value: 0.22934083701366897.\n",
      "[I 2025-08-28 20:23:25,191] Trial 194 finished with value: 0.21308429195118972 and parameters: {'feature_selection': 'None', 'iterations': 975, 'depth': 6, 'learning_rate': 0.009807406516921004, 'l2_leaf_reg': 2.642559407329226, 'random_strength': 4.483977844825611, 'bagging_temperature': 0.6346279154547396, 'border_count': 77}. Best is trial 134 with value: 0.22934083701366897.\n",
      "[I 2025-08-28 20:25:29,534] Trial 196 finished with value: 0.21425338389874593 and parameters: {'feature_selection': 'None', 'iterations': 975, 'depth': 6, 'learning_rate': 0.03052588670562341, 'l2_leaf_reg': 0.0008478534141417818, 'random_strength': 1.9770124752535676, 'bagging_temperature': 0.6330480459966997, 'border_count': 86}. Best is trial 134 with value: 0.22934083701366897.\n",
      "[I 2025-08-28 20:25:34,614] Trial 197 finished with value: 0.2296630927163279 and parameters: {'feature_selection': 'None', 'iterations': 975, 'depth': 6, 'learning_rate': 0.00834035173166124, 'l2_leaf_reg': 0.3046945004709324, 'random_strength': 1.764801749145939, 'bagging_temperature': 0.6557914261619118, 'border_count': 86}. Best is trial 197 with value: 0.2296630927163279.\n",
      "[I 2025-08-28 20:25:42,607] Trial 195 finished with value: 0.2119668158792773 and parameters: {'feature_selection': 'None', 'iterations': 975, 'depth': 6, 'learning_rate': 0.05760436453264808, 'l2_leaf_reg': 3.5968753621418426, 'random_strength': 4.822622324820851, 'bagging_temperature': 0.561783024888891, 'border_count': 77}. Best is trial 197 with value: 0.2296630927163279.\n",
      "[I 2025-08-28 20:26:57,354] Trial 198 finished with value: 0.21788108386438662 and parameters: {'feature_selection': 'None', 'iterations': 925, 'depth': 6, 'learning_rate': 0.06568773919178689, 'l2_leaf_reg': 0.31863025419444724, 'random_strength': 1.679838816885947, 'bagging_temperature': 0.6605945263355496, 'border_count': 81}. Best is trial 197 with value: 0.2296630927163279.\n",
      "[I 2025-08-28 20:27:01,693] Trial 199 finished with value: 0.21947409655601163 and parameters: {'feature_selection': 'None', 'iterations': 925, 'depth': 6, 'learning_rate': 0.008657306628325324, 'l2_leaf_reg': 0.30544209901994535, 'random_strength': 1.4195116515222457, 'bagging_temperature': 0.6848930307155868, 'border_count': 89}. Best is trial 197 with value: 0.2296630927163279.\n",
      "[I 2025-08-28 20:33:40,192] Trial 131 finished with value: 0.22333532912389806 and parameters: {'feature_selection': 'RFE', 'k_features': 55, 'iterations': 900, 'depth': 6, 'learning_rate': 0.011915019008516945, 'l2_leaf_reg': 0.3472743301688604, 'random_strength': 1.9471555188470304, 'bagging_temperature': 0.6887330172430185, 'border_count': 65}. Best is trial 197 with value: 0.2296630927163279.\n",
      "[I 2025-08-28 20:33:42,849] Trial 130 finished with value: 0.21340534753319015 and parameters: {'feature_selection': 'RFE', 'k_features': 55, 'iterations': 850, 'depth': 6, 'learning_rate': 0.014594637759840368, 'l2_leaf_reg': 0.37217638581718193, 'random_strength': 2.130172968253946, 'bagging_temperature': 0.6294200010600486, 'border_count': 66}. Best is trial 197 with value: 0.2296630927163279.\n",
      "[I 2025-08-28 20:40:32,636] Trial 129 finished with value: 0.21887668260058685 and parameters: {'feature_selection': 'RFE', 'k_features': 55, 'iterations': 850, 'depth': 6, 'learning_rate': 0.011599520217931321, 'l2_leaf_reg': 0.4072344367912038, 'random_strength': 1.8195796726550075, 'bagging_temperature': 0.6419829865772223, 'border_count': 87}. Best is trial 197 with value: 0.2296630927163279.\n",
      "Best trial:\n",
      "R²: 0.2297\n",
      "Params: \n",
      "  feature_selection: None\n",
      "  iterations: 975\n",
      "  depth: 6\n",
      "  learning_rate: 0.00834035173166124\n",
      "  l2_leaf_reg: 0.3046945004709324\n",
      "  random_strength: 1.764801749145939\n",
      "  bagging_temperature: 0.6557914261619118\n",
      "  border_count: 86\n"
     ]
    }
   ],
   "source": [
    "X = X_train.copy()\n",
    "y = y_train.copy().values\n",
    "\n",
    "def objective(trial):\n",
    "    # 1. Feature Selection\n",
    "    fs_method = trial.suggest_categorical('feature_selection', ['RFE', 'MRMR', 'None'])\n",
    "    if fs_method != 'None':\n",
    "        k_features = trial.suggest_int('k_features', 5, 105, step = 10) \n",
    "        if fs_method == 'RFE':\n",
    "            #rfe_step = trial.suggest_float('rfe_step', 0.1, 1.0, step=0.1) #### Can edit step size. This is the fraction of features to remove at each iteration of feature elimination https://scikit-learn.org/stable/modules/generated/sklearn.feature_selection.RFE.html\n",
    "            estimator = RandomForestRegressor()\n",
    "                #n_estimators=trial.suggest_int('rfe_n_estimators', 50, 200),\n",
    "                #max_depth=trial.suggest_int('rfe_max_depth', 3, 10),\n",
    "                #random_state=42\n",
    "            selector = RFE(estimator, n_features_to_select=k_features)\n",
    "        elif fs_method == 'MRMR':\n",
    "            selector = MRMRTransformer(k_features=k_features) #https://feature-engine.trainindata.com/en/1.8.x/api_doc/selection/MRMR.html#feature_engine.selection.MRMR\n",
    "    else:\n",
    "        selector = 'passthrough'\n",
    "\n",
    "    # 2. CatBoost Parameters\n",
    "    params = {\n",
    "        'iterations': trial.suggest_int('iterations', 100, 1000, step=25),\n",
    "        'depth': trial.suggest_int('depth', 6, 10), #https://catboost.ai/docs/en/concepts/parameter-tuning\n",
    "        'learning_rate': trial.suggest_float('learning_rate', 0.001, 0.1, log=True), #https://forecastegy.com/posts/catboost-hyperparameter-tuning-guide-with-optuna/\n",
    "        'l2_leaf_reg': trial.suggest_float('l2_leaf_reg', 1e-8, 10.0, log=True), \n",
    "        'random_strength': trial.suggest_float('random_strength', 1e-9, 10, log=True),\n",
    "        'bagging_temperature': trial.suggest_float('bagging_temperature', 0.0, 1.0),\n",
    "        'border_count': trial.suggest_int('border_count', 32, 255),\n",
    "        'random_seed': 42,\n",
    "        'verbose': False,\n",
    "    }\n",
    "    model = CatBoostRegressor(**params)\n",
    "\n",
    "    # 3. Pipeline \n",
    "    pipeline = Pipeline([\n",
    "        ('feature_selection', selector),\n",
    "        ('model', model)\n",
    "    ])\n",
    "\n",
    "    #4. Cross-validation\n",
    "    cv = KFold(n_splits=5, shuffle=True, random_state=42)\n",
    "    try:\n",
    "        scores = cross_val_score(pipeline, X, y, cv=cv, scoring='r2', n_jobs=1)\n",
    "        return np.mean(scores)\n",
    "    except Exception:\n",
    "        return -np.inf\n",
    "\n",
    "# Run Optuna Study\n",
    "study = optuna.create_study(direction='maximize') # sampler = optuna.samplers.QMCSampler()) https://optuna.readthedocs.io/en/stable/reference/samplers/generated/optuna.samplers.QMCSampler.html#optuna.samplers.QMCSampler\n",
    "study.optimize(objective, n_trials=200, show_progress_bar=True, n_jobs=6) \n",
    "\n",
    "# Best result\n",
    "print(\"Best trial:\")\n",
    "trial = study.best_trial\n",
    "print(f\"R²: {trial.value:.4f}\")\n",
    "print(\"Params: \")\n",
    "for key, value in trial.params.items():\n",
    "    print(f\"  {key}: {value}\")"
   ]
  },
  {
   "attachments": {
    "image.png": {
     "image/png": "[encoded data removed]"
    }
   },
   "cell_type": "markdown",
   "id": "bcb50c8d",
   "metadata": {},
   "source": [
    "![image.png](attachment:image.png)\n",
    "- 200 trials August 28, 2025"
   ]
  },
  {
   "cell_type": "markdown",
   "id": "a6347008",
   "metadata": {},
   "source": [
    "# Visualization"
   ]
  },
  {
   "cell_type": "code",
   "execution_count": 6,
   "id": "23d5743b",
   "metadata": {},
   "outputs": [
    {
     "data": {
      "application/vnd.plotly.v1+json": {
       "config": {
        "plotlyServerURL": "https://plot.ly"
       },
       "data": [
        {
         "cliponaxis": false,
         "hovertemplate": [
          "random_strength (FloatDistribution): 0.025606634050598008<extra></extra>",
          "border_count (IntDistribution): 0.04222636140145474<extra></extra>",
          "bagging_temperature (FloatDistribution): 0.08288251368784086<extra></extra>",
          "depth (IntDistribution): 0.10335323023375356<extra></extra>",
          "l2_leaf_reg (FloatDistribution): 0.10588562082222913<extra></extra>",
          "learning_rate (FloatDistribution): 0.174714051006106<extra></extra>",
          "feature_selection (CategoricalDistribution): 0.2160580613306227<extra></extra>",
          "iterations (IntDistribution): 0.24927352746739512<extra></extra>"
         ],
         "name": "R² Score",
         "orientation": "h",
         "text": [
          "0.03",
          "0.04",
          "0.08",
          "0.10",
          "0.11",
          "0.17",
          "0.22",
          "0.25"
         ],
         "textposition": "outside",
         "type": "bar",
         "x": [
          0.025606634050598008,
          0.04222636140145474,
          0.08288251368784086,
          0.10335323023375356,
          0.10588562082222913,
          0.174714051006106,
          0.2160580613306227,
          0.24927352746739512
         ],
         "y": [
          "random_strength",
          "border_count",
          "bagging_temperature",
          "depth",
          "l2_leaf_reg",
          "learning_rate",
          "feature_selection",
          "iterations"
         ]
        }
       ],
       "layout": {
        "template": {
         "data": {
          "bar": [
           {
            "error_x": {
             "color": "#2a3f5f"
            },
            "error_y": {
             "color": "#2a3f5f"
            },
            "marker": {
             "line": {
              "color": "#E5ECF6",
              "width": 0.5
             },
             "pattern": {
              "fillmode": "overlay",
              "size": 10,
              "solidity": 0.2
             }
            },
            "type": "bar"
           }
          ],
          "barpolar": [
           {
            "marker": {
             "line": {
              "color": "#E5ECF6",
              "width": 0.5
             },
             "pattern": {
              "fillmode": "overlay",
              "size": 10,
              "solidity": 0.2
             }
            },
            "type": "barpolar"
           }
          ],
          "carpet": [
           {
            "aaxis": {
             "endlinecolor": "#2a3f5f",
             "gridcolor": "white",
             "linecolor": "white",
             "minorgridcolor": "white",
             "startlinecolor": "#2a3f5f"
            },
            "baxis": {
             "endlinecolor": "#2a3f5f",
             "gridcolor": "white",
             "linecolor": "white",
             "minorgridcolor": "white",
             "startlinecolor": "#2a3f5f"
            },
            "type": "carpet"
           }
          ],
          "choropleth": [
           {
            "colorbar": {
             "outlinewidth": 0,
             "ticks": ""
            },
            "type": "choropleth"
           }
          ],
          "contour": [
           {
            "colorbar": {
             "outlinewidth": 0,
             "ticks": ""
            },
            "colorscale": [
             [
              0,
              "#0d0887"
             ],
             [
              0.1111111111111111,
              "#46039f"
             ],
             [
              0.2222222222222222,
              "#7201a8"
             ],
             [
              0.3333333333333333,
              "#9c179e"
             ],
             [
              0.4444444444444444,
              "#bd3786"
             ],
             [
              0.5555555555555556,
              "#d8576b"
             ],
             [
              0.6666666666666666,
              "#ed7953"
             ],
             [
              0.7777777777777778,
              "#fb9f3a"
             ],
             [
              0.8888888888888888,
              "#fdca26"
             ],
             [
              1,
              "#f0f921"
             ]
            ],
            "type": "contour"
           }
          ],
          "contourcarpet": [
           {
            "colorbar": {
             "outlinewidth": 0,
             "ticks": ""
            },
            "type": "contourcarpet"
           }
          ],
          "heatmap": [
           {
            "colorbar": {
             "outlinewidth": 0,
             "ticks": ""
            },
            "colorscale": [
             [
              0,
              "#0d0887"
             ],
             [
              0.1111111111111111,
              "#46039f"
             ],
             [
              0.2222222222222222,
              "#7201a8"
             ],
             [
              0.3333333333333333,
              "#9c179e"
             ],
             [
              0.4444444444444444,
              "#bd3786"
             ],
             [
              0.5555555555555556,
              "#d8576b"
             ],
             [
              0.6666666666666666,
              "#ed7953"
             ],
             [
              0.7777777777777778,
              "#fb9f3a"
             ],
             [
              0.8888888888888888,
              "#fdca26"
             ],
             [
              1,
              "#f0f921"
             ]
            ],
            "type": "heatmap"
           }
          ],
          "histogram": [
           {
            "marker": {
             "pattern": {
              "fillmode": "overlay",
              "size": 10,
              "solidity": 0.2
             }
            },
            "type": "histogram"
           }
          ],
          "histogram2d": [
           {
            "colorbar": {
             "outlinewidth": 0,
             "ticks": ""
            },
            "colorscale": [
             [
              0,
              "#0d0887"
             ],
             [
              0.1111111111111111,
              "#46039f"
             ],
             [
              0.2222222222222222,
              "#7201a8"
             ],
             [
              0.3333333333333333,
              "#9c179e"
             ],
             [
              0.4444444444444444,
              "#bd3786"
             ],
             [
              0.5555555555555556,
              "#d8576b"
             ],
             [
              0.6666666666666666,
              "#ed7953"
             ],
             [
              0.7777777777777778,
              "#fb9f3a"
             ],
             [
              0.8888888888888888,
              "#fdca26"
             ],
             [
              1,
              "#f0f921"
             ]
            ],
            "type": "histogram2d"
           }
          ],
          "histogram2dcontour": [
           {
            "colorbar": {
             "outlinewidth": 0,
             "ticks": ""
            },
            "colorscale": [
             [
              0,
              "#0d0887"
             ],
             [
              0.1111111111111111,
              "#46039f"
             ],
             [
              0.2222222222222222,
              "#7201a8"
             ],
             [
              0.3333333333333333,
              "#9c179e"
             ],
             [
              0.4444444444444444,
              "#bd3786"
             ],
             [
              0.5555555555555556,
              "#d8576b"
             ],
             [
              0.6666666666666666,
              "#ed7953"
             ],
             [
              0.7777777777777778,
              "#fb9f3a"
             ],
             [
              0.8888888888888888,
              "#fdca26"
             ],
             [
              1,
              "#f0f921"
             ]
            ],
            "type": "histogram2dcontour"
           }
          ],
          "mesh3d": [
           {
            "colorbar": {
             "outlinewidth": 0,
             "ticks": ""
            },
            "type": "mesh3d"
           }
          ],
          "parcoords": [
           {
            "line": {
             "colorbar": {
              "outlinewidth": 0,
              "ticks": ""
             }
            },
            "type": "parcoords"
           }
          ],
          "pie": [
           {
            "automargin": true,
            "type": "pie"
           }
          ],
          "scatter": [
           {
            "fillpattern": {
             "fillmode": "overlay",
             "size": 10,
             "solidity": 0.2
            },
            "type": "scatter"
           }
          ],
          "scatter3d": [
           {
            "line": {
             "colorbar": {
              "outlinewidth": 0,
              "ticks": ""
             }
            },
            "marker": {
             "colorbar": {
              "outlinewidth": 0,
              "ticks": ""
             }
            },
            "type": "scatter3d"
           }
          ],
          "scattercarpet": [
           {
            "marker": {
             "colorbar": {
              "outlinewidth": 0,
              "ticks": ""
             }
            },
            "type": "scattercarpet"
           }
          ],
          "scattergeo": [
           {
            "marker": {
             "colorbar": {
              "outlinewidth": 0,
              "ticks": ""
             }
            },
            "type": "scattergeo"
           }
          ],
          "scattergl": [
           {
            "marker": {
             "colorbar": {
              "outlinewidth": 0,
              "ticks": ""
             }
            },
            "type": "scattergl"
           }
          ],
          "scattermap": [
           {
            "marker": {
             "colorbar": {
              "outlinewidth": 0,
              "ticks": ""
             }
            },
            "type": "scattermap"
           }
          ],
          "scattermapbox": [
           {
            "marker": {
             "colorbar": {
              "outlinewidth": 0,
              "ticks": ""
             }
            },
            "type": "scattermapbox"
           }
          ],
          "scatterpolar": [
           {
            "marker": {
             "colorbar": {
              "outlinewidth": 0,
              "ticks": ""
             }
            },
            "type": "scatterpolar"
           }
          ],
          "scatterpolargl": [
           {
            "marker": {
             "colorbar": {
              "outlinewidth": 0,
              "ticks": ""
             }
            },
            "type": "scatterpolargl"
           }
          ],
          "scatterternary": [
           {
            "marker": {
             "colorbar": {
              "outlinewidth": 0,
              "ticks": ""
             }
            },
            "type": "scatterternary"
           }
          ],
          "surface": [
           {
            "colorbar": {
             "outlinewidth": 0,
             "ticks": ""
            },
            "colorscale": [
             [
              0,
              "#0d0887"
             ],
             [
              0.1111111111111111,
              "#46039f"
             ],
             [
              0.2222222222222222,
              "#7201a8"
             ],
             [
              0.3333333333333333,
              "#9c179e"
             ],
             [
              0.4444444444444444,
              "#bd3786"
             ],
             [
              0.5555555555555556,
              "#d8576b"
             ],
             [
              0.6666666666666666,
              "#ed7953"
             ],
             [
              0.7777777777777778,
              "#fb9f3a"
             ],
             [
              0.8888888888888888,
              "#fdca26"
             ],
             [
              1,
              "#f0f921"
             ]
            ],
            "type": "surface"
           }
          ],
          "table": [
           {
            "cells": {
             "fill": {
              "color": "#EBF0F8"
             },
             "line": {
              "color": "white"
             }
            },
            "header": {
             "fill": {
              "color": "#C8D4E3"
             },
             "line": {
              "color": "white"
             }
            },
            "type": "table"
           }
          ]
         },
         "layout": {
          "annotationdefaults": {
           "arrowcolor": "#2a3f5f",
           "arrowhead": 0,
           "arrowwidth": 1
          },
          "autotypenumbers": "strict",
          "coloraxis": {
           "colorbar": {
            "outlinewidth": 0,
            "ticks": ""
           }
          },
          "colorscale": {
           "diverging": [
            [
             0,
             "#8e0152"
            ],
            [
             0.1,
             "#c51b7d"
            ],
            [
             0.2,
             "#de77ae"
            ],
            [
             0.3,
             "#f1b6da"
            ],
            [
             0.4,
             "#fde0ef"
            ],
            [
             0.5,
             "#f7f7f7"
            ],
            [
             0.6,
             "#e6f5d0"
            ],
            [
             0.7,
             "#b8e186"
            ],
            [
             0.8,
             "#7fbc41"
            ],
            [
             0.9,
             "#4d9221"
            ],
            [
             1,
             "#276419"
            ]
           ],
           "sequential": [
            [
             0,
             "#0d0887"
            ],
            [
             0.1111111111111111,
             "#46039f"
            ],
            [
             0.2222222222222222,
             "#7201a8"
            ],
            [
             0.3333333333333333,
             "#9c179e"
            ],
            [
             0.4444444444444444,
             "#bd3786"
            ],
            [
             0.5555555555555556,
             "#d8576b"
            ],
            [
             0.6666666666666666,
             "#ed7953"
            ],
            [
             0.7777777777777778,
             "#fb9f3a"
            ],
            [
             0.8888888888888888,
             "#fdca26"
            ],
            [
             1,
             "#f0f921"
            ]
           ],
           "sequentialminus": [
            [
             0,
             "#0d0887"
            ],
            [
             0.1111111111111111,
             "#46039f"
            ],
            [
             0.2222222222222222,
             "#7201a8"
            ],
            [
             0.3333333333333333,
             "#9c179e"
            ],
            [
             0.4444444444444444,
             "#bd3786"
            ],
            [
             0.5555555555555556,
             "#d8576b"
            ],
            [
             0.6666666666666666,
             "#ed7953"
            ],
            [
             0.7777777777777778,
             "#fb9f3a"
            ],
            [
             0.8888888888888888,
             "#fdca26"
            ],
            [
             1,
             "#f0f921"
            ]
           ]
          },
          "colorway": [
           "#636efa",
           "#EF553B",
           "#00cc96",
           "#ab63fa",
           "#FFA15A",
           "#19d3f3",
           "#FF6692",
           "#B6E880",
           "#FF97FF",
           "#FECB52"
          ],
          "font": {
           "color": "#2a3f5f"
          },
          "geo": {
           "bgcolor": "white",
           "lakecolor": "white",
           "landcolor": "#E5ECF6",
           "showlakes": true,
           "showland": true,
           "subunitcolor": "white"
          },
          "hoverlabel": {
           "align": "left"
          },
          "hovermode": "closest",
          "mapbox": {
           "style": "light"
          },
          "paper_bgcolor": "white",
          "plot_bgcolor": "#E5ECF6",
          "polar": {
           "angularaxis": {
            "gridcolor": "white",
            "linecolor": "white",
            "ticks": ""
           },
           "bgcolor": "#E5ECF6",
           "radialaxis": {
            "gridcolor": "white",
            "linecolor": "white",
            "ticks": ""
           }
          },
          "scene": {
           "xaxis": {
            "backgroundcolor": "#E5ECF6",
            "gridcolor": "white",
            "gridwidth": 2,
            "linecolor": "white",
            "showbackground": true,
            "ticks": "",
            "zerolinecolor": "white"
           },
           "yaxis": {
            "backgroundcolor": "#E5ECF6",
            "gridcolor": "white",
            "gridwidth": 2,
            "linecolor": "white",
            "showbackground": true,
            "ticks": "",
            "zerolinecolor": "white"
           },
           "zaxis": {
            "backgroundcolor": "#E5ECF6",
            "gridcolor": "white",
            "gridwidth": 2,
            "linecolor": "white",
            "showbackground": true,
            "ticks": "",
            "zerolinecolor": "white"
           }
          },
          "shapedefaults": {
           "line": {
            "color": "#2a3f5f"
           }
          },
          "ternary": {
           "aaxis": {
            "gridcolor": "white",
            "linecolor": "white",
            "ticks": ""
           },
           "baxis": {
            "gridcolor": "white",
            "linecolor": "white",
            "ticks": ""
           },
           "bgcolor": "#E5ECF6",
           "caxis": {
            "gridcolor": "white",
            "linecolor": "white",
            "ticks": ""
           }
          },
          "title": {
           "x": 0.05
          },
          "xaxis": {
           "automargin": true,
           "gridcolor": "white",
           "linecolor": "white",
           "ticks": "",
           "title": {
            "standoff": 15
           },
           "zerolinecolor": "white",
           "zerolinewidth": 2
          },
          "yaxis": {
           "automargin": true,
           "gridcolor": "white",
           "linecolor": "white",
           "ticks": "",
           "title": {
            "standoff": 15
           },
           "zerolinecolor": "white",
           "zerolinewidth": 2
          }
         }
        },
        "title": {
         "text": "Hyperparameter Importances"
        },
        "xaxis": {
         "title": {
          "text": "Hyperparameter Importance"
         }
        },
        "yaxis": {
         "title": {
          "text": "Hyperparameter"
         }
        }
       }
      }
     },
     "metadata": {},
     "output_type": "display_data"
    },
    {
     "data": {
      "application/vnd.plotly.v1+json": {
       "config": {
        "plotlyServerURL": "https://plot.ly"
       },
       "data": [
        {
         "marker": {
          "color": [
           0,
           1,
           2,
           3,
           4,
           5,
           6,
           7,
           8,
           9,
           10,
           11,
           12,
           13,
           14,
           15,
           16,
           17,
           18,
           19,
           20,
           21,
           22,
           23,
           24,
           25,
           26,
           27,
           28,
           29,
           30,
           31,
           32,
           33,
           34,
           35,
           36,
           37,
           38,
           39,
           40,
           41,
           42,
           43,
           44,
           45,
           46,
           47,
           48,
           49,
           50,
           51,
           52,
           53,
           54,
           55,
           56,
           57,
           58,
           59,
           60,
           61,
           62,
           63,
           64,
           65,
           66,
           67,
           68,
           69,
           70,
           71,
           72,
           73,
           74,
           75,
           76,
           77,
           78,
           79,
           80,
           81,
           82,
           83,
           84,
           85,
           86,
           87,
           88,
           89,
           90,
           91,
           92,
           93,
           94,
           95,
           96,
           97,
           98,
           99,
           100,
           101,
           102,
           103,
           104,
           105,
           106,
           107,
           108,
           109,
           110,
           111,
           112,
           113,
           114,
           115,
           116,
           117,
           118,
           119,
           120,
           121,
           122,
           123,
           124,
           125,
           126,
           127,
           128,
           129,
           130,
           131,
           132,
           133,
           134,
           135,
           136,
           137,
           138,
           139,
           140,
           141,
           142,
           143,
           144,
           145,
           146,
           147,
           148,
           149,
           150,
           151,
           152,
           153,
           154,
           155,
           156,
           157,
           158,
           159,
           160,
           161,
           162,
           163,
           164,
           165,
           166,
           167,
           168,
           169,
           170,
           171,
           172,
           173,
           174,
           175,
           176,
           177,
           178,
           179,
           180,
           181,
           182,
           183,
           184,
           185,
           186,
           187,
           188,
           189,
           190,
           191,
           192,
           193,
           194,
           195,
           196,
           197,
           198,
           199
          ],
          "colorbar": {
           "title": {
            "text": "Trial"
           },
           "x": 1,
           "xpad": 40
          },
          "colorscale": [
           [
            0,
            "rgb(247,251,255)"
           ],
           [
            0.125,
            "rgb(222,235,247)"
           ],
           [
            0.25,
            "rgb(198,219,239)"
           ],
           [
            0.375,
            "rgb(158,202,225)"
           ],
           [
            0.5,
            "rgb(107,174,214)"
           ],
           [
            0.625,
            "rgb(66,146,198)"
           ],
           [
            0.75,
            "rgb(33,113,181)"
           ],
           [
            0.875,
            "rgb(8,81,156)"
           ],
           [
            1,
            "rgb(8,48,107)"
           ]
          ],
          "line": {
           "color": "Grey",
           "width": 0.5
          },
          "showscale": true
         },
         "mode": "markers",
         "name": "Feasible Trial",
         "showlegend": false,
         "type": "scatter",
         "x": [
          7,
          6,
          10,
          8,
          7,
          8,
          8,
          7,
          10,
          9,
          10,
          7,
          6,
          10,
          7,
          6,
          6,
          6,
          6,
          9,
          9,
          8,
          8,
          9,
          7,
          7,
          7,
          7,
          7,
          7,
          7,
          7,
          7,
          7,
          7,
          8,
          7,
          6,
          6,
          6,
          6,
          6,
          6,
          6,
          8,
          8,
          6,
          6,
          6,
          6,
          8,
          8,
          7,
          7,
          7,
          7,
          7,
          7,
          7,
          7,
          7,
          7,
          8,
          8,
          8,
          8,
          6,
          6,
          6,
          6,
          7,
          7,
          6,
          6,
          6,
          6,
          7,
          6,
          6,
          6,
          6,
          6,
          6,
          6,
          6,
          6,
          6,
          6,
          6,
          6,
          6,
          6,
          6,
          6,
          6,
          6,
          6,
          6,
          6,
          6,
          6,
          6,
          6,
          6,
          6,
          6,
          6,
          6,
          6,
          6,
          6,
          10,
          6,
          6,
          10,
          6,
          6,
          6,
          6,
          6,
          9,
          6,
          6,
          6,
          6,
          6,
          6,
          6,
          6,
          6,
          6,
          6,
          6,
          6,
          6,
          6,
          6,
          6,
          6,
          6,
          6,
          6,
          6,
          6,
          6,
          6,
          6,
          6,
          6,
          6,
          6,
          6,
          6,
          6,
          6,
          6,
          6,
          6,
          6,
          6,
          6,
          6,
          6,
          6,
          6,
          6,
          6,
          6,
          6,
          6,
          6,
          6,
          6,
          6,
          6,
          6,
          6,
          6,
          6,
          6,
          6,
          6,
          6,
          6,
          6,
          6,
          6,
          6,
          9,
          6,
          6,
          6,
          6,
          6,
          6,
          6,
          6,
          6,
          6,
          6
         ],
         "xaxis": "x",
         "y": [
          0.1862114783217204,
          0.07023836213568639,
          0.18504340950435766,
          0.1327032225890585,
          -0.08531121972769093,
          0.05712638439725637,
          0.20063172131907664,
          0.15417260494917132,
          0.155408355394164,
          0.19417362148187864,
          0.16864222990090755,
          0.20185336852887686,
          0.16962480240058403,
          0.17168524673237634,
          0.1137528071258312,
          0.11216684267270698,
          0.1506850968695995,
          0.12640784601275457,
          0.0776966113723672,
          0.09460174892720412,
          0.19552911478657936,
          0.16143759822235865,
          0.15231214878081503,
          0.16142526312390762,
          0.2045683421504556,
          0.1963608860567219,
          0.20146061559848588,
          0.20410887623041654,
          0.1943593816009012,
          0.20566097195123847,
          0.19884182499902345,
          0.20880564151918404,
          0.1864425637808687,
          0.20359194493457505,
          0.19358385667744393,
          0.17526684863962236,
          0.20189073800932916,
          0.1956330730214984,
          0.20958917155256057,
          0.1879420839491181,
          0.20421469196311418,
          0.19852006905900685,
          0.20271907788503718,
          0.18523118550489076,
          0.18795967296031604,
          0.18226730295512697,
          0.1704436872781266,
          0.19798186083741237,
          0.20062094260850677,
          0.1639048876415045,
          0.15056974317845778,
          0.17641838650252326,
          0.18997260650160327,
          0.21050298478709478,
          0.20222962944474282,
          0.20586312459351813,
          0.20063611449998303,
          0.1980771557186825,
          0.19943503086746045,
          0.18432921851695144,
          0.19549080171987782,
          0.15343632370290494,
          0.18231424136302593,
          0.16088316154092228,
          0.16405859369002548,
          0.16026042875214241,
          0.20724154196605254,
          0.1729621414041936,
          0.21201482565938087,
          0.1988551539233176,
          0.2049142991507698,
          0.19587283811081294,
          0.18853712118036048,
          0.20349628590771135,
          0.20881540177585928,
          0.2088544529623631,
          0.19846995901899417,
          0.2009068106214527,
          0.20828172706987483,
          0.1952159554392377,
          0.2037509155911108,
          0.199883971495252,
          0.20650521695912633,
          0.20188061068520838,
          0.20608488893190263,
          0.21502362377306525,
          0.20989812127199992,
          0.203574014828427,
          0.20986873396879116,
          0.20428097632696654,
          0.20535586496793234,
          0.21061626419299295,
          0.22206174374997997,
          0.20586994695880206,
          0.20539056209575457,
          0.2173638589614578,
          0.195977127520531,
          0.21241986356171094,
          0.2145658485260041,
          0.21725714559773524,
          0.206004197970406,
          0.2198013536105612,
          0.20432266697761747,
          0.20673254955443365,
          0.15842022485436907,
          0.13459556196095335,
          0.2166500159317417,
          0.22488702866879687,
          0.16347262185858438,
          0.1964899716140613,
          0.21459072893869488,
          0.15478812974039707,
          0.20771991527035275,
          0.19214728289467523,
          0.1569201568167213,
          0.14054191481400996,
          0.22322879511622595,
          0.20412346210282814,
          0.20701560291783597,
          0.20130014770355942,
          0.20189285224822306,
          0.21455195221710702,
          0.20767127395919163,
          0.20918655942731085,
          0.22192456329120852,
          0.21494041661278285,
          0.21602032893446665,
          0.21999589924347837,
          0.2199311879790234,
          0.21887668260058685,
          0.21340534753319015,
          0.22333532912389806,
          0.20117429555010052,
          0.2180657289168356,
          0.22934083701366897,
          0.20747461233787995,
          0.21156486461117022,
          0.20002487415407205,
          0.19851626559530475,
          0.21691819364670803,
          0.21457486256120095,
          0.22569200296966252,
          0.20710288698265672,
          0.2116651092167446,
          0.20962119946485913,
          0.20785014400930377,
          0.21452129518975385,
          0.21426771661694666,
          0.2075531865882672,
          0.2041227750917672,
          0.19709895552198659,
          0.20453735542356197,
          0.21655295974407932,
          0.21782546844570846,
          0.2065566010859455,
          0.20129402121383108,
          0.22310723124054505,
          0.20686569520482925,
          0.20719030749970524,
          0.21575375568746785,
          0.21989693268063865,
          0.21618316055146142,
          0.20239300997521692,
          0.21556428533836725,
          0.21341069034349971,
          0.2128995718316946,
          0.20503817204366262,
          0.21883808393772936,
          0.2098858941186347,
          0.20762511879538764,
          0.21413718605198442,
          0.12180677585384914,
          0.2149301533010756,
          0.21361546153829142,
          0.20026986146791687,
          0.1974214216962273,
          0.21456122728668214,
          0.22191937134472228,
          0.2096000696543167,
          0.21932119001350628,
          0.2147871209899767,
          0.17981094971841677,
          0.13183711435716028,
          0.16906825178607904,
          0.21019089195186744,
          0.21083288459645128,
          0.22192821837599636,
          0.2080982147056508,
          0.19695397683579224,
          0.2080473342641947,
          0.21555458825543233,
          0.20964797121361115,
          0.19865249160189066,
          0.18480931813385285,
          0.21308429195118972,
          0.2119668158792773,
          0.21425338389874593,
          0.2296630927163279,
          0.21788108386438662,
          0.21947409655601163
         ],
         "yaxis": "y"
        },
        {
         "marker": {
          "color": [
           0,
           1,
           2,
           3,
           4,
           5,
           6,
           7,
           8,
           9,
           10,
           11,
           12,
           13,
           14,
           15,
           16,
           17,
           18,
           19,
           20,
           21,
           22,
           23,
           24,
           25,
           26,
           27,
           28,
           29,
           30,
           31,
           32,
           33,
           34,
           35,
           36,
           37,
           38,
           39,
           40,
           41,
           42,
           43,
           44,
           45,
           46,
           47,
           48,
           49,
           50,
           51,
           52,
           53,
           54,
           55,
           56,
           57,
           58,
           59,
           60,
           61,
           62,
           63,
           64,
           65,
           66,
           67,
           68,
           69,
           70,
           71,
           72,
           73,
           74,
           75,
           76,
           77,
           78,
           79,
           80,
           81,
           82,
           83,
           84,
           85,
           86,
           87,
           88,
           89,
           90,
           91,
           92,
           93,
           94,
           95,
           96,
           97,
           98,
           99,
           100,
           101,
           102,
           103,
           104,
           105,
           106,
           107,
           108,
           109,
           110,
           111,
           112,
           113,
           114,
           115,
           116,
           117,
           118,
           119,
           120,
           121,
           122,
           123,
           124,
           125,
           126,
           127,
           128,
           129,
           130,
           131,
           132,
           133,
           134,
           135,
           136,
           137,
           138,
           139,
           140,
           141,
           142,
           143,
           144,
           145,
           146,
           147,
           148,
           149,
           150,
           151,
           152,
           153,
           154,
           155,
           156,
           157,
           158,
           159,
           160,
           161,
           162,
           163,
           164,
           165,
           166,
           167,
           168,
           169,
           170,
           171,
           172,
           173,
           174,
           175,
           176,
           177,
           178,
           179,
           180,
           181,
           182,
           183,
           184,
           185,
           186,
           187,
           188,
           189,
           190,
           191,
           192,
           193,
           194,
           195,
           196,
           197,
           198,
           199
          ],
          "colorbar": {
           "title": {
            "text": "Trial"
           },
           "x": 1,
           "xpad": 40
          },
          "colorscale": [
           [
            0,
            "rgb(247,251,255)"
           ],
           [
            0.125,
            "rgb(222,235,247)"
           ],
           [
            0.25,
            "rgb(198,219,239)"
           ],
           [
            0.375,
            "rgb(158,202,225)"
           ],
           [
            0.5,
            "rgb(107,174,214)"
           ],
           [
            0.625,
            "rgb(66,146,198)"
           ],
           [
            0.75,
            "rgb(33,113,181)"
           ],
           [
            0.875,
            "rgb(8,81,156)"
           ],
           [
            1,
            "rgb(8,48,107)"
           ]
          ],
          "line": {
           "color": "Grey",
           "width": 0.5
          },
          "showscale": false
         },
         "mode": "markers",
         "name": "Feasible Trial",
         "showlegend": false,
         "type": "scatter",
         "x": [
          "None",
          "RFE",
          "None",
          "MRMR",
          "RFE",
          "None",
          "MRMR",
          "MRMR",
          "RFE",
          "None",
          "RFE",
          "None",
          "RFE",
          "MRMR",
          "RFE",
          "RFE",
          "MRMR",
          "MRMR",
          "None",
          "None",
          "None",
          "MRMR",
          "MRMR",
          "None",
          "None",
          "None",
          "None",
          "None",
          "None",
          "None",
          "None",
          "None",
          "None",
          "None",
          "None",
          "None",
          "None",
          "None",
          "None",
          "None",
          "None",
          "None",
          "None",
          "RFE",
          "RFE",
          "RFE",
          "RFE",
          "None",
          "None",
          "None",
          "RFE",
          "None",
          "RFE",
          "None",
          "None",
          "None",
          "None",
          "None",
          "None",
          "None",
          "None",
          "None",
          "None",
          "MRMR",
          "MRMR",
          "MRMR",
          "None",
          "None",
          "None",
          "None",
          "None",
          "None",
          "None",
          "None",
          "None",
          "None",
          "None",
          "None",
          "None",
          "None",
          "None",
          "None",
          "None",
          "None",
          "None",
          "None",
          "None",
          "None",
          "None",
          "None",
          "None",
          "None",
          "None",
          "None",
          "None",
          "None",
          "None",
          "None",
          "None",
          "None",
          "None",
          "None",
          "None",
          "None",
          "MRMR",
          "MRMR",
          "None",
          "None",
          "MRMR",
          "RFE",
          "RFE",
          "RFE",
          "RFE",
          "RFE",
          "None",
          "None",
          "None",
          "None",
          "None",
          "None",
          "None",
          "None",
          "RFE",
          "None",
          "None",
          "None",
          "None",
          "None",
          "None",
          "RFE",
          "RFE",
          "RFE",
          "None",
          "None",
          "None",
          "None",
          "None",
          "None",
          "None",
          "None",
          "None",
          "None",
          "None",
          "None",
          "None",
          "None",
          "None",
          "None",
          "None",
          "None",
          "None",
          "None",
          "None",
          "None",
          "None",
          "None",
          "None",
          "None",
          "None",
          "None",
          "None",
          "None",
          "None",
          "None",
          "None",
          "None",
          "None",
          "None",
          "None",
          "None",
          "None",
          "None",
          "None",
          "None",
          "None",
          "None",
          "None",
          "None",
          "None",
          "None",
          "None",
          "MRMR",
          "MRMR",
          "MRMR",
          "None",
          "None",
          "None",
          "None",
          "None",
          "None",
          "None",
          "None",
          "None",
          "None",
          "None",
          "None",
          "None",
          "None",
          "None",
          "None"
         ],
         "xaxis": "x2",
         "y": [
          0.1862114783217204,
          0.07023836213568639,
          0.18504340950435766,
          0.1327032225890585,
          -0.08531121972769093,
          0.05712638439725637,
          0.20063172131907664,
          0.15417260494917132,
          0.155408355394164,
          0.19417362148187864,
          0.16864222990090755,
          0.20185336852887686,
          0.16962480240058403,
          0.17168524673237634,
          0.1137528071258312,
          0.11216684267270698,
          0.1506850968695995,
          0.12640784601275457,
          0.0776966113723672,
          0.09460174892720412,
          0.19552911478657936,
          0.16143759822235865,
          0.15231214878081503,
          0.16142526312390762,
          0.2045683421504556,
          0.1963608860567219,
          0.20146061559848588,
          0.20410887623041654,
          0.1943593816009012,
          0.20566097195123847,
          0.19884182499902345,
          0.20880564151918404,
          0.1864425637808687,
          0.20359194493457505,
          0.19358385667744393,
          0.17526684863962236,
          0.20189073800932916,
          0.1956330730214984,
          0.20958917155256057,
          0.1879420839491181,
          0.20421469196311418,
          0.19852006905900685,
          0.20271907788503718,
          0.18523118550489076,
          0.18795967296031604,
          0.18226730295512697,
          0.1704436872781266,
          0.19798186083741237,
          0.20062094260850677,
          0.1639048876415045,
          0.15056974317845778,
          0.17641838650252326,
          0.18997260650160327,
          0.21050298478709478,
          0.20222962944474282,
          0.20586312459351813,
          0.20063611449998303,
          0.1980771557186825,
          0.19943503086746045,
          0.18432921851695144,
          0.19549080171987782,
          0.15343632370290494,
          0.18231424136302593,
          0.16088316154092228,
          0.16405859369002548,
          0.16026042875214241,
          0.20724154196605254,
          0.1729621414041936,
          0.21201482565938087,
          0.1988551539233176,
          0.2049142991507698,
          0.19587283811081294,
          0.18853712118036048,
          0.20349628590771135,
          0.20881540177585928,
          0.2088544529623631,
          0.19846995901899417,
          0.2009068106214527,
          0.20828172706987483,
          0.1952159554392377,
          0.2037509155911108,
          0.199883971495252,
          0.20650521695912633,
          0.20188061068520838,
          0.20608488893190263,
          0.21502362377306525,
          0.20989812127199992,
          0.203574014828427,
          0.20986873396879116,
          0.20428097632696654,
          0.20535586496793234,
          0.21061626419299295,
          0.22206174374997997,
          0.20586994695880206,
          0.20539056209575457,
          0.2173638589614578,
          0.195977127520531,
          0.21241986356171094,
          0.2145658485260041,
          0.21725714559773524,
          0.206004197970406,
          0.2198013536105612,
          0.20432266697761747,
          0.20673254955443365,
          0.15842022485436907,
          0.13459556196095335,
          0.2166500159317417,
          0.22488702866879687,
          0.16347262185858438,
          0.1964899716140613,
          0.21459072893869488,
          0.15478812974039707,
          0.20771991527035275,
          0.19214728289467523,
          0.1569201568167213,
          0.14054191481400996,
          0.22322879511622595,
          0.20412346210282814,
          0.20701560291783597,
          0.20130014770355942,
          0.20189285224822306,
          0.21455195221710702,
          0.20767127395919163,
          0.20918655942731085,
          0.22192456329120852,
          0.21494041661278285,
          0.21602032893446665,
          0.21999589924347837,
          0.2199311879790234,
          0.21887668260058685,
          0.21340534753319015,
          0.22333532912389806,
          0.20117429555010052,
          0.2180657289168356,
          0.22934083701366897,
          0.20747461233787995,
          0.21156486461117022,
          0.20002487415407205,
          0.19851626559530475,
          0.21691819364670803,
          0.21457486256120095,
          0.22569200296966252,
          0.20710288698265672,
          0.2116651092167446,
          0.20962119946485913,
          0.20785014400930377,
          0.21452129518975385,
          0.21426771661694666,
          0.2075531865882672,
          0.2041227750917672,
          0.19709895552198659,
          0.20453735542356197,
          0.21655295974407932,
          0.21782546844570846,
          0.2065566010859455,
          0.20129402121383108,
          0.22310723124054505,
          0.20686569520482925,
          0.20719030749970524,
          0.21575375568746785,
          0.21989693268063865,
          0.21618316055146142,
          0.20239300997521692,
          0.21556428533836725,
          0.21341069034349971,
          0.2128995718316946,
          0.20503817204366262,
          0.21883808393772936,
          0.2098858941186347,
          0.20762511879538764,
          0.21413718605198442,
          0.12180677585384914,
          0.2149301533010756,
          0.21361546153829142,
          0.20026986146791687,
          0.1974214216962273,
          0.21456122728668214,
          0.22191937134472228,
          0.2096000696543167,
          0.21932119001350628,
          0.2147871209899767,
          0.17981094971841677,
          0.13183711435716028,
          0.16906825178607904,
          0.21019089195186744,
          0.21083288459645128,
          0.22192821837599636,
          0.2080982147056508,
          0.19695397683579224,
          0.2080473342641947,
          0.21555458825543233,
          0.20964797121361115,
          0.19865249160189066,
          0.18480931813385285,
          0.21308429195118972,
          0.2119668158792773,
          0.21425338389874593,
          0.2296630927163279,
          0.21788108386438662,
          0.21947409655601163
         ],
         "yaxis": "y2"
        },
        {
         "marker": {
          "color": [
           0,
           1,
           2,
           3,
           4,
           5,
           6,
           7,
           8,
           9,
           10,
           11,
           12,
           13,
           14,
           15,
           16,
           17,
           18,
           19,
           20,
           21,
           22,
           23,
           24,
           25,
           26,
           27,
           28,
           29,
           30,
           31,
           32,
           33,
           34,
           35,
           36,
           37,
           38,
           39,
           40,
           41,
           42,
           43,
           44,
           45,
           46,
           47,
           48,
           49,
           50,
           51,
           52,
           53,
           54,
           55,
           56,
           57,
           58,
           59,
           60,
           61,
           62,
           63,
           64,
           65,
           66,
           67,
           68,
           69,
           70,
           71,
           72,
           73,
           74,
           75,
           76,
           77,
           78,
           79,
           80,
           81,
           82,
           83,
           84,
           85,
           86,
           87,
           88,
           89,
           90,
           91,
           92,
           93,
           94,
           95,
           96,
           97,
           98,
           99,
           100,
           101,
           102,
           103,
           104,
           105,
           106,
           107,
           108,
           109,
           110,
           111,
           112,
           113,
           114,
           115,
           116,
           117,
           118,
           119,
           120,
           121,
           122,
           123,
           124,
           125,
           126,
           127,
           128,
           129,
           130,
           131,
           132,
           133,
           134,
           135,
           136,
           137,
           138,
           139,
           140,
           141,
           142,
           143,
           144,
           145,
           146,
           147,
           148,
           149,
           150,
           151,
           152,
           153,
           154,
           155,
           156,
           157,
           158,
           159,
           160,
           161,
           162,
           163,
           164,
           165,
           166,
           167,
           168,
           169,
           170,
           171,
           172,
           173,
           174,
           175,
           176,
           177,
           178,
           179,
           180,
           181,
           182,
           183,
           184,
           185,
           186,
           187,
           188,
           189,
           190,
           191,
           192,
           193,
           194,
           195,
           196,
           197,
           198,
           199
          ],
          "colorbar": {
           "title": {
            "text": "Trial"
           },
           "x": 1,
           "xpad": 40
          },
          "colorscale": [
           [
            0,
            "rgb(247,251,255)"
           ],
           [
            0.125,
            "rgb(222,235,247)"
           ],
           [
            0.25,
            "rgb(198,219,239)"
           ],
           [
            0.375,
            "rgb(158,202,225)"
           ],
           [
            0.5,
            "rgb(107,174,214)"
           ],
           [
            0.625,
            "rgb(66,146,198)"
           ],
           [
            0.75,
            "rgb(33,113,181)"
           ],
           [
            0.875,
            "rgb(8,81,156)"
           ],
           [
            1,
            "rgb(8,48,107)"
           ]
          ],
          "line": {
           "color": "Grey",
           "width": 0.5
          },
          "showscale": false
         },
         "mode": "markers",
         "name": "Feasible Trial",
         "showlegend": false,
         "type": "scatter",
         "x": [
          825,
          725,
          875,
          400,
          625,
          300,
          575,
          975,
          425,
          400,
          325,
          750,
          400,
          425,
          850,
          675,
          650,
          675,
          125,
          175,
          775,
          800,
          550,
          575,
          550,
          550,
          550,
          500,
          500,
          500,
          950,
          475,
          950,
          275,
          275,
          475,
          450,
          475,
          500,
          350,
          350,
          700,
          700,
          625,
          650,
          625,
          600,
          350,
          600,
          225,
          625,
          375,
          625,
          600,
          525,
          525,
          500,
          500,
          425,
          425,
          425,
          450,
          450,
          575,
          575,
          575,
          525,
          475,
          525,
          525,
          400,
          525,
          525,
          525,
          625,
          600,
          400,
          600,
          750,
          650,
          750,
          650,
          850,
          750,
          875,
          850,
          900,
          875,
          900,
          800,
          800,
          925,
          1000,
          900,
          1000,
          925,
          1000,
          975,
          1000,
          925,
          925,
          925,
          950,
          925,
          950,
          975,
          975,
          975,
          975,
          975,
          975,
          925,
          1000,
          1000,
          1000,
          925,
          975,
          975,
          950,
          1000,
          925,
          975,
          975,
          975,
          975,
          950,
          950,
          950,
          950,
          850,
          850,
          900,
          850,
          900,
          950,
          900,
          900,
          875,
          950,
          950,
          950,
          950,
          875,
          875,
          925,
          925,
          950,
          950,
          950,
          900,
          900,
          975,
          975,
          1000,
          1000,
          1000,
          1000,
          975,
          925,
          925,
          1000,
          1000,
          1000,
          1000,
          925,
          950,
          950,
          950,
          975,
          950,
          975,
          900,
          900,
          900,
          925,
          1000,
          1000,
          1000,
          975,
          975,
          950,
          950,
          100,
          975,
          1000,
          975,
          1000,
          950,
          950,
          925,
          1000,
          1000,
          975,
          1000,
          975,
          975,
          975,
          975,
          925,
          925
         ],
         "xaxis": "x3",
         "y": [
          0.1862114783217204,
          0.07023836213568639,
          0.18504340950435766,
          0.1327032225890585,
          -0.08531121972769093,
          0.05712638439725637,
          0.20063172131907664,
          0.15417260494917132,
          0.155408355394164,
          0.19417362148187864,
          0.16864222990090755,
          0.20185336852887686,
          0.16962480240058403,
          0.17168524673237634,
          0.1137528071258312,
          0.11216684267270698,
          0.1506850968695995,
          0.12640784601275457,
          0.0776966113723672,
          0.09460174892720412,
          0.19552911478657936,
          0.16143759822235865,
          0.15231214878081503,
          0.16142526312390762,
          0.2045683421504556,
          0.1963608860567219,
          0.20146061559848588,
          0.20410887623041654,
          0.1943593816009012,
          0.20566097195123847,
          0.19884182499902345,
          0.20880564151918404,
          0.1864425637808687,
          0.20359194493457505,
          0.19358385667744393,
          0.17526684863962236,
          0.20189073800932916,
          0.1956330730214984,
          0.20958917155256057,
          0.1879420839491181,
          0.20421469196311418,
          0.19852006905900685,
          0.20271907788503718,
          0.18523118550489076,
          0.18795967296031604,
          0.18226730295512697,
          0.1704436872781266,
          0.19798186083741237,
          0.20062094260850677,
          0.1639048876415045,
          0.15056974317845778,
          0.17641838650252326,
          0.18997260650160327,
          0.21050298478709478,
          0.20222962944474282,
          0.20586312459351813,
          0.20063611449998303,
          0.1980771557186825,
          0.19943503086746045,
          0.18432921851695144,
          0.19549080171987782,
          0.15343632370290494,
          0.18231424136302593,
          0.16088316154092228,
          0.16405859369002548,
          0.16026042875214241,
          0.20724154196605254,
          0.1729621414041936,
          0.21201482565938087,
          0.1988551539233176,
          0.2049142991507698,
          0.19587283811081294,
          0.18853712118036048,
          0.20349628590771135,
          0.20881540177585928,
          0.2088544529623631,
          0.19846995901899417,
          0.2009068106214527,
          0.20828172706987483,
          0.1952159554392377,
          0.2037509155911108,
          0.199883971495252,
          0.20650521695912633,
          0.20188061068520838,
          0.20608488893190263,
          0.21502362377306525,
          0.20989812127199992,
          0.203574014828427,
          0.20986873396879116,
          0.20428097632696654,
          0.20535586496793234,
          0.21061626419299295,
          0.22206174374997997,
          0.20586994695880206,
          0.20539056209575457,
          0.2173638589614578,
          0.195977127520531,
          0.21241986356171094,
          0.2145658485260041,
          0.21725714559773524,
          0.206004197970406,
          0.2198013536105612,
          0.20432266697761747,
          0.20673254955443365,
          0.15842022485436907,
          0.13459556196095335,
          0.2166500159317417,
          0.22488702866879687,
          0.16347262185858438,
          0.1964899716140613,
          0.21459072893869488,
          0.15478812974039707,
          0.20771991527035275,
          0.19214728289467523,
          0.1569201568167213,
          0.14054191481400996,
          0.22322879511622595,
          0.20412346210282814,
          0.20701560291783597,
          0.20130014770355942,
          0.20189285224822306,
          0.21455195221710702,
          0.20767127395919163,
          0.20918655942731085,
          0.22192456329120852,
          0.21494041661278285,
          0.21602032893446665,
          0.21999589924347837,
          0.2199311879790234,
          0.21887668260058685,
          0.21340534753319015,
          0.22333532912389806,
          0.20117429555010052,
          0.2180657289168356,
          0.22934083701366897,
          0.20747461233787995,
          0.21156486461117022,
          0.20002487415407205,
          0.19851626559530475,
          0.21691819364670803,
          0.21457486256120095,
          0.22569200296966252,
          0.20710288698265672,
          0.2116651092167446,
          0.20962119946485913,
          0.20785014400930377,
          0.21452129518975385,
          0.21426771661694666,
          0.2075531865882672,
          0.2041227750917672,
          0.19709895552198659,
          0.20453735542356197,
          0.21655295974407932,
          0.21782546844570846,
          0.2065566010859455,
          0.20129402121383108,
          0.22310723124054505,
          0.20686569520482925,
          0.20719030749970524,
          0.21575375568746785,
          0.21989693268063865,
          0.21618316055146142,
          0.20239300997521692,
          0.21556428533836725,
          0.21341069034349971,
          0.2128995718316946,
          0.20503817204366262,
          0.21883808393772936,
          0.2098858941186347,
          0.20762511879538764,
          0.21413718605198442,
          0.12180677585384914,
          0.2149301533010756,
          0.21361546153829142,
          0.20026986146791687,
          0.1974214216962273,
          0.21456122728668214,
          0.22191937134472228,
          0.2096000696543167,
          0.21932119001350628,
          0.2147871209899767,
          0.17981094971841677,
          0.13183711435716028,
          0.16906825178607904,
          0.21019089195186744,
          0.21083288459645128,
          0.22192821837599636,
          0.2080982147056508,
          0.19695397683579224,
          0.2080473342641947,
          0.21555458825543233,
          0.20964797121361115,
          0.19865249160189066,
          0.18480931813385285,
          0.21308429195118972,
          0.2119668158792773,
          0.21425338389874593,
          0.2296630927163279,
          0.21788108386438662,
          0.21947409655601163
         ],
         "yaxis": "y3"
        },
        {
         "marker": {
          "color": [
           1,
           3,
           4,
           6,
           7,
           8,
           10,
           12,
           13,
           14,
           15,
           16,
           17,
           21,
           22,
           43,
           44,
           45,
           46,
           50,
           52,
           63,
           64,
           65,
           104,
           105,
           108,
           109,
           110,
           111,
           112,
           113,
           122,
           129,
           130,
           131,
           181,
           182,
           183
          ],
          "colorbar": {
           "title": {
            "text": "Trial"
           },
           "x": 1,
           "xpad": 40
          },
          "colorscale": [
           [
            0,
            "rgb(247,251,255)"
           ],
           [
            0.125,
            "rgb(222,235,247)"
           ],
           [
            0.25,
            "rgb(198,219,239)"
           ],
           [
            0.375,
            "rgb(158,202,225)"
           ],
           [
            0.5,
            "rgb(107,174,214)"
           ],
           [
            0.625,
            "rgb(66,146,198)"
           ],
           [
            0.75,
            "rgb(33,113,181)"
           ],
           [
            0.875,
            "rgb(8,81,156)"
           ],
           [
            1,
            "rgb(8,48,107)"
           ]
          ],
          "line": {
           "color": "Grey",
           "width": 0.5
          },
          "showscale": false
         },
         "mode": "markers",
         "name": "Feasible Trial",
         "showlegend": false,
         "type": "scatter",
         "x": [
          5,
          35,
          5,
          75,
          55,
          105,
          75,
          15,
          95,
          5,
          5,
          75,
          65,
          35,
          35,
          95,
          105,
          95,
          95,
          95,
          95,
          45,
          45,
          45,
          25,
          25,
          25,
          25,
          65,
          65,
          85,
          65,
          65,
          55,
          55,
          55,
          55,
          55,
          55
         ],
         "xaxis": "x4",
         "y": [
          0.07023836213568639,
          0.1327032225890585,
          -0.08531121972769093,
          0.20063172131907664,
          0.15417260494917132,
          0.155408355394164,
          0.16864222990090755,
          0.16962480240058403,
          0.17168524673237634,
          0.1137528071258312,
          0.11216684267270698,
          0.1506850968695995,
          0.12640784601275457,
          0.16143759822235865,
          0.15231214878081503,
          0.18523118550489076,
          0.18795967296031604,
          0.18226730295512697,
          0.1704436872781266,
          0.15056974317845778,
          0.18997260650160327,
          0.16088316154092228,
          0.16405859369002548,
          0.16026042875214241,
          0.15842022485436907,
          0.13459556196095335,
          0.16347262185858438,
          0.1964899716140613,
          0.21459072893869488,
          0.15478812974039707,
          0.20771991527035275,
          0.19214728289467523,
          0.20767127395919163,
          0.21887668260058685,
          0.21340534753319015,
          0.22333532912389806,
          0.17981094971841677,
          0.13183711435716028,
          0.16906825178607904
         ],
         "yaxis": "y4"
        },
        {
         "marker": {
          "color": [
           0,
           1,
           2,
           3,
           4,
           5,
           6,
           7,
           8,
           9,
           10,
           11,
           12,
           13,
           14,
           15,
           16,
           17,
           18,
           19,
           20,
           21,
           22,
           23,
           24,
           25,
           26,
           27,
           28,
           29,
           30,
           31,
           32,
           33,
           34,
           35,
           36,
           37,
           38,
           39,
           40,
           41,
           42,
           43,
           44,
           45,
           46,
           47,
           48,
           49,
           50,
           51,
           52,
           53,
           54,
           55,
           56,
           57,
           58,
           59,
           60,
           61,
           62,
           63,
           64,
           65,
           66,
           67,
           68,
           69,
           70,
           71,
           72,
           73,
           74,
           75,
           76,
           77,
           78,
           79,
           80,
           81,
           82,
           83,
           84,
           85,
           86,
           87,
           88,
           89,
           90,
           91,
           92,
           93,
           94,
           95,
           96,
           97,
           98,
           99,
           100,
           101,
           102,
           103,
           104,
           105,
           106,
           107,
           108,
           109,
           110,
           111,
           112,
           113,
           114,
           115,
           116,
           117,
           118,
           119,
           120,
           121,
           122,
           123,
           124,
           125,
           126,
           127,
           128,
           129,
           130,
           131,
           132,
           133,
           134,
           135,
           136,
           137,
           138,
           139,
           140,
           141,
           142,
           143,
           144,
           145,
           146,
           147,
           148,
           149,
           150,
           151,
           152,
           153,
           154,
           155,
           156,
           157,
           158,
           159,
           160,
           161,
           162,
           163,
           164,
           165,
           166,
           167,
           168,
           169,
           170,
           171,
           172,
           173,
           174,
           175,
           176,
           177,
           178,
           179,
           180,
           181,
           182,
           183,
           184,
           185,
           186,
           187,
           188,
           189,
           190,
           191,
           192,
           193,
           194,
           195,
           196,
           197,
           198,
           199
          ],
          "colorbar": {
           "title": {
            "text": "Trial"
           },
           "x": 1,
           "xpad": 40
          },
          "colorscale": [
           [
            0,
            "rgb(247,251,255)"
           ],
           [
            0.125,
            "rgb(222,235,247)"
           ],
           [
            0.25,
            "rgb(198,219,239)"
           ],
           [
            0.375,
            "rgb(158,202,225)"
           ],
           [
            0.5,
            "rgb(107,174,214)"
           ],
           [
            0.625,
            "rgb(66,146,198)"
           ],
           [
            0.75,
            "rgb(33,113,181)"
           ],
           [
            0.875,
            "rgb(8,81,156)"
           ],
           [
            1,
            "rgb(8,48,107)"
           ]
          ],
          "line": {
           "color": "Grey",
           "width": 0.5
          },
          "showscale": false
         },
         "mode": "markers",
         "name": "Feasible Trial",
         "showlegend": false,
         "type": "scatter",
         "x": [
          0.003428982345374868,
          0.0057271555210616654,
          0.014621409222181565,
          0.005879940007129575,
          0.04802037769283175,
          0.004370024779229983,
          0.006894760874655682,
          0.06559561706729869,
          0.021793662373950973,
          0.01179017565436331,
          0.06766272334785786,
          0.00786145458238006,
          0.005455612738379321,
          0.02486077452025475,
          0.001976168686842465,
          0.0011206842760328197,
          0.001390399651528827,
          0.0010499031919548353,
          0.0021061475866996165,
          0.0024203232529559117,
          0.007130129700394242,
          0.007874561254582548,
          0.007294267269739802,
          0.03157300400595908,
          0.017922848929618797,
          0.019253513331815218,
          0.02009773882035302,
          0.012959254372405183,
          0.012473554962165831,
          0.010840660842219442,
          0.03770281058769153,
          0.011083719951152492,
          0.033773750228349074,
          0.03846726817036972,
          0.03799702746776727,
          0.0031328710578377226,
          0.01581884909597877,
          0.011335589107122254,
          0.015251585245100622,
          0.0097247843525805,
          0.011085129953627246,
          0.010092705919725851,
          0.010198123139778456,
          0.017517925916017554,
          0.01658897341027264,
          0.0928459422969425,
          0.01635286092424601,
          0.015888132276959593,
          0.025322109317324832,
          0.004752392765832099,
          0.09800971997240904,
          0.087391008769976,
          0.017171942802134944,
          0.008611630145791452,
          0.0085404631771359,
          0.005822721325332723,
          0.00846674908763922,
          0.005839809594206656,
          0.005817445378188928,
          0.025979042965524668,
          0.005827869710350431,
          0.003713402512000652,
          0.0039162319381590765,
          0.0037815614941346613,
          0.004526675341543499,
          0.01410588617282486,
          0.0047865444049622775,
          0.011597088238628673,
          0.006720326588279613,
          0.01308450908716311,
          0.013533105587472703,
          0.00645191694142393,
          0.00272865336904407,
          0.0065967089881079025,
          0.0067024581948301664,
          0.006792185183011745,
          0.004975185691025945,
          0.004763682042390782,
          0.006752414097579332,
          0.005305127519425727,
          0.00891768979827036,
          0.007584142251617281,
          0.009305428681685332,
          0.008599348644919319,
          0.007953707344609741,
          0.006609072863837408,
          0.006768213978910798,
          0.006805296900121493,
          0.006938712476905376,
          0.006708844975845069,
          0.006852804036213149,
          0.006656003050074093,
          0.007248838524107211,
          0.004195712599845528,
          0.0075502185784985945,
          0.004197207618697591,
          0.007494894074484729,
          0.010088924017289901,
          0.007593768536262041,
          0.009384594759879327,
          0.003193523882913081,
          0.005374539212483786,
          0.010242396733545033,
          0.00341114016307249,
          0.005206454174431762,
          0.00956213988641734,
          0.005451507268392511,
          0.009537369994101248,
          0.005280959261784961,
          0.006102705206538562,
          0.008297317977323556,
          0.004222845063844527,
          0.004322551963005431,
          0.00608071620575913,
          0.006060258691609635,
          0.004228439429696186,
          0.008180926508929822,
          0.008451011978821523,
          0.006125780382086206,
          0.012360784991817926,
          0.008026165394279056,
          0.010211041050401003,
          0.01049155941930793,
          0.010138626130581627,
          0.010900580644321126,
          0.01069580192501462,
          0.011699855260477626,
          0.010991660853798898,
          0.011210303086270046,
          0.011599520217931321,
          0.014594637759840368,
          0.011915019008516945,
          0.011606007951150427,
          0.01469143550192336,
          0.013739695912579904,
          0.018353699721940855,
          0.01424223540132294,
          0.020075147081204996,
          0.02205402516219694,
          0.014944069762927491,
          0.012442491569771594,
          0.015045267072295802,
          0.014977297138591921,
          0.014951223708588599,
          0.01322687267729288,
          0.01278793298938848,
          0.011553898093500312,
          0.011266872733821582,
          0.015897969620653495,
          0.016470424887284785,
          0.009247685735012664,
          0.014580014565108754,
          0.022240734552126454,
          0.009333442655788109,
          0.02656743416446684,
          0.009279718496012892,
          0.009277757968292735,
          0.018406351913118835,
          0.010742613822612044,
          0.009482827575799688,
          0.0091190754729209,
          0.013748142913017146,
          0.012800209987332497,
          0.01414489400504923,
          0.008712090264545266,
          0.008918867519899986,
          0.008976706706563326,
          0.008984412934651452,
          0.007928870022576879,
          0.007800242846584646,
          0.008040187007140868,
          0.0014488793630158885,
          0.012215453224422062,
          0.01209812106140981,
          0.012024341024566572,
          0.009840613212435472,
          0.009874210539285921,
          0.009824258637982667,
          0.010787318603420774,
          0.01056963255460568,
          0.010602994536297804,
          0.011030021604636089,
          0.011063990199721358,
          0.009273118253597043,
          0.009086948236989592,
          0.009329829237476727,
          0.049143106740805874,
          0.012960777934844016,
          0.013499119501399391,
          0.015561610859404546,
          0.05288230997550324,
          0.007479688019844518,
          0.04854875076598811,
          0.08413558833216893,
          0.009807406516921004,
          0.05760436453264808,
          0.03052588670562341,
          0.00834035173166124,
          0.06568773919178689,
          0.008657306628325324
         ],
         "xaxis": "x5",
         "y": [
          0.1862114783217204,
          0.07023836213568639,
          0.18504340950435766,
          0.1327032225890585,
          -0.08531121972769093,
          0.05712638439725637,
          0.20063172131907664,
          0.15417260494917132,
          0.155408355394164,
          0.19417362148187864,
          0.16864222990090755,
          0.20185336852887686,
          0.16962480240058403,
          0.17168524673237634,
          0.1137528071258312,
          0.11216684267270698,
          0.1506850968695995,
          0.12640784601275457,
          0.0776966113723672,
          0.09460174892720412,
          0.19552911478657936,
          0.16143759822235865,
          0.15231214878081503,
          0.16142526312390762,
          0.2045683421504556,
          0.1963608860567219,
          0.20146061559848588,
          0.20410887623041654,
          0.1943593816009012,
          0.20566097195123847,
          0.19884182499902345,
          0.20880564151918404,
          0.1864425637808687,
          0.20359194493457505,
          0.19358385667744393,
          0.17526684863962236,
          0.20189073800932916,
          0.1956330730214984,
          0.20958917155256057,
          0.1879420839491181,
          0.20421469196311418,
          0.19852006905900685,
          0.20271907788503718,
          0.18523118550489076,
          0.18795967296031604,
          0.18226730295512697,
          0.1704436872781266,
          0.19798186083741237,
          0.20062094260850677,
          0.1639048876415045,
          0.15056974317845778,
          0.17641838650252326,
          0.18997260650160327,
          0.21050298478709478,
          0.20222962944474282,
          0.20586312459351813,
          0.20063611449998303,
          0.1980771557186825,
          0.19943503086746045,
          0.18432921851695144,
          0.19549080171987782,
          0.15343632370290494,
          0.18231424136302593,
          0.16088316154092228,
          0.16405859369002548,
          0.16026042875214241,
          0.20724154196605254,
          0.1729621414041936,
          0.21201482565938087,
          0.1988551539233176,
          0.2049142991507698,
          0.19587283811081294,
          0.18853712118036048,
          0.20349628590771135,
          0.20881540177585928,
          0.2088544529623631,
          0.19846995901899417,
          0.2009068106214527,
          0.20828172706987483,
          0.1952159554392377,
          0.2037509155911108,
          0.199883971495252,
          0.20650521695912633,
          0.20188061068520838,
          0.20608488893190263,
          0.21502362377306525,
          0.20989812127199992,
          0.203574014828427,
          0.20986873396879116,
          0.20428097632696654,
          0.20535586496793234,
          0.21061626419299295,
          0.22206174374997997,
          0.20586994695880206,
          0.20539056209575457,
          0.2173638589614578,
          0.195977127520531,
          0.21241986356171094,
          0.2145658485260041,
          0.21725714559773524,
          0.206004197970406,
          0.2198013536105612,
          0.20432266697761747,
          0.20673254955443365,
          0.15842022485436907,
          0.13459556196095335,
          0.2166500159317417,
          0.22488702866879687,
          0.16347262185858438,
          0.1964899716140613,
          0.21459072893869488,
          0.15478812974039707,
          0.20771991527035275,
          0.19214728289467523,
          0.1569201568167213,
          0.14054191481400996,
          0.22322879511622595,
          0.20412346210282814,
          0.20701560291783597,
          0.20130014770355942,
          0.20189285224822306,
          0.21455195221710702,
          0.20767127395919163,
          0.20918655942731085,
          0.22192456329120852,
          0.21494041661278285,
          0.21602032893446665,
          0.21999589924347837,
          0.2199311879790234,
          0.21887668260058685,
          0.21340534753319015,
          0.22333532912389806,
          0.20117429555010052,
          0.2180657289168356,
          0.22934083701366897,
          0.20747461233787995,
          0.21156486461117022,
          0.20002487415407205,
          0.19851626559530475,
          0.21691819364670803,
          0.21457486256120095,
          0.22569200296966252,
          0.20710288698265672,
          0.2116651092167446,
          0.20962119946485913,
          0.20785014400930377,
          0.21452129518975385,
          0.21426771661694666,
          0.2075531865882672,
          0.2041227750917672,
          0.19709895552198659,
          0.20453735542356197,
          0.21655295974407932,
          0.21782546844570846,
          0.2065566010859455,
          0.20129402121383108,
          0.22310723124054505,
          0.20686569520482925,
          0.20719030749970524,
          0.21575375568746785,
          0.21989693268063865,
          0.21618316055146142,
          0.20239300997521692,
          0.21556428533836725,
          0.21341069034349971,
          0.2128995718316946,
          0.20503817204366262,
          0.21883808393772936,
          0.2098858941186347,
          0.20762511879538764,
          0.21413718605198442,
          0.12180677585384914,
          0.2149301533010756,
          0.21361546153829142,
          0.20026986146791687,
          0.1974214216962273,
          0.21456122728668214,
          0.22191937134472228,
          0.2096000696543167,
          0.21932119001350628,
          0.2147871209899767,
          0.17981094971841677,
          0.13183711435716028,
          0.16906825178607904,
          0.21019089195186744,
          0.21083288459645128,
          0.22192821837599636,
          0.2080982147056508,
          0.19695397683579224,
          0.2080473342641947,
          0.21555458825543233,
          0.20964797121361115,
          0.19865249160189066,
          0.18480931813385285,
          0.21308429195118972,
          0.2119668158792773,
          0.21425338389874593,
          0.2296630927163279,
          0.21788108386438662,
          0.21947409655601163
         ],
         "yaxis": "y5"
        }
       ],
       "layout": {
        "template": {
         "data": {
          "bar": [
           {
            "error_x": {
             "color": "#2a3f5f"
            },
            "error_y": {
             "color": "#2a3f5f"
            },
            "marker": {
             "line": {
              "color": "#E5ECF6",
              "width": 0.5
             },
             "pattern": {
              "fillmode": "overlay",
              "size": 10,
              "solidity": 0.2
             }
            },
            "type": "bar"
           }
          ],
          "barpolar": [
           {
            "marker": {
             "line": {
              "color": "#E5ECF6",
              "width": 0.5
             },
             "pattern": {
              "fillmode": "overlay",
              "size": 10,
              "solidity": 0.2
             }
            },
            "type": "barpolar"
           }
          ],
          "carpet": [
           {
            "aaxis": {
             "endlinecolor": "#2a3f5f",
             "gridcolor": "white",
             "linecolor": "white",
             "minorgridcolor": "white",
             "startlinecolor": "#2a3f5f"
            },
            "baxis": {
             "endlinecolor": "#2a3f5f",
             "gridcolor": "white",
             "linecolor": "white",
             "minorgridcolor": "white",
             "startlinecolor": "#2a3f5f"
            },
            "type": "carpet"
           }
          ],
          "choropleth": [
           {
            "colorbar": {
             "outlinewidth": 0,
             "ticks": ""
            },
            "type": "choropleth"
           }
          ],
          "contour": [
           {
            "colorbar": {
             "outlinewidth": 0,
             "ticks": ""
            },
            "colorscale": [
             [
              0,
              "#0d0887"
             ],
             [
              0.1111111111111111,
              "#46039f"
             ],
             [
              0.2222222222222222,
              "#7201a8"
             ],
             [
              0.3333333333333333,
              "#9c179e"
             ],
             [
              0.4444444444444444,
              "#bd3786"
             ],
             [
              0.5555555555555556,
              "#d8576b"
             ],
             [
              0.6666666666666666,
              "#ed7953"
             ],
             [
              0.7777777777777778,
              "#fb9f3a"
             ],
             [
              0.8888888888888888,
              "#fdca26"
             ],
             [
              1,
              "#f0f921"
             ]
            ],
            "type": "contour"
           }
          ],
          "contourcarpet": [
           {
            "colorbar": {
             "outlinewidth": 0,
             "ticks": ""
            },
            "type": "contourcarpet"
           }
          ],
          "heatmap": [
           {
            "colorbar": {
             "outlinewidth": 0,
             "ticks": ""
            },
            "colorscale": [
             [
              0,
              "#0d0887"
             ],
             [
              0.1111111111111111,
              "#46039f"
             ],
             [
              0.2222222222222222,
              "#7201a8"
             ],
             [
              0.3333333333333333,
              "#9c179e"
             ],
             [
              0.4444444444444444,
              "#bd3786"
             ],
             [
              0.5555555555555556,
              "#d8576b"
             ],
             [
              0.6666666666666666,
              "#ed7953"
             ],
             [
              0.7777777777777778,
              "#fb9f3a"
             ],
             [
              0.8888888888888888,
              "#fdca26"
             ],
             [
              1,
              "#f0f921"
             ]
            ],
            "type": "heatmap"
           }
          ],
          "histogram": [
           {
            "marker": {
             "pattern": {
              "fillmode": "overlay",
              "size": 10,
              "solidity": 0.2
             }
            },
            "type": "histogram"
           }
          ],
          "histogram2d": [
           {
            "colorbar": {
             "outlinewidth": 0,
             "ticks": ""
            },
            "colorscale": [
             [
              0,
              "#0d0887"
             ],
             [
              0.1111111111111111,
              "#46039f"
             ],
             [
              0.2222222222222222,
              "#7201a8"
             ],
             [
              0.3333333333333333,
              "#9c179e"
             ],
             [
              0.4444444444444444,
              "#bd3786"
             ],
             [
              0.5555555555555556,
              "#d8576b"
             ],
             [
              0.6666666666666666,
              "#ed7953"
             ],
             [
              0.7777777777777778,
              "#fb9f3a"
             ],
             [
              0.8888888888888888,
              "#fdca26"
             ],
             [
              1,
              "#f0f921"
             ]
            ],
            "type": "histogram2d"
           }
          ],
          "histogram2dcontour": [
           {
            "colorbar": {
             "outlinewidth": 0,
             "ticks": ""
            },
            "colorscale": [
             [
              0,
              "#0d0887"
             ],
             [
              0.1111111111111111,
              "#46039f"
             ],
             [
              0.2222222222222222,
              "#7201a8"
             ],
             [
              0.3333333333333333,
              "#9c179e"
             ],
             [
              0.4444444444444444,
              "#bd3786"
             ],
             [
              0.5555555555555556,
              "#d8576b"
             ],
             [
              0.6666666666666666,
              "#ed7953"
             ],
             [
              0.7777777777777778,
              "#fb9f3a"
             ],
             [
              0.8888888888888888,
              "#fdca26"
             ],
             [
              1,
              "#f0f921"
             ]
            ],
            "type": "histogram2dcontour"
           }
          ],
          "mesh3d": [
           {
            "colorbar": {
             "outlinewidth": 0,
             "ticks": ""
            },
            "type": "mesh3d"
           }
          ],
          "parcoords": [
           {
            "line": {
             "colorbar": {
              "outlinewidth": 0,
              "ticks": ""
             }
            },
            "type": "parcoords"
           }
          ],
          "pie": [
           {
            "automargin": true,
            "type": "pie"
           }
          ],
          "scatter": [
           {
            "fillpattern": {
             "fillmode": "overlay",
             "size": 10,
             "solidity": 0.2
            },
            "type": "scatter"
           }
          ],
          "scatter3d": [
           {
            "line": {
             "colorbar": {
              "outlinewidth": 0,
              "ticks": ""
             }
            },
            "marker": {
             "colorbar": {
              "outlinewidth": 0,
              "ticks": ""
             }
            },
            "type": "scatter3d"
           }
          ],
          "scattercarpet": [
           {
            "marker": {
             "colorbar": {
              "outlinewidth": 0,
              "ticks": ""
             }
            },
            "type": "scattercarpet"
           }
          ],
          "scattergeo": [
           {
            "marker": {
             "colorbar": {
              "outlinewidth": 0,
              "ticks": ""
             }
            },
            "type": "scattergeo"
           }
          ],
          "scattergl": [
           {
            "marker": {
             "colorbar": {
              "outlinewidth": 0,
              "ticks": ""
             }
            },
            "type": "scattergl"
           }
          ],
          "scattermap": [
           {
            "marker": {
             "colorbar": {
              "outlinewidth": 0,
              "ticks": ""
             }
            },
            "type": "scattermap"
           }
          ],
          "scattermapbox": [
           {
            "marker": {
             "colorbar": {
              "outlinewidth": 0,
              "ticks": ""
             }
            },
            "type": "scattermapbox"
           }
          ],
          "scatterpolar": [
           {
            "marker": {
             "colorbar": {
              "outlinewidth": 0,
              "ticks": ""
             }
            },
            "type": "scatterpolar"
           }
          ],
          "scatterpolargl": [
           {
            "marker": {
             "colorbar": {
              "outlinewidth": 0,
              "ticks": ""
             }
            },
            "type": "scatterpolargl"
           }
          ],
          "scatterternary": [
           {
            "marker": {
             "colorbar": {
              "outlinewidth": 0,
              "ticks": ""
             }
            },
            "type": "scatterternary"
           }
          ],
          "surface": [
           {
            "colorbar": {
             "outlinewidth": 0,
             "ticks": ""
            },
            "colorscale": [
             [
              0,
              "#0d0887"
             ],
             [
              0.1111111111111111,
              "#46039f"
             ],
             [
              0.2222222222222222,
              "#7201a8"
             ],
             [
              0.3333333333333333,
              "#9c179e"
             ],
             [
              0.4444444444444444,
              "#bd3786"
             ],
             [
              0.5555555555555556,
              "#d8576b"
             ],
             [
              0.6666666666666666,
              "#ed7953"
             ],
             [
              0.7777777777777778,
              "#fb9f3a"
             ],
             [
              0.8888888888888888,
              "#fdca26"
             ],
             [
              1,
              "#f0f921"
             ]
            ],
            "type": "surface"
           }
          ],
          "table": [
           {
            "cells": {
             "fill": {
              "color": "#EBF0F8"
             },
             "line": {
              "color": "white"
             }
            },
            "header": {
             "fill": {
              "color": "#C8D4E3"
             },
             "line": {
              "color": "white"
             }
            },
            "type": "table"
           }
          ]
         },
         "layout": {
          "annotationdefaults": {
           "arrowcolor": "#2a3f5f",
           "arrowhead": 0,
           "arrowwidth": 1
          },
          "autotypenumbers": "strict",
          "coloraxis": {
           "colorbar": {
            "outlinewidth": 0,
            "ticks": ""
           }
          },
          "colorscale": {
           "diverging": [
            [
             0,
             "#8e0152"
            ],
            [
             0.1,
             "#c51b7d"
            ],
            [
             0.2,
             "#de77ae"
            ],
            [
             0.3,
             "#f1b6da"
            ],
            [
             0.4,
             "#fde0ef"
            ],
            [
             0.5,
             "#f7f7f7"
            ],
            [
             0.6,
             "#e6f5d0"
            ],
            [
             0.7,
             "#b8e186"
            ],
            [
             0.8,
             "#7fbc41"
            ],
            [
             0.9,
             "#4d9221"
            ],
            [
             1,
             "#276419"
            ]
           ],
           "sequential": [
            [
             0,
             "#0d0887"
            ],
            [
             0.1111111111111111,
             "#46039f"
            ],
            [
             0.2222222222222222,
             "#7201a8"
            ],
            [
             0.3333333333333333,
             "#9c179e"
            ],
            [
             0.4444444444444444,
             "#bd3786"
            ],
            [
             0.5555555555555556,
             "#d8576b"
            ],
            [
             0.6666666666666666,
             "#ed7953"
            ],
            [
             0.7777777777777778,
             "#fb9f3a"
            ],
            [
             0.8888888888888888,
             "#fdca26"
            ],
            [
             1,
             "#f0f921"
            ]
           ],
           "sequentialminus": [
            [
             0,
             "#0d0887"
            ],
            [
             0.1111111111111111,
             "#46039f"
            ],
            [
             0.2222222222222222,
             "#7201a8"
            ],
            [
             0.3333333333333333,
             "#9c179e"
            ],
            [
             0.4444444444444444,
             "#bd3786"
            ],
            [
             0.5555555555555556,
             "#d8576b"
            ],
            [
             0.6666666666666666,
             "#ed7953"
            ],
            [
             0.7777777777777778,
             "#fb9f3a"
            ],
            [
             0.8888888888888888,
             "#fdca26"
            ],
            [
             1,
             "#f0f921"
            ]
           ]
          },
          "colorway": [
           "#636efa",
           "#EF553B",
           "#00cc96",
           "#ab63fa",
           "#FFA15A",
           "#19d3f3",
           "#FF6692",
           "#B6E880",
           "#FF97FF",
           "#FECB52"
          ],
          "font": {
           "color": "#2a3f5f"
          },
          "geo": {
           "bgcolor": "white",
           "lakecolor": "white",
           "landcolor": "#E5ECF6",
           "showlakes": true,
           "showland": true,
           "subunitcolor": "white"
          },
          "hoverlabel": {
           "align": "left"
          },
          "hovermode": "closest",
          "mapbox": {
           "style": "light"
          },
          "paper_bgcolor": "white",
          "plot_bgcolor": "#E5ECF6",
          "polar": {
           "angularaxis": {
            "gridcolor": "white",
            "linecolor": "white",
            "ticks": ""
           },
           "bgcolor": "#E5ECF6",
           "radialaxis": {
            "gridcolor": "white",
            "linecolor": "white",
            "ticks": ""
           }
          },
          "scene": {
           "xaxis": {
            "backgroundcolor": "#E5ECF6",
            "gridcolor": "white",
            "gridwidth": 2,
            "linecolor": "white",
            "showbackground": true,
            "ticks": "",
            "zerolinecolor": "white"
           },
           "yaxis": {
            "backgroundcolor": "#E5ECF6",
            "gridcolor": "white",
            "gridwidth": 2,
            "linecolor": "white",
            "showbackground": true,
            "ticks": "",
            "zerolinecolor": "white"
           },
           "zaxis": {
            "backgroundcolor": "#E5ECF6",
            "gridcolor": "white",
            "gridwidth": 2,
            "linecolor": "white",
            "showbackground": true,
            "ticks": "",
            "zerolinecolor": "white"
           }
          },
          "shapedefaults": {
           "line": {
            "color": "#2a3f5f"
           }
          },
          "ternary": {
           "aaxis": {
            "gridcolor": "white",
            "linecolor": "white",
            "ticks": ""
           },
           "baxis": {
            "gridcolor": "white",
            "linecolor": "white",
            "ticks": ""
           },
           "bgcolor": "#E5ECF6",
           "caxis": {
            "gridcolor": "white",
            "linecolor": "white",
            "ticks": ""
           }
          },
          "title": {
           "x": 0.05
          },
          "xaxis": {
           "automargin": true,
           "gridcolor": "white",
           "linecolor": "white",
           "ticks": "",
           "title": {
            "standoff": 15
           },
           "zerolinecolor": "white",
           "zerolinewidth": 2
          },
          "yaxis": {
           "automargin": true,
           "gridcolor": "white",
           "linecolor": "white",
           "ticks": "",
           "title": {
            "standoff": 15
           },
           "zerolinecolor": "white",
           "zerolinewidth": 2
          }
         }
        },
        "title": {
         "text": "Slice Plot"
        },
        "width": 1500,
        "xaxis": {
         "anchor": "y",
         "domain": [
          0,
          0.16799999999999998
         ],
         "title": {
          "text": "depth"
         }
        },
        "xaxis2": {
         "anchor": "y2",
         "categoryarray": [
          "RFE",
          "MRMR",
          "None"
         ],
         "categoryorder": "array",
         "domain": [
          0.208,
          0.376
         ],
         "title": {
          "text": "feature_selection"
         },
         "type": "category"
        },
        "xaxis3": {
         "anchor": "y3",
         "domain": [
          0.416,
          0.584
         ],
         "title": {
          "text": "iterations"
         }
        },
        "xaxis4": {
         "anchor": "y4",
         "domain": [
          0.624,
          0.792
         ],
         "title": {
          "text": "k_features"
         }
        },
        "xaxis5": {
         "anchor": "y5",
         "domain": [
          0.832,
          1
         ],
         "title": {
          "text": "learning_rate"
         },
         "type": "log"
        },
        "yaxis": {
         "anchor": "x",
         "domain": [
          0,
          1
         ],
         "title": {
          "text": "R² Score"
         }
        },
        "yaxis2": {
         "anchor": "x2",
         "domain": [
          0,
          1
         ],
         "matches": "y",
         "showticklabels": false
        },
        "yaxis3": {
         "anchor": "x3",
         "domain": [
          0,
          1
         ],
         "matches": "y",
         "showticklabels": false
        },
        "yaxis4": {
         "anchor": "x4",
         "domain": [
          0,
          1
         ],
         "matches": "y",
         "showticklabels": false
        },
        "yaxis5": {
         "anchor": "x5",
         "domain": [
          0,
          1
         ],
         "matches": "y",
         "showticklabels": false
        }
       }
      }
     },
     "metadata": {},
     "output_type": "display_data"
    }
   ],
   "source": [
    "# 1. Parameter Importance Plot\n",
    "fig = vis.plot_param_importances(study, target_name=\"R² Score\")\n",
    "fig.show()\n",
    "\n",
    "# 2. Slice Plot (Best for seeing individual parameter effects)\n",
    "fig = vis.plot_slice(\n",
    "    study,\n",
    "    params=[\n",
    "        'iterations',\n",
    "        'feature_selection',\n",
    "        'depth',\n",
    "        'learning_rate',\n",
    "        'k_features'\n",
    "    ],\n",
    "    target_name=\"R² Score\"\n",
    ")\n",
    "fig.show()"
   ]
  },
  {
   "cell_type": "markdown",
   "id": "47cb4526",
   "metadata": {},
   "source": [
    "# Apply Feature Selection to Training & Test Data"
   ]
  },
  {
   "cell_type": "code",
   "execution_count": 7,
   "id": "193973de",
   "metadata": {},
   "outputs": [],
   "source": [
    "# apply your feature selection code from before\n",
    "best_fs_method = study.best_params.get('feature_selection', 'None')\n",
    "\n",
    "if best_fs_method != 'None':\n",
    "    k_features = study.best_params['k_features']\n",
    "    if best_fs_method == 'RFE':\n",
    "        estimator = RandomForestRegressor()\n",
    "            #n_estimators=study.best_params.get('rfe_n_estimators', 100),\n",
    "            #max_depth=study.best_params.get('rfe_max_depth', 5),\n",
    "            #random_state=42\n",
    "        selector = RFE(\n",
    "            estimator, \n",
    "            n_features_to_select=k_features,\n",
    "           # step=study.best_params.get('rfe_step', 1)\n",
    "        )\n",
    "    elif best_fs_method == 'MRMR':\n",
    "        selector = MRMRTransformer(k_features=k_features)\n",
    "    \n",
    "    selector.fit(X, y)\n",
    "    if hasattr(selector, 'get_support'):  # For SelectKBest/RFE\n",
    "        selected_features = X.columns[selector.get_support()]\n",
    "    else:  # For MRMRTransformer\n",
    "        selected_features = selector.selected_features\n",
    "    X_best = X[selected_features]\n",
    "else:\n",
    "    X_best = X\n",
    "    selected_features = X.columns\n",
    "\n",
    "# Apply the same feature selection to test data\n",
    "if best_fs_method != 'None':\n",
    "    if best_fs_method == 'MRMR':\n",
    "        X_test_final = X_test[selected_features]\n",
    "    else:\n",
    "        X_test_final = selector.transform(X_test)  # Use the already fitted selector\n",
    "        if isinstance(X_test, pd.DataFrame):\n",
    "            X_test_final = pd.DataFrame(X_test_final, columns=selected_features)\n",
    "else:\n",
    "    X_test_final = X_test"
   ]
  },
  {
   "cell_type": "markdown",
   "id": "23e0cd50",
   "metadata": {},
   "source": [
    "# Create Catboost Model with Optimized Parameters and Fit Model"
   ]
  },
  {
   "cell_type": "code",
   "execution_count": 8,
   "id": "29ff4ef2",
   "metadata": {},
   "outputs": [
    {
     "data": {
      "text/plain": [
       "<catboost.core.CatBoostRegressor at 0x1b6991d9490>"
      ]
     },
     "execution_count": 8,
     "metadata": {},
     "output_type": "execute_result"
    }
   ],
   "source": [
    "best_model = CatBoostRegressor(\n",
    "    iterations=study.best_params['iterations'],\n",
    "    depth=study.best_params['depth'],\n",
    "    learning_rate=study.best_params['learning_rate'],\n",
    "    l2_leaf_reg= study.best_params['l2_leaf_reg'],\n",
    "    random_strength=study.best_params['random_strength'],\n",
    "    bagging_temperature=study.best_params['bagging_temperature'],\n",
    "    border_count=study.best_params['border_count'],\n",
    "    random_seed = 42,\n",
    "    verbose=False\n",
    ")\n",
    "\n",
    "# Train on full imputed data\n",
    "best_model.fit(X_best, y)"
   ]
  },
  {
   "cell_type": "markdown",
   "id": "7a891d95",
   "metadata": {},
   "source": [
    "# Run Model and Get Outcomes"
   ]
  },
  {
   "cell_type": "code",
   "execution_count": 9,
   "id": "3dca9c80",
   "metadata": {},
   "outputs": [
    {
     "name": "stdout",
     "output_type": "stream",
     "text": [
      "\n",
      "Final Model Evaluation on Test Set:\n",
      "RMSE: 1.1952\n",
      "R²: 0.1099\n",
      "Accuracy within ±1 point: 0.5375\n"
     ]
    }
   ],
   "source": [
    "# Make predictions\n",
    "y_pred = best_model.predict(X_test_final)\n",
    "\n",
    "# Calculate metrics\n",
    "rmse = np.sqrt(mean_squared_error(y_test, y_pred))\n",
    "r2 = r2_score(y_test, y_pred)\n",
    "\n",
    "print(\"\\nFinal Model Evaluation on Test Set:\")\n",
    "print(f\"RMSE: {rmse:.4f}\")\n",
    "print(f\"R²: {r2:.4f}\")\n",
    "\n",
    "# Calculate accuracy within ±1 point\n",
    "correct = np.sum(np.abs(y_test - y_pred) <= 1)\n",
    "accuracy = correct / len(y_test)\n",
    "print(f\"Accuracy within ±1 point: {accuracy:.4f}\")"
   ]
  }
 ],
 "metadata": {
  "kernelspec": {
   "display_name": "bessy",
   "language": "python",
   "name": "python3"
  },
  "language_info": {
   "codemirror_mode": {
    "name": "ipython",
    "version": 3
   },
   "file_extension": ".py",
   "mimetype": "text/x-python",
   "name": "python",
   "nbconvert_exporter": "python",
   "pygments_lexer": "ipython3",
   "version": "3.13.2"
  }
 },
 "nbformat": 4,
 "nbformat_minor": 5
}

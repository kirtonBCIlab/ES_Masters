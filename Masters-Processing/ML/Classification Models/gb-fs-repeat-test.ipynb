{
 "cells": [
  {
   "cell_type": "code",
   "execution_count": 1,
   "id": "67b879ad",
   "metadata": {},
   "outputs": [],
   "source": [
    "import sys\n",
    "import os\n",
    "\n",
    "# Add the path to your ML directory\n",
    "sys.path.append(r'C:\\Users\\admin\\Documents\\Masters\\ES_Masters\\Masters-Processing\\ML')\n",
    "\n",
    "import numpy as np\n",
    "import pandas as pd\n",
    "import matplotlib.pyplot as plt\n",
    "import seaborn as sns\n",
    "import os\n",
    "import sys\n",
    "from sklearn.model_selection import train_test_split, StratifiedKFold, cross_val_score\n",
    "from sklearn.preprocessing import StandardScaler\n",
    "from sklearn.feature_selection import RFE\n",
    "from sklearn.ensemble import RandomForestClassifier\n",
    "from sklearn.ensemble import GradientBoostingClassifier\n",
    "from mrmr_wrapper import MRMRTransformer\n",
    "import optuna\n",
    "import optuna.visualization as vis\n",
    "from sklearn.impute import SimpleImputer\n",
    "from sklearn.pipeline import Pipeline\n",
    "from sklearn.metrics import (accuracy_score, precision_score, recall_score, f1_score, roc_auc_score, confusion_matrix, roc_curve, precision_recall_curve, average_precision_score)"
   ]
  },
  {
   "cell_type": "markdown",
   "id": "911d52a9",
   "metadata": {},
   "source": [
    "# Import Data"
   ]
  },
  {
   "cell_type": "code",
   "execution_count": 2,
   "id": "6ba49bbc",
   "metadata": {},
   "outputs": [],
   "source": [
    "# Load the data\n",
    "file_path = \"features-Master.csv\"\n",
    "data = pd.read_csv(file_path)\n",
    "\n",
    "# Shuffle the data\n",
    "shuffled = data.sample(frac=1, random_state=42).reset_index(drop=True)\n",
    "data_shuffled = shuffled.iloc[:, 4:]\n",
    "labels_shuffled = shuffled[\"Comfort Score\"]\n",
    "\n",
    "# Create binary labels (1,2 = 0; 4,5 = 1; exclude 3 for clearer separation)\n",
    "binary_labels = labels_shuffled.apply(lambda x: 0 if x <= 2 else (1 if x >=4 else np.nan))\n",
    "binary_data = data_shuffled[~binary_labels.isna()]\n",
    "binary_labels = binary_labels[~binary_labels.isna()] "
   ]
  },
  {
   "cell_type": "markdown",
   "id": "fde8f2e7",
   "metadata": {},
   "source": [
    "# Train/Test Split"
   ]
  },
  {
   "cell_type": "code",
   "execution_count": 3,
   "id": "56f2046e",
   "metadata": {},
   "outputs": [],
   "source": [
    "# For binary classification\n",
    "X_train, X_test, y_train, y_test = train_test_split(\n",
    "    binary_data,\n",
    "    binary_labels,\n",
    "    test_size=0.2,\n",
    "    stratify=binary_labels,\n",
    "    random_state=42\n",
    ")"
   ]
  },
  {
   "cell_type": "markdown",
   "id": "fe3faf12",
   "metadata": {},
   "source": [
    "# Handle Missing Values"
   ]
  },
  {
   "cell_type": "code",
   "execution_count": 4,
   "id": "7d25aa07",
   "metadata": {},
   "outputs": [],
   "source": [
    "imputer = SimpleImputer(strategy='median')\n",
    "\n",
    "X_train = pd.DataFrame(imputer.fit_transform(X_train), columns=X_train.columns)\n",
    "X_test = pd.DataFrame(imputer.transform(X_test), columns=X_test.columns)"
   ]
  },
  {
   "cell_type": "markdown",
   "id": "0930b5cd",
   "metadata": {},
   "source": [
    "# Optimize Feature Selection and Gradient Boosting Parameters"
   ]
  },
  {
   "cell_type": "code",
   "execution_count": null,
   "id": "897963e1",
   "metadata": {},
   "outputs": [],
   "source": [
    "X = X_train.copy()\n",
    "y = y_train.copy()\n",
    "\n",
    "def binary_classification_objective(trial):\n",
    "    # Feature selection, only optimizing method and number of features (no hyperparameters of the methods)\n",
    "    fs_method = trial.suggest_categorical('feature_selection', ['MRMR', 'RFE', 'None'])\n",
    "    \n",
    "    if fs_method != 'None':\n",
    "        k_features = trial.suggest_int('k_features', 5, 105, step = 10) # Only allow a maximum of 105 features to be selected, with a step of 10, to go up to all features: X.shape[1]\n",
    "        if fs_method == 'RFE':\n",
    "            estimator = RandomForestClassifier()\n",
    "            selector = RFE(estimator, n_features_to_select=k_features)\n",
    "        else: #MRMR\n",
    "            selector = MRMRTransformer(k_features=k_features) #https://feature-engine.trainindata.com/en/1.8.x/api_doc/selection/MRMR.html#feature_engine.selection.MRMR\n",
    "    else:\n",
    "        selector = 'passthrough'\n",
    "    \n",
    "    # Gradient Boosting hyperparameters https://www.geeksforgeeks.org/machine-learning/how-to-tune-hyperparameters-in-gradient-boosting-algorithm/, https://scikit-learn.org/stable/modules/generated/sklearn.ensemble.GradientBoostingClassifier.html\n",
    "    params = {\n",
    "        'n_estimators': trial.suggest_int('n_estimators', 50, 500, step=50),\n",
    "        'learning_rate': trial.suggest_float('learning_rate', 0.001, 0.3, log=True),\n",
    "        'max_depth': trial.suggest_int('max_depth', 3, 7),\n",
    "        'min_samples_split': trial.suggest_int('min_samples_split', 2, 20),\n",
    "        'min_samples_leaf': trial.suggest_int('min_samples_leaf', 1, 10),\n",
    "        'subsample': trial.suggest_float('subsample', 0.5, 1.0),\n",
    "        'random_state': 42\n",
    "    }\n",
    "    model = GradientBoostingClassifier(**params)\n",
    "        \n",
    "    # Pipeline\n",
    "    pipeline = Pipeline([\n",
    "        ('feature_selection', selector),\n",
    "        ('model', model)\n",
    "    ])\n",
    "\n",
    "    # Cross-validation\n",
    "    cv = StratifiedKFold(n_splits=5, shuffle=True, random_state=42)\n",
    "    try:\n",
    "        scores = cross_val_score(pipeline, X, y, cv=cv, scoring='roc_auc', n_jobs=1)\n",
    "        return np.mean(scores)\n",
    "    except Exception as e:\n",
    "        print(f\"Error in trial: {e}\")\n",
    "        return -np.inf\n",
    "    "
   ]
  },
  {
   "cell_type": "markdown",
   "id": "bb526bae",
   "metadata": {},
   "source": [
    "# Run Optimization 10 Times and Collect Top Features and Best Parameters"
   ]
  },
  {
   "cell_type": "code",
   "execution_count": null,
   "id": "e45799da",
   "metadata": {},
   "outputs": [
    {
     "name": "stderr",
     "output_type": "stream",
     "text": [
      "[I 2025-09-11 11:10:48,968] A new study created in memory with name: no-name-d5d0c9cd-218a-4c10-8656-289dae45aedc\n"
     ]
    },
    {
     "name": "stdout",
     "output_type": "stream",
     "text": [
      "\n",
      "==================================================\n",
      "STARTING RUN 1/10\n",
      "==================================================\n"
     ]
    },
    {
     "data": {
      "application/vnd.jupyter.widget-view+json": {
       "model_id": "8a65cfc4da01432da2cb3adde46a50b1",
       "version_major": 2,
       "version_minor": 0
      },
      "text/plain": [
       "  0%|          | 0/5 [00:00<?, ?it/s]"
      ]
     },
     "metadata": {},
     "output_type": "display_data"
    },
    {
     "name": "stderr",
     "output_type": "stream",
     "text": [
      "100%|██████████| 5/5 [00:00<00:00, 14.42it/s]\n"
     ]
    },
    {
     "name": "stdout",
     "output_type": "stream",
     "text": [
      "Got MRMR features\n"
     ]
    },
    {
     "name": "stderr",
     "output_type": "stream",
     "text": [
      "100%|██████████| 5/5 [00:00<00:00, 13.72it/s]\n"
     ]
    },
    {
     "name": "stdout",
     "output_type": "stream",
     "text": [
      "Got MRMR features\n"
     ]
    },
    {
     "name": "stderr",
     "output_type": "stream",
     "text": [
      "100%|██████████| 5/5 [00:00<00:00, 14.36it/s]\n"
     ]
    },
    {
     "name": "stdout",
     "output_type": "stream",
     "text": [
      "Got MRMR features\n"
     ]
    },
    {
     "name": "stderr",
     "output_type": "stream",
     "text": [
      "100%|██████████| 5/5 [00:00<00:00, 14.48it/s]\n"
     ]
    },
    {
     "name": "stdout",
     "output_type": "stream",
     "text": [
      "Got MRMR features\n"
     ]
    },
    {
     "name": "stderr",
     "output_type": "stream",
     "text": [
      "100%|██████████| 5/5 [00:00<00:00, 17.70it/s]\n"
     ]
    },
    {
     "name": "stdout",
     "output_type": "stream",
     "text": [
      "Got MRMR features\n",
      "[I 2025-09-11 11:11:05,362] Trial 3 finished with value: 0.7457049123715791 and parameters: {'feature_selection': 'MRMR', 'k_features': 5, 'n_estimators': 500, 'learning_rate': 0.004861684904250388, 'max_depth': 7, 'min_samples_split': 2, 'min_samples_leaf': 7, 'subsample': 0.668920084532501}. Best is trial 3 with value: 0.7457049123715791.\n"
     ]
    },
    {
     "name": "stderr",
     "output_type": "stream",
     "text": [
      "100%|██████████| 25/25 [00:02<00:00, 12.29it/s]\n"
     ]
    },
    {
     "name": "stdout",
     "output_type": "stream",
     "text": [
      "Got MRMR features\n"
     ]
    },
    {
     "name": "stderr",
     "output_type": "stream",
     "text": [
      "100%|██████████| 25/25 [00:01<00:00, 12.67it/s]\n"
     ]
    },
    {
     "name": "stdout",
     "output_type": "stream",
     "text": [
      "Got MRMR features\n"
     ]
    },
    {
     "name": "stderr",
     "output_type": "stream",
     "text": [
      "100%|██████████| 25/25 [00:02<00:00, 11.92it/s]\n"
     ]
    },
    {
     "name": "stdout",
     "output_type": "stream",
     "text": [
      "Got MRMR features\n"
     ]
    },
    {
     "name": "stderr",
     "output_type": "stream",
     "text": [
      "100%|██████████| 25/25 [00:02<00:00, 12.19it/s]\n"
     ]
    },
    {
     "name": "stdout",
     "output_type": "stream",
     "text": [
      "Got MRMR features\n"
     ]
    },
    {
     "name": "stderr",
     "output_type": "stream",
     "text": [
      "100%|██████████| 25/25 [00:02<00:00, 11.36it/s]\n"
     ]
    },
    {
     "name": "stdout",
     "output_type": "stream",
     "text": [
      "Got MRMR features\n",
      "[I 2025-09-11 11:11:24,547] Trial 4 finished with value: 0.7539022705689373 and parameters: {'feature_selection': 'MRMR', 'k_features': 25, 'n_estimators': 450, 'learning_rate': 0.08393985445091634, 'max_depth': 5, 'min_samples_split': 13, 'min_samples_leaf': 10, 'subsample': 0.5959192162138831}. Best is trial 4 with value: 0.7539022705689373.\n",
      "[I 2025-09-11 11:11:31,231] Trial 2 finished with value: 0.7995911495911494 and parameters: {'feature_selection': 'None', 'n_estimators': 500, 'learning_rate': 0.0031388211171699014, 'max_depth': 6, 'min_samples_split': 10, 'min_samples_leaf': 8, 'subsample': 0.6321290379307088}. Best is trial 2 with value: 0.7995911495911494.\n",
      "[I 2025-09-11 11:16:21,624] Trial 0 finished with value: 0.8048698215364883 and parameters: {'feature_selection': 'RFE', 'k_features': 95, 'n_estimators': 200, 'learning_rate': 0.03669169515518512, 'max_depth': 7, 'min_samples_split': 6, 'min_samples_leaf': 1, 'subsample': 0.6875483630998682}. Best is trial 0 with value: 0.8048698215364883.\n",
      "[I 2025-09-11 11:16:59,397] Trial 1 finished with value: 0.7992075825409158 and parameters: {'feature_selection': 'RFE', 'k_features': 25, 'n_estimators': 100, 'learning_rate': 0.013784002448603462, 'max_depth': 6, 'min_samples_split': 19, 'min_samples_leaf': 10, 'subsample': 0.8441110553795164}. Best is trial 0 with value: 0.8048698215364883.\n",
      "\n",
      "Binary Classification Optimization Results:\n",
      "Best ROC AUC Score: 0.8049\n",
      "Best Parameters:\n",
      "  feature_selection: RFE\n",
      "  k_features: 95\n",
      "  n_estimators: 200\n",
      "  learning_rate: 0.03669169515518512\n",
      "  max_depth: 7\n",
      "  min_samples_split: 6\n",
      "  min_samples_leaf: 1\n",
      "  subsample: 0.6875483630998682\n"
     ]
    },
    {
     "name": "stderr",
     "output_type": "stream",
     "text": [
      "[I 2025-09-11 11:17:50,041] A new study created in memory with name: no-name-8bb1e4ca-ee83-4367-b03d-1d99ed421ead\n"
     ]
    },
    {
     "name": "stdout",
     "output_type": "stream",
     "text": [
      "\n",
      "Final Model Evaluation on Test Set:\n",
      "Accuracy: 0.7000\n",
      "Precision: 0.7027\n",
      "Recall: 0.7879\n",
      "F1 Score: 0.7429\n",
      "ROC AUC: 0.7329\n",
      "\n",
      "==============================\n",
      "FEATURE IMPORTANCE (run 1)\n",
      "==============================\n",
      "Number of features in final model: 95\n",
      "\n",
      "==================================================\n",
      "STARTING RUN 2/10\n",
      "==================================================\n"
     ]
    },
    {
     "data": {
      "application/vnd.jupyter.widget-view+json": {
       "model_id": "c04577a6050e4550839f785a19ec4319",
       "version_major": 2,
       "version_minor": 0
      },
      "text/plain": [
       "  0%|          | 0/5 [00:00<?, ?it/s]"
      ]
     },
     "metadata": {},
     "output_type": "display_data"
    },
    {
     "name": "stdout",
     "output_type": "stream",
     "text": [
      "[I 2025-09-11 11:17:53,730] Trial 3 finished with value: 0.7922669922669922 and parameters: {'feature_selection': 'None', 'n_estimators': 50, 'learning_rate': 0.008364548935092512, 'max_depth': 6, 'min_samples_split': 20, 'min_samples_leaf': 3, 'subsample': 0.5887943086388387}. Best is trial 3 with value: 0.7922669922669922.\n",
      "[I 2025-09-11 11:18:18,568] Trial 1 finished with value: 0.7845561845561846 and parameters: {'feature_selection': 'None', 'n_estimators': 500, 'learning_rate': 0.14743043526247235, 'max_depth': 3, 'min_samples_split': 8, 'min_samples_leaf': 10, 'subsample': 0.6660873490073895}. Best is trial 3 with value: 0.7922669922669922.\n",
      "[I 2025-09-11 11:18:30,416] Trial 0 finished with value: 0.7971065971065971 and parameters: {'feature_selection': 'None', 'n_estimators': 500, 'learning_rate': 0.09670641666836292, 'max_depth': 4, 'min_samples_split': 6, 'min_samples_leaf': 2, 'subsample': 0.9331174029283502}. Best is trial 0 with value: 0.7971065971065971.\n",
      "[I 2025-09-11 11:23:08,212] Trial 4 finished with value: 0.7971620971620972 and parameters: {'feature_selection': 'RFE', 'k_features': 85, 'n_estimators': 350, 'learning_rate': 0.0011737783965766022, 'max_depth': 3, 'min_samples_split': 7, 'min_samples_leaf': 10, 'subsample': 0.5810328550472825}. Best is trial 4 with value: 0.7971620971620972.\n",
      "[I 2025-09-11 11:23:24,572] Trial 2 finished with value: 0.7767991267991269 and parameters: {'feature_selection': 'RFE', 'k_features': 65, 'n_estimators': 450, 'learning_rate': 0.05003554252513675, 'max_depth': 6, 'min_samples_split': 19, 'min_samples_leaf': 4, 'subsample': 0.5360435761194566}. Best is trial 4 with value: 0.7971620971620972.\n",
      "\n",
      "Binary Classification Optimization Results:\n",
      "Best ROC AUC Score: 0.7972\n",
      "Best Parameters:\n",
      "  feature_selection: RFE\n",
      "  k_features: 85\n",
      "  n_estimators: 350\n",
      "  learning_rate: 0.0011737783965766022\n",
      "  max_depth: 3\n",
      "  min_samples_split: 7\n",
      "  min_samples_leaf: 10\n",
      "  subsample: 0.5810328550472825\n"
     ]
    },
    {
     "name": "stderr",
     "output_type": "stream",
     "text": [
      "[I 2025-09-11 11:24:16,175] A new study created in memory with name: no-name-dae90102-4849-4ec2-9e3e-d0b6af585cb1\n"
     ]
    },
    {
     "name": "stdout",
     "output_type": "stream",
     "text": [
      "\n",
      "Final Model Evaluation on Test Set:\n",
      "Accuracy: 0.6500\n",
      "Precision: 0.6429\n",
      "Recall: 0.8182\n",
      "F1 Score: 0.7200\n",
      "ROC AUC: 0.7475\n",
      "\n",
      "==============================\n",
      "FEATURE IMPORTANCE (run 2)\n",
      "==============================\n",
      "Number of features in final model: 85\n",
      "\n",
      "==================================================\n",
      "STARTING RUN 3/10\n",
      "==================================================\n"
     ]
    },
    {
     "data": {
      "application/vnd.jupyter.widget-view+json": {
       "model_id": "c14cac603700477eaa4dff6e14b8a46f",
       "version_major": 2,
       "version_minor": 0
      },
      "text/plain": [
       "  0%|          | 0/5 [00:00<?, ?it/s]"
      ]
     },
     "metadata": {},
     "output_type": "display_data"
    },
    {
     "name": "stdout",
     "output_type": "stream",
     "text": [
      "[I 2025-09-11 11:24:25,983] Trial 1 finished with value: 0.7799737299737302 and parameters: {'feature_selection': 'None', 'n_estimators': 150, 'learning_rate': 0.05096225034570484, 'max_depth': 6, 'min_samples_split': 16, 'min_samples_leaf': 6, 'subsample': 0.5185229066892525}. Best is trial 1 with value: 0.7799737299737302.\n",
      "[I 2025-09-11 11:24:47,296] Trial 4 finished with value: 0.8048574881908215 and parameters: {'feature_selection': 'None', 'n_estimators': 300, 'learning_rate': 0.015768797021318347, 'max_depth': 3, 'min_samples_split': 9, 'min_samples_leaf': 9, 'subsample': 0.8178638150278545}. Best is trial 4 with value: 0.8048574881908215.\n",
      "[I 2025-09-11 11:24:48,292] Trial 2 finished with value: 0.8059434392767727 and parameters: {'feature_selection': 'None', 'n_estimators': 300, 'learning_rate': 0.01055226588978486, 'max_depth': 6, 'min_samples_split': 3, 'min_samples_leaf': 1, 'subsample': 0.6036618543573458}. Best is trial 2 with value: 0.8059434392767727.\n",
      "[I 2025-09-11 11:29:53,521] Trial 0 finished with value: 0.7824582824582824 and parameters: {'feature_selection': 'RFE', 'k_features': 55, 'n_estimators': 50, 'learning_rate': 0.0025228502604870053, 'max_depth': 4, 'min_samples_split': 5, 'min_samples_leaf': 7, 'subsample': 0.5605236463454362}. Best is trial 2 with value: 0.8059434392767727.\n",
      "[I 2025-09-11 11:30:04,593] Trial 3 finished with value: 0.8020140353473686 and parameters: {'feature_selection': 'RFE', 'k_features': 45, 'n_estimators': 500, 'learning_rate': 0.001486021581882184, 'max_depth': 4, 'min_samples_split': 17, 'min_samples_leaf': 10, 'subsample': 0.7259695427561288}. Best is trial 2 with value: 0.8059434392767727.\n",
      "\n",
      "Binary Classification Optimization Results:\n",
      "Best ROC AUC Score: 0.8059\n",
      "Best Parameters:\n",
      "  feature_selection: None\n",
      "  n_estimators: 300\n",
      "  learning_rate: 0.01055226588978486\n",
      "  max_depth: 6\n",
      "  min_samples_split: 3\n",
      "  min_samples_leaf: 1\n",
      "  subsample: 0.6036618543573458\n"
     ]
    },
    {
     "name": "stderr",
     "output_type": "stream",
     "text": [
      "[I 2025-09-11 11:30:10,343] A new study created in memory with name: no-name-7b658beb-c0a0-4d75-a0cb-5368b6938ca9\n"
     ]
    },
    {
     "name": "stdout",
     "output_type": "stream",
     "text": [
      "\n",
      "Final Model Evaluation on Test Set:\n",
      "Accuracy: 0.7333\n",
      "Precision: 0.7297\n",
      "Recall: 0.8182\n",
      "F1 Score: 0.7714\n",
      "ROC AUC: 0.7868\n",
      "\n",
      "==============================\n",
      "FEATURE IMPORTANCE (run 3)\n",
      "==============================\n",
      "Number of features in final model: 336\n",
      "\n",
      "==================================================\n",
      "STARTING RUN 4/10\n",
      "==================================================\n"
     ]
    },
    {
     "data": {
      "application/vnd.jupyter.widget-view+json": {
       "model_id": "e4ab705a9e90417aa225811f2f44a314",
       "version_major": 2,
       "version_minor": 0
      },
      "text/plain": [
       "  0%|          | 0/5 [00:00<?, ?it/s]"
      ]
     },
     "metadata": {},
     "output_type": "display_data"
    },
    {
     "name": "stderr",
     "output_type": "stream",
     "text": [
      "100%|██████████| 95/95 [00:11<00:00,  8.60it/s]\n"
     ]
    },
    {
     "name": "stdout",
     "output_type": "stream",
     "text": [
      "Got MRMR features\n"
     ]
    },
    {
     "name": "stderr",
     "output_type": "stream",
     "text": [
      "100%|██████████| 95/95 [00:11<00:00,  8.08it/s]\n"
     ]
    },
    {
     "name": "stdout",
     "output_type": "stream",
     "text": [
      "Got MRMR features\n"
     ]
    },
    {
     "name": "stderr",
     "output_type": "stream",
     "text": [
      "100%|██████████| 95/95 [00:11<00:00,  8.17it/s]\n"
     ]
    },
    {
     "name": "stdout",
     "output_type": "stream",
     "text": [
      "Got MRMR features\n"
     ]
    },
    {
     "name": "stderr",
     "output_type": "stream",
     "text": [
      "100%|██████████| 95/95 [00:12<00:00,  7.63it/s]\n"
     ]
    },
    {
     "name": "stdout",
     "output_type": "stream",
     "text": [
      "Got MRMR features\n"
     ]
    },
    {
     "name": "stderr",
     "output_type": "stream",
     "text": [
      "100%|██████████| 95/95 [00:12<00:00,  7.35it/s]\n"
     ]
    },
    {
     "name": "stdout",
     "output_type": "stream",
     "text": [
      "Got MRMR features\n",
      "[I 2025-09-11 11:31:24,993] Trial 3 finished with value: 0.7761183261183262 and parameters: {'feature_selection': 'MRMR', 'k_features': 95, 'n_estimators': 200, 'learning_rate': 0.032221887408363646, 'max_depth': 4, 'min_samples_split': 8, 'min_samples_leaf': 7, 'subsample': 0.8665470515700875}. Best is trial 3 with value: 0.7761183261183262.\n",
      "[I 2025-09-11 11:42:06,942] Trial 0 finished with value: 0.7891201391201392 and parameters: {'feature_selection': 'RFE', 'k_features': 25, 'n_estimators': 300, 'learning_rate': 0.11689950685246343, 'max_depth': 4, 'min_samples_split': 17, 'min_samples_leaf': 8, 'subsample': 0.7984995658360442}. Best is trial 0 with value: 0.7891201391201392.\n",
      "[I 2025-09-11 11:42:12,222] Trial 2 finished with value: 0.7904385737719071 and parameters: {'feature_selection': 'RFE', 'k_features': 25, 'n_estimators': 400, 'learning_rate': 0.008235633888725162, 'max_depth': 3, 'min_samples_split': 20, 'min_samples_leaf': 9, 'subsample': 0.9420601798847301}. Best is trial 2 with value: 0.7904385737719071.\n",
      "[I 2025-09-11 11:42:20,765] Trial 1 finished with value: 0.7764525597858931 and parameters: {'feature_selection': 'RFE', 'k_features': 15, 'n_estimators': 350, 'learning_rate': 0.021140925290524432, 'max_depth': 6, 'min_samples_split': 19, 'min_samples_leaf': 1, 'subsample': 0.5913512639693062}. Best is trial 2 with value: 0.7904385737719071.\n",
      "[I 2025-09-11 11:42:39,232] Trial 4 finished with value: 0.761371344704678 and parameters: {'feature_selection': 'RFE', 'k_features': 35, 'n_estimators': 200, 'learning_rate': 0.1929511130564579, 'max_depth': 3, 'min_samples_split': 18, 'min_samples_leaf': 5, 'subsample': 0.880198865356292}. Best is trial 2 with value: 0.7904385737719071.\n",
      "\n",
      "Binary Classification Optimization Results:\n",
      "Best ROC AUC Score: 0.7904\n",
      "Best Parameters:\n",
      "  feature_selection: RFE\n",
      "  k_features: 25\n",
      "  n_estimators: 400\n",
      "  learning_rate: 0.008235633888725162\n",
      "  max_depth: 3\n",
      "  min_samples_split: 20\n",
      "  min_samples_leaf: 9\n",
      "  subsample: 0.9420601798847301\n"
     ]
    },
    {
     "name": "stderr",
     "output_type": "stream",
     "text": [
      "[I 2025-09-11 11:43:40,853] A new study created in memory with name: no-name-e67d9090-968f-44d2-9a54-b63bc06d63e7\n"
     ]
    },
    {
     "name": "stdout",
     "output_type": "stream",
     "text": [
      "\n",
      "Final Model Evaluation on Test Set:\n",
      "Accuracy: 0.7000\n",
      "Precision: 0.7027\n",
      "Recall: 0.7879\n",
      "F1 Score: 0.7429\n",
      "ROC AUC: 0.7688\n",
      "\n",
      "==============================\n",
      "FEATURE IMPORTANCE (run 4)\n",
      "==============================\n",
      "Number of features in final model: 25\n",
      "\n",
      "==================================================\n",
      "STARTING RUN 5/10\n",
      "==================================================\n"
     ]
    },
    {
     "data": {
      "application/vnd.jupyter.widget-view+json": {
       "model_id": "36153744b67e4e2fa2d4a9944fcdc704",
       "version_major": 2,
       "version_minor": 0
      },
      "text/plain": [
       "  0%|          | 0/5 [00:00<?, ?it/s]"
      ]
     },
     "metadata": {},
     "output_type": "display_data"
    },
    {
     "name": "stdout",
     "output_type": "stream",
     "text": [
      "[I 2025-09-11 11:43:47,218] Trial 3 finished with value: 0.7961223961223961 and parameters: {'feature_selection': 'None', 'n_estimators': 100, 'learning_rate': 0.00932431822538412, 'max_depth': 3, 'min_samples_split': 5, 'min_samples_leaf': 6, 'subsample': 0.7757393434500328}. Best is trial 3 with value: 0.7961223961223961.\n",
      "[I 2025-09-11 11:43:47,910] Trial 0 finished with value: 0.792604309270976 and parameters: {'feature_selection': 'None', 'n_estimators': 150, 'learning_rate': 0.015000003479811614, 'max_depth': 3, 'min_samples_split': 18, 'min_samples_leaf': 2, 'subsample': 0.5343930017994667}. Best is trial 3 with value: 0.7961223961223961.\n",
      "[I 2025-09-11 11:44:01,509] Trial 2 finished with value: 0.7936347603014269 and parameters: {'feature_selection': 'None', 'n_estimators': 250, 'learning_rate': 0.1625969083438313, 'max_depth': 4, 'min_samples_split': 15, 'min_samples_leaf': 3, 'subsample': 0.8210647017167181}. Best is trial 3 with value: 0.7961223961223961.\n",
      "[I 2025-09-11 11:44:04,495] Trial 4 finished with value: 0.8062530062530062 and parameters: {'feature_selection': 'None', 'n_estimators': 250, 'learning_rate': 0.01690699929764454, 'max_depth': 6, 'min_samples_split': 5, 'min_samples_leaf': 7, 'subsample': 0.6549603846895407}. Best is trial 4 with value: 0.8062530062530062.\n",
      "[I 2025-09-11 11:48:11,938] Trial 1 finished with value: 0.7644241560908228 and parameters: {'feature_selection': 'RFE', 'k_features': 15, 'n_estimators': 50, 'learning_rate': 0.007812611475977053, 'max_depth': 3, 'min_samples_split': 5, 'min_samples_leaf': 2, 'subsample': 0.8576897756008475}. Best is trial 4 with value: 0.8062530062530062.\n",
      "\n",
      "Binary Classification Optimization Results:\n",
      "Best ROC AUC Score: 0.8063\n",
      "Best Parameters:\n",
      "  feature_selection: None\n",
      "  n_estimators: 250\n",
      "  learning_rate: 0.01690699929764454\n",
      "  max_depth: 6\n",
      "  min_samples_split: 5\n",
      "  min_samples_leaf: 7\n",
      "  subsample: 0.6549603846895407\n"
     ]
    },
    {
     "name": "stderr",
     "output_type": "stream",
     "text": [
      "[I 2025-09-11 11:48:15,919] A new study created in memory with name: no-name-1451e89d-ab63-42ad-a582-1f8b7208386d\n"
     ]
    },
    {
     "name": "stdout",
     "output_type": "stream",
     "text": [
      "\n",
      "Final Model Evaluation on Test Set:\n",
      "Accuracy: 0.7000\n",
      "Precision: 0.7027\n",
      "Recall: 0.7879\n",
      "F1 Score: 0.7429\n",
      "ROC AUC: 0.7486\n",
      "\n",
      "==============================\n",
      "FEATURE IMPORTANCE (run 5)\n",
      "==============================\n",
      "Number of features in final model: 336\n",
      "\n",
      "==================================================\n",
      "STARTING RUN 6/10\n",
      "==================================================\n"
     ]
    },
    {
     "data": {
      "application/vnd.jupyter.widget-view+json": {
       "model_id": "90d690f52e3b49bab88e360ffc15bbb4",
       "version_major": 2,
       "version_minor": 0
      },
      "text/plain": [
       "  0%|          | 0/5 [00:00<?, ?it/s]"
      ]
     },
     "metadata": {},
     "output_type": "display_data"
    },
    {
     "name": "stderr",
     "output_type": "stream",
     "text": [
      "100%|██████████| 35/35 [00:02<00:00, 17.06it/s]\n"
     ]
    },
    {
     "name": "stdout",
     "output_type": "stream",
     "text": [
      "Got MRMR features\n"
     ]
    },
    {
     "name": "stderr",
     "output_type": "stream",
     "text": [
      "100%|██████████| 35/35 [00:01<00:00, 17.69it/s]\n"
     ]
    },
    {
     "name": "stdout",
     "output_type": "stream",
     "text": [
      "Got MRMR features\n"
     ]
    },
    {
     "name": "stderr",
     "output_type": "stream",
     "text": [
      "\n",
      "\u001b[A                                            "
     ]
    },
    {
     "name": "stdout",
     "output_type": "stream",
     "text": [
      "[I 2025-09-11 11:48:27,588] Trial 2 finished with value: 0.8203346036679371 and parameters: {'feature_selection': 'None', 'n_estimators': 100, 'learning_rate': 0.11418879666915531, 'max_depth': 7, 'min_samples_split': 2, 'min_samples_leaf': 10, 'subsample': 0.7982237138402128}. Best is trial 2 with value: 0.8203346036679371.\n"
     ]
    },
    {
     "name": "stderr",
     "output_type": "stream",
     "text": [
      "100%|██████████| 35/35 [00:02<00:00, 16.92it/s]\n"
     ]
    },
    {
     "name": "stdout",
     "output_type": "stream",
     "text": [
      "Got MRMR features\n"
     ]
    },
    {
     "name": "stderr",
     "output_type": "stream",
     "text": [
      "100%|██████████| 35/35 [00:01<00:00, 18.15it/s]\n"
     ]
    },
    {
     "name": "stdout",
     "output_type": "stream",
     "text": [
      "Got MRMR features\n"
     ]
    },
    {
     "name": "stderr",
     "output_type": "stream",
     "text": [
      "100%|██████████| 35/35 [00:01<00:00, 17.75it/s]\n"
     ]
    },
    {
     "name": "stdout",
     "output_type": "stream",
     "text": [
      "Got MRMR features\n",
      "[I 2025-09-11 11:48:34,804] Trial 1 finished with value: 0.7493506493506492 and parameters: {'feature_selection': 'MRMR', 'k_features': 35, 'n_estimators': 200, 'learning_rate': 0.0909838554783104, 'max_depth': 7, 'min_samples_split': 4, 'min_samples_leaf': 9, 'subsample': 0.6632365889206085}. Best is trial 2 with value: 0.8203346036679371.\n",
      "[I 2025-09-11 11:48:54,391] Trial 4 finished with value: 0.799318582651916 and parameters: {'feature_selection': 'None', 'n_estimators': 300, 'learning_rate': 0.09314781683506027, 'max_depth': 4, 'min_samples_split': 18, 'min_samples_leaf': 4, 'subsample': 0.822469645776455}. Best is trial 2 with value: 0.8203346036679371.\n",
      "[I 2025-09-11 11:48:55,932] Trial 3 finished with value: 0.8070139736806403 and parameters: {'feature_selection': 'None', 'n_estimators': 350, 'learning_rate': 0.005723655645194496, 'max_depth': 7, 'min_samples_split': 8, 'min_samples_leaf': 1, 'subsample': 0.6373917680745265}. Best is trial 2 with value: 0.8203346036679371.\n",
      "[I 2025-09-11 11:52:01,999] Trial 0 finished with value: 0.7996435663102329 and parameters: {'feature_selection': 'RFE', 'k_features': 105, 'n_estimators': 350, 'learning_rate': 0.004043909756541291, 'max_depth': 3, 'min_samples_split': 7, 'min_samples_leaf': 6, 'subsample': 0.9509576579270678}. Best is trial 2 with value: 0.8203346036679371.\n",
      "\n",
      "Binary Classification Optimization Results:\n",
      "Best ROC AUC Score: 0.8203\n",
      "Best Parameters:\n",
      "  feature_selection: None\n",
      "  n_estimators: 100\n",
      "  learning_rate: 0.11418879666915531\n",
      "  max_depth: 7\n",
      "  min_samples_split: 2\n",
      "  min_samples_leaf: 10\n",
      "  subsample: 0.7982237138402128\n"
     ]
    },
    {
     "name": "stderr",
     "output_type": "stream",
     "text": [
      "[I 2025-09-11 11:52:03,981] A new study created in memory with name: no-name-87d7a33c-0207-4e42-9594-5cbb0f48685f\n"
     ]
    },
    {
     "name": "stdout",
     "output_type": "stream",
     "text": [
      "\n",
      "Final Model Evaluation on Test Set:\n",
      "Accuracy: 0.6500\n",
      "Precision: 0.6667\n",
      "Recall: 0.7273\n",
      "F1 Score: 0.6957\n",
      "ROC AUC: 0.7351\n",
      "\n",
      "==============================\n",
      "FEATURE IMPORTANCE (run 6)\n",
      "==============================\n",
      "Number of features in final model: 336\n",
      "\n",
      "==================================================\n",
      "STARTING RUN 7/10\n",
      "==================================================\n"
     ]
    },
    {
     "data": {
      "application/vnd.jupyter.widget-view+json": {
       "model_id": "cc505f3e6976432fbdf9d42d0498fb2c",
       "version_major": 2,
       "version_minor": 0
      },
      "text/plain": [
       "  0%|          | 0/5 [00:00<?, ?it/s]"
      ]
     },
     "metadata": {},
     "output_type": "display_data"
    },
    {
     "name": "stderr",
     "output_type": "stream",
     "text": [
      "100%|██████████| 15/15 [00:01<00:00, 13.25it/s]\n"
     ]
    },
    {
     "name": "stdout",
     "output_type": "stream",
     "text": [
      "Got MRMR features\n"
     ]
    },
    {
     "name": "stderr",
     "output_type": "stream",
     "text": [
      "100%|██████████| 15/15 [00:01<00:00, 13.37it/s]\n"
     ]
    },
    {
     "name": "stdout",
     "output_type": "stream",
     "text": [
      "Got MRMR features\n"
     ]
    },
    {
     "name": "stderr",
     "output_type": "stream",
     "text": [
      "100%|██████████| 15/15 [00:01<00:00, 12.78it/s]\n"
     ]
    },
    {
     "name": "stdout",
     "output_type": "stream",
     "text": [
      "Got MRMR features\n"
     ]
    },
    {
     "name": "stderr",
     "output_type": "stream",
     "text": [
      "100%|██████████| 15/15 [00:01<00:00, 13.04it/s]\n"
     ]
    },
    {
     "name": "stdout",
     "output_type": "stream",
     "text": [
      "Got MRMR features\n"
     ]
    },
    {
     "name": "stderr",
     "output_type": "stream",
     "text": [
      "100%|██████████| 15/15 [00:01<00:00, 12.24it/s]\n"
     ]
    },
    {
     "name": "stdout",
     "output_type": "stream",
     "text": [
      "Got MRMR features\n",
      "[I 2025-09-11 11:52:17,589] Trial 3 finished with value: 0.7631473464806798 and parameters: {'feature_selection': 'MRMR', 'k_features': 15, 'n_estimators': 450, 'learning_rate': 0.05258946954663219, 'max_depth': 3, 'min_samples_split': 14, 'min_samples_leaf': 3, 'subsample': 0.9934970683575945}. Best is trial 3 with value: 0.7631473464806798.\n"
     ]
    },
    {
     "name": "stderr",
     "output_type": "stream",
     "text": [
      "\n",
      "\u001b[A                                           "
     ]
    },
    {
     "name": "stdout",
     "output_type": "stream",
     "text": [
      "[I 2025-09-11 11:52:18,269] Trial 2 finished with value: 0.7919080919080919 and parameters: {'feature_selection': 'None', 'n_estimators': 200, 'learning_rate': 0.08615645517656124, 'max_depth': 4, 'min_samples_split': 20, 'min_samples_leaf': 7, 'subsample': 0.6180150732455558}. Best is trial 2 with value: 0.7919080919080919.\n"
     ]
    },
    {
     "name": "stderr",
     "output_type": "stream",
     "text": [
      "100%|██████████| 65/65 [00:04<00:00, 14.42it/s]\n"
     ]
    },
    {
     "name": "stdout",
     "output_type": "stream",
     "text": [
      "Got MRMR features\n"
     ]
    },
    {
     "name": "stderr",
     "output_type": "stream",
     "text": [
      "100%|██████████| 65/65 [00:04<00:00, 14.14it/s]\n"
     ]
    },
    {
     "name": "stdout",
     "output_type": "stream",
     "text": [
      "Got MRMR features\n"
     ]
    },
    {
     "name": "stderr",
     "output_type": "stream",
     "text": [
      "100%|██████████| 65/65 [00:04<00:00, 13.78it/s]\n"
     ]
    },
    {
     "name": "stdout",
     "output_type": "stream",
     "text": [
      "Got MRMR features\n"
     ]
    },
    {
     "name": "stderr",
     "output_type": "stream",
     "text": [
      "100%|██████████| 65/65 [00:04<00:00, 13.74it/s]\n"
     ]
    },
    {
     "name": "stdout",
     "output_type": "stream",
     "text": [
      "Got MRMR features\n"
     ]
    },
    {
     "name": "stderr",
     "output_type": "stream",
     "text": [
      "100%|██████████| 65/65 [00:04<00:00, 13.26it/s]\n"
     ]
    },
    {
     "name": "stdout",
     "output_type": "stream",
     "text": [
      "Got MRMR features\n",
      "[I 2025-09-11 11:52:50,459] Trial 4 finished with value: 0.7723153389820057 and parameters: {'feature_selection': 'MRMR', 'k_features': 65, 'n_estimators': 300, 'learning_rate': 0.0028385507930360635, 'max_depth': 4, 'min_samples_split': 4, 'min_samples_leaf': 1, 'subsample': 0.8452426080166141}. Best is trial 2 with value: 0.7919080919080919.\n",
      "[I 2025-09-11 11:58:23,818] Trial 0 finished with value: 0.7602607269273935 and parameters: {'feature_selection': 'RFE', 'k_features': 25, 'n_estimators': 150, 'learning_rate': 0.0010087413765906752, 'max_depth': 3, 'min_samples_split': 10, 'min_samples_leaf': 8, 'subsample': 0.9040768867163687}. Best is trial 2 with value: 0.7919080919080919.\n",
      "[I 2025-09-11 11:58:25,656] Trial 1 finished with value: 0.7960823127489794 and parameters: {'feature_selection': 'RFE', 'k_features': 25, 'n_estimators': 450, 'learning_rate': 0.016632784250656237, 'max_depth': 7, 'min_samples_split': 3, 'min_samples_leaf': 10, 'subsample': 0.9016893788505489}. Best is trial 1 with value: 0.7960823127489794.\n",
      "\n",
      "Binary Classification Optimization Results:\n",
      "Best ROC AUC Score: 0.7961\n",
      "Best Parameters:\n",
      "  feature_selection: RFE\n",
      "  k_features: 25\n",
      "  n_estimators: 450\n",
      "  learning_rate: 0.016632784250656237\n",
      "  max_depth: 7\n",
      "  min_samples_split: 3\n",
      "  min_samples_leaf: 10\n",
      "  subsample: 0.9016893788505489\n"
     ]
    },
    {
     "name": "stderr",
     "output_type": "stream",
     "text": [
      "[I 2025-09-11 11:59:27,749] A new study created in memory with name: no-name-f02a5472-6eba-4bed-821a-968a6e44ec76\n"
     ]
    },
    {
     "name": "stdout",
     "output_type": "stream",
     "text": [
      "\n",
      "Final Model Evaluation on Test Set:\n",
      "Accuracy: 0.7167\n",
      "Precision: 0.7105\n",
      "Recall: 0.8182\n",
      "F1 Score: 0.7606\n",
      "ROC AUC: 0.7856\n",
      "\n",
      "==============================\n",
      "FEATURE IMPORTANCE (run 7)\n",
      "==============================\n",
      "Number of features in final model: 25\n",
      "\n",
      "==================================================\n",
      "STARTING RUN 8/10\n",
      "==================================================\n"
     ]
    },
    {
     "data": {
      "application/vnd.jupyter.widget-view+json": {
       "model_id": "c311363991754c83a6636b7affc270b8",
       "version_major": 2,
       "version_minor": 0
      },
      "text/plain": [
       "  0%|          | 0/5 [00:00<?, ?it/s]"
      ]
     },
     "metadata": {},
     "output_type": "display_data"
    },
    {
     "name": "stderr",
     "output_type": "stream",
     "text": [
      "100%|██████████| 5/5 [00:00<00:00,  5.08it/s]\n"
     ]
    },
    {
     "name": "stdout",
     "output_type": "stream",
     "text": [
      "Got MRMR features\n"
     ]
    },
    {
     "name": "stderr",
     "output_type": "stream",
     "text": [
      "100%|██████████| 5/5 [00:00<00:00, 16.16it/s]\n"
     ]
    },
    {
     "name": "stdout",
     "output_type": "stream",
     "text": [
      "Got MRMR features\n"
     ]
    },
    {
     "name": "stderr",
     "output_type": "stream",
     "text": [
      "100%|██████████| 5/5 [00:00<00:00, 14.94it/s]\n"
     ]
    },
    {
     "name": "stdout",
     "output_type": "stream",
     "text": [
      "Got MRMR features\n"
     ]
    },
    {
     "name": "stderr",
     "output_type": "stream",
     "text": [
      "100%|██████████| 5/5 [00:00<00:00, 16.20it/s]\n"
     ]
    },
    {
     "name": "stdout",
     "output_type": "stream",
     "text": [
      "Got MRMR features\n"
     ]
    },
    {
     "name": "stderr",
     "output_type": "stream",
     "text": [
      "100%|██████████| 5/5 [00:00<00:00, 14.27it/s]\n"
     ]
    },
    {
     "name": "stdout",
     "output_type": "stream",
     "text": [
      "Got MRMR features\n",
      "[I 2025-09-11 11:59:41,617] Trial 1 finished with value: 0.7400735067401734 and parameters: {'feature_selection': 'MRMR', 'k_features': 5, 'n_estimators': 350, 'learning_rate': 0.004788492271594374, 'max_depth': 6, 'min_samples_split': 8, 'min_samples_leaf': 9, 'subsample': 0.9390434349219676}. Best is trial 1 with value: 0.7400735067401734.\n"
     ]
    },
    {
     "name": "stderr",
     "output_type": "stream",
     "text": [
      "100%|██████████| 105/105 [00:08<00:00, 12.13it/s]\n"
     ]
    },
    {
     "name": "stdout",
     "output_type": "stream",
     "text": [
      "Got MRMR features\n"
     ]
    },
    {
     "name": "stderr",
     "output_type": "stream",
     "text": [
      "100%|██████████| 105/105 [00:08<00:00, 11.72it/s]\n"
     ]
    },
    {
     "name": "stdout",
     "output_type": "stream",
     "text": [
      "Got MRMR features\n"
     ]
    },
    {
     "name": "stderr",
     "output_type": "stream",
     "text": [
      "100%|██████████| 105/105 [00:09<00:00, 11.45it/s]\n"
     ]
    },
    {
     "name": "stdout",
     "output_type": "stream",
     "text": [
      "Got MRMR features\n"
     ]
    },
    {
     "name": "stderr",
     "output_type": "stream",
     "text": [
      "\n",
      "\u001b[A                                             \n"
     ]
    },
    {
     "name": "stdout",
     "output_type": "stream",
     "text": [
      "[I 2025-09-11 12:00:15,021] Trial 2 finished with value: 0.7996034829368164 and parameters: {'feature_selection': 'None', 'n_estimators': 350, 'learning_rate': 0.07848448019697485, 'max_depth': 6, 'min_samples_split': 12, 'min_samples_leaf': 5, 'subsample': 0.8121107550883471}. Best is trial 2 with value: 0.7996034829368164.\n"
     ]
    },
    {
     "name": "stderr",
     "output_type": "stream",
     "text": [
      "100%|██████████| 105/105 [00:08<00:00, 12.13it/s][A\n"
     ]
    },
    {
     "name": "stdout",
     "output_type": "stream",
     "text": [
      "Got MRMR features\n"
     ]
    },
    {
     "name": "stderr",
     "output_type": "stream",
     "text": [
      "100%|██████████| 105/105 [00:08<00:00, 12.81it/s]\n"
     ]
    },
    {
     "name": "stdout",
     "output_type": "stream",
     "text": [
      "Got MRMR features\n",
      "[I 2025-09-11 12:00:28,917] Trial 4 finished with value: 0.7680609513942847 and parameters: {'feature_selection': 'MRMR', 'k_features': 105, 'n_estimators': 100, 'learning_rate': 0.0028044235451387526, 'max_depth': 3, 'min_samples_split': 16, 'min_samples_leaf': 8, 'subsample': 0.7418143449762633}. Best is trial 2 with value: 0.7996034829368164.\n",
      "[I 2025-09-11 12:04:56,586] Trial 0 finished with value: 0.7887581554248222 and parameters: {'feature_selection': 'RFE', 'k_features': 95, 'n_estimators': 50, 'learning_rate': 0.010286433764843797, 'max_depth': 4, 'min_samples_split': 20, 'min_samples_leaf': 3, 'subsample': 0.7165301620744986}. Best is trial 2 with value: 0.7996034829368164.\n",
      "[I 2025-09-11 12:05:21,772] Trial 3 finished with value: 0.7837859671193004 and parameters: {'feature_selection': 'RFE', 'k_features': 65, 'n_estimators': 450, 'learning_rate': 0.014592869407601867, 'max_depth': 5, 'min_samples_split': 9, 'min_samples_leaf': 3, 'subsample': 0.6538543248962312}. Best is trial 2 with value: 0.7996034829368164.\n",
      "\n",
      "Binary Classification Optimization Results:\n",
      "Best ROC AUC Score: 0.7996\n",
      "Best Parameters:\n",
      "  feature_selection: None\n",
      "  n_estimators: 350\n",
      "  learning_rate: 0.07848448019697485\n",
      "  max_depth: 6\n",
      "  min_samples_split: 12\n",
      "  min_samples_leaf: 5\n",
      "  subsample: 0.8121107550883471\n"
     ]
    },
    {
     "name": "stderr",
     "output_type": "stream",
     "text": [
      "[I 2025-09-11 12:05:29,854] A new study created in memory with name: no-name-9d0d26c3-cd92-476b-85f6-e52fbb214245\n"
     ]
    },
    {
     "name": "stdout",
     "output_type": "stream",
     "text": [
      "\n",
      "Final Model Evaluation on Test Set:\n",
      "Accuracy: 0.7500\n",
      "Precision: 0.7368\n",
      "Recall: 0.8485\n",
      "F1 Score: 0.7887\n",
      "ROC AUC: 0.7677\n",
      "\n",
      "==============================\n",
      "FEATURE IMPORTANCE (run 8)\n",
      "==============================\n",
      "Number of features in final model: 336\n",
      "\n",
      "==================================================\n",
      "STARTING RUN 9/10\n",
      "==================================================\n"
     ]
    },
    {
     "data": {
      "application/vnd.jupyter.widget-view+json": {
       "model_id": "62f942c99efe4c538b7ff8195e02f2f1",
       "version_major": 2,
       "version_minor": 0
      },
      "text/plain": [
       "  0%|          | 0/5 [00:00<?, ?it/s]"
      ]
     },
     "metadata": {},
     "output_type": "display_data"
    },
    {
     "name": "stderr",
     "output_type": "stream",
     "text": [
      "\n",
      "\u001b[A\n",
      "\u001b[A\n",
      "\n",
      "\u001b[A\u001b[A\n",
      "\u001b[A\n",
      "\n",
      "\u001b[A\u001b[A\n",
      "\n",
      "\u001b[A\u001b[A\n",
      "\u001b[A\n",
      "\n",
      "\u001b[A\u001b[A\n",
      "\u001b[A\n",
      "\n",
      "\u001b[A\u001b[A\n",
      "\u001b[A\n",
      "\n",
      "\u001b[A\u001b[A\n",
      "\u001b[A\n",
      "\u001b[A                                            \n",
      "\n",
      "\u001b[A\u001b[A                                         \n",
      "\n",
      "\n",
      "\u001b[A\u001b[A\u001b[A                                      \n",
      "\u001b[A\n",
      "\n",
      "\u001b[A\u001b[A\n",
      "\n",
      "\u001b[A\u001b[A\n",
      "\u001b[A"
     ]
    },
    {
     "name": "stdout",
     "output_type": "stream",
     "text": [
      "[I 2025-09-11 12:05:35,864] Trial 2 finished with value: 0.7961408961408962 and parameters: {'feature_selection': 'None', 'n_estimators': 50, 'learning_rate': 0.03231435994629829, 'max_depth': 5, 'min_samples_split': 2, 'min_samples_leaf': 5, 'subsample': 0.8261741600122885}. Best is trial 2 with value: 0.7961408961408962.\n"
     ]
    },
    {
     "name": "stderr",
     "output_type": "stream",
     "text": [
      "\n",
      "\n",
      "\u001b[A\u001b[A\n",
      "\u001b[A\n",
      "\n",
      "\u001b[A\u001b[A\n",
      "\u001b[A\n",
      "\n",
      "\u001b[A\u001b[A\n",
      "\u001b[A\n",
      "\n",
      "\u001b[A\u001b[A\n",
      "\u001b[A\n",
      "\n",
      "\u001b[A\u001b[A\n",
      "\u001b[A\n",
      "\n",
      "\u001b[A\u001b[A\n",
      "\u001b[A\n",
      "\n",
      "\u001b[A\u001b[A\n",
      "\u001b[A\n",
      "\n",
      "\u001b[A\u001b[A\n",
      "\u001b[A\n",
      "\n",
      "\u001b[A\u001b[A\n",
      "\u001b[A\n",
      "\n",
      "\u001b[A\u001b[A\n",
      "\u001b[A\n",
      "\n",
      "\u001b[A\u001b[A\n",
      "\u001b[A\n",
      "\n",
      "\u001b[A\u001b[A\n",
      "\u001b[A\n",
      "\n",
      "\u001b[A\u001b[A\n",
      "\u001b[A\n",
      "\n",
      "\u001b[A\u001b[A\n",
      "\u001b[A\n",
      "\n",
      "\u001b[A\u001b[A\n",
      "\u001b[A\n",
      "\n",
      "100%|██████████| 55/55 [00:05<00:00, 10.73it/s]\n",
      "\n",
      "\u001b[A\n",
      "\n",
      "\u001b[A\u001b[A"
     ]
    },
    {
     "name": "stdout",
     "output_type": "stream",
     "text": [
      "Got MRMR features\n"
     ]
    },
    {
     "name": "stderr",
     "output_type": "stream",
     "text": [
      "\n",
      "\n",
      "\u001b[A\u001b[A\n",
      "\u001b[A\n",
      "\u001b[A\n",
      "\n",
      "\u001b[A\u001b[A\n",
      "\u001b[A\n",
      "\n",
      "\u001b[A\u001b[A\n",
      "\u001b[A\n",
      "\n",
      "\u001b[A\u001b[A\n",
      "\u001b[A\n",
      "\u001b[A\n",
      "\n",
      "\u001b[A\u001b[A\n",
      "\u001b[A\n",
      "\n",
      "\u001b[A\u001b[A\n",
      "\u001b[A\n",
      "\n",
      "100%|██████████| 45/45 [00:04<00:00,  9.67it/s]\n",
      "\n",
      "\u001b[A\n",
      "\u001b[A"
     ]
    },
    {
     "name": "stdout",
     "output_type": "stream",
     "text": [
      "Got MRMR features\n"
     ]
    },
    {
     "name": "stderr",
     "output_type": "stream",
     "text": [
      "\n",
      "\u001b[A\n",
      "\u001b[A\n",
      "\u001b[A\n",
      "\u001b[A\n",
      "\u001b[A\n",
      "\u001b[A\n",
      "\u001b[A\n",
      "\u001b[A\n",
      "\u001b[A\n",
      "\u001b[A\n",
      "\u001b[A\n",
      "\u001b[A\n",
      "\u001b[A\n",
      "\n",
      "\u001b[A\u001b[A\n",
      "\u001b[A\n",
      "\n",
      "\u001b[A\u001b[A\n",
      "\u001b[A\n",
      "\n",
      "\u001b[A\u001b[A\n",
      "\u001b[A\n",
      "\n",
      "\u001b[A\u001b[A\n",
      "\u001b[A\n",
      "\n",
      "\u001b[A\u001b[A\n",
      "\u001b[A\n",
      "\n",
      "\u001b[A\u001b[A\n",
      "\u001b[A\n",
      "\n",
      "\u001b[A\u001b[A\n",
      "\u001b[A\n",
      "\n",
      "\u001b[A\u001b[A\n",
      "\u001b[A\n",
      "\n",
      "\u001b[A\u001b[A\n",
      "\u001b[A\n",
      "\n",
      "\u001b[A\u001b[A\n",
      "\u001b[A\n",
      "\n",
      "\u001b[A\u001b[A\n",
      "\u001b[A\n",
      "\n",
      "\u001b[A\u001b[A\n",
      "\u001b[A\n",
      "\n",
      "\u001b[A\u001b[A\n",
      "100%|██████████| 95/95 [00:09<00:00, 10.34it/s]\n",
      "\n",
      "\n",
      "\u001b[A\u001b[A\n",
      "\n",
      "\n"
     ]
    },
    {
     "name": "stdout",
     "output_type": "stream",
     "text": [
      "Got MRMR features\n"
     ]
    },
    {
     "name": "stderr",
     "output_type": "stream",
     "text": [
      " 35%|███▍      | 19/55 [00:02<00:04,  7.94it/s]\u001b[A\u001b[A\u001b[A\n",
      "\n",
      "\u001b[A\u001b[A\n",
      "\n",
      "\u001b[A\u001b[A\n",
      "\n",
      "\u001b[A\u001b[A\n",
      "\n",
      "\u001b[A\u001b[A\n",
      "\n",
      "\u001b[A\u001b[A\n",
      "\n",
      "\u001b[A\u001b[A\n",
      "\n",
      "\u001b[A\u001b[A\n",
      "\n",
      "\u001b[A\u001b[A\n",
      "\n",
      "\u001b[A\u001b[A\n",
      "\n",
      "\u001b[A\u001b[A\n",
      "\n",
      "100%|██████████| 45/45 [00:04<00:00,  9.66it/s]\n",
      "\n",
      "\n",
      "\u001b[A\u001b[A\n",
      "\n",
      "\u001b[A\u001b[A"
     ]
    },
    {
     "name": "stdout",
     "output_type": "stream",
     "text": [
      "Got MRMR features\n"
     ]
    },
    {
     "name": "stderr",
     "output_type": "stream",
     "text": [
      "\n",
      "\n",
      "\u001b[A\u001b[A\n",
      "\n",
      "\u001b[A\u001b[A\n",
      "\n",
      "\u001b[A\u001b[A\n",
      "\n",
      "\u001b[A\u001b[A\n",
      "\n",
      "\u001b[A\u001b[A\n",
      "\n",
      "100%|██████████| 55/55 [00:05<00:00,  9.85it/s]\n"
     ]
    },
    {
     "name": "stdout",
     "output_type": "stream",
     "text": [
      "Got MRMR features\n"
     ]
    },
    {
     "name": "stderr",
     "output_type": "stream",
     "text": [
      "\n",
      "\u001b[A\n",
      "\u001b[A\n",
      "\u001b[A\n",
      "\u001b[A\n",
      "\u001b[A\n",
      "\u001b[A\n",
      "\u001b[A\n",
      "\u001b[A\n",
      "\u001b[A\n",
      "100%|██████████| 45/45 [00:03<00:00, 11.54it/s]\n",
      "\n",
      "\u001b[A"
     ]
    },
    {
     "name": "stdout",
     "output_type": "stream",
     "text": [
      "Got MRMR features\n"
     ]
    },
    {
     "name": "stderr",
     "output_type": "stream",
     "text": [
      "\n",
      "\u001b[A\n",
      "\u001b[A\n",
      "\u001b[A\n",
      "\n",
      "\u001b[A\u001b[A\n",
      "\u001b[A\n",
      "\n",
      "\u001b[A\u001b[A\n",
      "\u001b[A\n",
      "\u001b[A\n",
      "\n",
      "\u001b[A\u001b[A\n",
      "\u001b[A\n",
      "\u001b[A\n",
      "\n",
      "\u001b[A\u001b[A\n",
      "\u001b[A\n",
      "\u001b[A\n",
      "\n",
      "\u001b[A\u001b[A\n",
      "\u001b[A\n",
      "\n",
      "\u001b[A\u001b[A\n",
      "\u001b[A\n",
      "\n",
      "\u001b[A\u001b[A\n",
      "\u001b[A\n",
      "\n",
      "\u001b[A\u001b[A\n",
      "\u001b[A\n",
      "\n",
      "\u001b[A\u001b[A\n",
      "\u001b[A\n",
      "\n",
      "\u001b[A\u001b[A\n",
      "\u001b[A\n",
      "\n",
      "\u001b[A\u001b[A\n",
      "\u001b[A\n",
      "\n",
      "\u001b[A\u001b[A\n",
      "\u001b[A\n",
      "\n",
      "\u001b[A\u001b[A\n",
      "\u001b[A\n",
      "\n",
      "\u001b[A\u001b[A\n",
      "\u001b[A\n",
      "\n",
      "\u001b[A\u001b[A\n",
      "\u001b[A\n",
      "\n",
      "\u001b[A\u001b[A\n",
      "\u001b[A\n",
      "\n",
      "\u001b[A\u001b[A\n",
      "\u001b[A\n",
      "\n",
      "\u001b[A\u001b[A\n",
      "\u001b[A\n",
      "\n",
      "\u001b[A\u001b[A\n",
      "\u001b[A\n",
      "\n",
      "\u001b[A\u001b[A\n",
      "\u001b[A\n",
      "\n",
      "\u001b[A\u001b[A\n",
      "\u001b[A\n",
      "\n",
      "\u001b[A\u001b[A\n",
      "\u001b[A\n",
      "\n",
      "\u001b[A\u001b[A\n",
      "\u001b[A\n",
      "\n",
      "\u001b[A\u001b[A\n",
      "\u001b[A\n",
      "\n",
      "\u001b[A\u001b[A\n",
      "\u001b[A\n",
      "\n",
      "\u001b[A\u001b[A\n",
      "\u001b[A\n",
      "\n",
      "\u001b[A\u001b[A\n",
      "\u001b[A\n",
      "\n",
      "\u001b[A\u001b[A\n",
      "\u001b[A\n",
      "\n",
      "\u001b[A\u001b[A\n",
      "\u001b[A\n",
      "\n",
      "\u001b[A\u001b[A\n",
      "\u001b[A\n",
      "\n",
      "\u001b[A\u001b[A\n",
      "\u001b[A\n",
      "\n",
      "\u001b[A\u001b[A\n",
      "\u001b[A\n",
      "\n",
      "\u001b[A\u001b[A\n",
      "\u001b[A\n",
      "\n",
      "\u001b[A\u001b[A\n",
      "\u001b[A\n",
      "\n",
      "\u001b[A\u001b[A\n",
      "\u001b[A\n",
      "\n",
      "\u001b[A\u001b[A\n",
      "\u001b[A\n",
      "\n",
      "\u001b[A\u001b[A\n",
      "\u001b[A\n",
      "\n",
      "\u001b[A\u001b[A\n",
      "\u001b[A\n",
      "\n",
      "\u001b[A\u001b[A\n",
      "\u001b[A\n",
      "\n",
      "\u001b[A\u001b[A\n",
      "\u001b[A\n",
      "\n",
      "\u001b[A\u001b[A\n",
      "\u001b[A\n",
      "\n",
      "100%|██████████| 45/45 [00:05<00:00,  8.11it/s]\n",
      "\n",
      "\u001b[A\n",
      "\u001b[A"
     ]
    },
    {
     "name": "stdout",
     "output_type": "stream",
     "text": [
      "Got MRMR features\n"
     ]
    },
    {
     "name": "stderr",
     "output_type": "stream",
     "text": [
      "\n",
      "\u001b[A\n",
      "\u001b[A\n",
      "\u001b[A\n",
      "100%|██████████| 55/55 [00:06<00:00,  8.11it/s]\n",
      "\n",
      "\u001b[A"
     ]
    },
    {
     "name": "stdout",
     "output_type": "stream",
     "text": [
      "Got MRMR features\n"
     ]
    },
    {
     "name": "stderr",
     "output_type": "stream",
     "text": [
      "\n",
      "\u001b[A\n",
      "\u001b[A\n",
      "\u001b[A\n",
      "\u001b[A\n",
      "\u001b[A\n",
      "\u001b[A\n",
      "\u001b[A\n",
      "\u001b[A\n",
      "\u001b[A\n",
      "\u001b[A\n",
      "100%|██████████| 95/95 [00:10<00:00,  8.84it/s]\n"
     ]
    },
    {
     "name": "stdout",
     "output_type": "stream",
     "text": [
      "Got MRMR features\n"
     ]
    },
    {
     "name": "stderr",
     "output_type": "stream",
     "text": [
      "\n",
      "\u001b[A\n",
      "100%|██████████| 45/45 [00:03<00:00, 11.49it/s]\n",
      "\n",
      "\u001b[A\n",
      "\u001b[A"
     ]
    },
    {
     "name": "stdout",
     "output_type": "stream",
     "text": [
      "Got MRMR features\n"
     ]
    },
    {
     "name": "stderr",
     "output_type": "stream",
     "text": [
      "\n",
      "\u001b[A\n",
      "\u001b[A\n",
      "\n",
      "\u001b[A\u001b[A                                         \n",
      "\u001b[A\n",
      "\u001b[A\n",
      "\u001b[A"
     ]
    },
    {
     "name": "stdout",
     "output_type": "stream",
     "text": [
      "[I 2025-09-11 12:06:02,758] Trial 0 finished with value: 0.7642826309492976 and parameters: {'feature_selection': 'MRMR', 'k_features': 45, 'n_estimators': 150, 'learning_rate': 0.0034605776190593973, 'max_depth': 3, 'min_samples_split': 13, 'min_samples_leaf': 1, 'subsample': 0.5928621584979858}. Best is trial 2 with value: 0.7961408961408962.\n"
     ]
    },
    {
     "name": "stderr",
     "output_type": "stream",
     "text": [
      "\n",
      "\u001b[A\n",
      "\u001b[A\n",
      "\u001b[A\n",
      "\u001b[A\n",
      "\u001b[A\n",
      "\u001b[A\n",
      "\u001b[A\n",
      "\u001b[A\n",
      "\u001b[A\n",
      "\u001b[A\n",
      "\u001b[A\n",
      "\u001b[A\n",
      "\u001b[A\n",
      "\u001b[A\n",
      "\u001b[A\n",
      "\u001b[A\n",
      "\u001b[A\n",
      "\u001b[A\n",
      "100%|██████████| 55/55 [00:03<00:00, 14.41it/s]\n"
     ]
    },
    {
     "name": "stdout",
     "output_type": "stream",
     "text": [
      "Got MRMR features\n"
     ]
    },
    {
     "name": "stderr",
     "output_type": "stream",
     "text": [
      "\n",
      "\u001b[A\n",
      "\u001b[A\n",
      "\u001b[A\n",
      "\u001b[A\n",
      "\u001b[A\n",
      "\u001b[A\n",
      "\u001b[A\n",
      "\u001b[A\n",
      "\u001b[A\n",
      "\u001b[A\n",
      "\u001b[A\n",
      "\u001b[A\n",
      "\u001b[A\n",
      "\u001b[A\n",
      "\u001b[A\n",
      "\u001b[A\n",
      "100%|██████████| 95/95 [00:06<00:00, 14.68it/s]\n",
      "\n",
      "\u001b[A"
     ]
    },
    {
     "name": "stdout",
     "output_type": "stream",
     "text": [
      "Got MRMR features\n"
     ]
    },
    {
     "name": "stderr",
     "output_type": "stream",
     "text": [
      "\n",
      "\u001b[A\n",
      "\u001b[A\n",
      "\u001b[A\n",
      "\u001b[A\n",
      "\u001b[A\n",
      "\u001b[A\n",
      "\u001b[A\n",
      "\u001b[A\n",
      "100%|██████████| 55/55 [00:03<00:00, 14.10it/s]\n"
     ]
    },
    {
     "name": "stdout",
     "output_type": "stream",
     "text": [
      "Got MRMR features\n",
      "[I 2025-09-11 12:06:14,636] Trial 1 finished with value: 0.7708427375094041 and parameters: {'feature_selection': 'MRMR', 'k_features': 55, 'n_estimators': 500, 'learning_rate': 0.018945855528617186, 'max_depth': 5, 'min_samples_split': 19, 'min_samples_leaf': 8, 'subsample': 0.8156743016382465}. Best is trial 2 with value: 0.7961408961408962.\n"
     ]
    },
    {
     "name": "stderr",
     "output_type": "stream",
     "text": [
      "100%|██████████| 95/95 [00:04<00:00, 23.52it/s]\n"
     ]
    },
    {
     "name": "stdout",
     "output_type": "stream",
     "text": [
      "Got MRMR features\n"
     ]
    },
    {
     "name": "stderr",
     "output_type": "stream",
     "text": [
      "100%|██████████| 95/95 [00:04<00:00, 23.16it/s]\n"
     ]
    },
    {
     "name": "stdout",
     "output_type": "stream",
     "text": [
      "Got MRMR features\n",
      "[I 2025-09-11 12:06:28,956] Trial 3 finished with value: 0.7754251920918588 and parameters: {'feature_selection': 'MRMR', 'k_features': 95, 'n_estimators': 500, 'learning_rate': 0.0182458358529585, 'max_depth': 6, 'min_samples_split': 9, 'min_samples_leaf': 6, 'subsample': 0.719616844077881}. Best is trial 2 with value: 0.7961408961408962.\n",
      "[I 2025-09-11 12:10:24,276] Trial 4 finished with value: 0.7640267140267141 and parameters: {'feature_selection': 'RFE', 'k_features': 15, 'n_estimators': 150, 'learning_rate': 0.05726396147089347, 'max_depth': 6, 'min_samples_split': 12, 'min_samples_leaf': 7, 'subsample': 0.761271959670347}. Best is trial 2 with value: 0.7961408961408962.\n",
      "\n",
      "Binary Classification Optimization Results:\n",
      "Best ROC AUC Score: 0.7961\n",
      "Best Parameters:\n",
      "  feature_selection: None\n",
      "  n_estimators: 50\n",
      "  learning_rate: 0.03231435994629829\n",
      "  max_depth: 5\n",
      "  min_samples_split: 2\n",
      "  min_samples_leaf: 5\n",
      "  subsample: 0.8261741600122885\n"
     ]
    },
    {
     "name": "stderr",
     "output_type": "stream",
     "text": [
      "[I 2025-09-11 12:10:25,359] A new study created in memory with name: no-name-ff7ad195-ca37-4218-ab60-f9da0c3052b0\n"
     ]
    },
    {
     "name": "stdout",
     "output_type": "stream",
     "text": [
      "\n",
      "Final Model Evaluation on Test Set:\n",
      "Accuracy: 0.7167\n",
      "Precision: 0.7222\n",
      "Recall: 0.7879\n",
      "F1 Score: 0.7536\n",
      "ROC AUC: 0.7351\n",
      "\n",
      "==============================\n",
      "FEATURE IMPORTANCE (run 9)\n",
      "==============================\n",
      "Number of features in final model: 336\n",
      "\n",
      "==================================================\n",
      "STARTING RUN 10/10\n",
      "==================================================\n"
     ]
    },
    {
     "data": {
      "application/vnd.jupyter.widget-view+json": {
       "model_id": "b7d10351be854ac4ace823b847ffda50",
       "version_major": 2,
       "version_minor": 0
      },
      "text/plain": [
       "  0%|          | 0/5 [00:00<?, ?it/s]"
      ]
     },
     "metadata": {},
     "output_type": "display_data"
    },
    {
     "name": "stdout",
     "output_type": "stream",
     "text": [
      "[I 2025-09-11 12:19:59,523] Trial 2 finished with value: 0.7740358407025074 and parameters: {'feature_selection': 'RFE', 'k_features': 95, 'n_estimators': 300, 'learning_rate': 0.23929964167939521, 'max_depth': 3, 'min_samples_split': 4, 'min_samples_leaf': 2, 'subsample': 0.5886418477708277}. Best is trial 2 with value: 0.7740358407025074.\n"
     ]
    },
    {
     "name": "stderr",
     "output_type": "stream",
     "text": [
      "100%|██████████| 45/45 [00:06<00:00,  7.11it/s]\n"
     ]
    },
    {
     "name": "stdout",
     "output_type": "stream",
     "text": [
      "Got MRMR features\n",
      "[I 2025-09-11 12:20:10,863] Trial 3 finished with value: 0.7911717911717911 and parameters: {'feature_selection': 'RFE', 'k_features': 85, 'n_estimators': 150, 'learning_rate': 0.0018311255267523924, 'max_depth': 4, 'min_samples_split': 18, 'min_samples_leaf': 6, 'subsample': 0.7769548648498156}. Best is trial 3 with value: 0.7911717911717911.\n"
     ]
    },
    {
     "name": "stderr",
     "output_type": "stream",
     "text": [
      "100%|██████████| 45/45 [00:03<00:00, 12.99it/s]\n"
     ]
    },
    {
     "name": "stdout",
     "output_type": "stream",
     "text": [
      "Got MRMR features\n"
     ]
    },
    {
     "name": "stderr",
     "output_type": "stream",
     "text": [
      "100%|██████████| 45/45 [00:03<00:00, 12.71it/s]\n"
     ]
    },
    {
     "name": "stdout",
     "output_type": "stream",
     "text": [
      "Got MRMR features\n"
     ]
    },
    {
     "name": "stderr",
     "output_type": "stream",
     "text": [
      "100%|██████████| 45/45 [00:03<00:00, 12.92it/s]\n"
     ]
    },
    {
     "name": "stdout",
     "output_type": "stream",
     "text": [
      "Got MRMR features\n"
     ]
    },
    {
     "name": "stderr",
     "output_type": "stream",
     "text": [
      "100%|██████████| 45/45 [00:03<00:00, 12.40it/s]\n"
     ]
    },
    {
     "name": "stdout",
     "output_type": "stream",
     "text": [
      "Got MRMR features\n",
      "[I 2025-09-11 12:20:27,324] Trial 4 finished with value: 0.7297887297887298 and parameters: {'feature_selection': 'MRMR', 'k_features': 45, 'n_estimators': 100, 'learning_rate': 0.16051196683124794, 'max_depth': 3, 'min_samples_split': 10, 'min_samples_leaf': 5, 'subsample': 0.9380906273374248}. Best is trial 3 with value: 0.7911717911717911.\n",
      "[I 2025-09-11 12:20:44,432] Trial 0 finished with value: 0.7984990318323651 and parameters: {'feature_selection': 'RFE', 'k_features': 65, 'n_estimators': 250, 'learning_rate': 0.0011525724157819316, 'max_depth': 6, 'min_samples_split': 19, 'min_samples_leaf': 5, 'subsample': 0.7376264489110075}. Best is trial 0 with value: 0.7984990318323651.\n",
      "[I 2025-09-11 12:20:53,187] Trial 1 finished with value: 0.7838877172210506 and parameters: {'feature_selection': 'RFE', 'k_features': 45, 'n_estimators': 50, 'learning_rate': 0.21113399729489707, 'max_depth': 6, 'min_samples_split': 14, 'min_samples_leaf': 1, 'subsample': 0.8943800009928898}. Best is trial 0 with value: 0.7984990318323651.\n",
      "\n",
      "Binary Classification Optimization Results:\n",
      "Best ROC AUC Score: 0.7985\n",
      "Best Parameters:\n",
      "  feature_selection: RFE\n",
      "  k_features: 65\n",
      "  n_estimators: 250\n",
      "  learning_rate: 0.0011525724157819316\n",
      "  max_depth: 6\n",
      "  min_samples_split: 19\n",
      "  min_samples_leaf: 5\n",
      "  subsample: 0.7376264489110075\n",
      "\n",
      "Final Model Evaluation on Test Set:\n",
      "Accuracy: 0.6667\n",
      "Precision: 0.6444\n",
      "Recall: 0.8788\n",
      "F1 Score: 0.7436\n",
      "ROC AUC: 0.7351\n",
      "\n",
      "==============================\n",
      "FEATURE IMPORTANCE (run 10)\n",
      "==============================\n",
      "Number of features in final model: 65\n",
      "\n",
      "==================================================\n",
      "SUMMARY ACROSS ALL RUNS\n",
      "==================================================\n",
      "best_cv_score: 0.8015 ± 0.0083\n",
      "accuracy: 0.6983 ± 0.0337\n",
      "precision: 0.6961 ± 0.0336\n",
      "recall: 0.8061 ± 0.0409\n",
      "f1: 0.7462 ± 0.0258\n",
      "roc_auc: 0.7543 ± 0.0213\n",
      "Combined top features saved to: \n",
      "Done.\n"
     ]
    }
   ],
   "source": [
    "# Storage\n",
    "all_results = []\n",
    "top_features_all_runs = []\n",
    "\n",
    "# Repeat optimization + evaluation 10 times\n",
    "for run in range(10):\n",
    "    print(f\"\\n{'='*50}\")\n",
    "    print(f\"STARTING RUN {run + 1}/10\")\n",
    "    print(f\"{'='*50}\")\n",
    "\n",
    "    study = optuna.create_study(direction='maximize')\n",
    "    study.optimize(binary_classification_objective, n_trials=5, show_progress_bar=True, n_jobs=4)\n",
    "\n",
    "    print(\"\\nBinary Classification Optimization Results:\")\n",
    "    print(f\"Best ROC AUC Score: {study.best_value:.4f}\")\n",
    "    print(\"Best Parameters:\")\n",
    "    for key, value in study.best_params.items():\n",
    "        print(f\"  {key}: {value}\")\n",
    "\n",
    "    # ---------------------------\n",
    "    # Recreate selector using best params and extract selected feature names\n",
    "    # ---------------------------\n",
    "    best_fs_method = study.best_params.get('feature_selection', 'None')\n",
    "    selected_features = None\n",
    "\n",
    "    if best_fs_method != 'None':\n",
    "        k_features = study.best_params['k_features']\n",
    "        if best_fs_method == 'RFE':\n",
    "            estimator = RandomForestClassifier()\n",
    "            selector = RFE(estimator, n_features_to_select=k_features)\n",
    "        elif best_fs_method == 'MRMR':\n",
    "            selector = MRMRTransformer(k_features=k_features)\n",
    "        \n",
    "        selector.fit(X, y)\n",
    "        if hasattr(selector, 'get_support'):  # For RFE\n",
    "            selected_features = X.columns[selector.get_support()]\n",
    "        else:  # For MRMR\n",
    "            selected_features = selector.selected_features\n",
    "        X_best = X[selected_features]\n",
    "    else:\n",
    "        X_best = X\n",
    "        selected_features = X.columns\n",
    "\n",
    "    # Apply the same feature selection to test data\n",
    "    if best_fs_method != 'None':\n",
    "        if best_fs_method == 'MRMR':\n",
    "            X_test_final = X_test[selected_features]  # This should be DataFrame\n",
    "        else:  # RFE\n",
    "            X_test_transformed = selector.transform(X_test)\n",
    "            # Convert back to DataFrame with feature names\n",
    "            X_test_final = pd.DataFrame(X_test_transformed, columns=selected_features)\n",
    "    else:\n",
    "        X_test_final = X_test  # DataFrame\n",
    "\n",
    "    # ---------------------------\n",
    "    # Train final GB with best params and evaluate on test set\n",
    "    # ---------------------------\n",
    "    best_model_params = {\n",
    "        'n_estimators' : study.best_params['n_estimators'],\n",
    "        'max_depth' : study.best_params['max_depth'],\n",
    "        'learning_rate' : study.best_params['learning_rate'],\n",
    "        'min_samples_split' : study.best_params['min_samples_split'],\n",
    "        'min_samples_leaf' : study.best_params['min_samples_leaf'],\n",
    "        'subsample' : study.best_params['subsample'],\n",
    "        'random_state' :42\n",
    "    } \n",
    "    \n",
    "    best_model = GradientBoostingClassifier(**best_model_params)\n",
    "    best_model.fit(X_best, y)\n",
    "\n",
    "    # Predictions\n",
    "    y_pred = best_model.predict(X_test_final)\n",
    "    y_pred_proba = best_model.predict_proba(X_test_final)[:, 1]\n",
    "\n",
    "    # Metrics\n",
    "    accuracy = accuracy_score(y_test, y_pred)\n",
    "    precision = precision_score(y_test, y_pred, zero_division=0)\n",
    "    recall = recall_score(y_test, y_pred, zero_division=0)\n",
    "    f1 = f1_score(y_test, y_pred, zero_division=0)\n",
    "    roc_auc = roc_auc_score(y_test, y_pred_proba)\n",
    "\n",
    "    # Save run result\n",
    "    run_result = {\n",
    "        'run_number': run + 1,\n",
    "        'best_cv_score': study.best_value,\n",
    "        'accuracy': accuracy,\n",
    "        'precision': precision,\n",
    "        'recall': recall,\n",
    "        'f1': f1,\n",
    "        'roc_auc': roc_auc,\n",
    "        'selected_features': \";\".join(selected_features),\n",
    "        'feature_selection_method': best_fs_method\n",
    "    }\n",
    "    for key, value in study.best_params.items():\n",
    "        run_result[f'param_{key}'] = value\n",
    "\n",
    "    all_results.append(run_result)\n",
    "\n",
    "    print(\"\\nFinal Model Evaluation on Test Set:\")\n",
    "    print(f\"Accuracy: {accuracy:.4f}\")\n",
    "    print(f\"Precision: {precision:.4f}\")\n",
    "    print(f\"Recall: {recall:.4f}\")\n",
    "    print(f\"F1 Score: {f1:.4f}\")\n",
    "    print(f\"ROC AUC: {roc_auc:.4f}\")\n",
    "\n",
    "    # ---------------------------\n",
    "    # FEATURE IMPORTANCE for this run (Gradient Boosting)\n",
    "    # ---------------------------\n",
    "    print(\"\\n\" + \"=\"*30)\n",
    "    print(f\"FEATURE IMPORTANCE (run {run+1})\")\n",
    "    print(\"=\"*30)\n",
    "\n",
    "    # Always convert selected_features → indices relative to binary_data.columns\n",
    "    if best_fs_method != 'None':\n",
    "        if isinstance(selected_features[0], str):\n",
    "            selected_indices = [binary_data.columns.get_loc(feat) for feat in selected_features]\n",
    "        else:\n",
    "            selected_indices = list(selected_features)\n",
    "    else:\n",
    "        selected_indices = list(range(binary_data.shape[1]))\n",
    "\n",
    "    # Convert back indices → names\n",
    "    final_feature_names = binary_data.columns[selected_indices].tolist()\n",
    "\n",
    "    n_features_in_model = len(final_feature_names)\n",
    "    print(f\"Number of features in final model: {n_features_in_model}\")\n",
    "\n",
    "    try:\n",
    "        # Gradient Boosting has built-in feature importances\n",
    "        importances = best_model.feature_importances_\n",
    "\n",
    "        feature_importance_df = pd.DataFrame({\n",
    "            'feature': final_feature_names,\n",
    "            'index': selected_indices,\n",
    "            'importance': importances\n",
    "        }).sort_values('importance', ascending=False).reset_index(drop=True)\n",
    "\n",
    "        # Top-20\n",
    "        top_n = min(20, feature_importance_df.shape[0])\n",
    "        top_features = feature_importance_df.head(top_n).copy()\n",
    "        top_features['run'] = run + 1\n",
    "        top_features['best_cv_score'] = study.best_value\n",
    "\n",
    "        # Save per-run CSV\n",
    "        #run_csv = os.path(f'feature_importance_run{run+1}.csv')\n",
    "        #feature_importance_df.to_csv(run_csv, index=False)\n",
    "        #print(f\"Saved feature importance CSV for run {run+1} -> {run_csv}\")\n",
    "\n",
    "        # Save plot\n",
    "        try:\n",
    "            plt.figure(figsize=(8, 6))\n",
    "            plt.barh(range(top_n), feature_importance_df['importance'].head(top_n))\n",
    "            plt.yticks(range(top_n), feature_importance_df['feature'].head(top_n))\n",
    "            plt.gca().invert_yaxis()\n",
    "            plt.xlabel('Feature Importance')\n",
    "            plt.title(f'Top {top_n} Features (run {run+1})')\n",
    "            plt.tight_layout()\n",
    "           # png_path = os.path.join(out_dir, f'feature_importance_run{run+1}.png')\n",
    "           # plt.savefig(png_path, dpi=300, bbox_inches='tight')\n",
    "            plt.close()\n",
    "        except Exception as e:\n",
    "            print(f\"Couldn't save plot for run {run+1}: {e}\")\n",
    "\n",
    "    except Exception as e:\n",
    "        print(f\"Failed to extract feature_importances_ for run {run+1}: {e}\")\n",
    "        feature_importance_df = pd.DataFrame({\n",
    "            'feature': final_feature_names,\n",
    "            'index': selected_indices,\n",
    "            'importance': np.zeros(len(final_feature_names))\n",
    "        })\n",
    "        top_features = feature_importance_df.head(min(20, len(final_feature_names))).copy()\n",
    "        top_features['run'] = run + 1\n",
    "        top_features['best_cv_score'] = study.best_value\n",
    "       # run_csv = os.path(f'feature_importance_run{run+1}.csv')\n",
    "        #feature_importance_df.to_csv(run_csv, index=False)\n",
    "\n",
    "    # Collect top features for final combined CSV\n",
    "    top_features_all_runs.append(top_features)\n",
    "\n",
    "# ---------------------------\n",
    "# After all runs: save combined results & top features\n",
    "# ---------------------------\n",
    "print(f\"\\n{'='*50}\")\n",
    "print(\"SUMMARY ACROSS ALL RUNS\")\n",
    "print(f\"{'='*50}\")\n",
    "\n",
    "results_df = pd.DataFrame(all_results)\n",
    "metrics_to_avg = ['best_cv_score', 'accuracy', 'precision', 'recall', 'f1', 'roc_auc']\n",
    "\n",
    "summary_row = {'run_number': 'SUMMARY'}\n",
    "for metric in metrics_to_avg:\n",
    "    avg_value = results_df[metric].mean()\n",
    "    std_value = results_df[metric].std()\n",
    "    summary_row[metric] = f\"{avg_value:.4f} ± {std_value:.4f}\"\n",
    "    print(f\"{metric}: {avg_value:.4f} ± {std_value:.4f}\")\n",
    "\n",
    "# Mark params N/A for summary\n",
    "for key in [k for k in results_df.columns if k.startswith('param_')]:\n",
    "    summary_row[key] = 'N/A'\n",
    "\n",
    "combined_results = all_results + [summary_row]\n",
    "df = pd.DataFrame(combined_results)\n",
    "#df.to_csv(results_outpath, index=False)\n",
    "#print(f\"\\nCombined results with averages saved to: {results_outpath}\")\n",
    "\n",
    "# Combine top features from all runs into one CSV\n",
    "if top_features_all_runs:\n",
    "    combined_top = pd.concat(top_features_all_runs, ignore_index=True, sort=False)\n",
    "    #combined_top_csv = os.path.join(out_dir, 'combined_top_features.csv')\n",
    "    #combined_top.to_csv(combined_top_csv, index=False)\n",
    "    print(f\"Combined top features saved to: \")#combined_top_csv}\")\n",
    "else:\n",
    "    print(\"No top features were collected.\")\n",
    "\n",
    "print(\"Done.\")\n"
   ]
  }
 ],
 "metadata": {
  "kernelspec": {
   "display_name": "bessy",
   "language": "python",
   "name": "python3"
  },
  "language_info": {
   "codemirror_mode": {
    "name": "ipython",
    "version": 3
   },
   "file_extension": ".py",
   "mimetype": "text/x-python",
   "name": "python",
   "nbconvert_exporter": "python",
   "pygments_lexer": "ipython3",
   "version": "3.13.2"
  }
 },
 "nbformat": 4,
 "nbformat_minor": 5
}

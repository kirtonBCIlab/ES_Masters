{
 "cells": [
  {
   "cell_type": "code",
   "execution_count": 1,
   "id": "807bcae4",
   "metadata": {},
   "outputs": [],
   "source": [
    "import sys\n",
    "import os\n",
    "\n",
    "# Add the path to your ML directory\n",
    "sys.path.append(r'C:\\Users\\admin\\Documents\\Masters\\ES_Masters\\Masters-Processing\\ML')\n",
    "\n",
    "import numpy as np\n",
    "import pandas as pd\n",
    "import matplotlib.pyplot as plt\n",
    "import seaborn as sns\n",
    "from sklearn.model_selection import train_test_split, StratifiedKFold, cross_val_score\n",
    "from sklearn.preprocessing import StandardScaler\n",
    "from sklearn.feature_selection import RFE\n",
    "from sklearn.ensemble import RandomForestClassifier\n",
    "from mrmr_wrapper import MRMRTransformer\n",
    "from sklearn.svm import SVC\n",
    "import optuna\n",
    "import optuna.visualization as vis\n",
    "from sklearn.impute import SimpleImputer\n",
    "from sklearn.pipeline import Pipeline\n",
    "from sklearn.metrics import (accuracy_score, precision_score, recall_score, f1_score, roc_auc_score, confusion_matrix, roc_curve, precision_recall_curve, average_precision_score)\n",
    "from sklearn.decomposition import PCA\n",
    "from sklearn.inspection import DecisionBoundaryDisplay"
   ]
  },
  {
   "cell_type": "markdown",
   "id": "1cfa149a",
   "metadata": {},
   "source": [
    "# Import Data"
   ]
  },
  {
   "cell_type": "code",
   "execution_count": 2,
   "id": "e9791103",
   "metadata": {},
   "outputs": [],
   "source": [
    "# Load the data\n",
    "file_path = \"features-Master.csv\"\n",
    "data = pd.read_csv(file_path)\n",
    "\n",
    "# Shuffle the data\n",
    "shuffled = data.sample(frac=1, random_state=42).reset_index(drop=True)\n",
    "data_shuffled = shuffled.iloc[:, 4:]\n",
    "labels_shuffled = shuffled[\"Comfort Score\"]\n",
    "\n",
    "# Create binary labels (1,2 = 0; 4,5 = 1; exclude 3 for clearer separation)\n",
    "binary_labels = labels_shuffled.apply(lambda x: 0 if x <= 2 else (1 if x >=4 else np.nan))\n",
    "binary_data = data_shuffled[~binary_labels.isna()]\n",
    "binary_labels = binary_labels[~binary_labels.isna()] "
   ]
  },
  {
   "cell_type": "markdown",
   "id": "c64a4c7a",
   "metadata": {},
   "source": [
    "# Train/Test Split"
   ]
  },
  {
   "cell_type": "code",
   "execution_count": 3,
   "id": "018dca10",
   "metadata": {},
   "outputs": [],
   "source": [
    "# For binary classification\n",
    "X_train, X_test, y_train, y_test = train_test_split(\n",
    "    binary_data,\n",
    "    binary_labels,\n",
    "    test_size=0.2,\n",
    "    stratify=binary_labels,\n",
    "    random_state=42\n",
    ")"
   ]
  },
  {
   "cell_type": "markdown",
   "id": "e526ca80",
   "metadata": {},
   "source": [
    "# Handle missing values"
   ]
  },
  {
   "cell_type": "code",
   "execution_count": 4,
   "id": "c7de41d9",
   "metadata": {},
   "outputs": [],
   "source": [
    "imputer = SimpleImputer(strategy='median')\n",
    "\n",
    "X_train = pd.DataFrame(imputer.fit_transform(X_train), columns=X_train.columns)\n",
    "X_test = pd.DataFrame(imputer.transform(X_test), columns=X_test.columns)"
   ]
  },
  {
   "cell_type": "markdown",
   "id": "f02e5c2e",
   "metadata": {},
   "source": [
    "# Scale Data\n",
    "- Recommended for SVM models\n",
    "- sklearn StandardScaler() may not work well with outliers (should check for outliers)"
   ]
  },
  {
   "cell_type": "code",
   "execution_count": 5,
   "id": "2ec86259",
   "metadata": {},
   "outputs": [],
   "source": [
    "scaler = StandardScaler()\n",
    "\n",
    "X_train_scaled = pd.DataFrame(scaler.fit_transform(X_train))\n",
    "X_test_scaled = pd.DataFrame(scaler.transform(X_test))"
   ]
  },
  {
   "cell_type": "markdown",
   "id": "e4de3537",
   "metadata": {},
   "source": [
    "# Optimize Feature Selection and SVM Parameters"
   ]
  },
  {
   "cell_type": "code",
   "execution_count": 6,
   "id": "7854881e",
   "metadata": {},
   "outputs": [
    {
     "name": "stderr",
     "output_type": "stream",
     "text": [
      "[I 2025-09-10 09:51:59,299] A new study created in memory with name: no-name-096dbf2f-0477-4f78-ae1c-587f59e45e76\n"
     ]
    },
    {
     "data": {
      "application/vnd.jupyter.widget-view+json": {
       "model_id": "8490b141c8b44cbba62edbcb49e6fff1",
       "version_major": 2,
       "version_minor": 0
      },
      "text/plain": [
       "  0%|          | 0/20 [00:00<?, ?it/s]"
      ]
     },
     "metadata": {},
     "output_type": "display_data"
    },
    {
     "name": "stdout",
     "output_type": "stream",
     "text": [
      "[I 2025-09-10 09:51:59,575] Trial 3 finished with value: 0.6380644047310714 and parameters: {'feature_selection': 'None', 'kernel': 'poly', 'C': 11.928263639456897, 'gamma': 'auto', 'degree': 2}. Best is trial 3 with value: 0.6380644047310714.\n",
      "[I 2025-09-10 09:51:59,907] Trial 4 finished with value: 0.7504921004921006 and parameters: {'feature_selection': 'None', 'kernel': 'linear', 'C': 0.18358353763612947, 'gamma': 'auto'}. Best is trial 4 with value: 0.7504921004921006.\n"
     ]
    },
    {
     "name": "stderr",
     "output_type": "stream",
     "text": [
      "\n",
      "\u001b[A\n",
      "\u001b[A\n",
      "100%|██████████| 5/5 [00:00<00:00, 10.09it/s]\n"
     ]
    },
    {
     "name": "stdout",
     "output_type": "stream",
     "text": [
      "Got MRMR features\n"
     ]
    },
    {
     "name": "stderr",
     "output_type": "stream",
     "text": [
      "\n",
      "\u001b[A\n",
      "\u001b[A\n",
      "100%|██████████| 5/5 [00:00<00:00, 10.36it/s]\n",
      "\n"
     ]
    },
    {
     "name": "stdout",
     "output_type": "stream",
     "text": [
      "Got MRMR features\n"
     ]
    },
    {
     "name": "stderr",
     "output_type": "stream",
     "text": [
      " 80%|████████  | 12/15 [00:01<00:00,  8.03it/s]\u001b[A\n",
      "\u001b[A\n",
      "100%|██████████| 15/15 [00:01<00:00,  8.51it/s]\n",
      "\n",
      "\u001b[A"
     ]
    },
    {
     "name": "stdout",
     "output_type": "stream",
     "text": [
      "Got MRMR features\n"
     ]
    },
    {
     "name": "stderr",
     "output_type": "stream",
     "text": [
      "100%|██████████| 5/5 [00:00<00:00,  9.04it/s]\n"
     ]
    },
    {
     "name": "stdout",
     "output_type": "stream",
     "text": [
      "Got MRMR features\n"
     ]
    },
    {
     "name": "stderr",
     "output_type": "stream",
     "text": [
      "\n",
      "\u001b[A\n",
      "\u001b[A\n",
      "100%|██████████| 5/5 [00:00<00:00, 10.35it/s]\n"
     ]
    },
    {
     "name": "stdout",
     "output_type": "stream",
     "text": [
      "Got MRMR features\n"
     ]
    },
    {
     "name": "stderr",
     "output_type": "stream",
     "text": [
      "\n",
      "\u001b[A\n",
      "\u001b[A\n",
      "\u001b[A\n",
      "100%|██████████| 5/5 [00:00<00:00,  8.68it/s]\n",
      "\n",
      "\u001b[A                                            "
     ]
    },
    {
     "name": "stdout",
     "output_type": "stream",
     "text": [
      "Got MRMR features\n",
      "[I 2025-09-10 09:52:07,810] Trial 1 finished with value: 0.703691370358037 and parameters: {'feature_selection': 'MRMR', 'k_features': 5, 'kernel': 'poly', 'C': 32.68402670888266, 'gamma': 'scale', 'degree': 3}. Best is trial 4 with value: 0.7504921004921006.\n"
     ]
    },
    {
     "name": "stderr",
     "output_type": "stream",
     "text": [
      "\n",
      "\u001b[A\n",
      "100%|██████████| 15/15 [00:01<00:00,  7.82it/s]\n"
     ]
    },
    {
     "name": "stdout",
     "output_type": "stream",
     "text": [
      "Got MRMR features\n"
     ]
    },
    {
     "name": "stderr",
     "output_type": "stream",
     "text": [
      "\n",
      "\u001b[A\n",
      "\u001b[A\n",
      "\u001b[A\n",
      "\u001b[A\n",
      "\u001b[A\n",
      "\u001b[A\n",
      "\u001b[A\n",
      "\u001b[A\n",
      "\u001b[A\n",
      "\u001b[A\n",
      "\u001b[A\n",
      "\u001b[A\n",
      "\u001b[A\n",
      "100%|██████████| 15/15 [00:01<00:00,  7.71it/s]\n",
      "\n",
      "\u001b[A"
     ]
    },
    {
     "name": "stdout",
     "output_type": "stream",
     "text": [
      "Got MRMR features\n"
     ]
    },
    {
     "name": "stderr",
     "output_type": "stream",
     "text": [
      "\n",
      "\u001b[A\n",
      "\u001b[A\n",
      "\u001b[A\n",
      "\u001b[A\n",
      "\u001b[A\n",
      "\u001b[A\n",
      "\u001b[A\n",
      "\u001b[A\n",
      "\u001b[A\n",
      "\u001b[A\n",
      "\u001b[A\n",
      "\u001b[A\n",
      "\u001b[A\n",
      "100%|██████████| 15/15 [00:02<00:00,  7.37it/s]\n",
      "\n",
      "\u001b[A\n",
      "\u001b[A"
     ]
    },
    {
     "name": "stdout",
     "output_type": "stream",
     "text": [
      "Got MRMR features\n"
     ]
    },
    {
     "name": "stderr",
     "output_type": "stream",
     "text": [
      "\n",
      "\u001b[A\n",
      "\u001b[A\n",
      "\u001b[A\n",
      "\u001b[A\n",
      "\u001b[A\n",
      "\u001b[A\n",
      "\u001b[A\n",
      "\u001b[A\n",
      "\u001b[A\n",
      "\u001b[A\n",
      "\u001b[A\n",
      "\u001b[A\n",
      "\u001b[A\n",
      "100%|██████████| 15/15 [00:02<00:00,  7.48it/s]\n",
      "\n",
      "\n",
      "\u001b[A\u001b[A                                         \n",
      "\u001b[A\n",
      "\u001b[A"
     ]
    },
    {
     "name": "stdout",
     "output_type": "stream",
     "text": [
      "Got MRMR features\n",
      "[I 2025-09-10 09:52:14,786] Trial 2 finished with value: 0.7217621884288551 and parameters: {'feature_selection': 'MRMR', 'k_features': 15, 'kernel': 'rbf', 'C': 12.70894505910294, 'gamma': 'scale'}. Best is trial 4 with value: 0.7504921004921006.\n"
     ]
    },
    {
     "name": "stderr",
     "output_type": "stream",
     "text": [
      "\n",
      "\u001b[A\n",
      "\u001b[A\n",
      "\u001b[A\n",
      "\u001b[A\n",
      "\u001b[A\n",
      "\u001b[A\n",
      "\u001b[A\n",
      "\u001b[A\n",
      "\u001b[A\n",
      "\u001b[A\n",
      "\u001b[A\n",
      "\u001b[A\n",
      "\u001b[A\n",
      "\u001b[A\n",
      "\u001b[A\n",
      "\u001b[A\n",
      "\u001b[A\n",
      "\u001b[A\n",
      "\u001b[A\n",
      "\u001b[A\n",
      "\u001b[A\n",
      "\u001b[A\n",
      "\u001b[A\n",
      "\u001b[A\n",
      "\u001b[A\n",
      "\u001b[A\n",
      "\u001b[A\n",
      "\u001b[A\n",
      "\u001b[A\n",
      "\u001b[A\n",
      "\u001b[A\n",
      "\u001b[A\n",
      "\u001b[A\n",
      "\u001b[A\n",
      "\u001b[A\n",
      "100%|██████████| 95/95 [00:12<00:00,  7.60it/s]\n"
     ]
    },
    {
     "name": "stdout",
     "output_type": "stream",
     "text": [
      "Got MRMR features\n"
     ]
    },
    {
     "name": "stderr",
     "output_type": "stream",
     "text": [
      "100%|██████████| 95/95 [00:12<00:00,  7.57it/s]\n"
     ]
    },
    {
     "name": "stdout",
     "output_type": "stream",
     "text": [
      "Got MRMR features\n"
     ]
    },
    {
     "name": "stderr",
     "output_type": "stream",
     "text": [
      "100%|██████████| 95/95 [00:12<00:00,  7.91it/s]\n"
     ]
    },
    {
     "name": "stdout",
     "output_type": "stream",
     "text": [
      "Got MRMR features\n"
     ]
    },
    {
     "name": "stderr",
     "output_type": "stream",
     "text": [
      "100%|██████████| 95/95 [00:12<00:00,  7.81it/s]\n"
     ]
    },
    {
     "name": "stdout",
     "output_type": "stream",
     "text": [
      "Got MRMR features\n"
     ]
    },
    {
     "name": "stderr",
     "output_type": "stream",
     "text": [
      "100%|██████████| 95/95 [00:12<00:00,  7.63it/s]\n"
     ]
    },
    {
     "name": "stdout",
     "output_type": "stream",
     "text": [
      "Got MRMR features\n",
      "[I 2025-09-10 09:53:10,815] Trial 6 finished with value: 0.7070244570244572 and parameters: {'feature_selection': 'MRMR', 'k_features': 95, 'kernel': 'linear', 'C': 10.383289082823431, 'gamma': 'scale'}. Best is trial 4 with value: 0.7504921004921006.\n"
     ]
    },
    {
     "name": "stderr",
     "output_type": "stream",
     "text": [
      "100%|██████████| 45/45 [00:06<00:00,  7.46it/s]\n"
     ]
    },
    {
     "name": "stdout",
     "output_type": "stream",
     "text": [
      "Got MRMR features\n"
     ]
    },
    {
     "name": "stderr",
     "output_type": "stream",
     "text": [
      "100%|██████████| 45/45 [00:06<00:00,  7.14it/s]\n"
     ]
    },
    {
     "name": "stdout",
     "output_type": "stream",
     "text": [
      "Got MRMR features\n"
     ]
    },
    {
     "name": "stderr",
     "output_type": "stream",
     "text": [
      "100%|██████████| 45/45 [00:06<00:00,  7.01it/s]\n"
     ]
    },
    {
     "name": "stdout",
     "output_type": "stream",
     "text": [
      "Got MRMR features\n"
     ]
    },
    {
     "name": "stderr",
     "output_type": "stream",
     "text": [
      "100%|██████████| 45/45 [00:06<00:00,  6.89it/s]\n"
     ]
    },
    {
     "name": "stdout",
     "output_type": "stream",
     "text": [
      "Got MRMR features\n"
     ]
    },
    {
     "name": "stderr",
     "output_type": "stream",
     "text": [
      "100%|██████████| 45/45 [00:07<00:00,  6.17it/s]\n"
     ]
    },
    {
     "name": "stdout",
     "output_type": "stream",
     "text": [
      "Got MRMR features\n",
      "[I 2025-09-10 09:53:45,154] Trial 8 finished with value: 0.7204375871042539 and parameters: {'feature_selection': 'MRMR', 'k_features': 45, 'kernel': 'linear', 'C': 9.40827558206553, 'gamma': 'auto'}. Best is trial 4 with value: 0.7504921004921006.\n",
      "[I 2025-09-10 10:03:15,795] Trial 5 finished with value: 0.7782069782069783 and parameters: {'feature_selection': 'RFE', 'k_features': 55, 'kernel': 'rbf', 'C': 23.822283617915122, 'gamma': 'auto'}. Best is trial 5 with value: 0.7782069782069783.\n",
      "[I 2025-09-10 10:03:15,950] Trial 10 finished with value: 0.6320296986963653 and parameters: {'feature_selection': 'None', 'kernel': 'poly', 'C': 0.13563402150458223, 'gamma': 'auto', 'degree': 2}. Best is trial 5 with value: 0.7782069782069783.\n",
      "[I 2025-09-10 10:03:16,160] Trial 11 finished with value: 0.7487592654259322 and parameters: {'feature_selection': 'None', 'kernel': 'linear', 'C': 0.14065280090840582, 'gamma': 'scale'}. Best is trial 5 with value: 0.7782069782069783.\n",
      "[I 2025-09-10 10:03:45,580] Trial 7 finished with value: 0.7673894007227341 and parameters: {'feature_selection': 'RFE', 'k_features': 45, 'kernel': 'rbf', 'C': 40.20611367056855, 'gamma': 'auto'}. Best is trial 5 with value: 0.7782069782069783.\n",
      "[I 2025-09-10 10:04:28,457] Trial 0 finished with value: 0.7597556764223431 and parameters: {'feature_selection': 'RFE', 'k_features': 5, 'kernel': 'rbf', 'C': 0.3204673615966252, 'gamma': 'auto'}. Best is trial 5 with value: 0.7782069782069783.\n",
      "[I 2025-09-10 10:05:56,618] Trial 9 finished with value: 0.7114959114959115 and parameters: {'feature_selection': 'RFE', 'k_features': 25, 'kernel': 'poly', 'C': 89.49617170429713, 'gamma': 'auto', 'degree': 3}. Best is trial 5 with value: 0.7782069782069783.\n",
      "[I 2025-09-10 10:13:03,569] Trial 12 finished with value: 0.7434682601349267 and parameters: {'feature_selection': 'RFE', 'k_features': 95, 'kernel': 'linear', 'C': 30.04847492890891, 'gamma': 'scale'}. Best is trial 5 with value: 0.7782069782069783.\n",
      "[I 2025-09-10 10:13:44,913] Trial 13 finished with value: 0.7953953453953454 and parameters: {'feature_selection': 'RFE', 'k_features': 85, 'kernel': 'rbf', 'C': 1.2448708348714674, 'gamma': 'auto'}. Best is trial 13 with value: 0.7953953453953454.\n",
      "[I 2025-09-10 10:15:17,092] Trial 14 finished with value: 0.7652668319334988 and parameters: {'feature_selection': 'RFE', 'k_features': 55, 'kernel': 'rbf', 'C': 81.5950288327024, 'gamma': 'auto'}. Best is trial 13 with value: 0.7953953453953454.\n",
      "[I 2025-09-10 10:16:29,744] Trial 15 finished with value: 0.7929477929477928 and parameters: {'feature_selection': 'RFE', 'k_features': 65, 'kernel': 'rbf', 'C': 1.9320222949652435, 'gamma': 'auto'}. Best is trial 13 with value: 0.7953953453953454.\n",
      "[I 2025-09-10 10:23:44,321] Trial 16 finished with value: 0.8070263070263071 and parameters: {'feature_selection': 'RFE', 'k_features': 65, 'kernel': 'rbf', 'C': 1.4577575389036854, 'gamma': 'auto'}. Best is trial 16 with value: 0.8070263070263071.\n",
      "[I 2025-09-10 10:24:00,103] Trial 17 finished with value: 0.7946652113318781 and parameters: {'feature_selection': 'RFE', 'k_features': 75, 'kernel': 'rbf', 'C': 1.0544258518001455, 'gamma': 'auto'}. Best is trial 16 with value: 0.8070263070263071.\n",
      "[I 2025-09-10 10:24:47,692] Trial 18 finished with value: 0.8020541187207855 and parameters: {'feature_selection': 'RFE', 'k_features': 75, 'kernel': 'rbf', 'C': 1.8573684181213448, 'gamma': 'auto'}. Best is trial 16 with value: 0.8070263070263071.\n",
      "[I 2025-09-10 10:25:18,332] Trial 19 finished with value: 0.8034342201008867 and parameters: {'feature_selection': 'RFE', 'k_features': 75, 'kernel': 'rbf', 'C': 1.4364909760281088, 'gamma': 'auto'}. Best is trial 16 with value: 0.8070263070263071.\n",
      "\n",
      "Binary Classification Optimization Results:\n",
      "Best ROC AUC Score: 0.8070\n",
      "Best Parameters:\n",
      "  feature_selection: RFE\n",
      "  k_features: 65\n",
      "  kernel: rbf\n",
      "  C: 1.4577575389036854\n",
      "  gamma: auto\n"
     ]
    }
   ],
   "source": [
    "X = X_train_scaled.copy()\n",
    "y = y_train.copy()\n",
    "\n",
    "def binary_classification_objective(trial):\n",
    "    # Feature selection, only optimizing method and number of features (no hyperparameters of the methods)\n",
    "    fs_method = trial.suggest_categorical('feature_selection', ['MRMR', 'RFE', 'None'])\n",
    "    \n",
    "    if fs_method != 'None':\n",
    "        k_features = trial.suggest_int('k_features', 5, 105, step = 10) # Only allow a maximum of 105 features to be selected, with a step of 10, to go up to all features: X.shape[1]\n",
    "        if fs_method == 'RFE':\n",
    "            estimator = RandomForestClassifier()\n",
    "            selector = RFE(estimator, n_features_to_select=k_features)\n",
    "        else: #MRMR\n",
    "            selector = MRMRTransformer(k_features=k_features) #https://feature-engine.trainindata.com/en/1.8.x/api_doc/selection/MRMR.html#feature_engine.selection.MRMR\n",
    "    else:\n",
    "        selector = 'passthrough'\n",
    "    \n",
    "    # SVM hyperparameters \n",
    "    kernel = trial.suggest_categorical('kernel', ['linear', 'rbf', 'poly']) # do this first so that degree can be conditionally added later\n",
    "            \n",
    "    params = {\n",
    "        'C': trial.suggest_float('C', 0.1, 100, log=True),\n",
    "        'kernel': kernel,\n",
    "        'gamma': trial.suggest_categorical('gamma', ['scale', 'auto']),\n",
    "        'degree': trial.suggest_int('degree', 2, 5) if kernel == 'poly' else 3,\n",
    "        'probability': True,\n",
    "        'random_state': 42\n",
    "        }\n",
    "    model = SVC(**params)\n",
    "\n",
    "    # Pipeline\n",
    "    pipeline = Pipeline([\n",
    "        ('feature_selection', selector),\n",
    "        ('model', model)\n",
    "    ])\n",
    "\n",
    "    # Cross-validation\n",
    "    cv = StratifiedKFold(n_splits=5, shuffle=True, random_state=42)\n",
    "    try:\n",
    "        scores = cross_val_score(pipeline, X, y, cv=cv, scoring='roc_auc', n_jobs=1)\n",
    "        return np.mean(scores)\n",
    "    except Exception as e:\n",
    "        print(f\"Error in trial: {e}\")\n",
    "        return -np.inf\n",
    "\n",
    "# Run binary classification study\n",
    "study = optuna.create_study(direction='maximize')\n",
    "study.optimize(binary_classification_objective, n_trials=20, show_progress_bar=True, n_jobs = 4)\n",
    "\n",
    "# Print results\n",
    "print(\"\\nBinary Classification Optimization Results:\")\n",
    "print(f\"Best ROC AUC Score: {study.best_value:.4f}\")\n",
    "print(\"Best Parameters:\")\n",
    "for key, value in study.best_params.items():\n",
    "    print(f\"  {key}: {value}\")"
   ]
  },
  {
   "cell_type": "markdown",
   "id": "2f120d4c",
   "metadata": {},
   "source": [
    "# Visualization"
   ]
  },
  {
   "cell_type": "code",
   "execution_count": 7,
   "id": "e84603fd",
   "metadata": {},
   "outputs": [
    {
     "data": {
      "application/vnd.plotly.v1+json": {
       "config": {
        "plotlyServerURL": "https://plot.ly"
       },
       "data": [
        {
         "cliponaxis": false,
         "hovertemplate": [
          "gamma (CategoricalDistribution): 0.024930758072988925<extra></extra>",
          "C (FloatDistribution): 0.07839877628147651<extra></extra>",
          "feature_selection (CategoricalDistribution): 0.3578565457619466<extra></extra>",
          "kernel (CategoricalDistribution): 0.538813919883588<extra></extra>"
         ],
         "name": "ROC AUC Score",
         "orientation": "h",
         "text": [
          "0.02",
          "0.08",
          "0.36",
          "0.54"
         ],
         "textposition": "outside",
         "type": "bar",
         "x": [
          0.024930758072988925,
          0.07839877628147651,
          0.3578565457619466,
          0.538813919883588
         ],
         "y": [
          "gamma",
          "C",
          "feature_selection",
          "kernel"
         ]
        }
       ],
       "layout": {
        "template": {
         "data": {
          "bar": [
           {
            "error_x": {
             "color": "#2a3f5f"
            },
            "error_y": {
             "color": "#2a3f5f"
            },
            "marker": {
             "line": {
              "color": "#E5ECF6",
              "width": 0.5
             },
             "pattern": {
              "fillmode": "overlay",
              "size": 10,
              "solidity": 0.2
             }
            },
            "type": "bar"
           }
          ],
          "barpolar": [
           {
            "marker": {
             "line": {
              "color": "#E5ECF6",
              "width": 0.5
             },
             "pattern": {
              "fillmode": "overlay",
              "size": 10,
              "solidity": 0.2
             }
            },
            "type": "barpolar"
           }
          ],
          "carpet": [
           {
            "aaxis": {
             "endlinecolor": "#2a3f5f",
             "gridcolor": "white",
             "linecolor": "white",
             "minorgridcolor": "white",
             "startlinecolor": "#2a3f5f"
            },
            "baxis": {
             "endlinecolor": "#2a3f5f",
             "gridcolor": "white",
             "linecolor": "white",
             "minorgridcolor": "white",
             "startlinecolor": "#2a3f5f"
            },
            "type": "carpet"
           }
          ],
          "choropleth": [
           {
            "colorbar": {
             "outlinewidth": 0,
             "ticks": ""
            },
            "type": "choropleth"
           }
          ],
          "contour": [
           {
            "colorbar": {
             "outlinewidth": 0,
             "ticks": ""
            },
            "colorscale": [
             [
              0,
              "#0d0887"
             ],
             [
              0.1111111111111111,
              "#46039f"
             ],
             [
              0.2222222222222222,
              "#7201a8"
             ],
             [
              0.3333333333333333,
              "#9c179e"
             ],
             [
              0.4444444444444444,
              "#bd3786"
             ],
             [
              0.5555555555555556,
              "#d8576b"
             ],
             [
              0.6666666666666666,
              "#ed7953"
             ],
             [
              0.7777777777777778,
              "#fb9f3a"
             ],
             [
              0.8888888888888888,
              "#fdca26"
             ],
             [
              1,
              "#f0f921"
             ]
            ],
            "type": "contour"
           }
          ],
          "contourcarpet": [
           {
            "colorbar": {
             "outlinewidth": 0,
             "ticks": ""
            },
            "type": "contourcarpet"
           }
          ],
          "heatmap": [
           {
            "colorbar": {
             "outlinewidth": 0,
             "ticks": ""
            },
            "colorscale": [
             [
              0,
              "#0d0887"
             ],
             [
              0.1111111111111111,
              "#46039f"
             ],
             [
              0.2222222222222222,
              "#7201a8"
             ],
             [
              0.3333333333333333,
              "#9c179e"
             ],
             [
              0.4444444444444444,
              "#bd3786"
             ],
             [
              0.5555555555555556,
              "#d8576b"
             ],
             [
              0.6666666666666666,
              "#ed7953"
             ],
             [
              0.7777777777777778,
              "#fb9f3a"
             ],
             [
              0.8888888888888888,
              "#fdca26"
             ],
             [
              1,
              "#f0f921"
             ]
            ],
            "type": "heatmap"
           }
          ],
          "histogram": [
           {
            "marker": {
             "pattern": {
              "fillmode": "overlay",
              "size": 10,
              "solidity": 0.2
             }
            },
            "type": "histogram"
           }
          ],
          "histogram2d": [
           {
            "colorbar": {
             "outlinewidth": 0,
             "ticks": ""
            },
            "colorscale": [
             [
              0,
              "#0d0887"
             ],
             [
              0.1111111111111111,
              "#46039f"
             ],
             [
              0.2222222222222222,
              "#7201a8"
             ],
             [
              0.3333333333333333,
              "#9c179e"
             ],
             [
              0.4444444444444444,
              "#bd3786"
             ],
             [
              0.5555555555555556,
              "#d8576b"
             ],
             [
              0.6666666666666666,
              "#ed7953"
             ],
             [
              0.7777777777777778,
              "#fb9f3a"
             ],
             [
              0.8888888888888888,
              "#fdca26"
             ],
             [
              1,
              "#f0f921"
             ]
            ],
            "type": "histogram2d"
           }
          ],
          "histogram2dcontour": [
           {
            "colorbar": {
             "outlinewidth": 0,
             "ticks": ""
            },
            "colorscale": [
             [
              0,
              "#0d0887"
             ],
             [
              0.1111111111111111,
              "#46039f"
             ],
             [
              0.2222222222222222,
              "#7201a8"
             ],
             [
              0.3333333333333333,
              "#9c179e"
             ],
             [
              0.4444444444444444,
              "#bd3786"
             ],
             [
              0.5555555555555556,
              "#d8576b"
             ],
             [
              0.6666666666666666,
              "#ed7953"
             ],
             [
              0.7777777777777778,
              "#fb9f3a"
             ],
             [
              0.8888888888888888,
              "#fdca26"
             ],
             [
              1,
              "#f0f921"
             ]
            ],
            "type": "histogram2dcontour"
           }
          ],
          "mesh3d": [
           {
            "colorbar": {
             "outlinewidth": 0,
             "ticks": ""
            },
            "type": "mesh3d"
           }
          ],
          "parcoords": [
           {
            "line": {
             "colorbar": {
              "outlinewidth": 0,
              "ticks": ""
             }
            },
            "type": "parcoords"
           }
          ],
          "pie": [
           {
            "automargin": true,
            "type": "pie"
           }
          ],
          "scatter": [
           {
            "fillpattern": {
             "fillmode": "overlay",
             "size": 10,
             "solidity": 0.2
            },
            "type": "scatter"
           }
          ],
          "scatter3d": [
           {
            "line": {
             "colorbar": {
              "outlinewidth": 0,
              "ticks": ""
             }
            },
            "marker": {
             "colorbar": {
              "outlinewidth": 0,
              "ticks": ""
             }
            },
            "type": "scatter3d"
           }
          ],
          "scattercarpet": [
           {
            "marker": {
             "colorbar": {
              "outlinewidth": 0,
              "ticks": ""
             }
            },
            "type": "scattercarpet"
           }
          ],
          "scattergeo": [
           {
            "marker": {
             "colorbar": {
              "outlinewidth": 0,
              "ticks": ""
             }
            },
            "type": "scattergeo"
           }
          ],
          "scattergl": [
           {
            "marker": {
             "colorbar": {
              "outlinewidth": 0,
              "ticks": ""
             }
            },
            "type": "scattergl"
           }
          ],
          "scattermap": [
           {
            "marker": {
             "colorbar": {
              "outlinewidth": 0,
              "ticks": ""
             }
            },
            "type": "scattermap"
           }
          ],
          "scattermapbox": [
           {
            "marker": {
             "colorbar": {
              "outlinewidth": 0,
              "ticks": ""
             }
            },
            "type": "scattermapbox"
           }
          ],
          "scatterpolar": [
           {
            "marker": {
             "colorbar": {
              "outlinewidth": 0,
              "ticks": ""
             }
            },
            "type": "scatterpolar"
           }
          ],
          "scatterpolargl": [
           {
            "marker": {
             "colorbar": {
              "outlinewidth": 0,
              "ticks": ""
             }
            },
            "type": "scatterpolargl"
           }
          ],
          "scatterternary": [
           {
            "marker": {
             "colorbar": {
              "outlinewidth": 0,
              "ticks": ""
             }
            },
            "type": "scatterternary"
           }
          ],
          "surface": [
           {
            "colorbar": {
             "outlinewidth": 0,
             "ticks": ""
            },
            "colorscale": [
             [
              0,
              "#0d0887"
             ],
             [
              0.1111111111111111,
              "#46039f"
             ],
             [
              0.2222222222222222,
              "#7201a8"
             ],
             [
              0.3333333333333333,
              "#9c179e"
             ],
             [
              0.4444444444444444,
              "#bd3786"
             ],
             [
              0.5555555555555556,
              "#d8576b"
             ],
             [
              0.6666666666666666,
              "#ed7953"
             ],
             [
              0.7777777777777778,
              "#fb9f3a"
             ],
             [
              0.8888888888888888,
              "#fdca26"
             ],
             [
              1,
              "#f0f921"
             ]
            ],
            "type": "surface"
           }
          ],
          "table": [
           {
            "cells": {
             "fill": {
              "color": "#EBF0F8"
             },
             "line": {
              "color": "white"
             }
            },
            "header": {
             "fill": {
              "color": "#C8D4E3"
             },
             "line": {
              "color": "white"
             }
            },
            "type": "table"
           }
          ]
         },
         "layout": {
          "annotationdefaults": {
           "arrowcolor": "#2a3f5f",
           "arrowhead": 0,
           "arrowwidth": 1
          },
          "autotypenumbers": "strict",
          "coloraxis": {
           "colorbar": {
            "outlinewidth": 0,
            "ticks": ""
           }
          },
          "colorscale": {
           "diverging": [
            [
             0,
             "#8e0152"
            ],
            [
             0.1,
             "#c51b7d"
            ],
            [
             0.2,
             "#de77ae"
            ],
            [
             0.3,
             "#f1b6da"
            ],
            [
             0.4,
             "#fde0ef"
            ],
            [
             0.5,
             "#f7f7f7"
            ],
            [
             0.6,
             "#e6f5d0"
            ],
            [
             0.7,
             "#b8e186"
            ],
            [
             0.8,
             "#7fbc41"
            ],
            [
             0.9,
             "#4d9221"
            ],
            [
             1,
             "#276419"
            ]
           ],
           "sequential": [
            [
             0,
             "#0d0887"
            ],
            [
             0.1111111111111111,
             "#46039f"
            ],
            [
             0.2222222222222222,
             "#7201a8"
            ],
            [
             0.3333333333333333,
             "#9c179e"
            ],
            [
             0.4444444444444444,
             "#bd3786"
            ],
            [
             0.5555555555555556,
             "#d8576b"
            ],
            [
             0.6666666666666666,
             "#ed7953"
            ],
            [
             0.7777777777777778,
             "#fb9f3a"
            ],
            [
             0.8888888888888888,
             "#fdca26"
            ],
            [
             1,
             "#f0f921"
            ]
           ],
           "sequentialminus": [
            [
             0,
             "#0d0887"
            ],
            [
             0.1111111111111111,
             "#46039f"
            ],
            [
             0.2222222222222222,
             "#7201a8"
            ],
            [
             0.3333333333333333,
             "#9c179e"
            ],
            [
             0.4444444444444444,
             "#bd3786"
            ],
            [
             0.5555555555555556,
             "#d8576b"
            ],
            [
             0.6666666666666666,
             "#ed7953"
            ],
            [
             0.7777777777777778,
             "#fb9f3a"
            ],
            [
             0.8888888888888888,
             "#fdca26"
            ],
            [
             1,
             "#f0f921"
            ]
           ]
          },
          "colorway": [
           "#636efa",
           "#EF553B",
           "#00cc96",
           "#ab63fa",
           "#FFA15A",
           "#19d3f3",
           "#FF6692",
           "#B6E880",
           "#FF97FF",
           "#FECB52"
          ],
          "font": {
           "color": "#2a3f5f"
          },
          "geo": {
           "bgcolor": "white",
           "lakecolor": "white",
           "landcolor": "#E5ECF6",
           "showlakes": true,
           "showland": true,
           "subunitcolor": "white"
          },
          "hoverlabel": {
           "align": "left"
          },
          "hovermode": "closest",
          "mapbox": {
           "style": "light"
          },
          "paper_bgcolor": "white",
          "plot_bgcolor": "#E5ECF6",
          "polar": {
           "angularaxis": {
            "gridcolor": "white",
            "linecolor": "white",
            "ticks": ""
           },
           "bgcolor": "#E5ECF6",
           "radialaxis": {
            "gridcolor": "white",
            "linecolor": "white",
            "ticks": ""
           }
          },
          "scene": {
           "xaxis": {
            "backgroundcolor": "#E5ECF6",
            "gridcolor": "white",
            "gridwidth": 2,
            "linecolor": "white",
            "showbackground": true,
            "ticks": "",
            "zerolinecolor": "white"
           },
           "yaxis": {
            "backgroundcolor": "#E5ECF6",
            "gridcolor": "white",
            "gridwidth": 2,
            "linecolor": "white",
            "showbackground": true,
            "ticks": "",
            "zerolinecolor": "white"
           },
           "zaxis": {
            "backgroundcolor": "#E5ECF6",
            "gridcolor": "white",
            "gridwidth": 2,
            "linecolor": "white",
            "showbackground": true,
            "ticks": "",
            "zerolinecolor": "white"
           }
          },
          "shapedefaults": {
           "line": {
            "color": "#2a3f5f"
           }
          },
          "ternary": {
           "aaxis": {
            "gridcolor": "white",
            "linecolor": "white",
            "ticks": ""
           },
           "baxis": {
            "gridcolor": "white",
            "linecolor": "white",
            "ticks": ""
           },
           "bgcolor": "#E5ECF6",
           "caxis": {
            "gridcolor": "white",
            "linecolor": "white",
            "ticks": ""
           }
          },
          "title": {
           "x": 0.05
          },
          "xaxis": {
           "automargin": true,
           "gridcolor": "white",
           "linecolor": "white",
           "ticks": "",
           "title": {
            "standoff": 15
           },
           "zerolinecolor": "white",
           "zerolinewidth": 2
          },
          "yaxis": {
           "automargin": true,
           "gridcolor": "white",
           "linecolor": "white",
           "ticks": "",
           "title": {
            "standoff": 15
           },
           "zerolinecolor": "white",
           "zerolinewidth": 2
          }
         }
        },
        "title": {
         "text": "Hyperparameter Importances"
        },
        "xaxis": {
         "title": {
          "text": "Hyperparameter Importance"
         }
        },
        "yaxis": {
         "title": {
          "text": "Hyperparameter"
         }
        }
       }
      }
     },
     "metadata": {},
     "output_type": "display_data"
    },
    {
     "data": {
      "application/vnd.plotly.v1+json": {
       "config": {
        "plotlyServerURL": "https://plot.ly"
       },
       "data": [
        {
         "marker": {
          "color": [
           0,
           1,
           2,
           3,
           4,
           5,
           6,
           7,
           8,
           9,
           10,
           11,
           12,
           13,
           14,
           15,
           16,
           17,
           18,
           19
          ],
          "colorbar": {
           "title": {
            "text": "Trial"
           },
           "x": 1,
           "xpad": 40
          },
          "colorscale": [
           [
            0,
            "rgb(247,251,255)"
           ],
           [
            0.125,
            "rgb(222,235,247)"
           ],
           [
            0.25,
            "rgb(198,219,239)"
           ],
           [
            0.375,
            "rgb(158,202,225)"
           ],
           [
            0.5,
            "rgb(107,174,214)"
           ],
           [
            0.625,
            "rgb(66,146,198)"
           ],
           [
            0.75,
            "rgb(33,113,181)"
           ],
           [
            0.875,
            "rgb(8,81,156)"
           ],
           [
            1,
            "rgb(8,48,107)"
           ]
          ],
          "line": {
           "color": "Grey",
           "width": 0.5
          },
          "showscale": true
         },
         "mode": "markers",
         "name": "Feasible Trial",
         "showlegend": false,
         "type": "scatter",
         "x": [
          0.3204673615966252,
          32.68402670888266,
          12.70894505910294,
          11.928263639456897,
          0.18358353763612947,
          23.822283617915122,
          10.383289082823431,
          40.20611367056855,
          9.40827558206553,
          89.49617170429713,
          0.13563402150458223,
          0.14065280090840582,
          30.04847492890891,
          1.2448708348714674,
          81.5950288327024,
          1.9320222949652435,
          1.4577575389036854,
          1.0544258518001455,
          1.8573684181213448,
          1.4364909760281088
         ],
         "xaxis": "x",
         "y": [
          0.7597556764223431,
          0.703691370358037,
          0.7217621884288551,
          0.6380644047310714,
          0.7504921004921006,
          0.7782069782069783,
          0.7070244570244572,
          0.7673894007227341,
          0.7204375871042539,
          0.7114959114959115,
          0.6320296986963653,
          0.7487592654259322,
          0.7434682601349267,
          0.7953953453953454,
          0.7652668319334988,
          0.7929477929477928,
          0.8070263070263071,
          0.7946652113318781,
          0.8020541187207855,
          0.8034342201008867
         ],
         "yaxis": "y"
        },
        {
         "marker": {
          "color": [
           0,
           1,
           2,
           3,
           4,
           5,
           6,
           7,
           8,
           9,
           10,
           11,
           12,
           13,
           14,
           15,
           16,
           17,
           18,
           19
          ],
          "colorbar": {
           "title": {
            "text": "Trial"
           },
           "x": 1,
           "xpad": 40
          },
          "colorscale": [
           [
            0,
            "rgb(247,251,255)"
           ],
           [
            0.125,
            "rgb(222,235,247)"
           ],
           [
            0.25,
            "rgb(198,219,239)"
           ],
           [
            0.375,
            "rgb(158,202,225)"
           ],
           [
            0.5,
            "rgb(107,174,214)"
           ],
           [
            0.625,
            "rgb(66,146,198)"
           ],
           [
            0.75,
            "rgb(33,113,181)"
           ],
           [
            0.875,
            "rgb(8,81,156)"
           ],
           [
            1,
            "rgb(8,48,107)"
           ]
          ],
          "line": {
           "color": "Grey",
           "width": 0.5
          },
          "showscale": false
         },
         "mode": "markers",
         "name": "Feasible Trial",
         "showlegend": false,
         "type": "scatter",
         "x": [
          "auto",
          "scale",
          "scale",
          "auto",
          "auto",
          "auto",
          "scale",
          "auto",
          "auto",
          "auto",
          "auto",
          "scale",
          "scale",
          "auto",
          "auto",
          "auto",
          "auto",
          "auto",
          "auto",
          "auto"
         ],
         "xaxis": "x2",
         "y": [
          0.7597556764223431,
          0.703691370358037,
          0.7217621884288551,
          0.6380644047310714,
          0.7504921004921006,
          0.7782069782069783,
          0.7070244570244572,
          0.7673894007227341,
          0.7204375871042539,
          0.7114959114959115,
          0.6320296986963653,
          0.7487592654259322,
          0.7434682601349267,
          0.7953953453953454,
          0.7652668319334988,
          0.7929477929477928,
          0.8070263070263071,
          0.7946652113318781,
          0.8020541187207855,
          0.8034342201008867
         ],
         "yaxis": "y2"
        },
        {
         "marker": {
          "color": [
           0,
           1,
           2,
           3,
           4,
           5,
           6,
           7,
           8,
           9,
           10,
           11,
           12,
           13,
           14,
           15,
           16,
           17,
           18,
           19
          ],
          "colorbar": {
           "title": {
            "text": "Trial"
           },
           "x": 1,
           "xpad": 40
          },
          "colorscale": [
           [
            0,
            "rgb(247,251,255)"
           ],
           [
            0.125,
            "rgb(222,235,247)"
           ],
           [
            0.25,
            "rgb(198,219,239)"
           ],
           [
            0.375,
            "rgb(158,202,225)"
           ],
           [
            0.5,
            "rgb(107,174,214)"
           ],
           [
            0.625,
            "rgb(66,146,198)"
           ],
           [
            0.75,
            "rgb(33,113,181)"
           ],
           [
            0.875,
            "rgb(8,81,156)"
           ],
           [
            1,
            "rgb(8,48,107)"
           ]
          ],
          "line": {
           "color": "Grey",
           "width": 0.5
          },
          "showscale": false
         },
         "mode": "markers",
         "name": "Feasible Trial",
         "showlegend": false,
         "type": "scatter",
         "x": [
          "rbf",
          "poly",
          "rbf",
          "poly",
          "linear",
          "rbf",
          "linear",
          "rbf",
          "linear",
          "poly",
          "poly",
          "linear",
          "linear",
          "rbf",
          "rbf",
          "rbf",
          "rbf",
          "rbf",
          "rbf",
          "rbf"
         ],
         "xaxis": "x3",
         "y": [
          0.7597556764223431,
          0.703691370358037,
          0.7217621884288551,
          0.6380644047310714,
          0.7504921004921006,
          0.7782069782069783,
          0.7070244570244572,
          0.7673894007227341,
          0.7204375871042539,
          0.7114959114959115,
          0.6320296986963653,
          0.7487592654259322,
          0.7434682601349267,
          0.7953953453953454,
          0.7652668319334988,
          0.7929477929477928,
          0.8070263070263071,
          0.7946652113318781,
          0.8020541187207855,
          0.8034342201008867
         ],
         "yaxis": "y3"
        }
       ],
       "layout": {
        "template": {
         "data": {
          "bar": [
           {
            "error_x": {
             "color": "#2a3f5f"
            },
            "error_y": {
             "color": "#2a3f5f"
            },
            "marker": {
             "line": {
              "color": "#E5ECF6",
              "width": 0.5
             },
             "pattern": {
              "fillmode": "overlay",
              "size": 10,
              "solidity": 0.2
             }
            },
            "type": "bar"
           }
          ],
          "barpolar": [
           {
            "marker": {
             "line": {
              "color": "#E5ECF6",
              "width": 0.5
             },
             "pattern": {
              "fillmode": "overlay",
              "size": 10,
              "solidity": 0.2
             }
            },
            "type": "barpolar"
           }
          ],
          "carpet": [
           {
            "aaxis": {
             "endlinecolor": "#2a3f5f",
             "gridcolor": "white",
             "linecolor": "white",
             "minorgridcolor": "white",
             "startlinecolor": "#2a3f5f"
            },
            "baxis": {
             "endlinecolor": "#2a3f5f",
             "gridcolor": "white",
             "linecolor": "white",
             "minorgridcolor": "white",
             "startlinecolor": "#2a3f5f"
            },
            "type": "carpet"
           }
          ],
          "choropleth": [
           {
            "colorbar": {
             "outlinewidth": 0,
             "ticks": ""
            },
            "type": "choropleth"
           }
          ],
          "contour": [
           {
            "colorbar": {
             "outlinewidth": 0,
             "ticks": ""
            },
            "colorscale": [
             [
              0,
              "#0d0887"
             ],
             [
              0.1111111111111111,
              "#46039f"
             ],
             [
              0.2222222222222222,
              "#7201a8"
             ],
             [
              0.3333333333333333,
              "#9c179e"
             ],
             [
              0.4444444444444444,
              "#bd3786"
             ],
             [
              0.5555555555555556,
              "#d8576b"
             ],
             [
              0.6666666666666666,
              "#ed7953"
             ],
             [
              0.7777777777777778,
              "#fb9f3a"
             ],
             [
              0.8888888888888888,
              "#fdca26"
             ],
             [
              1,
              "#f0f921"
             ]
            ],
            "type": "contour"
           }
          ],
          "contourcarpet": [
           {
            "colorbar": {
             "outlinewidth": 0,
             "ticks": ""
            },
            "type": "contourcarpet"
           }
          ],
          "heatmap": [
           {
            "colorbar": {
             "outlinewidth": 0,
             "ticks": ""
            },
            "colorscale": [
             [
              0,
              "#0d0887"
             ],
             [
              0.1111111111111111,
              "#46039f"
             ],
             [
              0.2222222222222222,
              "#7201a8"
             ],
             [
              0.3333333333333333,
              "#9c179e"
             ],
             [
              0.4444444444444444,
              "#bd3786"
             ],
             [
              0.5555555555555556,
              "#d8576b"
             ],
             [
              0.6666666666666666,
              "#ed7953"
             ],
             [
              0.7777777777777778,
              "#fb9f3a"
             ],
             [
              0.8888888888888888,
              "#fdca26"
             ],
             [
              1,
              "#f0f921"
             ]
            ],
            "type": "heatmap"
           }
          ],
          "histogram": [
           {
            "marker": {
             "pattern": {
              "fillmode": "overlay",
              "size": 10,
              "solidity": 0.2
             }
            },
            "type": "histogram"
           }
          ],
          "histogram2d": [
           {
            "colorbar": {
             "outlinewidth": 0,
             "ticks": ""
            },
            "colorscale": [
             [
              0,
              "#0d0887"
             ],
             [
              0.1111111111111111,
              "#46039f"
             ],
             [
              0.2222222222222222,
              "#7201a8"
             ],
             [
              0.3333333333333333,
              "#9c179e"
             ],
             [
              0.4444444444444444,
              "#bd3786"
             ],
             [
              0.5555555555555556,
              "#d8576b"
             ],
             [
              0.6666666666666666,
              "#ed7953"
             ],
             [
              0.7777777777777778,
              "#fb9f3a"
             ],
             [
              0.8888888888888888,
              "#fdca26"
             ],
             [
              1,
              "#f0f921"
             ]
            ],
            "type": "histogram2d"
           }
          ],
          "histogram2dcontour": [
           {
            "colorbar": {
             "outlinewidth": 0,
             "ticks": ""
            },
            "colorscale": [
             [
              0,
              "#0d0887"
             ],
             [
              0.1111111111111111,
              "#46039f"
             ],
             [
              0.2222222222222222,
              "#7201a8"
             ],
             [
              0.3333333333333333,
              "#9c179e"
             ],
             [
              0.4444444444444444,
              "#bd3786"
             ],
             [
              0.5555555555555556,
              "#d8576b"
             ],
             [
              0.6666666666666666,
              "#ed7953"
             ],
             [
              0.7777777777777778,
              "#fb9f3a"
             ],
             [
              0.8888888888888888,
              "#fdca26"
             ],
             [
              1,
              "#f0f921"
             ]
            ],
            "type": "histogram2dcontour"
           }
          ],
          "mesh3d": [
           {
            "colorbar": {
             "outlinewidth": 0,
             "ticks": ""
            },
            "type": "mesh3d"
           }
          ],
          "parcoords": [
           {
            "line": {
             "colorbar": {
              "outlinewidth": 0,
              "ticks": ""
             }
            },
            "type": "parcoords"
           }
          ],
          "pie": [
           {
            "automargin": true,
            "type": "pie"
           }
          ],
          "scatter": [
           {
            "fillpattern": {
             "fillmode": "overlay",
             "size": 10,
             "solidity": 0.2
            },
            "type": "scatter"
           }
          ],
          "scatter3d": [
           {
            "line": {
             "colorbar": {
              "outlinewidth": 0,
              "ticks": ""
             }
            },
            "marker": {
             "colorbar": {
              "outlinewidth": 0,
              "ticks": ""
             }
            },
            "type": "scatter3d"
           }
          ],
          "scattercarpet": [
           {
            "marker": {
             "colorbar": {
              "outlinewidth": 0,
              "ticks": ""
             }
            },
            "type": "scattercarpet"
           }
          ],
          "scattergeo": [
           {
            "marker": {
             "colorbar": {
              "outlinewidth": 0,
              "ticks": ""
             }
            },
            "type": "scattergeo"
           }
          ],
          "scattergl": [
           {
            "marker": {
             "colorbar": {
              "outlinewidth": 0,
              "ticks": ""
             }
            },
            "type": "scattergl"
           }
          ],
          "scattermap": [
           {
            "marker": {
             "colorbar": {
              "outlinewidth": 0,
              "ticks": ""
             }
            },
            "type": "scattermap"
           }
          ],
          "scattermapbox": [
           {
            "marker": {
             "colorbar": {
              "outlinewidth": 0,
              "ticks": ""
             }
            },
            "type": "scattermapbox"
           }
          ],
          "scatterpolar": [
           {
            "marker": {
             "colorbar": {
              "outlinewidth": 0,
              "ticks": ""
             }
            },
            "type": "scatterpolar"
           }
          ],
          "scatterpolargl": [
           {
            "marker": {
             "colorbar": {
              "outlinewidth": 0,
              "ticks": ""
             }
            },
            "type": "scatterpolargl"
           }
          ],
          "scatterternary": [
           {
            "marker": {
             "colorbar": {
              "outlinewidth": 0,
              "ticks": ""
             }
            },
            "type": "scatterternary"
           }
          ],
          "surface": [
           {
            "colorbar": {
             "outlinewidth": 0,
             "ticks": ""
            },
            "colorscale": [
             [
              0,
              "#0d0887"
             ],
             [
              0.1111111111111111,
              "#46039f"
             ],
             [
              0.2222222222222222,
              "#7201a8"
             ],
             [
              0.3333333333333333,
              "#9c179e"
             ],
             [
              0.4444444444444444,
              "#bd3786"
             ],
             [
              0.5555555555555556,
              "#d8576b"
             ],
             [
              0.6666666666666666,
              "#ed7953"
             ],
             [
              0.7777777777777778,
              "#fb9f3a"
             ],
             [
              0.8888888888888888,
              "#fdca26"
             ],
             [
              1,
              "#f0f921"
             ]
            ],
            "type": "surface"
           }
          ],
          "table": [
           {
            "cells": {
             "fill": {
              "color": "#EBF0F8"
             },
             "line": {
              "color": "white"
             }
            },
            "header": {
             "fill": {
              "color": "#C8D4E3"
             },
             "line": {
              "color": "white"
             }
            },
            "type": "table"
           }
          ]
         },
         "layout": {
          "annotationdefaults": {
           "arrowcolor": "#2a3f5f",
           "arrowhead": 0,
           "arrowwidth": 1
          },
          "autotypenumbers": "strict",
          "coloraxis": {
           "colorbar": {
            "outlinewidth": 0,
            "ticks": ""
           }
          },
          "colorscale": {
           "diverging": [
            [
             0,
             "#8e0152"
            ],
            [
             0.1,
             "#c51b7d"
            ],
            [
             0.2,
             "#de77ae"
            ],
            [
             0.3,
             "#f1b6da"
            ],
            [
             0.4,
             "#fde0ef"
            ],
            [
             0.5,
             "#f7f7f7"
            ],
            [
             0.6,
             "#e6f5d0"
            ],
            [
             0.7,
             "#b8e186"
            ],
            [
             0.8,
             "#7fbc41"
            ],
            [
             0.9,
             "#4d9221"
            ],
            [
             1,
             "#276419"
            ]
           ],
           "sequential": [
            [
             0,
             "#0d0887"
            ],
            [
             0.1111111111111111,
             "#46039f"
            ],
            [
             0.2222222222222222,
             "#7201a8"
            ],
            [
             0.3333333333333333,
             "#9c179e"
            ],
            [
             0.4444444444444444,
             "#bd3786"
            ],
            [
             0.5555555555555556,
             "#d8576b"
            ],
            [
             0.6666666666666666,
             "#ed7953"
            ],
            [
             0.7777777777777778,
             "#fb9f3a"
            ],
            [
             0.8888888888888888,
             "#fdca26"
            ],
            [
             1,
             "#f0f921"
            ]
           ],
           "sequentialminus": [
            [
             0,
             "#0d0887"
            ],
            [
             0.1111111111111111,
             "#46039f"
            ],
            [
             0.2222222222222222,
             "#7201a8"
            ],
            [
             0.3333333333333333,
             "#9c179e"
            ],
            [
             0.4444444444444444,
             "#bd3786"
            ],
            [
             0.5555555555555556,
             "#d8576b"
            ],
            [
             0.6666666666666666,
             "#ed7953"
            ],
            [
             0.7777777777777778,
             "#fb9f3a"
            ],
            [
             0.8888888888888888,
             "#fdca26"
            ],
            [
             1,
             "#f0f921"
            ]
           ]
          },
          "colorway": [
           "#636efa",
           "#EF553B",
           "#00cc96",
           "#ab63fa",
           "#FFA15A",
           "#19d3f3",
           "#FF6692",
           "#B6E880",
           "#FF97FF",
           "#FECB52"
          ],
          "font": {
           "color": "#2a3f5f"
          },
          "geo": {
           "bgcolor": "white",
           "lakecolor": "white",
           "landcolor": "#E5ECF6",
           "showlakes": true,
           "showland": true,
           "subunitcolor": "white"
          },
          "hoverlabel": {
           "align": "left"
          },
          "hovermode": "closest",
          "mapbox": {
           "style": "light"
          },
          "paper_bgcolor": "white",
          "plot_bgcolor": "#E5ECF6",
          "polar": {
           "angularaxis": {
            "gridcolor": "white",
            "linecolor": "white",
            "ticks": ""
           },
           "bgcolor": "#E5ECF6",
           "radialaxis": {
            "gridcolor": "white",
            "linecolor": "white",
            "ticks": ""
           }
          },
          "scene": {
           "xaxis": {
            "backgroundcolor": "#E5ECF6",
            "gridcolor": "white",
            "gridwidth": 2,
            "linecolor": "white",
            "showbackground": true,
            "ticks": "",
            "zerolinecolor": "white"
           },
           "yaxis": {
            "backgroundcolor": "#E5ECF6",
            "gridcolor": "white",
            "gridwidth": 2,
            "linecolor": "white",
            "showbackground": true,
            "ticks": "",
            "zerolinecolor": "white"
           },
           "zaxis": {
            "backgroundcolor": "#E5ECF6",
            "gridcolor": "white",
            "gridwidth": 2,
            "linecolor": "white",
            "showbackground": true,
            "ticks": "",
            "zerolinecolor": "white"
           }
          },
          "shapedefaults": {
           "line": {
            "color": "#2a3f5f"
           }
          },
          "ternary": {
           "aaxis": {
            "gridcolor": "white",
            "linecolor": "white",
            "ticks": ""
           },
           "baxis": {
            "gridcolor": "white",
            "linecolor": "white",
            "ticks": ""
           },
           "bgcolor": "#E5ECF6",
           "caxis": {
            "gridcolor": "white",
            "linecolor": "white",
            "ticks": ""
           }
          },
          "title": {
           "x": 0.05
          },
          "xaxis": {
           "automargin": true,
           "gridcolor": "white",
           "linecolor": "white",
           "ticks": "",
           "title": {
            "standoff": 15
           },
           "zerolinecolor": "white",
           "zerolinewidth": 2
          },
          "yaxis": {
           "automargin": true,
           "gridcolor": "white",
           "linecolor": "white",
           "ticks": "",
           "title": {
            "standoff": 15
           },
           "zerolinecolor": "white",
           "zerolinewidth": 2
          }
         }
        },
        "title": {
         "text": "Slice Plot"
        },
        "xaxis": {
         "anchor": "y",
         "domain": [
          0,
          0.2888888888888889
         ],
         "title": {
          "text": "C"
         },
         "type": "log"
        },
        "xaxis2": {
         "anchor": "y2",
         "categoryarray": [
          "scale",
          "auto"
         ],
         "categoryorder": "array",
         "domain": [
          0.35555555555555557,
          0.6444444444444445
         ],
         "title": {
          "text": "gamma"
         },
         "type": "category"
        },
        "xaxis3": {
         "anchor": "y3",
         "categoryarray": [
          "linear",
          "rbf",
          "poly"
         ],
         "categoryorder": "array",
         "domain": [
          0.7111111111111111,
          1
         ],
         "title": {
          "text": "kernel"
         },
         "type": "category"
        },
        "yaxis": {
         "anchor": "x",
         "domain": [
          0,
          1
         ],
         "title": {
          "text": "ROC AUC Score"
         }
        },
        "yaxis2": {
         "anchor": "x2",
         "domain": [
          0,
          1
         ],
         "matches": "y",
         "showticklabels": false
        },
        "yaxis3": {
         "anchor": "x3",
         "domain": [
          0,
          1
         ],
         "matches": "y",
         "showticklabels": false
        }
       }
      }
     },
     "metadata": {},
     "output_type": "display_data"
    }
   ],
   "source": [
    "# 1. Parameter Importance Plot\n",
    "fig = vis.plot_param_importances(study, target_name=\"ROC AUC Score\")\n",
    "fig.show()\n",
    "\n",
    "# 2. Slice Plot (Best for seeing individual parameter effects)\n",
    "fig = vis.plot_slice(\n",
    "    study,\n",
    "    params=['kernel', 'C', 'gamma'],\n",
    "    target_name=\"ROC AUC Score\"\n",
    ")\n",
    "fig.show()"
   ]
  },
  {
   "cell_type": "markdown",
   "id": "6f109393",
   "metadata": {},
   "source": [
    "# Apply Feature Selection to Train and Test Data"
   ]
  },
  {
   "cell_type": "code",
   "execution_count": 29,
   "id": "8ccf9fde",
   "metadata": {},
   "outputs": [],
   "source": [
    "# apply your feature selection code from before\n",
    "best_fs_method = study.best_params.get('feature_selection', 'None')\n",
    "\n",
    "if best_fs_method != 'None':\n",
    "    k_features = study.best_params['k_features']\n",
    "    if best_fs_method == 'RFE':\n",
    "        estimator = RandomForestClassifier()\n",
    "        selector = RFE(estimator, n_features_to_select=k_features)\n",
    "    elif best_fs_method == 'MRMR':\n",
    "        selector = MRMRTransformer(k_features=k_features)\n",
    "    \n",
    "    selector.fit(X, y)\n",
    "    if hasattr(selector, 'get_support'):  # For RFE\n",
    "        selected_features = X.columns[selector.get_support()]\n",
    "    else:  # For MRMR\n",
    "        selected_features = selector.selected_features\n",
    "    X_best = X[selected_features]\n",
    "else:\n",
    "    X_best = X\n",
    "    selected_features = X.columns\n",
    "\n",
    "# Apply the same feature selection to test data\n",
    "if best_fs_method != 'None':\n",
    "    if best_fs_method == 'MRMR':\n",
    "        X_test_final = X_test_scaled[selected_features]  # This should be DataFrame\n",
    "    else:  # RFE\n",
    "        X_test_transformed = selector.transform(X_test_scaled)\n",
    "        # Convert back to DataFrame with feature names\n",
    "        X_test_final = pd.DataFrame(X_test_transformed, columns=selected_features)\n",
    "else:\n",
    "    X_test_final = X_test_scaled  # DataFrame"
   ]
  },
  {
   "cell_type": "markdown",
   "id": "fe5d1c10",
   "metadata": {},
   "source": [
    "# Create and Fit SVM Model with Best Parameters"
   ]
  },
  {
   "cell_type": "code",
   "execution_count": 30,
   "id": "be4ce598",
   "metadata": {},
   "outputs": [],
   "source": [
    "best_model = SVC(\n",
    "    C=study.best_params['C'],\n",
    "    kernel=study.best_params['kernel'],\n",
    "    gamma=study.best_params['gamma'],\n",
    "    degree=study.best_params.get('degree', 3),  # Default degree if not in params\n",
    "    probability=True,\n",
    "    random_state=42\n",
    ")\n",
    "\n",
    "# Train on full (potentially feature-selected) data\n",
    "best_model.fit(X_best, y)\n",
    "params_dict = best_model.get_params()"
   ]
  },
  {
   "cell_type": "markdown",
   "id": "41bb8979",
   "metadata": {},
   "source": [
    "# Plot Decision Boundary with PCA\n",
    "- not confident in this, need to research what is actually going on here"
   ]
  },
  {
   "cell_type": "code",
   "execution_count": 31,
   "id": "dfad17c1",
   "metadata": {},
   "outputs": [
    {
     "data": {
      "image/png": "[encoded data removed]",
      "text/plain": [
       "<Figure size 640x480 with 1 Axes>"
      ]
     },
     "metadata": {},
     "output_type": "display_data"
    }
   ],
   "source": [
    "def plot_decision_boundary_pca(model, X, y, title=\"SVC Decision Boundary (PCA)\"):\n",
    "    \"\"\"\n",
    "    Project high-dimensional data to 2D using PCA for visualization\n",
    "    \"\"\"\n",
    "    # Reduce to 2D using PCA\n",
    "    pca = PCA(n_components=2)\n",
    "    X_pca = pca.fit_transform(X)\n",
    "    \n",
    "    # Train a new model on PCA-transformed data (for accurate boundary)\n",
    "    model_pca = SVC(**params_dict)\n",
    "    model_pca.fit(X_pca, y)\n",
    "    \n",
    "    # Plot decision boundary\n",
    "    display = DecisionBoundaryDisplay.from_estimator(\n",
    "        model_pca,\n",
    "        X_pca,\n",
    "        response_method=\"predict\",\n",
    "        cmap=plt.cm.coolwarm,\n",
    "        alpha=0.8,\n",
    "    )\n",
    "    \n",
    "    plt.scatter(X_pca[:, 0], X_pca[:, 1], c=y, edgecolors='k', cmap=plt.cm.coolwarm)\n",
    "    plt.title(f\"{title}\\n(PCA Projection)\")\n",
    "    plt.xlabel('Principal Component 1')\n",
    "    plt.ylabel('Principal Component 2')\n",
    "    plt.show()\n",
    "\n",
    "# Usage for high-dimensional data\n",
    "plot_decision_boundary_pca(best_model, X_best, y)"
   ]
  },
  {
   "cell_type": "markdown",
   "id": "15175aaf",
   "metadata": {},
   "source": [
    "# Run model and get outcomes"
   ]
  },
  {
   "cell_type": "code",
   "execution_count": 32,
   "id": "e02a89d7",
   "metadata": {},
   "outputs": [
    {
     "name": "stdout",
     "output_type": "stream",
     "text": [
      "\n",
      "Final Model Evaluation on Test Set:\n",
      "Accuracy: 0.7000\n",
      "Precision: 0.7027\n",
      "Recall: 0.7879\n",
      "F1 Score: 0.7429\n",
      "ROC AUC: 0.7632\n"
     ]
    },
    {
     "data": {
      "image/png": "[encoded data removed]",
      "text/plain": [
       "<Figure size 600x600 with 2 Axes>"
      ]
     },
     "metadata": {},
     "output_type": "display_data"
    },
    {
     "data": {
      "image/png": "[encoded data removed]",
      "text/plain": [
       "<Figure size 600x600 with 1 Axes>"
      ]
     },
     "metadata": {},
     "output_type": "display_data"
    },
    {
     "data": {
      "image/png": "[encoded data removed]",
      "text/plain": [
       "<Figure size 600x600 with 1 Axes>"
      ]
     },
     "metadata": {},
     "output_type": "display_data"
    }
   ],
   "source": [
    "# Make predictions\n",
    "y_pred = best_model.predict(X_test_final)\n",
    "y_pred_proba = best_model.predict_proba(X_test_final)[:, 1]  # Probabilities for class 1\n",
    "\n",
    "# Calculate metrics\n",
    "accuracy = accuracy_score(y_test, y_pred)\n",
    "precision = precision_score(y_test, y_pred)\n",
    "recall = recall_score(y_test, y_pred)\n",
    "f1 = f1_score(y_test, y_pred)\n",
    "roc_auc = roc_auc_score(y_test, y_pred_proba)\n",
    "\n",
    "print(\"\\nFinal Model Evaluation on Test Set:\")\n",
    "print(f\"Accuracy: {accuracy:.4f}\")\n",
    "print(f\"Precision: {precision:.4f}\")\n",
    "print(f\"Recall: {recall:.4f}\")\n",
    "print(f\"F1 Score: {f1:.4f}\")\n",
    "print(f\"ROC AUC: {roc_auc:.4f}\")\n",
    "\n",
    "# Confusion matrix\n",
    "cm = confusion_matrix(y_test, y_pred)\n",
    "plt.figure(figsize=(6,6))\n",
    "sns.heatmap(cm, annot=True, fmt='d', cmap='Blues', \n",
    "            xticklabels=['Negative', 'Positive'],\n",
    "            yticklabels=['Negative', 'Positive'])\n",
    "plt.title('Confusion Matrix - Best Binary Model')\n",
    "plt.xlabel('Predicted')\n",
    "plt.ylabel('True')\n",
    "plt.show()\n",
    "\n",
    "# ROC Curve\n",
    "fpr, tpr, _ = roc_curve(y_test, y_pred_proba)\n",
    "plt.figure(figsize=(6,6))\n",
    "plt.plot(fpr, tpr, label=f'ROC curve (AUC = {roc_auc:.2f})')\n",
    "plt.plot([0, 1], [0, 1], 'k--')\n",
    "plt.xlim([0.0, 1.0])\n",
    "plt.ylim([0.0, 1.05])\n",
    "plt.xlabel('False Positive Rate')\n",
    "plt.ylabel('True Positive Rate')\n",
    "plt.title('Receiver Operating Characteristic')\n",
    "plt.legend(loc=\"lower right\")\n",
    "plt.show()\n",
    "\n",
    "# Precision-Recall Curve\n",
    "precision_curve, recall_curve, _ = precision_recall_curve(y_test, y_pred_proba)\n",
    "average_precision = average_precision_score(y_test, y_pred_proba)\n",
    "plt.figure(figsize=(6,6))\n",
    "plt.plot(recall_curve, precision_curve, label=f'Precision-Recall curve (AP = {average_precision:.2f})')\n",
    "plt.xlabel('Recall')\n",
    "plt.ylabel('Precision')\n",
    "plt.ylim([0.0, 1.05])\n",
    "plt.xlim([0.0, 1.0])\n",
    "plt.title('Precision-Recall Curve')\n",
    "plt.legend(loc=\"lower left\")\n",
    "plt.show()"
   ]
  },
  {
   "cell_type": "markdown",
   "id": "c98cff1d",
   "metadata": {},
   "source": [
    "# Get Best Features\n",
    "https://www.geeksforgeeks.org/machine-learning/determining-feature-importance-in-svm-classifiers-with-scikit-learn/"
   ]
  },
  {
   "cell_type": "code",
   "execution_count": 33,
   "id": "60ce01ff",
   "metadata": {},
   "outputs": [
    {
     "name": "stdout",
     "output_type": "stream",
     "text": [
      "\n",
      "==================================================\n",
      "FEATURE IMPORTANCE ANALYSIS\n",
      "==================================================\n",
      "Number of features in final model: 65\n",
      "\n",
      "Calculating permutation importance for rbf kernel...\n",
      "65\n",
      "Permutation Feature Importances:\n",
      "                      feature  importance_mean  importance_std\n",
      "                P4_abs_fft_20         0.017396        0.008589\n",
      "               P4_norm_fft_20         0.015331        0.009142\n",
      "                Oz_abs_fft_10         0.014905        0.010444\n",
      "               O2_norm_fft_20         0.014186        0.006340\n",
      "                O2_abs_fft_20         0.012660        0.007363\n",
      "                       C4_SNR         0.012076        0.012637\n",
      "                F4_abs_fft_20         0.011268        0.007776\n",
      "                Oz_abs_fft_30         0.010887        0.007106\n",
      "               PO7_abs_fft_10         0.010550        0.005687\n",
      "                Fz_abs_fft_10         0.008956        0.010288\n",
      "               Oz_norm_fft_30         0.008844        0.006703\n",
      "               Oz_norm_fft_10         0.007767        0.009051\n",
      "                O1_abs_fft_10         0.005410        0.014148\n",
      "                C3_abs_fft_20         0.005051        0.006545\n",
      "      T8_theta_+_alpha_+_beta         0.004983        0.012067\n",
      "                       Cz_SNR         0.004669        0.011955\n",
      "             T8_theta_+_alpha         0.004355        0.009491\n",
      "               O1_norm_fft_10         0.003726        0.014114\n",
      "               P3_norm_fft_10         0.003569        0.007621\n",
      "                       O2_SNR         0.003322        0.008015\n",
      "                O2_abs_fft_10         0.003187        0.012166\n",
      "                Cz_abs_fft_10         0.002761        0.005666\n",
      "                       Fz_SNR         0.002738        0.005688\n",
      "                P8_abs_fft_20         0.002424        0.004853\n",
      "              PO7_norm_fft_10         0.002177        0.003910\n",
      "                Fz_norm_fft_5         0.001975        0.005945\n",
      "                P3_abs_fft_10         0.001886        0.006600\n",
      "                       P3_SNR         0.001796        0.004376\n",
      "               O1_norm_fft_30         0.001414        0.007144\n",
      "                     T8_alpha         0.001257        0.008392\n",
      "               O2_norm_fft_10         0.001190        0.012615\n",
      "                       C3_SNR         0.001100        0.003832\n",
      "                T8_theta/beta         0.000988        0.003273\n",
      "               O1_norm_fft_20         0.000875        0.007476\n",
      "               T8_norm_fft_30         0.000539        0.006078\n",
      "                     P8_delta        -0.000741        0.005102\n",
      "                O2_norm_fft_5        -0.000831        0.004216\n",
      "                     F8_delta        -0.001257        0.003482\n",
      "                     T8_delta        -0.001257        0.002149\n",
      "                     O1_delta        -0.001706        0.003192\n",
      "                Oz_abs_fft_20        -0.001751        0.012126\n",
      "                C3_abs_fft_10        -0.001908        0.003239\n",
      "                P8_abs_fft_10        -0.002110        0.004292\n",
      "                Oz_theta/beta        -0.002536        0.004222\n",
      "                       P8_SNR        -0.002851        0.003551\n",
      "                     Fz_delta        -0.003098        0.006880\n",
      "                     Fz_theta        -0.003120        0.007229\n",
      "        C3_theta/alpha_+_beta        -0.003412        0.006482\n",
      "               F4_theta/alpha        -0.003547        0.005604\n",
      "               P3_theta/alpha        -0.003726        0.003106\n",
      "                       F4_SNR        -0.003771        0.002635\n",
      "               Oz_norm_fft_20        -0.003838        0.012200\n",
      "                       T8_SNR        -0.004175        0.004735\n",
      "              PO7_norm_fft_20        -0.004624        0.009891\n",
      "                       O1_SNR        -0.004624        0.004345\n",
      "Oz_alpha_+_theta/alpha_+_beta        -0.005208        0.004281\n",
      "       PO8_theta_+_alpha/beta        -0.005926        0.004306\n",
      "        F4_theta_+_alpha/beta        -0.006465        0.007097\n",
      "               PO7_alpha/beta        -0.007071        0.006934\n",
      "                F4_theta/beta        -0.008215        0.008313\n",
      "        F4_theta/alpha_+_beta        -0.009248        0.007286\n",
      "               PO8_alpha/beta        -0.009270        0.006707\n",
      "                Cz_alpha/beta        -0.009607        0.004601\n",
      "               PO7_theta/beta        -0.010617        0.008616\n",
      "       PO7_theta_+_alpha/beta        -0.011852        0.009201\n"
     ]
    },
    {
     "data": {
      "image/png": "[encoded data removed]",
      "text/plain": [
       "<Figure size 1000x800 with 1 Axes>"
      ]
     },
     "metadata": {},
     "output_type": "display_data"
    },
    {
     "name": "stdout",
     "output_type": "stream",
     "text": [
      "\n",
      "Permutation feature importance saved to 'permutation_feature_importance.csv'\n"
     ]
    }
   ],
   "source": [
    "from sklearn.inspection import permutation_importance\n",
    "\n",
    "# FEATURE IMPORTANCE ANALYSIS\n",
    "print(\"\\n\" + \"=\"*50)\n",
    "print(\"FEATURE IMPORTANCE ANALYSIS\")\n",
    "print(\"=\"*50)\n",
    "\n",
    "# Get the final feature names after all processing\n",
    "if best_fs_method != 'None':\n",
    "    # selected_features already contains indices\n",
    "    final_feature_names = binary_data.columns[selected_features].tolist()\n",
    "else:\n",
    "    # If no feature selection was used, get all original feature names\n",
    "    final_feature_names = binary_data.columns.tolist()\n",
    "\n",
    "print(f\"Number of features in final model: {len(final_feature_names)}\")\n",
    "\n",
    "# Get feature importances based on kernel type\n",
    "if best_model.kernel == 'linear':\n",
    "    # For linear kernel, use coefficients directly\n",
    "    coef = best_model.coef_\n",
    "    \n",
    "    if len(coef) == 1:  # Binary classification\n",
    "        print(\"\\nLinear SVC Feature Coefficients:\")\n",
    "        coefficients = coef[0]\n",
    "        \n",
    "        # Create DataFrame for better visualization\n",
    "        feature_importance_df = pd.DataFrame({\n",
    "            'feature': final_feature_names,\n",
    "            'coefficient': coefficients,\n",
    "            'abs_importance': np.abs(coefficients)\n",
    "        })\n",
    "        \n",
    "        # Sort by absolute value for importance ranking\n",
    "        feature_importance_df = feature_importance_df.sort_values('abs_importance', ascending=False)\n",
    "        \n",
    "        print(feature_importance_df.to_string(index=False))\n",
    "        \n",
    "        # Plot top features\n",
    "        top_n = min(15, len(feature_importance_df))\n",
    "        plt.figure(figsize=(10, 8))\n",
    "        colors = ['red' if x < 0 else 'blue' for x in feature_importance_df['coefficient'].head(top_n)]\n",
    "        plt.barh(range(top_n), feature_importance_df['coefficient'].head(top_n), color=colors)\n",
    "        plt.yticks(range(top_n), feature_importance_df['feature'].head(top_n))\n",
    "        plt.xlabel('Coefficient Value')\n",
    "        plt.title('Top Feature Coefficients (Linear SVC)')\n",
    "        plt.gca().invert_yaxis()\n",
    "        plt.tight_layout()\n",
    "        # plt.savefig('feature_importance_linear.png', dpi=300, bbox_inches='tight')\n",
    "        plt.show()\n",
    "        \n",
    "else:\n",
    "    # For non-linear kernels, use permutation importance\n",
    "    print(f\"\\nCalculating permutation importance for {best_model.kernel} kernel...\")\n",
    "    \n",
    "    results = permutation_importance(\n",
    "        best_model, \n",
    "        X_test_final, \n",
    "        y_test, \n",
    "        n_repeats=50, \n",
    "        random_state=42,\n",
    "        scoring='roc_auc'\n",
    "    )\n",
    "    print(len(results.importances_mean))\n",
    "    \n",
    "    # Create DataFrame with results\n",
    "    importance_df = pd.DataFrame({\n",
    "        'feature': final_feature_names,\n",
    "        'importance_mean': results.importances_mean,\n",
    "        'importance_std': results.importances_std\n",
    "    })\n",
    "    \n",
    "    # Sort by importance\n",
    "    importance_df = importance_df.sort_values('importance_mean', ascending=False)\n",
    "    \n",
    "    print(\"Permutation Feature Importances:\")\n",
    "    print(importance_df.to_string(index=False))\n",
    "    \n",
    "    # Plot top features\n",
    "    top_n = min(15, len(importance_df))\n",
    "    plt.figure(figsize=(10, 8))\n",
    "    plt.barh(range(top_n), importance_df['importance_mean'].head(top_n), \n",
    "             xerr=importance_df['importance_std'].head(top_n), capsize=3)\n",
    "    plt.yticks(range(top_n), importance_df['feature'].head(top_n))\n",
    "    plt.xlabel('Permutation Importance (Mean decrease in ROC AUC)')\n",
    "    plt.title(f'Top Feature Importances ({best_model.kernel.upper()} Kernel)')\n",
    "    plt.gca().invert_yaxis()\n",
    "    plt.tight_layout()\n",
    "    # plt.savefig('feature_importance_permutation.png', dpi=300, bbox_inches='tight')\n",
    "    plt.show()\n",
    "\n",
    "# Save feature importance results to CSV\n",
    "if best_model.kernel == 'linear':\n",
    "    feature_importance_df.to_csv('linear_feature_importance.csv', index=False)\n",
    "    print(\"\\nLinear feature importance saved to 'linear_feature_importance.csv'\")\n",
    "else:\n",
    "    importance_df.to_csv('permutation_feature_importance.csv', index=False)\n",
    "    print(\"\\nPermutation feature importance saved to 'permutation_feature_importance.csv'\")"
   ]
  }
 ],
 "metadata": {
  "kernelspec": {
   "display_name": "bessy",
   "language": "python",
   "name": "python3"
  },
  "language_info": {
   "codemirror_mode": {
    "name": "ipython",
    "version": 3
   },
   "file_extension": ".py",
   "mimetype": "text/x-python",
   "name": "python",
   "nbconvert_exporter": "python",
   "pygments_lexer": "ipython3",
   "version": "3.13.2"
  }
 },
 "nbformat": 4,
 "nbformat_minor": 5
}

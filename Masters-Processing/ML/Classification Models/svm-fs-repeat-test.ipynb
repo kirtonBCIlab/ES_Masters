{
 "cells": [
  {
   "cell_type": "code",
   "execution_count": 1,
   "id": "9803a573",
   "metadata": {},
   "outputs": [],
   "source": [
    "import sys\n",
    "import os\n",
    "\n",
    "# Add the path to your ML directory\n",
    "sys.path.append(r'C:\\Users\\admin\\Documents\\Masters\\ES_Masters\\Masters-Processing\\ML')\n",
    "\n",
    "import numpy as np\n",
    "import pandas as pd\n",
    "import matplotlib.pyplot as plt\n",
    "import seaborn as sns\n",
    "from sklearn.model_selection import train_test_split, StratifiedKFold, cross_val_score\n",
    "from sklearn.preprocessing import StandardScaler\n",
    "from sklearn.feature_selection import RFE\n",
    "from sklearn.ensemble import RandomForestClassifier\n",
    "from mrmr_wrapper import MRMRTransformer\n",
    "from sklearn.svm import SVC\n",
    "import optuna\n",
    "import optuna.visualization as vis\n",
    "from sklearn.impute import SimpleImputer\n",
    "from sklearn.pipeline import Pipeline\n",
    "from sklearn.metrics import (accuracy_score, precision_score, recall_score, f1_score, roc_auc_score, confusion_matrix, roc_curve, precision_recall_curve, average_precision_score)\n",
    "from sklearn.decomposition import PCA\n",
    "from sklearn.inspection import DecisionBoundaryDisplay\n",
    "from sklearn.inspection import permutation_importance"
   ]
  },
  {
   "cell_type": "markdown",
   "id": "b7f7ac59",
   "metadata": {},
   "source": [
    "# Import Data"
   ]
  },
  {
   "cell_type": "code",
   "execution_count": 2,
   "id": "e112c786",
   "metadata": {},
   "outputs": [],
   "source": [
    "# Load the data\n",
    "file_path = \"features-Master.csv\"\n",
    "data = pd.read_csv(file_path)\n",
    "\n",
    "# Shuffle the data\n",
    "shuffled = data.sample(frac=1, random_state=42).reset_index(drop=True)\n",
    "data_shuffled = shuffled.iloc[:, 4:]\n",
    "labels_shuffled = shuffled[\"Comfort Score\"]\n",
    "\n",
    "# Create binary labels (1,2 = 0; 4,5 = 1; exclude 3 for clearer separation)\n",
    "binary_labels = labels_shuffled.apply(lambda x: 0 if x <= 2 else (1 if x >=4 else np.nan))\n",
    "binary_data = data_shuffled[~binary_labels.isna()]\n",
    "binary_labels = binary_labels[~binary_labels.isna()] "
   ]
  },
  {
   "cell_type": "markdown",
   "id": "5514b42b",
   "metadata": {},
   "source": [
    "# Train/Test Split"
   ]
  },
  {
   "cell_type": "code",
   "execution_count": 3,
   "id": "7c60467a",
   "metadata": {},
   "outputs": [],
   "source": [
    "# For binary classification\n",
    "X_train, X_test, y_train, y_test = train_test_split(\n",
    "    binary_data,\n",
    "    binary_labels,\n",
    "    test_size=0.2,\n",
    "    stratify=binary_labels,\n",
    "    random_state=42\n",
    ")"
   ]
  },
  {
   "cell_type": "markdown",
   "id": "b5dbfd3c",
   "metadata": {},
   "source": [
    "# Handle Missing Values"
   ]
  },
  {
   "cell_type": "code",
   "execution_count": 4,
   "id": "19fac437",
   "metadata": {},
   "outputs": [],
   "source": [
    "# Impute missing values (median)\n",
    "imputer = SimpleImputer(strategy='median')\n",
    "X_train = pd.DataFrame(imputer.fit_transform(X_train), columns=binary_data.columns, index=X_train.index)\n",
    "X_test = pd.DataFrame(imputer.transform(X_test), columns=binary_data.columns, index=X_test.index)"
   ]
  },
  {
   "cell_type": "markdown",
   "id": "a4b05989",
   "metadata": {},
   "source": [
    "# Scale Data"
   ]
  },
  {
   "cell_type": "code",
   "execution_count": 5,
   "id": "01693f0e",
   "metadata": {},
   "outputs": [],
   "source": [
    "# Scale (keep column names)\n",
    "scaler = StandardScaler()\n",
    "X_train_scaled = pd.DataFrame(scaler.fit_transform(X_train), columns=X_train.columns, index=X_train.index)\n",
    "X_test_scaled = pd.DataFrame(scaler.transform(X_test), columns=X_test.columns, index=X_test.index)"
   ]
  },
  {
   "cell_type": "markdown",
   "id": "1120177f",
   "metadata": {},
   "source": [
    "# Optimize Feature Selection and SVM Parameters"
   ]
  },
  {
   "cell_type": "code",
   "execution_count": 6,
   "id": "cac3b858",
   "metadata": {},
   "outputs": [],
   "source": [
    "# Use these for optimization\n",
    "X = X_train_scaled.copy()\n",
    "y = y_train.copy()\n",
    "\n",
    "def binary_classification_objective(trial):\n",
    "    # Feature selection method\n",
    "    fs_method = trial.suggest_categorical('feature_selection', ['MRMR', 'RFE', 'None'])\n",
    "\n",
    "    # Robust k_features bounds\n",
    "    n_total_features = X.shape[1]\n",
    "    max_k_allowed = min(105, n_total_features)\n",
    "    min_k_allowed = 1 if n_total_features < 5 else 5\n",
    "    if fs_method != 'None' and max_k_allowed >= min_k_allowed:\n",
    "        # step 10 only if range large enough; otherwise just search full int range\n",
    "        if max_k_allowed - min_k_allowed >= 10:\n",
    "            k_features = trial.suggest_int('k_features', min_k_allowed, max_k_allowed, step=10)\n",
    "        else:\n",
    "            k_features = trial.suggest_int('k_features', min_k_allowed, max_k_allowed)\n",
    "        if fs_method == 'RFE':\n",
    "            estimator = RandomForestClassifier(n_estimators=100, random_state=42)\n",
    "            selector = RFE(estimator, n_features_to_select=k_features)\n",
    "        else:\n",
    "            selector = MRMRTransformer(k_features=k_features)\n",
    "    else:\n",
    "        selector = 'passthrough'\n",
    "\n",
    "    # SVM hyperparameters\n",
    "    kernel = trial.suggest_categorical('kernel', ['linear', 'rbf', 'poly'])\n",
    "    params = {\n",
    "        'C': trial.suggest_float('C', 0.1, 100, log=True),\n",
    "        'kernel': kernel,\n",
    "        'gamma': trial.suggest_categorical('gamma', ['scale', 'auto']),\n",
    "        'degree': trial.suggest_int('degree', 2, 5) if kernel == 'poly' else 3,\n",
    "        'probability': True,\n",
    "        'random_state': 42\n",
    "    }\n",
    "    model = SVC(**params)\n",
    "\n",
    "    pipeline = Pipeline([\n",
    "        ('feature_selection', selector),\n",
    "        ('model', model)\n",
    "    ])\n",
    "\n",
    "    cv = StratifiedKFold(n_splits=5, shuffle=True, random_state=42)\n",
    "    try:\n",
    "        scores = cross_val_score(pipeline, X, y, cv=cv, scoring='roc_auc', n_jobs=1)\n",
    "        return np.mean(scores)\n",
    "    except Exception as e:\n",
    "        # Print the error for debugging and return a very poor score\n",
    "        print(f\"Error in trial: {e}\")\n",
    "        return -np.inf"
   ]
  },
  {
   "cell_type": "markdown",
   "id": "5d1fa890",
   "metadata": {},
   "source": [
    "# Run Optimization 10 Times and Collect Top Features and Best Parameters"
   ]
  },
  {
   "cell_type": "code",
   "execution_count": null,
   "id": "881c9071",
   "metadata": {},
   "outputs": [
    {
     "name": "stderr",
     "output_type": "stream",
     "text": [
      "[I 2025-09-10 13:25:20,118] A new study created in memory with name: no-name-3203c15a-1a44-4a4d-a5e5-045cd92e2d6f\n"
     ]
    },
    {
     "name": "stdout",
     "output_type": "stream",
     "text": [
      "\n",
      "==================================================\n",
      "STARTING RUN 1/10\n",
      "==================================================\n"
     ]
    },
    {
     "data": {
      "application/vnd.jupyter.widget-view+json": {
       "model_id": "5cf4f06792b849b39e20cfd1bea6ab4b",
       "version_major": 2,
       "version_minor": 0
      },
      "text/plain": [
       "  0%|          | 0/5 [00:00<?, ?it/s]"
      ]
     },
     "metadata": {},
     "output_type": "display_data"
    },
    {
     "name": "stdout",
     "output_type": "stream",
     "text": [
      "[I 2025-09-10 13:25:20,385] Trial 2 finished with value: 0.6716080216080216 and parameters: {'feature_selection': 'None', 'kernel': 'poly', 'C': 1.8810502988890667, 'gamma': 'scale', 'degree': 2}. Best is trial 2 with value: 0.6716080216080216.\n",
      "[I 2025-09-10 13:25:20,732] Trial 4 finished with value: 0.6362976529643196 and parameters: {'feature_selection': 'None', 'kernel': 'poly', 'C': 24.776046250541565, 'gamma': 'scale', 'degree': 2}. Best is trial 2 with value: 0.6716080216080216.\n"
     ]
    },
    {
     "name": "stderr",
     "output_type": "stream",
     "text": [
      "\n",
      "\u001b[A\n",
      "\u001b[A\n",
      "\u001b[A\n",
      "\u001b[A\n",
      "\u001b[A\n",
      "\u001b[A\n",
      "100%|██████████| 15/15 [00:01<00:00, 13.07it/s]\n",
      "\n",
      "\u001b[A"
     ]
    },
    {
     "name": "stdout",
     "output_type": "stream",
     "text": [
      "Got MRMR features\n"
     ]
    },
    {
     "name": "stderr",
     "output_type": "stream",
     "text": [
      "\n",
      "\u001b[A\n",
      "\u001b[A\n",
      "\u001b[A\n",
      "\u001b[A\n",
      "\u001b[A\n",
      "\u001b[A\n",
      "100%|██████████| 15/15 [00:01<00:00, 12.76it/s]\n",
      "\n",
      "\u001b[A"
     ]
    },
    {
     "name": "stdout",
     "output_type": "stream",
     "text": [
      "Got MRMR features\n"
     ]
    },
    {
     "name": "stderr",
     "output_type": "stream",
     "text": [
      "\n",
      "\u001b[A\n",
      "\u001b[A\n",
      "\u001b[A\n",
      "\u001b[A\n",
      "\u001b[A\n",
      "\u001b[A\n",
      "\u001b[A\n",
      "100%|██████████| 15/15 [00:01<00:00, 12.00it/s]\n",
      "\n",
      "\u001b[A"
     ]
    },
    {
     "name": "stdout",
     "output_type": "stream",
     "text": [
      "Got MRMR features\n"
     ]
    },
    {
     "name": "stderr",
     "output_type": "stream",
     "text": [
      "\n",
      "\u001b[A\n",
      "\u001b[A\n",
      "\u001b[A\n",
      "\u001b[A\n",
      "\u001b[A\n",
      "\u001b[A\n",
      "100%|██████████| 15/15 [00:01<00:00, 12.30it/s]\n",
      "\n",
      "\n",
      "100%|██████████| 65/65 [00:05<00:00, 11.31it/s]"
     ]
    },
    {
     "name": "stdout",
     "output_type": "stream",
     "text": [
      "Got MRMR features\n"
     ]
    },
    {
     "name": "stderr",
     "output_type": "stream",
     "text": [
      "100%|██████████| 65/65 [00:05<00:00, 12.19it/s]\n"
     ]
    },
    {
     "name": "stdout",
     "output_type": "stream",
     "text": [
      "Got MRMR features\n"
     ]
    },
    {
     "name": "stderr",
     "output_type": "stream",
     "text": [
      "\n",
      "\u001b[A\n",
      "\u001b[A\n",
      "\u001b[A\n",
      "\u001b[A\n",
      "\u001b[A\n",
      "\u001b[A\n",
      "100%|██████████| 15/15 [00:01<00:00, 13.12it/s]\n",
      "\n",
      "\n",
      "\u001b[A\u001b[A                                         \n",
      "\u001b[A\n",
      "\u001b[A\n",
      "\u001b[A"
     ]
    },
    {
     "name": "stdout",
     "output_type": "stream",
     "text": [
      "Got MRMR features\n",
      "[I 2025-09-10 13:25:31,567] Trial 0 finished with value: 0.7666037666037666 and parameters: {'feature_selection': 'MRMR', 'k_features': 15, 'kernel': 'rbf', 'C': 1.391851625855914, 'gamma': 'scale'}. Best is trial 0 with value: 0.7666037666037666.\n"
     ]
    },
    {
     "name": "stderr",
     "output_type": "stream",
     "text": [
      "\n",
      "\u001b[A\n",
      "\u001b[A\n",
      "\u001b[A\n",
      "\u001b[A\n",
      "\u001b[A\n",
      "\u001b[A\n",
      "\u001b[A\n",
      "\u001b[A\n",
      "\u001b[A\n",
      "\u001b[A\n",
      "\u001b[A\n",
      "\u001b[A\n",
      "\u001b[A\n",
      "\u001b[A\n",
      "\u001b[A\n",
      "100%|██████████| 65/65 [00:03<00:00, 19.79it/s]\n"
     ]
    },
    {
     "name": "stdout",
     "output_type": "stream",
     "text": [
      "Got MRMR features\n"
     ]
    },
    {
     "name": "stderr",
     "output_type": "stream",
     "text": [
      "100%|██████████| 65/65 [00:02<00:00, 23.09it/s]\n"
     ]
    },
    {
     "name": "stdout",
     "output_type": "stream",
     "text": [
      "Got MRMR features\n"
     ]
    },
    {
     "name": "stderr",
     "output_type": "stream",
     "text": [
      "100%|██████████| 65/65 [00:02<00:00, 22.72it/s]\n"
     ]
    },
    {
     "name": "stdout",
     "output_type": "stream",
     "text": [
      "Got MRMR features\n"
     ]
    },
    {
     "name": "stderr",
     "output_type": "stream",
     "text": [
      "100%|██████████| 65/65 [00:02<00:00, 22.62it/s]\n"
     ]
    },
    {
     "name": "stdout",
     "output_type": "stream",
     "text": [
      "Got MRMR features\n",
      "[I 2025-09-10 13:25:42,694] Trial 3 finished with value: 0.7483109483109482 and parameters: {'feature_selection': 'MRMR', 'k_features': 65, 'kernel': 'rbf', 'C': 0.1549250405300186, 'gamma': 'scale'}. Best is trial 0 with value: 0.7666037666037666.\n",
      "[I 2025-09-10 13:29:19,588] Trial 1 finished with value: 0.7519708686375354 and parameters: {'feature_selection': 'RFE', 'k_features': 75, 'kernel': 'linear', 'C': 0.8036805589587029, 'gamma': 'scale'}. Best is trial 0 with value: 0.7666037666037666.\n",
      "\n",
      "Binary Classification Optimization Results:\n",
      "Best ROC AUC Score: 0.7666\n",
      "Best Parameters:\n",
      "  feature_selection: MRMR\n",
      "  k_features: 15\n",
      "  kernel: rbf\n",
      "  C: 1.391851625855914\n",
      "  gamma: scale\n"
     ]
    },
    {
     "name": "stderr",
     "output_type": "stream",
     "text": [
      "100%|██████████| 15/15 [00:00<00:00, 32.20it/s]\n"
     ]
    },
    {
     "name": "stdout",
     "output_type": "stream",
     "text": [
      "Got MRMR features\n",
      "\n",
      "Final Model Evaluation on Test Set:\n",
      "Accuracy: 0.6500\n",
      "Precision: 0.6667\n",
      "Recall: 0.7273\n",
      "F1 Score: 0.6957\n",
      "ROC AUC: 0.7172\n",
      "\n",
      "==============================\n",
      "FEATURE IMPORTANCE (run 1)\n",
      "==============================\n",
      "Number of features in final model: 15\n"
     ]
    },
    {
     "name": "stderr",
     "output_type": "stream",
     "text": [
      "[I 2025-09-10 13:29:22,197] A new study created in memory with name: no-name-53e4985b-f142-4ffd-a402-830b8e021ea3\n"
     ]
    },
    {
     "name": "stdout",
     "output_type": "stream",
     "text": [
      "\n",
      "==================================================\n",
      "STARTING RUN 2/10\n",
      "==================================================\n"
     ]
    },
    {
     "data": {
      "application/vnd.jupyter.widget-view+json": {
       "model_id": "44101ae7d5b4479dbc4856d31e633ca5",
       "version_major": 2,
       "version_minor": 0
      },
      "text/plain": [
       "  0%|          | 0/5 [00:00<?, ?it/s]"
      ]
     },
     "metadata": {},
     "output_type": "display_data"
    },
    {
     "name": "stdout",
     "output_type": "stream",
     "text": [
      "[I 2025-09-10 13:29:22,495] Trial 3 finished with value: 0.7329232495899163 and parameters: {'feature_selection': 'None', 'kernel': 'linear', 'C': 3.149188748172839, 'gamma': 'scale'}. Best is trial 3 with value: 0.7329232495899163.\n",
      "[I 2025-09-10 13:29:22,653] Trial 4 finished with value: 0.6362976529643196 and parameters: {'feature_selection': 'None', 'kernel': 'poly', 'C': 29.385294757259796, 'gamma': 'auto', 'degree': 2}. Best is trial 3 with value: 0.7329232495899163.\n",
      "[I 2025-09-10 13:37:02,229] Trial 0 finished with value: 0.7701989368656036 and parameters: {'feature_selection': 'RFE', 'k_features': 75, 'kernel': 'linear', 'C': 0.48809670821703277, 'gamma': 'scale'}. Best is trial 0 with value: 0.7701989368656036.\n",
      "[I 2025-09-10 13:37:21,057] Trial 1 finished with value: 0.7860226193559526 and parameters: {'feature_selection': 'RFE', 'k_features': 55, 'kernel': 'rbf', 'C': 5.015562764567839, 'gamma': 'scale'}. Best is trial 1 with value: 0.7860226193559526.\n",
      "[I 2025-09-10 13:37:34,873] Trial 2 finished with value: 0.7099449932783266 and parameters: {'feature_selection': 'RFE', 'k_features': 45, 'kernel': 'poly', 'C': 7.991892406413878, 'gamma': 'auto', 'degree': 5}. Best is trial 1 with value: 0.7860226193559526.\n",
      "\n",
      "Binary Classification Optimization Results:\n",
      "Best ROC AUC Score: 0.7860\n",
      "Best Parameters:\n",
      "  feature_selection: RFE\n",
      "  k_features: 55\n",
      "  kernel: rbf\n",
      "  C: 5.015562764567839\n",
      "  gamma: scale\n",
      "\n",
      "Final Model Evaluation on Test Set:\n",
      "Accuracy: 0.7000\n",
      "Precision: 0.7143\n",
      "Recall: 0.7576\n",
      "F1 Score: 0.7353\n",
      "ROC AUC: 0.7823\n",
      "\n",
      "==============================\n",
      "FEATURE IMPORTANCE (run 2)\n",
      "==============================\n",
      "Number of features in final model: 55\n"
     ]
    },
    {
     "name": "stderr",
     "output_type": "stream",
     "text": [
      "[I 2025-09-10 13:38:39,197] A new study created in memory with name: no-name-cbf1d73a-cac6-44d9-8977-abf5fd5d6cec\n"
     ]
    },
    {
     "name": "stdout",
     "output_type": "stream",
     "text": [
      "\n",
      "==================================================\n",
      "STARTING RUN 3/10\n",
      "==================================================\n"
     ]
    },
    {
     "data": {
      "application/vnd.jupyter.widget-view+json": {
       "model_id": "fc6ca6e9ab6548e486cb87bb5736e3b5",
       "version_major": 2,
       "version_minor": 0
      },
      "text/plain": [
       "  0%|          | 0/5 [00:00<?, ?it/s]"
      ]
     },
     "metadata": {},
     "output_type": "display_data"
    },
    {
     "name": "stdout",
     "output_type": "stream",
     "text": [
      "[I 2025-09-10 13:38:39,465] Trial 3 finished with value: 0.6928133594800261 and parameters: {'feature_selection': 'None', 'kernel': 'poly', 'C': 2.57872609978344, 'gamma': 'scale', 'degree': 3}. Best is trial 3 with value: 0.6928133594800261.\n",
      "[I 2025-09-10 13:38:39,515] Trial 2 finished with value: 0.7329232495899163 and parameters: {'feature_selection': 'None', 'kernel': 'linear', 'C': 1.133462971538642, 'gamma': 'scale'}. Best is trial 2 with value: 0.7329232495899163.\n"
     ]
    },
    {
     "name": "stderr",
     "output_type": "stream",
     "text": [
      "\n",
      "\u001b[A\n",
      "\u001b[A\n",
      "\u001b[A\n",
      "\u001b[A\n",
      "\u001b[A\n",
      "\u001b[A\n",
      "100%|██████████| 25/25 [00:02<00:00, 11.34it/s]\n",
      "\n",
      "\u001b[A"
     ]
    },
    {
     "name": "stdout",
     "output_type": "stream",
     "text": [
      "Got MRMR features\n"
     ]
    },
    {
     "name": "stderr",
     "output_type": "stream",
     "text": [
      "\n",
      "\u001b[A\n",
      "\u001b[A\n",
      "\u001b[A\n",
      "\u001b[A\n",
      "\u001b[A\n",
      "\u001b[A\n",
      "\u001b[A\n",
      "\u001b[A\n",
      "\u001b[A\n",
      "\u001b[A\n",
      "\u001b[A\n",
      "\u001b[A\n",
      "\u001b[A\n",
      "\u001b[A\n",
      "\n",
      "\u001b[A\u001b[A\n",
      "\u001b[A\n",
      "\n",
      "100%|██████████| 25/25 [00:02<00:00, 10.71it/s]\n",
      "\n",
      "\u001b[A\n",
      "\n",
      "\u001b[A\u001b[A"
     ]
    },
    {
     "name": "stdout",
     "output_type": "stream",
     "text": [
      "Got MRMR features\n"
     ]
    },
    {
     "name": "stderr",
     "output_type": "stream",
     "text": [
      "\n",
      "\u001b[A\n",
      "\n",
      "\u001b[A\u001b[A\n",
      "\u001b[A\n",
      "\n",
      "\u001b[A\u001b[A\n",
      "\u001b[A\n",
      "\n",
      "\u001b[A\u001b[A\n",
      "\u001b[A\n",
      "\n",
      "\u001b[A\u001b[A\n",
      "\u001b[A\n",
      "\n",
      "\u001b[A\u001b[A\n",
      "\u001b[A\n",
      "\n",
      "100%|██████████| 55/55 [00:05<00:00,  9.20it/s]\n",
      "\n",
      "\n",
      "\u001b[A\u001b[A"
     ]
    },
    {
     "name": "stdout",
     "output_type": "stream",
     "text": [
      "Got MRMR features\n"
     ]
    },
    {
     "name": "stderr",
     "output_type": "stream",
     "text": [
      "\n",
      "\u001b[A\n",
      "\n",
      "\u001b[A\u001b[A\n",
      "\u001b[A\n",
      "\n",
      "100%|██████████| 25/25 [00:01<00:00, 13.83it/s]\n",
      "\n",
      "\u001b[A"
     ]
    },
    {
     "name": "stdout",
     "output_type": "stream",
     "text": [
      "Got MRMR features\n"
     ]
    },
    {
     "name": "stderr",
     "output_type": "stream",
     "text": [
      "\n",
      "\n",
      "\u001b[A\u001b[A\n",
      "\u001b[A\n",
      "\n",
      "\u001b[A\u001b[A\n",
      "\n",
      "\u001b[A\u001b[A\n",
      "\u001b[A\n",
      "\n",
      "\u001b[A\u001b[A\n",
      "100%|██████████| 25/25 [00:02<00:00, 12.33it/s]\n",
      "\n",
      "\n",
      "\u001b[A\u001b[A\n",
      "\u001b[A"
     ]
    },
    {
     "name": "stdout",
     "output_type": "stream",
     "text": [
      "Got MRMR features\n"
     ]
    },
    {
     "name": "stderr",
     "output_type": "stream",
     "text": [
      "\n",
      "\n",
      "\u001b[A\u001b[A\n",
      "\u001b[A\n",
      "\u001b[A\n",
      "\n",
      "\u001b[A\u001b[A\n",
      "\u001b[A\n",
      "\n",
      "\u001b[A\u001b[A\n",
      "\n",
      "\u001b[A\u001b[A\n",
      "\u001b[A\n",
      "\n",
      "\u001b[A\u001b[A\n",
      "\u001b[A\n",
      "\n",
      "\u001b[A\u001b[A\n",
      "\u001b[A\n",
      "\n",
      "\u001b[A\u001b[A\n",
      "\u001b[A\n",
      "\n",
      "\u001b[A\u001b[A\n",
      "100%|██████████| 25/25 [00:01<00:00, 12.85it/s]\n",
      "\n",
      "\u001b[A"
     ]
    },
    {
     "name": "stdout",
     "output_type": "stream",
     "text": [
      "Got MRMR features\n"
     ]
    },
    {
     "name": "stderr",
     "output_type": "stream",
     "text": [
      "\n",
      "\n",
      "\u001b[A\u001b[A\n",
      "\u001b[A\n",
      "\n",
      "\u001b[A\u001b[A\n",
      "\n",
      "\u001b[A\u001b[A\n",
      "100%|██████████| 25/25 [00:01<00:00, 12.95it/s]\n",
      "\n",
      "\n",
      "\u001b[A\u001b[A\n",
      "\u001b[A"
     ]
    },
    {
     "name": "stdout",
     "output_type": "stream",
     "text": [
      "Got MRMR features\n"
     ]
    },
    {
     "name": "stderr",
     "output_type": "stream",
     "text": [
      "\n",
      "\n",
      "\u001b[A\u001b[A\n",
      "\u001b[A\n",
      "\n",
      "\u001b[A\u001b[A\n",
      "\u001b[A\n",
      "\u001b[A\n",
      "\n",
      "\u001b[A\u001b[A\n",
      "\u001b[A\n",
      "\n",
      "\u001b[A\u001b[A\n",
      "\u001b[A\n",
      "\n",
      "\u001b[A\u001b[A\n",
      "\u001b[A\n",
      "\n",
      "\u001b[A\u001b[A\n",
      "\u001b[A\n",
      "\n",
      "\u001b[A\u001b[A\n",
      "\u001b[A\n",
      "\n",
      "100%|██████████| 55/55 [00:04<00:00, 12.38it/s]\n",
      "\n",
      "\n",
      "100%|██████████| 25/25 [00:01<00:00, 12.59it/s]\n"
     ]
    },
    {
     "name": "stdout",
     "output_type": "stream",
     "text": [
      "Got MRMR features\n",
      "Got MRMR features\n"
     ]
    },
    {
     "name": "stderr",
     "output_type": "stream",
     "text": [
      "\n",
      "\u001b[A\n",
      "\n",
      "\u001b[A\u001b[A\n",
      "\u001b[A\n",
      "\n",
      "\u001b[A\u001b[A\n",
      "100%|██████████| 25/25 [00:01<00:00, 13.51it/s]\n",
      "\n",
      "\n",
      "\u001b[A\u001b[A\n",
      "\u001b[A"
     ]
    },
    {
     "name": "stdout",
     "output_type": "stream",
     "text": [
      "Got MRMR features\n"
     ]
    },
    {
     "name": "stderr",
     "output_type": "stream",
     "text": [
      "\n",
      "\n",
      "\u001b[A\u001b[A\n",
      "\u001b[A\n",
      "\u001b[A\n",
      "\n",
      "\u001b[A\u001b[A\n",
      "\u001b[A\n",
      "\n",
      "\u001b[A\u001b[A\n",
      "\u001b[A\n",
      "\n",
      "\u001b[A\u001b[A\n",
      "\u001b[A\n",
      "\n",
      "\u001b[A\u001b[A\n",
      "\u001b[A\n",
      "\n",
      "\u001b[A\u001b[A\n",
      "\u001b[A\n",
      "\n",
      "\u001b[A\u001b[A\n",
      "\u001b[A\n",
      "\n",
      "\u001b[A\u001b[A\n",
      "\u001b[A\n",
      "\n",
      "\u001b[A\u001b[A\n",
      "\u001b[A\n",
      "\n",
      "100%|██████████| 25/25 [00:01<00:00, 12.66it/s]\n",
      "\n",
      "\u001b[A                                            \n",
      "\n",
      "\u001b[A\u001b[A                                         \n",
      "\u001b[A\n",
      "\u001b[A"
     ]
    },
    {
     "name": "stdout",
     "output_type": "stream",
     "text": [
      "Got MRMR features\n",
      "[I 2025-09-10 13:38:52,753] Trial 0 finished with value: 0.7444925444925445 and parameters: {'feature_selection': 'MRMR', 'k_features': 25, 'kernel': 'rbf', 'C': 2.8588724662899714, 'gamma': 'scale'}. Best is trial 0 with value: 0.7444925444925445.\n"
     ]
    },
    {
     "name": "stderr",
     "output_type": "stream",
     "text": [
      "\n",
      "100%|██████████| 25/25 [00:01<00:00, 13.34it/s]\n",
      "\n",
      "\n",
      "\u001b[A\u001b[A                                         \n",
      "\u001b[A\n",
      "\u001b[A\n",
      "\u001b[A"
     ]
    },
    {
     "name": "stdout",
     "output_type": "stream",
     "text": [
      "Got MRMR features\n",
      "[I 2025-09-10 13:38:53,093] Trial 4 finished with value: 0.7409898743232077 and parameters: {'feature_selection': 'MRMR', 'k_features': 25, 'kernel': 'rbf', 'C': 3.0394273351667227, 'gamma': 'scale'}. Best is trial 0 with value: 0.7444925444925445.\n"
     ]
    },
    {
     "name": "stderr",
     "output_type": "stream",
     "text": [
      "\n",
      "\u001b[A\n",
      "\u001b[A\n",
      "\u001b[A\n",
      "\u001b[A\n",
      "100%|██████████| 55/55 [00:03<00:00, 17.29it/s]\n"
     ]
    },
    {
     "name": "stdout",
     "output_type": "stream",
     "text": [
      "Got MRMR features\n"
     ]
    },
    {
     "name": "stderr",
     "output_type": "stream",
     "text": [
      "100%|██████████| 55/55 [00:01<00:00, 29.83it/s]\n"
     ]
    },
    {
     "name": "stdout",
     "output_type": "stream",
     "text": [
      "Got MRMR features\n"
     ]
    },
    {
     "name": "stderr",
     "output_type": "stream",
     "text": [
      "100%|██████████| 55/55 [00:01<00:00, 30.93it/s]\n"
     ]
    },
    {
     "name": "stdout",
     "output_type": "stream",
     "text": [
      "Got MRMR features\n",
      "[I 2025-09-10 13:38:57,658] Trial 1 finished with value: 0.7665482665482666 and parameters: {'feature_selection': 'MRMR', 'k_features': 55, 'kernel': 'rbf', 'C': 0.2699125555959955, 'gamma': 'auto'}. Best is trial 1 with value: 0.7665482665482666.\n",
      "\n",
      "Binary Classification Optimization Results:\n",
      "Best ROC AUC Score: 0.7665\n",
      "Best Parameters:\n",
      "  feature_selection: MRMR\n",
      "  k_features: 55\n",
      "  kernel: rbf\n",
      "  C: 0.2699125555959955\n",
      "  gamma: auto\n"
     ]
    },
    {
     "name": "stderr",
     "output_type": "stream",
     "text": [
      "100%|██████████| 55/55 [00:01<00:00, 29.90it/s]\n"
     ]
    },
    {
     "name": "stdout",
     "output_type": "stream",
     "text": [
      "Got MRMR features\n",
      "\n",
      "Final Model Evaluation on Test Set:\n",
      "Accuracy: 0.6333\n",
      "Precision: 0.6571\n",
      "Recall: 0.6970\n",
      "F1 Score: 0.6765\n",
      "ROC AUC: 0.7116\n",
      "\n",
      "==============================\n",
      "FEATURE IMPORTANCE (run 3)\n",
      "==============================\n",
      "Number of features in final model: 55\n"
     ]
    },
    {
     "name": "stderr",
     "output_type": "stream",
     "text": [
      "[I 2025-09-10 13:39:08,262] A new study created in memory with name: no-name-f6a32f4c-90e2-483f-9736-a83232db89b1\n"
     ]
    },
    {
     "name": "stdout",
     "output_type": "stream",
     "text": [
      "\n",
      "==================================================\n",
      "STARTING RUN 4/10\n",
      "==================================================\n"
     ]
    },
    {
     "data": {
      "application/vnd.jupyter.widget-view+json": {
       "model_id": "6090c8add41144ba9101adf183e166e0",
       "version_major": 2,
       "version_minor": 0
      },
      "text/plain": [
       "  0%|          | 0/5 [00:00<?, ?it/s]"
      ]
     },
     "metadata": {},
     "output_type": "display_data"
    },
    {
     "name": "stderr",
     "output_type": "stream",
     "text": [
      "\n",
      "\u001b[A                                   \n",
      "\u001b[A                                   \n",
      "\u001b[A                                   \n"
     ]
    },
    {
     "name": "stdout",
     "output_type": "stream",
     "text": [
      "[I 2025-09-10 13:39:08,524] Trial 1 finished with value: 0.6705128205128205 and parameters: {'feature_selection': 'None', 'kernel': 'poly', 'C': 2.961382229487148, 'gamma': 'scale', 'degree': 2}. Best is trial 1 with value: 0.6705128205128205.\n",
      "[I 2025-09-10 13:39:08,565] Trial 3 finished with value: 0.6966810966810966 and parameters: {'feature_selection': 'None', 'kernel': 'poly', 'C': 3.1249354766872304, 'gamma': 'scale', 'degree': 3}. Best is trial 3 with value: 0.6966810966810966.\n",
      "[I 2025-09-10 13:39:08,573] Trial 2 finished with value: 0.7329232495899163 and parameters: {'feature_selection': 'None', 'kernel': 'linear', 'C': 3.852754892368117, 'gamma': 'auto'}. Best is trial 2 with value: 0.7329232495899163.\n"
     ]
    },
    {
     "name": "stderr",
     "output_type": "stream",
     "text": [
      "\u001b[A                                           \n"
     ]
    },
    {
     "name": "stdout",
     "output_type": "stream",
     "text": [
      "[I 2025-09-10 13:39:08,740] Trial 4 finished with value: 0.7852308185641519 and parameters: {'feature_selection': 'None', 'kernel': 'rbf', 'C': 82.07778546193242, 'gamma': 'auto'}. Best is trial 4 with value: 0.7852308185641519.\n"
     ]
    },
    {
     "name": "stderr",
     "output_type": "stream",
     "text": [
      "100%|██████████| 85/85 [00:02<00:00, 29.93it/s]\u001b[A\n"
     ]
    },
    {
     "name": "stdout",
     "output_type": "stream",
     "text": [
      "Got MRMR features\n"
     ]
    },
    {
     "name": "stderr",
     "output_type": "stream",
     "text": [
      "100%|██████████| 85/85 [00:02<00:00, 30.21it/s]\n"
     ]
    },
    {
     "name": "stdout",
     "output_type": "stream",
     "text": [
      "Got MRMR features\n"
     ]
    },
    {
     "name": "stderr",
     "output_type": "stream",
     "text": [
      "100%|██████████| 85/85 [00:02<00:00, 31.09it/s]\n"
     ]
    },
    {
     "name": "stdout",
     "output_type": "stream",
     "text": [
      "Got MRMR features\n"
     ]
    },
    {
     "name": "stderr",
     "output_type": "stream",
     "text": [
      "100%|██████████| 85/85 [00:02<00:00, 31.72it/s]\n"
     ]
    },
    {
     "name": "stdout",
     "output_type": "stream",
     "text": [
      "Got MRMR features\n"
     ]
    },
    {
     "name": "stderr",
     "output_type": "stream",
     "text": [
      "100%|██████████| 85/85 [00:02<00:00, 30.96it/s]\n"
     ]
    },
    {
     "name": "stdout",
     "output_type": "stream",
     "text": [
      "Got MRMR features\n",
      "[I 2025-09-10 13:39:23,119] Trial 0 finished with value: 0.7169164169164169 and parameters: {'feature_selection': 'MRMR', 'k_features': 85, 'kernel': 'linear', 'C': 9.692492732934237, 'gamma': 'auto'}. Best is trial 4 with value: 0.7852308185641519.\n",
      "\n",
      "Binary Classification Optimization Results:\n",
      "Best ROC AUC Score: 0.7852\n",
      "Best Parameters:\n",
      "  feature_selection: None\n",
      "  kernel: rbf\n",
      "  C: 82.07778546193242\n",
      "  gamma: auto\n",
      "\n",
      "Final Model Evaluation on Test Set:\n",
      "Accuracy: 0.7167\n",
      "Precision: 0.7222\n",
      "Recall: 0.7879\n",
      "F1 Score: 0.7536\n",
      "ROC AUC: 0.7868\n",
      "\n",
      "==============================\n",
      "FEATURE IMPORTANCE (run 4)\n",
      "==============================\n",
      "Number of features in final model: 336\n"
     ]
    },
    {
     "name": "stderr",
     "output_type": "stream",
     "text": [
      "[I 2025-09-10 13:40:51,317] A new study created in memory with name: no-name-067e9ec5-3c94-4ac7-ab03-5b5fef5f89b9\n"
     ]
    },
    {
     "name": "stdout",
     "output_type": "stream",
     "text": [
      "\n",
      "==================================================\n",
      "STARTING RUN 5/10\n",
      "==================================================\n"
     ]
    },
    {
     "data": {
      "application/vnd.jupyter.widget-view+json": {
       "model_id": "f8073d63d5f24c68a6faf026a2f4d681",
       "version_major": 2,
       "version_minor": 0
      },
      "text/plain": [
       "  0%|          | 0/5 [00:00<?, ?it/s]"
      ]
     },
     "metadata": {},
     "output_type": "display_data"
    },
    {
     "name": "stderr",
     "output_type": "stream",
     "text": [
      "\n",
      "\u001b[A\n",
      "\n",
      "\u001b[A\u001b[A                                \n",
      "\u001b[A                                   \n",
      "\u001b[A\n",
      "\n",
      "\u001b[A\u001b[A                                \n",
      "\u001b[A                                   \n",
      "\u001b[A\n",
      "\u001b[A"
     ]
    },
    {
     "name": "stdout",
     "output_type": "stream",
     "text": [
      "[I 2025-09-10 13:40:51,581] Trial 2 finished with value: 0.6147519147519148 and parameters: {'feature_selection': 'None', 'kernel': 'poly', 'C': 0.11581776743210287, 'gamma': 'auto', 'degree': 4}. Best is trial 2 with value: 0.6147519147519148.\n",
      "[I 2025-09-10 13:40:51,593] Trial 3 finished with value: 0.6412235912235913 and parameters: {'feature_selection': 'None', 'kernel': 'poly', 'C': 40.00231058180918, 'gamma': 'scale', 'degree': 4}. Best is trial 3 with value: 0.6412235912235913.\n"
     ]
    },
    {
     "name": "stderr",
     "output_type": "stream",
     "text": [
      "\n",
      "\u001b[A\n",
      "\n",
      "\u001b[A\u001b[A\n",
      "\u001b[A\n",
      "\n",
      "\u001b[A\u001b[A\n",
      "\u001b[A\n",
      "\n",
      "\u001b[A\u001b[A\n",
      "\u001b[A\n",
      "\n",
      "\u001b[A\u001b[A\n",
      "\u001b[A\n",
      "\n",
      "\u001b[A\u001b[A\n",
      "\u001b[A\n",
      "\n",
      "\u001b[A\u001b[A\n",
      "\u001b[A\n",
      "\n",
      "\u001b[A\u001b[A\n",
      "\u001b[A\n",
      "\n",
      "\u001b[A\u001b[A\n",
      "\u001b[A\n",
      "\n",
      "\u001b[A\u001b[A\n",
      "\u001b[A\n",
      "\n",
      "\u001b[A\u001b[A\n",
      "\u001b[A\n",
      "\n",
      "\u001b[A\u001b[A\n",
      "\u001b[A\n",
      "\n",
      "\u001b[A\u001b[A\n",
      "\u001b[A\n",
      "\n",
      "\u001b[A\u001b[A\n",
      "\u001b[A\n",
      "\n",
      "\u001b[A\u001b[A\n",
      "\u001b[A\n",
      "\n",
      "\u001b[A\u001b[A\n",
      "\u001b[A\n",
      "\n",
      "100%|██████████| 35/35 [00:02<00:00, 12.97it/s]\n"
     ]
    },
    {
     "name": "stdout",
     "output_type": "stream",
     "text": [
      "Got MRMR features\n"
     ]
    },
    {
     "name": "stderr",
     "output_type": "stream",
     "text": [
      "\n",
      "\n",
      "\u001b[A\u001b[A\n",
      "\u001b[A\n",
      "\n",
      "\u001b[A\u001b[A\n",
      "\u001b[A\n",
      "\u001b[A\n",
      "\n",
      "\u001b[A\u001b[A\n",
      "\u001b[A\n",
      "\n",
      "\u001b[A\u001b[A\n",
      "\u001b[A\n",
      "\n",
      "\u001b[A\u001b[A\n",
      "\n",
      "\u001b[A\u001b[A\n",
      "\u001b[A\n",
      "\u001b[A\n",
      "\n",
      "\u001b[A\u001b[A\n",
      "\u001b[A\n",
      "\n",
      "\u001b[A\u001b[A\n",
      "\u001b[A\n",
      "\n",
      "100%|██████████| 55/55 [00:04<00:00, 13.22it/s]\n",
      "\n",
      "\u001b[A"
     ]
    },
    {
     "name": "stdout",
     "output_type": "stream",
     "text": [
      "Got MRMR features\n"
     ]
    },
    {
     "name": "stderr",
     "output_type": "stream",
     "text": [
      "\n",
      "\n",
      "\u001b[A\u001b[A\n",
      "\u001b[A\n",
      "\n",
      "\u001b[A\u001b[A\n",
      "\u001b[A\n",
      "\n",
      "\u001b[A\u001b[A\n",
      "\u001b[A\n",
      "\n",
      "\u001b[A\u001b[A\n",
      "\u001b[A\n",
      "\n",
      "\u001b[A\u001b[A\n",
      "\u001b[A\n",
      "\n",
      "\u001b[A\u001b[A\n",
      "\u001b[A\n",
      "\u001b[A\n",
      "\n",
      "\u001b[A\u001b[A\n",
      "100%|██████████| 35/35 [00:02<00:00, 13.73it/s]\n",
      "\n",
      "\n",
      "\u001b[A\u001b[A"
     ]
    },
    {
     "name": "stdout",
     "output_type": "stream",
     "text": [
      "Got MRMR features\n"
     ]
    },
    {
     "name": "stderr",
     "output_type": "stream",
     "text": [
      "\n",
      "\u001b[A\n",
      "\n",
      "\u001b[A\u001b[A\n",
      "\u001b[A\n",
      "\n",
      "\u001b[A\u001b[A\n",
      "\n",
      "\u001b[A\u001b[A\n",
      "\u001b[A\n",
      "\u001b[A\n",
      "\n",
      "\u001b[A\u001b[A\n",
      "\u001b[A\n",
      "\n",
      "\u001b[A\u001b[A\n",
      "\u001b[A\n",
      "\n",
      "\u001b[A\u001b[A\n",
      "\n",
      "\u001b[A\u001b[A\n",
      "\u001b[A\n",
      "\n",
      "\u001b[A\u001b[A\n",
      "\u001b[A\n",
      "\n",
      "\u001b[A\u001b[A\n",
      "\u001b[A\n",
      "\n",
      "\u001b[A\u001b[A\n",
      "\u001b[A\n",
      "\n",
      "\u001b[A\u001b[A\n",
      "\u001b[A\n",
      "\n",
      "\u001b[A\u001b[A\n",
      "\u001b[A\n",
      "\n",
      "\u001b[A\u001b[A\n",
      "\u001b[A\n",
      "\n",
      "\u001b[A\u001b[A\n",
      "\u001b[A\n",
      "\n",
      "\u001b[A\u001b[A\n",
      "\u001b[A\n",
      "\n",
      "\u001b[A\u001b[A\n",
      "\u001b[A\n",
      "\n",
      "\u001b[A\u001b[A\n",
      "100%|██████████| 35/35 [00:02<00:00, 13.69it/s]\n",
      "\n",
      "\n",
      "\u001b[A\u001b[A"
     ]
    },
    {
     "name": "stdout",
     "output_type": "stream",
     "text": [
      "Got MRMR features\n"
     ]
    },
    {
     "name": "stderr",
     "output_type": "stream",
     "text": [
      "\n",
      "\u001b[A\n",
      "\n",
      "\u001b[A\u001b[A\n",
      "\u001b[A\n",
      "\n",
      "100%|██████████| 105/105 [00:08<00:00, 12.82it/s]\n",
      "100%|██████████| 55/55 [00:04<00:00, 13.01it/s]\n",
      "\n",
      "\u001b[A"
     ]
    },
    {
     "name": "stdout",
     "output_type": "stream",
     "text": [
      "Got MRMR features\n",
      "Got MRMR features\n"
     ]
    },
    {
     "name": "stderr",
     "output_type": "stream",
     "text": [
      "\n",
      "\u001b[A\n",
      "\n",
      "\u001b[A\u001b[A\n",
      "\u001b[A\n",
      "\n",
      "\u001b[A\u001b[A\n",
      "\u001b[A\n",
      "\n",
      "\u001b[A\u001b[A\n",
      "\u001b[A\n",
      "\n",
      "\u001b[A\u001b[A\n",
      "\u001b[A\n",
      "\n",
      "\u001b[A\u001b[A\n",
      "\u001b[A\n",
      "\n",
      "\u001b[A\u001b[A\n",
      "\u001b[A\n",
      "\n",
      "\u001b[A\u001b[A\n",
      "\u001b[A\n",
      "\n",
      "\u001b[A\u001b[A\n",
      "\u001b[A\n",
      "\n",
      "\u001b[A\u001b[A\n",
      "\u001b[A\n",
      "\n",
      "\u001b[A\u001b[A\n",
      "\u001b[A\n",
      "\n",
      "\u001b[A\u001b[A\n",
      "\u001b[A\n",
      "\n",
      "\u001b[A\u001b[A\n",
      "\u001b[A\n",
      "\n",
      "\u001b[A\u001b[A\n",
      "\u001b[A\n",
      "\n",
      "\u001b[A\u001b[A\n",
      "\u001b[A\n",
      "\n",
      "100%|██████████| 35/35 [00:02<00:00, 12.79it/s]\n",
      "\n",
      "\n",
      "\u001b[A\u001b[A"
     ]
    },
    {
     "name": "stdout",
     "output_type": "stream",
     "text": [
      "Got MRMR features\n"
     ]
    },
    {
     "name": "stderr",
     "output_type": "stream",
     "text": [
      "\n",
      "\u001b[A\n",
      "\n",
      "\u001b[A\u001b[A\n",
      "\u001b[A\n",
      "\n",
      "\u001b[A\u001b[A\n",
      "\u001b[A\n",
      "\n",
      "\u001b[A\u001b[A\n",
      "\u001b[A\n",
      "\n",
      "\u001b[A\u001b[A\n",
      "\u001b[A\n",
      "\n",
      "\u001b[A\u001b[A\n",
      "\u001b[A\n",
      "\n",
      "\u001b[A\u001b[A\n",
      "\u001b[A\n",
      "\n",
      "\u001b[A\u001b[A\n",
      "\u001b[A\n",
      "\n",
      "\u001b[A\u001b[A\n",
      "\u001b[A\n",
      "\n",
      "\u001b[A\u001b[A\n",
      "\u001b[A\n",
      "\n",
      "\u001b[A\u001b[A\n",
      "\u001b[A\n",
      "\n",
      "\u001b[A\u001b[A\n",
      "100%|██████████| 55/55 [00:04<00:00, 12.80it/s]\n",
      "\n",
      "\u001b[A\n",
      "\n",
      "\u001b[A\u001b[A"
     ]
    },
    {
     "name": "stdout",
     "output_type": "stream",
     "text": [
      "Got MRMR features\n"
     ]
    },
    {
     "name": "stderr",
     "output_type": "stream",
     "text": [
      "\n",
      "\u001b[A\n",
      "\n",
      "\u001b[A\u001b[A\n",
      "\u001b[A\n",
      "\n",
      "\u001b[A\u001b[A\n",
      "\n",
      "\u001b[A\u001b[A\n",
      "\u001b[A\n",
      "\n",
      "\u001b[A\u001b[A\n",
      "\u001b[A\n",
      "\n",
      "\u001b[A\u001b[A\n",
      "100%|██████████| 35/35 [00:02<00:00, 12.84it/s]\n",
      "\n",
      "\n",
      "\n",
      "\u001b[A\u001b[A\u001b[A                                       \n",
      "\u001b[A                                            \n",
      "\n",
      "\u001b[A\u001b[A\n",
      "\n",
      "\u001b[A\u001b[A\n",
      "\n",
      "\n"
     ]
    },
    {
     "name": "stdout",
     "output_type": "stream",
     "text": [
      "Got MRMR features\n",
      "[I 2025-09-10 13:41:05,457] Trial 0 finished with value: 0.7186955020288354 and parameters: {'feature_selection': 'MRMR', 'k_features': 35, 'kernel': 'rbf', 'C': 44.29006525560096, 'gamma': 'auto'}. Best is trial 0 with value: 0.7186955020288354.\n"
     ]
    },
    {
     "name": "stderr",
     "output_type": "stream",
     "text": [
      " 66%|██████▌   | 69/105 [00:05<00:02, 14.54it/s]\u001b[A\u001b[A\u001b[A\n",
      "\n",
      "\u001b[A\u001b[A\n",
      "\n",
      "\u001b[A\u001b[A\n",
      "\n",
      "\u001b[A\u001b[A\n",
      "\n",
      "\u001b[A\u001b[A\n",
      "\n",
      "\u001b[A\u001b[A\n",
      "\n",
      "\u001b[A\u001b[A\n",
      "\n",
      "\u001b[A\u001b[A\n",
      "\n",
      "\u001b[A\u001b[A\n",
      "\n",
      "\u001b[A\u001b[A\n",
      "\n",
      "\u001b[A\u001b[A\n",
      "\n",
      "\u001b[A\u001b[A\n",
      "\n",
      "\u001b[A\u001b[A\n",
      "\n",
      "\u001b[A\u001b[A\n",
      "\n",
      "100%|██████████| 105/105 [00:07<00:00, 14.60it/s]\n",
      "100%|██████████| 55/55 [00:02<00:00, 18.58it/s]\n"
     ]
    },
    {
     "name": "stdout",
     "output_type": "stream",
     "text": [
      "Got MRMR features\n",
      "Got MRMR features\n"
     ]
    },
    {
     "name": "stderr",
     "output_type": "stream",
     "text": [
      "\n",
      "\u001b[A\n",
      "\u001b[A\n",
      "\u001b[A\n",
      "\u001b[A\n",
      "\u001b[A\n",
      "\u001b[A\n",
      "\u001b[A\n",
      "\u001b[A\n",
      "\u001b[A\n",
      "\u001b[A\n",
      "\u001b[A\n",
      "\u001b[A\n",
      "\u001b[A\n",
      "\u001b[A\n",
      "\u001b[A\n",
      "\u001b[A\n",
      "\u001b[A\n",
      "\u001b[A\n",
      "\u001b[A\n",
      "\u001b[A\n",
      "\u001b[A\n",
      "\u001b[A\n",
      "\u001b[A\n",
      "100%|██████████| 55/55 [00:02<00:00, 19.22it/s]\n",
      "\n",
      "\n",
      "\u001b[A\u001b[A                                          \n",
      "\u001b[A\n",
      "\u001b[A"
     ]
    },
    {
     "name": "stdout",
     "output_type": "stream",
     "text": [
      "Got MRMR features\n",
      "[I 2025-09-10 13:41:10,601] Trial 1 finished with value: 0.6568055401388735 and parameters: {'feature_selection': 'MRMR', 'k_features': 55, 'kernel': 'poly', 'C': 4.563010087589046, 'gamma': 'auto', 'degree': 2}. Best is trial 0 with value: 0.7186955020288354.\n"
     ]
    },
    {
     "name": "stderr",
     "output_type": "stream",
     "text": [
      "\n",
      "\u001b[A\n",
      "\u001b[A\n",
      "\u001b[A\n",
      "\u001b[A\n",
      "\u001b[A\n",
      "\u001b[A\n",
      "\u001b[A\n",
      "\u001b[A\n",
      "\u001b[A\n",
      "\u001b[A\n",
      "\u001b[A\n",
      "100%|██████████| 105/105 [00:04<00:00, 23.97it/s]\n"
     ]
    },
    {
     "name": "stdout",
     "output_type": "stream",
     "text": [
      "Got MRMR features\n"
     ]
    },
    {
     "name": "stderr",
     "output_type": "stream",
     "text": [
      "100%|██████████| 105/105 [00:03<00:00, 31.22it/s]\n"
     ]
    },
    {
     "name": "stdout",
     "output_type": "stream",
     "text": [
      "Got MRMR features\n"
     ]
    },
    {
     "name": "stderr",
     "output_type": "stream",
     "text": [
      "100%|██████████| 105/105 [00:03<00:00, 30.21it/s]\n"
     ]
    },
    {
     "name": "stdout",
     "output_type": "stream",
     "text": [
      "Got MRMR features\n",
      "[I 2025-09-10 13:41:19,306] Trial 4 finished with value: 0.6964331964331965 and parameters: {'feature_selection': 'MRMR', 'k_features': 105, 'kernel': 'linear', 'C': 49.09357184883411, 'gamma': 'scale'}. Best is trial 0 with value: 0.7186955020288354.\n",
      "\n",
      "Binary Classification Optimization Results:\n",
      "Best ROC AUC Score: 0.7187\n",
      "Best Parameters:\n",
      "  feature_selection: MRMR\n",
      "  k_features: 35\n",
      "  kernel: rbf\n",
      "  C: 44.29006525560096\n",
      "  gamma: auto\n"
     ]
    },
    {
     "name": "stderr",
     "output_type": "stream",
     "text": [
      "100%|██████████| 35/35 [00:01<00:00, 29.86it/s]\n"
     ]
    },
    {
     "name": "stdout",
     "output_type": "stream",
     "text": [
      "Got MRMR features\n",
      "\n",
      "Final Model Evaluation on Test Set:\n",
      "Accuracy: 0.6333\n",
      "Precision: 0.6897\n",
      "Recall: 0.6061\n",
      "F1 Score: 0.6452\n",
      "ROC AUC: 0.7587\n",
      "\n",
      "==============================\n",
      "FEATURE IMPORTANCE (run 5)\n",
      "==============================\n",
      "Number of features in final model: 35\n"
     ]
    },
    {
     "name": "stderr",
     "output_type": "stream",
     "text": [
      "[I 2025-09-10 13:41:25,593] A new study created in memory with name: no-name-c3edc39b-f3b4-42df-9dcc-15997de63b1b\n"
     ]
    },
    {
     "name": "stdout",
     "output_type": "stream",
     "text": [
      "\n",
      "==================================================\n",
      "STARTING RUN 6/10\n",
      "==================================================\n"
     ]
    },
    {
     "data": {
      "application/vnd.jupyter.widget-view+json": {
       "model_id": "528198edba7a48a1a7facda8c606a4be",
       "version_major": 2,
       "version_minor": 0
      },
      "text/plain": [
       "  0%|          | 0/5 [00:00<?, ?it/s]"
      ]
     },
     "metadata": {},
     "output_type": "display_data"
    },
    {
     "name": "stderr",
     "output_type": "stream",
     "text": [
      "\n",
      "\u001b[A                                  "
     ]
    },
    {
     "name": "stdout",
     "output_type": "stream",
     "text": [
      "[I 2025-09-10 13:41:25,814] Trial 0 finished with value: 0.6341461008127675 and parameters: {'feature_selection': 'None', 'kernel': 'poly', 'C': 0.11507077968722317, 'gamma': 'auto', 'degree': 2}. Best is trial 0 with value: 0.6341461008127675.\n"
     ]
    },
    {
     "name": "stderr",
     "output_type": "stream",
     "text": [
      "\n",
      "100%|██████████| 5/5 [00:00<00:00, 11.78it/s]\n"
     ]
    },
    {
     "name": "stdout",
     "output_type": "stream",
     "text": [
      "[I 2025-09-10 13:41:26,045] Trial 4 finished with value: 0.7785412118745452 and parameters: {'feature_selection': 'None', 'kernel': 'rbf', 'C': 1.0168415884490283, 'gamma': 'scale'}. Best is trial 4 with value: 0.7785412118745452.\n",
      "Got MRMR features\n"
     ]
    },
    {
     "name": "stderr",
     "output_type": "stream",
     "text": [
      "100%|██████████| 5/5 [00:00<00:00, 16.56it/s]\n"
     ]
    },
    {
     "name": "stdout",
     "output_type": "stream",
     "text": [
      "Got MRMR features\n"
     ]
    },
    {
     "name": "stderr",
     "output_type": "stream",
     "text": [
      "100%|██████████| 5/5 [00:00<00:00, 16.62it/s]\n"
     ]
    },
    {
     "name": "stdout",
     "output_type": "stream",
     "text": [
      "Got MRMR features\n"
     ]
    },
    {
     "name": "stderr",
     "output_type": "stream",
     "text": [
      "100%|██████████| 5/5 [00:00<00:00, 16.48it/s]\n"
     ]
    },
    {
     "name": "stdout",
     "output_type": "stream",
     "text": [
      "Got MRMR features\n"
     ]
    },
    {
     "name": "stderr",
     "output_type": "stream",
     "text": [
      "100%|██████████| 5/5 [00:00<00:00, 16.36it/s]\n"
     ]
    },
    {
     "name": "stdout",
     "output_type": "stream",
     "text": [
      "Got MRMR features\n",
      "[I 2025-09-10 13:41:27,919] Trial 1 finished with value: 0.6677587844254511 and parameters: {'feature_selection': 'MRMR', 'k_features': 5, 'kernel': 'poly', 'C': 74.9021059933421, 'gamma': 'scale', 'degree': 5}. Best is trial 4 with value: 0.7785412118745452.\n",
      "[I 2025-09-10 13:46:06,956] Trial 3 finished with value: 0.7213847880514547 and parameters: {'feature_selection': 'RFE', 'k_features': 105, 'kernel': 'poly', 'C': 11.523609834946349, 'gamma': 'scale', 'degree': 3}. Best is trial 4 with value: 0.7785412118745452.\n",
      "[I 2025-09-10 13:46:14,406] Trial 2 finished with value: 0.7255281755281755 and parameters: {'feature_selection': 'RFE', 'k_features': 95, 'kernel': 'linear', 'C': 3.735196862645632, 'gamma': 'scale'}. Best is trial 4 with value: 0.7785412118745452.\n",
      "\n",
      "Binary Classification Optimization Results:\n",
      "Best ROC AUC Score: 0.7785\n",
      "Best Parameters:\n",
      "  feature_selection: None\n",
      "  kernel: rbf\n",
      "  C: 1.0168415884490283\n",
      "  gamma: scale\n",
      "\n",
      "Final Model Evaluation on Test Set:\n",
      "Accuracy: 0.6500\n",
      "Precision: 0.6500\n",
      "Recall: 0.7879\n",
      "F1 Score: 0.7123\n",
      "ROC AUC: 0.7183\n",
      "\n",
      "==============================\n",
      "FEATURE IMPORTANCE (run 6)\n",
      "==============================\n",
      "Number of features in final model: 336\n"
     ]
    },
    {
     "name": "stderr",
     "output_type": "stream",
     "text": [
      "[I 2025-09-10 13:47:39,930] A new study created in memory with name: no-name-13eff9fa-6e89-4fa0-9b07-73a1709d364b\n"
     ]
    },
    {
     "name": "stdout",
     "output_type": "stream",
     "text": [
      "\n",
      "==================================================\n",
      "STARTING RUN 7/10\n",
      "==================================================\n"
     ]
    },
    {
     "data": {
      "application/vnd.jupyter.widget-view+json": {
       "model_id": "651c9fc6eb814c39b877e24e09071d25",
       "version_major": 2,
       "version_minor": 0
      },
      "text/plain": [
       "  0%|          | 0/5 [00:00<?, ?it/s]"
      ]
     },
     "metadata": {},
     "output_type": "display_data"
    },
    {
     "name": "stdout",
     "output_type": "stream",
     "text": [
      "[I 2025-09-10 13:47:40,251] Trial 1 finished with value: 0.7855804689138022 and parameters: {'feature_selection': 'None', 'kernel': 'rbf', 'C': 45.74781833591746, 'gamma': 'scale'}. Best is trial 1 with value: 0.7855804689138022.\n",
      "[I 2025-09-10 13:47:40,276] Trial 2 finished with value: 0.7852308185641519 and parameters: {'feature_selection': 'None', 'kernel': 'rbf', 'C': 65.72018507622396, 'gamma': 'auto'}. Best is trial 1 with value: 0.7855804689138022.\n"
     ]
    },
    {
     "name": "stderr",
     "output_type": "stream",
     "text": [
      "100%|██████████| 65/65 [00:05<00:00, 11.29it/s]\n"
     ]
    },
    {
     "name": "stdout",
     "output_type": "stream",
     "text": [
      "Got MRMR features\n"
     ]
    },
    {
     "name": "stderr",
     "output_type": "stream",
     "text": [
      "100%|██████████| 65/65 [00:04<00:00, 14.00it/s]\n"
     ]
    },
    {
     "name": "stdout",
     "output_type": "stream",
     "text": [
      "Got MRMR features\n"
     ]
    },
    {
     "name": "stderr",
     "output_type": "stream",
     "text": [
      "100%|██████████| 65/65 [00:04<00:00, 13.94it/s]\n"
     ]
    },
    {
     "name": "stdout",
     "output_type": "stream",
     "text": [
      "Got MRMR features\n"
     ]
    },
    {
     "name": "stderr",
     "output_type": "stream",
     "text": [
      "100%|██████████| 65/65 [00:04<00:00, 13.84it/s]\n"
     ]
    },
    {
     "name": "stdout",
     "output_type": "stream",
     "text": [
      "Got MRMR features\n"
     ]
    },
    {
     "name": "stderr",
     "output_type": "stream",
     "text": [
      "100%|██████████| 65/65 [00:04<00:00, 14.10it/s]\n"
     ]
    },
    {
     "name": "stdout",
     "output_type": "stream",
     "text": [
      "Got MRMR features\n",
      "[I 2025-09-10 13:48:07,582] Trial 3 finished with value: 0.6625664458997793 and parameters: {'feature_selection': 'MRMR', 'k_features': 65, 'kernel': 'poly', 'C': 1.2557638509000646, 'gamma': 'scale', 'degree': 4}. Best is trial 1 with value: 0.7855804689138022.\n",
      "[I 2025-09-10 13:53:43,279] Trial 0 finished with value: 0.7496003996003996 and parameters: {'feature_selection': 'RFE', 'k_features': 45, 'kernel': 'linear', 'C': 14.758432380379935, 'gamma': 'auto'}. Best is trial 1 with value: 0.7855804689138022.\n",
      "[I 2025-09-10 13:54:02,040] Trial 4 finished with value: 0.6408770242103575 and parameters: {'feature_selection': 'RFE', 'k_features': 15, 'kernel': 'poly', 'C': 20.625241768992275, 'gamma': 'auto', 'degree': 2}. Best is trial 1 with value: 0.7855804689138022.\n",
      "\n",
      "Binary Classification Optimization Results:\n",
      "Best ROC AUC Score: 0.7856\n",
      "Best Parameters:\n",
      "  feature_selection: None\n",
      "  kernel: rbf\n",
      "  C: 45.74781833591746\n",
      "  gamma: scale\n",
      "\n",
      "Final Model Evaluation on Test Set:\n",
      "Accuracy: 0.7167\n",
      "Precision: 0.7222\n",
      "Recall: 0.7879\n",
      "F1 Score: 0.7536\n",
      "ROC AUC: 0.7868\n",
      "\n",
      "==============================\n",
      "FEATURE IMPORTANCE (run 7)\n",
      "==============================\n",
      "Number of features in final model: 336\n"
     ]
    },
    {
     "name": "stderr",
     "output_type": "stream",
     "text": [
      "[I 2025-09-10 13:55:30,287] A new study created in memory with name: no-name-56776cb5-6cf8-4c06-85b8-46504eebdf28\n"
     ]
    },
    {
     "name": "stdout",
     "output_type": "stream",
     "text": [
      "\n",
      "==================================================\n",
      "STARTING RUN 8/10\n",
      "==================================================\n"
     ]
    },
    {
     "data": {
      "application/vnd.jupyter.widget-view+json": {
       "model_id": "ee94667ecbc84a76a28543111c15602b",
       "version_major": 2,
       "version_minor": 0
      },
      "text/plain": [
       "  0%|          | 0/5 [00:00<?, ?it/s]"
      ]
     },
     "metadata": {},
     "output_type": "display_data"
    },
    {
     "name": "stderr",
     "output_type": "stream",
     "text": [
      "100%|██████████| 75/75 [00:09<00:00,  7.51it/s]\n"
     ]
    },
    {
     "name": "stdout",
     "output_type": "stream",
     "text": [
      "Got MRMR features\n"
     ]
    },
    {
     "name": "stderr",
     "output_type": "stream",
     "text": [
      "100%|██████████| 75/75 [00:08<00:00,  8.36it/s]\n"
     ]
    },
    {
     "name": "stdout",
     "output_type": "stream",
     "text": [
      "Got MRMR features\n"
     ]
    },
    {
     "name": "stderr",
     "output_type": "stream",
     "text": [
      "100%|██████████| 75/75 [00:10<00:00,  7.01it/s]\n"
     ]
    },
    {
     "name": "stdout",
     "output_type": "stream",
     "text": [
      "Got MRMR features\n"
     ]
    },
    {
     "name": "stderr",
     "output_type": "stream",
     "text": [
      "100%|██████████| 75/75 [00:09<00:00,  7.90it/s]\n"
     ]
    },
    {
     "name": "stdout",
     "output_type": "stream",
     "text": [
      "Got MRMR features\n"
     ]
    },
    {
     "name": "stderr",
     "output_type": "stream",
     "text": [
      "100%|██████████| 75/75 [00:09<00:00,  7.67it/s]\n"
     ]
    },
    {
     "name": "stdout",
     "output_type": "stream",
     "text": [
      "Got MRMR features\n",
      "[I 2025-09-10 13:56:22,973] Trial 1 finished with value: 0.7494153994153994 and parameters: {'feature_selection': 'MRMR', 'k_features': 75, 'kernel': 'poly', 'C': 0.10704132765705353, 'gamma': 'auto', 'degree': 3}. Best is trial 1 with value: 0.7494153994153994.\n"
     ]
    },
    {
     "name": "stderr",
     "output_type": "stream",
     "text": [
      "100%|██████████| 25/25 [00:03<00:00,  7.05it/s]\n"
     ]
    },
    {
     "name": "stdout",
     "output_type": "stream",
     "text": [
      "Got MRMR features\n"
     ]
    },
    {
     "name": "stderr",
     "output_type": "stream",
     "text": [
      "100%|██████████| 25/25 [00:03<00:00,  7.08it/s]\n"
     ]
    },
    {
     "name": "stdout",
     "output_type": "stream",
     "text": [
      "Got MRMR features\n"
     ]
    },
    {
     "name": "stderr",
     "output_type": "stream",
     "text": [
      "100%|██████████| 25/25 [00:03<00:00,  7.81it/s]\n"
     ]
    },
    {
     "name": "stdout",
     "output_type": "stream",
     "text": [
      "Got MRMR features\n"
     ]
    },
    {
     "name": "stderr",
     "output_type": "stream",
     "text": [
      "100%|██████████| 25/25 [00:03<00:00,  7.97it/s]\n"
     ]
    },
    {
     "name": "stdout",
     "output_type": "stream",
     "text": [
      "Got MRMR features\n"
     ]
    },
    {
     "name": "stderr",
     "output_type": "stream",
     "text": [
      "100%|██████████| 25/25 [00:03<00:00,  7.49it/s]\n"
     ]
    },
    {
     "name": "stdout",
     "output_type": "stream",
     "text": [
      "Got MRMR features\n",
      "[I 2025-09-10 13:56:40,812] Trial 4 finished with value: 0.7478996312329647 and parameters: {'feature_selection': 'MRMR', 'k_features': 25, 'kernel': 'rbf', 'C': 0.14062706363532934, 'gamma': 'auto'}. Best is trial 1 with value: 0.7494153994153994.\n",
      "[I 2025-09-10 14:04:32,840] Trial 3 finished with value: 0.7774675941342608 and parameters: {'feature_selection': 'RFE', 'k_features': 35, 'kernel': 'rbf', 'C': 0.16419427593925218, 'gamma': 'auto'}. Best is trial 3 with value: 0.7774675941342608.\n",
      "[I 2025-09-10 14:04:33,097] Trial 0 finished with value: 0.778169978169978 and parameters: {'feature_selection': 'RFE', 'k_features': 35, 'kernel': 'rbf', 'C': 0.17333030022252802, 'gamma': 'scale'}. Best is trial 0 with value: 0.778169978169978.\n",
      "[I 2025-09-10 14:04:34,058] Trial 2 finished with value: 0.7744163244163245 and parameters: {'feature_selection': 'RFE', 'k_features': 35, 'kernel': 'linear', 'C': 4.597080998418853, 'gamma': 'scale'}. Best is trial 0 with value: 0.778169978169978.\n",
      "\n",
      "Binary Classification Optimization Results:\n",
      "Best ROC AUC Score: 0.7782\n",
      "Best Parameters:\n",
      "  feature_selection: RFE\n",
      "  k_features: 35\n",
      "  kernel: rbf\n",
      "  C: 0.17333030022252802\n",
      "  gamma: scale\n",
      "\n",
      "Final Model Evaluation on Test Set:\n",
      "Accuracy: 0.6667\n",
      "Precision: 0.6667\n",
      "Recall: 0.7879\n",
      "F1 Score: 0.7222\n",
      "ROC AUC: 0.7250\n",
      "\n",
      "==============================\n",
      "FEATURE IMPORTANCE (run 8)\n",
      "==============================\n",
      "Number of features in final model: 35\n"
     ]
    },
    {
     "name": "stderr",
     "output_type": "stream",
     "text": [
      "[I 2025-09-10 14:05:39,940] A new study created in memory with name: no-name-af8d2125-d2a8-49da-8df8-6599029e5c5d\n"
     ]
    },
    {
     "name": "stdout",
     "output_type": "stream",
     "text": [
      "\n",
      "==================================================\n",
      "STARTING RUN 9/10\n",
      "==================================================\n"
     ]
    },
    {
     "data": {
      "application/vnd.jupyter.widget-view+json": {
       "model_id": "4a75af3b5afe4f2eb06ceda8f40ef2d6",
       "version_major": 2,
       "version_minor": 0
      },
      "text/plain": [
       "  0%|          | 0/5 [00:00<?, ?it/s]"
      ]
     },
     "metadata": {},
     "output_type": "display_data"
    },
    {
     "name": "stdout",
     "output_type": "stream",
     "text": [
      "[I 2025-09-10 14:05:40,259] Trial 0 finished with value: 0.652260085593419 and parameters: {'feature_selection': 'None', 'kernel': 'poly', 'C': 5.7297298847783225, 'gamma': 'scale', 'degree': 4}. Best is trial 0 with value: 0.652260085593419.\n",
      "[I 2025-09-10 14:05:40,623] Trial 4 finished with value: 0.6868785535452202 and parameters: {'feature_selection': 'None', 'kernel': 'poly', 'C': 11.815455243493897, 'gamma': 'auto', 'degree': 3}. Best is trial 4 with value: 0.6868785535452202.\n"
     ]
    },
    {
     "name": "stderr",
     "output_type": "stream",
     "text": [
      "100%|██████████| 75/75 [00:06<00:00, 11.38it/s]\n"
     ]
    },
    {
     "name": "stdout",
     "output_type": "stream",
     "text": [
      "Got MRMR features\n"
     ]
    },
    {
     "name": "stderr",
     "output_type": "stream",
     "text": [
      "100%|██████████| 75/75 [00:05<00:00, 13.50it/s]\n"
     ]
    },
    {
     "name": "stdout",
     "output_type": "stream",
     "text": [
      "Got MRMR features\n"
     ]
    },
    {
     "name": "stderr",
     "output_type": "stream",
     "text": [
      "100%|██████████| 75/75 [00:05<00:00, 13.23it/s]\n"
     ]
    },
    {
     "name": "stdout",
     "output_type": "stream",
     "text": [
      "Got MRMR features\n"
     ]
    },
    {
     "name": "stderr",
     "output_type": "stream",
     "text": [
      "100%|██████████| 75/75 [00:05<00:00, 13.49it/s]\n"
     ]
    },
    {
     "name": "stdout",
     "output_type": "stream",
     "text": [
      "Got MRMR features\n"
     ]
    },
    {
     "name": "stderr",
     "output_type": "stream",
     "text": [
      "100%|██████████| 75/75 [00:05<00:00, 13.24it/s]\n"
     ]
    },
    {
     "name": "stdout",
     "output_type": "stream",
     "text": [
      "Got MRMR features\n",
      "[I 2025-09-10 14:06:13,171] Trial 1 finished with value: 0.7627699461032794 and parameters: {'feature_selection': 'MRMR', 'k_features': 75, 'kernel': 'rbf', 'C': 36.02768825729103, 'gamma': 'scale'}. Best is trial 1 with value: 0.7627699461032794.\n",
      "[I 2025-09-10 14:11:27,969] Trial 3 finished with value: 0.7218176884843552 and parameters: {'feature_selection': 'RFE', 'k_features': 65, 'kernel': 'linear', 'C': 60.16995658578677, 'gamma': 'auto'}. Best is trial 1 with value: 0.7627699461032794.\n",
      "[I 2025-09-10 14:11:32,007] Trial 2 finished with value: 0.7937272603939272 and parameters: {'feature_selection': 'RFE', 'k_features': 55, 'kernel': 'rbf', 'C': 3.6425647752324055, 'gamma': 'auto'}. Best is trial 2 with value: 0.7937272603939272.\n",
      "\n",
      "Binary Classification Optimization Results:\n",
      "Best ROC AUC Score: 0.7937\n",
      "Best Parameters:\n",
      "  feature_selection: RFE\n",
      "  k_features: 55\n",
      "  kernel: rbf\n",
      "  C: 3.6425647752324055\n",
      "  gamma: auto\n",
      "\n",
      "Final Model Evaluation on Test Set:\n",
      "Accuracy: 0.6833\n",
      "Precision: 0.6944\n",
      "Recall: 0.7576\n",
      "F1 Score: 0.7246\n",
      "ROC AUC: 0.7767\n",
      "\n",
      "==============================\n",
      "FEATURE IMPORTANCE (run 9)\n",
      "==============================\n",
      "Number of features in final model: 55\n"
     ]
    },
    {
     "name": "stderr",
     "output_type": "stream",
     "text": [
      "[I 2025-09-10 14:12:37,194] A new study created in memory with name: no-name-4ac95f46-e5fc-49cb-8ef1-986d12f7d300\n"
     ]
    },
    {
     "name": "stdout",
     "output_type": "stream",
     "text": [
      "\n",
      "==================================================\n",
      "STARTING RUN 10/10\n",
      "==================================================\n"
     ]
    },
    {
     "data": {
      "application/vnd.jupyter.widget-view+json": {
       "model_id": "96dfac037b7b4ea0a0079d591186e1ed",
       "version_major": 2,
       "version_minor": 0
      },
      "text/plain": [
       "  0%|          | 0/5 [00:00<?, ?it/s]"
      ]
     },
     "metadata": {},
     "output_type": "display_data"
    },
    {
     "name": "stdout",
     "output_type": "stream",
     "text": [
      "[I 2025-09-10 14:12:37,420] Trial 0 finished with value: 0.6228123728123729 and parameters: {'feature_selection': 'None', 'kernel': 'poly', 'C': 0.4480321001313627, 'gamma': 'auto', 'degree': 4}. Best is trial 0 with value: 0.6228123728123729.\n",
      "[I 2025-09-10 14:12:37,502] Trial 3 finished with value: 0.7329232495899163 and parameters: {'feature_selection': 'None', 'kernel': 'linear', 'C': 23.37789259053337, 'gamma': 'auto'}. Best is trial 3 with value: 0.7329232495899163.\n",
      "[I 2025-09-10 14:12:37,714] Trial 4 finished with value: 0.7382204215537549 and parameters: {'feature_selection': 'None', 'kernel': 'rbf', 'C': 0.309602614710893, 'gamma': 'scale'}. Best is trial 4 with value: 0.7382204215537549.\n"
     ]
    },
    {
     "name": "stderr",
     "output_type": "stream",
     "text": [
      "\n",
      "\u001b[A\n",
      "\u001b[A\n",
      "\u001b[A\n",
      "\u001b[A\n",
      "\u001b[A\n",
      "\u001b[A\n",
      "\u001b[A\n",
      "\u001b[A\n",
      "\u001b[A\n",
      "\u001b[A\n",
      "\u001b[A\n",
      "\u001b[A\n",
      "\u001b[A\n",
      "\u001b[A\n",
      "\u001b[A\n",
      "\u001b[A\n",
      "\u001b[A\n",
      "\u001b[A\n",
      "\u001b[A\n",
      "\u001b[A\n",
      "\u001b[A\n",
      "\u001b[A\n",
      "\u001b[A\n",
      "\u001b[A\n",
      "\u001b[A\n",
      "\u001b[A\n",
      "100%|██████████| 55/55 [00:03<00:00, 17.28it/s]\n"
     ]
    },
    {
     "name": "stdout",
     "output_type": "stream",
     "text": [
      "Got MRMR features\n"
     ]
    },
    {
     "name": "stderr",
     "output_type": "stream",
     "text": [
      "100%|██████████| 75/75 [00:04<00:00, 16.96it/s]\n"
     ]
    },
    {
     "name": "stdout",
     "output_type": "stream",
     "text": [
      "Got MRMR features\n"
     ]
    },
    {
     "name": "stderr",
     "output_type": "stream",
     "text": [
      "\n",
      "\u001b[A\n",
      "\u001b[A\n",
      "\u001b[A\n",
      "\u001b[A\n",
      "\u001b[A\n",
      "\u001b[A\n",
      "100%|██████████| 55/55 [00:03<00:00, 16.79it/s]\n",
      "\n",
      "\u001b[A\n",
      "\u001b[A"
     ]
    },
    {
     "name": "stdout",
     "output_type": "stream",
     "text": [
      "Got MRMR features\n"
     ]
    },
    {
     "name": "stderr",
     "output_type": "stream",
     "text": [
      "\n",
      "\u001b[A\n",
      "\u001b[A\n",
      "\u001b[A\n",
      "\u001b[A\n",
      "\u001b[A\n",
      "\u001b[A\n",
      "\u001b[A\n",
      "\u001b[A\n",
      "\u001b[A\n",
      "\u001b[A\n",
      "\u001b[A\n",
      "\u001b[A\n",
      "\u001b[A\n",
      "\u001b[A\n",
      "\u001b[A\n",
      "\u001b[A\n",
      "100%|██████████| 75/75 [00:02<00:00, 25.16it/s]\n"
     ]
    },
    {
     "name": "stdout",
     "output_type": "stream",
     "text": [
      "Got MRMR features\n"
     ]
    },
    {
     "name": "stderr",
     "output_type": "stream",
     "text": [
      "\n",
      "\u001b[A\n",
      "\u001b[A\n",
      "\u001b[A\n",
      "\u001b[A\n",
      "\u001b[A\n",
      "\u001b[A\n",
      "\u001b[A\n",
      "\u001b[A\n",
      "\u001b[A\n",
      "\u001b[A\n",
      "\u001b[A\n",
      "\u001b[A\n",
      "\u001b[A\n",
      "\u001b[A\n",
      "\u001b[A\n",
      "\u001b[A\n",
      "\u001b[A\n",
      "100%|██████████| 75/75 [00:03<00:00, 21.37it/s]\n",
      "\n",
      "\u001b[A"
     ]
    },
    {
     "name": "stdout",
     "output_type": "stream",
     "text": [
      "Got MRMR features\n"
     ]
    },
    {
     "name": "stderr",
     "output_type": "stream",
     "text": [
      "\n",
      "\u001b[A\n",
      "\u001b[A\n",
      "\u001b[A\n",
      "100%|██████████| 55/55 [00:02<00:00, 18.50it/s]\n"
     ]
    },
    {
     "name": "stdout",
     "output_type": "stream",
     "text": [
      "Got MRMR features\n"
     ]
    },
    {
     "name": "stderr",
     "output_type": "stream",
     "text": [
      "\n",
      "\u001b[A\n",
      "\u001b[A\n",
      "\u001b[A\n",
      "\u001b[A\n",
      "\u001b[A\n",
      "\u001b[A\n",
      "\u001b[A\n",
      "\u001b[A\n",
      "\u001b[A\n",
      "\u001b[A\n",
      "\u001b[A\n",
      "\u001b[A\n",
      "\u001b[A\n",
      "\u001b[A\n",
      "\u001b[A\n",
      "\u001b[A\n",
      "\u001b[A\n",
      "100%|██████████| 75/75 [00:03<00:00, 20.26it/s]\n",
      "\n",
      "\u001b[A"
     ]
    },
    {
     "name": "stdout",
     "output_type": "stream",
     "text": [
      "Got MRMR features\n"
     ]
    },
    {
     "name": "stderr",
     "output_type": "stream",
     "text": [
      "\n",
      "\u001b[A\n",
      "\u001b[A\n",
      "\u001b[A\n",
      "\u001b[A\n",
      "\u001b[A\n",
      "\u001b[A\n",
      "100%|██████████| 55/55 [00:03<00:00, 17.56it/s]\n"
     ]
    },
    {
     "name": "stdout",
     "output_type": "stream",
     "text": [
      "Got MRMR features\n"
     ]
    },
    {
     "name": "stderr",
     "output_type": "stream",
     "text": [
      "100%|██████████| 75/75 [00:02<00:00, 25.59it/s]\n"
     ]
    },
    {
     "name": "stdout",
     "output_type": "stream",
     "text": [
      "Got MRMR features\n",
      "[I 2025-09-10 14:13:00,446] Trial 1 finished with value: 0.7705146705146706 and parameters: {'feature_selection': 'MRMR', 'k_features': 75, 'kernel': 'linear', 'C': 0.466019631674853, 'gamma': 'scale'}. Best is trial 1 with value: 0.7705146705146706.\n"
     ]
    },
    {
     "name": "stderr",
     "output_type": "stream",
     "text": [
      "100%|██████████| 55/55 [00:01<00:00, 28.75it/s]\n"
     ]
    },
    {
     "name": "stdout",
     "output_type": "stream",
     "text": [
      "Got MRMR features\n",
      "[I 2025-09-10 14:13:04,134] Trial 2 finished with value: 0.700888000888001 and parameters: {'feature_selection': 'MRMR', 'k_features': 55, 'kernel': 'linear', 'C': 90.39436647324135, 'gamma': 'auto'}. Best is trial 1 with value: 0.7705146705146706.\n",
      "\n",
      "Binary Classification Optimization Results:\n",
      "Best ROC AUC Score: 0.7705\n",
      "Best Parameters:\n",
      "  feature_selection: MRMR\n",
      "  k_features: 75\n",
      "  kernel: linear\n",
      "  C: 0.466019631674853\n",
      "  gamma: scale\n"
     ]
    },
    {
     "name": "stderr",
     "output_type": "stream",
     "text": [
      "100%|██████████| 75/75 [00:02<00:00, 29.42it/s]\n"
     ]
    },
    {
     "name": "stdout",
     "output_type": "stream",
     "text": [
      "Got MRMR features\n",
      "\n",
      "Final Model Evaluation on Test Set:\n",
      "Accuracy: 0.6667\n",
      "Precision: 0.7097\n",
      "Recall: 0.6667\n",
      "F1 Score: 0.6875\n",
      "ROC AUC: 0.7273\n",
      "\n",
      "==============================\n",
      "FEATURE IMPORTANCE (run 10)\n",
      "==============================\n",
      "Number of features in final model: 75\n",
      "\n",
      "==================================================\n",
      "SUMMARY ACROSS ALL RUNS\n",
      "==================================================\n",
      "best_cv_score: 0.7730 ± 0.0211\n",
      "accuracy: 0.6717 ± 0.0315\n",
      "precision: 0.6893 ± 0.0276\n",
      "recall: 0.7364 ± 0.0623\n",
      "f1: 0.7107 ± 0.0347\n",
      "roc_auc: 0.7490 ± 0.0320\n"
     ]
    },
    {
     "ename": "NameError",
     "evalue": "name 'results_outpath' is not defined",
     "output_type": "error",
     "traceback": [
      "\u001b[31m---------------------------------------------------------------------------\u001b[39m",
      "\u001b[31mNameError\u001b[39m                                 Traceback (most recent call last)",
      "\u001b[36mCell\u001b[39m\u001b[36m \u001b[39m\u001b[32mIn[7]\u001b[39m\u001b[32m, line 218\u001b[39m\n\u001b[32m    216\u001b[39m df = pd.DataFrame(combined_results)\n\u001b[32m    217\u001b[39m \u001b[38;5;66;03m#df.to_csv(results_outpath, index=False)\u001b[39;00m\n\u001b[32m--> \u001b[39m\u001b[32m218\u001b[39m \u001b[38;5;28mprint\u001b[39m(\u001b[33mf\u001b[39m\u001b[33m\"\u001b[39m\u001b[38;5;130;01m\\n\u001b[39;00m\u001b[33mCombined results with averages saved to: \u001b[39m\u001b[38;5;132;01m{\u001b[39;00m\u001b[43mresults_outpath\u001b[49m\u001b[38;5;132;01m}\u001b[39;00m\u001b[33m\"\u001b[39m)\n\u001b[32m    220\u001b[39m \u001b[38;5;66;03m# Combine top features from all runs into one CSV\u001b[39;00m\n\u001b[32m    221\u001b[39m \u001b[38;5;28;01mif\u001b[39;00m top_features_all_runs:\n",
      "\u001b[31mNameError\u001b[39m: name 'results_outpath' is not defined"
     ]
    }
   ],
   "source": [
    "# Storage\n",
    "all_results = []\n",
    "top_features_all_runs = []\n",
    "\n",
    "# Repeat optimization + evaluation 10 times\n",
    "for run in range(10):\n",
    "    print(f\"\\n{'='*50}\")\n",
    "    print(f\"STARTING RUN {run + 1}/10\")\n",
    "    print(f\"{'='*50}\")\n",
    "\n",
    "    study = optuna.create_study(direction='maximize')\n",
    "    study.optimize(binary_classification_objective, n_trials=5, show_progress_bar=True, n_jobs=4)\n",
    "\n",
    "    print(\"\\nBinary Classification Optimization Results:\")\n",
    "    print(f\"Best ROC AUC Score: {study.best_value:.4f}\")\n",
    "    print(\"Best Parameters:\")\n",
    "    for key, value in study.best_params.items():\n",
    "        print(f\"  {key}: {value}\")\n",
    "\n",
    "    # ---------------------------\n",
    "    # Recreate selector using best params and extract selected feature names\n",
    "    # ---------------------------\n",
    "    best_fs_method = study.best_params.get('feature_selection', 'None')\n",
    "    selected_features = None\n",
    "\n",
    "    if best_fs_method != 'None':\n",
    "        k_features = study.best_params['k_features']\n",
    "        if best_fs_method == 'RFE':\n",
    "            estimator = RandomForestClassifier()\n",
    "            selector = RFE(estimator, n_features_to_select=k_features)\n",
    "        elif best_fs_method == 'MRMR':\n",
    "            selector = MRMRTransformer(k_features=k_features)\n",
    "        \n",
    "        selector.fit(X, y)\n",
    "        if hasattr(selector, 'get_support'):  # For RFE\n",
    "            selected_features = X.columns[selector.get_support()]\n",
    "        else:  # For MRMR\n",
    "            selected_features = selector.selected_features\n",
    "        X_best = X[selected_features]\n",
    "    else:\n",
    "        X_best = X\n",
    "        selected_features = X.columns\n",
    "\n",
    "    # Apply the same feature selection to test data\n",
    "    if best_fs_method != 'None':\n",
    "        if best_fs_method == 'MRMR':\n",
    "            X_test_final = X_test_scaled[selected_features]  # This should be DataFrame\n",
    "        else:  # RFE\n",
    "            X_test_transformed = selector.transform(X_test_scaled)\n",
    "            # Convert back to DataFrame with feature names\n",
    "            X_test_final = pd.DataFrame(X_test_transformed, columns=selected_features)\n",
    "    else:\n",
    "        X_test_final = X_test_scaled  # DataFrame\n",
    "\n",
    "    # ---------------------------\n",
    "    # Train final SVM with best params and evaluate on test set\n",
    "    # ---------------------------\n",
    "    best_model_params = {\n",
    "        'C': study.best_params['C'],\n",
    "        'kernel': study.best_params['kernel'],\n",
    "        'gamma': study.best_params['gamma'],\n",
    "        'probability': True,\n",
    "        'random_state': 42\n",
    "    }\n",
    "    if best_model_params['kernel'] == 'poly':\n",
    "        best_model_params['degree'] = study.best_params.get('degree', 3)\n",
    "\n",
    "    best_model = SVC(**best_model_params)\n",
    "    best_model.fit(X_best, y)\n",
    "\n",
    "    # Predictions\n",
    "    y_pred = best_model.predict(X_test_final)\n",
    "    y_pred_proba = best_model.predict_proba(X_test_final)[:, 1]\n",
    "\n",
    "    # Metrics\n",
    "    accuracy = accuracy_score(y_test, y_pred)\n",
    "    precision = precision_score(y_test, y_pred, zero_division=0)\n",
    "    recall = recall_score(y_test, y_pred, zero_division=0)\n",
    "    f1 = f1_score(y_test, y_pred, zero_division=0)\n",
    "    roc_auc = roc_auc_score(y_test, y_pred_proba)\n",
    "\n",
    "    # Save run result\n",
    "    run_result = {\n",
    "        'run_number': run + 1,\n",
    "        'best_cv_score': study.best_value,\n",
    "        'accuracy': accuracy,\n",
    "        'precision': precision,\n",
    "        'recall': recall,\n",
    "        'f1': f1,\n",
    "        'roc_auc': roc_auc,\n",
    "        'selected_features': \";\".join(selected_features),\n",
    "        'feature_selection_method': best_fs_method\n",
    "    }\n",
    "    for key, value in study.best_params.items():\n",
    "        run_result[f'param_{key}'] = value\n",
    "\n",
    "    all_results.append(run_result)\n",
    "\n",
    "    print(\"\\nFinal Model Evaluation on Test Set:\")\n",
    "    print(f\"Accuracy: {accuracy:.4f}\")\n",
    "    print(f\"Precision: {precision:.4f}\")\n",
    "    print(f\"Recall: {recall:.4f}\")\n",
    "    print(f\"F1 Score: {f1:.4f}\")\n",
    "    print(f\"ROC AUC: {roc_auc:.4f}\")\n",
    "\n",
    "    # ---------------------------\n",
    "    # FEATURE IMPORTANCE for this run\n",
    "    # ---------------------------\n",
    "    print(\"\\n\" + \"=\"*30)\n",
    "    print(f\"FEATURE IMPORTANCE (run {run+1})\")\n",
    "    print(\"=\"*30)\n",
    "\n",
    "    # Always convert selected_features → indices relative to binary_data.columns\n",
    "    if best_fs_method != 'None':\n",
    "        if isinstance(selected_features[0], str):\n",
    "            # MRMR gave names → get indices\n",
    "            selected_indices = [binary_data.columns.get_loc(feat) for feat in selected_features]\n",
    "        else:\n",
    "            # Already indices (or boolean mask converted earlier)\n",
    "            selected_indices = list(selected_features)\n",
    "    else:\n",
    "        selected_indices = list(range(binary_data.shape[1]))\n",
    "\n",
    "    # Convert back indices → names\n",
    "    final_feature_names = binary_data.columns[selected_indices].tolist()\n",
    "\n",
    "    n_features_in_model = len(final_feature_names)\n",
    "    print(f\"Number of features in final model: {n_features_in_model}\")\n",
    "\n",
    "    if best_model.kernel == 'linear':\n",
    "        # Use coefficients\n",
    "        try:\n",
    "            coef = best_model.coef_.ravel()\n",
    "        except Exception as e:\n",
    "            print(f\"Couldn't extract coef_ for linear kernel: {e}\")\n",
    "            coef = np.zeros(n_features_in_model)\n",
    "\n",
    "        feature_importance_df = pd.DataFrame({\n",
    "            'feature': final_feature_names,\n",
    "            'index': selected_indices,\n",
    "            'coefficient': coef\n",
    "        })\n",
    "        feature_importance_df['abs_importance'] = feature_importance_df['coefficient'].abs()\n",
    "        feature_importance_df = feature_importance_df.sort_values('abs_importance', ascending=False).reset_index(drop=True)\n",
    "\n",
    "        # Top-20\n",
    "        top_n = min(20, feature_importance_df.shape[0])\n",
    "        top_features = feature_importance_df.head(top_n).copy()\n",
    "        top_features['run'] = run + 1\n",
    "        top_features['best_cv_score'] = study.best_value\n",
    "\n",
    "    else:\n",
    "        # Non-linear → permutation importance\n",
    "        try:\n",
    "            perm = permutation_importance(\n",
    "                best_model,\n",
    "                X_test_final,\n",
    "                y_test,\n",
    "                n_repeats=50,\n",
    "                random_state=42,\n",
    "                scoring='roc_auc',\n",
    "                n_jobs=1\n",
    "            )\n",
    "            importance_df = pd.DataFrame({\n",
    "                'feature': final_feature_names,\n",
    "                'index': selected_indices,\n",
    "                'importance_mean': perm.importances_mean,\n",
    "                'importance_std': perm.importances_std\n",
    "            })\n",
    "            importance_df = importance_df.sort_values('importance_mean', ascending=False).reset_index(drop=True)\n",
    "\n",
    "            # Top-20\n",
    "            top_n = min(20, importance_df.shape[0])\n",
    "            top_features = importance_df.head(top_n).copy()\n",
    "            top_features['run'] = run + 1\n",
    "            top_features['best_cv_score'] = study.best_value\n",
    "\n",
    "        except Exception as e:\n",
    "            print(f\"Permutation importance failed for run {run+1}: {e}\")\n",
    "            importance_df = pd.DataFrame({\n",
    "                'feature': final_feature_names,\n",
    "                'index': selected_indices,\n",
    "                'importance_mean': np.zeros(len(final_feature_names)),\n",
    "                'importance_std': np.zeros(len(final_feature_names))\n",
    "            })\n",
    "            top_features = importance_df.head(min(20, len(final_feature_names))).copy()\n",
    "            top_features['run'] = run + 1\n",
    "            top_features['best_cv_score'] = study.best_value\n",
    "\n",
    "    # Collect top features for final combined CSV\n",
    "    top_features_all_runs.append(top_features)\n",
    "\n",
    "\n",
    "# ---------------------------\n",
    "# After all runs: save combined results & top features\n",
    "# ---------------------------\n",
    "print(f\"\\n{'='*50}\")\n",
    "print(\"SUMMARY ACROSS ALL RUNS\")\n",
    "print(f\"{'='*50}\")\n",
    "\n",
    "results_df = pd.DataFrame(all_results)\n",
    "metrics_to_avg = ['best_cv_score', 'accuracy', 'precision', 'recall', 'f1', 'roc_auc']\n",
    "\n",
    "summary_row = {'run_number': 'SUMMARY'}\n",
    "for metric in metrics_to_avg:\n",
    "    avg_value = results_df[metric].mean()\n",
    "    std_value = results_df[metric].std()\n",
    "    summary_row[metric] = f\"{avg_value:.4f} ± {std_value:.4f}\"\n",
    "    print(f\"{metric}: {avg_value:.4f} ± {std_value:.4f}\")\n",
    "\n",
    "# Mark params N/A for summary\n",
    "for key in [k for k in results_df.columns if k.startswith('param_')]:\n",
    "    summary_row[key] = 'N/A'\n",
    "\n",
    "combined_results = all_results + [summary_row]\n",
    "df = pd.DataFrame(combined_results)\n",
    "#df.to_csv(results_outpath, index=False)\n",
    "print(f\"\\nCombined results with averages saved to: {results_outpath}\")\n",
    "\n",
    "# Combine top features from all runs into one CSV\n",
    "if top_features_all_runs:\n",
    "    combined_top = pd.concat(top_features_all_runs, ignore_index=True, sort=False)\n",
    "    #combined_top_csv = os.path.join(out_dir, 'combined_top_features.csv')\n",
    "    #combined_top.to_csv(combined_top_csv, index=False)\n",
    "    print(f\"Combined top features saved to: {combined_top_csv}\")\n",
    "else:\n",
    "    print(\"No top features were collected.\")\n",
    "\n",
    "print(\"Done.\")\n"
   ]
  }
 ],
 "metadata": {
  "kernelspec": {
   "display_name": "bessy",
   "language": "python",
   "name": "python3"
  },
  "language_info": {
   "codemirror_mode": {
    "name": "ipython",
    "version": 3
   },
   "file_extension": ".py",
   "mimetype": "text/x-python",
   "name": "python",
   "nbconvert_exporter": "python",
   "pygments_lexer": "ipython3",
   "version": "3.13.2"
  }
 },
 "nbformat": 4,
 "nbformat_minor": 5
}

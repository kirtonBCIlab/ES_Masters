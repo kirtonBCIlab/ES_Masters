{
 "cells": [
  {
   "cell_type": "markdown",
   "id": "7020bed1",
   "metadata": {},
   "source": [
    "# Import Libraries"
   ]
  },
  {
   "cell_type": "code",
   "execution_count": 1,
   "id": "9b5234f4",
   "metadata": {},
   "outputs": [],
   "source": [
    "# Standard libraries\n",
    "import json\n",
    "import numpy as np\n",
    "import pandas as pd\n",
    "import scipy.signal as signal\n",
    "\n",
    "# Custom libraries\n",
    "from Functions import processing"
   ]
  },
  {
   "cell_type": "markdown",
   "id": "7eef3a2d",
   "metadata": {},
   "source": [
    "# Import Epoched Data and Settings"
   ]
  },
  {
   "cell_type": "code",
   "execution_count": null,
   "id": "72c4536e",
   "metadata": {},
   "outputs": [],
   "source": [
    "# Load list of files to import\n",
    "files = [  \n",
    "    \"sub-P003_ses-S001_task-T1_run-001_eeg\"\n",
    "]\n",
    "\n",
    "# Get unique subject IDs\n",
    "subject_ids = [file.split('_')[0] for file in files]\n",
    "unique_subject_ids = list(set(subject_ids))\n",
    "\n",
    "# Preallocate variables to store EEG data and settings\n",
    "eeg_epochs = [None] * len(files)\n",
    "settings = [None] * len(files)\n",
    "\n",
    "# Import data\n",
    "for f, file in enumerate(files):\n",
    "    # Import EEG data, since it is stored in a compressed numpy file (.npz) we need to use the np.load function \n",
    "    loaded_data = np.load(f\"Data\\\\Pilot2\\\\EEG\\\\sub-P003\\\\ses-S001\\\\eeg\\\\{file}.npz\", allow_pickle=True)\n",
    "\n",
    "    # Access the data for each stimulus\n",
    "    eeg_epochs[f] = {stim_label: loaded_data[stim_label] for stim_label in loaded_data.files}\n",
    "\n",
    "    # Import settings\n",
    "    with open(f\"Data\\\\Pilot2\\\\EEG\\\\sub-P003\\\\ses-S001\\\\eeg\\\\{file}.json\", \"r\") as file_object:\n",
    "        settings[f] = json.load(file_object)"
   ]
  },
  {
   "cell_type": "markdown",
   "id": "3ab71e1c",
   "metadata": {},
   "source": [
    "# Calculate PSD of all Epochs"
   ]
  },
  {
   "cell_type": "code",
   "execution_count": 3,
   "id": "c49ca342",
   "metadata": {},
   "outputs": [],
   "source": [
    "# PSD settings\n",
    "window_size = 5  # 10 = 0.1 Hz resolution, 5 = 0.2 Hz resolution, 2 = 0.5 Hz resolution\n",
    "\n",
    "# Preallocate variables\n",
    "eeg_f = [None] * len(files)\n",
    "eeg_pxx = [None] * len(files)  # Preallocate to list in case not all files have the same number of channels\n",
    "\n",
    "# Compute PSD for each file\n",
    "for f, file in enumerate(files):\n",
    "    eeg_f[f] = {}\n",
    "    eeg_pxx[f] = {}\n",
    "\n",
    "    # Compute PSD for each stimulus\n",
    "    for stim_label, epochs in eeg_epochs[f].items():\n",
    "        eeg_f[f][stim_label] = []\n",
    "        eeg_pxx[f][stim_label] = []\n",
    "\n",
    "        # Compute PSD for each epoch\n",
    "        for epoch in epochs:\n",
    "            f_values, pxx_values = signal.welch(\n",
    "                x=epoch,\n",
    "                fs=settings[f][\"eeg_srate\"],\n",
    "                nfft=int(window_size * settings[f][\"eeg_srate\"]),\n",
    "                nperseg=window_size * settings[f][\"eeg_srate\"],\n",
    "                noverlap= (window_size * settings[f][\"eeg_srate\"]) * 0.5,  # 50% overlap between windows\n",
    "            )\n",
    "            eeg_f[f][stim_label].append(f_values)\n",
    "            eeg_pxx[f][stim_label].append(pxx_values)\n",
    "\n",
    "        # Convert lists to arrays for consistency\n",
    "        eeg_f[f][stim_label] = np.array(eeg_f[f][stim_label])\n",
    "        eeg_pxx[f][stim_label] = np.array(eeg_pxx[f][stim_label])"
   ]
  },
  {
   "cell_type": "markdown",
   "id": "08d8af3c",
   "metadata": {},
   "source": [
    "# Compute SNR for all Epochs\n",
    "- SNR is calculated for each epoch and is NOT averaged per stimulus"
   ]
  },
  {
   "cell_type": "code",
   "execution_count": 4,
   "id": "aee466b2",
   "metadata": {},
   "outputs": [],
   "source": [
    "# Settings\n",
    "noise_band = 1    # Single-sided noise band [Hz]\n",
    "nharms = 2        # Number of harmonics used\n",
    "db_out = True     # Boolean to get output in dB\n",
    "stim_freq = 10.0  # Example frequency, replace with your actual frequency\n",
    "\n",
    "snr = [None] * len(files)\n",
    "\n",
    "for f0 in range(len(files)):\n",
    "    stim_labels = list(settings[f0][\"stimuli\"].values())\n",
    "    file_channels = settings[f0][\"new_ch_names\"]\n",
    "    ch_idx_map = {ch: i for i, ch in enumerate(file_channels)}\n",
    "\n",
    "    if snr[f0] is None:\n",
    "        snr[f0] = {}  # Init dict per file\n",
    "\n",
    "    for stim_idx, stim_label in settings[f0][\"stimuli\"].items():\n",
    "        num_epochs = eeg_pxx[f0][stim_label].shape[0]\n",
    "        channel_snr_list = []\n",
    "\n",
    "        for epoch in range(num_epochs):\n",
    "            snr_epoch = processing.ssvep_snr(\n",
    "                f=eeg_f[f0][stim_label][epoch],  # shape: (n_freqs,)\n",
    "                pxx=eeg_pxx[f0][stim_label][epoch, :, :],  # shape: (n_channels, n_freqs)\n",
    "                stim_freq=stim_freq,\n",
    "                noise_band=noise_band,\n",
    "                nharms=nharms,\n",
    "                db_out=db_out\n",
    "            )\n",
    "            channel_snr_list.append(snr_epoch)\n",
    "\n",
    "        # Create array: shape = (num_epochs, total_channels)\n",
    "        epoch_snr_stack = np.zeros((num_epochs, len(file_channels)))\n",
    "\n",
    "        for epoch_idx in range(num_epochs):\n",
    "            for i, ch_name in enumerate(file_channels):\n",
    "                if ch_name in ch_idx_map:\n",
    "                    epoch_snr_stack[epoch_idx, i] = channel_snr_list[epoch_idx][ch_idx_map[ch_name]]\n",
    "                else:\n",
    "                    epoch_snr_stack[epoch_idx, i] = 0  # Channel missing\n",
    "\n",
    "        # Store per stimulus\n",
    "        snr[f0][stim_label] = epoch_snr_stack  # shape: (num_epochs, total_channels)"
   ]
  },
  {
   "cell_type": "markdown",
   "id": "8664fa1f",
   "metadata": {},
   "source": [
    "# Export SNR"
   ]
  },
  {
   "cell_type": "code",
   "execution_count": 5,
   "id": "6d95e6eb",
   "metadata": {},
   "outputs": [],
   "source": [
    "rows = []\n",
    "\n",
    "for f_idx, file_snr in enumerate(snr):\n",
    "    for stim_label, snr_array in file_snr.items():  # snr_array shape: (num_epochs, num_channels)\n",
    "        num_epochs = snr_array.shape[0]\n",
    "        for epoch_idx in range(num_epochs):\n",
    "            row = {\n",
    "                \"file_index\": f_idx,\n",
    "                \"stimulus\": stim_label,\n",
    "                \"epoch\": epoch_idx\n",
    "            }\n",
    "            for ch_idx, ch_name in enumerate(file_channels):\n",
    "                row[ch_name] = snr_array[epoch_idx, ch_idx]\n",
    "            rows.append(row)\n",
    "\n",
    "# Convert to DataFrame\n",
    "df = pd.DataFrame(rows)\n",
    "\n",
    "# Export to CSV\n",
    "#df.to_csv(\"epochwise_snr_output.csv\", index=False)"
   ]
  }
 ],
 "metadata": {
  "kernelspec": {
   "display_name": "bessy",
   "language": "python",
   "name": "python3"
  },
  "language_info": {
   "codemirror_mode": {
    "name": "ipython",
    "version": 3
   },
   "file_extension": ".py",
   "mimetype": "text/x-python",
   "name": "python",
   "nbconvert_exporter": "python",
   "pygments_lexer": "ipython3",
   "version": "3.13.2"
  }
 },
 "nbformat": 4,
 "nbformat_minor": 5
}

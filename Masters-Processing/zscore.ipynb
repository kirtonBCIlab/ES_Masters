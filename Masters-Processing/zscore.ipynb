{
 "cells": [
  {
   "cell_type": "markdown",
   "metadata": {},
   "source": [
    "# Compute PSD, SNR, and Z-Score of Pilot Data\n",
    "\n",
    "## Goals:\n",
    "1. **Data Import**\n",
    "    - Import the preprocessed data from npz and json files\n",
    "\n",
    "2. **Feature Extraction**\n",
    "    - Calculate the Power Spectral Density (PSD) for each epoch.\n",
    "    - Calculate the Signal-to-Noise Ratio (SNR) for each epoch (for use in stats)\n",
    "    - Calculate the Z-score for each epoch (used to determine signal cutoff):\n",
    "        * **Formula**:   PSD Z-score = (PSD(single trial) - Mean PSD of baseline trials) / Std PSD of baseline trials\n",
    "        \n",
    "3. **Data Formatting**\n",
    "    - Save the data and export to an excel sheet\n",
    "        * Get the average of all epochs for each unique stimulus"
   ]
  },
  {
   "cell_type": "markdown",
   "metadata": {},
   "source": [
    "# Import Libraries"
   ]
  },
  {
   "cell_type": "code",
   "execution_count": 1,
   "metadata": {},
   "outputs": [],
   "source": [
    "# Standard libraries\n",
    "import json\n",
    "import numpy as np\n",
    "import pandas as pd\n",
    "import scipy.signal as signal\n",
    "import matplotlib.pyplot as plt\n",
    "\n",
    "# Custom libraries\n",
    "from Functions import processing"
   ]
  },
  {
   "cell_type": "markdown",
   "metadata": {},
   "source": [
    "# Import Epoched Data and Settings"
   ]
  },
  {
   "cell_type": "code",
   "execution_count": 8,
   "metadata": {},
   "outputs": [],
   "source": [
    "files = [  \n",
    "    \"sub-P001_ses-S001_task-T1_run-001_eeg\"   \n",
    "]\n",
    "\n",
    "subject_ids = [file.split('_')[0] for file in files]\n",
    "unique_subject_ids = list(set(subject_ids))\n",
    "\n",
    "# Preallocate variables\n",
    "eeg_epochs = [None] * len(files)\n",
    "settings = [None] * len(files)\n",
    "\n",
    "# Import data\n",
    "for f, file in enumerate(files):\n",
    "    # Import EEG data, since it is stored in a compressed numpy file (.npz) we need to use the np.load function \n",
    "    loaded_data = np.load(f\"Data\\\\Masters_testing\\\\{file}.npz\", allow_pickle=True)\n",
    "\n",
    "    # Access the data for each stimulus\n",
    "    eeg_epochs[f] = {stim_label: loaded_data[stim_label] for stim_label in loaded_data.files}\n",
    "\n",
    "    # Import settings\n",
    "    with open(f\"Data\\\\Masters_testing\\\\{file}.json\", \"r\") as file_object:\n",
    "        settings[f] = json.load(file_object)"
   ]
  },
  {
   "cell_type": "markdown",
   "metadata": {},
   "source": [
    "# Compute PSD for all Epochs\n",
    "\n",
    "Make sure to include baseline epochs for later calculation of Z-score\n",
    "Compute PSD for every epoch (and average for repeated labels after)"
   ]
  },
  {
   "cell_type": "markdown",
   "metadata": {},
   "source": [
    "# Compute SNR for all Epochs\n"
   ]
  },
  {
   "cell_type": "markdown",
   "metadata": {},
   "source": [
    "# Compute Z-score for all Epochs"
   ]
  },
  {
   "cell_type": "markdown",
   "metadata": {},
   "source": [
    "# Save Data"
   ]
  }
 ],
 "metadata": {
  "kernelspec": {
   "display_name": "bci",
   "language": "python",
   "name": "python3"
  },
  "language_info": {
   "codemirror_mode": {
    "name": "ipython",
    "version": 3
   },
   "file_extension": ".py",
   "mimetype": "text/x-python",
   "name": "python",
   "nbconvert_exporter": "python",
   "pygments_lexer": "ipython3",
   "version": "3.10.14"
  }
 },
 "nbformat": 4,
 "nbformat_minor": 2
}

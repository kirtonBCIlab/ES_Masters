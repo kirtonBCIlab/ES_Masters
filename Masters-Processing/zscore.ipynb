{
 "cells": [
  {
   "cell_type": "markdown",
   "metadata": {},
   "source": [
    "# Compute PSD, SNR, and Z-Score of Pilot Data\n",
    "\n",
    "## Goals:\n",
    "1. **Data Import**\n",
    "    - Import the preprocessed data from npz and json files\n",
    "\n",
    "2. **Feature Extraction**\n",
    "    - Calculate the Power Spectral Density (PSD) for each epoch.\n",
    "    - Calculate the Signal-to-Noise Ratio (SNR) for each epoch (for use in stats)\n",
    "    - Calculate the Z-score for each epoch (used to determine signal cutoff):\n",
    "        * **Formula**:   PSD Z-score = (PSD(single trial) - Mean PSD of baseline trials) / Std PSD of baseline trials\n",
    "        \n",
    "3. **Data Formatting**\n",
    "    - Save the data and export to an excel sheet\n",
    "        * Get the average of all epochs for each unique stimulus"
   ]
  },
  {
   "cell_type": "markdown",
   "metadata": {},
   "source": [
    "# Import Libraries"
   ]
  },
  {
   "cell_type": "markdown",
   "metadata": {},
   "source": [
    "# Import Epoched Data and Settings"
   ]
  },
  {
   "cell_type": "markdown",
   "metadata": {},
   "source": [
    "# Compute PSD for all Epochs\n",
    "\n",
    "Make sure to include baseline epochs for later calculation of Z-score\n",
    "Compute PSD for every epoch (and average for repeated labels after)"
   ]
  },
  {
   "cell_type": "markdown",
   "metadata": {},
   "source": [
    "# Compute SNR for all Epochs\n"
   ]
  },
  {
   "cell_type": "markdown",
   "metadata": {},
   "source": [
    "# Compute Z-score for all Epochs"
   ]
  },
  {
   "cell_type": "markdown",
   "metadata": {},
   "source": [
    "# Save Data"
   ]
  }
 ],
 "metadata": {
  "kernelspec": {
   "display_name": "bci",
   "language": "python",
   "name": "python3"
  },
  "language_info": {
   "name": "python",
   "version": "3.10.14"
  }
 },
 "nbformat": 4,
 "nbformat_minor": 2
}

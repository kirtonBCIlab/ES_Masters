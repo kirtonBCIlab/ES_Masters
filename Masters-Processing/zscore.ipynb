{
 "cells": [
  {
   "cell_type": "markdown",
   "metadata": {},
   "source": [
    "# Compute PSD and Z-Score of Pilot Data\n",
    "\n",
    "## Goals:\n",
    "1. **Data Import**\n",
    "    - Import the preprocessed data from npz and json files\n",
    "\n",
    "2. **Feature Extraction**\n",
    "    - Average the time series data for each epoch over the occipital channels\n",
    "    - Calculate the Power Spectral Density (PSD) for each epoch.\n",
    "    - Calculate the Z-score for each epoch (used to determine signal cutoff):\n",
    "        * **Formula**:   PSD Z-score = (PSD(single trial) - Mean PSD of baseline trials) / Std PSD of baseline trials\n",
    "    - Find a way to combine the Z-scores for each stimulus (will end up with n_zscores = n_epochs per stimulus)\n",
    "        \n",
    "3. **Data Formatting**\n",
    "    - Save the Z score data and export to an excel sheet"
   ]
  },
  {
   "cell_type": "markdown",
   "metadata": {},
   "source": [
    "# Import Libraries"
   ]
  },
  {
   "cell_type": "code",
   "execution_count": 1,
   "metadata": {},
   "outputs": [],
   "source": [
    "# Standard libraries\n",
    "import json\n",
    "import numpy as np\n",
    "import pandas as pd\n",
    "import scipy.signal as signal\n",
    "import matplotlib.pyplot as plt\n",
    "\n",
    "# Custom libraries\n",
    "from Functions import processing\n",
    "\n",
    "%matplotlib qt"
   ]
  },
  {
   "cell_type": "markdown",
   "metadata": {},
   "source": [
    "# Import Epoched Data and Settings"
   ]
  },
  {
   "cell_type": "code",
   "execution_count": 2,
   "metadata": {},
   "outputs": [],
   "source": [
    "# Load list of files to import\n",
    "files = [  \n",
    "    \"sub-P010_ses-S001_task-T1_run-001_eeg\",\n",
    "    #\"sub-P002_ses-S001_task-T1_run-001_eeg\",\n",
    "    #\"sub-P003_ses-S001_task-T1_run-001_eeg\",\n",
    "    #\"sub-P004_ses-S001_task-T1_run-001_eeg\",\n",
    "    #\"sub-P005_ses-S001_task-T1_run-001_eeg\",\n",
    "    #\"sub-P006_ses-S001_task-T1_run-001_eeg\",\n",
    "    #\"sub-P008-Redo_ses-S001_task-T2_run-001_eeg\", \n",
    "    #\"sub-P009_ses-S001_task-T1_run-001_eeg\",\n",
    "    #\"sub-P010_ses-S001_task-T1_run-001_eeg\", \n",
    "]\n",
    "\n",
    "# Get unique subject IDs- Currently not used\n",
    "subject_ids = [file.split('_')[0] for file in files]\n",
    "unique_subject_ids = list(set(subject_ids))\n",
    "\n",
    "# Preallocate variables to store EEG data and settings\n",
    "eeg_epochs = [None] * len(files)\n",
    "settings = [None] * len(files)\n",
    "baseline = [None] * len(files)\n",
    "\n",
    "# Import data\n",
    "for f, file in enumerate(files):\n",
    "    # Import EEG data, since it is stored in a compressed numpy file (.npz) we need to use the np.load function \n",
    "    loaded_data = np.load(f\"Data\\\\Pilot-Data\\\\EEG\\\\All\\\\{file}.npz\", allow_pickle=True)\n",
    "\n",
    "    # Access the data for each stimulus\n",
    "    eeg_epochs[f] = {stim_label: loaded_data[stim_label] for stim_label in loaded_data.files}\n",
    "\n",
    "    # Import settings\n",
    "    with open(f\"Data\\\\Pilot-Data\\\\EEG\\\\All\\\\{file}.json\", \"r\") as file_object:\n",
    "        settings[f] = json.load(file_object)\n",
    "\n",
    "    # Import baseline data\n",
    "    loaded_baseline = np.load(f\"Data\\\\Pilot-Data\\\\EEG\\\\All\\\\{file}_baseline.npz\", allow_pickle=True)\n",
    "    baseline[f] = {stim_label: loaded_baseline[stim_label] for stim_label in loaded_baseline.files}"
   ]
  },
  {
   "cell_type": "markdown",
   "metadata": {},
   "source": [
    "# Average time series across occipital channels per epoch for \"on\" data and baseline data"
   ]
  },
  {
   "cell_type": "code",
   "execution_count": 3,
   "metadata": {},
   "outputs": [],
   "source": [
    "selected_channels = ['O1', 'Oz', 'O2']\n",
    "occipital_epochs = [{} for _ in range(len(files))]  # List of dictionaries for each file\n",
    "occipital_baseline = [{} for _ in range(len(files))]  # List of dictionaries for each file\n",
    "\n",
    "for f in range(len(files)):\n",
    "    # Get channel names for this file\n",
    "    available_channels = settings[f]['new_ch_names']\n",
    "    \n",
    "    # Get indices of channels that are actually available\n",
    "    channel_indices = []\n",
    "    for ch in selected_channels:\n",
    "        if ch in available_channels:\n",
    "            channel_indices.append(available_channels.index(ch))\n",
    "        else:\n",
    "            print(f\"Channel {ch} is not available in file {files[f]}\")\n",
    "\n",
    "    if not channel_indices:\n",
    "        print(f\"No selected occipital channels found for file {files[f]}. Skipping averaging.\")\n",
    "        continue  # Skip this file if no channels are available\n",
    "\n",
    "    # Process epochs\n",
    "    for stim_label in eeg_epochs[f]:\n",
    "        # Extract available occipital channels\n",
    "        occipital_epochs[f][stim_label] = eeg_epochs[f][stim_label][:, channel_indices, :]\n",
    "        # Average over those channels\n",
    "        occipital_epochs[f][stim_label] = np.mean(occipital_epochs[f][stim_label], axis=1)\n",
    "\n",
    "    # Process baseline\n",
    "    for stim_label in baseline[f]:\n",
    "        stim_epochs = baseline[f][stim_label]\n",
    "\n",
    "        occipital_baseline[f][stim_label] = baseline[f][stim_label][:, channel_indices, :]\n",
    "        occipital_baseline[f][stim_label] = np.mean(occipital_baseline[f][stim_label], axis=1)"
   ]
  },
  {
   "cell_type": "markdown",
   "metadata": {},
   "source": [
    "# Compute PSD for each \"On\" Epoch"
   ]
  },
  {
   "cell_type": "code",
   "execution_count": 4,
   "metadata": {},
   "outputs": [
    {
     "name": "stdout",
     "output_type": "stream",
     "text": [
      "File: sub-P010_ses-S001_task-T1_run-001_eeg\n",
      "  Stimulus: Contrast1Size1, PSD shape: (3, 1281)\n",
      "  Stimulus: Contrast1Size2, PSD shape: (3, 1281)\n",
      "  Stimulus: Contrast1Size3, PSD shape: (2, 1281)\n",
      "  Stimulus: Contrast2Size1, PSD shape: (2, 1281)\n",
      "  Stimulus: Contrast2Size2, PSD shape: (4, 1281)\n",
      "  Stimulus: Contrast2Size3, PSD shape: (2, 1281)\n",
      "  Stimulus: Contrast3Size1, PSD shape: (3, 1281)\n",
      "  Stimulus: Contrast3Size2, PSD shape: (3, 1281)\n",
      "  Stimulus: Contrast3Size3, PSD shape: (5, 1281)\n",
      "  Stimulus: Contrast4Size1, PSD shape: (5, 1281)\n",
      "  Stimulus: Contrast4Size2, PSD shape: (3, 1281)\n",
      "  Stimulus: Contrast4Size3, PSD shape: (5, 1281)\n"
     ]
    }
   ],
   "source": [
    "# PSD settings\n",
    "window_size = 10  # 10 = 0.1 Hz resolution, 5 = 0.2 Hz resolution, 2 = 0.5 Hz resolution\n",
    "\n",
    "# Preallocate variables\n",
    "eeg_f = [None] * len(files)\n",
    "eeg_pxx = [None] * len(files)  # Preallocate to list in case not all files have the same number of epochs\n",
    "\n",
    "# Compute PSD for each file\n",
    "for f in range(len(files)):\n",
    "    eeg_f[f] = {}\n",
    "    eeg_pxx[f] = {}\n",
    "\n",
    "    # Compute PSD for each stimulus\n",
    "    for stim_label, epochs in occipital_epochs[f].items(): \n",
    "        eeg_f[f][stim_label] = []\n",
    "        eeg_pxx[f][stim_label] = []\n",
    "\n",
    "        # Compute PSD for each epoch\n",
    "        for epoch in epochs:  # Each epoch is now a 1D array (num_samples,)\n",
    "            f_values, pxx_values = signal.welch(\n",
    "                x=epoch,  # 1D array (samples,)\n",
    "                fs=settings[f][\"eeg_srate\"],\n",
    "                nperseg=window_size * settings[f][\"eeg_srate\"],\n",
    "                noverlap=(window_size * settings[f][\"eeg_srate\"]) * 0.5,  # 50% overlap\n",
    "            )\n",
    "            eeg_f[f][stim_label].append(f_values)\n",
    "            eeg_pxx[f][stim_label].append(pxx_values)\n",
    "\n",
    "        # Convert lists to arrays for consistency\n",
    "        eeg_f[f][stim_label] = np.array(eeg_f[f][stim_label])  # Shape: (num_epochs, num_frequencies)\n",
    "        eeg_pxx[f][stim_label] = np.array(eeg_pxx[f][stim_label])  # Shape: (num_epochs, num_frequencies)\n",
    "\n",
    "#Print the shape of the PSD results for each stimulus\n",
    "for f, file in enumerate(files):\n",
    "     print(f\"File: {file}\")\n",
    "     for stim_label in eeg_f[f].keys():\n",
    "         print(f\"  Stimulus: {stim_label}, PSD shape: {eeg_pxx[f][stim_label].shape}\")"
   ]
  },
  {
   "cell_type": "markdown",
   "metadata": {},
   "source": [
    "# Plot PSD of \"On\" Epochs"
   ]
  },
  {
   "cell_type": "code",
   "execution_count": 5,
   "metadata": {},
   "outputs": [
    {
     "name": "stderr",
     "output_type": "stream",
     "text": [
      "<>:26: SyntaxWarning: invalid escape sequence '\\m'\n",
      "<>:26: SyntaxWarning: invalid escape sequence '\\m'\n",
      "C:\\Users\\admin\\AppData\\Local\\Temp\\ipykernel_848\\4289603095.py:26: SyntaxWarning: invalid escape sequence '\\m'\n",
      "  axes[stim_idx].set_ylabel(\"PXX [$\\mu$V$^2$/Hz]\")\n"
     ]
    }
   ],
   "source": [
    "plot_psd = True  # Enable to see plots\n",
    "f_limits = [5, 35]  # Frequency limits for the plots [min, max][Hz]\n",
    "file_to_plot = 0    # Select index of file to be plotted\n",
    "num_stimuli = 12    # Number of stimuli\n",
    "\n",
    "if plot_psd:\n",
    "    fig, axes = plt.subplots(3, 4, figsize=(15, 10))\n",
    "    fig.suptitle(f'PSD for All Stimuli in File: {files[file_to_plot]}')\n",
    "    axes = axes.flatten()\n",
    "\n",
    "    for stim_idx in range(num_stimuli):\n",
    "        stim_label = list(eeg_f[file_to_plot].keys())[stim_idx]\n",
    "        \n",
    "        # Extract frequency values\n",
    "        fmask = (eeg_f[file_to_plot][stim_label][0] >= f_limits[0]) & (eeg_f[file_to_plot][stim_label][0] <= f_limits[1])\n",
    "        temp_freq = eeg_f[file_to_plot][stim_label][0][fmask]\n",
    "        \n",
    "        # Plot each epoch separately for this stimulus\n",
    "        for epoch_idx, epoch in enumerate(eeg_pxx[file_to_plot][stim_label]):\n",
    "            avg_pxx = epoch[fmask]  # Get values within frequency limits\n",
    "            axes[stim_idx].plot(temp_freq, avg_pxx, label=f'Epoch {epoch_idx+1}')  # Label each epoch\n",
    "        \n",
    "        # Set plot details\n",
    "        axes[stim_idx].set_title(f'Stimulus: {stim_label}')\n",
    "        axes[stim_idx].set_xlim(f_limits)\n",
    "        axes[stim_idx].set_ylabel(\"PXX [$\\mu$V$^2$/Hz]\")\n",
    "\n",
    "        if stim_idx >= 8:\n",
    "            axes[stim_idx].set_xlabel(\"Frequency [Hz]\")\n",
    "\n",
    "        # Add legend to identify epochs\n",
    "        axes[stim_idx].legend()\n",
    "\n",
    "    plt.tight_layout(rect=[0, 0, 1, 0.96])\n",
    "    plt.show()"
   ]
  },
  {
   "cell_type": "markdown",
   "metadata": {},
   "source": [
    "# Compute Mean and STD of the PSD for RS Eyes Open Epochs"
   ]
  },
  {
   "cell_type": "code",
   "execution_count": 6,
   "metadata": {},
   "outputs": [],
   "source": [
    "# PSD settings\n",
    "window_size = 10  # 10 = 0.1 Hz resolution, 5 = 0.2 Hz resolution, 2 = 0.5 Hz resolution\n",
    "\n",
    "# Preallocate variables\n",
    "baseline_f = [None] * len(files)\n",
    "baseline_pxx = [None] * len(files)  # Preallocate to list in case not all files have the same number of epochs\n",
    "\n",
    "# Compute PSD for each file\n",
    "for f in range(len(files)):\n",
    "    baseline_f[f] = {}\n",
    "    baseline_pxx[f] = {}\n",
    "\n",
    "    # Compute PSD for each stimulus\n",
    "    for stim_label, epochs in occipital_baseline[f].items(): \n",
    "        baseline_f[f][stim_label] = []\n",
    "        baseline_pxx[f][stim_label] = []\n",
    "\n",
    "        # Compute PSD for each epoch\n",
    "        for epoch in epochs:  # Each epoch is now a 1D array (num_samples,)\n",
    "            f_values, pxx_values = signal.welch(\n",
    "                x=epoch,  # 1D array (samples,)\n",
    "                fs=settings[f][\"eeg_srate\"],\n",
    "                nperseg=window_size * settings[f][\"eeg_srate\"],\n",
    "                noverlap=(window_size * settings[f][\"eeg_srate\"]) * 0.5,  # 50% overlap\n",
    "            )\n",
    "            baseline_f[f][stim_label].append(f_values)\n",
    "            baseline_pxx[f][stim_label].append(pxx_values)\n",
    "\n",
    "        # Convert lists to arrays for consistency\n",
    "        baseline_f[f][stim_label] = np.array(baseline_f[f][stim_label])  # Shape: (num_epochs, num_frequencies)\n",
    "        baseline_pxx[f][stim_label] = np.array(baseline_pxx[f][stim_label])  # Shape: (num_epochs, num_frequencies)\n",
    "\n",
    "        # get the mean and std of the baseline data\n",
    "        baseline_mean = np.mean(baseline_pxx[f][stim_label], axis=0)\n",
    "        baseline_std = np.std(baseline_pxx[f][stim_label], axis=0)"
   ]
  },
  {
   "cell_type": "markdown",
   "metadata": {},
   "source": [
    "# Calculate Z Score for all epochs\n",
    "- Calculate per stimulus (averaged across epochs) and save into eeg_zscore_mean_pxx"
   ]
  },
  {
   "cell_type": "code",
   "execution_count": 7,
   "metadata": {},
   "outputs": [],
   "source": [
    "# Preallocate storage for z-score results\n",
    "eeg_zscore_mean_pxx = [None] * len(files)\n",
    "\n",
    "for f, file in enumerate(files):\n",
    "    eeg_zscore_mean_pxx[f] = {}  # Dictionary to store per-stimulus z-scores averaged across epochs\n",
    "\n",
    "    # Compute Z-score for each stimulus\n",
    "    for stim_label in eeg_pxx[f].keys():\n",
    "        eeg_pxx_values = eeg_pxx[f][stim_label]  # Already averaged over channels, shape (num_epochs, freqs)\n",
    "\n",
    "        zscores_per_epoch = []  # Store z-scores for each epoch\n",
    "\n",
    "        for epoch in range(len(eeg_pxx_values)):  \n",
    "            # Compute z-score for the current epoch\n",
    "            zscore_epoch = (eeg_pxx_values[epoch, :] - baseline_mean) / baseline_std  # Shape: (freqs,)\n",
    "            zscores_per_epoch.append(zscore_epoch)  # Store the z-scores for this epoch\n",
    "\n",
    "        # Convert to array for consistency (epochs, freqs)\n",
    "        zscores_per_epoch = np.array(zscores_per_epoch)  \n",
    "\n",
    "        # Calculate the mean z-score for each stimulus\n",
    "        mean_zscore = np.mean(zscores_per_epoch, axis = 0)\n",
    "\n",
    "        # Store z-scores per stimulus (averaged across epochs)\n",
    "        eeg_zscore_mean_pxx[f][stim_label] = mean_zscore"
   ]
  },
  {
   "cell_type": "markdown",
   "metadata": {},
   "source": [
    "# Plot Mean Z-Score"
   ]
  },
  {
   "cell_type": "code",
   "execution_count": 8,
   "metadata": {},
   "outputs": [],
   "source": [
    "# Plot all 12 stimuli as a panel plot\n",
    "plot_zscore_mean = True  # Enable to see plots\n",
    "f_limits = [8, 24]  # Frequency limits for the plots [min, max][Hz]\n",
    "file_to_plot = 0    # Select index of file to be plotted\n",
    "\n",
    "if plot_zscore_mean:\n",
    "    # Get the stimulus labels\n",
    "    stim_labels = list(eeg_zscore_mean_pxx[file_to_plot].keys())\n",
    "    num_stimuli = len(stim_labels)  # Number of stimuli\n",
    "\n",
    "    # Create subplots\n",
    "    fig, axes = plt.subplots(3, 4, figsize=(15, 10))  # 3 rows, 4 columns\n",
    "    fig.suptitle(f'Mean Z-scores for All Stimuli in File: {files[file_to_plot]}')\n",
    "    axes = axes.flatten()\n",
    "\n",
    "    for stim_idx, stim_label in enumerate(stim_labels):\n",
    "        # Get the frequency values for the current stimulus\n",
    "        freqs = eeg_f[file_to_plot][stim_label][0]  # Assuming all epochs have the same frequency values\n",
    "\n",
    "        # Get the mean z-scores for the current stimulus\n",
    "        zscore_mean_values = eeg_zscore_mean_pxx[file_to_plot][stim_label]  # Shape: (freqs,)\n",
    "\n",
    "        # Plot the mean Z-score for the current stimulus\n",
    "        axes[stim_idx].plot(freqs, zscore_mean_values, label=f'{stim_label}')\n",
    "        axes[stim_idx].set_xlim(f_limits)\n",
    "        axes[stim_idx].set_ylim(-5, 10)\n",
    "        axes[stim_idx].set_title(f'Stimulus: {stim_label}')\n",
    "        axes[stim_idx].set_xlabel('Frequency (Hz)')\n",
    "        axes[stim_idx].set_ylabel('Z-score')\n",
    "        axes[stim_idx].grid(True)\n",
    "        axes[stim_idx].legend()\n",
    "\n",
    "    # Adjust layout\n",
    "    plt.tight_layout(rect=[0, 0, 1, 0.96])\n",
    "    plt.show()"
   ]
  },
  {
   "cell_type": "markdown",
   "metadata": {},
   "source": [
    "# Get Averaged Z Score at 10 and 20 Hz"
   ]
  },
  {
   "cell_type": "code",
   "execution_count": 9,
   "metadata": {},
   "outputs": [],
   "source": [
    "# Create a mask for both 10 Hz and 20 Hz\n",
    "fmask = (freqs == 10.0) | (freqs == 20.0)\n",
    "\n",
    "ten_twenty_mean_zscores = [None] * len(files)\n",
    "\n",
    "for f, file in enumerate(files):\n",
    "    ten_twenty_mean_zscores[f] = {}\n",
    "\n",
    "    # Compute filtered mean Z scores for each stimulus\n",
    "    for stim_label in eeg_zscore_mean_pxx[f].keys():\n",
    "        zscores = eeg_zscore_mean_pxx[f][stim_label]\n",
    "\n",
    "        # Use the mask to get values at 10 Hz and 20 Hz\n",
    "        selected = zscores[fmask]\n",
    "\n",
    "        # Store as a list or tuple\n",
    "        ten_twenty_mean_zscores[f][stim_label] = selected.tolist()\n"
   ]
  },
  {
   "cell_type": "markdown",
   "metadata": {},
   "source": [
    "# Export Z scores\n",
    "Does not export for all participants"
   ]
  },
  {
   "cell_type": "code",
   "execution_count": 10,
   "metadata": {},
   "outputs": [],
   "source": [
    "save_zscore = True  # Set to True to save the z-scores to a CSV file\n",
    "\n",
    "if save_zscore:\n",
    "    stimuli = ten_twenty_mean_zscores[0].keys()\n",
    "\n",
    "    mean_zscores = {stim: [[], []] for stim in stimuli}  # index 0 = 10Hz, 1 = 20Hz\n",
    "\n",
    "    for f in range(len(ten_twenty_mean_zscores)):\n",
    "        for stim in stimuli:\n",
    "            mean_zscores[stim][0].append(ten_twenty_mean_zscores[f][stim][0])  # 10 Hz\n",
    "            mean_zscores[stim][1].append(ten_twenty_mean_zscores[f][stim][1])  # 20 Hz\n",
    "\n",
    "    df = pd.DataFrame([\n",
    "        [stim for stim in mean_zscores.keys()],\n",
    "        [mean_zscores[stim][0][0] for stim in mean_zscores.keys()],  # 10 Hz\n",
    "        [mean_zscores[stim][1][0] for stim in mean_zscores.keys()]   # 20 Hz\n",
    "    ])\n",
    "\n",
    "    df.index = ['Stimulus', '10Hz', '20Hz']\n",
    "\n",
    "    # Save to CSV\n",
    "    df.to_csv('Data\\\\Pilot-Data\\\\EEG\\\\sub-P010\\\\zscores_P010.csv', index=False, header=False)"
   ]
  }
 ],
 "metadata": {
  "kernelspec": {
   "display_name": "bessy",
   "language": "python",
   "name": "python3"
  },
  "language_info": {
   "codemirror_mode": {
    "name": "ipython",
    "version": 3
   },
   "file_extension": ".py",
   "mimetype": "text/x-python",
   "name": "python",
   "nbconvert_exporter": "python",
   "pygments_lexer": "ipython3",
   "version": "3.13.2"
  }
 },
 "nbformat": 4,
 "nbformat_minor": 2
}

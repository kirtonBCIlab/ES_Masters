{
 "cells": [
  {
   "cell_type": "markdown",
   "metadata": {},
   "source": [
    "# Compute PSD, SNR, and Z-Score of Pilot Data\n",
    "\n",
    "## Goals:\n",
    "1. **Data Import**\n",
    "    - Import the preprocessed data from npz and json files\n",
    "\n",
    "2. **Feature Extraction**\n",
    "    - Calculate the Power Spectral Density (PSD) for each epoch.\n",
    "    - Calculate the Signal-to-Noise Ratio (SNR) for each epoch (for use in stats)\n",
    "    - Calculate the Z-score for each epoch (used to determine signal cutoff):\n",
    "        * **Formula**:   PSD Z-score = (PSD(single trial) - Mean PSD of baseline trials) / Std PSD of baseline trials\n",
    "        \n",
    "3. **Data Formatting**\n",
    "    - Save the data and export to an excel sheet\n",
    "        * Get the average of all epochs for each unique stimulus"
   ]
  },
  {
   "cell_type": "markdown",
   "metadata": {},
   "source": [
    "# Import Libraries"
   ]
  },
  {
   "cell_type": "code",
   "execution_count": 1,
   "metadata": {},
   "outputs": [],
   "source": [
    "# Standard libraries\n",
    "import json\n",
    "import numpy as np\n",
    "import pandas as pd\n",
    "import scipy.signal as signal\n",
    "import matplotlib.pyplot as plt\n",
    "\n",
    "# Custom libraries\n",
    "from Functions import processing\n",
    "\n",
    "%matplotlib qt"
   ]
  },
  {
   "cell_type": "markdown",
   "metadata": {},
   "source": [
    "# Import Epoched Data and Settings"
   ]
  },
  {
   "cell_type": "code",
   "execution_count": 2,
   "metadata": {},
   "outputs": [],
   "source": [
    "# Load list of files to import\n",
    "files = [  \n",
    "    \"sub-P001_ses-S001_task-T1_run-001_eeg\"   \n",
    "]\n",
    "\n",
    "# Get unique subject IDs\n",
    "subject_ids = [file.split('_')[0] for file in files]\n",
    "unique_subject_ids = list(set(subject_ids))\n",
    "\n",
    "# Preallocate variables to store EEG data and settings\n",
    "eeg_epochs = [None] * len(files)\n",
    "settings = [None] * len(files)\n",
    "npy_data = [None] * len(files)\n",
    "\n",
    "# Import data\n",
    "for f, file in enumerate(files):\n",
    "    # Import EEG data, since it is stored in a compressed numpy file (.npz) we need to use the np.load function \n",
    "    loaded_data = np.load(f\"Data\\\\Masters_testing\\\\{file}.npz\", allow_pickle=True)\n",
    "\n",
    "    # Access the data for each stimulus\n",
    "    eeg_epochs[f] = {stim_label: loaded_data[stim_label] for stim_label in loaded_data.files}\n",
    "\n",
    "    # Import settings\n",
    "    with open(f\"Data\\\\Masters_testing\\\\{file}.json\", \"r\") as file_object:\n",
    "        settings[f] = json.load(file_object)\n",
    "\n",
    "    # Import npy data\n",
    "    npy_data[f] = np.load(f\"Data\\\\Masters_testing\\\\{file}.npy\", allow_pickle=True)"
   ]
  },
  {
   "cell_type": "markdown",
   "metadata": {},
   "source": [
    "# Compute PSD for all Epochs\n",
    "\n",
    "Make sure to include baseline epochs for later calculation of Z-score\n",
    "Compute PSD for every epoch (and average for repeated labels after)"
   ]
  },
  {
   "cell_type": "code",
   "execution_count": 3,
   "metadata": {},
   "outputs": [
    {
     "name": "stdout",
     "output_type": "stream",
     "text": [
      "File: sub-P001_ses-S001_task-T1_run-001_eeg\n",
      "  Stimulus: Contrast1Size1, PSD shape: (2, 13, 1281)\n",
      "  Stimulus: Contrast1Size2, PSD shape: (2, 13, 1281)\n",
      "  Stimulus: Contrast1Size3, PSD shape: (2, 13, 1281)\n",
      "  Stimulus: Contrast2Size1, PSD shape: (3, 13, 1281)\n",
      "  Stimulus: Contrast2Size2, PSD shape: (4, 13, 1281)\n",
      "  Stimulus: Contrast2Size3, PSD shape: (3, 13, 1281)\n",
      "  Stimulus: Contrast3Size1, PSD shape: (3, 13, 1281)\n",
      "  Stimulus: Contrast3Size2, PSD shape: (3, 13, 1281)\n",
      "  Stimulus: Contrast3Size3, PSD shape: (4, 13, 1281)\n",
      "  Stimulus: Contrast4Size1, PSD shape: (5, 13, 1281)\n",
      "  Stimulus: Contrast4Size2, PSD shape: (3, 13, 1281)\n",
      "  Stimulus: Contrast4Size3, PSD shape: (6, 13, 1281)\n"
     ]
    }
   ],
   "source": [
    "# PSD settings\n",
    "window_size = 10  # Length of window for PSD [sec], gives a frequency resolution of 0.5 Hz so I will get a psd value for every 0.5 Hz\n",
    "\n",
    "# Preallocate variables\n",
    "eeg_f = [None] * len(files)\n",
    "eeg_pxx = [None] * len(files)  # Preallocate to list in case not all files have the same number of channels\n",
    "\n",
    "# Compute PSD for each file\n",
    "for f, file in enumerate(files):\n",
    "    # Preallocate lists to store PSD results for each stimulus\n",
    "    eeg_f[f] = {}\n",
    "    eeg_pxx[f] = {}\n",
    "\n",
    "    # Compute PSD for each stimulus\n",
    "    for stim_label, epochs in eeg_epochs[f].items():\n",
    "        # Preallocate lists to store PSD results for each epoch\n",
    "        eeg_f[f][stim_label] = []\n",
    "        eeg_pxx[f][stim_label] = []\n",
    "\n",
    "        # Compute PSD for each epoch\n",
    "        for epoch in epochs:\n",
    "            f_values, pxx_values = signal.welch(\n",
    "                x=epoch,\n",
    "                fs=settings[f][\"eeg_srate\"],\n",
    "                nperseg=window_size * settings[f][\"eeg_srate\"]\n",
    "            )\n",
    "            eeg_f[f][stim_label].append(f_values)\n",
    "            eeg_pxx[f][stim_label].append(pxx_values)\n",
    "\n",
    "        # Convert lists to arrays for consistency\n",
    "        eeg_f[f][stim_label] = np.array(eeg_f[f][stim_label])\n",
    "        eeg_pxx[f][stim_label] = np.array(eeg_pxx[f][stim_label])\n",
    "\n",
    "# Print the shape of the PSD results for each stimulus\n",
    "for f, file in enumerate(files):\n",
    "    print(f\"File: {file}\")\n",
    "    for stim_label in eeg_f[f].keys():\n",
    "        print(f\"  Stimulus: {stim_label}, PSD shape: {eeg_pxx[f][stim_label].shape}\")"
   ]
  },
  {
   "cell_type": "markdown",
   "metadata": {},
   "source": [
    "# Compute PSD for Resting State (Eyes Open)"
   ]
  },
  {
   "cell_type": "code",
   "execution_count": 4,
   "metadata": {},
   "outputs": [
    {
     "name": "stdout",
     "output_type": "stream",
     "text": [
      "File: sub-P001_ses-S001_task-T1_run-001_eeg\n",
      "NPY data PSD shape: (1, 1, 13, 1281)\n"
     ]
    }
   ],
   "source": [
    "npy_f = [None] * len(files)\n",
    "npy_pxx = [None] * len(files)\n",
    "\n",
    "for f, file in enumerate(files):\n",
    "# Compute PSD for npy_data\n",
    "    npy_f[f] = []\n",
    "    npy_pxx[f] = []\n",
    "    for epoch in npy_data[f]:\n",
    "        f_values, pxx_values = signal.welch(\n",
    "            x=epoch,\n",
    "            fs=settings[f][\"eeg_srate\"],\n",
    "            nperseg=window_size * settings[f][\"eeg_srate\"]\n",
    "        )\n",
    "        npy_f[f].append(f_values)\n",
    "        npy_pxx[f].append(pxx_values)\n",
    "\n",
    "    # Convert lists to arrays for consistency\n",
    "    npy_f[f] = np.array(npy_f[f])\n",
    "    npy_pxx[f] = np.array(npy_pxx[f])\n",
    "\n",
    "# Print the shape of the PSD results for each stimulus\n",
    "for f, file in enumerate(files):\n",
    "    print(f\"File: {file}\")\n",
    "    print(f\"NPY data PSD shape: {npy_pxx[f].shape}\")"
   ]
  },
  {
   "cell_type": "markdown",
   "metadata": {},
   "source": [
    "# Visualize PSD"
   ]
  },
  {
   "cell_type": "code",
   "execution_count": 5,
   "metadata": {},
   "outputs": [],
   "source": [
    "import matplotlib.pyplot as plt\n",
    "\n",
    "# Plot settings\n",
    "plot_psd = True   # Enable to see plots\n",
    "f_limits = [4, 35]  # Frequency limits for the plots [min, max][Hz]\n",
    "file_to_plot = 0    # Select index of file to be plotted \n",
    "stimulus_index = 2  # Select index of stimulus to be plotted\n",
    "\n",
    "if plot_psd:\n",
    "    # Get the stimulus label by index\n",
    "    stim_label = list(eeg_f[file_to_plot].keys())[stimulus_index]\n",
    "    \n",
    "    # Mask for frequency limits\n",
    "    fmask = (eeg_f[file_to_plot][stim_label][0] >= f_limits[0]) & (eeg_f[file_to_plot][stim_label][0] <= f_limits[1])\n",
    "    temp_freq = eeg_f[file_to_plot][stim_label][0][fmask]\n",
    "\n",
    "    # Number of epochs\n",
    "    num_epochs = len(eeg_pxx[file_to_plot][stim_label])\n",
    "\n",
    "    # Create subplots dynamically based on the number of epochs plus one for the average\n",
    "    fig, ax = plt.subplots(num_epochs + 1, 1, figsize=(10, 3 * (num_epochs + 1)))\n",
    "    fig.suptitle(f'PSD for Stimulus: {stim_label} in File: {files[file_to_plot]}')\n",
    "\n",
    "    # Plot PSD for each epoch\n",
    "    for epoch_idx in range(num_epochs):\n",
    "        temp_mean = np.mean(eeg_pxx[file_to_plot][stim_label][epoch_idx], axis=0)[fmask]\n",
    "        temp_sd = np.std(eeg_pxx[file_to_plot][stim_label][epoch_idx], axis=0)[fmask]\n",
    "\n",
    "        ax[epoch_idx].plot(temp_freq, temp_mean, '-')\n",
    "        #ax[epoch_idx].fill_between(temp_freq, temp_mean - temp_sd, temp_mean + temp_sd, alpha=0.3)\n",
    "        ax[epoch_idx].set_title(f'Epoch {epoch_idx + 1}')\n",
    "        ax[epoch_idx].set_xlim(f_limits)\n",
    "        ax[epoch_idx].set_ylabel(\"PXX [$\\mu$V$^2$/Hz]\")\n",
    "        if epoch_idx == num_epochs - 1:\n",
    "            ax[epoch_idx].set_xlabel(\"Frequency [Hz]\")\n",
    "        # Add vertical lines\n",
    "        for x in [5, 10, 20, 30]:\n",
    "            ax[epoch_idx].axvline(x=x, color='r', linestyle='--')\n",
    "        ax[epoch_idx].axvline(x=12, color='g', linestyle='--')\n",
    "        ax[epoch_idx].axvline(x=11, color='pink', linestyle='--')\n",
    "        ax[epoch_idx].axvline(x=11.5, color='orange', linestyle='--')\n",
    "\n",
    "\n",
    "\n",
    "    # Plot average PSD across all epochs\n",
    "    avg_pxx = np.mean(eeg_pxx[file_to_plot][stim_label], axis=0)\n",
    "    avg_mean = np.mean(avg_pxx, axis=0)[fmask]\n",
    "    avg_sd = np.std(avg_pxx, axis=0)[fmask]\n",
    "\n",
    "    ax[num_epochs].plot(temp_freq, avg_mean, '-')\n",
    "    #ax[num_epochs].fill_between(temp_freq, avg_mean - avg_sd, avg_mean + avg_sd, alpha=0.3)\n",
    "    ax[num_epochs].set_title('Average PSD across all epochs')\n",
    "    ax[num_epochs].set_xlim(f_limits)\n",
    "    ax[num_epochs].set_ylabel(\"PXX [$\\mu$V$^2$/Hz]\")\n",
    "    ax[num_epochs].set_xlabel(\"Frequency [Hz]\")\n",
    "    # Add vertical lines\n",
    "    for x in [5, 10, 20, 30]:\n",
    "        ax[num_epochs].axvline(x=x, color='r', linestyle='--')\n",
    "    ax[num_epochs].axvline(x=12, color='g', linestyle='--')\n",
    "    ax[num_epochs].axvline(x=11, color='pink', linestyle='--')\n",
    "    ax[num_epochs].axvline(x=11.5, color='orange', linestyle='--')\n",
    "\n",
    "\n",
    "\n",
    "    plt.tight_layout(rect=[0, 0, 1, 0.96])\n",
    "    plt.show()"
   ]
  },
  {
   "cell_type": "markdown",
   "metadata": {},
   "source": [
    "# Visualize PSD for Resting"
   ]
  },
  {
   "cell_type": "code",
   "execution_count": 6,
   "metadata": {},
   "outputs": [],
   "source": [
    "# Visualization settings\n",
    "plot_psd = True   # Enable to see plots\n",
    "f_limits = [4, 35]  # Frequency limits for the plots [min, max][Hz]\n",
    "file_to_plot = 0    # Select index of file to be plotted \n",
    "\n",
    "if plot_psd:\n",
    "    # Plot NPY data PSD\n",
    "    fig, ax = plt.subplots(1, 1, figsize=(10, 3))\n",
    "    fig.suptitle(f'PSD for Resting State Eyes Open Data in File: {files[file_to_plot]}')\n",
    "\n",
    "    # Mask for frequency limits\n",
    "    fmask = (npy_f[file_to_plot][0] >= f_limits[0]) & (npy_f[file_to_plot][0] <= f_limits[1])\n",
    "    temp_freq = npy_f[file_to_plot][0][fmask]\n",
    "\n",
    "    # Compute mean and standard deviation for the single epoch\n",
    "    temp_mean = np.mean(npy_pxx[file_to_plot][0][0], axis=0)[fmask]\n",
    "    temp_sd = np.std(npy_pxx[file_to_plot][0][0], axis=0)[fmask]\n",
    "\n",
    "    ax.plot(temp_freq, temp_mean, '-')\n",
    "    ax.set_title('Resting State Eyes Open PSD')\n",
    "    ax.set_xlim(f_limits)\n",
    "    ax.set_ylabel(\"PXX [$\\mu$V$^2$/Hz]\")\n",
    "    ax.set_xlabel(\"Frequency [Hz]\")\n",
    "    ax.axvline(x=16, color='g', linestyle='-')\n",
    "\n",
    "    plt.tight_layout(rect=[0, 0, 1, 0.96])\n",
    "    plt.show()"
   ]
  },
  {
   "cell_type": "markdown",
   "metadata": {},
   "source": [
    "# Compute SNR for all Epochs\n"
   ]
  },
  {
   "cell_type": "markdown",
   "metadata": {},
   "source": [
    "# Compute Z-score for all Epochs"
   ]
  },
  {
   "cell_type": "markdown",
   "metadata": {},
   "source": [
    "# Save Data"
   ]
  }
 ],
 "metadata": {
  "kernelspec": {
   "display_name": "bci",
   "language": "python",
   "name": "python3"
  },
  "language_info": {
   "codemirror_mode": {
    "name": "ipython",
    "version": 3
   },
   "file_extension": ".py",
   "mimetype": "text/x-python",
   "name": "python",
   "nbconvert_exporter": "python",
   "pygments_lexer": "ipython3",
   "version": "3.10.14"
  }
 },
 "nbformat": 4,
 "nbformat_minor": 2
}

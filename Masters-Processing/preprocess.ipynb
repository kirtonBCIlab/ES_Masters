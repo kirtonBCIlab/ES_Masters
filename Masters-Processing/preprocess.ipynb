{
 "cells": [
  {
   "cell_type": "markdown",
   "metadata": {},
   "source": [
    "# Preprocess Pilot Data \n",
    "\n",
    "## Goals:\n",
    "\n",
    "1. **Data Import**\n",
    "    - Import EEG data into MNE object.\n",
    "\n",
    "2. **Preprocessing**\n",
    "    - Preprocess the EEG data.\n",
    "        * Bandpass filter\n",
    "        * ICA\n",
    "        * Autoreject bad channels\n",
    "    - Epoch data based on stimulus appearance.\n",
    "    \n",
    "3. **Export Data**\n",
    "    - Save organized epochs to an npz file\n",
    "    - Save preprocessing settings to a json file\n",
    "    \n",
    "Want to make this as light as possible so only a few tweaks need to be made to run this in real-time"
   ]
  },
  {
   "cell_type": "markdown",
   "metadata": {},
   "source": [
    "# Import Libraries"
   ]
  },
  {
   "cell_type": "code",
   "execution_count": 1,
   "metadata": {},
   "outputs": [],
   "source": [
    "# Import libraries\n",
    "import mne\n",
    "from mne.preprocessing import ICA\n",
    "from autoreject import Ransac \n",
    "import json\n",
    "import numpy as np\n",
    "import matplotlib.pyplot as plt\n",
    "\n",
    "# Import custom scripts\n",
    "from Functions import import_data\n",
    "from Functions import data_tools\n",
    "\n",
    "# Enable interactive plots\n",
    "%matplotlib qt"
   ]
  },
  {
   "cell_type": "markdown",
   "metadata": {},
   "source": [
    "# Import Data\n",
    "\n",
    "Import EEG data\n",
    "- Set channel names\n",
    "    * **For P001, fix and update channel names**\n",
    "- Create an mne raw object\n",
    "- Set MNE channel montage\n"
   ]
  },
  {
   "cell_type": "code",
   "execution_count": 2,
   "metadata": {},
   "outputs": [
    {
     "name": "stdout",
     "output_type": "stream",
     "text": [
      "Creating RawArray with float64 data, n_channels=16, n_times=331520\n",
      "    Range : 0 ... 331519 =      0.000 ...  1294.996 secs\n",
      "Ready.\n"
     ]
    },
    {
     "data": {
      "text/html": [
       "<details open>\n",
       "    <summary><strong>General</strong></summary>\n",
       "    <table class=\"table table-hover table-striped table-sm table-responsive small\">\n",
       "        <tr>\n",
       "            <th>Measurement date</th>\n",
       "            \n",
       "            <td>Unknown</td>\n",
       "            \n",
       "        </tr>\n",
       "        <tr>\n",
       "            <th>Experimenter</th>\n",
       "            \n",
       "            <td>Unknown</td>\n",
       "            \n",
       "        </tr>\n",
       "        <tr>\n",
       "            <th>Participant</th>\n",
       "            \n",
       "            <td>Unknown</td>\n",
       "            \n",
       "        </tr>\n",
       "    </table>\n",
       "    </details>\n",
       "    <details open>\n",
       "        <summary><strong>Channels</strong></summary>\n",
       "        <table class=\"table table-hover table-striped table-sm table-responsive small\">\n",
       "            <tr>\n",
       "                <th>Digitized points</th>\n",
       "                \n",
       "                <td>19 points</td>\n",
       "                \n",
       "            </tr>\n",
       "            <tr>\n",
       "                <th>Good channels</th>\n",
       "                <td>16 EEG</td>\n",
       "            </tr>\n",
       "            <tr>\n",
       "                <th>Bad channels</th>\n",
       "                <td>None</td>\n",
       "            </tr>\n",
       "            <tr>\n",
       "                <th>EOG channels</th>\n",
       "                <td>Not available</td>\n",
       "            </tr>\n",
       "            <tr>\n",
       "                <th>ECG channels</th>\n",
       "                <td>Not available</td>\n",
       "            </tr>\n",
       "        </table>\n",
       "        </details>\n",
       "        <details open>\n",
       "            <summary><strong>Data</strong></summary>\n",
       "            <table class=\"table table-hover table-striped table-sm table-responsive small\">\n",
       "                \n",
       "                <tr>\n",
       "                    <th>Sampling frequency</th>\n",
       "                    <td>256.00 Hz</td>\n",
       "                </tr>\n",
       "                \n",
       "                \n",
       "                <tr>\n",
       "                    <th>Highpass</th>\n",
       "                    <td>0.00 Hz</td>\n",
       "                </tr>\n",
       "                \n",
       "                \n",
       "                <tr>\n",
       "                    <th>Lowpass</th>\n",
       "                    <td>128.00 Hz</td>\n",
       "                </tr>\n",
       "                \n",
       "                \n",
       "                \n",
       "                \n",
       "                <tr>\n",
       "                    <th>Duration</th>\n",
       "                    <td>00:21:35 (HH:MM:SS)</td>\n",
       "                </tr>\n",
       "                \n",
       "            </table>\n",
       "            </details>"
      ],
      "text/plain": [
       "<RawArray | 16 x 331520 (1295.0 s), ~40.5 MB, data loaded>"
      ]
     },
     "execution_count": 2,
     "metadata": {},
     "output_type": "execute_result"
    }
   ],
   "source": [
    "# import EEG data and fill settings\n",
    "file_name = \"Masters_testing/sub-P001_ses-S001_task-T1_run-001_eeg.xdf\"\n",
    "ch_names = [\"Fp1\", \"Af3\", \"Fz\", \"C3\", \"C4\", \"Cp1\", \"Cp4\", \"Tp8\", \"P5\", \"P1\", \"PO7\", \"POz\", \"PO8\", \"O1\", \"Oz\", \"O2\"]\n",
    "\n",
    "[eeg_ts, eeg_data, eeg_fs] = import_data.read_xdf(f\"Data\\\\{file_name}\", picks=ch_names)\n",
    "\n",
    "# Create MNE array\n",
    "info = mne.create_info(ch_names, eeg_fs, ch_types = 'eeg')  # Create info properties\n",
    "mne_raw = mne.io.RawArray(eeg_data, info = info)            \n",
    "\n",
    "# Fix mis-named channels for P001\n",
    "fixed_channels = {\"Af3\": \"AF3\", \"Cp1\": \"CP1\", \"Cp4\": \"CP4\", \"Tp8\": \"TP8\"}\n",
    "mne_raw.rename_channels(fixed_channels)\n",
    "updated_ch_names =  [\"Fp1\", \"AF3\", \"Fz\", \"C3\", \"C4\", \"CP1\", \"CP4\", \"TP8\", \"P5\", \"P1\", \"PO7\", \"POz\", \"PO8\", \"O1\", \"Oz\", \"O2\"]\n",
    "\n",
    "# TEMP for misnamed channels\n",
    "ch_names = updated_ch_names\n",
    "\n",
    "# Set standard channel montage\n",
    "mne_raw.set_montage('standard_1020')  \n",
    "\n",
    "# Plot raw data\n",
    "#mne_raw.plot(title=\"RAW data\")   "
   ]
  },
  {
   "cell_type": "markdown",
   "metadata": {},
   "source": [
    "## Bandpass Filter Data\n",
    "\n",
    "Stimulation frequency is 10 Hz, so filter between 0.5 Hz (highpass) and 15 Hz (lowpass)"
   ]
  },
  {
   "cell_type": "code",
   "execution_count": 3,
   "metadata": {},
   "outputs": [
    {
     "name": "stdout",
     "output_type": "stream",
     "text": [
      "Filtering raw data in 1 contiguous segment\n",
      "Setting up band-pass filter from 0.5 - 25 Hz\n",
      "\n",
      "FIR filter parameters\n",
      "---------------------\n",
      "Designing a one-pass, zero-phase, non-causal bandpass filter:\n",
      "- Windowed time-domain design (firwin) method\n",
      "- Hamming window with 0.0194 passband ripple and 53 dB stopband attenuation\n",
      "- Lower passband edge: 0.50\n",
      "- Lower transition bandwidth: 0.50 Hz (-6 dB cutoff frequency: 0.25 Hz)\n",
      "- Upper passband edge: 25.00 Hz\n",
      "- Upper transition bandwidth: 6.25 Hz (-6 dB cutoff frequency: 28.12 Hz)\n",
      "- Filter length: 1691 samples (6.605 s)\n",
      "\n"
     ]
    }
   ],
   "source": [
    "# Settings\n",
    "hpf_fc = 0.5    # High-pass cut-off frequency: list[Hz]\n",
    "lpf_fc = 25     # Low-pass cut-off frequency: list[Hz]\n",
    "\n",
    "# Apply bandpass filter\n",
    "filt_raw = mne_raw.copy().filter(l_freq=hpf_fc, h_freq=lpf_fc, picks=updated_ch_names)\n",
    "\n",
    "# Plot filtered data\n",
    "#filt_raw.plot()"
   ]
  },
  {
   "cell_type": "markdown",
   "metadata": {},
   "source": [
    "# ICA\n",
    "Perform ICA on the high-pass filtered data and manually select the components to be removed. A tutorial for the `MNE` ICA processing can be found [here](https://mne.tools/stable/auto_tutorials/preprocessing/40_artifact_correction_ica.html).\n",
    "\n",
    "Copmute the variance of each ICA component\n",
    "- Reject the component if its variance is greater than 50%"
   ]
  },
  {
   "cell_type": "code",
   "execution_count": 4,
   "metadata": {},
   "outputs": [
    {
     "name": "stdout",
     "output_type": "stream",
     "text": [
      "Fitting ICA to data using 16 channels (please be patient, this may take a while)\n",
      "Selecting by number: 16 components\n",
      "Fitting ICA took 3.1s.\n",
      "Variance explained\n",
      "- Component 0: variance = 81% (BAD)\n",
      "- Component 0: variance = 81%\n",
      "- Component 1: variance = 13%\n",
      "- Component 2: variance = 1%\n",
      "- Component 3: variance = 2%\n",
      "- Component 4: variance = 0%\n",
      "- Component 5: variance = 1%\n",
      "- Component 6: variance = 0%\n",
      "- Component 7: variance = 0%\n",
      "- Component 8: variance = 0%\n",
      "Applying ICA to Raw instance\n",
      "    Transforming to ICA space (16 components)\n",
      "    Zeroing out 1 ICA component\n",
      "    Projecting back using 16 PCA components\n"
     ]
    },
    {
     "data": {
      "text/html": [
       "<details open>\n",
       "    <summary><strong>General</strong></summary>\n",
       "    <table class=\"table table-hover table-striped table-sm table-responsive small\">\n",
       "        <tr>\n",
       "            <th>Measurement date</th>\n",
       "            \n",
       "            <td>Unknown</td>\n",
       "            \n",
       "        </tr>\n",
       "        <tr>\n",
       "            <th>Experimenter</th>\n",
       "            \n",
       "            <td>Unknown</td>\n",
       "            \n",
       "        </tr>\n",
       "        <tr>\n",
       "            <th>Participant</th>\n",
       "            \n",
       "            <td>Unknown</td>\n",
       "            \n",
       "        </tr>\n",
       "    </table>\n",
       "    </details>\n",
       "    <details open>\n",
       "        <summary><strong>Channels</strong></summary>\n",
       "        <table class=\"table table-hover table-striped table-sm table-responsive small\">\n",
       "            <tr>\n",
       "                <th>Digitized points</th>\n",
       "                \n",
       "                <td>19 points</td>\n",
       "                \n",
       "            </tr>\n",
       "            <tr>\n",
       "                <th>Good channels</th>\n",
       "                <td>16 EEG</td>\n",
       "            </tr>\n",
       "            <tr>\n",
       "                <th>Bad channels</th>\n",
       "                <td>None</td>\n",
       "            </tr>\n",
       "            <tr>\n",
       "                <th>EOG channels</th>\n",
       "                <td>Not available</td>\n",
       "            </tr>\n",
       "            <tr>\n",
       "                <th>ECG channels</th>\n",
       "                <td>Not available</td>\n",
       "            </tr>\n",
       "        </table>\n",
       "        </details>\n",
       "        <details open>\n",
       "            <summary><strong>Data</strong></summary>\n",
       "            <table class=\"table table-hover table-striped table-sm table-responsive small\">\n",
       "                \n",
       "                <tr>\n",
       "                    <th>Sampling frequency</th>\n",
       "                    <td>256.00 Hz</td>\n",
       "                </tr>\n",
       "                \n",
       "                \n",
       "                <tr>\n",
       "                    <th>Highpass</th>\n",
       "                    <td>0.50 Hz</td>\n",
       "                </tr>\n",
       "                \n",
       "                \n",
       "                <tr>\n",
       "                    <th>Lowpass</th>\n",
       "                    <td>25.00 Hz</td>\n",
       "                </tr>\n",
       "                \n",
       "                \n",
       "                \n",
       "                \n",
       "                <tr>\n",
       "                    <th>Duration</th>\n",
       "                    <td>00:21:35 (HH:MM:SS)</td>\n",
       "                </tr>\n",
       "                \n",
       "            </table>\n",
       "            </details>"
      ],
      "text/plain": [
       "<RawArray | 16 x 331520 (1295.0 s), ~40.5 MB, data loaded>"
      ]
     },
     "execution_count": 4,
     "metadata": {},
     "output_type": "execute_result"
    }
   ],
   "source": [
    "# Settings\n",
    "n_components = len(filt_raw.ch_names)   # Number of components for ICA [n]\n",
    "random_state = 97                       # Random state for reproducible results\n",
    "max_iter = \"auto\"                       # Max number of iterations\n",
    "ch_properties = [0,1,2,3,4,5,6,7,8]     # Channels to inspect list[int]\n",
    "bad_components = []                     # Components to remove list[int]\n",
    "\n",
    "# Create and apply ICA\n",
    "ica = ICA(\n",
    "    n_components = n_components,\n",
    "    max_iter = max_iter,\n",
    "    random_state = random_state\n",
    "    )\n",
    "\n",
    "ica.fit(filt_raw, picks = updated_ch_names)\n",
    "ica\n",
    "\n",
    "# Plot ICA components on interactive plot\n",
    "#ica.plot_components()\n",
    "\n",
    "# Plot ICA properties\n",
    "#ica.plot_properties(filt_raw, picks = ch_properties, verbose = False)\n",
    "\n",
    "# Compute amount of variance explained by each component to inspect\n",
    "print(\"Variance explained\")\n",
    "for component in ch_properties:\n",
    "    explained_var_ratio = ica.get_explained_variance_ratio(\n",
    "        filt_raw, \n",
    "        components=component,\n",
    "        ch_type=\"eeg\"\n",
    "    )\n",
    "    \n",
    "    ratio_percent = round(100 * explained_var_ratio[\"eeg\"])\n",
    "    if ratio_percent > 50:\n",
    "        bad_components.append(component)\n",
    "        print(f\"- Component {component}: variance = {ratio_percent}% (BAD)\")\n",
    "    print(f\"- Component {component}: variance = {ratio_percent}%\")\n",
    "\n",
    "# Remove components\n",
    "ica_raw = filt_raw.copy()\n",
    "ica.exclude = bad_components\n",
    "ica_exclude = bad_components\n",
    "ica.apply(ica_raw)\n",
    "\n",
    "# Plot before and after ICA to compare\n",
    "#filt_raw.plot(title=\"BPF before ICA\")\n",
    "#ica_raw.plot(title=\"BPF after ICA\")"
   ]
  },
  {
   "cell_type": "markdown",
   "metadata": {},
   "source": [
    "# Automatically Detect Bad Channels\n",
    "Using RANSAC bad channel detection built into `MNE` [link here](https://autoreject.github.io/stable/auto_examples/plot_ransac.html).\n",
    "- Create RANSAC model\n",
    "    * min_cor: Minimum correlation between channels to be considered as a good channel\n",
    "    * n_resample: Number of resamples to use for RANSAC\n",
    "    * min_channels: Minimum number of channels to be considered as a good channel\n",
    "- Create 2 second epochs of whole timeseries EEG data\n",
    "- Fit RANSAC model\n",
    "    * Get the identified bad channels and remove them\n",
    "    * Plot epoch averages before and after bad channel removal"
   ]
  },
  {
   "cell_type": "code",
   "execution_count": 5,
   "metadata": {},
   "outputs": [
    {
     "name": "stdout",
     "output_type": "stream",
     "text": [
      "Not setting metadata\n",
      "863 matching events found\n",
      "No baseline correction applied\n",
      "0 projection items activated\n",
      "Using data from preloaded Raw for 863 events and 512 original time points ...\n",
      "0 bad epochs dropped\n"
     ]
    },
    {
     "data": {
      "application/vnd.jupyter.widget-view+json": {
       "model_id": "ee6620929d9e41608e6b416b07008ee0",
       "version_major": 2,
       "version_minor": 0
      },
      "text/plain": [
       "  0%|          | interpolating channels : 0/100 [00:00<?,       ?it/s]"
      ]
     },
     "metadata": {},
     "output_type": "display_data"
    },
    {
     "name": "stderr",
     "output_type": "stream",
     "text": [
      "[Parallel(n_jobs=1)]: Done   1 tasks      | elapsed:    0.1s\n",
      "[Parallel(n_jobs=1)]: Done   1 tasks      | elapsed:    0.1s\n"
     ]
    },
    {
     "data": {
      "application/vnd.jupyter.widget-view+json": {
       "model_id": "c1713c9ada34447a977c686ded23f704",
       "version_major": 2,
       "version_minor": 0
      },
      "text/plain": [
       "  0%|          | Iterating epochs : 0/863 [00:00<?,       ?it/s]"
      ]
     },
     "metadata": {},
     "output_type": "display_data"
    },
    {
     "name": "stderr",
     "output_type": "stream",
     "text": [
      "[Parallel(n_jobs=1)]: Done   1 tasks      | elapsed:   15.7s\n",
      "[Parallel(n_jobs=1)]: Done   1 tasks      | elapsed:   15.7s\n"
     ]
    },
    {
     "name": "stdout",
     "output_type": "stream",
     "text": [
      "[Done]\n",
      "Bad channels detected by RANSAC:\n",
      "C4\n",
      "CP4\n",
      "TP8\n",
      "Not setting metadata\n",
      "863 matching events found\n",
      "No baseline correction applied\n",
      "0 projection items activated\n",
      "Using data from preloaded Raw for 863 events and 512 original time points ...\n",
      "0 bad epochs dropped\n"
     ]
    },
    {
     "data": {
      "text/plain": [
       "Text(0.5, 0.98, 'Evoked Data (After Removing Bad Channels)')"
      ]
     },
     "execution_count": 5,
     "metadata": {},
     "output_type": "execute_result"
    }
   ],
   "source": [
    "# Initialize RANSAC for bad channel detection\n",
    "ransac = Ransac(verbose=True, picks=\"eeg\", n_jobs=1, min_corr= 0.75, n_resample = 100, min_channels = 0.25)\n",
    "\n",
    "# Create epochs with preloading enabled\n",
    "epochs = mne.make_fixed_length_epochs(ica_raw, duration=2, overlap=0.5, preload=True)\n",
    "\n",
    "# Fit RANSAC to detect bad channels\n",
    "ransac.fit(epochs)\n",
    "\n",
    "# Print the identified bad channels\n",
    "bad_channels = ransac.bad_chs_\n",
    "print(\"Bad channels detected by RANSAC:\")\n",
    "print('\\n'.join(bad_channels))\n",
    "\n",
    "# Plot the evoked data before removing bad channels\n",
    "evoked_before = epochs.average()\n",
    "fig_before = evoked_before.plot(ylim={\"eeg\": (-5000000, 5000000)})  # Set Y-axis limits for EEG channels\n",
    "fig_before.suptitle(\"Evoked Data (Before Removing Bad Channels)\", fontsize=16)\n",
    "\n",
    "# Remove bad channels from the raw object\n",
    "ica_raw_clean = ica_raw.copy().drop_channels(bad_channels)\n",
    "\n",
    "# Create new epochs without bad channels\n",
    "epochs_clean = mne.make_fixed_length_epochs(ica_raw_clean, duration=2, overlap=0.5, preload=True)\n",
    "\n",
    "# Plot the evoked data after removing bad channels\n",
    "evoked_after = epochs_clean.average()\n",
    "fig_after = evoked_after.plot(ylim={\"eeg\": (-5000000, 5000000)})\n",
    "fig_after.suptitle(\"Evoked Data (After Removing Bad Channels)\", fontsize=16)\n"
   ]
  },
  {
   "cell_type": "markdown",
   "metadata": {},
   "source": [
    "# Epoch Data\n",
    "Want to epoch the EEG data based on stimulus labels\n",
    "\n",
    "This can look like \n",
    "1. [EEG]\n",
    "2. [Stimulus Labels]\n",
    "3. [Comfort Labels]"
   ]
  },
  {
   "cell_type": "code",
   "execution_count": 6,
   "metadata": {},
   "outputs": [
    {
     "name": "stdout",
     "output_type": "stream",
     "text": [
      "Stimulus: Contrast1Size1, Shape: (2, 13, 2560)\n",
      "Stimulus: Contrast1Size2, Shape: (2, 13, 2560)\n",
      "Stimulus: Contrast1Size3, Shape: (2, 13, 2560)\n",
      "Stimulus: Contrast2Size1, Shape: (3, 13, 2560)\n",
      "Stimulus: Contrast2Size2, Shape: (4, 13, 2560)\n",
      "Stimulus: Contrast2Size3, Shape: (3, 13, 2560)\n",
      "Stimulus: Contrast3Size1, Shape: (3, 13, 2560)\n",
      "Stimulus: Contrast3Size2, Shape: (3, 13, 2560)\n",
      "Stimulus: Contrast3Size3, Shape: (4, 13, 2560)\n",
      "Stimulus: Contrast4Size1, Shape: (5, 13, 2560)\n",
      "Stimulus: Contrast4Size2, Shape: (3, 13, 2560)\n",
      "Stimulus: Contrast4Size3, Shape: (6, 13, 2560)\n"
     ]
    }
   ],
   "source": [
    "# Settings\n",
    "list_of_events = []\n",
    "\n",
    "for x in range(4):\n",
    "    for y in range(3):\n",
    "        list_of_events.append(f\"Contrast{x+1}Size{y+1}\")\n",
    "epoch_end = \"off\"\n",
    "\n",
    "[marker_ts, markers] = import_data.read_xdf_unity_markers(f\"Data\\{file_name}\")    # Import markers\n",
    "\n",
    "# Create Individual epochs for each event\n",
    "[events_epochs, eeg_epochs] = data_tools.create_epochs(\n",
    "    eeg_data = ica_raw_clean.get_data(), \n",
    "    eeg_ts = eeg_ts,\n",
    "    markers = markers,\n",
    "    markers_ts = marker_ts,\n",
    "    events = list_of_events,\n",
    "    epoch_end = epoch_end\n",
    "    )\n",
    "\n",
    "# Create a dict of stimuli using the unique events\n",
    "dict_of_stimuli = {i: event for i, event in enumerate(list_of_events)}\n",
    "\n",
    "# Organize epochs by stimuli and frequency\n",
    "# Returns a list of organized EEG epochs in the shape [stimuli][trials][samples, chans].\n",
    "# Example: eeg_epochs_organized[stim_inx] returns all epochs for a specific stimulus.\n",
    "        # eeg_epochs_organized[stim_inx].shape returns the shape of the epochs for a specific stimulus. like (2, 13, 2560) for 2 trials, 13 channels and 2560 samples (10 seconds).\n",
    "eeg_epochs_organized = data_tools.epochs_stim(\n",
    "    eeg_epochs = eeg_epochs,\n",
    "    labels = events_epochs,\n",
    "    stimuli = dict_of_stimuli,\n",
    "    )\n",
    "\n",
    "for stim_idx, stim_label in dict_of_stimuli.items():\n",
    "    stim_epochs = eeg_epochs_organized[stim_idx]\n",
    "    \n",
    "    if len(stim_epochs) > 0:\n",
    "        print(f\"Stimulus: {stim_label}, Shape: {stim_epochs.shape}\")\n",
    "    else:\n",
    "        print(f\"Stimulus: {stim_label}, No epochs found\")\n"
   ]
  },
  {
   "cell_type": "markdown",
   "metadata": {},
   "source": [
    "# Save Organized Epochs to npz file\n",
    "Can't use regular npy because each stimulus may have a different number of epochs (i.e. a different shape)"
   ]
  },
  {
   "cell_type": "code",
   "execution_count": 7,
   "metadata": {},
   "outputs": [
    {
     "name": "stdout",
     "output_type": "stream",
     "text": [
      "Saved organized epochs to Data\\Masters_testing/sub-P001_ses-S001_task-T1_run-001_eeg.npz\n"
     ]
    }
   ],
   "source": [
    "save_data = True\n",
    "\n",
    "if save_data:\n",
    "    npy_file_name = file_name.split(\"\\\\\")[-1].split(\".\")[0]\n",
    "\n",
    "    # Create a dictionary to store each stimulus separately\n",
    "    save_dict = {stim_label: np.array(eeg_epochs_organized[stim_idx]) \n",
    "                 for stim_idx, stim_label in dict_of_stimuli.items()}\n",
    "\n",
    "    # Save using np.savez to preserve structure\n",
    "    np.savez(f\"Data\\\\{npy_file_name}.npz\", **save_dict)\n",
    "\n",
    "    print(f\"Saved organized epochs to Data\\\\{npy_file_name}.npz\")"
   ]
  },
  {
   "cell_type": "markdown",
   "metadata": {},
   "source": [
    "# Save settings to json"
   ]
  },
  {
   "cell_type": "code",
   "execution_count": 8,
   "metadata": {},
   "outputs": [],
   "source": [
    "# Settings\n",
    "save_model = True\n",
    "\n",
    "if (save_model):\n",
    "    json_data = {\n",
    "        \"file_name\": file_name,\n",
    "        \"eeg_srate\": eeg_fs,\n",
    "        \"ch_names\": ch_names,\n",
    "        \"bad_chans\": bad_channels,\n",
    "        \"hpf_fc\": hpf_fc,\n",
    "        \"lpf_fc\": lpf_fc,\n",
    "        \"ica_exclude\": ica_exclude,\n",
    "        \"n_components\": n_components,\n",
    "        \"random_state\": random_state,\n",
    "        \"max_iter\": max_iter,\n",
    "        \"labels\": markers,\n",
    "        \"stimuli\": dict_of_stimuli\n",
    "        }\n",
    "\n",
    "    # Get file name without extension\n",
    "    json_file_name = file_name.split(\"\\\\\")[-1].split(\".\")[0]\n",
    "    \n",
    "    # Write dictionary to json file\n",
    "    with open(f\"Data\\\\{json_file_name}.json\", \"w\") as f:\n",
    "        json.dump(json_data, f)"
   ]
  }
 ],
 "metadata": {
  "kernelspec": {
   "display_name": "bci",
   "language": "python",
   "name": "python3"
  },
  "language_info": {
   "codemirror_mode": {
    "name": "ipython",
    "version": 3
   },
   "file_extension": ".py",
   "mimetype": "text/x-python",
   "name": "python",
   "nbconvert_exporter": "python",
   "pygments_lexer": "ipython3",
   "version": "3.10.14"
  }
 },
 "nbformat": 4,
 "nbformat_minor": 2
}

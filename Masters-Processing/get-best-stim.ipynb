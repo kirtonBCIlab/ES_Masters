{
 "cells": [
  {
   "cell_type": "markdown",
   "metadata": {},
   "source": [
    "# Get the best stimulus for an individual\n",
    "\n",
    "1. Import Data\n",
    "    - Z-score Data\n",
    "    - Comfort Score Data \n",
    "        * Absolute\n",
    "        * Relative\n",
    "\n",
    "2. Get Best Stim\n",
    "    - Stimulus with lowest comfort score that has a Z-score > 2"
   ]
  },
  {
   "cell_type": "markdown",
   "metadata": {},
   "source": [
    "# Import Libraries"
   ]
  },
  {
   "cell_type": "code",
   "execution_count": 4,
   "metadata": {},
   "outputs": [],
   "source": [
    "import pandas as pd"
   ]
  },
  {
   "cell_type": "markdown",
   "metadata": {},
   "source": [
    "# Import Z-Score and Comfort Data"
   ]
  },
  {
   "cell_type": "code",
   "execution_count": 5,
   "metadata": {},
   "outputs": [],
   "source": [
    "stim_name_list = [\"Contrast1Size1\", \"Contrast1Size2\", \"Contrast1Size3\", \"Contrast2Size1\", \"Contrast2Size2\", \"Contrast2Size3\", \"Contrast3Size1\", \"Contrast3Size2\", \"Contrast3Size3\", \"Contrast4Size1\", \"Contrast4Size2\", \"Contrast4Size3\"]\n",
    "\n",
    "absolute_comfort_file_name = \"Data/Masters_testing/Testing_Sam/mean-comfort-absolute-practice.csv\"\n",
    "z_score_file_name = \"Data/Masters_testing/Testing_Sam/sub-SamTest/zscores_Test.csv\"\n",
    "\n",
    "absolute_comfort_data = pd.read_csv(absolute_comfort_file_name)\n",
    "z_score_data = pd.read_csv(z_score_file_name)\n",
    "\n",
    "for idx, row in absolute_comfort_data.iterrows():\n",
    "    absolute_comfort_list = [row.Contrast1Size1, row.Contrast1Size2, row.Contrast1Size3, row.Contrast2Size1, row.Contrast2Size2, row.Contrast2Size3, row.Contrast3Size1, row.Contrast3Size2, row.Contrast3Size3, row.Contrast4Size1, row.Contrast4Size2, row.Contrast4Size3]\n",
    "    \n",
    "# Get z-score 10 Hz and 20 Hz rows explicitly\n",
    "row_10 = z_score_data.iloc[0]\n",
    "row_20 = z_score_data.iloc[1]\n",
    "\n",
    "# Create lists from each\n",
    "z_score_list_10 = [\n",
    "    row_10.Contrast1Size1, row_10.Contrast1Size2, row_10.Contrast1Size3, row_10.Contrast2Size1, row_10.Contrast2Size2, row_10.Contrast2Size3, row_10.Contrast3Size1, row_10.Contrast3Size2, row_10.Contrast3Size3, row_10.Contrast4Size1, row_10.Contrast4Size2, row_10.Contrast4Size3]\n",
    "\n",
    "z_score_list_20 = [row_20.Contrast1Size1, row_20.Contrast1Size2, row_20.Contrast1Size3, row_20.Contrast2Size1, row_20.Contrast2Size2, row_20.Contrast2Size3, row_20.Contrast3Size1, row_20.Contrast3Size2, row_20.Contrast3Size3, row_20.Contrast4Size1, row_20.Contrast4Size2, row_20.Contrast4Size3]\n",
    "\n",
    "absolute_comfort_dict = dict(zip(stim_name_list, absolute_comfort_list))\n",
    "z_score_dict_10 = dict(zip(stim_name_list, z_score_list_10))\n",
    "z_score_dict_20 = dict(zip(stim_name_list, z_score_list_20))"
   ]
  },
  {
   "cell_type": "markdown",
   "metadata": {},
   "source": [
    "# Get Best Stimulus"
   ]
  },
  {
   "cell_type": "code",
   "execution_count": null,
   "metadata": {},
   "outputs": [
    {
     "name": "stdout",
     "output_type": "stream",
     "text": [
      "['Contrast1Size1', 'Contrast1Size2', 'Contrast1Size3', 'Contrast2Size1', 'Contrast2Size2', 'Contrast2Size3', 'Contrast3Size1', 'Contrast3Size2', 'Contrast3Size3', 'Contrast4Size1']\n",
      "['Contrast1Size1', 'Contrast1Size2', 'Contrast1Size3', 'Contrast2Size1', 'Contrast2Size2', 'Contrast2Size3', 'Contrast3Size1', 'Contrast3Size2', 'Contrast3Size3', 'Contrast4Size1', 'Contrast4Size2']\n",
      "['Contrast1Size1', 'Contrast1Size2', 'Contrast1Size3', 'Contrast2Size1', 'Contrast2Size2', 'Contrast2Size3', 'Contrast3Size1', 'Contrast3Size2', 'Contrast3Size3', 'Contrast4Size1', 'Contrast4Size2', 'Contrast4Size3']\n",
      "Stimuli with Z-scores and Comfort Values:\n",
      "Contrast1Size1: 3.50, \t\t Z-score 10 Hz = 13.360859070481574, \t\t Z-score 20 Hz = 0.6511480383326732\n",
      "Contrast1Size2: 2.67, \t\t Z-score 10 Hz = 14.527752550688357, \t\t Z-score 20 Hz = 1.5121558004897404\n",
      "Contrast1Size3: 1.00, \t\t Z-score 10 Hz = 7.139232701018515, \t\t Z-score 20 Hz = 5.9225587681325615\n",
      "Contrast2Size1: 3.33, \t\t Z-score 10 Hz = 10.5426122211667, \t\t Z-score 20 Hz = 1.1648895003080018\n",
      "Contrast2Size2: 2.33, \t\t Z-score 10 Hz = 9.564147697687837, \t\t Z-score 20 Hz = 2.82629796930342\n",
      "Contrast2Size3: 1.50, \t\t Z-score 10 Hz = 12.574143705616155, \t\t Z-score 20 Hz = 7.01670073798493\n",
      "Contrast3Size1: 5.00, \t\t Z-score 10 Hz = 4.51358721516972, \t\t Z-score 20 Hz = 5.458518298437982\n",
      "Contrast3Size2: 4.00, \t\t Z-score 10 Hz = 3.810229357915675, \t\t Z-score 20 Hz = 11.855937199647125\n",
      "Contrast3Size3: 3.50, \t\t Z-score 10 Hz = 3.060790504377506, \t\t Z-score 20 Hz = 4.519558113230565\n",
      "Contrast4Size1: 5.00, \t\t Z-score 10 Hz = 0.2876803086473429, \t\t Z-score 20 Hz = 4.7243023728151305\n",
      "Contrast4Size2: 4.00, \t\t Z-score 10 Hz = 0.9479624129203442, \t\t Z-score 20 Hz = 6.248032301570162\n",
      "Contrast4Size3: 4.00, \t\t Z-score 10 Hz = 0.5342150222753528, \t\t Z-score 20 Hz = 13.680535417731551\n",
      "Best Stim Absolute: Contrast3Size1\n"
     ]
    }
   ],
   "source": [
    "best_stim_absolute = None\n",
    "kept_stim = []\n",
    "\n",
    "kept_stim = []\n",
    "\n",
    "for stim, z_score in z_score_dict_10.items():\n",
    "    if z_score >= 2:\n",
    "        kept_stim.append(stim)\n",
    "\n",
    "for stim, z_score in z_score_dict_20.items():\n",
    "    if z_score >= 2 and stim not in kept_stim:\n",
    "        kept_stim.append(stim)\n",
    "\n",
    "# Find the stim (with Z-score > 2) with the lowest absolute comfort score\n",
    "max_absolute_comfort = float(\"-inf\")\n",
    "\n",
    "for stim in kept_stim:\n",
    "    if absolute_comfort_dict[stim] > max_absolute_comfort:\n",
    "        max_absolute_comfort = absolute_comfort_dict[stim]\n",
    "        best_stim_absolute = stim\n",
    "\n",
    "# Print list of stimuli with z-scores and comfort values\n",
    "print(\"Stimuli with Z-scores and Comfort Values:\")\n",
    "for idx, stim in enumerate(stim_name_list):  # Use enumerate to get both index and stimulus\n",
    "    print(f\"{stim}: {absolute_comfort_dict[stim]:.2f}, \\t\\t Z-score 10 Hz = {z_score_dict_10[stim]}, \\t\\t Z-score 20 Hz = {z_score_dict_20[stim]}\")\n",
    "    \n",
    "print(\"Best Stim Absolute:\", best_stim_absolute)"
   ]
  }
 ],
 "metadata": {
  "kernelspec": {
   "display_name": "bessy",
   "language": "python",
   "name": "python3"
  },
  "language_info": {
   "codemirror_mode": {
    "name": "ipython",
    "version": 3
   },
   "file_extension": ".py",
   "mimetype": "text/x-python",
   "name": "python",
   "nbconvert_exporter": "python",
   "pygments_lexer": "ipython3",
   "version": "3.13.2"
  }
 },
 "nbformat": 4,
 "nbformat_minor": 2
}

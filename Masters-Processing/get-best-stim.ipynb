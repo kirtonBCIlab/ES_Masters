{
 "cells": [
  {
   "cell_type": "markdown",
   "metadata": {},
   "source": [
    "# Get the best stimulus for an individual\n",
    "\n",
    "1. Import Data\n",
    "    - Z-score Data\n",
    "    - Comfort Score Data \n",
    "        * Absolute\n",
    "        * Relative\n",
    "\n",
    "2. Get Best Stim\n",
    "    - Stimulus with lowest comfort score that has a Z-score > 2"
   ]
  },
  {
   "cell_type": "markdown",
   "metadata": {},
   "source": [
    "# Import Libraries"
   ]
  },
  {
   "cell_type": "code",
   "execution_count": 1,
   "metadata": {},
   "outputs": [],
   "source": [
    "import pandas as pd"
   ]
  },
  {
   "cell_type": "markdown",
   "metadata": {},
   "source": [
    "# Import Z-Score and Comfort Data"
   ]
  },
  {
   "cell_type": "code",
   "execution_count": 2,
   "metadata": {},
   "outputs": [],
   "source": [
    "stim_name_list = [\"Contrast1Size1\", \"Contrast1Size2\", \"Contrast1Size3\", \"Contrast2Size1\", \"Contrast2Size2\", \"Contrast2Size3\", \"Contrast3Size1\", \"Contrast3Size2\", \"Contrast3Size3\", \"Contrast4Size1\", \"Contrast4Size2\", \"Contrast4Size3\"]\n",
    "\n",
    "absolute_comfort_file_name = \"Data/Masters_testing/P002/absolute_comfort.csv\"\n",
    "relative_comfort_file_name = \"Data/Masters_testing/P002/P002-S001-rankings.csv\"\n",
    "z_score_file_name = \"Data/Masters_testing/P002/ten_mean_zscores_P002.csv\"\n",
    "\n",
    "absolute_comfort_data = pd.read_csv(absolute_comfort_file_name)\n",
    "relative_comfort_data = pd.read_csv(relative_comfort_file_name)\n",
    "z_score_data = pd.read_csv(z_score_file_name)\n",
    "\n",
    "for idx, row in absolute_comfort_data.iterrows():\n",
    "    absolute_comfort_list = [row.Contrast1Size1, row.Contrast1Size2, row.Contrast1Size3, row.Contrast2Size1, row.Contrast2Size2, row.Contrast2Size3, row.Contrast3Size1, row.Contrast3Size2, row.Contrast3Size3, row.Contrast4Size1, row.Contrast4Size2, row.Contrast4Size3]\n",
    "    \n",
    "for idx, row in relative_comfort_data.iterrows():\n",
    "    relative_comfort_list = [row.Contrast1Size1, row.Contrast1Size2, row.Contrast1Size3, row.Contrast2Size1, row.Contrast2Size2, row.Contrast2Size3, row.Contrast3Size1, row.Contrast3Size2, row.Contrast3Size3, row.Contrast4Size1, row.Contrast4Size2, row.Contrast4Size3]\n",
    "\n",
    "for idx, row in z_score_data.iterrows():\n",
    "    z_score_list = [row.Contrast1Size1, row.Contrast1Size2, row.Contrast1Size3, row.Contrast2Size1, row.Contrast2Size2, row.Contrast2Size3, row.Contrast3Size1, row.Contrast3Size2, row.Contrast3Size3, row.Contrast4Size1, row.Contrast4Size2, row.Contrast4Size3]\n",
    "\n",
    "absolute_comfort_dict = dict(zip(stim_name_list, absolute_comfort_list))\n",
    "relative_comfort_dict = dict(zip(stim_name_list, relative_comfort_list))\n",
    "z_score_dict = dict(zip(stim_name_list, z_score_list))"
   ]
  },
  {
   "cell_type": "markdown",
   "metadata": {},
   "source": [
    "# Get Best Stimulus"
   ]
  },
  {
   "cell_type": "code",
   "execution_count": 3,
   "metadata": {},
   "outputs": [
    {
     "name": "stdout",
     "output_type": "stream",
     "text": [
      "Best Stim Absolute: Contrast4Size1\n",
      "Best Stim Relative: Contrast4Size3\n"
     ]
    }
   ],
   "source": [
    "best_stim_absolute = None\n",
    "best_stim_relative = None\n",
    "kept_stim = []\n",
    "\n",
    "# Filter stims with z-score >= 2\n",
    "for stim, z_score in z_score_dict.items():\n",
    "    if z_score >= 2:\n",
    "        kept_stim.append(stim)\n",
    "\n",
    "# Find the stim (with Z-score > 2) with the lowest absolute comfort score\n",
    "min_absolute_comfort = float(\"inf\")\n",
    "\n",
    "for stim in kept_stim:\n",
    "    if absolute_comfort_dict[stim] < min_absolute_comfort:\n",
    "        min_absolute_comfort = absolute_comfort_dict[stim]\n",
    "        best_stim_absolute = stim\n",
    "\n",
    "# Find the stim (with Z-score > 2) with the highest relative comfort score\n",
    "max_relative_comfort = float(\"-inf\")\n",
    "\n",
    "for stim in kept_stim:\n",
    "    if relative_comfort_dict[stim] > max_relative_comfort:\n",
    "        max_relative_comfort = relative_comfort_dict[stim]\n",
    "        best_stim_relative = stim\n",
    "\n",
    "# Print the best stim\n",
    "print(\"Best Stim Absolute:\", best_stim_absolute)\n",
    "print(\"Best Stim Relative:\", best_stim_relative)"
   ]
  }
 ],
 "metadata": {
  "kernelspec": {
   "display_name": "bci",
   "language": "python",
   "name": "python3"
  },
  "language_info": {
   "codemirror_mode": {
    "name": "ipython",
    "version": 3
   },
   "file_extension": ".py",
   "mimetype": "text/x-python",
   "name": "python",
   "nbconvert_exporter": "python",
   "pygments_lexer": "ipython3",
   "version": "3.10.14"
  }
 },
 "nbformat": 4,
 "nbformat_minor": 2
}

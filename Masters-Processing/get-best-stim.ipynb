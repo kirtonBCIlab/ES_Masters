{
 "cells": [
  {
   "cell_type": "markdown",
   "metadata": {},
   "source": [
    "# Get the best stimulus for an individual\n",
    "\n",
    "1. Import Data\n",
    "    - Z-score Data\n",
    "    - Comfort Score Data \n",
    "        * Absolute\n",
    "        * Relative\n",
    "\n",
    "2. Get Best Stim\n",
    "    - Stimulus with lowest comfort score that has a Z-score > 2"
   ]
  },
  {
   "cell_type": "markdown",
   "metadata": {},
   "source": [
    "# Import Libraries"
   ]
  },
  {
   "cell_type": "code",
   "execution_count": 4,
   "metadata": {},
   "outputs": [],
   "source": [
    "import pandas as pd"
   ]
  },
  {
   "cell_type": "markdown",
   "metadata": {},
   "source": [
    "# Import Z-Score and Comfort Data"
   ]
  },
  {
   "cell_type": "code",
   "execution_count": 5,
   "metadata": {},
   "outputs": [],
   "source": [
    "stim_name_list = [\"Contrast1Size1\", \"Contrast1Size2\", \"Contrast1Size3\", \"Contrast2Size1\", \"Contrast2Size2\", \"Contrast2Size3\", \"Contrast3Size1\", \"Contrast3Size2\", \"Contrast3Size3\", \"Contrast4Size1\", \"Contrast4Size2\", \"Contrast4Size3\"]\n",
    "\n",
    "comfort_file_name = \"Data/Masters_testing/P002/absolute_comfort.csv\"\n",
    "z_score_file_name = \"Data/Masters_testing/P002/ten_mean_zscores_P002.csv\"\n",
    "\n",
    "comfort_data = pd.read_csv(comfort_file_name)\n",
    "z_score_data = pd.read_csv(z_score_file_name)\n",
    "\n",
    "for idx, row in comfort_data.iterrows():\n",
    "    comfort_list = [row.Contrast1Size1, row.Contrast1Size2, row.Contrast1Size3, row.Contrast2Size1, row.Contrast2Size2, row.Contrast2Size3, row.Contrast3Size1, row.Contrast3Size2, row.Contrast3Size3, row.Contrast4Size1, row.Contrast4Size2, row.Contrast4Size3]\n",
    "    \n",
    "for idx, row in z_score_data.iterrows():\n",
    "    z_score_list = [row.Contrast1Size1, row.Contrast1Size2, row.Contrast1Size3, row.Contrast2Size1, row.Contrast2Size2, row.Contrast2Size3, row.Contrast3Size1, row.Contrast3Size2, row.Contrast3Size3, row.Contrast4Size1, row.Contrast4Size2, row.Contrast4Size3]\n",
    "\n",
    "comfort_dict = dict(zip(stim_name_list, comfort_list))\n",
    "z_score_dict = dict(zip(stim_name_list, z_score_list))"
   ]
  },
  {
   "cell_type": "markdown",
   "metadata": {},
   "source": [
    "# Get Best Stimulus"
   ]
  },
  {
   "cell_type": "code",
   "execution_count": 6,
   "metadata": {},
   "outputs": [
    {
     "name": "stdout",
     "output_type": "stream",
     "text": [
      "Best Stim: Contrast4Size1\n"
     ]
    }
   ],
   "source": [
    "best_stim = None\n",
    "kept_stim = []\n",
    "\n",
    "# Filter stims with z-score >= 2\n",
    "for stim, z_score in z_score_dict.items():\n",
    "    if z_score >= 2:\n",
    "        kept_stim.append(stim)\n",
    "\n",
    "# Find the stim (with Z-score > 2) with the lowest comfort score\n",
    "min_comfort = float(\"inf\")\n",
    "\n",
    "for stim in kept_stim:\n",
    "    if comfort_dict[stim] < min_comfort:\n",
    "        min_comfort = comfort_dict[stim]\n",
    "        best_stim = stim\n",
    "\n",
    "# Print the best stim\n",
    "print(\"Best Stim:\", best_stim)"
   ]
  }
 ],
 "metadata": {
  "kernelspec": {
   "display_name": "bci",
   "language": "python",
   "name": "python3"
  },
  "language_info": {
   "codemirror_mode": {
    "name": "ipython",
    "version": 3
   },
   "file_extension": ".py",
   "mimetype": "text/x-python",
   "name": "python",
   "nbconvert_exporter": "python",
   "pygments_lexer": "ipython3",
   "version": "3.10.14"
  }
 },
 "nbformat": 4,
 "nbformat_minor": 2
}

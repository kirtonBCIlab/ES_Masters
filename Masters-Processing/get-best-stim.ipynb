{
 "cells": [
  {
   "cell_type": "markdown",
   "metadata": {},
   "source": [
    "# Get the best stimulus for an individual\n",
    "\n",
    "1. Import Data\n",
    "    - Z-score Data\n",
    "    - Comfort Score Data \n",
    "        * Absolute\n",
    "        * Relative\n",
    "\n",
    "2. Get Best Stim\n",
    "    - Stimulus with lowest comfort score that has a Z-score > 2"
   ]
  },
  {
   "cell_type": "markdown",
   "metadata": {},
   "source": [
    "# Import Libraries"
   ]
  },
  {
   "cell_type": "code",
   "execution_count": 2,
   "metadata": {},
   "outputs": [],
   "source": [
    "import pandas as pd"
   ]
  },
  {
   "cell_type": "markdown",
   "metadata": {},
   "source": [
    "# Import Z-Score and Comfort Data"
   ]
  },
  {
   "cell_type": "code",
   "execution_count": 4,
   "metadata": {},
   "outputs": [],
   "source": [
    "stim_name_list = [\"Contrast1Size1\", \"Contrast1Size2\", \"Contrast1Size3\", \"Contrast2Size1\", \"Contrast2Size2\", \"Contrast2Size3\", \"Contrast3Size1\", \"Contrast3Size2\", \"Contrast3Size3\", \"Contrast4Size1\", \"Contrast4Size2\", \"Contrast4Size3\"]\n",
    "\n",
    "absolute_comfort_file_name = \"Data/Masters_testing/New Timing Test/mean-comfort-absolute.csv\"\n",
    "z_score_file_name = \"Data/Masters_testing/New Timing Test/zscores_Test.csv\"\n",
    "\n",
    "absolute_comfort_data = pd.read_csv(absolute_comfort_file_name)\n",
    "z_score_data = pd.read_csv(z_score_file_name)\n",
    "\n",
    "for idx, row in absolute_comfort_data.iterrows():\n",
    "    absolute_comfort_list = [row.Contrast1Size1, row.Contrast1Size2, row.Contrast1Size3, row.Contrast2Size1, row.Contrast2Size2, row.Contrast2Size3, row.Contrast3Size1, row.Contrast3Size2, row.Contrast3Size3, row.Contrast4Size1, row.Contrast4Size2, row.Contrast4Size3]\n",
    "    \n",
    "# Get z-score 10 Hz and 20 Hz rows explicitly\n",
    "row_10 = z_score_data.iloc[0]\n",
    "row_20 = z_score_data.iloc[1]\n",
    "\n",
    "# Create lists from each\n",
    "z_score_list_10 = [\n",
    "    row_10.Contrast1Size1, row_10.Contrast1Size2, row_10.Contrast1Size3, row_10.Contrast2Size1, row_10.Contrast2Size2, row_10.Contrast2Size3, row_10.Contrast3Size1, row_10.Contrast3Size2, row_10.Contrast3Size3, row_10.Contrast4Size1, row_10.Contrast4Size2, row_10.Contrast4Size3]\n",
    "\n",
    "z_score_list_20 = [row_20.Contrast1Size1, row_20.Contrast1Size2, row_20.Contrast1Size3, row_20.Contrast2Size1, row_20.Contrast2Size2, row_20.Contrast2Size3, row_20.Contrast3Size1, row_20.Contrast3Size2, row_20.Contrast3Size3, row_20.Contrast4Size1, row_20.Contrast4Size2, row_20.Contrast4Size3]\n",
    "\n",
    "absolute_comfort_dict = dict(zip(stim_name_list, absolute_comfort_list))\n",
    "z_score_dict_10 = dict(zip(stim_name_list, z_score_list_10))\n",
    "z_score_dict_20 = dict(zip(stim_name_list, z_score_list_20))"
   ]
  },
  {
   "cell_type": "markdown",
   "metadata": {},
   "source": [
    "# Get Best Stimulus"
   ]
  },
  {
   "cell_type": "code",
   "execution_count": null,
   "metadata": {},
   "outputs": [
    {
     "name": "stdout",
     "output_type": "stream",
     "text": [
      "Stimuli with Z-scores and Comfort Values:\n",
      "Contrast1Size1: 3.33, \t\t Z-score 10 Hz = -0.2169550171857694, \t\t Z-score 20 Hz = -0.2199568474438552\n",
      "Contrast1Size2: 2.50, \t\t Z-score 10 Hz = 0.782229785662192, \t\t Z-score 20 Hz = -0.8642429935003175\n",
      "Contrast1Size3: 2.50, \t\t Z-score 10 Hz = 0.3915008742609535, \t\t Z-score 20 Hz = 0.6756359309747358\n",
      "Contrast2Size1: 2.67, \t\t Z-score 10 Hz = 0.099922257894358, \t\t Z-score 20 Hz = -0.6443235302181632\n",
      "Contrast2Size2: 3.80, \t\t Z-score 10 Hz = -0.1261443415341794, \t\t Z-score 20 Hz = 0.0323813476554453\n",
      "Contrast2Size3: 2.80, \t\t Z-score 10 Hz = 1.0729480238046027, \t\t Z-score 20 Hz = -0.6675429602420287\n",
      "Contrast3Size1: 2.33, \t\t Z-score 10 Hz = -0.0301892952237627, \t\t Z-score 20 Hz = 0.5165880170045966\n",
      "Contrast3Size2: 1.00, \t\t Z-score 10 Hz = -0.1261392879722401, \t\t Z-score 20 Hz = -0.0730015125098441\n",
      "Contrast3Size3: 2.00, \t\t Z-score 10 Hz = -0.2468128273929883, \t\t Z-score 20 Hz = -0.0193850736604038\n",
      "Contrast4Size1: 3.20, \t\t Z-score 10 Hz = 0.0415108609839867, \t\t Z-score 20 Hz = -0.2480746732492205\n",
      "Contrast4Size2: 1.33, \t\t Z-score 10 Hz = 1.4721846172491648, \t\t Z-score 20 Hz = 1.4114596049455983\n",
      "Contrast4Size3: 2.33, \t\t Z-score 10 Hz = -0.3625702890739408, \t\t Z-score 20 Hz = 0.4325177726471891\n",
      "Best Stim Absolute: None\n"
     ]
    }
   ],
   "source": [
    "best_stim_absolute = None\n",
    "kept_stim = []\n",
    "\n",
    "# Filter stims with z-score >= 2\n",
    "for stim, z_score10 in z_score_dict_10.items():\n",
    "    for stim, z_score20 in z_score_dict_20.items():\n",
    "        if z_score10 >= 2 or z_score20 >= 2:\n",
    "            # Check if the stim is already in the kept_stim list\n",
    "            if stim not in kept_stim:\n",
    "                # Append the stim to the kept_stim list\n",
    "                kept_stim.append(stim)\n",
    "\n",
    "# Find the stim (with Z-score > 2) with the lowest absolute comfort score\n",
    "max_absolute_comfort = float(\"-inf\")\n",
    "\n",
    "for stim in kept_stim:\n",
    "    if absolute_comfort_dict[stim] > max_absolute_comfort:\n",
    "        max_absolute_comfort = absolute_comfort_dict[stim]\n",
    "        best_stim_absolute = stim\n",
    "\n",
    "# Print list of stimuli with z-scores and comfort values\n",
    "print(\"Stimuli with Z-scores and Comfort Values:\")\n",
    "for idx, stim in enumerate(stim_name_list):  # Use enumerate to get both index and stimulus\n",
    "    print(f\"{stim}: {absolute_comfort_dict[stim]:.2f}, \\t\\t Z-score 10 Hz = {z_score_dict_10[stim]}, \\t\\t Z-score 20 Hz = {z_score_dict_20[stim]}\")\n",
    "    \n",
    "print(\"Best Stim Absolute:\", best_stim_absolute)"
   ]
  }
 ],
 "metadata": {
  "kernelspec": {
   "display_name": "bessy",
   "language": "python",
   "name": "python3"
  },
  "language_info": {
   "codemirror_mode": {
    "name": "ipython",
    "version": 3
   },
   "file_extension": ".py",
   "mimetype": "text/x-python",
   "name": "python",
   "nbconvert_exporter": "python",
   "pygments_lexer": "ipython3",
   "version": "3.13.2"
  }
 },
 "nbformat": 4,
 "nbformat_minor": 2
}

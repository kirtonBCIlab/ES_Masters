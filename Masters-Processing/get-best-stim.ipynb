{
 "cells": [
  {
   "cell_type": "markdown",
   "metadata": {},
   "source": [
    "# Get the best stimulus for an individual\n",
    "\n",
    "1. Import Data\n",
    "    - Z-score Data\n",
    "    - Comfort Score Data \n",
    "        * Absolute\n",
    "        * Relative\n",
    "\n",
    "2. Get Best Stim\n",
    "    - Stimulus with lowest comfort score that has a Z-score > 2"
   ]
  },
  {
   "cell_type": "markdown",
   "metadata": {},
   "source": [
    "# Import Libraries"
   ]
  },
  {
   "cell_type": "code",
   "execution_count": 1,
   "metadata": {},
   "outputs": [],
   "source": [
    "import pandas as pd"
   ]
  },
  {
   "cell_type": "markdown",
   "metadata": {},
   "source": [
    "# Import Z-Score and Comfort Data"
   ]
  },
  {
   "cell_type": "code",
   "execution_count": 2,
   "metadata": {},
   "outputs": [],
   "source": [
    "stim_name_list = [\"Contrast1Size1\", \"Contrast1Size2\", \"Contrast1Size3\", \"Contrast2Size1\", \"Contrast2Size2\", \"Contrast2Size3\", \"Contrast3Size1\", \"Contrast3Size2\", \"Contrast3Size3\", \"Contrast4Size1\", \"Contrast4Size2\", \"Contrast4Size3\"]\n",
    "\n",
    "absolute_comfort_file_name = \"Data/Pilot-Data/P001/P001-Absolute.csv\"\n",
    "z_score_file_name = \"Data/Pilot-Data/P001/Pipeline-Processing/zscores.csv\"\n",
    "\n",
    "absolute_comfort_data = pd.read_csv(absolute_comfort_file_name)\n",
    "z_score_data = pd.read_csv(z_score_file_name)\n",
    "\n",
    "for idx, row in absolute_comfort_data.iterrows():\n",
    "    absolute_comfort_list = [row.Contrast1Size1, row.Contrast1Size2, row.Contrast1Size3, row.Contrast2Size1, row.Contrast2Size2, row.Contrast2Size3, row.Contrast3Size1, row.Contrast3Size2, row.Contrast3Size3, row.Contrast4Size1, row.Contrast4Size2, row.Contrast4Size3]\n",
    "    \n",
    "# Get z-score 10 Hz and 20 Hz rows explicitly\n",
    "row_10 = z_score_data.iloc[0]\n",
    "row_20 = z_score_data.iloc[1]\n",
    "\n",
    "# Create lists from each\n",
    "z_score_list_10 = [\n",
    "    row_10.Contrast1Size1, row_10.Contrast1Size2, row_10.Contrast1Size3, row_10.Contrast2Size1, row_10.Contrast2Size2, row_10.Contrast2Size3, row_10.Contrast3Size1, row_10.Contrast3Size2, row_10.Contrast3Size3, row_10.Contrast4Size1, row_10.Contrast4Size2, row_10.Contrast4Size3]\n",
    "\n",
    "z_score_list_20 = [row_20.Contrast1Size1, row_20.Contrast1Size2, row_20.Contrast1Size3, row_20.Contrast2Size1, row_20.Contrast2Size2, row_20.Contrast2Size3, row_20.Contrast3Size1, row_20.Contrast3Size2, row_20.Contrast3Size3, row_20.Contrast4Size1, row_20.Contrast4Size2, row_20.Contrast4Size3]\n",
    "\n",
    "absolute_comfort_dict = dict(zip(stim_name_list, absolute_comfort_list))\n",
    "z_score_dict_10 = dict(zip(stim_name_list, z_score_list_10))\n",
    "z_score_dict_20 = dict(zip(stim_name_list, z_score_list_20))"
   ]
  },
  {
   "cell_type": "markdown",
   "metadata": {},
   "source": [
    "# Get Best Stimulus"
   ]
  },
  {
   "cell_type": "code",
   "execution_count": 7,
   "metadata": {},
   "outputs": [
    {
     "name": "stdout",
     "output_type": "stream",
     "text": [
      "Stimuli with Z-scores and Comfort Values:\n",
      "Contrast1Size1: 3.00, \t\t Z-score 10 Hz = 0.6096466851960779, \t\t Z-score 20 Hz = 0.3794006502641085\n",
      "Contrast1Size2: 2.00, \t\t Z-score 10 Hz = 0.1402865218517951, \t\t Z-score 20 Hz = 0.0422467760565922\n",
      "Contrast1Size3: 1.00, \t\t Z-score 10 Hz = 1.155075407032273, \t\t Z-score 20 Hz = 3.697719149646815\n",
      "Contrast2Size1: 2.50, \t\t Z-score 10 Hz = 0.2479762560169016, \t\t Z-score 20 Hz = -0.6198547573284537\n",
      "Contrast2Size2: 1.75, \t\t Z-score 10 Hz = 0.4322538802520739, \t\t Z-score 20 Hz = -0.3509697675370949\n",
      "Contrast2Size3: 1.50, \t\t Z-score 10 Hz = 0.0470613554427173, \t\t Z-score 20 Hz = 0.3333138586871347\n",
      "Contrast3Size1: 4.67, \t\t Z-score 10 Hz = -0.3226748455753981, \t\t Z-score 20 Hz = -0.7047238126973334\n",
      "Contrast3Size2: 3.67, \t\t Z-score 10 Hz = -0.6094671195164288, \t\t Z-score 20 Hz = 1.853331758202508\n",
      "Contrast3Size3: 3.50, \t\t Z-score 10 Hz = -0.1456015219795697, \t\t Z-score 20 Hz = -0.6856698520584121\n",
      "Contrast4Size1: 4.80, \t\t Z-score 10 Hz = -0.1382717035432338, \t\t Z-score 20 Hz = -0.3454719083183682\n",
      "Contrast4Size2: 4.33, \t\t Z-score 10 Hz = -0.5129840956464111, \t\t Z-score 20 Hz = -1.020942986325155\n",
      "Contrast4Size3: 3.67, \t\t Z-score 10 Hz = -0.3160694556000138, \t\t Z-score 20 Hz = 0.0991754972413438\n",
      "Best Stim Absolute: Contrast1Size3\n"
     ]
    }
   ],
   "source": [
    "best_stim_absolute = None\n",
    "kept_stim = []\n",
    "\n",
    "# Filter stims with z-score >= 2\n",
    "for stim, z_score10 in z_score_dict_10.items():\n",
    "    for stim, z_score20 in z_score_dict_20.items():\n",
    "        if z_score10 >= 2 or z_score20 >= 2:\n",
    "            # Check if the stim is already in the kept_stim list\n",
    "            if stim not in kept_stim:\n",
    "                # Append the stim to the kept_stim list\n",
    "                kept_stim.append(stim)\n",
    "\n",
    "# Find the stim (with Z-score > 2) with the lowest absolute comfort score\n",
    "max_absolute_comfort = float(\"-inf\")\n",
    "\n",
    "for stim in kept_stim:\n",
    "    if absolute_comfort_dict[stim] > max_absolute_comfort:\n",
    "        max_absolute_comfort = absolute_comfort_dict[stim]\n",
    "        best_stim_absolute = stim\n",
    "\n",
    "# Print list of stimuli with z-scores and comfort values\n",
    "print(\"Stimuli with Z-scores and Comfort Values:\")\n",
    "for idx, stim in enumerate(stim_name_list):  # Use enumerate to get both index and stimulus\n",
    "    print(f\"{stim}: {absolute_comfort_dict[stim]:.2f}, \\t\\t Z-score 10 Hz = {z_score_dict_10[stim]}, \\t\\t Z-score 20 Hz = {z_score_dict_20[stim]}\")\n",
    "    \n",
    "print(\"Best Stim Absolute:\", best_stim_absolute)"
   ]
  }
 ],
 "metadata": {
  "kernelspec": {
   "display_name": "bessy",
   "language": "python",
   "name": "python3"
  },
  "language_info": {
   "codemirror_mode": {
    "name": "ipython",
    "version": 3
   },
   "file_extension": ".py",
   "mimetype": "text/x-python",
   "name": "python",
   "nbconvert_exporter": "python",
   "pygments_lexer": "ipython3",
   "version": "3.13.2"
  }
 },
 "nbformat": 4,
 "nbformat_minor": 2
}

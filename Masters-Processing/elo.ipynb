{
 "cells": [
  {
   "cell_type": "markdown",
   "metadata": {},
   "source": [
    "# Compute ELO Ranking\n",
    "\n",
    "## Goals:\n",
    "1. **Data Import**\n",
    "    - Import the bracket data and divide it into matches and winners\n",
    "\n",
    "2. **Run ELO Model**\n",
    "    - Compute base rankings\n",
    "    - Apply post-hoc corrections\n",
    "    - Standardize rankings from 1-10\n",
    "\n",
    "3. **Export Rankings**\n",
    "    - Export standardized rankings for future use in ML model"
   ]
  },
  {
   "cell_type": "markdown",
   "metadata": {},
   "source": [
    "# Import Libraries"
   ]
  },
  {
   "cell_type": "code",
   "execution_count": 1,
   "metadata": {},
   "outputs": [],
   "source": [
    "import pandas as pd\n",
    "from Functions import elo"
   ]
  },
  {
   "cell_type": "markdown",
   "metadata": {},
   "source": [
    "# Import Bracket Data\n",
    "\n",
    "Separate into matches (strings of stimulus names) and winners (string of stimulus name)"
   ]
  },
  {
   "cell_type": "code",
   "execution_count": 2,
   "metadata": {},
   "outputs": [],
   "source": [
    "# import bracket data\n",
    "bracket_data = pd.read_csv(r'Data/Masters_testing/P001-S001_bracket_info.csv')\n",
    "matches = list(bracket_data[['Item 1', 'Item 2']].itertuples(index=False, name=None))\n",
    "winners = bracket_data['Winner'].tolist()"
   ]
  },
  {
   "cell_type": "markdown",
   "metadata": {},
   "source": [
    "# Perform ELO Ranking"
   ]
  },
  {
   "cell_type": "code",
   "execution_count": 3,
   "metadata": {},
   "outputs": [
    {
     "data": {
      "text/plain": [
       "{'Contrast3Size3': 4.459803144281048,\n",
       " 'Contrast2Size1': 3.1029962398964623,\n",
       " 'Contrast4Size1': 10.0,\n",
       " 'Contrast1Size1': 1.0,\n",
       " 'Contrast4Size2': 6.21156031008454,\n",
       " 'Contrast4Size3': 6.458372135719474,\n",
       " 'Contrast3Size2': 3.1029962398964615,\n",
       " 'Contrast1Size2': 1.0,\n",
       " 'Contrast2Size2': 4.511402652518683,\n",
       " 'Contrast1Size3': 1.0,\n",
       " 'Contrast3Size1': 6.288916920532718,\n",
       " 'Contrast2Size3': 3.1029962398964623}"
      ]
     },
     "execution_count": 3,
     "metadata": {},
     "output_type": "execute_result"
    }
   ],
   "source": [
    "# Instantiate Elo Ranking object\n",
    "elo_system = elo.EloRanking()\n",
    "\n",
    "# Process matches and their winners\n",
    "for (competitor1, competitor2), winner in zip(matches, winners):\n",
    "    loser = competitor1 if winner == competitor2 else competitor2\n",
    "    elo_system.update_ratings(winner, loser)\n",
    "\n",
    "# Rankings before post-hoc adjustment\n",
    "#print(\"Rankings before adjustment:\")\n",
    "#print(pd.DataFrame(elo_system.get_rankings(), columns=[\"Stimulus\", \"Rating\"]))\n",
    "\n",
    "# Apply post-hoc adjustment\n",
    "elo_system.post_hoc_adjustment()\n",
    "\n",
    "# Rankings after post-hoc adjustment\n",
    "#print(\"\\nRankings after adjustment:\")\n",
    "#print(pd.DataFrame(elo_system.get_rankings(), columns=[\"Stimulus\", \"Rating\"]))\n",
    "\n",
    "# Scores after standardization from 1 - 10\n",
    "elo_system.standardize_rankings()\n",
    "#print(\"\\n Standardized scores\")\n",
    "#print(pd.DataFrame(elo_system.get_scores(), columns=[\"Stimulus\", \"Scores\"]))"
   ]
  },
  {
   "cell_type": "markdown",
   "metadata": {},
   "source": [
    "# Export ELO Rankings to Excel Sheet"
   ]
  },
  {
   "cell_type": "code",
   "execution_count": 4,
   "metadata": {},
   "outputs": [],
   "source": [
    "# Export the rankings to the data sheet\n",
    "elo_system.export_rankings_to_csv(\"Data/Masters_testing/P001-S001-rankings.csv\")"
   ]
  }
 ],
 "metadata": {
  "kernelspec": {
   "display_name": "bci",
   "language": "python",
   "name": "python3"
  },
  "language_info": {
   "codemirror_mode": {
    "name": "ipython",
    "version": 3
   },
   "file_extension": ".py",
   "mimetype": "text/x-python",
   "name": "python",
   "nbconvert_exporter": "python",
   "pygments_lexer": "ipython3",
   "version": "3.10.14"
  }
 },
 "nbformat": 4,
 "nbformat_minor": 2
}

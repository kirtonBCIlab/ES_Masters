{
 "cells": [
  {
   "cell_type": "markdown",
   "metadata": {},
   "source": [
    "# Compute ELO Ranking\n",
    "\n",
    "## Goals:\n",
    "1. **Data Import**\n",
    "    - Import the bracket data and divide it into matches and winners\n",
    "\n",
    "2. **Run ELO Model**\n",
    "    - Compute base rankings\n",
    "    - Apply post-hoc corrections\n",
    "    - Standardize rankings from 1-10\n",
    "\n",
    "3. **Export Rankings**\n",
    "    - Export standardized rankings for future use in ML model"
   ]
  },
  {
   "cell_type": "markdown",
   "metadata": {},
   "source": [
    "# Import Libraries"
   ]
  },
  {
   "cell_type": "code",
   "execution_count": 3,
   "metadata": {},
   "outputs": [],
   "source": [
    "import pandas as pd\n",
    "from Functions import elo"
   ]
  },
  {
   "cell_type": "markdown",
   "metadata": {},
   "source": [
    "# Import Bracket Data\n",
    "\n",
    "Separate into matches (strings of stimulus names) and winners (string of stimulus name)"
   ]
  },
  {
   "cell_type": "code",
   "execution_count": 4,
   "metadata": {},
   "outputs": [],
   "source": [
    "# import bracket data\n",
    "bracket_data = pd.read_csv(r'Data/Masters_testing/P001-S001.csv')\n",
    "matches = list(bracket_data[['Item 1', 'Item 2']].itertuples(index=False, name=None))\n",
    "winners = bracket_data['Winner'].tolist()"
   ]
  },
  {
   "cell_type": "markdown",
   "metadata": {},
   "source": [
    "# Perform ELO Ranking"
   ]
  },
  {
   "cell_type": "code",
   "execution_count": 5,
   "metadata": {},
   "outputs": [
    {
     "name": "stdout",
     "output_type": "stream",
     "text": [
      "Rankings before adjustment:\n",
      "          Stimulus      Rating\n",
      "0   Contrast4Size1  227.138542\n",
      "1   Contrast4Size3  147.609375\n",
      "2   Contrast3Size1  146.511218\n",
      "3   Contrast4Size2  144.787135\n",
      "4   Contrast2Size2  105.644920\n",
      "5   Contrast3Size3  104.494897\n",
      "6   Contrast2Size1   75.505103\n",
      "7   Contrast2Size3   75.505103\n",
      "8   Contrast3Size2   75.505103\n",
      "9   Contrast1Size1   30.717968\n",
      "10  Contrast1Size2   30.717968\n",
      "11  Contrast1Size3   30.717968\n",
      "\n",
      "Rankings after adjustment:\n",
      "          Stimulus      Rating\n",
      "0   Contrast4Size1  222.971875\n",
      "1   Contrast4Size3  144.037946\n",
      "2   Contrast3Size1  140.261218\n",
      "3   Contrast4Size2  138.537135\n",
      "4   Contrast2Size2  100.644920\n",
      "5   Contrast3Size3   99.494897\n",
      "6   Contrast2Size1   69.255103\n",
      "7   Contrast2Size3   69.255103\n",
      "8   Contrast3Size2   69.255103\n",
      "9   Contrast1Size1   22.384634\n",
      "10  Contrast1Size2   22.384634\n",
      "11  Contrast1Size3   22.384634\n",
      "\n",
      " Standardized scores\n",
      "          Stimulus     Scores\n",
      "0   Contrast4Size1  10.000000\n",
      "1   Contrast4Size3   6.458372\n",
      "2   Contrast3Size1   6.288917\n",
      "3   Contrast4Size2   6.211560\n",
      "4   Contrast2Size2   4.511403\n",
      "5   Contrast3Size3   4.459803\n",
      "6   Contrast2Size1   3.102996\n",
      "7   Contrast2Size3   3.102996\n",
      "8   Contrast3Size2   3.102996\n",
      "9   Contrast1Size1   1.000000\n",
      "10  Contrast1Size2   1.000000\n",
      "11  Contrast1Size3   1.000000\n"
     ]
    }
   ],
   "source": [
    "# Instantiate Elo Ranking object\n",
    "elo_system = elo.EloRanking()\n",
    "\n",
    "# Process matches and their winners\n",
    "for (competitor1, competitor2), winner in zip(matches, winners):\n",
    "    loser = competitor1 if winner == competitor2 else competitor2\n",
    "    elo_system.update_ratings(winner, loser)\n",
    "\n",
    "# Rankings before post-hoc adjustment\n",
    "print(\"Rankings before adjustment:\")\n",
    "print(pd.DataFrame(elo_system.get_rankings(), columns=[\"Stimulus\", \"Rating\"]))\n",
    "\n",
    "# Apply post-hoc adjustment\n",
    "elo_system.post_hoc_adjustment()\n",
    "\n",
    "# Rankings after post-hoc adjustment\n",
    "print(\"\\nRankings after adjustment:\")\n",
    "print(pd.DataFrame(elo_system.get_rankings(), columns=[\"Stimulus\", \"Rating\"]))\n",
    "\n",
    "# Scores after standardization from 1 - 10\n",
    "elo_system.standardize_rankings()\n",
    "print(\"\\n Standardized scores\")\n",
    "print(pd.DataFrame(elo_system.get_scores(), columns=[\"Stimulus\", \"Scores\"]))"
   ]
  },
  {
   "cell_type": "markdown",
   "metadata": {},
   "source": [
    "# Export ELO Rankings to Excel Sheet"
   ]
  },
  {
   "cell_type": "code",
   "execution_count": 6,
   "metadata": {},
   "outputs": [],
   "source": [
    "# Export the rankings to the data sheet"
   ]
  }
 ],
 "metadata": {
  "kernelspec": {
   "display_name": "bci",
   "language": "python",
   "name": "python3"
  },
  "language_info": {
   "codemirror_mode": {
    "name": "ipython",
    "version": 3
   },
   "file_extension": ".py",
   "mimetype": "text/x-python",
   "name": "python",
   "nbconvert_exporter": "python",
   "pygments_lexer": "ipython3",
   "version": "3.10.14"
  }
 },
 "nbformat": 4,
 "nbformat_minor": 2
}

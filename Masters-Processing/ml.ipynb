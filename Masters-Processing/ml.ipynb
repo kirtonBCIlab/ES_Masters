{
 "cells": [
  {
   "cell_type": "markdown",
   "metadata": {},
   "source": [
    "# Import Libraries"
   ]
  },
  {
   "cell_type": "code",
   "execution_count": 1,
   "metadata": {},
   "outputs": [],
   "source": [
    "import numpy as np\n",
    "import json\n",
    "import pandas as pd\n",
    "from sklearn.model_selection import train_test_split, cross_val_predict\n",
    "from sklearn.preprocessing import StandardScaler\n",
    "from sklearn.svm import SVR\n",
    "from sklearn.metrics import mean_squared_error"
   ]
  },
  {
   "cell_type": "markdown",
   "metadata": {},
   "source": [
    "# Import Data"
   ]
  },
  {
   "cell_type": "code",
   "execution_count": 4,
   "metadata": {},
   "outputs": [
    {
     "data": {
      "application/vnd.microsoft.datawrangler.viewer.v0+json": {
       "columns": [
        {
         "name": "index",
         "rawType": "int64",
         "type": "integer"
        },
        {
         "name": "Participant",
         "rawType": "object",
         "type": "string"
        },
        {
         "name": "Stimulus",
         "rawType": "object",
         "type": "string"
        },
        {
         "name": "Epoch",
         "rawType": "int64",
         "type": "integer"
        },
        {
         "name": "Comfort Score",
         "rawType": "int64",
         "type": "integer"
        },
        {
         "name": "Fz_delta",
         "rawType": "float64",
         "type": "float"
        },
        {
         "name": "Fz_theta",
         "rawType": "float64",
         "type": "float"
        },
        {
         "name": "Fz_alpha",
         "rawType": "float64",
         "type": "float"
        },
        {
         "name": "Fz_beta",
         "rawType": "float64",
         "type": "float"
        },
        {
         "name": "F4_delta",
         "rawType": "float64",
         "type": "float"
        },
        {
         "name": "F4_theta",
         "rawType": "float64",
         "type": "float"
        },
        {
         "name": "F4_alpha",
         "rawType": "float64",
         "type": "float"
        },
        {
         "name": "F4_beta",
         "rawType": "float64",
         "type": "float"
        },
        {
         "name": "F8_delta",
         "rawType": "float64",
         "type": "float"
        },
        {
         "name": "F8_theta",
         "rawType": "float64",
         "type": "float"
        },
        {
         "name": "F8_alpha",
         "rawType": "float64",
         "type": "float"
        },
        {
         "name": "F8_beta",
         "rawType": "float64",
         "type": "float"
        },
        {
         "name": "C3_delta",
         "rawType": "int64",
         "type": "integer"
        },
        {
         "name": "C3_theta",
         "rawType": "int64",
         "type": "integer"
        },
        {
         "name": "C3_alpha",
         "rawType": "int64",
         "type": "integer"
        },
        {
         "name": "C3_beta",
         "rawType": "int64",
         "type": "integer"
        },
        {
         "name": "Cz_delta",
         "rawType": "float64",
         "type": "float"
        },
        {
         "name": "Cz_theta",
         "rawType": "float64",
         "type": "float"
        },
        {
         "name": "Cz_alpha",
         "rawType": "float64",
         "type": "float"
        },
        {
         "name": "Cz_beta",
         "rawType": "float64",
         "type": "float"
        },
        {
         "name": "C4_delta",
         "rawType": "float64",
         "type": "float"
        },
        {
         "name": "C4_theta",
         "rawType": "float64",
         "type": "float"
        },
        {
         "name": "C4_alpha",
         "rawType": "float64",
         "type": "float"
        },
        {
         "name": "C4_beta",
         "rawType": "float64",
         "type": "float"
        },
        {
         "name": "T8_delta",
         "rawType": "float64",
         "type": "float"
        },
        {
         "name": "T8_theta",
         "rawType": "float64",
         "type": "float"
        },
        {
         "name": "T8_alpha",
         "rawType": "float64",
         "type": "float"
        },
        {
         "name": "T8_beta",
         "rawType": "float64",
         "type": "float"
        },
        {
         "name": "P7_delta",
         "rawType": "float64",
         "type": "float"
        },
        {
         "name": "P7_theta",
         "rawType": "float64",
         "type": "float"
        },
        {
         "name": "P7_alpha",
         "rawType": "float64",
         "type": "float"
        },
        {
         "name": "P7_beta",
         "rawType": "float64",
         "type": "float"
        },
        {
         "name": "P3_delta",
         "rawType": "float64",
         "type": "float"
        },
        {
         "name": "P3_theta",
         "rawType": "float64",
         "type": "float"
        },
        {
         "name": "P3_alpha",
         "rawType": "float64",
         "type": "float"
        },
        {
         "name": "P3_beta",
         "rawType": "float64",
         "type": "float"
        },
        {
         "name": "P4_delta",
         "rawType": "int64",
         "type": "integer"
        },
        {
         "name": "P4_theta",
         "rawType": "int64",
         "type": "integer"
        },
        {
         "name": "P4_alpha",
         "rawType": "int64",
         "type": "integer"
        },
        {
         "name": "P4_beta",
         "rawType": "int64",
         "type": "integer"
        },
        {
         "name": "P8_delta",
         "rawType": "float64",
         "type": "float"
        },
        {
         "name": "P8_theta",
         "rawType": "float64",
         "type": "float"
        },
        {
         "name": "P8_alpha",
         "rawType": "float64",
         "type": "float"
        },
        {
         "name": "P8_beta",
         "rawType": "float64",
         "type": "float"
        },
        {
         "name": "PO7_delta",
         "rawType": "float64",
         "type": "float"
        },
        {
         "name": "PO7_theta",
         "rawType": "float64",
         "type": "float"
        },
        {
         "name": "PO7_alpha",
         "rawType": "float64",
         "type": "float"
        },
        {
         "name": "PO7_beta",
         "rawType": "float64",
         "type": "float"
        },
        {
         "name": "PO8_delta",
         "rawType": "float64",
         "type": "float"
        },
        {
         "name": "PO8_theta",
         "rawType": "float64",
         "type": "float"
        },
        {
         "name": "PO8_alpha",
         "rawType": "float64",
         "type": "float"
        },
        {
         "name": "PO8_beta",
         "rawType": "float64",
         "type": "float"
        },
        {
         "name": "O1_delta",
         "rawType": "int64",
         "type": "integer"
        },
        {
         "name": "O1_theta",
         "rawType": "int64",
         "type": "integer"
        },
        {
         "name": "O1_alpha",
         "rawType": "int64",
         "type": "integer"
        },
        {
         "name": "O1_beta",
         "rawType": "int64",
         "type": "integer"
        },
        {
         "name": "Oz_delta",
         "rawType": "float64",
         "type": "float"
        },
        {
         "name": "Oz_theta",
         "rawType": "float64",
         "type": "float"
        },
        {
         "name": "Oz_alpha",
         "rawType": "float64",
         "type": "float"
        },
        {
         "name": "Oz_beta",
         "rawType": "float64",
         "type": "float"
        },
        {
         "name": "O2_delta",
         "rawType": "float64",
         "type": "float"
        },
        {
         "name": "O2_theta",
         "rawType": "float64",
         "type": "float"
        },
        {
         "name": "O2_alpha",
         "rawType": "float64",
         "type": "float"
        },
        {
         "name": "O2_beta",
         "rawType": "float64",
         "type": "float"
        }
       ],
       "conversionMethod": "pd.DataFrame",
       "ref": "bb5a5d16-a239-46a4-881f-e173dcb55524",
       "rows": [
        [
         "0",
         "P002",
         "Contrast1Size1",
         "0",
         "6",
         "95.40962145684142",
         "125.49099749582189",
         "28.55398526754992",
         "70.38930791423454",
         "99.16746629696036",
         "161.6269117449995",
         "31.074007761857143",
         "79.04871836573463",
         "100.66006571239448",
         "19.560477813255925",
         "4.811708530863342",
         "43.09395619455688",
         "0",
         "0",
         "0",
         "0",
         "45.493289668716784",
         "17.622149714252874",
         "3.8778914982459503",
         "18.366387433141504",
         "35.2387601479708",
         "14.809733133398304",
         "2.8530967051229106",
         "33.487610609279265",
         "19.115415979277667",
         "8.572698194644248",
         "22.221191507221143",
         "523.7903982485304",
         "28.269960036857224",
         "14.251170308303331",
         "3.448939627509259",
         "17.759890488882473",
         "28.14966125764896",
         "11.509055598403869",
         "2.3872459191809248",
         "20.11387756346428",
         "0",
         "0",
         "0",
         "0",
         "22.20865093172451",
         "8.303086498500615",
         "3.3295265689410245",
         "22.14958530235087",
         "20.55607352433392",
         "9.87217843202174",
         "3.614747065446737",
         "17.75977531692658",
         "25.11247949301669",
         "11.48611262905224",
         "4.171683549641685",
         "21.99881113744685",
         "0",
         "0",
         "0",
         "0",
         "12.021239235412551",
         "8.119433389096622",
         "3.105472186997331",
         "14.51842301831356",
         "19.591617480371436",
         "10.691841998034503",
         "3.273867455607361",
         "17.65093378619522"
        ],
        [
         "1",
         "P002",
         "Contrast1Size1",
         "1",
         "6",
         "229.86646288165187",
         "39.6731120631345",
         "16.2600210914141",
         "121.23651319881628",
         "281.05969052678813",
         "46.56464369373759",
         "15.972169196233317",
         "133.48621922688665",
         "421.8403291810295",
         "27.693964281709928",
         "6.208142248850349",
         "13.938108166106169",
         "0",
         "0",
         "0",
         "0",
         "58.92325622939727",
         "16.525423529082172",
         "4.728724722544511",
         "15.635680768156575",
         "50.12267494386239",
         "9.15831299842076",
         "2.5580915148218435",
         "15.580034326467228",
         "57.2971873893316",
         "6.841799720430149",
         "7.898520699175648",
         "116.7443061999918",
         "33.3507583076181",
         "10.680687364557754",
         "10.020518235397",
         "18.07839195346176",
         "22.335698682835293",
         "6.856644006352443",
         "5.509851157226081",
         "15.01362513520949",
         "0",
         "0",
         "0",
         "0",
         "17.338865342059712",
         "5.083502656822634",
         "2.6134442779736204",
         "17.4370516742125",
         "17.805266328148473",
         "8.70147094697368",
         "8.580528879142449",
         "19.245615207156757",
         "17.92559977904541",
         "8.988500243573082",
         "4.332780683986647",
         "22.101576814208794",
         "0",
         "0",
         "0",
         "0",
         "16.89497554229119",
         "9.574523627882108",
         "4.628083365330395",
         "12.794021690378727",
         "13.108366881165551",
         "9.132112901206275",
         "4.364495491882915",
         "14.571378623589805"
        ],
        [
         "2",
         "P002",
         "Contrast1Size2",
         "0",
         "7",
         "100.7950082466559",
         "44.74716460361528",
         "13.075583527588543",
         "100.96051611704058",
         "138.894156378326",
         "42.077257554352826",
         "9.412881232363354",
         "113.51132847752112",
         "131.9284493319147",
         "17.56079242269875",
         "6.312821260469208",
         "53.74985376384278",
         "0",
         "0",
         "0",
         "0",
         "46.58987445110357",
         "13.017085726343382",
         "5.106358341614016",
         "17.421471728107527",
         "41.949801273588",
         "11.281156076263686",
         "4.484936232724408",
         "30.216611264254176",
         "30.07980704929677",
         "13.904356232224574",
         "42.66589102627621",
         "638.0718425993553",
         "46.95909964778696",
         "16.567984627253654",
         "5.11236588634045",
         "22.123193615155632",
         "30.914714623134223",
         "11.801503558828072",
         "5.265771487621664",
         "17.81240753289609",
         "0",
         "0",
         "0",
         "0",
         "16.191458778929363",
         "6.0859277267644245",
         "6.357068311763314",
         "21.757532246500155",
         "20.2749368133462",
         "10.708751835970888",
         "3.9692852266210368",
         "17.800261947738804",
         "16.40043839639919",
         "10.27941840637457",
         "7.995098307674012",
         "19.47551884818997",
         "0",
         "0",
         "0",
         "0",
         "12.25229580702349",
         "10.80959772257368",
         "4.936411218243301",
         "16.319737597739156",
         "14.705365337793816",
         "11.4698744568786",
         "6.142184053150844",
         "17.383303778023905"
        ],
        [
         "3",
         "P002",
         "Contrast1Size2",
         "1",
         "7",
         "162.0863662770755",
         "65.74430765712889",
         "10.797025283892385",
         "112.03678828869688",
         "164.89308749866112",
         "69.23270969717674",
         "11.67795850659631",
         "132.78324068688744",
         "196.1046843330874",
         "52.23502958467853",
         "6.950834592535972",
         "41.01045110554815",
         "0",
         "0",
         "0",
         "0",
         "39.71995429219436",
         "14.38750435756168",
         "4.188692302742782",
         "13.278403294472804",
         "43.28584281134286",
         "17.637099649965364",
         "3.589411031673816",
         "17.882398926148365",
         "41.488441991643775",
         "13.307783971083074",
         "7.775422698403299",
         "228.27023566573845",
         "26.192847748969932",
         "10.196687313914994",
         "5.268269783172354",
         "18.48514677187949",
         "30.23063090519832",
         "12.342405146528746",
         "4.225842462642376",
         "18.96671322880751",
         "0",
         "0",
         "0",
         "0",
         "24.40178557888445",
         "7.415466364504516",
         "1.8390741814375469",
         "18.28963211417513",
         "21.27225233908692",
         "8.495329424300124",
         "3.453580820339257",
         "17.516364337329755",
         "21.200992953157822",
         "7.353417557475273",
         "2.605154322230888",
         "19.836733189393836",
         "0",
         "0",
         "0",
         "0",
         "14.585979884235838",
         "8.899164652843085",
         "3.178574216035772",
         "14.738149467398204",
         "16.379253815667575",
         "8.248370371782007",
         "3.037614424934646",
         "17.671186758049746"
        ],
        [
         "4",
         "P002",
         "Contrast1Size3",
         "0",
         "6",
         "264.7979589636933",
         "54.395818255886965",
         "18.60918935440479",
         "126.76788743217966",
         "316.3313802441966",
         "74.26861545607456",
         "20.49566174740248",
         "141.23566169160276",
         "420.4867073217675",
         "34.41947100021042",
         "6.502247480294974",
         "12.651253363329891",
         "0",
         "0",
         "0",
         "0",
         "78.82548001332891",
         "26.380380131188712",
         "5.620866116471404",
         "17.914368307626177",
         "84.46278543966145",
         "19.56329101848176",
         "5.035996577501269",
         "22.551363795388376",
         "57.35597327321398",
         "15.41065318464052",
         "19.748173265104285",
         "449.6893537458967",
         "52.66925543132355",
         "16.197095191117494",
         "7.942728166376368",
         "20.128551116367355",
         "40.238287810503074",
         "16.078856621441293",
         "3.9838214330698367",
         "16.749070917416887",
         "0",
         "0",
         "0",
         "0",
         "27.578899949617444",
         "10.036906654000624",
         "2.5928280693582613",
         "21.10684490265178",
         "31.975743421630444",
         "9.923303056974447",
         "5.803660663136534",
         "19.720152970673333",
         "24.893160871654093",
         "13.698671592956984",
         "3.945304657140432",
         "23.10152198241575",
         "0",
         "0",
         "0",
         "0",
         "25.209664970748445",
         "7.9277490387445315",
         "7.521238340618203",
         "18.097908324476023",
         "18.517802026975847",
         "10.263448610123463",
         "5.708107497178394",
         "19.779755370220112"
        ]
       ],
       "shape": {
        "columns": 68,
        "rows": 5
       }
      },
      "text/html": [
       "<div>\n",
       "<style scoped>\n",
       "    .dataframe tbody tr th:only-of-type {\n",
       "        vertical-align: middle;\n",
       "    }\n",
       "\n",
       "    .dataframe tbody tr th {\n",
       "        vertical-align: top;\n",
       "    }\n",
       "\n",
       "    .dataframe thead th {\n",
       "        text-align: right;\n",
       "    }\n",
       "</style>\n",
       "<table border=\"1\" class=\"dataframe\">\n",
       "  <thead>\n",
       "    <tr style=\"text-align: right;\">\n",
       "      <th></th>\n",
       "      <th>Participant</th>\n",
       "      <th>Stimulus</th>\n",
       "      <th>Epoch</th>\n",
       "      <th>Comfort Score</th>\n",
       "      <th>Fz_delta</th>\n",
       "      <th>Fz_theta</th>\n",
       "      <th>Fz_alpha</th>\n",
       "      <th>Fz_beta</th>\n",
       "      <th>F4_delta</th>\n",
       "      <th>F4_theta</th>\n",
       "      <th>...</th>\n",
       "      <th>O1_alpha</th>\n",
       "      <th>O1_beta</th>\n",
       "      <th>Oz_delta</th>\n",
       "      <th>Oz_theta</th>\n",
       "      <th>Oz_alpha</th>\n",
       "      <th>Oz_beta</th>\n",
       "      <th>O2_delta</th>\n",
       "      <th>O2_theta</th>\n",
       "      <th>O2_alpha</th>\n",
       "      <th>O2_beta</th>\n",
       "    </tr>\n",
       "  </thead>\n",
       "  <tbody>\n",
       "    <tr>\n",
       "      <th>0</th>\n",
       "      <td>P002</td>\n",
       "      <td>Contrast1Size1</td>\n",
       "      <td>0</td>\n",
       "      <td>6</td>\n",
       "      <td>95.409621</td>\n",
       "      <td>125.490997</td>\n",
       "      <td>28.553985</td>\n",
       "      <td>70.389308</td>\n",
       "      <td>99.167466</td>\n",
       "      <td>161.626912</td>\n",
       "      <td>...</td>\n",
       "      <td>0</td>\n",
       "      <td>0</td>\n",
       "      <td>12.021239</td>\n",
       "      <td>8.119433</td>\n",
       "      <td>3.105472</td>\n",
       "      <td>14.518423</td>\n",
       "      <td>19.591617</td>\n",
       "      <td>10.691842</td>\n",
       "      <td>3.273867</td>\n",
       "      <td>17.650934</td>\n",
       "    </tr>\n",
       "    <tr>\n",
       "      <th>1</th>\n",
       "      <td>P002</td>\n",
       "      <td>Contrast1Size1</td>\n",
       "      <td>1</td>\n",
       "      <td>6</td>\n",
       "      <td>229.866463</td>\n",
       "      <td>39.673112</td>\n",
       "      <td>16.260021</td>\n",
       "      <td>121.236513</td>\n",
       "      <td>281.059691</td>\n",
       "      <td>46.564644</td>\n",
       "      <td>...</td>\n",
       "      <td>0</td>\n",
       "      <td>0</td>\n",
       "      <td>16.894976</td>\n",
       "      <td>9.574524</td>\n",
       "      <td>4.628083</td>\n",
       "      <td>12.794022</td>\n",
       "      <td>13.108367</td>\n",
       "      <td>9.132113</td>\n",
       "      <td>4.364495</td>\n",
       "      <td>14.571379</td>\n",
       "    </tr>\n",
       "    <tr>\n",
       "      <th>2</th>\n",
       "      <td>P002</td>\n",
       "      <td>Contrast1Size2</td>\n",
       "      <td>0</td>\n",
       "      <td>7</td>\n",
       "      <td>100.795008</td>\n",
       "      <td>44.747165</td>\n",
       "      <td>13.075584</td>\n",
       "      <td>100.960516</td>\n",
       "      <td>138.894156</td>\n",
       "      <td>42.077258</td>\n",
       "      <td>...</td>\n",
       "      <td>0</td>\n",
       "      <td>0</td>\n",
       "      <td>12.252296</td>\n",
       "      <td>10.809598</td>\n",
       "      <td>4.936411</td>\n",
       "      <td>16.319738</td>\n",
       "      <td>14.705365</td>\n",
       "      <td>11.469874</td>\n",
       "      <td>6.142184</td>\n",
       "      <td>17.383304</td>\n",
       "    </tr>\n",
       "    <tr>\n",
       "      <th>3</th>\n",
       "      <td>P002</td>\n",
       "      <td>Contrast1Size2</td>\n",
       "      <td>1</td>\n",
       "      <td>7</td>\n",
       "      <td>162.086366</td>\n",
       "      <td>65.744308</td>\n",
       "      <td>10.797025</td>\n",
       "      <td>112.036788</td>\n",
       "      <td>164.893087</td>\n",
       "      <td>69.232710</td>\n",
       "      <td>...</td>\n",
       "      <td>0</td>\n",
       "      <td>0</td>\n",
       "      <td>14.585980</td>\n",
       "      <td>8.899165</td>\n",
       "      <td>3.178574</td>\n",
       "      <td>14.738149</td>\n",
       "      <td>16.379254</td>\n",
       "      <td>8.248370</td>\n",
       "      <td>3.037614</td>\n",
       "      <td>17.671187</td>\n",
       "    </tr>\n",
       "    <tr>\n",
       "      <th>4</th>\n",
       "      <td>P002</td>\n",
       "      <td>Contrast1Size3</td>\n",
       "      <td>0</td>\n",
       "      <td>6</td>\n",
       "      <td>264.797959</td>\n",
       "      <td>54.395818</td>\n",
       "      <td>18.609189</td>\n",
       "      <td>126.767887</td>\n",
       "      <td>316.331380</td>\n",
       "      <td>74.268615</td>\n",
       "      <td>...</td>\n",
       "      <td>0</td>\n",
       "      <td>0</td>\n",
       "      <td>25.209665</td>\n",
       "      <td>7.927749</td>\n",
       "      <td>7.521238</td>\n",
       "      <td>18.097908</td>\n",
       "      <td>18.517802</td>\n",
       "      <td>10.263449</td>\n",
       "      <td>5.708107</td>\n",
       "      <td>19.779755</td>\n",
       "    </tr>\n",
       "  </tbody>\n",
       "</table>\n",
       "<p>5 rows × 68 columns</p>\n",
       "</div>"
      ],
      "text/plain": [
       "  Participant        Stimulus  Epoch  Comfort Score    Fz_delta    Fz_theta  \\\n",
       "0        P002  Contrast1Size1      0              6   95.409621  125.490997   \n",
       "1        P002  Contrast1Size1      1              6  229.866463   39.673112   \n",
       "2        P002  Contrast1Size2      0              7  100.795008   44.747165   \n",
       "3        P002  Contrast1Size2      1              7  162.086366   65.744308   \n",
       "4        P002  Contrast1Size3      0              6  264.797959   54.395818   \n",
       "\n",
       "    Fz_alpha     Fz_beta    F4_delta    F4_theta  ...  O1_alpha  O1_beta  \\\n",
       "0  28.553985   70.389308   99.167466  161.626912  ...         0        0   \n",
       "1  16.260021  121.236513  281.059691   46.564644  ...         0        0   \n",
       "2  13.075584  100.960516  138.894156   42.077258  ...         0        0   \n",
       "3  10.797025  112.036788  164.893087   69.232710  ...         0        0   \n",
       "4  18.609189  126.767887  316.331380   74.268615  ...         0        0   \n",
       "\n",
       "    Oz_delta   Oz_theta  Oz_alpha    Oz_beta   O2_delta   O2_theta  O2_alpha  \\\n",
       "0  12.021239   8.119433  3.105472  14.518423  19.591617  10.691842  3.273867   \n",
       "1  16.894976   9.574524  4.628083  12.794022  13.108367   9.132113  4.364495   \n",
       "2  12.252296  10.809598  4.936411  16.319738  14.705365  11.469874  6.142184   \n",
       "3  14.585980   8.899165  3.178574  14.738149  16.379254   8.248370  3.037614   \n",
       "4  25.209665   7.927749  7.521238  18.097908  18.517802  10.263449  5.708107   \n",
       "\n",
       "     O2_beta  \n",
       "0  17.650934  \n",
       "1  14.571379  \n",
       "2  17.383304  \n",
       "3  17.671187  \n",
       "4  19.779755  \n",
       "\n",
       "[5 rows x 68 columns]"
      ]
     },
     "execution_count": 4,
     "metadata": {},
     "output_type": "execute_result"
    }
   ],
   "source": [
    "file_path = \"Data\\\\Masters_testing\\\\P002\\\\ml_input_output.csv\"\n",
    "\n",
    "# Load the data\n",
    "data = pd.read_csv(file_path)\n",
    "data.head()"
   ]
  },
  {
   "cell_type": "code",
   "execution_count": null,
   "metadata": {},
   "outputs": [],
   "source": [
    "# for an 80/20 split\n",
    "n_train = "
   ]
  },
  {
   "cell_type": "markdown",
   "metadata": {},
   "source": [
    "# SVM Info\n",
    "\n",
    "As other classifiers, SVC, NuSVC and LinearSVC take as input two arrays: an array X of shape (n_samples, n_features) holding the training samples, \n",
    "and an array y of class labels (strings or integers), of shape (n_samples):\n",
    "\n",
    "Support Vector Machine algorithms are not scale invariant, so it is highly recommended to scale your data. For example, scale each attribute on the input vector X to [0,1] or [-1,+1],\n",
    "or standardize it to have mean 0 and variance 1. Note that the same scaling must be applied to the test vector to obtain meaningful results. This can be done easily by using a Pipeline"
   ]
  },
  {
   "cell_type": "code",
   "execution_count": null,
   "metadata": {},
   "outputs": [],
   "source": []
  }
 ],
 "metadata": {
  "kernelspec": {
   "display_name": "bessy",
   "language": "python",
   "name": "python3"
  },
  "language_info": {
   "codemirror_mode": {
    "name": "ipython",
    "version": 3
   },
   "file_extension": ".py",
   "mimetype": "text/x-python",
   "name": "python",
   "nbconvert_exporter": "python",
   "pygments_lexer": "ipython3",
   "version": "3.13.2"
  }
 },
 "nbformat": 4,
 "nbformat_minor": 2
}

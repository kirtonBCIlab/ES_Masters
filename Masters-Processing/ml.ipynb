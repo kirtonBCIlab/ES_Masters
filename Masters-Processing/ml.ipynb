{
 "cells": [
  {
   "cell_type": "markdown",
   "metadata": {},
   "source": [
    "# Import Libraries"
   ]
  },
  {
   "cell_type": "code",
   "execution_count": 4,
   "metadata": {},
   "outputs": [],
   "source": [
    "import numpy as np\n",
    "import json"
   ]
  },
  {
   "cell_type": "markdown",
   "metadata": {},
   "source": [
    "# Import Data\n",
    "- import pre-processedd data\n",
    "- import z scores\n",
    "- import comfort scores\n"
   ]
  },
  {
   "cell_type": "markdown",
   "metadata": {},
   "source": [
    "# SVM Info\n",
    "\n",
    "As other classifiers, SVC, NuSVC and LinearSVC take as input two arrays: an array X of shape (n_samples, n_features) holding the training samples, \n",
    "and an array y of class labels (strings or integers), of shape (n_samples):\n",
    "\n",
    "Support Vector Machine algorithms are not scale invariant, so it is highly recommended to scale your data. For example, scale each attribute on the input vector X to [0,1] or [-1,+1],\n",
    "or standardize it to have mean 0 and variance 1. Note that the same scaling must be applied to the test vector to obtain meaningful results. This can be done easily by using a Pipeline"
   ]
  },
  {
   "cell_type": "code",
   "execution_count": null,
   "metadata": {},
   "outputs": [],
   "source": [
    "import numpy as np\n",
    "import pandas as pd\n",
    "from sklearn.model_selection import train_test_split, cross_val_predict\n",
    "from sklearn.preprocessing import StandardScaler\n",
    "from sklearn.svm import SVR\n",
    "from sklearn.metrics import mean_squared_error\n",
    "\n",
    "# Simulate example dataset\n",
    "data = pd.DataFrame({\n",
    "    \"Epoch_Features\": [np.random.rand(32, 1280) for _ in range(24)],  # 32 channels, 1280 time points (sampling rate = 128 * 10 for 10 sec)\n",
    "    \"Size\": [1, 1, 1, 1, 2, 2, 2, 2, 3, 3, 3, 3, 1, 1, 1, 1, 2, 2, 2, 2, 3, 3, 3, 3], \n",
    "    \"Contrast\": [1, 2, 3, 4, 1, 2, 3, 4, 1, 2, 3, 4, 1, 2, 3, 4, 1, 2, 3, 4, 1, 2, 3, 4],  \n",
    "    \"Comfort_Score\": [2, 3, 4, 7, 2, 4, 6, 7, 2, 4, 5, 7, 2, 3, 4, 6, 2, 4, 6, 7, 4, 4, 5, 7],  \n",
    "    \"Z_Score\": [2.1, 3, 2.2, 2.2, 2.2, 2.1, 1.5, 1, 3, 3, 4, 2.1, 2.1, 3, 2.2, 2.2, 2.2, 2.1, 1.5, 1, 3, 3, 4, 2.1]  \n",
    "})\n",
    "\n",
    "# Filter by Z-Score\n",
    "filtered_data = data[data['Z_Score'] > 2.0]\n",
    "\n",
    "# Flatten EEG features\n",
    "flattened_features = np.array([epoch.flatten() for epoch in filtered_data['Epoch_Features']])\n",
    "\n",
    "# Combine features\n",
    "X = np.hstack([\n",
    "    flattened_features,\n",
    "    filtered_data[['Size', 'Contrast']].values\n",
    "])\n",
    "y = filtered_data['Comfort_Score'].values\n",
    "\n",
    "# Standardize features\n",
    "scaler = StandardScaler()\n",
    "X_scaled = scaler.fit_transform(X)\n",
    "\n",
    "# Train-test split (to retain indices for Size/Contrast output)\n",
    "X_train, X_test, y_train, y_test, train_indices, test_indices = train_test_split(\n",
    "    X_scaled, y, range(len(y)), test_size=0.2, random_state=42\n",
    ")\n",
    "\n",
    "# Get the corresponding Size and Contrast for the test set using test_indices\n",
    "test_data = filtered_data.iloc[test_indices]\n",
    "test_sizes = test_data['Size'].values\n",
    "test_contrasts = test_data['Contrast'].values\n",
    "\n",
    "# Define SVM model\n",
    "model = SVR(kernel='rbf', C=1.0, gamma='scale')\n",
    "\n",
    "# Cross-validation prediction\n",
    "y_pred_cv = cross_val_predict(model, X_scaled, y, cv=10)  # 10-fold cross-validation\n",
    "\n",
    "# Extract predictions only for the test set\n",
    "y_pred_test = y_pred_cv[test_indices]\n",
    "\n",
    "# Print out the Size, Contrast, and Prediction for each test epoch\n",
    "for i in range(len(y_pred_test)):\n",
    "    print(f\"Prediction: {y_pred_test[i]}, Size: {test_sizes[i]}, Contrast: {test_contrasts[i]}\")\n",
    "\n",
    "# Calculate RMSE for the cross-validation predictions on the test set\n",
    "rmse_cv = np.sqrt(mean_squared_error(y_test, y_pred_test))\n",
    "print(f\"RMSE (Cross-Validation): {rmse_cv}\")\n",
    "\n",
    "print(f\"Training epochs: {len(X_train)}\")\n",
    "print(f\"Testing epochs: {len(X_test)}\")\n"
   ]
  }
 ],
 "metadata": {
  "kernelspec": {
   "display_name": "bci",
   "language": "python",
   "name": "python3"
  },
  "language_info": {
   "codemirror_mode": {
    "name": "ipython",
    "version": 3
   },
   "file_extension": ".py",
   "mimetype": "text/x-python",
   "name": "python",
   "nbconvert_exporter": "python",
   "pygments_lexer": "ipython3",
   "version": "3.10.14"
  }
 },
 "nbformat": 4,
 "nbformat_minor": 2
}

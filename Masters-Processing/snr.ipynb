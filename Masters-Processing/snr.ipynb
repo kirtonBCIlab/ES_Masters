{
 "cells": [
  {
   "cell_type": "markdown",
   "metadata": {},
   "source": [
    "# Compute the SNR of pilot data\n",
    "\n",
    "## Goals:\n",
    "1. Import the preprocessed data from npz and json files\n",
    "2. Calculate the Signal-to-Noise Ratio (SNR) for each epoch (for use in stats)\n",
    "3. Export the SNR\n"
   ]
  },
  {
   "cell_type": "markdown",
   "metadata": {},
   "source": [
    "# Import Libraries"
   ]
  },
  {
   "cell_type": "code",
   "execution_count": 1,
   "metadata": {},
   "outputs": [],
   "source": [
    "# Standard libraries\n",
    "import json\n",
    "import numpy as np\n",
    "import pandas as pd\n",
    "import scipy.signal as signal\n",
    "import matplotlib.pyplot as plt\n",
    "\n",
    "# Custom libraries\n",
    "from Functions import processing\n",
    "\n",
    "%matplotlib qt"
   ]
  },
  {
   "cell_type": "markdown",
   "metadata": {},
   "source": [
    "# Import Epoched Data and Settings"
   ]
  },
  {
   "cell_type": "code",
   "execution_count": 2,
   "metadata": {},
   "outputs": [],
   "source": [
    "# Load list of files to import\n",
    "files = [  \n",
    "    \"sub-P001_ses-S001_task-T1_run-001_eeg\"   \n",
    "]\n",
    "\n",
    "# Get unique subject IDs\n",
    "subject_ids = [file.split('_')[0] for file in files]\n",
    "unique_subject_ids = list(set(subject_ids))\n",
    "\n",
    "# Preallocate variables to store EEG data and settings\n",
    "eeg_epochs = [None] * len(files)\n",
    "settings = [None] * len(files)\n",
    "rs_open_data = [None] * len(files)\n",
    "\n",
    "# Import data\n",
    "for f, file in enumerate(files):\n",
    "    # Import EEG data, since it is stored in a compressed numpy file (.npz) we need to use the np.load function \n",
    "    loaded_data = np.load(f\"Data\\\\Masters_testing\\\\{file}.npz\", allow_pickle=True)\n",
    "\n",
    "    # Access the data for each stimulus\n",
    "    eeg_epochs[f] = {stim_label: loaded_data[stim_label] for stim_label in loaded_data.files}\n",
    "\n",
    "    # Import settings\n",
    "    with open(f\"Data\\\\Masters_testing\\\\{file}.json\", \"r\") as file_object:\n",
    "        settings[f] = json.load(file_object)\n",
    "\n",
    "    # Import RS eyes open data\n",
    "    rs_open_data[f] = np.load(f\"Data\\\\Masters_testing\\\\{file}_open.npy\", allow_pickle=True)"
   ]
  },
  {
   "cell_type": "markdown",
   "metadata": {},
   "source": [
    "# Calculate PSD of all Epochs"
   ]
  },
  {
   "cell_type": "code",
   "execution_count": 3,
   "metadata": {},
   "outputs": [],
   "source": [
    "# PSD settings\n",
    "window_size = 10  # 10 = 0.1 Hz resolution, 5 = 0.2 Hz resolution, 2 = 0.5 Hz resolution\n",
    "\n",
    "# Preallocate variables\n",
    "eeg_f = [None] * len(files)\n",
    "eeg_pxx = [None] * len(files)  # Preallocate to list in case not all files have the same number of channels\n",
    "\n",
    "# Compute PSD for each file\n",
    "for f, file in enumerate(files):\n",
    "    eeg_f[f] = {}\n",
    "    eeg_pxx[f] = {}\n",
    "\n",
    "    # Compute PSD for each stimulus\n",
    "    for stim_label, epochs in eeg_epochs[f].items():\n",
    "        eeg_f[f][stim_label] = []\n",
    "        eeg_pxx[f][stim_label] = []\n",
    "\n",
    "        # Compute PSD for each epoch\n",
    "        for epoch in epochs:\n",
    "            f_values, pxx_values = signal.welch(\n",
    "                x=epoch,\n",
    "                fs=settings[f][\"eeg_srate\"],\n",
    "                nperseg=window_size * settings[f][\"eeg_srate\"],\n",
    "                noverlap= (window_size * settings[f][\"eeg_srate\"]) * 0.5,  # 50% overlap between windows\n",
    "            )\n",
    "            eeg_f[f][stim_label].append(f_values)\n",
    "            eeg_pxx[f][stim_label].append(pxx_values)\n",
    "\n",
    "        # Convert lists to arrays for consistency\n",
    "        eeg_f[f][stim_label] = np.array(eeg_f[f][stim_label])\n",
    "        eeg_pxx[f][stim_label] = np.array(eeg_pxx[f][stim_label])"
   ]
  },
  {
   "cell_type": "markdown",
   "metadata": {},
   "source": [
    "# Compute SNR for all Epochs\n",
    "- SNR is calculated for each epoch and then averaged per stimulus"
   ]
  },
  {
   "cell_type": "code",
   "execution_count": 4,
   "metadata": {},
   "outputs": [],
   "source": [
    "# Settings\n",
    "noise_band = 1    # Single-sided noise band [Hz]\n",
    "nharms = 1        # Number of harmonics used\n",
    "db_out = True     # Boolean to get output in dB\n",
    "stim_freq = 10.0  # Example frequency, replace with your actual frequency\n",
    "\n",
    "# Preallocate variables\n",
    "snr = [None] * len(files)\n",
    "epoch_count_snr = {}\n",
    "epochs_snr = []\n",
    "\n",
    "# Determine the number of epochs for each stimulus\n",
    "for stim_idx, stim_label in settings[0][\"stimuli\"].items():  # Get labels from settings\n",
    "    epoch_count_snr[stim_label] = eeg_pxx[0][stim_label].shape[0]\n",
    "\n",
    "for f0, _ in enumerate(files):\n",
    "    stim_labels = list(settings[f0][\"stimuli\"].values())\n",
    "    temp_snr = np.zeros([len(stim_labels), len(settings[f0][\"new_ch_names\"])])\n",
    "\n",
    "    # Compute SNR per stimulus\n",
    "    for stim_idx, stim_label in settings[f0][\"stimuli\"].items():\n",
    "        s = stim_labels.index(stim_label)  # Get index based on order in settings[f0][\"stimuli\"]\n",
    "\n",
    "        for epoch in range(epoch_count_snr[stim_label]):\n",
    "            snr_value = processing.ssvep_snr(\n",
    "                f=eeg_f[f0][stim_label][epoch],  \n",
    "                pxx=eeg_pxx[f0][stim_label][epoch, :, :], \n",
    "                stim_freq=stim_freq,\n",
    "                noise_band=noise_band,\n",
    "                nharms=nharms,\n",
    "                db_out=db_out\n",
    "            )\n",
    "\n",
    "            epochs_snr.append(snr_value)\n",
    "\n",
    "        temp_snr[s,:] = np.mean(np.array(epochs_snr), axis=0)\n",
    "\n",
    "# Save temp SNR value\n",
    "snr[f0] = temp_snr"
   ]
  },
  {
   "cell_type": "markdown",
   "metadata": {},
   "source": [
    "# Export SNR"
   ]
  },
  {
   "cell_type": "code",
   "execution_count": null,
   "metadata": {},
   "outputs": [],
   "source": [
    "save_snr = False   # Boolean to save SNRs to CSV\n",
    "\n",
    "# Preallocate empty list to store all dataFrames\n",
    "dfs = []\n",
    "\n",
    "for f0, file in enumerate(files):\n",
    "    # Preallocate variables\n",
    "    col_names = []\n",
    "\n",
    "    # Get the shape of the snr matrix for the current file\n",
    "    snr_shape = snr[f0].shape\n",
    "    temp_snr = np.zeros((len(settings[f0]['new_ch_names']), len(settings[f0][\"stimuli\"])))\n",
    "\n",
    "    col_idx = 0\n",
    "    # Loop through stimuli to fill the SNR matrix\n",
    "    for s, stimuli in settings[f0][\"stimuli\"].items():\n",
    "        if int(s) < snr_shape[0]:\n",
    "            temp_snr[:, col_idx] = snr[f0][int(s), :]\n",
    "            col_names.append(f\"{stimuli}\")\n",
    "            col_idx += 1\n",
    "        else:\n",
    "            print(f\"Stimulus index {s} is out of bounds for snr[f0].shape[0]: {snr_shape[0]}\")\n",
    "\n",
    "    # Prepare the row names using the new channel names\n",
    "    row_names = [f\"{file.split('_')[0]} - {channel}\" for channel in settings[f0]['new_ch_names']]\n",
    "\n",
    "    # Create DataFrame for the file\n",
    "    dfs.append(\n",
    "        pd.DataFrame(\n",
    "            data=temp_snr,  \n",
    "            columns=col_names,\n",
    "            index=row_names\n",
    "        )\n",
    "    )\n",
    "\n",
    "# Concatenate all DataFrames\n",
    "snr_df = pd.concat(dfs)\n",
    "\n",
    "# Save SNRs to CSV\n",
    "if save_snr:\n",
    "    snr_df.to_csv(\"Data\\\\Masters_testing\\\\snr_results_test2.csv\")\n"
   ]
  }
 ],
 "metadata": {
  "kernelspec": {
   "display_name": "bci",
   "language": "python",
   "name": "python3"
  },
  "language_info": {
   "codemirror_mode": {
    "name": "ipython",
    "version": 3
   },
   "file_extension": ".py",
   "mimetype": "text/x-python",
   "name": "python",
   "nbconvert_exporter": "python",
   "pygments_lexer": "ipython3",
   "version": "3.10.14"
  }
 },
 "nbformat": 4,
 "nbformat_minor": 2
}

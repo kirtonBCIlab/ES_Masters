{
 "cells": [
  {
   "cell_type": "markdown",
   "id": "3b6fda89",
   "metadata": {},
   "source": [
    "# Import Libraries"
   ]
  },
  {
   "cell_type": "code",
   "execution_count": 1,
   "id": "7e6a34a8",
   "metadata": {},
   "outputs": [],
   "source": [
    "# Standard libraries\n",
    "import json\n",
    "import numpy as np\n",
    "import pandas as pd\n",
    "import scipy.signal as signal\n",
    "from scipy.fft import fft, fftfreq\n",
    "import matplotlib.pyplot as plt\n",
    "\n",
    "# Custom libraries\n",
    "from Functions import processing\n",
    "\n",
    "# Enable interactive plots\n",
    "%matplotlib qt"
   ]
  },
  {
   "cell_type": "markdown",
   "id": "912293d4",
   "metadata": {},
   "source": [
    "# Import epoched data and settings"
   ]
  },
  {
   "cell_type": "code",
   "execution_count": 2,
   "id": "2da78e5d",
   "metadata": {},
   "outputs": [],
   "source": [
    "# Load list of files to import\n",
    "files = [  \n",
    "    \"sub-P003_ses-S001_task-T1_run-001_eeg\"\n",
    "]\n",
    "\n",
    "# Get unique subject IDs\n",
    "subject_ids = [file.split('_')[0] for file in files]\n",
    "unique_subject_ids = list(set(subject_ids))\n",
    "\n",
    "# Preallocate variables to store EEG data and settings\n",
    "eeg_epochs = [None] * len(files)\n",
    "settings = [None] * len(files)\n",
    "\n",
    "# Import data\n",
    "for f, file in enumerate(files):\n",
    "    # Import EEG data, since it is stored in a compressed numpy file (.npz) we need to use the np.load function \n",
    "    loaded_data = np.load(f\"Data\\\\Pilot2\\\\EEG\\\\sub-P003\\\\ses-S001\\\\eeg\\\\{file}.npz\", allow_pickle=True)\n",
    "\n",
    "    # Access the data for each stimulus\n",
    "    eeg_epochs[f] = {stim_label: loaded_data[stim_label] for stim_label in loaded_data.files}\n",
    "\n",
    "    # Import settings\n",
    "    with open(f\"Data\\\\Pilot2\\\\EEG\\\\sub-P003\\\\ses-S001\\\\eeg\\\\{file}.json\", \"r\") as file_object:\n",
    "        settings[f] = json.load(file_object)"
   ]
  },
  {
   "cell_type": "markdown",
   "id": "ce34f2d8",
   "metadata": {},
   "source": [
    "# Calculate the amplitude"
   ]
  },
  {
   "cell_type": "code",
   "execution_count": null,
   "id": "f5089768",
   "metadata": {},
   "outputs": [],
   "source": [
    "window_size = 5  # Still used to define epoch size in seconds\n",
    "\n",
    "# Preallocate variables\n",
    "eeg_f = [None] * len(files)\n",
    "eeg_amp = [None] * len(files)  # Store normalized amplitude\n",
    "\n",
    "for f, file in enumerate(files):\n",
    "    eeg_f[f] = {}\n",
    "    eeg_amp[f] = {}\n",
    "\n",
    "    for stim_label, epochs in eeg_epochs[f].items():\n",
    "        eeg_f[f][stim_label] = []\n",
    "        eeg_amp[f][stim_label] = []\n",
    "\n",
    "        for epoch in epochs:\n",
    "            # FFT requires 1D array; apply FFT per channel if needed\n",
    "            if epoch.ndim == 2:  # channels x time\n",
    "                amp_list = []\n",
    "                freq_list = []\n",
    "                for ch in epoch:\n",
    "                    fft_vals = np.fft.fft(ch)\n",
    "                    freqs = np.fft.fftfreq(len(ch), d=1/settings[f][\"eeg_srate\"])\n",
    "                    \n",
    "                    # Keep only the positive frequencies\n",
    "                    idxs = freqs > 0\n",
    "                    fft_magnitude = np.abs(fft_vals[idxs])\n",
    "                    fft_magnitude /= np.sum(fft_magnitude)  # Normalize\n",
    "                    \n",
    "                    amp_list.append(fft_magnitude)\n",
    "                    freq_list = freqs[idxs]  # same for all channels\n",
    "                eeg_f[f][stim_label].append(freq_list)\n",
    "                eeg_amp[f][stim_label].append(np.array(amp_list))\n",
    "            else:\n",
    "                # Single-channel data\n",
    "                fft_vals = np.fft.fft(epoch)\n",
    "                freqs = np.fft.fftfreq(len(epoch), d=1/settings[f][\"eeg_srate\"])\n",
    "                idxs = freqs > 0\n",
    "                fft_magnitude = np.abs(fft_vals[idxs])\n",
    "                fft_magnitude /= np.sum(fft_magnitude)  # Normalize\n",
    "\n",
    "                eeg_f[f][stim_label].append(freqs[idxs])\n",
    "                eeg_amp[f][stim_label].append(fft_magnitude)\n",
    "\n",
    "        eeg_f[f][stim_label] = np.array(eeg_f[f][stim_label])\n",
    "        eeg_amp[f][stim_label] = np.array(eeg_amp[f][stim_label])\n"
   ]
  },
  {
   "cell_type": "markdown",
   "id": "575c833e",
   "metadata": {},
   "source": [
    "# Plot"
   ]
  },
  {
   "cell_type": "code",
   "execution_count": 4,
   "id": "13c67864",
   "metadata": {},
   "outputs": [],
   "source": [
    "plot_amp = True  # Enable to see plots\n",
    "f_limits = [5, 35]  # Frequency limits for the plots [min, max][Hz]\n",
    "file_to_plot = 0    # Select index of file to be plotted\n",
    "num_stimuli = 12    # Number of stimuli\n",
    "\n",
    "if plot_amp:\n",
    "    fig, axes = plt.subplots(3, 4, figsize=(15, 10))\n",
    "    fig.suptitle(f'Normalized FFT Amplitude for All Stimuli in File: {files[file_to_plot]}')\n",
    "    axes = axes.flatten()\n",
    "\n",
    "    for stim_idx in range(num_stimuli):\n",
    "        stim_label = list(eeg_f[file_to_plot].keys())[stim_idx]\n",
    "        \n",
    "        # Extract frequency mask for plotting\n",
    "        f_values = eeg_f[file_to_plot][stim_label][0]\n",
    "        fmask = (f_values >= f_limits[0]) & (f_values <= f_limits[1])\n",
    "        temp_freq = f_values[fmask]\n",
    "        \n",
    "        for epoch_idx, epoch_amp in enumerate(eeg_amp[file_to_plot][stim_label]):\n",
    "            # epoch_amp shape: (n_channels, n_freqs) or (n_freqs,) if single-channel\n",
    "            if epoch_amp.ndim == 2:\n",
    "                # Optionally average across channels, or pick a specific channel\n",
    "                avg_amp = epoch_amp.mean(axis=0)[fmask]\n",
    "            else:\n",
    "                avg_amp = epoch_amp[fmask]\n",
    "\n",
    "            axes[stim_idx].plot(temp_freq, avg_amp, label=f'Epoch {epoch_idx+1}')\n",
    "\n",
    "        axes[stim_idx].set_title(f'Stimulus: {stim_label}')\n",
    "        axes[stim_idx].set_xlim(f_limits)\n",
    "        axes[stim_idx].set_ylabel(\"Normalized Amplitude\")\n",
    "\n",
    "        if stim_idx >= 8:\n",
    "            axes[stim_idx].set_xlabel(\"Frequency [Hz]\")\n",
    "\n",
    "        axes[stim_idx].legend()\n",
    "\n",
    "    plt.tight_layout(rect=[0, 0, 1, 0.96])\n",
    "    plt.show()\n"
   ]
  }
 ],
 "metadata": {
  "kernelspec": {
   "display_name": "bessy",
   "language": "python",
   "name": "python3"
  },
  "language_info": {
   "codemirror_mode": {
    "name": "ipython",
    "version": 3
   },
   "file_extension": ".py",
   "mimetype": "text/x-python",
   "name": "python",
   "nbconvert_exporter": "python",
   "pygments_lexer": "ipython3",
   "version": "3.13.2"
  }
 },
 "nbformat": 4,
 "nbformat_minor": 5
}
